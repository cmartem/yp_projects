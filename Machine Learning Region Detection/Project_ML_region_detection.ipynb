{
 "cells": [
  {
   "cell_type": "markdown",
   "metadata": {},
   "source": [
    "# Выбор локации для скважины"
   ]
  },
  {
   "cell_type": "markdown",
   "metadata": {},
   "source": [
    "<div class=\"alert alert-info\">\n",
    "Привет! Меня зовут Никита Мишин и я буду твоим ревьюером по этому проекты.\n",
    "Для простоты предлагаю общение на 'ты'. Буду предполагать, что ты не против:) \n",
    "Если более предпочтительно обращение на 'Вы', пиши, не стесняйся.\n",
    "Также если будут возникать вопросы, аналогично, пиши:)\n",
    "\n",
    "Предлагаю работать в известном тебе итеративном формате.\n",
    "Итерация состоит в моей проверке твоего решения. \n",
    "После решения могут остаться какие-то недочеты, которые я попрошу тебя устранить, ты их исправляешь и я проверяю твои решения.\n",
    "    Оставленные мною комментарии могут быть разного вида:\n",
    "   \n",
    "    - зеленый: элегантные решения, которые тебе стоит запомнит и в дальнейшем взять на вооружение:) \n",
    "    \n",
    "    - желтый: сигнал о том, что есть некритичная вещь(не всегда ошибка), что нужно точно поправить в следующей работе, даже желательно в этой (полезно, в первую очередь, для тебя:) ).Также это рекомендации на будущее    \n",
    "\n",
    "    - красный: недочет, который нужно исправить в этой работе, для того, чтобы она была принята\n",
    "    \n",
    "    - синий: полезная информация, доп ресурсы, \"вопросы на подумать\"\n",
    "\n",
    "Также попрошу не удалять мои комментарии:) <a class=\"tocSkip\">\n",
    "</div>"
   ]
  },
  {
   "cell_type": "markdown",
   "metadata": {},
   "source": [
    "**Проект**\n",
    "\n",
    "Нам надо оценить рентабельность скважин одной отечественной кампании. У нас есть данные по 3 месторождениям, в каждом — три скважины. Нам надо оценить, есть ли риск убыточности у этих месторождений. Для оценки привлечём модель линейной регрессии — её проще интерпретировать.\n",
    "\n",
    "Применим метод bootrap, чтобы на небольшой выборке вытянуть лучший вариант. Нам предстоит также\n",
    "высчитать доверительный интервал.\n",
    "\n",
    "\n",
    "**Я почти довольна, но не успеваю написать введение. Вопросы отправила куратору. Мне нравится использовать numpy, но это происходит только в итоге гуглежа. С библиотекой познакомилась, как говорится, в поле.**"
   ]
  },
  {
   "cell_type": "markdown",
   "metadata": {},
   "source": [
    "<div class=\"alert alert-success\">\n",
    "\n",
    "<h1>Комментарий ревьюера <a class=\"tocSkip\"></a></h1>\n",
    "Ок, разберемся!\n",
    "</div>"
   ]
  },
  {
   "cell_type": "markdown",
   "metadata": {},
   "source": [
    "<div class=\"alert alert-success\">\n",
    "\n",
    "<h1>Комментарий ревьюера v4 <a class=\"tocSkip\"></a></h1>\n",
    "Главное, что смогли разобраться:)\n",
    "</div>"
   ]
  },
  {
   "cell_type": "markdown",
   "metadata": {},
   "source": [
    "## Загрузка и подготовка данных"
   ]
  },
  {
   "cell_type": "code",
   "execution_count": 1,
   "metadata": {},
   "outputs": [],
   "source": [
    "import pandas as pd\n",
    "import numpy as np\n",
    "import matplotlib as plt"
   ]
  },
  {
   "cell_type": "code",
   "execution_count": 2,
   "metadata": {},
   "outputs": [],
   "source": [
    "from sklearn.linear_model import LinearRegression\n",
    "from sklearn.metrics import mean_squared_error\n",
    "from math import sqrt\n",
    "from sklearn.model_selection import train_test_split\n",
    "from pandas.plotting import scatter_matrix\n",
    "import matplotlib.mlab as mlab"
   ]
  },
  {
   "cell_type": "code",
   "execution_count": 3,
   "metadata": {},
   "outputs": [],
   "source": [
    "data0 = pd.read_csv('/datasets/geo_data_0.csv')\n",
    "data1 = pd.read_csv('/datasets/geo_data_1.csv')\n",
    "data2 = pd.read_csv('/datasets/geo_data_2.csv')"
   ]
  },
  {
   "cell_type": "markdown",
   "metadata": {},
   "source": [
    "<div class=\"alert alert-warning\">\n",
    "\n",
    "<h1>Комментарий ревьюера <a class=\"tocSkip\"></a></h1>\n",
    "А зачем это вообще?</div>\n",
    "<div class=\"alert alert-info\">\n",
    "\n",
    "<h1>V2 ответ студентки <a class=\"tocSkip\"></a></h1>\n",
    "да, это я пыталась ввести регион в таблицу зачем-то.\n",
    "</div>"
   ]
  },
  {
   "cell_type": "code",
   "execution_count": 4,
   "metadata": {},
   "outputs": [],
   "source": [
    "df = [data0.drop('id', axis=1), data1.drop('id', axis=1), data2.drop('id', axis=1)]"
   ]
  },
  {
   "cell_type": "code",
   "execution_count": 5,
   "metadata": {},
   "outputs": [
    {
     "data": {
      "text/plain": [
       "[             f0        f1        f2     product\n",
       " 0      0.705745 -0.497823  1.221170  105.280062\n",
       " 1      1.334711 -0.340164  4.365080   73.037750\n",
       " 2      1.022732  0.151990  1.419926   85.265647\n",
       " 3     -0.032172  0.139033  2.978566  168.620776\n",
       " 4      1.988431  0.155413  4.751769  154.036647\n",
       " ...         ...       ...       ...         ...\n",
       " 99995  0.971957  0.370953  6.075346  110.744026\n",
       " 99996  1.392429 -0.382606  1.273912  122.346843\n",
       " 99997  1.029585  0.018787 -1.348308   64.375443\n",
       " 99998  0.998163 -0.528582  1.583869   74.040764\n",
       " 99999  1.764754 -0.266417  5.722849  149.633246\n",
       " \n",
       " [100000 rows x 4 columns],\n",
       "               f0         f1        f2     product\n",
       " 0     -15.001348  -8.276000 -0.005876    3.179103\n",
       " 1      14.272088  -3.475083  0.999183   26.953261\n",
       " 2       6.263187  -5.948386  5.001160  134.766305\n",
       " 3     -13.081196 -11.506057  4.999415  137.945408\n",
       " 4      12.702195  -8.147433  5.004363  134.766305\n",
       " ...          ...        ...       ...         ...\n",
       " 99995   9.535637  -6.878139  1.998296   53.906522\n",
       " 99996 -10.160631 -12.558096  5.005581  137.945408\n",
       " 99997  -7.378891  -3.084104  4.998651  137.945408\n",
       " 99998   0.665714  -6.152593  1.000146   30.132364\n",
       " 99999  -3.426139  -7.794274 -0.003299    3.179103\n",
       " \n",
       " [100000 rows x 4 columns],\n",
       "              f0        f1        f2     product\n",
       " 0     -1.146987  0.963328 -0.828965   27.758673\n",
       " 1      0.262778  0.269839 -2.530187   56.069697\n",
       " 2      0.194587  0.289035 -5.586433   62.871910\n",
       " 3      2.236060 -0.553760  0.930038  114.572842\n",
       " 4     -0.515993  1.716266  5.899011  149.600746\n",
       " ...         ...       ...       ...         ...\n",
       " 99995 -1.777037  1.125220  6.263374  172.327046\n",
       " 99996 -1.261523 -0.894828  2.524545  138.748846\n",
       " 99997 -1.199934 -2.957637  5.219411  157.080080\n",
       " 99998 -2.419896  2.417221 -5.548444   51.795253\n",
       " 99999 -2.551421 -2.025625  6.090891  102.775767\n",
       " \n",
       " [100000 rows x 4 columns]]"
      ]
     },
     "execution_count": 5,
     "metadata": {},
     "output_type": "execute_result"
    }
   ],
   "source": [
    "df"
   ]
  },
  {
   "cell_type": "markdown",
   "metadata": {},
   "source": [
    "<div class=\"alert alert-success\">\n",
    "\n",
    "<h1>Комментарий ревьюера <a class=\"tocSkip\"></a></h1>\n",
    "Да,идентификаторы бесполезны для моделей\n",
    "</div>"
   ]
  },
  {
   "cell_type": "code",
   "execution_count": 6,
   "metadata": {},
   "outputs": [
    {
     "data": {
      "image/png": "[encoded data removed]",
      "text/plain": [
       "<Figure size 432x288 with 1 Axes>"
      ]
     },
     "metadata": {
      "needs_background": "light"
     },
     "output_type": "display_data"
    }
   ],
   "source": [
    "for d in df:\n",
    "    bins = 100\n",
    "    d['product'].plot.hist(['product'], bins = bins)"
   ]
  },
  {
   "cell_type": "markdown",
   "metadata": {},
   "source": [
    "<div class=\"alert alert-info\">\n",
    "\n",
    "<h1>Комментарий ревьюера <a class=\"tocSkip\"></a></h1>\n",
    "Не забывай, что данные синтетические</div>\n",
    "<div class=\"alert alert-info\">\n",
    "\n",
    "<h1>V2 student <a class=\"tocSkip\"></a></h1>\n",
    "А, хорошо. Я уже думала, что аномалии.</div>"
   ]
  },
  {
   "cell_type": "code",
   "execution_count": 7,
   "metadata": {},
   "outputs": [
    {
     "name": "stdout",
     "output_type": "stream",
     "text": [
      "<class 'pandas.core.frame.DataFrame'>\n",
      "Int64Index: 0 entries\n",
      "Data columns (total 4 columns):\n",
      "f0         0 non-null float64\n",
      "f1         0 non-null float64\n",
      "f2         0 non-null float64\n",
      "product    0 non-null float64\n",
      "dtypes: float64(4)\n",
      "memory usage: 0.0 bytes\n",
      "None\n",
      "<class 'pandas.core.frame.DataFrame'>\n",
      "Int64Index: 0 entries\n",
      "Data columns (total 4 columns):\n",
      "f0         0 non-null float64\n",
      "f1         0 non-null float64\n",
      "f2         0 non-null float64\n",
      "product    0 non-null float64\n",
      "dtypes: float64(4)\n",
      "memory usage: 0.0 bytes\n",
      "None\n",
      "<class 'pandas.core.frame.DataFrame'>\n",
      "Int64Index: 0 entries\n",
      "Data columns (total 4 columns):\n",
      "f0         0 non-null float64\n",
      "f1         0 non-null float64\n",
      "f2         0 non-null float64\n",
      "product    0 non-null float64\n",
      "dtypes: float64(4)\n",
      "memory usage: 0.0 bytes\n",
      "None\n"
     ]
    }
   ],
   "source": [
    "for d in df:\n",
    "    d_dup = d[d.duplicated()]\n",
    "    print(d_dup.info())"
   ]
  },
  {
   "cell_type": "markdown",
   "metadata": {},
   "source": [
    "<div class=\"alert alert-info\">\n",
    "\n",
    "<h1>Комментарий ревьюера <a class=\"tocSkip\"></a></h1>\n",
    "Полезно было бы еще посмотреть на распределение других признаков, проверить на дубликаты и  вывести матрицу корреляций\n",
    "</div>"
   ]
  },
  {
   "cell_type": "code",
   "execution_count": 8,
   "metadata": {},
   "outputs": [
    {
     "data": {
      "image/png": "[encoded data removed]",
      "text/plain": [
       "<Figure size 432x288 with 1 Axes>"
      ]
     },
     "metadata": {
      "needs_background": "light"
     },
     "output_type": "display_data"
    },
    {
     "data": {
      "image/png": "[encoded data removed]",
      "text/plain": [
       "<Figure size 432x288 with 1 Axes>"
      ]
     },
     "metadata": {
      "needs_background": "light"
     },
     "output_type": "display_data"
    },
    {
     "data": {
      "image/png": "[encoded data removed]",
      "text/plain": [
       "<Figure size 432x288 with 1 Axes>"
      ]
     },
     "metadata": {
      "needs_background": "light"
     },
     "output_type": "display_data"
    }
   ],
   "source": [
    "fs = [['f0', 'f1', 'f2']]\n",
    "for d in df:\n",
    "    for f in fs:\n",
    "        bins = 100\n",
    "        d[f].plot.hist([f], bins = bins)"
   ]
  },
  {
   "cell_type": "markdown",
   "metadata": {},
   "source": [
    "Ощущение, что уже глядя на эти графики, можно было бы сделать выводы про доходность всего. Но не будем доверяться ощущениям.\n",
    "1 месторождение: максимальные выбросы вокруг нуля.\n",
    "2 месторождение (то есть датасет под номером 1): максимальные выбросы чуть правее — м.б. это наш регион.\n",
    "3 месторождение: Максимум — в негативе."
   ]
  },
  {
   "cell_type": "code",
   "execution_count": 9,
   "metadata": {},
   "outputs": [],
   "source": [
    "#for d in df:\n",
    "    #for f in fs:\n",
    "        #dd = pd.DataFrame(columns=[f])\n",
    "        #pd.plotting.scatter_matrix(d, alpha=0.2)\n",
    "#Безумно выглядит"
   ]
  },
  {
   "cell_type": "markdown",
   "metadata": {},
   "source": [
    "## Обучение и проверка модели"
   ]
  },
  {
   "cell_type": "code",
   "execution_count": 10,
   "metadata": {},
   "outputs": [],
   "source": [
    "samples_target = []\n",
    "samples_predictions = []"
   ]
  },
  {
   "cell_type": "code",
   "execution_count": 11,
   "metadata": {},
   "outputs": [
    {
     "name": "stdout",
     "output_type": "stream",
     "text": [
      "0 средний продукт 92.50000000000001 среднеквадратичная ошибка 37.5794217150813\n",
      "1 средний продукт 68.82500000000002 среднеквадратичная ошибка 0.893099286775616\n",
      "2 средний продукт 95.00000000000004 среднеквадратичная ошибка 40.02970873393434\n"
     ]
    }
   ],
   "source": [
    "#Я поняла свою ошибку: пыталась каждый раз вызывать цикл\n",
    "for region in range(len(df)):\n",
    "    data = df[region]\n",
    "    features = data.drop('product', axis=1)\n",
    "    target = data['product']\n",
    "    features_train, features_valid, target_train, target_valid = train_test_split(features, target, test_size = 0.25, random_state = 12345)\n",
    "    model = LinearRegression()\n",
    "    model.fit(features_train, target_train)\n",
    "    predictions = model.predict(features_valid)\n",
    "    samples_target.append(target_valid.reset_index(drop=True))\n",
    "    samples_predictions.append(pd.Series(predictions))\n",
    "    mean_product = target.mean()\n",
    "    rmse = mean_squared_error(target_valid, predictions) ** 0.5\n",
    "    print(region, 'средний продукт', mean_product, 'среднеквадратичная ошибка', rmse)\n",
    "    "
   ]
  },
  {
   "cell_type": "code",
   "execution_count": null,
   "metadata": {},
   "outputs": [],
   "source": []
  },
  {
   "cell_type": "markdown",
   "metadata": {},
   "source": [
    "<div class=\"alert alert-info\">\n",
    "\n",
    "<h1>Комментарий ревьюера <a class=\"tocSkip\"></a></h1>\n",
    "Все импорты лучше располагать в начале проекта\n",
    "</div>"
   ]
  },
  {
   "cell_type": "code",
   "execution_count": 12,
   "metadata": {},
   "outputs": [
    {
     "data": {
      "text/plain": [
       "{'copy_X': True, 'fit_intercept': True, 'n_jobs': None, 'normalize': False}"
      ]
     },
     "execution_count": 12,
     "metadata": {},
     "output_type": "execute_result"
    }
   ],
   "source": [
    "model.get_params()"
   ]
  },
  {
   "cell_type": "markdown",
   "metadata": {},
   "source": [
    "## Подготовка к расчёту прибыли"
   ]
  },
  {
   "cell_type": "code",
   "execution_count": 13,
   "metadata": {},
   "outputs": [],
   "source": [
    "budget_region = 10000\n",
    "points = 200\n",
    "price_per_unit = 0.45\n",
    "risk = .025"
   ]
  },
  {
   "cell_type": "code",
   "execution_count": 14,
   "metadata": {},
   "outputs": [],
   "source": [
    "def profit(target, predictions):\n",
    "    predictions_rating = predictions.sort_values(ascending=False).head(200)\n",
    "    sample_points = target[predictions_rating.index]\n",
    "    product = sample_points.sum()\n",
    "    revenue = product * price_per_unit\n",
    "    return revenue - budget_region\n",
    "    "
   ]
  },
  {
   "cell_type": "markdown",
   "metadata": {},
   "source": [
    "<div class=\"alert alert-danger\">\n",
    "\n",
    "<h1>Комментарий ревьюера <a class=\"tocSkip\"></a></h1>\n",
    "Что такое budget?+ ты же предикшины уже обернула в серию ранее)</div>\n",
    "<div class=\"alert alert-info\">\n",
    "\n",
    "<div class=\"alert alert-info\">\n",
    "<h1>V2 <a class=\"tocSkip\"></a></h1>\n",
    "Это остатки предыдущего варианта(( Ctrl+Z, видимо, нажала\n",
    "</div>"
   ]
  },
  {
   "cell_type": "markdown",
   "metadata": {},
   "source": [
    "<div class=\"alert alert-info\">\n",
    "<h1>Комментарий ревьюера v2 <a class=\"tocSkip\"></a></h1>\n",
    "Бывает:)</div>"
   ]
  },
  {
   "cell_type": "code",
   "execution_count": 15,
   "metadata": {},
   "outputs": [
    {
     "name": "stdout",
     "output_type": "stream",
     "text": [
      "Минимальное среднее количество 111.11111111111111\n"
     ]
    }
   ],
   "source": [
    "total_per_unit = budget_region / points\n",
    "no_profit = total_per_unit / price_per_unit\n",
    "print('Минимальное среднее количество', no_profit)"
   ]
  },
  {
   "cell_type": "markdown",
   "metadata": {},
   "source": [
    "## Расчёт прибыли и рисков "
   ]
  },
  {
   "cell_type": "markdown",
   "metadata": {},
   "source": [
    "Гипотеза: регион под номером 1 (data...1) — подходящий для бурения скважин с точки зрения бизнеса."
   ]
  },
  {
   "cell_type": "code",
   "execution_count": 16,
   "metadata": {
    "scrolled": true
   },
   "outputs": [
    {
     "name": "stdout",
     "output_type": "stream",
     "text": [
      "РЕГИОН 0 ДОВЕРИТЕЛЬНЫЙ ИНТЕРВАЛ (12.948331135114495, 1231.1636057914995)\n",
      "РИСКИ 2.0\n",
      "СРЕДНИЙ ДОХОД 600.7352442611656\n",
      "РЕГИОН 1 ДОВЕРИТЕЛЬНЫЙ ИНТЕРВАЛ (157.98848131991443, 1197.6415874631525)\n",
      "РИСКИ 0.3\n",
      "СРЕДНИЙ ДОХОД 665.2410582210725\n",
      "РЕГИОН 2 ДОВЕРИТЕЛЬНЫЙ ИНТЕРВАЛ (-12.218495237292284, 1230.6444739413173)\n",
      "РИСКИ 3.0\n",
      "СРЕДНИЙ ДОХОД 615.5597228409681\n"
     ]
    }
   ],
   "source": [
    "sample_size = 500\n",
    "boot_size = 1000\n",
    "r = len(df)\n",
    "for region in range(r):\n",
    "    state = np.random.RandomState(12345)\n",
    "    concatenated_target, concatenated_predictions =  samples_target[region],samples_predictions[region]    \n",
    "    profit_values = []\n",
    "    for p in range(boot_size):\n",
    "        target_sample = concatenated_target.sample(sample_size, replace=True,random_state = state)\n",
    "        predictions_sample = concatenated_predictions[target_sample.index]\n",
    "        profit_values.append(profit(target_sample, predictions_sample))\n",
    "    profit_values = pd.Series(profit_values)\n",
    "    mean_profit = profit_values.mean()\n",
    "    conf_int = (profit_values.quantile(0.025), profit_values.quantile(0.975))\n",
    "    neg_profit = ((profit_values < 0).mean() * 100)\n",
    "    profit_values.describe()\n",
    "    print('РЕГИОН', region, 'ДОВЕРИТЕЛЬНЫЙ ИНТЕРВАЛ', conf_int)\n",
    "\n",
    "    print('РИСКИ', neg_profit)\n",
    "\n",
    "    print('СРЕДНИЙ ДОХОД', mean_profit)"
   ]
  },
  {
   "cell_type": "markdown",
   "metadata": {},
   "source": [
    "<div class=\"alert alert-danger\">\n",
    "\n",
    "<h1>Комментарий ревьюера v3<a class=\"tocSkip\"></a></h1>\n",
    "немного напутала, примерно так надо\n",
    "    \n",
    "    for region in range(3):\n",
    "        state = np.random.RandomState(42)\n",
    "        concatenated_target, concatenated_predictions =  samples_target[region],samples_predictions[region]    \n",
    "        profit_values = []\n",
    "        for p in range(boot_size):\n",
    "            target_sample = concatenated_target.sample(sample_size, replace=True,random_state = state)\n",
    "            predictions_sample = concatenated_predictions[target_sample.index]\n",
    "            profit_values.append(profit(target_sample, predictions_sample))\n",
    "        profit_values = pd.Series(profit_values)\n",
    "        mean_profit = profit_values.mean()\n",
    "        conf_int = (profit_values.quantile(0.025), profit_values.quantile(0.975))\n",
    "        neg_profit = ((profit_values < 0).mean() * 100)\n",
    "        profit_values.describe()\n",
    "        \n",
    "        print(conf_int)\n",
    "        \n",
    "        print(neg_profit)\n",
    "        \n",
    "        print(mean_profit)\n",
    "        \n",
    "        print(profit_values.describe())\n",
    "\n",
    "\n",
    "</div>"
   ]
  },
  {
   "cell_type": "code",
   "execution_count": 17,
   "metadata": {},
   "outputs": [
    {
     "data": {
      "text/plain": [
       "Text(0.5, 1.0, 'Распределение дохода')"
      ]
     },
     "execution_count": 17,
     "metadata": {},
     "output_type": "execute_result"
    },
    {
     "data": {
      "image/png": "[encoded data removed]",
      "text/plain": [
       "<Figure size 432x288 with 1 Axes>"
      ]
     },
     "metadata": {
      "needs_background": "light"
     },
     "output_type": "display_data"
    }
   ],
   "source": [
    "profit_values.hist()\n",
    "plt.pyplot.title('Распределение дохода')\n",
    "#Скошен справо"
   ]
  },
  {
   "cell_type": "markdown",
   "metadata": {},
   "source": [
    "<div class=\"alert alert-danger\">\n",
    "\n",
    "<h1>Комментарий ревьюера v2<a class=\"tocSkip\"></a></h1>\n",
    "Уже лучше, но у тебя что-то тут с циклами не так. Кажется, самйы внешний лишний:) И никакого принта не стоит результатов:)</div>"
   ]
  },
  {
   "cell_type": "markdown",
   "metadata": {},
   "source": [
    "<div class=\"alert alert-danger\">\n",
    "\n",
    "<h1>Комментарий ревьюера <a class=\"tocSkip\"></a></h1>\n",
    "У тебя итерирование идет по индесам: for i in range(len(df)) -> i = 0,1 .... len(df)-1\n",
    "    \n",
    "И тебе надо  target = samples_target[i]...\n",
    "\n",
    "Аналогично с predicitons. Тогда все должно заработать;)\n",
    "</div>"
   ]
  },
  {
   "cell_type": "markdown",
   "metadata": {},
   "source": [
    "<div class=\"alert alert-info\">\n",
    "\n",
    "<h1>Комментарий ревьюера  v2<a class=\"tocSkip\"></a></h1>\n",
    "Круто было бы еще визуализировать распределение прибыли;)\n",
    "</div>"
   ]
  },
  {
   "cell_type": "markdown",
   "metadata": {},
   "source": [
    "<div class=\"alert alert-info\">\n",
    "\n",
    "<h1>Комментарий ревьюера <a class=\"tocSkip\"></a></h1>\n",
    "ошибки и как править указал:) Жду исправлений;)</div>"
   ]
  },
  {
   "cell_type": "markdown",
   "metadata": {},
   "source": [
    "**Выводы**  Выберем регион под номером — 1. Риск оценён в 0,3%. Средний доход выше остальных. Доверительный интервал уже."
   ]
  },
  {
   "cell_type": "markdown",
   "metadata": {},
   "source": [
    "<div class=\"alert alert-success\">\n",
    "\n",
    "<h1>Комментарий ревьюера v4 <a class=\"tocSkip\"></a></h1>\n",
    "Успех! Нефтяники озолотятся!\n",
    "</div>"
   ]
  },
  {
   "cell_type": "markdown",
   "metadata": {},
   "source": [
    "## Чек-лист готовности проекта"
   ]
  },
  {
   "cell_type": "markdown",
   "metadata": {},
   "source": [
    "Поставьте 'x' в выполненных пунктах. Далее нажмите Shift+Enter."
   ]
  },
  {
   "cell_type": "markdown",
   "metadata": {},
   "source": [
    "- [x]  Jupyter Notebook открыт\n",
    "- [ ]  Весь код выполняется без ошибок\n",
    "- [ ]  Ячейки с кодом расположены в порядке исполнения\n",
    "- [ ]  Выполнен шаг 1: данные подготовлены\n",
    "- [ ]  Выполнен шаг 2: модели обучены и проверены\n",
    "    - [ ]  Данные корректно разбиты на обучающую и валидационную выборки\n",
    "    - [ ]  Модели обучены, предсказания сделаны\n",
    "    - [ ]  Предсказания и правильные ответы на валидационной выборке сохранены\n",
    "    - [ ]  На экране напечатаны результаты\n",
    "    - [ ]  Сделаны выводы\n",
    "- [ ]  Выполнен шаг 3: проведена подготовка к расчёту прибыли\n",
    "    - [ ]  Для всех ключевых значений созданы константы Python\n",
    "    - [ ]  Посчитано минимальное среднее количество продукта в месторождениях региона, достаточное для разработки\n",
    "    - [ ]  По предыдущему пункту сделаны выводы\n",
    "    - [ ]  Написана функция расчёта прибыли\n",
    "- [ ]  Выполнен шаг 4: посчитаны риски и прибыль\n",
    "    - [ ]  Проведена процедура *Bootstrap*\n",
    "    - [ ]  Все параметры бутстрепа соответствуют условию\n",
    "    - [ ]  Найдены все нужные величины\n",
    "    - [ ]  Предложен регион для разработки месторождения\n",
    "    - [ ]  Выбор региона обоснован"
   ]
  },
  {
   "cell_type": "markdown",
   "metadata": {},
   "source": [
    "<div class=\"alert alert-success\">\n",
    "\n",
    "<h1>Комментарий ревьюера v4 <a class=\"tocSkip\"></a></h1>\n",
    "Удачи в следующих проектах!\n",
    "</div>"
   ]
  },
  {
   "cell_type": "code",
   "execution_count": null,
   "metadata": {},
   "outputs": [],
   "source": []
  }
 ],
 "metadata": {
  "kernelspec": {
   "display_name": "Python 3 (ipykernel)",
   "language": "python",
   "name": "python3"
  },
  "language_info": {
   "codemirror_mode": {
    "name": "ipython",
    "version": 3
   },
   "file_extension": ".py",
   "mimetype": "text/x-python",
   "name": "python",
   "nbconvert_exporter": "python",
   "pygments_lexer": "ipython3",
   "version": "3.9.5"
  },
  "toc": {
   "base_numbering": 1,
   "nav_menu": {},
   "number_sections": true,
   "sideBar": true,
   "skip_h1_title": true,
   "title_cell": "Table of Contents",
   "title_sidebar": "Contents",
   "toc_cell": false,
   "toc_position": {},
   "toc_section_display": true,
   "toc_window_display": false
  }
 },
 "nbformat": 4,
 "nbformat_minor": 2
}
