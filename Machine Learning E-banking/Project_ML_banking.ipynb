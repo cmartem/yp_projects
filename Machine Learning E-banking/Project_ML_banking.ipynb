{
 "cells": [
  {
   "cell_type": "markdown",
   "metadata": {},
   "source": [
    "<div style=\"border:solid green 2px; padding: 20px\">\n",
    "\n",
    "<b>Привет, Екатерина!</b>\n",
    "\n",
    "Меня зовут Ярослав П. и я буду проверять твой проект. Попробую помочь сделать тебе его еще лучше! \n",
    "\n",
    "Предлагаю общаться на «**ты**». Если это неприемлемо, обязательно напиши мне в комментариях — мы перейдем на «**вы**».\n",
    "\n",
    "Ниже ты найдешь мои комментарии - пожалуйста, не перемещай, не изменяй и не удаляй их. Я буду использовать цветовую разметку:\n",
    "\n",
    "<div class=\"alert alert-danger\">\n",
    "<b>Комментарий ревьюера:</b> Так выделены самые важные замечания. Без их отработки проект не будет принят. </div>\n",
    "\n",
    "<div class=\"alert alert-warning\">\n",
    "<b>Комментарий ревьюера:</b> Так выделены небольшие замечания или советы.\n",
    "\n",
    "</div>\n",
    "\n",
    "<div class=\"alert alert-success\">\n",
    "<b>Комментарий ревьюера:</b> Так я выделяю все остальные комментарии.</div>\n",
    "\n",
    "Давай работать над проектом в диалоге: если ты что-то меняешь в проекте или отвечаешь на мои комменатри — пиши об этом. Мне будет легче отследить изменения, если ты выделишь свои комментарии:\n",
    "<div class=\"alert alert-info\"> <b>Комментарий студента:</b> Например, вот так.</div>\n",
    "\n",
    "Всё это поможет выполнить повторную проверку твоего проекта оперативнее. \n",
    "    \n",
    "    \n",
    "### <span style=\"color:orange\">Обратная связь</span><a class=\"tocSkip\">\n",
    "\n",
    "- Постарался оставить побольше комментариев :) Буду рад новым вопросам.\n",
    "    \n",
    "### <span style=\"color:orange\">Обратная связь (v2)</span><a class=\"tocSkip\">\n",
    "\n",
    "- Осталось еще чуть-чуть 😉\n",
    "    \n",
    "### <span style=\"color:orange\">Обратная связь (v3)</span><a class=\"tocSkip\">\n",
    "\n",
    "- Проект отлично доработан, спасибо за уделенное время!\n",
    "    \n",
    "Проект принят, успехов в дальнейшем обучении!\n",
    "    \n",
    "<div class=\"alert alert-info\"> <b>V3:</b> Я докрутила там, где смогла. Один комментарий жёлтым не получилось докрутить в 4 пункте. Я уже довольно много твоего времени заняла, но поскольку я чуть-чуть разобралась, то вопросы появились.\n",
    "    \n",
    "Я привыкла к ощущению незаконченности проектов, поскольку сдаю их по нескольку раз. Но я готова доработать, время пока ещё есть. Пока ты проверяешь, я постараюсь пройти тренажёр 3 спринта. У меня уже съехали мягкие дедлайны. Но пока ещё успеваю.\n",
    "    \n",
    "Кажется.</div>\n",
    "    \n",
    "<div class=\"alert alert-block alert-success\">\n",
    "<b>Комментарий ревьюера (v3)</b>\n",
    "\n",
    "Привет! Вроде, все докручено :) В 4 пункте не понял, про какой комментарий ты говоришь. В любом случае, метрика побита, критических замечаний нет - проект принят! Оставил несколько новых комментариев. Я привыкла к ощущению незаконченности проектов, поскольку сдаю их по нескольку раз. - не согласен с этим. Добработки - это нормально. В этом и прикол (прошу прощения за сленг) нашей, ревьюерской, работы - помочь \"допилить\" проект.\n",
    "\n",
    "</div>\n"
   ]
  },
  {
   "cell_type": "markdown",
   "metadata": {
    "toc": true
   },
   "source": [
    "<h1>Содержание<span class=\"tocSkip\"></span></h1>\n",
    "<div class=\"toc\"><ul class=\"toc-item\"><li><span><a href=\"#Подготовка-данных\" data-toc-modified-id=\"Подготовка-данных-1\"><span class=\"toc-item-num\">1&nbsp;&nbsp;</span>Подготовка данных</a></span></li><li><span><a href=\"#Исследование-задачи\" data-toc-modified-id=\"Исследование-задачи-2\"><span class=\"toc-item-num\">2&nbsp;&nbsp;</span>Исследование задачи</a></span></li><li><span><a href=\"#Трениировка-до-балансировки\" data-toc-modified-id=\"Трениировка-до-балансировки-3\"><span class=\"toc-item-num\">3&nbsp;&nbsp;</span>Трениировка до балансировки</a></span><ul class=\"toc-item\"><li><span><a href=\"#Случайный-лес\" data-toc-modified-id=\"Случайный-лес-3.1\"><span class=\"toc-item-num\">3.1&nbsp;&nbsp;</span>Случайный лес</a></span></li><li><span><a href=\"#Дерево-решений-до-балансировки\" data-toc-modified-id=\"Дерево-решений-до-балансировки-3.2\"><span class=\"toc-item-num\">3.2&nbsp;&nbsp;</span>Дерево решений до балансировки</a></span></li><li><span><a href=\"#Логистическая-регрессия\" data-toc-modified-id=\"Логистическая-регрессия-3.3\"><span class=\"toc-item-num\">3.3&nbsp;&nbsp;</span>Логистическая регрессия</a></span></li></ul></li><li><span><a href=\"#Борьба-с-дисбалансом\" data-toc-modified-id=\"Борьба-с-дисбалансом-4\"><span class=\"toc-item-num\">4&nbsp;&nbsp;</span>Борьба с дисбалансом</a></span><ul class=\"toc-item\"><li><span><a href=\"#Даунсэмплинг\" data-toc-modified-id=\"Даунсэмплинг-4.1\"><span class=\"toc-item-num\">4.1&nbsp;&nbsp;</span>Даунсэмплинг</a></span></li><li><span><a href=\"#Балансировка-Случайного-леса\" data-toc-modified-id=\"Балансировка-Случайного-леса-4.2\"><span class=\"toc-item-num\">4.2&nbsp;&nbsp;</span>Балансировка Случайного леса</a></span></li><li><span><a href=\"#Решающее-дерево---Даунсэмплинг\" data-toc-modified-id=\"Решающее-дерево---Даунсэмплинг-4.3\"><span class=\"toc-item-num\">4.3&nbsp;&nbsp;</span>Решающее дерево - Даунсэмплинг</a></span></li><li><span><a href=\"#Логистическая-регрессия---Даунсэмплинг\" data-toc-modified-id=\"Логистическая-регрессия---Даунсэмплинг-4.4\"><span class=\"toc-item-num\">4.4&nbsp;&nbsp;</span>Логистическая регрессия - Даунсэмплинг</a></span></li><li><span><a href=\"#Апсэмплинг\" data-toc-modified-id=\"Апсэмплинг-4.5\"><span class=\"toc-item-num\">4.5&nbsp;&nbsp;</span>Апсэмплинг</a></span></li><li><span><a href=\"#Случайный-лес---Апсэмплинг\" data-toc-modified-id=\"Случайный-лес---Апсэмплинг-4.6\"><span class=\"toc-item-num\">4.6&nbsp;&nbsp;</span>Случайный лес - Апсэмплинг</a></span></li><li><span><a href=\"#Решающее-дерево---Апсэмплинг\" data-toc-modified-id=\"Решающее-дерево---Апсэмплинг-4.7\"><span class=\"toc-item-num\">4.7&nbsp;&nbsp;</span>Решающее дерево - Апсэмплинг</a></span></li><li><span><a href=\"#Логистическая-регрессия---Апсэмплинг\" data-toc-modified-id=\"Логистическая-регрессия---Апсэмплинг-4.8\"><span class=\"toc-item-num\">4.8&nbsp;&nbsp;</span>Логистическая регрессия - Апсэмплинг</a></span></li></ul></li><li><span><a href=\"#Тестирование-модели\" data-toc-modified-id=\"Тестирование-модели-5\"><span class=\"toc-item-num\">5&nbsp;&nbsp;</span>Тестирование модели</a></span><ul class=\"toc-item\"><li><span><a href=\"#Дерево-решений\" data-toc-modified-id=\"Дерево-решений-5.1\"><span class=\"toc-item-num\">5.1&nbsp;&nbsp;</span>Дерево решений</a></span></li><li><span><a href=\"#Случайный-лес\" data-toc-modified-id=\"Случайный-лес-5.2\"><span class=\"toc-item-num\">5.2&nbsp;&nbsp;</span>Случайный лес</a></span></li><li><span><a href=\"#Логистическая-регрессия\" data-toc-modified-id=\"Логистическая-регрессия-5.3\"><span class=\"toc-item-num\">5.3&nbsp;&nbsp;</span>Логистическая регрессия</a></span></li><li><span><a href=\"#Модель-на-катбуст\" data-toc-modified-id=\"Модель-на-катбуст-5.4\"><span class=\"toc-item-num\">5.4&nbsp;&nbsp;</span>Модель на катбуст</a></span></li></ul></li><li><span><a href=\"#Выводы\" data-toc-modified-id=\"Выводы-6\"><span class=\"toc-item-num\">6&nbsp;&nbsp;</span>Выводы</a></span></li><li><span><a href=\"#Чек-лист-готовности-проекта\" data-toc-modified-id=\"Чек-лист-готовности-проекта-7\"><span class=\"toc-item-num\">7&nbsp;&nbsp;</span>Чек-лист готовности проекта</a></span></li></ul></div>"
   ]
  },
  {
   "cell_type": "markdown",
   "metadata": {},
   "source": [
    "# Отток клиентов"
   ]
  },
  {
   "cell_type": "markdown",
   "metadata": {},
   "source": [
    "Из «Бета-Банка» стали уходить клиенты.Банковские маркетологи посчитали: сохранять текущих клиентов дешевле, чем привлекать новых.\n",
    "\n",
    "Нужно спрогнозировать, уйдёт клиент из банка в ближайшее время или нет. Вам предоставлены исторические данные о поведении клиентов и расторжении договоров с банком. \n",
    "\n",
    "Настроим модель с предельно большим значением *F1*-меры.\n",
    "**В работе будет использоваться простая бинарная классификация**. Бинарные классификационные модели — понятные. Далее цитата, которую я запомнила (если неверная, то поправь): «*в реальном мире кривая PR* (то есть precision-recall) *используется больше, поскольку положительные и отрицательные выборки очень неравномерны. Кривая ROC / AUC не отражает производительность классификатора, но кривая PR может*» [3]. **AUC-ROC хорошо рассказывает о конкретной модели, но кажется, что не очень годен для сравнения моделей**.\n",
    "\n",
    "Источник данных: [https://www.kaggle.com/barelydedicated/bank-customer-churn-modeling](https://www.kaggle.com/barelydedicated/bank-customer-churn-modeling)\n",
    "Среди данных есть категориальные. Их мы переведём в интерпретируемый формат с помощью кодирования. В данном примере мы применим OHE. В будущем для решающего дерева и случайного леса мы будем использовать другие методы кодирования. Деревьям и лесам не очень хорошо тренироваться на бинарных данных. Они как бы вырастут перекошенными в какую-то одну сторону. Там, где категорий будет много, лучше не использовать такое (кажется, в катбуст можно выявить очень легко, какие фичи — важные, а какие не очень. Но это немного в другую сторону замечание.)\n",
    "\n",
    "На полученном датасете можно построить модели — бинарные классификационные.\n",
    "\n",
    "В данных может появиться дисбаланс. Это случается довольно часто. Мы испытаем два метода: уменьшения выборки и увеличения. Бывалые профи в статистике вспомнят метод Монте-Карло — как в случае с любой статистикой. Если я правильно понимаю, работая с размером выборки, мы боремся со смещением данных. Точнее, пытаемся с ним подружиться, в том смысле, что в каком-то приближении или в каком-то отдалении неравномерное и хаотичное распределение наших данных перестаёт влиять на результат.\n",
    "\n",
    "Апсэмплинг я вижу как картины в стиле пуантилизма: надо так отдалиться, чтобы картинка стала понятной. Аналогией для даунсэмплинга я могу только назвать какой-нибудь генетический тест, где, не глядя на человека, мы опять можем получить его «портрет» (может быть, непонятные или неверные аналогии, но мне нужен как-то якорь визуальный). Если есть аналогии получше, то мне интересно.\n",
    "\n",
    "Но вопрос в том, как оптимально изменить размеры выборки.\n",
    "\n",
    "**Дополнительная литература**\n",
    "\n",
    "[0] <a href=https://stackoverflow.com/questions/57986374/how-to-fix-the-error-for-multi-metric-scoring-for-oneclasssvm-and-gridsearchcv>Настройка GridSearchCV</a>\n",
    "\n",
    "[1] <a href=https://ru.xcv.wiki/wiki/F-score>Понятие f-score</a>\n",
    "\n",
    "[2] <a href=http://se.moevm.info/lib/exe/fetch.php/courses:artificial_neural_networks:pr_2.pdf>Векторы.</a> Мне кажется, если я дойду до 3 модуля, то для обработки текстов мне понадобятся векторы. Собственно, я за этим и пришла в Практикум)\n",
    "\n",
    "[3] <a href=https://qastack.ru/stats/210700/how-to-choose-between-roc-auc-and-f1-score>Как выбрать между ROC AUC и F1 баллом?</a>"
   ]
  },
  {
   "cell_type": "markdown",
   "metadata": {},
   "source": [
    "<div class=\"alert alert-block alert-success\">\n",
    "<b>Комментарий ревьюера (v3)</b>\n",
    "\n",
    "«в реальном мире кривая PR (то есть precision-recall) используется больше, поскольку положительные и отрицательные выборки очень неравномерны. - вообще да, очень-очень редко мы имеем дело со сбалансированными метриками. Кривая PR полезная вещь. Кривая ROC / AUC не отражает производительность классификатора, но кривая PR может» [3]. AUC-ROC хорошо рассказывает о конкретной модели, но кажется, что не очень годен для сравнения моделей. - здесь не совсем согласен. precision-recall, и F1 как объединяющая их мера зависят от выбранного порога. Например, порог 0,5 - все, что меньше - идет в 0 класс, все, что больше - 1 класс. По умолчанию как раз этот порог и есть. А вот AUC-ROC уже не зависит от порога. Очень часто мы не знаем, какой порог выберем изначально и будем ли вообще с ним играть. А играть порой приходится, так как стоимость ошибки может быть разной. Например, выберем порог 0,7 - тогда наше количество первого класса уменьшится и мы сможем, к примеру, обзвонить всех таких пользоватей и предложить им скидку, чтоб они от нас не ушли. Но тогда мы может потерять клиентов, у которых вероятность была, к примеру, 0,6. Можем понизить порог, к примеру, 0,3 - тогда кол-во первого класса увеличится. В зависимости от требований бизнеса можем играть с этим порогом. И вот в таком случае искать модели по метрике AUC-ROC очень удобно, так как она не зависит от выбранного порога.\n",
    "\n",
    "Среди данных есть категориальные. Их мы переведём в интерпретируемый формат с помощью кодирования. В данном примере мы применим OHE. В будущем для решающего дерева и случайного леса мы будем использовать другие методы кодирования. Деревьям и лесам не очень хорошо тренироваться на бинарных данных. Они как бы вырастут перекошенными в какую-то одну сторону. Там, где категорий будет много, лучше не использовать такое (кажется, в катбуст можно выявить очень легко, какие фичи — важные, а какие не очень. Но это немного в другую сторону замечание.) - да, но эксперименты никто не отменял. По поводу катбуста - да, там это легко делается. Да и в целом для всех моделей не сложно. По катбусту ниже я оставлю ссылку на туториал, он хороший, советую изучить.\n",
    "\n",
    "Если я правильно понимаю, работая с размером выборки, мы боремся со смещением данных. - да, стараемся сделать их несмещенными. Вообще, апсемплинг и даунсемплинг не очень часто используются, в большинстве случаев обычного взвешивания классов хватает. Есть еще более хитрые алгоритмы апсемплинга, например, SMOTE. Сам не пользовался, но пару раз видел. Не могу ничего сказать про него.\n",
    "\n",
    "Апсэмплинг я вижу как картины в стиле пуантилизма: надо так отдалиться, чтобы картинка стала понятной. Аналогией для даунсэмплинга я могу только назвать какой-нибудь генетический тест, где, не глядя на человека, мы опять можем получить его «портрет» (может быть, непонятные или неверные аналогии, но мне нужен как-то якорь визуальный). Если есть аналогии получше, то мне интересно. - в аналогиях я не силен, прошу прощения :) Да и, на мой взгляд, они тут не сильно нужны. Апсемплингом увеличиваем меньший класс, чтобы он равнялся большему, а даунсемлингом наоборот.\n",
    "\n",
    "Но вопрос в том, как оптимально изменить размеры выборки. - подогнав баланс классов до 40/60 - 50/50.\n",
    "\n",
    "Текста это вообще отдельный разговор :) Целое направление.\n",
    "\n",
    "</div>\n"
   ]
  },
  {
   "cell_type": "markdown",
   "metadata": {},
   "source": [
    "<div class=\"alert alert-block alert-success\">\n",
    "<b>Комментарий ревьюера</b>\n",
    "\n",
    "Ввдение хорошее.\n",
    "\n",
    "</div>\n",
    "\n",
    "<div class=\"alert alert-block alert-warning\">\n",
    "<b>Комментарий ревьюера</b>\n",
    "\n",
    "Также было бы здорово описать данные, с которыми мы работаем.\n",
    "\n",
    "</div>\n",
    "<div class=\"alert alert-info\"> <b>V3:</b> Дополнила введение. Извини за слог. Просто это то, как я понимаю, а я понимаю только на пальцах.</div>\n"
   ]
  },
  {
   "cell_type": "markdown",
   "metadata": {},
   "source": [
    "<div class=\"alert alert-block alert-success\">\n",
    "<b>Комментарий ревьюера (v3)</b>\n",
    "\n",
    "Постарался все прокомментривать 😉\n",
    "\n",
    "</div>\n"
   ]
  },
  {
   "cell_type": "markdown",
   "metadata": {},
   "source": [
    "PS Сорри, я уверена, что придётся кое-что переделывать. 0.59 — это значение, которое хорошо бы получить на тестовой выборке? Я не всегда понимаю задания в проектах.Надеюсь, у Вас будет достаточно времени и терпения, чтобы мы смогли со всем справиться.\n",
    "\n",
    "Если возникли проблемы в самом начале — это из-за доступа к файлу."
   ]
  },
  {
   "cell_type": "markdown",
   "metadata": {},
   "source": [
    "<div class=\"alert alert-block alert-success\">\n",
    "<b>Комментарий ревьюера</b>\n",
    "\n",
    "Принято! Пошел смотреть :) Предлагаю на \"ты\". 0.59 — это значение, которое хорошо бы получить на тестовой выборке - да.\n",
    "\n",
    "</div>\n"
   ]
  },
  {
   "cell_type": "markdown",
   "metadata": {},
   "source": [
    "## Подготовка данных"
   ]
  },
  {
   "cell_type": "code",
   "execution_count": 1,
   "metadata": {},
   "outputs": [
    {
     "name": "stdout",
     "output_type": "stream",
     "text": [
      "Defaulting to user installation because normal site-packages is not writeable\n",
      "Collecting missingno\n",
      "  Downloading missingno-0.4.2-py3-none-any.whl (9.7 kB)\n",
      "Requirement already satisfied: scipy in /opt/conda/lib/python3.7/site-packages (from missingno) (1.4.1)\n",
      "Requirement already satisfied: seaborn in /opt/conda/lib/python3.7/site-packages (from missingno) (0.9.0)\n",
      "Requirement already satisfied: matplotlib in /opt/conda/lib/python3.7/site-packages (from missingno) (3.1.0)\n",
      "Requirement already satisfied: numpy in /opt/conda/lib/python3.7/site-packages (from missingno) (1.19.5)\n",
      "Requirement already satisfied: pandas>=0.15.2 in /home/jovyan/.local/lib/python3.7/site-packages (from seaborn->missingno) (1.2.4)\n",
      "Requirement already satisfied: cycler>=0.10 in /opt/conda/lib/python3.7/site-packages (from matplotlib->missingno) (0.10.0)\n",
      "Requirement already satisfied: kiwisolver>=1.0.1 in /opt/conda/lib/python3.7/site-packages (from matplotlib->missingno) (1.3.1)\n",
      "Requirement already satisfied: pyparsing!=2.0.4,!=2.1.2,!=2.1.6,>=2.0.1 in /opt/conda/lib/python3.7/site-packages (from matplotlib->missingno) (2.4.7)\n",
      "Requirement already satisfied: python-dateutil>=2.1 in /opt/conda/lib/python3.7/site-packages (from matplotlib->missingno) (2.8.1)\n",
      "Requirement already satisfied: pytz>=2017.3 in /opt/conda/lib/python3.7/site-packages (from pandas>=0.15.2->seaborn->missingno) (2021.1)\n",
      "Requirement already satisfied: six in /opt/conda/lib/python3.7/site-packages (from cycler>=0.10->matplotlib->missingno) (1.15.0)\n",
      "Installing collected packages: missingno\n",
      "Successfully installed missingno-0.4.2\n",
      "Defaulting to user installation because normal site-packages is not writeable\n",
      "Collecting scikit-learn==0.22.1\n",
      "  Downloading scikit_learn-0.22.1-cp37-cp37m-manylinux1_x86_64.whl (7.0 MB)\n",
      "\u001b[K     |████████████████████████████████| 7.0 MB 1.1 MB/s eta 0:00:01\n",
      "\u001b[?25hRequirement already satisfied: joblib>=0.11 in /opt/conda/lib/python3.7/site-packages (from scikit-learn==0.22.1) (1.0.1)\n",
      "Requirement already satisfied: numpy>=1.11.0 in /opt/conda/lib/python3.7/site-packages (from scikit-learn==0.22.1) (1.19.5)\n",
      "Requirement already satisfied: scipy>=0.17.0 in /opt/conda/lib/python3.7/site-packages (from scikit-learn==0.22.1) (1.4.1)\n",
      "Installing collected packages: scikit-learn\n",
      "Successfully installed scikit-learn-0.22.1\n"
     ]
    }
   ],
   "source": [
    "import pandas as pd\n",
    "import numpy as np\n",
    "!pip install missingno\n",
    "!pip install scikit-learn==0.22.1\n",
    "from sklearn.model_selection import train_test_split\n",
    "from sklearn.ensemble import RandomForestClassifier\n",
    "from sklearn.linear_model import LogisticRegression\n",
    "from sklearn.tree import DecisionTreeClassifier\n",
    "from sklearn.metrics import accuracy_score"
   ]
  },
  {
   "cell_type": "code",
   "execution_count": 2,
   "metadata": {},
   "outputs": [
    {
     "name": "stderr",
     "output_type": "stream",
     "text": [
      "/opt/conda/lib/python3.7/site-packages/statsmodels/tools/_testing.py:19: FutureWarning: pandas.util.testing is deprecated. Use the functions in the public API at pandas.testing instead.\n",
      "  import pandas.util.testing as tm\n"
     ]
    }
   ],
   "source": [
    "import matplotlib.pyplot as plt\n",
    "from sklearn.metrics import f1_score\n",
    "from IPython.display import display\n",
    "pd.options.display.max_columns = None\n",
    "import missingno as msno"
   ]
  },
  {
   "cell_type": "code",
   "execution_count": 3,
   "metadata": {},
   "outputs": [
    {
     "data": {
      "text/html": [
       "<div>\n",
       "<style scoped>\n",
       "    .dataframe tbody tr th:only-of-type {\n",
       "        vertical-align: middle;\n",
       "    }\n",
       "\n",
       "    .dataframe tbody tr th {\n",
       "        vertical-align: top;\n",
       "    }\n",
       "\n",
       "    .dataframe thead th {\n",
       "        text-align: right;\n",
       "    }\n",
       "</style>\n",
       "<table border=\"1\" class=\"dataframe\">\n",
       "  <thead>\n",
       "    <tr style=\"text-align: right;\">\n",
       "      <th></th>\n",
       "      <th>RowNumber</th>\n",
       "      <th>CustomerId</th>\n",
       "      <th>Surname</th>\n",
       "      <th>CreditScore</th>\n",
       "      <th>Geography</th>\n",
       "      <th>Gender</th>\n",
       "      <th>Age</th>\n",
       "      <th>Tenure</th>\n",
       "      <th>Balance</th>\n",
       "      <th>NumOfProducts</th>\n",
       "      <th>HasCrCard</th>\n",
       "      <th>IsActiveMember</th>\n",
       "      <th>EstimatedSalary</th>\n",
       "      <th>Exited</th>\n",
       "    </tr>\n",
       "  </thead>\n",
       "  <tbody>\n",
       "    <tr>\n",
       "      <th>0</th>\n",
       "      <td>1</td>\n",
       "      <td>15634602</td>\n",
       "      <td>Hargrave</td>\n",
       "      <td>619</td>\n",
       "      <td>France</td>\n",
       "      <td>Female</td>\n",
       "      <td>42</td>\n",
       "      <td>2.0</td>\n",
       "      <td>0.00</td>\n",
       "      <td>1</td>\n",
       "      <td>1</td>\n",
       "      <td>1</td>\n",
       "      <td>101348.88</td>\n",
       "      <td>1</td>\n",
       "    </tr>\n",
       "    <tr>\n",
       "      <th>1</th>\n",
       "      <td>2</td>\n",
       "      <td>15647311</td>\n",
       "      <td>Hill</td>\n",
       "      <td>608</td>\n",
       "      <td>Spain</td>\n",
       "      <td>Female</td>\n",
       "      <td>41</td>\n",
       "      <td>1.0</td>\n",
       "      <td>83807.86</td>\n",
       "      <td>1</td>\n",
       "      <td>0</td>\n",
       "      <td>1</td>\n",
       "      <td>112542.58</td>\n",
       "      <td>0</td>\n",
       "    </tr>\n",
       "    <tr>\n",
       "      <th>2</th>\n",
       "      <td>3</td>\n",
       "      <td>15619304</td>\n",
       "      <td>Onio</td>\n",
       "      <td>502</td>\n",
       "      <td>France</td>\n",
       "      <td>Female</td>\n",
       "      <td>42</td>\n",
       "      <td>8.0</td>\n",
       "      <td>159660.80</td>\n",
       "      <td>3</td>\n",
       "      <td>1</td>\n",
       "      <td>0</td>\n",
       "      <td>113931.57</td>\n",
       "      <td>1</td>\n",
       "    </tr>\n",
       "    <tr>\n",
       "      <th>3</th>\n",
       "      <td>4</td>\n",
       "      <td>15701354</td>\n",
       "      <td>Boni</td>\n",
       "      <td>699</td>\n",
       "      <td>France</td>\n",
       "      <td>Female</td>\n",
       "      <td>39</td>\n",
       "      <td>1.0</td>\n",
       "      <td>0.00</td>\n",
       "      <td>2</td>\n",
       "      <td>0</td>\n",
       "      <td>0</td>\n",
       "      <td>93826.63</td>\n",
       "      <td>0</td>\n",
       "    </tr>\n",
       "    <tr>\n",
       "      <th>4</th>\n",
       "      <td>5</td>\n",
       "      <td>15737888</td>\n",
       "      <td>Mitchell</td>\n",
       "      <td>850</td>\n",
       "      <td>Spain</td>\n",
       "      <td>Female</td>\n",
       "      <td>43</td>\n",
       "      <td>2.0</td>\n",
       "      <td>125510.82</td>\n",
       "      <td>1</td>\n",
       "      <td>1</td>\n",
       "      <td>1</td>\n",
       "      <td>79084.10</td>\n",
       "      <td>0</td>\n",
       "    </tr>\n",
       "  </tbody>\n",
       "</table>\n",
       "</div>"
      ],
      "text/plain": [
       "   RowNumber  CustomerId   Surname  CreditScore Geography  Gender  Age  \\\n",
       "0          1    15634602  Hargrave          619    France  Female   42   \n",
       "1          2    15647311      Hill          608     Spain  Female   41   \n",
       "2          3    15619304      Onio          502    France  Female   42   \n",
       "3          4    15701354      Boni          699    France  Female   39   \n",
       "4          5    15737888  Mitchell          850     Spain  Female   43   \n",
       "\n",
       "   Tenure    Balance  NumOfProducts  HasCrCard  IsActiveMember  \\\n",
       "0     2.0       0.00              1          1               1   \n",
       "1     1.0   83807.86              1          0               1   \n",
       "2     8.0  159660.80              3          1               0   \n",
       "3     1.0       0.00              2          0               0   \n",
       "4     2.0  125510.82              1          1               1   \n",
       "\n",
       "   EstimatedSalary  Exited  \n",
       "0        101348.88       1  \n",
       "1        112542.58       0  \n",
       "2        113931.57       1  \n",
       "3         93826.63       0  \n",
       "4         79084.10       0  "
      ]
     },
     "execution_count": 3,
     "metadata": {},
     "output_type": "execute_result"
    }
   ],
   "source": [
    "data = pd.read_csv('/datasets/Churn.csv')\n",
    "data.head(5)"
   ]
  },
  {
   "cell_type": "code",
   "execution_count": 4,
   "metadata": {},
   "outputs": [
    {
     "data": {
      "text/plain": [
       "Text(0.5, 1.0, 'Полнота данных')"
      ]
     },
     "execution_count": 4,
     "metadata": {},
     "output_type": "execute_result"
    },
    {
     "data": {
      "image/png": "[encoded data removed]",
      "text/plain": [
       "<Figure size 1728x720 with 3 Axes>"
      ]
     },
     "metadata": {
      "needs_background": "light"
     },
     "output_type": "display_data"
    }
   ],
   "source": [
    "data.info\n",
    "msno.bar(data).set_title('Полнота данных')"
   ]
  },
  {
   "cell_type": "code",
   "execution_count": 5,
   "metadata": {},
   "outputs": [
    {
     "data": {
      "text/html": [
       "<div>\n",
       "<style scoped>\n",
       "    .dataframe tbody tr th:only-of-type {\n",
       "        vertical-align: middle;\n",
       "    }\n",
       "\n",
       "    .dataframe tbody tr th {\n",
       "        vertical-align: top;\n",
       "    }\n",
       "\n",
       "    .dataframe thead th {\n",
       "        text-align: right;\n",
       "    }\n",
       "</style>\n",
       "<table border=\"1\" class=\"dataframe\">\n",
       "  <thead>\n",
       "    <tr style=\"text-align: right;\">\n",
       "      <th></th>\n",
       "      <th>RowNumber</th>\n",
       "      <th>CustomerId</th>\n",
       "      <th>CreditScore</th>\n",
       "      <th>Age</th>\n",
       "      <th>Tenure</th>\n",
       "      <th>Balance</th>\n",
       "      <th>NumOfProducts</th>\n",
       "      <th>HasCrCard</th>\n",
       "      <th>IsActiveMember</th>\n",
       "      <th>EstimatedSalary</th>\n",
       "      <th>Exited</th>\n",
       "    </tr>\n",
       "  </thead>\n",
       "  <tbody>\n",
       "    <tr>\n",
       "      <th>count</th>\n",
       "      <td>10000.00000</td>\n",
       "      <td>1.000000e+04</td>\n",
       "      <td>10000.000000</td>\n",
       "      <td>10000.000000</td>\n",
       "      <td>9091.000000</td>\n",
       "      <td>10000.000000</td>\n",
       "      <td>10000.000000</td>\n",
       "      <td>10000.00000</td>\n",
       "      <td>10000.000000</td>\n",
       "      <td>10000.000000</td>\n",
       "      <td>10000.000000</td>\n",
       "    </tr>\n",
       "    <tr>\n",
       "      <th>mean</th>\n",
       "      <td>5000.50000</td>\n",
       "      <td>1.569094e+07</td>\n",
       "      <td>650.528800</td>\n",
       "      <td>38.921800</td>\n",
       "      <td>4.997690</td>\n",
       "      <td>76485.889288</td>\n",
       "      <td>1.530200</td>\n",
       "      <td>0.70550</td>\n",
       "      <td>0.515100</td>\n",
       "      <td>100090.239881</td>\n",
       "      <td>0.203700</td>\n",
       "    </tr>\n",
       "    <tr>\n",
       "      <th>std</th>\n",
       "      <td>2886.89568</td>\n",
       "      <td>7.193619e+04</td>\n",
       "      <td>96.653299</td>\n",
       "      <td>10.487806</td>\n",
       "      <td>2.894723</td>\n",
       "      <td>62397.405202</td>\n",
       "      <td>0.581654</td>\n",
       "      <td>0.45584</td>\n",
       "      <td>0.499797</td>\n",
       "      <td>57510.492818</td>\n",
       "      <td>0.402769</td>\n",
       "    </tr>\n",
       "    <tr>\n",
       "      <th>min</th>\n",
       "      <td>1.00000</td>\n",
       "      <td>1.556570e+07</td>\n",
       "      <td>350.000000</td>\n",
       "      <td>18.000000</td>\n",
       "      <td>0.000000</td>\n",
       "      <td>0.000000</td>\n",
       "      <td>1.000000</td>\n",
       "      <td>0.00000</td>\n",
       "      <td>0.000000</td>\n",
       "      <td>11.580000</td>\n",
       "      <td>0.000000</td>\n",
       "    </tr>\n",
       "    <tr>\n",
       "      <th>25%</th>\n",
       "      <td>2500.75000</td>\n",
       "      <td>1.562853e+07</td>\n",
       "      <td>584.000000</td>\n",
       "      <td>32.000000</td>\n",
       "      <td>2.000000</td>\n",
       "      <td>0.000000</td>\n",
       "      <td>1.000000</td>\n",
       "      <td>0.00000</td>\n",
       "      <td>0.000000</td>\n",
       "      <td>51002.110000</td>\n",
       "      <td>0.000000</td>\n",
       "    </tr>\n",
       "    <tr>\n",
       "      <th>50%</th>\n",
       "      <td>5000.50000</td>\n",
       "      <td>1.569074e+07</td>\n",
       "      <td>652.000000</td>\n",
       "      <td>37.000000</td>\n",
       "      <td>5.000000</td>\n",
       "      <td>97198.540000</td>\n",
       "      <td>1.000000</td>\n",
       "      <td>1.00000</td>\n",
       "      <td>1.000000</td>\n",
       "      <td>100193.915000</td>\n",
       "      <td>0.000000</td>\n",
       "    </tr>\n",
       "    <tr>\n",
       "      <th>75%</th>\n",
       "      <td>7500.25000</td>\n",
       "      <td>1.575323e+07</td>\n",
       "      <td>718.000000</td>\n",
       "      <td>44.000000</td>\n",
       "      <td>7.000000</td>\n",
       "      <td>127644.240000</td>\n",
       "      <td>2.000000</td>\n",
       "      <td>1.00000</td>\n",
       "      <td>1.000000</td>\n",
       "      <td>149388.247500</td>\n",
       "      <td>0.000000</td>\n",
       "    </tr>\n",
       "    <tr>\n",
       "      <th>max</th>\n",
       "      <td>10000.00000</td>\n",
       "      <td>1.581569e+07</td>\n",
       "      <td>850.000000</td>\n",
       "      <td>92.000000</td>\n",
       "      <td>10.000000</td>\n",
       "      <td>250898.090000</td>\n",
       "      <td>4.000000</td>\n",
       "      <td>1.00000</td>\n",
       "      <td>1.000000</td>\n",
       "      <td>199992.480000</td>\n",
       "      <td>1.000000</td>\n",
       "    </tr>\n",
       "  </tbody>\n",
       "</table>\n",
       "</div>"
      ],
      "text/plain": [
       "         RowNumber    CustomerId   CreditScore           Age       Tenure  \\\n",
       "count  10000.00000  1.000000e+04  10000.000000  10000.000000  9091.000000   \n",
       "mean    5000.50000  1.569094e+07    650.528800     38.921800     4.997690   \n",
       "std     2886.89568  7.193619e+04     96.653299     10.487806     2.894723   \n",
       "min        1.00000  1.556570e+07    350.000000     18.000000     0.000000   \n",
       "25%     2500.75000  1.562853e+07    584.000000     32.000000     2.000000   \n",
       "50%     5000.50000  1.569074e+07    652.000000     37.000000     5.000000   \n",
       "75%     7500.25000  1.575323e+07    718.000000     44.000000     7.000000   \n",
       "max    10000.00000  1.581569e+07    850.000000     92.000000    10.000000   \n",
       "\n",
       "             Balance  NumOfProducts    HasCrCard  IsActiveMember  \\\n",
       "count   10000.000000   10000.000000  10000.00000    10000.000000   \n",
       "mean    76485.889288       1.530200      0.70550        0.515100   \n",
       "std     62397.405202       0.581654      0.45584        0.499797   \n",
       "min         0.000000       1.000000      0.00000        0.000000   \n",
       "25%         0.000000       1.000000      0.00000        0.000000   \n",
       "50%     97198.540000       1.000000      1.00000        1.000000   \n",
       "75%    127644.240000       2.000000      1.00000        1.000000   \n",
       "max    250898.090000       4.000000      1.00000        1.000000   \n",
       "\n",
       "       EstimatedSalary        Exited  \n",
       "count     10000.000000  10000.000000  \n",
       "mean     100090.239881      0.203700  \n",
       "std       57510.492818      0.402769  \n",
       "min          11.580000      0.000000  \n",
       "25%       51002.110000      0.000000  \n",
       "50%      100193.915000      0.000000  \n",
       "75%      149388.247500      0.000000  \n",
       "max      199992.480000      1.000000  "
      ]
     },
     "execution_count": 5,
     "metadata": {},
     "output_type": "execute_result"
    }
   ],
   "source": [
    "data.describe()"
   ]
  },
  {
   "cell_type": "code",
   "execution_count": 6,
   "metadata": {},
   "outputs": [
    {
     "name": "stdout",
     "output_type": "stream",
     "text": [
      "RowNumber            int64\n",
      "CustomerId           int64\n",
      "Surname             object\n",
      "CreditScore          int64\n",
      "Geography           object\n",
      "Gender              object\n",
      "Age                  int64\n",
      "Tenure             float64\n",
      "Balance            float64\n",
      "NumOfProducts        int64\n",
      "HasCrCard            int64\n",
      "IsActiveMember       int64\n",
      "EstimatedSalary    float64\n",
      "Exited               int64\n",
      "dtype: object\n"
     ]
    }
   ],
   "source": [
    "pd.reset_option('display.float_format')\n",
    "print(data.dtypes)"
   ]
  },
  {
   "cell_type": "code",
   "execution_count": 7,
   "metadata": {},
   "outputs": [
    {
     "data": {
      "text/html": [
       "<div>\n",
       "<style scoped>\n",
       "    .dataframe tbody tr th:only-of-type {\n",
       "        vertical-align: middle;\n",
       "    }\n",
       "\n",
       "    .dataframe tbody tr th {\n",
       "        vertical-align: top;\n",
       "    }\n",
       "\n",
       "    .dataframe thead th {\n",
       "        text-align: right;\n",
       "    }\n",
       "</style>\n",
       "<table border=\"1\" class=\"dataframe\">\n",
       "  <thead>\n",
       "    <tr style=\"text-align: right;\">\n",
       "      <th></th>\n",
       "      <th>CreditScore</th>\n",
       "      <th>Age</th>\n",
       "      <th>Tenure</th>\n",
       "      <th>Balance</th>\n",
       "      <th>NumOfProducts</th>\n",
       "      <th>HasCrCard</th>\n",
       "      <th>IsActiveMember</th>\n",
       "      <th>EstimatedSalary</th>\n",
       "      <th>Exited</th>\n",
       "    </tr>\n",
       "  </thead>\n",
       "  <tbody>\n",
       "    <tr>\n",
       "      <th>count</th>\n",
       "      <td>10000.000000</td>\n",
       "      <td>10000.000000</td>\n",
       "      <td>9091.000000</td>\n",
       "      <td>10000.000000</td>\n",
       "      <td>10000.000000</td>\n",
       "      <td>10000.00000</td>\n",
       "      <td>10000.000000</td>\n",
       "      <td>10000.000000</td>\n",
       "      <td>10000.000000</td>\n",
       "    </tr>\n",
       "    <tr>\n",
       "      <th>mean</th>\n",
       "      <td>650.528800</td>\n",
       "      <td>38.921800</td>\n",
       "      <td>4.997690</td>\n",
       "      <td>76485.889288</td>\n",
       "      <td>1.530200</td>\n",
       "      <td>0.70550</td>\n",
       "      <td>0.515100</td>\n",
       "      <td>100090.239881</td>\n",
       "      <td>0.203700</td>\n",
       "    </tr>\n",
       "    <tr>\n",
       "      <th>std</th>\n",
       "      <td>96.653299</td>\n",
       "      <td>10.487806</td>\n",
       "      <td>2.894723</td>\n",
       "      <td>62397.405202</td>\n",
       "      <td>0.581654</td>\n",
       "      <td>0.45584</td>\n",
       "      <td>0.499797</td>\n",
       "      <td>57510.492818</td>\n",
       "      <td>0.402769</td>\n",
       "    </tr>\n",
       "    <tr>\n",
       "      <th>min</th>\n",
       "      <td>350.000000</td>\n",
       "      <td>18.000000</td>\n",
       "      <td>0.000000</td>\n",
       "      <td>0.000000</td>\n",
       "      <td>1.000000</td>\n",
       "      <td>0.00000</td>\n",
       "      <td>0.000000</td>\n",
       "      <td>11.580000</td>\n",
       "      <td>0.000000</td>\n",
       "    </tr>\n",
       "    <tr>\n",
       "      <th>25%</th>\n",
       "      <td>584.000000</td>\n",
       "      <td>32.000000</td>\n",
       "      <td>2.000000</td>\n",
       "      <td>0.000000</td>\n",
       "      <td>1.000000</td>\n",
       "      <td>0.00000</td>\n",
       "      <td>0.000000</td>\n",
       "      <td>51002.110000</td>\n",
       "      <td>0.000000</td>\n",
       "    </tr>\n",
       "    <tr>\n",
       "      <th>50%</th>\n",
       "      <td>652.000000</td>\n",
       "      <td>37.000000</td>\n",
       "      <td>5.000000</td>\n",
       "      <td>97198.540000</td>\n",
       "      <td>1.000000</td>\n",
       "      <td>1.00000</td>\n",
       "      <td>1.000000</td>\n",
       "      <td>100193.915000</td>\n",
       "      <td>0.000000</td>\n",
       "    </tr>\n",
       "    <tr>\n",
       "      <th>75%</th>\n",
       "      <td>718.000000</td>\n",
       "      <td>44.000000</td>\n",
       "      <td>7.000000</td>\n",
       "      <td>127644.240000</td>\n",
       "      <td>2.000000</td>\n",
       "      <td>1.00000</td>\n",
       "      <td>1.000000</td>\n",
       "      <td>149388.247500</td>\n",
       "      <td>0.000000</td>\n",
       "    </tr>\n",
       "    <tr>\n",
       "      <th>max</th>\n",
       "      <td>850.000000</td>\n",
       "      <td>92.000000</td>\n",
       "      <td>10.000000</td>\n",
       "      <td>250898.090000</td>\n",
       "      <td>4.000000</td>\n",
       "      <td>1.00000</td>\n",
       "      <td>1.000000</td>\n",
       "      <td>199992.480000</td>\n",
       "      <td>1.000000</td>\n",
       "    </tr>\n",
       "  </tbody>\n",
       "</table>\n",
       "</div>"
      ],
      "text/plain": [
       "        CreditScore           Age       Tenure        Balance  NumOfProducts  \\\n",
       "count  10000.000000  10000.000000  9091.000000   10000.000000   10000.000000   \n",
       "mean     650.528800     38.921800     4.997690   76485.889288       1.530200   \n",
       "std       96.653299     10.487806     2.894723   62397.405202       0.581654   \n",
       "min      350.000000     18.000000     0.000000       0.000000       1.000000   \n",
       "25%      584.000000     32.000000     2.000000       0.000000       1.000000   \n",
       "50%      652.000000     37.000000     5.000000   97198.540000       1.000000   \n",
       "75%      718.000000     44.000000     7.000000  127644.240000       2.000000   \n",
       "max      850.000000     92.000000    10.000000  250898.090000       4.000000   \n",
       "\n",
       "         HasCrCard  IsActiveMember  EstimatedSalary        Exited  \n",
       "count  10000.00000    10000.000000     10000.000000  10000.000000  \n",
       "mean       0.70550        0.515100    100090.239881      0.203700  \n",
       "std        0.45584        0.499797     57510.492818      0.402769  \n",
       "min        0.00000        0.000000        11.580000      0.000000  \n",
       "25%        0.00000        0.000000     51002.110000      0.000000  \n",
       "50%        1.00000        1.000000    100193.915000      0.000000  \n",
       "75%        1.00000        1.000000    149388.247500      0.000000  \n",
       "max        1.00000        1.000000    199992.480000      1.000000  "
      ]
     },
     "execution_count": 7,
     "metadata": {},
     "output_type": "execute_result"
    }
   ],
   "source": [
    "data = data.drop(['Surname', 'RowNumber', 'CustomerId'], axis=1)\n",
    "data.describe()"
   ]
  },
  {
   "cell_type": "code",
   "execution_count": 8,
   "metadata": {},
   "outputs": [
    {
     "data": {
      "text/plain": [
       "Index(['CreditScore', 'Geography', 'Gender', 'Age', 'Tenure', 'Balance',\n",
       "       'NumOfProducts', 'HasCrCard', 'IsActiveMember', 'EstimatedSalary',\n",
       "       'Exited'],\n",
       "      dtype='object')"
      ]
     },
     "execution_count": 8,
     "metadata": {},
     "output_type": "execute_result"
    }
   ],
   "source": [
    "data.columns"
   ]
  },
  {
   "cell_type": "code",
   "execution_count": 9,
   "metadata": {},
   "outputs": [],
   "source": [
    "#Gender+Geography"
   ]
  },
  {
   "cell_type": "markdown",
   "metadata": {},
   "source": [
    "У нас есть категориальные данные. У них тип object. Это география, пол."
   ]
  },
  {
   "cell_type": "code",
   "execution_count": 10,
   "metadata": {},
   "outputs": [],
   "source": [
    "data = pd.get_dummies(data, drop_first=True, columns=['Geography', 'Gender'])\n"
   ]
  },
  {
   "cell_type": "markdown",
   "metadata": {},
   "source": [
    "<div class=\"alert alert-block alert-danger\">\n",
    "<b>Комментарий ревьюера</b>\n",
    "\n",
    "<s>Почему решила удалить столбцы Gender и Geography? Это могут быть хорошие признаки. И нужен ли нам столбец CustomerId для дальнейшего моделирования?\n",
    "\n",
    "</div>\n",
    "<div class=\"alert alert-info\"> <b>Комментарий студента:</b> Дропнула, потому что хотела попроще! Каюсь, вот дописала.</div>\n",
    "\n"
   ]
  },
  {
   "cell_type": "markdown",
   "metadata": {},
   "source": [
    "<div class=\"alert alert-block alert-success\">\n",
    "<b>Комментарий ревьюера (v2)</b>\n",
    "\n",
    "Но ведь не сложно же :) И жаль просто так выкидывать целых два признака.\n",
    "\n",
    "</div>\n"
   ]
  },
  {
   "cell_type": "markdown",
   "metadata": {},
   "source": [
    "<div class=\"alert alert-block alert-danger\">\n",
    "<b>Комментарий ревьюера (v2)</b>\n",
    "\n",
    "<s>Только обрати внимание, что нужно использовать параметр `drop_first=True` чтобы избежать дамми-ловушки.\n",
    "\n",
    "</div>\n",
    "<div class=\"alert alert-info\"> <b>V3:</b> Done. Чтобы отработать, покажу, как я понимаю: мы так убираем лишний столбец, когда создали фиктивные переменные.</div>\n"
   ]
  },
  {
   "cell_type": "markdown",
   "metadata": {},
   "source": [
    "<div class=\"alert alert-block alert-success\">\n",
    "<b>Комментарий ревьюера (v3)</b>\n",
    "\n",
    "Да, все так. \n",
    "\n",
    "</div>\n"
   ]
  },
  {
   "cell_type": "markdown",
   "metadata": {},
   "source": [
    "<div class=\"alert alert-block alert-warning\">\n",
    "<b>Комментарий ревьюера</b>\n",
    "\n",
    "Про кодирование категориальных столбцов было в курсе, посмотри, пожалуйста.\n",
    "\n",
    "</div>\n"
   ]
  },
  {
   "cell_type": "markdown",
   "metadata": {},
   "source": [
    "<div class=\"alert alert-block alert-warning\">\n",
    "<b>Комментарий ревьюера</b>\n",
    "\n",
    "Небольшая информационная вставка :) Выбор способов кодирования категориальных признаков обычно основывается на выбранной модели. Для линейной (логистической) регрессии - OHE, для деревьев - Ordinal, бустингам подходит Ordinal или встроенное в них кодирование. Линрегу не подходит Ordinal, так как он пытается все рассчитать по формулам, и мы можем столкнуться с проблемой, что женщины (с порядковым номером 1) будут \"важнее\" мужчин (с порядковым номером 0) (или Москва \"важнее\" \"Казани\"), к примеру. Для деревьев же не подходит OHE, так как дерево получается неправильной формы, перекошенные, увеличивается время обучения (так как признаков больше), в целом снижается эффективность модели. По [ссылке](https://towardsdatascience.com/one-hot-encoding-is-making-your-tree-based-ensembles-worse-heres-why-d64b282b5769) есть более подробная информация по этому поводу. Также там есть изображения \"правильных\" и \"перекошенных\" деревьев.\n",
    "\n",
    "Хоть на такой подход, как я описал выше, и можно ориентироваться, лучший друг в нашем деле - это эксперимент. Так что стоит экспериментировать с разными способами кодирования.\n",
    "\n",
    "В данной же задаче ввиду малого количества категориальных признаков OHE кодирование деревянным алгоритмам не помешает.\n",
    "\n",
    "</div>\n",
    "<div class=\"alert alert-info\"> <b>Комментарий студента:</b> А не решается ли неправильность формы приданием «важности» данным? importances?</div>\n",
    "\n"
   ]
  },
  {
   "cell_type": "markdown",
   "metadata": {},
   "source": [
    "<div class=\"alert alert-block alert-success\">\n",
    "<b>Комментарий ревьюера (v2)</b>\n",
    "\n",
    "Про неправильность формы вообще достаточно много споров :) В любом случае ОНЕ кодирование сильно раздувает таблицу (при большом кол-ве кат. признаков и большом количестве разнообразных данных в этих признаках), что негативно сказывается на времени обучения. Кто-то использует ординал кодирование только для признаков, в которых явно выражен порядок (например, размер одежды S-M-L). Эксперименты наше все. Иногда даже два пробуют соввещать эти способы :) А не решается ли неправильность формы приданием «важности» данным? importances? - не совсем понял вопрос, но, мне кажется, нет. Что имеется в виду под важностью?\n",
    "\n",
    "</div>\n",
    "<div class=\"alert alert-info\"> <b>Комментарий студента V3:</b> Извини, я неправильно использую лексику. Короче, я подумала, что если у нас обучение с учителем, значит, я могу обучить модель тому, что вот этот отдельный признак — важный, а остальные — не очень. И, мол, если и есть перекос в данных, то его можно компенсировать, точнее, он сам может компенсироваться, если я скажу модели, что важно (importances), а что нет.</div>\n"
   ]
  },
  {
   "cell_type": "markdown",
   "metadata": {},
   "source": [
    "<div class=\"alert alert-block alert-success\">\n",
    "<b>Комментарий ревьюера (v3)</b>\n",
    "\n",
    "Честно сказать, с таким подходом не сталкивался. Обычно даешь модели самой выбрать что важное, а что нет. И никаких ссылок подсказать не могу 😔\n",
    "\n",
    "</div>\n"
   ]
  },
  {
   "cell_type": "code",
   "execution_count": 11,
   "metadata": {},
   "outputs": [
    {
     "data": {
      "text/html": [
       "<div>\n",
       "<style scoped>\n",
       "    .dataframe tbody tr th:only-of-type {\n",
       "        vertical-align: middle;\n",
       "    }\n",
       "\n",
       "    .dataframe tbody tr th {\n",
       "        vertical-align: top;\n",
       "    }\n",
       "\n",
       "    .dataframe thead th {\n",
       "        text-align: right;\n",
       "    }\n",
       "</style>\n",
       "<table border=\"1\" class=\"dataframe\">\n",
       "  <thead>\n",
       "    <tr style=\"text-align: right;\">\n",
       "      <th></th>\n",
       "      <th>CreditScore</th>\n",
       "      <th>Age</th>\n",
       "      <th>Tenure</th>\n",
       "      <th>Balance</th>\n",
       "      <th>NumOfProducts</th>\n",
       "      <th>HasCrCard</th>\n",
       "      <th>IsActiveMember</th>\n",
       "      <th>EstimatedSalary</th>\n",
       "      <th>Exited</th>\n",
       "      <th>Geography_Germany</th>\n",
       "      <th>Geography_Spain</th>\n",
       "      <th>Gender_Male</th>\n",
       "    </tr>\n",
       "  </thead>\n",
       "  <tbody>\n",
       "    <tr>\n",
       "      <th>533</th>\n",
       "      <td>543</td>\n",
       "      <td>35</td>\n",
       "      <td>10.0</td>\n",
       "      <td>59408.63</td>\n",
       "      <td>1</td>\n",
       "      <td>1</td>\n",
       "      <td>0</td>\n",
       "      <td>76773.53</td>\n",
       "      <td>0</td>\n",
       "      <td>0</td>\n",
       "      <td>1</td>\n",
       "      <td>1</td>\n",
       "    </tr>\n",
       "  </tbody>\n",
       "</table>\n",
       "</div>"
      ],
      "text/plain": [
       "     CreditScore  Age  Tenure   Balance  NumOfProducts  HasCrCard  \\\n",
       "533          543   35    10.0  59408.63              1          1   \n",
       "\n",
       "     IsActiveMember  EstimatedSalary  Exited  Geography_Germany  \\\n",
       "533               0         76773.53       0                  0   \n",
       "\n",
       "     Geography_Spain  Gender_Male  \n",
       "533                1            1  "
      ]
     },
     "execution_count": 11,
     "metadata": {},
     "output_type": "execute_result"
    }
   ],
   "source": [
    "data.sample()"
   ]
  },
  {
   "cell_type": "code",
   "execution_count": 12,
   "metadata": {},
   "outputs": [],
   "source": [
    "#Заполняю пропуски медианой, чтобы не сильно извратить данные.\n",
    "#data['Tenure'].replace('', np.nan, inplace=True)\n",
    "#data.dropna(subset = ['Tenure'], inplace=True)"
   ]
  },
  {
   "cell_type": "markdown",
   "metadata": {},
   "source": [
    "Если убрать, у нас плохо делятся данные. Возникают проблемы с features_valid"
   ]
  },
  {
   "cell_type": "markdown",
   "metadata": {},
   "source": [
    "<div class=\"alert alert-block alert-success\">\n",
    "<b>Комментарий ревьюера (v2)</b>\n",
    "\n",
    "Что за проблема возникает?\n",
    "    \n",
    "\n",
    "</div>\n"
   ]
  },
  {
   "cell_type": "code",
   "execution_count": 13,
   "metadata": {},
   "outputs": [],
   "source": [
    "data['Tenure'] = data['Tenure'].fillna(value=data['Tenure'].median())"
   ]
  },
  {
   "cell_type": "markdown",
   "metadata": {},
   "source": [
    "<div class=\"alert alert-block alert-warning\">\n",
    "<b>Комментарий ревьюера</b>\n",
    "\n",
    "Обрати внимание, что валид и тест выборки получились разной длины. Чтобы они были одинаковые, в первом train_test_split нужно указать test_size = .2, а во втором test_size = .25 (80% * 0,25 = 20%).\n",
    "\n",
    "</div>\n"
   ]
  },
  {
   "cell_type": "markdown",
   "metadata": {},
   "source": [
    "Данные не полные в столбце: Tenure — сколько лет человек является клиентом банка. У нас есть категориальные данные: Geography           object,\n",
    "Gender              object. Есть ли кредитная карта или нет, активный или не активный, ушёл или не ушёл — в этих столбцах у нас всего два выбора."
   ]
  },
  {
   "cell_type": "markdown",
   "metadata": {},
   "source": [
    "<div class=\"alert alert-block alert-success\">\n",
    "<b>Комментарий ревьюера</b>\n",
    "\n",
    "Хорошо, двигаемся дальше. Молодец, что изучила таблицу на предмет аномальных значений.\n",
    "\n",
    "</div>\n"
   ]
  },
  {
   "cell_type": "markdown",
   "metadata": {},
   "source": [
    "<div class=\"alert alert-block alert-danger\">\n",
    "<b>Комментарий ревьюера</b>\n",
    "\n",
    "<s>Также прошу добавить анализ баланса классов в выборках - это важно знать перед моделированием.\n",
    "\n",
    "</div>\n",
    "<div class=\"alert alert-info\"> <b>Комментарий студента:</b> Баланс выше перенесён</div>"
   ]
  },
  {
   "cell_type": "code",
   "execution_count": 14,
   "metadata": {},
   "outputs": [
    {
     "name": "stdout",
     "output_type": "stream",
     "text": [
      "Проверка разбивки  10000\n"
     ]
    }
   ],
   "source": [
    "from sklearn.model_selection import train_test_split\n",
    "\n",
    "train, valid = train_test_split(data, test_size = 0.2)\n",
    "train, test = train_test_split(train, test_size = 0.25, random_state=12345)\n",
    "print('Проверка разбивки ', len(valid) + len(test) + len(train))"
   ]
  },
  {
   "cell_type": "code",
   "execution_count": 15,
   "metadata": {},
   "outputs": [],
   "source": [
    "#Присвоим переменным признаки и целевые признаки\n",
    "features = data.drop(['Exited'], axis=1)\n",
    "target = data['Exited']\n",
    "\n",
    "#Валидационная выборка\n",
    "features_valid = valid.drop(['Exited'], axis=1)\n",
    "target_valid = valid['Exited']\n",
    "\n",
    "#Обучающая выборка\n",
    "features_train = train.drop(['Exited'], axis=1)\n",
    "target_train = train['Exited']\n",
    "\n",
    "#Тестовая выборка\n",
    "features_test = test.drop(['Exited'], axis=1)\n",
    "target_test = test['Exited']"
   ]
  },
  {
   "cell_type": "code",
   "execution_count": 16,
   "metadata": {},
   "outputs": [
    {
     "name": "stdout",
     "output_type": "stream",
     "text": [
      "(6000, 11)\n",
      "(2000, 11)\n",
      "(2000, 11)\n"
     ]
    }
   ],
   "source": [
    "print(features_train.shape)\n",
    "print(features_valid.shape)\n",
    "print(features_test.shape)"
   ]
  },
  {
   "cell_type": "markdown",
   "metadata": {},
   "source": [
    "<div class=\"alert alert-block alert-success\">\n",
    "<b>Комментарий ревьюера (v2)</b>\n",
    "\n",
    "Отлично\n",
    "\n",
    "</div>\n"
   ]
  },
  {
   "cell_type": "code",
   "execution_count": 17,
   "metadata": {},
   "outputs": [],
   "source": [
    "from sklearn.preprocessing import StandardScaler \n",
    "nums = ['CreditScore',  'Age', 'Balance',\n",
    "       'NumOfProducts', 'HasCrCard', 'IsActiveMember', 'EstimatedSalary']\n",
    "\n",
    "scaler = StandardScaler()\n",
    "scaler.fit(features_train[nums], features_test[nums])\n",
    "features_train[nums] = scaler.transform(features_train[nums])\n",
    "features_test[nums] = scaler.transform(features_test[nums])\n",
    "features_valid[nums] = scaler.transform(features_valid[nums])"
   ]
  },
  {
   "cell_type": "markdown",
   "metadata": {},
   "source": [
    "<div class=\"alert alert-block alert-danger\">\n",
    "<b>Комментарий ревьюера (v2)</b>\n",
    "\n",
    "<s>Пожалуйста, обрати внимание, что ты забыла сделать transform для тестовой выборки. Из-за этого получилась плохая метрика в конце работы.\n",
    "\n",
    "</div>\n",
    "<div class=\"alert alert-info\"> <b>Комментарий студента V3:</b> Ясно. Я относилась к тестовой выборке — как в лакмусовой бумажке, на которой так и так увидим результат откалиброванной модели. Я не очень внимательный студент ((</div>"
   ]
  },
  {
   "cell_type": "markdown",
   "metadata": {},
   "source": [
    "<div class=\"alert alert-block alert-success\">\n",
    "<b>Комментарий ревьюера (v3)</b>\n",
    "\n",
    "Когда будем модель использовать, сначала закодируем данные, потом их отмасштабируем, а уже потом загрузим в модель. Алгоритм примерно такой. И тестовая выборка как раз его повторяет.\n",
    "\n",
    "</div>\n"
   ]
  },
  {
   "cell_type": "code",
   "execution_count": 18,
   "metadata": {},
   "outputs": [
    {
     "data": {
      "text/html": [
       "<div>\n",
       "<style scoped>\n",
       "    .dataframe tbody tr th:only-of-type {\n",
       "        vertical-align: middle;\n",
       "    }\n",
       "\n",
       "    .dataframe tbody tr th {\n",
       "        vertical-align: top;\n",
       "    }\n",
       "\n",
       "    .dataframe thead th {\n",
       "        text-align: right;\n",
       "    }\n",
       "</style>\n",
       "<table border=\"1\" class=\"dataframe\">\n",
       "  <thead>\n",
       "    <tr style=\"text-align: right;\">\n",
       "      <th></th>\n",
       "      <th>CreditScore</th>\n",
       "      <th>Age</th>\n",
       "      <th>Tenure</th>\n",
       "      <th>Balance</th>\n",
       "      <th>NumOfProducts</th>\n",
       "      <th>HasCrCard</th>\n",
       "      <th>IsActiveMember</th>\n",
       "      <th>EstimatedSalary</th>\n",
       "      <th>Geography_Germany</th>\n",
       "      <th>Geography_Spain</th>\n",
       "      <th>Gender_Male</th>\n",
       "    </tr>\n",
       "  </thead>\n",
       "  <tbody>\n",
       "    <tr>\n",
       "      <th>count</th>\n",
       "      <td>2000.000000</td>\n",
       "      <td>2000.000000</td>\n",
       "      <td>2000.000000</td>\n",
       "      <td>2000.000000</td>\n",
       "      <td>2000.000000</td>\n",
       "      <td>2000.000000</td>\n",
       "      <td>2000.000000</td>\n",
       "      <td>2000.000000</td>\n",
       "      <td>2000.000000</td>\n",
       "      <td>2000.000000</td>\n",
       "      <td>2000.000000</td>\n",
       "    </tr>\n",
       "    <tr>\n",
       "      <th>mean</th>\n",
       "      <td>0.008273</td>\n",
       "      <td>0.028210</td>\n",
       "      <td>4.893000</td>\n",
       "      <td>0.029966</td>\n",
       "      <td>0.047506</td>\n",
       "      <td>-0.004023</td>\n",
       "      <td>-0.060722</td>\n",
       "      <td>-0.021367</td>\n",
       "      <td>0.267000</td>\n",
       "      <td>0.247500</td>\n",
       "      <td>0.546000</td>\n",
       "    </tr>\n",
       "    <tr>\n",
       "      <th>std</th>\n",
       "      <td>1.008923</td>\n",
       "      <td>1.030732</td>\n",
       "      <td>2.773878</td>\n",
       "      <td>0.984150</td>\n",
       "      <td>1.027138</td>\n",
       "      <td>1.002058</td>\n",
       "      <td>1.001000</td>\n",
       "      <td>1.003674</td>\n",
       "      <td>0.442503</td>\n",
       "      <td>0.431668</td>\n",
       "      <td>0.498004</td>\n",
       "    </tr>\n",
       "    <tr>\n",
       "      <th>min</th>\n",
       "      <td>-2.954574</td>\n",
       "      <td>-1.992183</td>\n",
       "      <td>0.000000</td>\n",
       "      <td>-1.216878</td>\n",
       "      <td>-0.905212</td>\n",
       "      <td>-1.549010</td>\n",
       "      <td>-1.043617</td>\n",
       "      <td>-1.744648</td>\n",
       "      <td>0.000000</td>\n",
       "      <td>0.000000</td>\n",
       "      <td>0.000000</td>\n",
       "    </tr>\n",
       "    <tr>\n",
       "      <th>25%</th>\n",
       "      <td>-0.683414</td>\n",
       "      <td>-0.659439</td>\n",
       "      <td>3.000000</td>\n",
       "      <td>-1.216878</td>\n",
       "      <td>-0.905212</td>\n",
       "      <td>-1.549010</td>\n",
       "      <td>-1.043617</td>\n",
       "      <td>-0.886493</td>\n",
       "      <td>0.000000</td>\n",
       "      <td>0.000000</td>\n",
       "      <td>0.000000</td>\n",
       "    </tr>\n",
       "    <tr>\n",
       "      <th>50%</th>\n",
       "      <td>0.049551</td>\n",
       "      <td>-0.183459</td>\n",
       "      <td>5.000000</td>\n",
       "      <td>0.375486</td>\n",
       "      <td>0.822291</td>\n",
       "      <td>0.645573</td>\n",
       "      <td>-1.043617</td>\n",
       "      <td>-0.057298</td>\n",
       "      <td>0.000000</td>\n",
       "      <td>0.000000</td>\n",
       "      <td>1.000000</td>\n",
       "    </tr>\n",
       "    <tr>\n",
       "      <th>75%</th>\n",
       "      <td>0.699928</td>\n",
       "      <td>0.482913</td>\n",
       "      <td>7.000000</td>\n",
       "      <td>0.826057</td>\n",
       "      <td>0.822291</td>\n",
       "      <td>0.645573</td>\n",
       "      <td>0.958206</td>\n",
       "      <td>0.857719</td>\n",
       "      <td>1.000000</td>\n",
       "      <td>0.000000</td>\n",
       "      <td>1.000000</td>\n",
       "    </tr>\n",
       "    <tr>\n",
       "      <th>max</th>\n",
       "      <td>2.072948</td>\n",
       "      <td>5.052321</td>\n",
       "      <td>10.000000</td>\n",
       "      <td>2.792102</td>\n",
       "      <td>4.277298</td>\n",
       "      <td>0.645573</td>\n",
       "      <td>0.958206</td>\n",
       "      <td>1.741731</td>\n",
       "      <td>1.000000</td>\n",
       "      <td>1.000000</td>\n",
       "      <td>1.000000</td>\n",
       "    </tr>\n",
       "  </tbody>\n",
       "</table>\n",
       "</div>"
      ],
      "text/plain": [
       "       CreditScore          Age       Tenure      Balance  NumOfProducts  \\\n",
       "count  2000.000000  2000.000000  2000.000000  2000.000000    2000.000000   \n",
       "mean      0.008273     0.028210     4.893000     0.029966       0.047506   \n",
       "std       1.008923     1.030732     2.773878     0.984150       1.027138   \n",
       "min      -2.954574    -1.992183     0.000000    -1.216878      -0.905212   \n",
       "25%      -0.683414    -0.659439     3.000000    -1.216878      -0.905212   \n",
       "50%       0.049551    -0.183459     5.000000     0.375486       0.822291   \n",
       "75%       0.699928     0.482913     7.000000     0.826057       0.822291   \n",
       "max       2.072948     5.052321    10.000000     2.792102       4.277298   \n",
       "\n",
       "         HasCrCard  IsActiveMember  EstimatedSalary  Geography_Germany  \\\n",
       "count  2000.000000     2000.000000      2000.000000        2000.000000   \n",
       "mean     -0.004023       -0.060722        -0.021367           0.267000   \n",
       "std       1.002058        1.001000         1.003674           0.442503   \n",
       "min      -1.549010       -1.043617        -1.744648           0.000000   \n",
       "25%      -1.549010       -1.043617        -0.886493           0.000000   \n",
       "50%       0.645573       -1.043617        -0.057298           0.000000   \n",
       "75%       0.645573        0.958206         0.857719           1.000000   \n",
       "max       0.645573        0.958206         1.741731           1.000000   \n",
       "\n",
       "       Geography_Spain  Gender_Male  \n",
       "count      2000.000000  2000.000000  \n",
       "mean          0.247500     0.546000  \n",
       "std           0.431668     0.498004  \n",
       "min           0.000000     0.000000  \n",
       "25%           0.000000     0.000000  \n",
       "50%           0.000000     1.000000  \n",
       "75%           0.000000     1.000000  \n",
       "max           1.000000     1.000000  "
      ]
     },
     "execution_count": 18,
     "metadata": {},
     "output_type": "execute_result"
    }
   ],
   "source": [
    "features_valid.describe()"
   ]
  },
  {
   "cell_type": "code",
   "execution_count": 19,
   "metadata": {},
   "outputs": [
    {
     "data": {
      "text/html": [
       "<div>\n",
       "<style scoped>\n",
       "    .dataframe tbody tr th:only-of-type {\n",
       "        vertical-align: middle;\n",
       "    }\n",
       "\n",
       "    .dataframe tbody tr th {\n",
       "        vertical-align: top;\n",
       "    }\n",
       "\n",
       "    .dataframe thead th {\n",
       "        text-align: right;\n",
       "    }\n",
       "</style>\n",
       "<table border=\"1\" class=\"dataframe\">\n",
       "  <thead>\n",
       "    <tr style=\"text-align: right;\">\n",
       "      <th></th>\n",
       "      <th>CreditScore</th>\n",
       "      <th>Age</th>\n",
       "      <th>Tenure</th>\n",
       "      <th>Balance</th>\n",
       "      <th>NumOfProducts</th>\n",
       "      <th>HasCrCard</th>\n",
       "      <th>IsActiveMember</th>\n",
       "      <th>EstimatedSalary</th>\n",
       "      <th>Geography_Germany</th>\n",
       "      <th>Geography_Spain</th>\n",
       "      <th>Gender_Male</th>\n",
       "    </tr>\n",
       "  </thead>\n",
       "  <tbody>\n",
       "    <tr>\n",
       "      <th>count</th>\n",
       "      <td>2000.000000</td>\n",
       "      <td>2000.000000</td>\n",
       "      <td>2000.000000</td>\n",
       "      <td>2000.000000</td>\n",
       "      <td>2000.000000</td>\n",
       "      <td>2000.000000</td>\n",
       "      <td>2000.000000</td>\n",
       "      <td>2000.000000</td>\n",
       "      <td>2000.000000</td>\n",
       "      <td>2000.000000</td>\n",
       "      <td>2000.000000</td>\n",
       "    </tr>\n",
       "    <tr>\n",
       "      <th>mean</th>\n",
       "      <td>0.060308</td>\n",
       "      <td>-0.030764</td>\n",
       "      <td>4.973000</td>\n",
       "      <td>-0.003699</td>\n",
       "      <td>0.006046</td>\n",
       "      <td>0.000366</td>\n",
       "      <td>-0.001668</td>\n",
       "      <td>0.018270</td>\n",
       "      <td>0.238500</td>\n",
       "      <td>0.240500</td>\n",
       "      <td>0.543500</td>\n",
       "    </tr>\n",
       "    <tr>\n",
       "      <th>std</th>\n",
       "      <td>0.978664</td>\n",
       "      <td>0.959337</td>\n",
       "      <td>2.724515</td>\n",
       "      <td>1.000695</td>\n",
       "      <td>0.995992</td>\n",
       "      <td>1.000085</td>\n",
       "      <td>1.000320</td>\n",
       "      <td>1.011214</td>\n",
       "      <td>0.426273</td>\n",
       "      <td>0.427494</td>\n",
       "      <td>0.498229</td>\n",
       "    </tr>\n",
       "    <tr>\n",
       "      <th>min</th>\n",
       "      <td>-3.088779</td>\n",
       "      <td>-1.992183</td>\n",
       "      <td>0.000000</td>\n",
       "      <td>-1.216878</td>\n",
       "      <td>-0.905212</td>\n",
       "      <td>-1.549010</td>\n",
       "      <td>-1.043617</td>\n",
       "      <td>-1.744677</td>\n",
       "      <td>0.000000</td>\n",
       "      <td>0.000000</td>\n",
       "      <td>0.000000</td>\n",
       "    </tr>\n",
       "    <tr>\n",
       "      <th>25%</th>\n",
       "      <td>-0.600827</td>\n",
       "      <td>-0.754635</td>\n",
       "      <td>3.000000</td>\n",
       "      <td>-1.216878</td>\n",
       "      <td>-0.905212</td>\n",
       "      <td>-1.549010</td>\n",
       "      <td>-1.043617</td>\n",
       "      <td>-0.863013</td>\n",
       "      <td>0.000000</td>\n",
       "      <td>0.000000</td>\n",
       "      <td>0.000000</td>\n",
       "    </tr>\n",
       "    <tr>\n",
       "      <th>50%</th>\n",
       "      <td>0.059874</td>\n",
       "      <td>-0.183459</td>\n",
       "      <td>5.000000</td>\n",
       "      <td>0.331232</td>\n",
       "      <td>-0.905212</td>\n",
       "      <td>0.645573</td>\n",
       "      <td>0.958206</td>\n",
       "      <td>0.034577</td>\n",
       "      <td>0.000000</td>\n",
       "      <td>0.000000</td>\n",
       "      <td>1.000000</td>\n",
       "    </tr>\n",
       "    <tr>\n",
       "      <th>75%</th>\n",
       "      <td>0.723156</td>\n",
       "      <td>0.387717</td>\n",
       "      <td>7.000000</td>\n",
       "      <td>0.822877</td>\n",
       "      <td>0.822291</td>\n",
       "      <td>0.645573</td>\n",
       "      <td>0.958206</td>\n",
       "      <td>0.896081</td>\n",
       "      <td>0.000000</td>\n",
       "      <td>0.000000</td>\n",
       "      <td>1.000000</td>\n",
       "    </tr>\n",
       "    <tr>\n",
       "      <th>max</th>\n",
       "      <td>2.072948</td>\n",
       "      <td>4.100361</td>\n",
       "      <td>10.000000</td>\n",
       "      <td>2.592202</td>\n",
       "      <td>4.277298</td>\n",
       "      <td>0.645573</td>\n",
       "      <td>0.958206</td>\n",
       "      <td>1.741351</td>\n",
       "      <td>1.000000</td>\n",
       "      <td>1.000000</td>\n",
       "      <td>1.000000</td>\n",
       "    </tr>\n",
       "  </tbody>\n",
       "</table>\n",
       "</div>"
      ],
      "text/plain": [
       "       CreditScore          Age       Tenure      Balance  NumOfProducts  \\\n",
       "count  2000.000000  2000.000000  2000.000000  2000.000000    2000.000000   \n",
       "mean      0.060308    -0.030764     4.973000    -0.003699       0.006046   \n",
       "std       0.978664     0.959337     2.724515     1.000695       0.995992   \n",
       "min      -3.088779    -1.992183     0.000000    -1.216878      -0.905212   \n",
       "25%      -0.600827    -0.754635     3.000000    -1.216878      -0.905212   \n",
       "50%       0.059874    -0.183459     5.000000     0.331232      -0.905212   \n",
       "75%       0.723156     0.387717     7.000000     0.822877       0.822291   \n",
       "max       2.072948     4.100361    10.000000     2.592202       4.277298   \n",
       "\n",
       "         HasCrCard  IsActiveMember  EstimatedSalary  Geography_Germany  \\\n",
       "count  2000.000000     2000.000000      2000.000000        2000.000000   \n",
       "mean      0.000366       -0.001668         0.018270           0.238500   \n",
       "std       1.000085        1.000320         1.011214           0.426273   \n",
       "min      -1.549010       -1.043617        -1.744677           0.000000   \n",
       "25%      -1.549010       -1.043617        -0.863013           0.000000   \n",
       "50%       0.645573        0.958206         0.034577           0.000000   \n",
       "75%       0.645573        0.958206         0.896081           0.000000   \n",
       "max       0.645573        0.958206         1.741351           1.000000   \n",
       "\n",
       "       Geography_Spain  Gender_Male  \n",
       "count      2000.000000  2000.000000  \n",
       "mean          0.240500     0.543500  \n",
       "std           0.427494     0.498229  \n",
       "min           0.000000     0.000000  \n",
       "25%           0.000000     0.000000  \n",
       "50%           0.000000     1.000000  \n",
       "75%           0.000000     1.000000  \n",
       "max           1.000000     1.000000  "
      ]
     },
     "execution_count": 19,
     "metadata": {},
     "output_type": "execute_result"
    }
   ],
   "source": [
    "features_test.describe()"
   ]
  },
  {
   "cell_type": "markdown",
   "metadata": {},
   "source": [
    "## Исследование задачи"
   ]
  },
  {
   "cell_type": "markdown",
   "metadata": {},
   "source": [
    "<div class=\"alert alert-block alert-warning\">\n",
    "<b>Комментарий ревьюера</b>\n",
    "\n",
    "Не совсем понял зачем делать \"features,target=shuffle(features,target,random_state=12345)\"? Оставь, пожалуйста, комментарий. Также переменнная features_sample далее нигде не используется, нужна ли она нам? Я не понял ее смысл.\n",
    "\n",
    "</div>\n",
    "Для апсэмплинга и даунсэмнлинга мы ведь должны перемешать данные? Или не здесь?\n"
   ]
  },
  {
   "cell_type": "markdown",
   "metadata": {},
   "source": [
    "<div class=\"alert alert-block alert-success\">\n",
    "<b>Комментарий ревьюера (v2)</b>\n",
    "\n",
    "В функциях, которые делают апсемплинг и даунсемплинг уже есть код, который их перемешивает.\n",
    "\n",
    "</div>\n"
   ]
  },
  {
   "cell_type": "markdown",
   "metadata": {},
   "source": [
    "<div class=\"alert alert-block alert-success\">\n",
    "<b>Комментарий ревьюера</b>\n",
    "\n",
    "Хорошо, что проконтролировала размер выборок.\n",
    "\n",
    "</div>\n"
   ]
  },
  {
   "cell_type": "code",
   "execution_count": 20,
   "metadata": {},
   "outputs": [
    {
     "name": "stdout",
     "output_type": "stream",
     "text": [
      "0    0.7963\n",
      "1    0.2037\n",
      "Name: Exited, dtype: float64\n"
     ]
    },
    {
     "data": {
      "text/plain": [
       "<matplotlib.axes._subplots.AxesSubplot at 0x7f873eb5ff50>"
      ]
     },
     "execution_count": 20,
     "metadata": {},
     "output_type": "execute_result"
    },
    {
     "data": {
      "image/png": "[encoded data removed]",
      "text/plain": [
       "<Figure size 432x288 with 1 Axes>"
      ]
     },
     "metadata": {
      "needs_background": "light"
     },
     "output_type": "display_data"
    }
   ],
   "source": [
    "#Хотела бы побороться с дисбалансом\n",
    "#Смотрим классы\n",
    "class_frequency = data['Exited'].value_counts(normalize=1)\n",
    "print(class_frequency)\n",
    "class_frequency.plot(kind='bar')"
   ]
  },
  {
   "cell_type": "code",
   "execution_count": 21,
   "metadata": {},
   "outputs": [
    {
     "name": "stdout",
     "output_type": "stream",
     "text": [
      "для балансировки вверх 4.0\n"
     ]
    }
   ],
   "source": [
    "print('для балансировки вверх', (80/20))"
   ]
  },
  {
   "cell_type": "markdown",
   "metadata": {},
   "source": [
    "<div class=\"alert alert-block alert-warning\">\n",
    "<b>Комментарий ревьюера (v2)</b>\n",
    "\n",
    "Немного неправильный расчет получился, смотри, если 1 класс увеличим в 4 раза, то сравняем баланс до 50/50 примерно.\n",
    "\n",
    "</div>\n",
    "<div class=\"alert alert-info\"> <b>Комментарий студента V3:</b> Так, тогда у меня проблемы с элементарными действиями) Ошибку поняла, ок. </div>\n",
    "\n"
   ]
  },
  {
   "cell_type": "markdown",
   "metadata": {},
   "source": [
    "<div class=\"alert alert-block alert-success\">\n",
    "<b>Комментарий ревьюера (v3)</b>\n",
    "\n",
    "👍\n",
    "\n",
    "</div>\n"
   ]
  },
  {
   "cell_type": "markdown",
   "metadata": {},
   "source": [
    "## Трениировка до балансировки"
   ]
  },
  {
   "cell_type": "markdown",
   "metadata": {},
   "source": [
    "### Случайный лес"
   ]
  },
  {
   "cell_type": "code",
   "execution_count": 22,
   "metadata": {},
   "outputs": [],
   "source": [
    "f1_forest = []\n",
    "depths = range(1, 11)\n",
    "best_model_for = None\n",
    "best_result_forest = 0\n",
    "estimator = range(10,101, 10)\n",
    "for estimator in range(1, 10, 2):\n",
    "    for d in depths:\n",
    "        model_forest = RandomForestClassifier(random_state=12345, class_weight='balanced', n_estimators=estimator, max_depth = d)\n",
    "        model_forest.fit(features_train, target_train)\n",
    "        predicted_valid = model_forest.predict(features_valid)\n",
    "        score_f1_forest = f1_score(target_valid, predicted_valid)\n",
    "        f1_forest.append(score_f1_forest)\n",
    "        if score_f1_forest > best_result_forest:\n",
    "            best_model_for = model_forest# сохраните наилучшую модель\n",
    "            best_result_forest = score_f1_forest #  сохраните наилучшее значение метрики accuracy на валидационных данных\n"
   ]
  },
  {
   "cell_type": "markdown",
   "metadata": {},
   "source": [
    "<div class=\"alert alert-block alert-warning\">\n",
    "<b>Комментарий ревьюера (v2)</b>\n",
    "\n",
    "Можно попробовать глубину брать от 1 до 10, а n_estimators от 10 до 100 с шагом 10.\n",
    "\n",
    "</div>\n",
    "<div class=\"alert alert-info\"><b>V3 </b>Ага, везде поменяла. Спасибо, я буду аккуратнее.</div>"
   ]
  },
  {
   "cell_type": "markdown",
   "metadata": {},
   "source": [
    "<div class=\"alert alert-block alert-success\">\n",
    "<b>Комментарий ревьюера (v3)</b>\n",
    "\n",
    "Это только совет, я прогнал так на твоих данных и результат получился чуть лучше, чем на меньших диапазонах. Ну и в целом примерно такие диапазоны можно встретить на просторах интернета :)\n",
    "\n",
    "</div>\n"
   ]
  },
  {
   "cell_type": "code",
   "execution_count": 23,
   "metadata": {},
   "outputs": [
    {
     "data": {
      "text/plain": [
       "RandomForestClassifier(bootstrap=True, ccp_alpha=0.0, class_weight='balanced',\n",
       "                       criterion='gini', max_depth=10, max_features='auto',\n",
       "                       max_leaf_nodes=None, max_samples=None,\n",
       "                       min_impurity_decrease=0.0, min_impurity_split=None,\n",
       "                       min_samples_leaf=1, min_samples_split=2,\n",
       "                       min_weight_fraction_leaf=0.0, n_estimators=9,\n",
       "                       n_jobs=None, oob_score=False, random_state=12345,\n",
       "                       verbose=0, warm_start=False)"
      ]
     },
     "execution_count": 23,
     "metadata": {},
     "output_type": "execute_result"
    }
   ],
   "source": [
    "#Отсюда заберём параметры\n",
    "best_model_for"
   ]
  },
  {
   "cell_type": "code",
   "execution_count": 24,
   "metadata": {},
   "outputs": [
    {
     "name": "stdout",
     "output_type": "stream",
     "text": [
      "[1 1 1 ... 1 0 0]\n",
      "F1: 0.6337078651685393\n"
     ]
    }
   ],
   "source": [
    "predicted_valid = best_model_for.predict(features_valid)\n",
    "print(predicted_valid)\n",
    "print(\"F1:\", f1_score(target_valid, predicted_valid))"
   ]
  },
  {
   "cell_type": "markdown",
   "metadata": {},
   "source": [
    "<div class=\"alert alert-block alert-warning\">\n",
    "<b>Комментарий ревьюера (v3)</b>\n",
    "\n",
    "В целом, можно было снова не предсказывать значения, так как результат уже был сохранен в перменной best_result_forest. Вывел ниже ее, он как раз равен тому, что получилось выше.\n",
    "\n",
    "</div>\n"
   ]
  },
  {
   "cell_type": "code",
   "execution_count": 55,
   "metadata": {},
   "outputs": [
    {
     "data": {
      "text/plain": [
       "0.6337078651685393"
      ]
     },
     "execution_count": 55,
     "metadata": {},
     "output_type": "execute_result"
    }
   ],
   "source": [
    "best_result_forest"
   ]
  },
  {
   "cell_type": "markdown",
   "metadata": {},
   "source": [
    "<div class=\"alert alert-block alert-warning\">\n",
    "<b>Комментарий ревьюера</b>\n",
    "\n",
    "Также стоило настроить глубину дерева для случайного леса, то есть пройтись двойным циклом.\n",
    "\n",
    "</div>\n"
   ]
  },
  {
   "cell_type": "markdown",
   "metadata": {},
   "source": [
    "<div class=\"alert alert-block alert-success\">\n",
    "<b>Комментарий ревьюера (v2)</b>\n",
    "\n",
    "👍\n",
    "\n",
    "</div>\n"
   ]
  },
  {
   "cell_type": "markdown",
   "metadata": {},
   "source": [
    "<div class=\"alert alert-block alert-danger\">\n",
    "<b>Комментарий ревьюера</b>\n",
    "\n",
    "<s>Обрати внимание, что целевой метрикой в данном проекте является f1, а не accuracy. Поэтому в цикле нужно сравнивать и записывать именно значение этой матрики.\n",
    "\n",
    "</div>\n"
   ]
  },
  {
   "cell_type": "markdown",
   "metadata": {},
   "source": [
    "Посмотрим, какие параметры нас к этому привести. Вопрос: как из get_params вытащить параметры и загрузить потом при создании новой модели?"
   ]
  },
  {
   "cell_type": "markdown",
   "metadata": {},
   "source": [
    "<div class=\"alert alert-block alert-success\">\n",
    "<b>Комментарий ревьюера</b>\n",
    "\n",
    "Это можно сделать вот так. Для наглядности я скопировал параметры, но ты можешь просто сделать `params = best_model_forest1.get_params()`\n",
    "\n",
    "</div>\n"
   ]
  },
  {
   "cell_type": "markdown",
   "metadata": {},
   "source": [
    "### Дерево решений до балансировки"
   ]
  },
  {
   "cell_type": "code",
   "execution_count": 25,
   "metadata": {},
   "outputs": [
    {
     "name": "stdout",
     "output_type": "stream",
     "text": [
      "F1: 0.5904936014625228\n"
     ]
    }
   ],
   "source": [
    "accuracy_decision = []\n",
    "best_model_tree = None\n",
    "best_result_tree = 0\n",
    "depths = range(1, 11)\n",
    "\n",
    "for depth in range(1,10):\n",
    "    \n",
    "            model_dcsntree = DecisionTreeClassifier(max_depth = depth,class_weight='balanced',\\\n",
    "                                                    random_state = 12345)\n",
    "            model_dcsntree.fit(features_train, target_train)\n",
    "            predicted_valid = model_dcsntree.predict(features_valid)\n",
    "            score_f1_tree = f1_score(target_valid, predicted_valid)\n",
    "            f1_forest.append(score_f1_forest)\n",
    "            if score_f1_tree > best_result_tree:\n",
    "                best_model_tree = model_dcsntree\n",
    "                best_result_tree = score_f1_tree\n",
    "                \n",
    "predicted_valid = best_model_tree.predict(features_valid)\n",
    "print(\"F1:\", f1_score(target_valid, predicted_valid))"
   ]
  },
  {
   "cell_type": "markdown",
   "metadata": {},
   "source": [
    "<div class=\"alert alert-block alert-warning\">\n",
    "<b>Комментарий ревьюера (v2)</b>\n",
    "\n",
    "Тут много лишних отступов в цикле.\n",
    "\n",
    "</div>"
   ]
  },
  {
   "cell_type": "code",
   "execution_count": 26,
   "metadata": {},
   "outputs": [
    {
     "data": {
      "text/plain": [
       "DecisionTreeClassifier(ccp_alpha=0.0, class_weight='balanced', criterion='gini',\n",
       "                       max_depth=6, max_features=None, max_leaf_nodes=None,\n",
       "                       min_impurity_decrease=0.0, min_impurity_split=None,\n",
       "                       min_samples_leaf=1, min_samples_split=2,\n",
       "                       min_weight_fraction_leaf=0.0, presort='deprecated',\n",
       "                       random_state=12345, splitter='best')"
      ]
     },
     "execution_count": 26,
     "metadata": {},
     "output_type": "execute_result"
    }
   ],
   "source": [
    "best_model_tree"
   ]
  },
  {
   "cell_type": "markdown",
   "metadata": {},
   "source": [
    "### Логистическая регрессия"
   ]
  },
  {
   "cell_type": "code",
   "execution_count": 27,
   "metadata": {},
   "outputs": [
    {
     "name": "stdout",
     "output_type": "stream",
     "text": [
      "F1: 0.5153272576636289\n"
     ]
    }
   ],
   "source": [
    "#Проверим, меняется ли показатель, если у лог.регрессии есть параментр class_weight\n",
    "from sklearn.metrics import roc_auc_score\n",
    "model_logr = LogisticRegression(class_weight='balanced', random_state=12345)\n",
    "model_logr.fit(features_train, target_train)\n",
    "predicted_logr = model_logr.predict(features_valid)\n",
    "print(\"F1:\", f1_score(target_valid, predicted_logr))"
   ]
  },
  {
   "cell_type": "markdown",
   "metadata": {},
   "source": [
    "<div class=\"alert alert-block alert-warning\">\n",
    "<b>Комментарий ревьюера</b>\n",
    "\n",
    "Возможно, метрику на лог.реге можно поднять путем масштабирования количественных признаков (про это было в курсе).\n",
    "\n",
    "</div>\n"
   ]
  },
  {
   "cell_type": "markdown",
   "metadata": {},
   "source": [
    "<div class=\"alert alert-block alert-danger\">\n",
    "<b>Комментарий ревьюера</b>\n",
    "\n",
    "<s>Пожалуйста, не забудь попробовать class_weight='balanced' для моделей леса и дерева. Измнений в коде минимум, а результат зачастую сильно лучше. Это самый часто используемый метод.\n",
    "\n",
    "</div>\n",
    "<div class=\"alert alert-info\"> <b>Комментарий студента:</b> Дополнено</div>"
   ]
  },
  {
   "cell_type": "markdown",
   "metadata": {},
   "source": [
    "<div class=\"alert alert-block alert-warning\">\n",
    "<b>Комментарий ревьюера (v2)</b>\n",
    "\n",
    "Хорошо. Но теперь нет части, где мы пробуем модели без учета дисбаланса классов.\n",
    "\n",
    "</div>\n",
    "<div class=\"alert alert-info\"> <b>V3</b> Ниже.</div>"
   ]
  },
  {
   "cell_type": "markdown",
   "metadata": {},
   "source": [
    "<div class=\"alert alert-block alert-warning\">\n",
    "<b>Комментарий ревьюера (v3)</b>\n",
    "\n",
    "Я говорил чуть про другое. Сейчас ты сразу везде используешь class_weight='balanced'. Однако по заданию, да и просто интересно, как модели отработают, если им не говорить о дисбалансе.\n",
    "\n",
    "</div>\n"
   ]
  },
  {
   "cell_type": "code",
   "execution_count": 28,
   "metadata": {},
   "outputs": [
    {
     "name": "stdout",
     "output_type": "stream",
     "text": [
      "F1: 0.5515911282545805\n"
     ]
    }
   ],
   "source": [
    "### Пробуем без учёта дисбаланса\n",
    "predicted_test = best_model_tree.predict(features_test)\n",
    "print(\"F1:\", f1_score(target_test, predicted_test))"
   ]
  },
  {
   "cell_type": "code",
   "execution_count": 29,
   "metadata": {},
   "outputs": [
    {
     "name": "stdout",
     "output_type": "stream",
     "text": [
      "F1: 0.18377088305489261\n"
     ]
    }
   ],
   "source": [
    "predicted_test = best_model_for.predict(features_test)\n",
    "print(\"F1:\", f1_score(target_valid, predicted_test))"
   ]
  },
  {
   "cell_type": "code",
   "execution_count": 30,
   "metadata": {},
   "outputs": [
    {
     "name": "stdout",
     "output_type": "stream",
     "text": [
      "F1: 0.24573991031390133\n"
     ]
    }
   ],
   "source": [
    "predicted_test = model_logr.predict(features_test)\n",
    "print(\"F1:\", f1_score(target_valid, predicted_test))"
   ]
  },
  {
   "cell_type": "markdown",
   "metadata": {},
   "source": [
    "<div class=\"alert alert-block alert-warning\">\n",
    "<b>Комментарий ревьюера (v3)</b>\n",
    "\n",
    "Обрати внимание, что предсказания делаются для тестовых фич, а таргет передается из валидации.\n",
    "\n",
    "</div>\n"
   ]
  },
  {
   "cell_type": "markdown",
   "metadata": {},
   "source": [
    "Мы создали модели и протестировали их на тестовых выборках. Показатели — не фонтан. В самом начале исследования мы выяснили, что в данных есть дисбаланс. Попробуем с ним побороться."
   ]
  },
  {
   "cell_type": "markdown",
   "metadata": {},
   "source": [
    "## Борьба с дисбалансом"
   ]
  },
  {
   "cell_type": "markdown",
   "metadata": {},
   "source": [
    "<div class=\"alert alert-block alert-success\">\n",
    "<b>Комментарий ревьюера</b>\n",
    "\n",
    "Хорошо, анализ баланса классов есть, но лучше разместить его в первой части исследования.\n",
    "\n",
    "</div>\n"
   ]
  },
  {
   "cell_type": "markdown",
   "metadata": {},
   "source": [
    "### Даунсэмплинг"
   ]
  },
  {
   "cell_type": "code",
   "execution_count": 31,
   "metadata": {},
   "outputs": [],
   "source": [
    "#Попробуем даунсэмплинг. Уменьшим выборку\n",
    "def downsample(features, target, fraction):\n",
    "    features_zeros = features[target == 0]\n",
    "    features_ones = features[target == 1]\n",
    "    target_zeros = target[target == 0]\n",
    "    target_ones = target[target == 1]\n",
    "\n",
    "    features_downsampled = pd.concat(\n",
    "        [features_zeros.sample(frac=fraction, random_state=12345)] + [features_ones])\n",
    "    target_downsampled = pd.concat(\n",
    "        [target_zeros.sample(frac=fraction, random_state=12345)] + [target_ones])\n",
    "    \n",
    "    features_downsampled, target_downsampled = shuffle(\n",
    "        features_downsampled, target_downsampled, random_state=12345)\n",
    "    \n",
    "    return features_downsampled, target_downsampled"
   ]
  },
  {
   "cell_type": "markdown",
   "metadata": {},
   "source": [
    "### Балансировка Случайного леса\n",
    "https://beckernick.github.io/oversampling-modeling/"
   ]
  },
  {
   "cell_type": "code",
   "execution_count": 32,
   "metadata": {},
   "outputs": [
    {
     "name": "stdout",
     "output_type": "stream",
     "text": [
      "(6000,) (2406,)\n",
      "(6000, 11) (2406, 11)\n"
     ]
    }
   ],
   "source": [
    "from sklearn.utils import shuffle\n",
    "features_downsampled, target_downsampled = downsample(features_train, target_train, 0.25)\n",
    "print(target_train.shape, target_downsampled.shape)\n",
    "print(features_train.shape, features_downsampled.shape)"
   ]
  },
  {
   "cell_type": "markdown",
   "metadata": {},
   "source": [
    "<div class=\"alert alert-block alert-danger\">\n",
    "<b>Комментарий ревьюера</b>\n",
    "\n",
    "<s>Смотри, при значении fraction=0,1 мы получили снова выборку с дисбалансом классов, но в другую сторону. Подумай, какой коэффициент уменьшения стоит использовать в данном случае. Для этого нужно проанализировать баланс классов в изначальном датафрейме. Для апсемплинга аналогично. После применения этих методов баланс классов должен получиться примерно 50% на 50%.\n",
    "\n",
    "</div>\n",
    "<div class=\"alert alert-info\"> <b>Комментарий студента:</b> Выше добавила, как считала коэффициент. Не идеально, но вроде норм</div>"
   ]
  },
  {
   "cell_type": "markdown",
   "metadata": {},
   "source": [
    "<div class=\"alert alert-block alert-warning\">\n",
    "<b>Комментарий ревьюера (v2)</b>\n",
    "\n",
    "Также можно оценить баланс классов в новых выборках.\n",
    "\n",
    "</div>\n",
    "<div class=\"alert alert-info\"> <b>Комментарий студента V3:</b> Да, точно. Я хотела это сделать ещё в прогшлый раз, но поторопилась.</div>\n"
   ]
  },
  {
   "cell_type": "markdown",
   "metadata": {},
   "source": [
    "<div class=\"alert alert-block alert-success\">\n",
    "<b>Комментарий ревьюера (v3)</b>\n",
    "\n",
    "Здорово, лишняя проверка не помешает.\n",
    "\n",
    "</div>\n"
   ]
  },
  {
   "cell_type": "code",
   "execution_count": 33,
   "metadata": {},
   "outputs": [
    {
     "name": "stdout",
     "output_type": "stream",
     "text": [
      "1    0.502078\n",
      "0    0.497922\n",
      "Name: Exited, dtype: float64\n"
     ]
    },
    {
     "data": {
      "text/plain": [
       "<matplotlib.axes._subplots.AxesSubplot at 0x7f873eb17f50>"
      ]
     },
     "execution_count": 33,
     "metadata": {},
     "output_type": "execute_result"
    },
    {
     "data": {
      "image/png": "[encoded data removed]",
      "text/plain": [
       "<Figure size 432x288 with 1 Axes>"
      ]
     },
     "metadata": {
      "needs_background": "light"
     },
     "output_type": "display_data"
    }
   ],
   "source": [
    "#Проверяем баланс данных — по целевому признаку после уменьшения выборки.\n",
    "#Смотрим классы\n",
    "class_frequency = target_downsampled.value_counts(normalize=1)\n",
    "print(class_frequency)\n",
    "class_frequency.plot(kind='bar')"
   ]
  },
  {
   "cell_type": "code",
   "execution_count": 34,
   "metadata": {},
   "outputs": [
    {
     "data": {
      "text/plain": [
       "(2406,)"
      ]
     },
     "execution_count": 34,
     "metadata": {},
     "output_type": "execute_result"
    }
   ],
   "source": [
    "target_downsampled.shape"
   ]
  },
  {
   "cell_type": "code",
   "execution_count": 35,
   "metadata": {},
   "outputs": [
    {
     "name": "stdout",
     "output_type": "stream",
     "text": [
      "F1: 0.5860805860805861\n"
     ]
    }
   ],
   "source": [
    "from sklearn.model_selection import RandomizedSearchCV\n",
    "random_search = {'criterion': ['entropy', 'gini'],\n",
    "           \n",
    "           'max_features': ['auto', 'sqrt','log2', None],\n",
    "           'min_samples_leaf': [2, 4, 6, 8, 12],\n",
    "           'min_samples_split': [5, 7, 10, 14],\n",
    "           'n_estimators': range(10, 101, 10)}\n",
    "n_iter = [10, 12, 14, 16, 18, 20\n",
    "         ]\n",
    "from sklearn.metrics import make_scorer, roc_auc_score\n",
    "auc_score = make_scorer(roc_auc_score)\n",
    "#ОГО! У меня получилось. \n",
    "scoring = {\"roc_auc_score\": auc_score}\n",
    "\n",
    "model_random = RandomForestClassifier(random_state=12345, class_weight='balanced')\n",
    "model_random = RandomizedSearchCV(estimator = model_random, scoring = scoring, refit='roc_auc_score', param_distributions = random_search, random_state= 12345)\n",
    "model_random.fit(features_downsampled, target_downsampled)\n",
    "predicted_random = model_random.predict(features_valid)\n",
    "print(\"F1:\", f1_score(target_valid, predicted_random))"
   ]
  },
  {
   "cell_type": "markdown",
   "metadata": {},
   "source": [
    "<div class=\"alert alert-block alert-warning\">\n",
    "<b>Комментарий ревьюера (v2)</b>\n",
    "    \n",
    "\n",
    "Хорошо, только целевая метрика у нас f1, а не рок-аук. Лучше указывать ее. Но я попробовал и результат получается тот же самый, однако если расширить диапазон поиска  n_estimators можно добиться лучшего результата (пример ниже). Также можно попробовать увеличить количество итераций для поиска, по умолчанию n_iter=10, а также добавить в поиск глубину дерева). \n",
    "\n",
    "</div>\n",
    "<div class=\"alert alert-info\"> <b>V3:</b> Расскажу про беды. Эф-1 — метрика, значит, нам надо было использовать функцию, чтобы переформатировать в скорер. Но по неясной мне причине, у меня пошли проблемы с данными признаков. Я искала на оверфлоу, как преодолеть, но на это ушло очень много времени. Для оценки самой модели auc годится, метрику применяю ниже. И да, все результаты метрик выписываю, хотя это можно было автоматизировать. Я даже нашла чью-то работу из бывших студентов практикума, но, понятно, не стала даже пытаться понять, как там человек всё настроил.\n",
    "\n",
    "UPD: ниже у меня всё почему-то получилось.</div>"
   ]
  },
  {
   "cell_type": "markdown",
   "metadata": {},
   "source": [
    "<div class=\"alert alert-block alert-success\">\n",
    "<b>Комментарий ревьюера (v3)</b>\n",
    "\n",
    "Вообще, ты сделала значительно больше, чем обычно студенты делают в этом проекте. И это правильно. Скореры да, дело такое, неприятное. Тут только гуглежка помогает. Вообще странно, что у тебя не завелось, если в scoring просто передать \"roc_auc\", потому что я сейчас глянул в документации, такой параметр scoring может принять. Может, дело в разнице версий склерна.\n",
    "\n",
    "Вообще, большинство стандартных метрик уже и так заложены во всех инстументах. Скорер вручную обычно делается тогда, когда используешь какую-то странную или самописную метрику.\n",
    "\n",
    "</div>\n"
   ]
  },
  {
   "cell_type": "code",
   "execution_count": 36,
   "metadata": {},
   "outputs": [
    {
     "name": "stdout",
     "output_type": "stream",
     "text": [
      "F1: 0.5860805860805861\n"
     ]
    }
   ],
   "source": [
    "# Код ревьюера\n",
    "from sklearn.model_selection import RandomizedSearchCV\n",
    "random_search = {'criterion': ['entropy', 'gini'],\n",
    "           \n",
    "           'max_features': ['auto', 'sqrt','log2', None],\n",
    "           'min_samples_leaf': [2, 4, 6, 8, 12],\n",
    "           'min_samples_split': [5, 7, 10, 14],\n",
    "           'n_estimators': range(10, 101, 10)}\n",
    "\n",
    "\n",
    "model_random = RandomForestClassifier(random_state=12345, class_weight='balanced')\n",
    "model_random = RandomizedSearchCV(estimator = model_random, \n",
    "                                  scoring = 'f1', \n",
    "                                  param_distributions = random_search, \n",
    "                                  random_state= 12345)\n",
    "model_random.fit(features_downsampled, target_downsampled)\n",
    "predicted_random = model_random.predict(features_valid)\n",
    "print(\"F1:\", f1_score(target_valid, predicted_random))"
   ]
  },
  {
   "cell_type": "markdown",
   "metadata": {},
   "source": [
    "**Кросотааа** Но у меня что-то не получилось из эф-1 сделать скорер без проблем."
   ]
  },
  {
   "cell_type": "markdown",
   "metadata": {},
   "source": [
    "<div class=\"alert alert-block alert-warning\">\n",
    "<b>Комментарий ревьюера</b>\n",
    "\n",
    "В RandomizedSearchCV стоит указать нашу целевую метрику (параметр scoring).\n",
    "\n",
    "</div>\n",
    "<div class=\"alert alert-info\"> <b>V2-V3:</b> Сделала в прошлый раз, но не отметилась тут.</div>\n"
   ]
  },
  {
   "cell_type": "markdown",
   "metadata": {},
   "source": [
    "<div class=\"alert alert-block alert-success\">\n",
    "<b>Комментарий ревьюера (v3)</b>\n",
    "\n",
    "👍\n",
    "\n",
    "</div>\n"
   ]
  },
  {
   "cell_type": "markdown",
   "metadata": {},
   "source": [
    "### Решающее дерево - Даунсэмплинг"
   ]
  },
  {
   "cell_type": "code",
   "execution_count": 37,
   "metadata": {},
   "outputs": [
    {
     "name": "stdout",
     "output_type": "stream",
     "text": [
      "F1: 0.5736568457538995\n"
     ]
    }
   ],
   "source": [
    "best_result_tree = 0\n",
    "best_model_tree2 = None\n",
    "criterion = {'gini', 'entropy'}\n",
    "depths=[]\n",
    "min_samples_split = [2,3,4,5,6,7,8,9,10]\n",
    "min_samples_leaf = [1,2,3,4,5,6,7,8,9,10]\n",
    "\n",
    "for depth in range(1,10):\n",
    "    for c in criterion:\n",
    "        for mss in min_samples_split:\n",
    "            for msl in min_samples_leaf:\n",
    "                model_dcsntree2 = DecisionTreeClassifier(max_depth = depth, criterion = c,\\\n",
    "                                                    random_state = 12345, class_weight='balanced', min_samples_split=mss, min_samples_leaf = msl)\n",
    "                model_dcsntree2.fit(features_downsampled, target_downsampled)\n",
    "                predictions_decision = model_dcsntree2.predict(features_valid)\n",
    "                f1_tree_bal = f1_score(target_valid, predictions_decision)\n",
    "\n",
    "                if f1_tree_bal > best_result_tree:\n",
    "                    best_model_tree2 = model_dcsntree2\n",
    "                    best_result_tree = f1_tree_bal\n",
    "predicted_valid = best_model_tree2.predict(features_valid)\n",
    "print(\"F1:\", f1_score(target_valid, predicted_valid))"
   ]
  },
  {
   "cell_type": "markdown",
   "metadata": {},
   "source": [
    "### Логистическая регрессия - Даунсэмплинг"
   ]
  },
  {
   "cell_type": "code",
   "execution_count": 38,
   "metadata": {},
   "outputs": [
    {
     "name": "stdout",
     "output_type": "stream",
     "text": [
      "F1: 0.5193097781429746\n"
     ]
    }
   ],
   "source": [
    "model_logr2 = LogisticRegression(class_weight='balanced', random_state=12345)\n",
    "model_logr2.fit(features_downsampled, target_downsampled)\n",
    "predicted_valid_log = model_logr2.predict(features_valid)\n",
    "print(\"F1:\", f1_score(target_valid, predicted_valid_log))"
   ]
  },
  {
   "cell_type": "markdown",
   "metadata": {},
   "source": [
    "**.59, 57, 49 — в целом, стало лучше. Мы доработали модели в начале. Улучшился показатель Решающего дерева.**"
   ]
  },
  {
   "cell_type": "markdown",
   "metadata": {},
   "source": [
    "### Апсэмплинг"
   ]
  },
  {
   "cell_type": "code",
   "execution_count": 39,
   "metadata": {},
   "outputs": [],
   "source": [
    "def upsample(features, target, repeat):\n",
    "    features_zeros = features[target == 0]\n",
    "    features_ones = features[target == 1]\n",
    "    target_zeros = target[target == 0]\n",
    "    target_ones = target[target == 1]\n",
    " \n",
    "    features_upsampled = pd.concat([features_zeros] + [features_ones] * repeat)\n",
    "    target_upsampled = pd.concat([target_zeros] + [target_ones] * repeat)\n",
    "    \n",
    "    features_upsampled, target_upsampled = shuffle(\n",
    "        features_upsampled, target_upsampled, random_state=12345)\n",
    "    \n",
    "    return features_upsampled, target_upsampled"
   ]
  },
  {
   "cell_type": "code",
   "execution_count": 40,
   "metadata": {},
   "outputs": [
    {
     "name": "stdout",
     "output_type": "stream",
     "text": [
      "(6000,) (9624,)\n",
      "(6000, 11) (9624, 11)\n"
     ]
    }
   ],
   "source": [
    "features_upsampled, target_upsampled = upsample(features_train, target_train, 4)\n",
    "print(target_train.shape, target_upsampled.shape)\n",
    "print(features_train.shape, features_upsampled.shape)"
   ]
  },
  {
   "cell_type": "markdown",
   "metadata": {},
   "source": [
    "### Случайный лес - Апсэмплинг"
   ]
  },
  {
   "cell_type": "code",
   "execution_count": 41,
   "metadata": {},
   "outputs": [
    {
     "name": "stdout",
     "output_type": "stream",
     "text": [
      "1    0.502078\n",
      "0    0.497922\n",
      "Name: Exited, dtype: float64\n"
     ]
    },
    {
     "data": {
      "text/plain": [
       "<matplotlib.axes._subplots.AxesSubplot at 0x7f873eb179d0>"
      ]
     },
     "execution_count": 41,
     "metadata": {},
     "output_type": "execute_result"
    },
    {
     "data": {
      "image/png": "[encoded data removed]",
      "text/plain": [
       "<Figure size 432x288 with 1 Axes>"
      ]
     },
     "metadata": {
      "needs_background": "light"
     },
     "output_type": "display_data"
    }
   ],
   "source": [
    "#Проверяем баланс данных — по целевому признаку после уменьшения выборки.\n",
    "#Смотрим классы\n",
    "class_frequency = target_upsampled.value_counts(normalize=1)\n",
    "print(class_frequency)\n",
    "class_frequency.plot(kind='bar')"
   ]
  },
  {
   "cell_type": "code",
   "execution_count": 42,
   "metadata": {},
   "outputs": [
    {
     "name": "stdout",
     "output_type": "stream",
     "text": [
      "F1: 0.6222222222222222\n"
     ]
    }
   ],
   "source": [
    "model_random2 = RandomForestClassifier(random_state=12345, class_weight='balanced')\n",
    "model_random2 = RandomizedSearchCV(estimator = model_random2, scoring = 'f1', param_distributions = random_search, random_state= 12345)\n",
    "model_random2.fit(features_upsampled, target_upsampled)\n",
    "predicted_random = model_random2.predict(features_valid)\n",
    "print(\"F1:\", f1_score(target_valid, predicted_random))"
   ]
  },
  {
   "cell_type": "markdown",
   "metadata": {},
   "source": [
    "А здесь скоринг сработал( Ладно, буду знать, что так можно."
   ]
  },
  {
   "cell_type": "markdown",
   "metadata": {},
   "source": [
    "### Решающее дерево - Апсэмплинг"
   ]
  },
  {
   "cell_type": "code",
   "execution_count": 43,
   "metadata": {},
   "outputs": [
    {
     "name": "stdout",
     "output_type": "stream",
     "text": [
      "F1: 0.5736568457538995\n"
     ]
    }
   ],
   "source": [
    "best_result_tree = 0\n",
    "best_model_tree3 = None\n",
    "criterion = {'gini', 'entropy'}\n",
    "depths=[]\n",
    "min_samples_split = [2,3,4,5,6,7,8,9,10]\n",
    "min_samples_leaf = [1,2,3,4,5,6,7,8,9,10]\n",
    "\n",
    "for depth in range(1,10):\n",
    "    for c in criterion:\n",
    "        for mss in min_samples_split:\n",
    "            for msl in min_samples_leaf:\n",
    "                model_dcsntree2 = DecisionTreeClassifier(max_depth = depth, criterion = c,\\\n",
    "                                                    random_state = 12345, class_weight='balanced', min_samples_split=mss, min_samples_leaf = msl)\n",
    "                model_dcsntree2.fit(features_downsampled, target_downsampled)\n",
    "                predictions_decision = model_dcsntree2.predict(features_valid)\n",
    "                f1_tree_bal = f1_score(target_valid, predictions_decision)\n",
    "\n",
    "                if f1_tree_bal > best_result_tree:\n",
    "                    best_model_tree3 = model_dcsntree2\n",
    "                    best_result_tree = f1_tree_bal\n",
    "\n",
    "\n",
    "best_model_tree3.fit(features_upsampled, target_upsampled)\n",
    "predicted_valid = best_model_tree2.predict(features_valid)\n",
    "print(\"F1:\", f1_score(target_valid, predicted_valid))"
   ]
  },
  {
   "cell_type": "markdown",
   "metadata": {},
   "source": [
    "### Логистическая регрессия - Апсэмплинг"
   ]
  },
  {
   "cell_type": "code",
   "execution_count": 44,
   "metadata": {},
   "outputs": [
    {
     "name": "stdout",
     "output_type": "stream",
     "text": [
      "F1: 0.5153272576636289\n"
     ]
    }
   ],
   "source": [
    "model_logr3 = LogisticRegression(random_state=12345, class_weight='balanced', solver='liblinear')\n",
    "model_logr3.fit(features_upsampled, target_upsampled)\n",
    "predicted_valid =  model_logr3.predict(features_valid)\n",
    "\n",
    "print(\"F1:\", f1_score(target_valid, predicted_valid))"
   ]
  },
  {
   "cell_type": "markdown",
   "metadata": {},
   "source": [
    "**.64, .58, .49.**"
   ]
  },
  {
   "cell_type": "markdown",
   "metadata": {},
   "source": [
    "<div class=\"alert alert-block alert-warning\">\n",
    "<b>Комментарий ревьюера</b>\n",
    "\n",
    "Довольно странный результат, но, думаю, после корректного ап/даунсемплинга все будет ОК.\n",
    "\n",
    "</div>\n"
   ]
  },
  {
   "cell_type": "markdown",
   "metadata": {},
   "source": [
    "<div class=\"alert alert-block alert-success\">\n",
    "<b>Комментарий ревьюера (v2)</b>\n",
    "\n",
    "Да, результат выправился.\n",
    "\n",
    "</div>\n"
   ]
  },
  {
   "cell_type": "markdown",
   "metadata": {},
   "source": [
    "## Тестирование модели"
   ]
  },
  {
   "cell_type": "markdown",
   "metadata": {},
   "source": [
    "На модели, тренированной на увеличенной выборке."
   ]
  },
  {
   "cell_type": "markdown",
   "metadata": {},
   "source": [
    "### Дерево решений"
   ]
  },
  {
   "cell_type": "code",
   "execution_count": 45,
   "metadata": {},
   "outputs": [
    {
     "name": "stdout",
     "output_type": "stream",
     "text": [
      "F1: 0.562380038387716\n"
     ]
    }
   ],
   "source": [
    "predicted_test = best_model_tree3.predict(features_test)\n",
    "print(\"F1:\", f1_score(target_test, predicted_test))"
   ]
  },
  {
   "cell_type": "markdown",
   "metadata": {},
   "source": [
    "<div class=\"alert alert-block alert-danger\">\n",
    "<b>Комментарий ревьюера</b>\n",
    "\n",
    "<s>Обрати внимание, что параметр указывается при мультиклассовой классификации. В нашем случае она бинарная, поэтому этот параметр указывать не нужно.\n",
    "\n",
    "</div>\n",
    "<div class=\"alert alert-info\"> <b>Комментарий студента:</b> Я вроде как поняла, но на самом деле нет.</div>"
   ]
  },
  {
   "cell_type": "markdown",
   "metadata": {},
   "source": [
    "<div class=\"alert alert-block alert-success\">\n",
    "<b>Комментарий ревьюера (v2)</b>\n",
    "\n",
    "При простой бинарной классификации нужно использовать f1_score как он есть :)\n",
    "\n",
    "</div>\n"
   ]
  },
  {
   "cell_type": "code",
   "execution_count": 46,
   "metadata": {},
   "outputs": [],
   "source": [
    "from sklearn.metrics import roc_auc_score"
   ]
  },
  {
   "cell_type": "code",
   "execution_count": 47,
   "metadata": {},
   "outputs": [
    {
     "name": "stdout",
     "output_type": "stream",
     "text": [
      "0.8075479177174093\n"
     ]
    }
   ],
   "source": [
    "print(roc_auc_score(target_test, best_model_tree.predict_proba(features_test)[:, 1]))"
   ]
  },
  {
   "cell_type": "markdown",
   "metadata": {},
   "source": [
    "### Случайный лес\n"
   ]
  },
  {
   "cell_type": "code",
   "execution_count": 48,
   "metadata": {},
   "outputs": [],
   "source": [
    "predictions_test = model_random2.predict(features_test)"
   ]
  },
  {
   "cell_type": "code",
   "execution_count": 49,
   "metadata": {},
   "outputs": [
    {
     "name": "stdout",
     "output_type": "stream",
     "text": [
      "0.5957446808510639\n"
     ]
    }
   ],
   "source": [
    "print(f1_score(target_test, predictions_test))"
   ]
  },
  {
   "cell_type": "code",
   "execution_count": 50,
   "metadata": {},
   "outputs": [
    {
     "name": "stdout",
     "output_type": "stream",
     "text": [
      "0.8391650510294579\n"
     ]
    }
   ],
   "source": [
    "                  \n",
    "print(roc_auc_score(target_test, model_random.predict_proba(features_test)[:, 1]))"
   ]
  },
  {
   "cell_type": "markdown",
   "metadata": {},
   "source": [
    "### Логистическая регрессия"
   ]
  },
  {
   "cell_type": "code",
   "execution_count": 51,
   "metadata": {},
   "outputs": [],
   "source": [
    "predictions_logregress2 = model_logr2.predict(features_test)"
   ]
  },
  {
   "cell_type": "code",
   "execution_count": 52,
   "metadata": {},
   "outputs": [],
   "source": [
    "result_logregr =  accuracy_score(target_test,predictions_logregress2)"
   ]
  },
  {
   "cell_type": "code",
   "execution_count": 53,
   "metadata": {},
   "outputs": [
    {
     "name": "stdout",
     "output_type": "stream",
     "text": [
      "0.49066666666666664\n"
     ]
    }
   ],
   "source": [
    "print(f1_score(target_test, predictions_logregress2))"
   ]
  },
  {
   "cell_type": "code",
   "execution_count": 54,
   "metadata": {},
   "outputs": [
    {
     "name": "stdout",
     "output_type": "stream",
     "text": [
      "0.7640521877810015\n"
     ]
    }
   ],
   "source": [
    "\n",
    "print(roc_auc_score(target_test, model_logr2.decision_function(features_test)))"
   ]
  },
  {
   "cell_type": "markdown",
   "metadata": {},
   "source": [
    "### Модель на катбуст"
   ]
  },
  {
   "cell_type": "markdown",
   "metadata": {},
   "source": [
    " (хотела попробовать, но решила, что пока надо основную часть сделать нормально)"
   ]
  },
  {
   "cell_type": "markdown",
   "metadata": {},
   "source": [
    "<div class=\"alert alert-block alert-success\">\n",
    "<b>Комментарий ревьюера</b>\n",
    "\n",
    "Принято.\n",
    "\n",
    "</div>\n",
    "<div class=\"alert alert-info\"> <b>V3:</b> Сорри, я решила, что и так заняла немало твоего времени. Экспериментирую у себя в джупитере</div>\n"
   ]
  },
  {
   "cell_type": "markdown",
   "metadata": {},
   "source": [
    "<div class=\"alert alert-block alert-success\">\n",
    "<b>Комментарий ревьюера (v3)</b>\n",
    "\n",
    "Хорошо, но мы тут за обучением и это моя работа :) Вот [туториал](https://www.kaggle.com/mitribunskiy/tutorial-catboost-overview), про который я писал выше. Думаю, он будет тебе полезен. Я несколько месяцев назад с удовольсвием прочел и своровал (одолжил 😂) пару фишек. Там как раз есть про важность признаков.\n",
    "\n",
    "</div>\n"
   ]
  },
  {
   "cell_type": "markdown",
   "metadata": {},
   "source": [
    "## Выводы"
   ]
  },
  {
   "cell_type": "markdown",
   "metadata": {},
   "source": [
    "Не изменяемые метрики: random_state=12345, class_weight.\n",
    "\n",
    "Для классификаций настройка происходила через Grid.\n",
    "\n",
    "Требуемого значения на тестовой выборке достигла модель Случайного леса, обученная на увеличенной выборке.\n",
    "Остальные модели не подошли.\n",
    "\n",
    "Наблюдение за метрикой AUC-ROC: Она положительно коррелирует с показателем f1. Но её показатели — высокие. Она рассматривает качество модели отдельно и выявляет долю без ошибок."
   ]
  },
  {
   "cell_type": "markdown",
   "metadata": {},
   "source": [
    "<div class=\"alert alert-block alert-success\">\n",
    "<b>Комментарий ревьюера</b>\n",
    "\n",
    "Значения какой метрики меняются? Проверь, везде ли зафиксированы рандом стейты.\n",
    "\n",
    "</div>\n"
   ]
  },
  {
   "cell_type": "markdown",
   "metadata": {},
   "source": [
    "## Чек-лист готовности проекта"
   ]
  },
  {
   "cell_type": "markdown",
   "metadata": {},
   "source": [
    "Поставьте 'x' в выполненных пунктах. Далее нажмите Shift+Enter."
   ]
  },
  {
   "cell_type": "markdown",
   "metadata": {},
   "source": [
    "- [x]  Jupyter Notebook открыт\n",
    "- [x]  Весь код выполняется без ошибок\n",
    "- [x]  Ячейки с кодом расположены в порядке исполнения\n",
    "- [x]  Выполнен шаг 1: данные подготовлены\n",
    "- [x]  Выполнен шаг 2: задача исследована\n",
    "    - [x]  Исследован баланс классов\n",
    "    - [x]  Изучены модели без учёта дисбаланса\n",
    "    - [x]  Написаны выводы по результатам исследования\n",
    "- [x]  Выполнен шаг 3: учтён дисбаланс\n",
    "    - [x]  Применено несколько способов борьбы с дисбалансом\n",
    "    - [x]  Написаны выводы по результатам исследования\n",
    "- [x]  Выполнен шаг 4: проведено тестирование\n",
    "- [x]  Удалось достичь *F1*-меры не менее 0.59\n",
    "- [x]  Исследована метрика *AUC-ROC*"
   ]
  },
  {
   "cell_type": "markdown",
   "metadata": {
    "toc": true
   },
   "source": [
    "<h1>Содержание<span class=\"tocSkip\"></span></h1>\n",
    "<div class=\"toc\"><ul class=\"toc-item\"><li><span><a href=\"#Подготовка-данных\" data-toc-modified-id=\"Подготовка-данных-1\"><span class=\"toc-item-num\">1&nbsp;&nbsp;</span>Подготовка данных</a></span></li><li><span><a href=\"#Исследование-задачи\" data-toc-modified-id=\"Исследование-задачи-2\"><span class=\"toc-item-num\">2&nbsp;&nbsp;</span>Исследование задачи</a></span></li><li><span><a href=\"#Борьба-с-дисбалансом\" data-toc-modified-id=\"Борьба-с-дисбалансом-3\"><span class=\"toc-item-num\">3&nbsp;&nbsp;</span>Борьба с дисбалансом</a></span></li><li><span><a href=\"#Тестирование-модели\" data-toc-modified-id=\"Тестирование-модели-4\"><span class=\"toc-item-num\">4&nbsp;&nbsp;</span>Тестирование модели</a></span></li><li><span><a href=\"#Чек-лист-готовности-проекта\" data-toc-modified-id=\"Чек-лист-готовности-проекта-5\"><span class=\"toc-item-num\">5&nbsp;&nbsp;</span>Чек-лист готовности проекта</a></span></li></ul></div>"
   ]
  }
 ],
 "metadata": {
  "kernelspec": {
   "display_name": "Python 3 (ipykernel)",
   "language": "python",
   "name": "python3"
  },
  "language_info": {
   "codemirror_mode": {
    "name": "ipython",
    "version": 3
   },
   "file_extension": ".py",
   "mimetype": "text/x-python",
   "name": "python",
   "nbconvert_exporter": "python",
   "pygments_lexer": "ipython3",
   "version": "3.9.5"
  },
  "toc": {
   "base_numbering": 1,
   "nav_menu": {},
   "number_sections": true,
   "sideBar": true,
   "skip_h1_title": true,
   "title_cell": "Содержание",
   "title_sidebar": "Contents",
   "toc_cell": true,
   "toc_position": {},
   "toc_section_display": true,
   "toc_window_display": false
  }
 },
 "nbformat": 4,
 "nbformat_minor": 2
}
