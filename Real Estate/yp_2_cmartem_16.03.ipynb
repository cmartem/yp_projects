{
 "cells": [
  {
   "cell_type": "markdown",
   "metadata": {},
   "source": [
    "# Исследование объявлений о продаже квартир\n",
    "\n",
    "В вашем распоряжении данные сервиса Яндекс.Недвижимость — архив объявлений о продаже квартир в Санкт-Петербурге и соседних населённых пунктов за несколько лет. Нужно научиться определять рыночную стоимость объектов недвижимости. Ваша задача — установить параметры. Это позволит построить автоматизированную систему: она отследит аномалии и мошенническую деятельность. \n",
    "\n",
    "По каждой квартире на продажу доступны два вида данных. Первые вписаны пользователем, вторые — получены автоматически на основе картографических данных. Например, расстояние до центра, аэропорта, ближайшего парка и водоёма. \n",
    "\n",
    "На ценообразование из самых вероятных факторов могли повлиять расстояние до городского центра или важных направлений, близость от угодий, площадь квартиры и количество комнат.\n",
    "\n",
    "В параметры квартир входят: наличие балкона, количество комнат, этажность, жилая площадь, площадь кухни.\n",
    "\n",
    "Кроме того, можно предположить, что время выставления объявления, а также то, сколько объявление было доступно на сайте, имеют влияние на спрос.\n",
    "\n",
    "Какой город(а) \"предлагают\" больше всего квартир?\n",
    "Какие факторы имеют большее/меньшее значение на скорость продажи?\n",
    "Влияет ли расстояние до природных угодий на скорость продажи? До аэропорта?\n",
    "Влияют ли параметры квартиры на скорость сделки?\n",
    "Расстояние до городского центра: влияет ли на скорость продажи квартиры? И в какой мере? т.е. всегда ли?\n",
    "Есть ли периоды времени, когда можно ожидать самые свежие объявления?\n",
    "Какой год был самым богатым на предложения недвижимости?\n",
    "\n",
    "\n",
    "**Дополнительная литература** \n",
    "- <a href=\" https://coderoad.ru/38579532/pandas-%D1%8D%D0%BA%D0%B2%D0%B8%D0%B2%D0%B0%D0%BB%D0%B5%D0%BD%D1%82-np-where\">Использование np.where для простановки значений</a> \n"
   ]
  },
  {
   "cell_type": "markdown",
   "metadata": {},
   "source": [
    "### Шаг 1. Откройте файл с данными и изучите общую информацию. "
   ]
  },
  {
   "cell_type": "code",
   "execution_count": 1,
   "metadata": {},
   "outputs": [],
   "source": [
    "import pandas as pd\n",
    "import numpy as np\n",
    "import seaborn as sb"
   ]
  },
  {
   "cell_type": "code",
   "execution_count": 2,
   "metadata": {},
   "outputs": [
    {
     "name": "stdout",
     "output_type": "stream",
     "text": [
      "Defaulting to user installation because normal site-packages is not writeable\n",
      "Requirement already satisfied: seaborn==0.11.0 in /home/jovyan/.local/lib/python3.7/site-packages (0.11.0)\n",
      "Requirement already satisfied: scipy>=1.0 in /opt/conda/lib/python3.7/site-packages (from seaborn==0.11.0) (1.4.1)\n",
      "Requirement already satisfied: numpy>=1.15 in /opt/conda/lib/python3.7/site-packages (from seaborn==0.11.0) (1.19.5)\n",
      "Requirement already satisfied: matplotlib>=2.2 in /opt/conda/lib/python3.7/site-packages (from seaborn==0.11.0) (3.1.0)\n",
      "Requirement already satisfied: pandas>=0.23 in /opt/conda/lib/python3.7/site-packages (from seaborn==0.11.0) (0.25.1)\n",
      "Requirement already satisfied: cycler>=0.10 in /opt/conda/lib/python3.7/site-packages (from matplotlib>=2.2->seaborn==0.11.0) (0.10.0)\n",
      "Requirement already satisfied: pyparsing!=2.0.4,!=2.1.2,!=2.1.6,>=2.0.1 in /opt/conda/lib/python3.7/site-packages (from matplotlib>=2.2->seaborn==0.11.0) (2.4.7)\n",
      "Requirement already satisfied: python-dateutil>=2.1 in /opt/conda/lib/python3.7/site-packages (from matplotlib>=2.2->seaborn==0.11.0) (2.8.1)\n",
      "Requirement already satisfied: kiwisolver>=1.0.1 in /opt/conda/lib/python3.7/site-packages (from matplotlib>=2.2->seaborn==0.11.0) (1.3.1)\n",
      "Requirement already satisfied: pytz>=2017.2 in /opt/conda/lib/python3.7/site-packages (from pandas>=0.23->seaborn==0.11.0) (2021.1)\n",
      "Requirement already satisfied: six in /opt/conda/lib/python3.7/site-packages (from cycler>=0.10->matplotlib>=2.2->seaborn==0.11.0) (1.15.0)\n",
      "Note: you may need to restart the kernel to use updated packages.\n"
     ]
    }
   ],
   "source": [
    "pip install seaborn==0.11.0  #Выдавал ошибку, не хотел делать histplot"
   ]
  },
  {
   "cell_type": "code",
   "execution_count": 3,
   "metadata": {},
   "outputs": [],
   "source": [
    "data = pd.read_csv('real_estate_data.csv', sep = '\\t')\n",
    "#Взято отсюда https://webtort.ru/%D0%BA%D0%B0%D0%BA-%D0%B2%D1%8B%D0%B2%D0%B5%D1%81%D1%82%D0%B8-%D0%B2%D1%81%D1%8E-%D1%82%D0%B0%D0%B1%D0%BB%D0%B8%D1%86%D1%83-%D0%B2-pandas/\n",
    "pd.set_option('display.max_rows', None)\n",
    "pd.set_option('display.max_columns', None)\n",
    "#pd.set_option('display.max_colwidth', None)"
   ]
  },
  {
   "cell_type": "code",
   "execution_count": 4,
   "metadata": {},
   "outputs": [
    {
     "data": {
      "text/html": [
       "<div>\n",
       "<style scoped>\n",
       "    .dataframe tbody tr th:only-of-type {\n",
       "        vertical-align: middle;\n",
       "    }\n",
       "\n",
       "    .dataframe tbody tr th {\n",
       "        vertical-align: top;\n",
       "    }\n",
       "\n",
       "    .dataframe thead th {\n",
       "        text-align: right;\n",
       "    }\n",
       "</style>\n",
       "<table border=\"1\" class=\"dataframe\">\n",
       "  <thead>\n",
       "    <tr style=\"text-align: right;\">\n",
       "      <th></th>\n",
       "      <th>total_images</th>\n",
       "      <th>last_price</th>\n",
       "      <th>total_area</th>\n",
       "      <th>first_day_exposition</th>\n",
       "      <th>rooms</th>\n",
       "      <th>ceiling_height</th>\n",
       "      <th>floors_total</th>\n",
       "      <th>living_area</th>\n",
       "      <th>floor</th>\n",
       "      <th>is_apartment</th>\n",
       "      <th>studio</th>\n",
       "      <th>open_plan</th>\n",
       "      <th>kitchen_area</th>\n",
       "      <th>balcony</th>\n",
       "      <th>locality_name</th>\n",
       "      <th>airports_nearest</th>\n",
       "      <th>cityCenters_nearest</th>\n",
       "      <th>parks_around3000</th>\n",
       "      <th>parks_nearest</th>\n",
       "      <th>ponds_around3000</th>\n",
       "      <th>ponds_nearest</th>\n",
       "      <th>days_exposition</th>\n",
       "    </tr>\n",
       "  </thead>\n",
       "  <tbody>\n",
       "    <tr>\n",
       "      <td>23431</td>\n",
       "      <td>10</td>\n",
       "      <td>3950000.0</td>\n",
       "      <td>41.2</td>\n",
       "      <td>2018-02-16T00:00:00</td>\n",
       "      <td>1</td>\n",
       "      <td>NaN</td>\n",
       "      <td>23.0</td>\n",
       "      <td>19.2</td>\n",
       "      <td>11</td>\n",
       "      <td>NaN</td>\n",
       "      <td>False</td>\n",
       "      <td>False</td>\n",
       "      <td>10.0</td>\n",
       "      <td>NaN</td>\n",
       "      <td>посёлок Шушары</td>\n",
       "      <td>12932.0</td>\n",
       "      <td>18718.0</td>\n",
       "      <td>0.0</td>\n",
       "      <td>NaN</td>\n",
       "      <td>0.0</td>\n",
       "      <td>NaN</td>\n",
       "      <td>177.0</td>\n",
       "    </tr>\n",
       "    <tr>\n",
       "      <td>19009</td>\n",
       "      <td>17</td>\n",
       "      <td>1400000.0</td>\n",
       "      <td>31.0</td>\n",
       "      <td>2017-09-07T00:00:00</td>\n",
       "      <td>1</td>\n",
       "      <td>2.50</td>\n",
       "      <td>5.0</td>\n",
       "      <td>18.0</td>\n",
       "      <td>3</td>\n",
       "      <td>NaN</td>\n",
       "      <td>False</td>\n",
       "      <td>False</td>\n",
       "      <td>6.0</td>\n",
       "      <td>2.0</td>\n",
       "      <td>городской посёлок Мга</td>\n",
       "      <td>NaN</td>\n",
       "      <td>NaN</td>\n",
       "      <td>NaN</td>\n",
       "      <td>NaN</td>\n",
       "      <td>NaN</td>\n",
       "      <td>NaN</td>\n",
       "      <td>511.0</td>\n",
       "    </tr>\n",
       "    <tr>\n",
       "      <td>787</td>\n",
       "      <td>3</td>\n",
       "      <td>2750000.0</td>\n",
       "      <td>41.0</td>\n",
       "      <td>2016-01-25T00:00:00</td>\n",
       "      <td>2</td>\n",
       "      <td>NaN</td>\n",
       "      <td>4.0</td>\n",
       "      <td>26.0</td>\n",
       "      <td>2</td>\n",
       "      <td>False</td>\n",
       "      <td>False</td>\n",
       "      <td>False</td>\n",
       "      <td>5.0</td>\n",
       "      <td>1.0</td>\n",
       "      <td>Гатчина</td>\n",
       "      <td>NaN</td>\n",
       "      <td>NaN</td>\n",
       "      <td>NaN</td>\n",
       "      <td>NaN</td>\n",
       "      <td>NaN</td>\n",
       "      <td>NaN</td>\n",
       "      <td>428.0</td>\n",
       "    </tr>\n",
       "    <tr>\n",
       "      <td>610</td>\n",
       "      <td>6</td>\n",
       "      <td>1800000.0</td>\n",
       "      <td>32.0</td>\n",
       "      <td>2018-08-04T00:00:00</td>\n",
       "      <td>1</td>\n",
       "      <td>3.00</td>\n",
       "      <td>2.0</td>\n",
       "      <td>17.0</td>\n",
       "      <td>1</td>\n",
       "      <td>NaN</td>\n",
       "      <td>False</td>\n",
       "      <td>False</td>\n",
       "      <td>7.0</td>\n",
       "      <td>NaN</td>\n",
       "      <td>Луга</td>\n",
       "      <td>NaN</td>\n",
       "      <td>NaN</td>\n",
       "      <td>NaN</td>\n",
       "      <td>NaN</td>\n",
       "      <td>NaN</td>\n",
       "      <td>NaN</td>\n",
       "      <td>37.0</td>\n",
       "    </tr>\n",
       "    <tr>\n",
       "      <td>2957</td>\n",
       "      <td>9</td>\n",
       "      <td>15450000.0</td>\n",
       "      <td>97.1</td>\n",
       "      <td>2016-07-04T00:00:00</td>\n",
       "      <td>2</td>\n",
       "      <td>3.65</td>\n",
       "      <td>4.0</td>\n",
       "      <td>57.8</td>\n",
       "      <td>1</td>\n",
       "      <td>NaN</td>\n",
       "      <td>False</td>\n",
       "      <td>False</td>\n",
       "      <td>10.6</td>\n",
       "      <td>0.0</td>\n",
       "      <td>Санкт-Петербург</td>\n",
       "      <td>22704.0</td>\n",
       "      <td>1313.0</td>\n",
       "      <td>2.0</td>\n",
       "      <td>684.0</td>\n",
       "      <td>3.0</td>\n",
       "      <td>29.0</td>\n",
       "      <td>141.0</td>\n",
       "    </tr>\n",
       "  </tbody>\n",
       "</table>\n",
       "</div>"
      ],
      "text/plain": [
       "       total_images  last_price  total_area first_day_exposition  rooms  \\\n",
       "23431            10   3950000.0        41.2  2018-02-16T00:00:00      1   \n",
       "19009            17   1400000.0        31.0  2017-09-07T00:00:00      1   \n",
       "787               3   2750000.0        41.0  2016-01-25T00:00:00      2   \n",
       "610               6   1800000.0        32.0  2018-08-04T00:00:00      1   \n",
       "2957              9  15450000.0        97.1  2016-07-04T00:00:00      2   \n",
       "\n",
       "       ceiling_height  floors_total  living_area  floor is_apartment  studio  \\\n",
       "23431             NaN          23.0         19.2     11          NaN   False   \n",
       "19009            2.50           5.0         18.0      3          NaN   False   \n",
       "787               NaN           4.0         26.0      2        False   False   \n",
       "610              3.00           2.0         17.0      1          NaN   False   \n",
       "2957             3.65           4.0         57.8      1          NaN   False   \n",
       "\n",
       "       open_plan  kitchen_area  balcony          locality_name  \\\n",
       "23431      False          10.0      NaN         посёлок Шушары   \n",
       "19009      False           6.0      2.0  городской посёлок Мга   \n",
       "787        False           5.0      1.0                Гатчина   \n",
       "610        False           7.0      NaN                   Луга   \n",
       "2957       False          10.6      0.0        Санкт-Петербург   \n",
       "\n",
       "       airports_nearest  cityCenters_nearest  parks_around3000  parks_nearest  \\\n",
       "23431           12932.0              18718.0               0.0            NaN   \n",
       "19009               NaN                  NaN               NaN            NaN   \n",
       "787                 NaN                  NaN               NaN            NaN   \n",
       "610                 NaN                  NaN               NaN            NaN   \n",
       "2957            22704.0               1313.0               2.0          684.0   \n",
       "\n",
       "       ponds_around3000  ponds_nearest  days_exposition  \n",
       "23431               0.0            NaN            177.0  \n",
       "19009               NaN            NaN            511.0  \n",
       "787                 NaN            NaN            428.0  \n",
       "610                 NaN            NaN             37.0  \n",
       "2957                3.0           29.0            141.0  "
      ]
     },
     "execution_count": 4,
     "metadata": {},
     "output_type": "execute_result"
    }
   ],
   "source": [
    "data.sample(5)"
   ]
  },
  {
   "cell_type": "markdown",
   "metadata": {},
   "source": [
    "### Вывод"
   ]
  },
  {
   "cell_type": "markdown",
   "metadata": {},
   "source": [
    "В данных есть разнородные данные. Есть пропуски, которые будут мешать вычислениям. Есть параметры True/False - нам важно, в частности потому что исследование *квартир*, а не апартаментов. \n",
    "Нам понадобится заполнить пробелы, заменить тип данных."
   ]
  },
  {
   "cell_type": "markdown",
   "metadata": {},
   "source": [
    "### Шаг 2. Предобработка данных"
   ]
  },
  {
   "cell_type": "code",
   "execution_count": 5,
   "metadata": {},
   "outputs": [
    {
     "data": {
      "text/html": [
       "<div>\n",
       "<style scoped>\n",
       "    .dataframe tbody tr th:only-of-type {\n",
       "        vertical-align: middle;\n",
       "    }\n",
       "\n",
       "    .dataframe tbody tr th {\n",
       "        vertical-align: top;\n",
       "    }\n",
       "\n",
       "    .dataframe thead th {\n",
       "        text-align: right;\n",
       "    }\n",
       "</style>\n",
       "<table border=\"1\" class=\"dataframe\">\n",
       "  <thead>\n",
       "    <tr style=\"text-align: right;\">\n",
       "      <th></th>\n",
       "      <th>total_images</th>\n",
       "      <th>last_price</th>\n",
       "      <th>total_area</th>\n",
       "      <th>first_day_exposition</th>\n",
       "      <th>rooms</th>\n",
       "      <th>ceiling_height</th>\n",
       "      <th>floors_total</th>\n",
       "      <th>living_area</th>\n",
       "      <th>floor</th>\n",
       "      <th>is_apartment</th>\n",
       "      <th>studio</th>\n",
       "      <th>open_plan</th>\n",
       "      <th>kitchen_area</th>\n",
       "      <th>balcony</th>\n",
       "      <th>locality_name</th>\n",
       "      <th>airports_nearest</th>\n",
       "      <th>cityCenters_nearest</th>\n",
       "      <th>parks_around3000</th>\n",
       "      <th>parks_nearest</th>\n",
       "      <th>ponds_around3000</th>\n",
       "      <th>ponds_nearest</th>\n",
       "      <th>days_exposition</th>\n",
       "    </tr>\n",
       "  </thead>\n",
       "  <tbody>\n",
       "    <tr>\n",
       "      <td>19496</td>\n",
       "      <td>1</td>\n",
       "      <td>7957000.0</td>\n",
       "      <td>62.1</td>\n",
       "      <td>2016-08-05T00:00:00</td>\n",
       "      <td>2</td>\n",
       "      <td>2.8</td>\n",
       "      <td>22.0</td>\n",
       "      <td>37.4</td>\n",
       "      <td>12</td>\n",
       "      <td>False</td>\n",
       "      <td>False</td>\n",
       "      <td>False</td>\n",
       "      <td>10.0</td>\n",
       "      <td>1.0</td>\n",
       "      <td>Санкт-Петербург</td>\n",
       "      <td>42751.0</td>\n",
       "      <td>12627.0</td>\n",
       "      <td>1.0</td>\n",
       "      <td>538.0</td>\n",
       "      <td>0.0</td>\n",
       "      <td>NaN</td>\n",
       "      <td>28.0</td>\n",
       "    </tr>\n",
       "    <tr>\n",
       "      <td>21400</td>\n",
       "      <td>16</td>\n",
       "      <td>4190000.0</td>\n",
       "      <td>32.0</td>\n",
       "      <td>2018-06-15T00:00:00</td>\n",
       "      <td>1</td>\n",
       "      <td>NaN</td>\n",
       "      <td>17.0</td>\n",
       "      <td>16.0</td>\n",
       "      <td>17</td>\n",
       "      <td>False</td>\n",
       "      <td>False</td>\n",
       "      <td>False</td>\n",
       "      <td>9.0</td>\n",
       "      <td>NaN</td>\n",
       "      <td>Санкт-Петербург</td>\n",
       "      <td>33564.0</td>\n",
       "      <td>14616.0</td>\n",
       "      <td>0.0</td>\n",
       "      <td>NaN</td>\n",
       "      <td>1.0</td>\n",
       "      <td>859.0</td>\n",
       "      <td>13.0</td>\n",
       "    </tr>\n",
       "    <tr>\n",
       "      <td>13034</td>\n",
       "      <td>11</td>\n",
       "      <td>2350000.0</td>\n",
       "      <td>42.0</td>\n",
       "      <td>2018-03-25T00:00:00</td>\n",
       "      <td>4</td>\n",
       "      <td>2.5</td>\n",
       "      <td>5.0</td>\n",
       "      <td>NaN</td>\n",
       "      <td>2</td>\n",
       "      <td>NaN</td>\n",
       "      <td>False</td>\n",
       "      <td>False</td>\n",
       "      <td>NaN</td>\n",
       "      <td>NaN</td>\n",
       "      <td>деревня Старая</td>\n",
       "      <td>NaN</td>\n",
       "      <td>NaN</td>\n",
       "      <td>0.0</td>\n",
       "      <td>NaN</td>\n",
       "      <td>0.0</td>\n",
       "      <td>NaN</td>\n",
       "      <td>44.0</td>\n",
       "    </tr>\n",
       "  </tbody>\n",
       "</table>\n",
       "</div>"
      ],
      "text/plain": [
       "       total_images  last_price  total_area first_day_exposition  rooms  \\\n",
       "19496             1   7957000.0        62.1  2016-08-05T00:00:00      2   \n",
       "21400            16   4190000.0        32.0  2018-06-15T00:00:00      1   \n",
       "13034            11   2350000.0        42.0  2018-03-25T00:00:00      4   \n",
       "\n",
       "       ceiling_height  floors_total  living_area  floor is_apartment  studio  \\\n",
       "19496             2.8          22.0         37.4     12        False   False   \n",
       "21400             NaN          17.0         16.0     17        False   False   \n",
       "13034             2.5           5.0          NaN      2          NaN   False   \n",
       "\n",
       "       open_plan  kitchen_area  balcony    locality_name  airports_nearest  \\\n",
       "19496      False          10.0      1.0  Санкт-Петербург           42751.0   \n",
       "21400      False           9.0      NaN  Санкт-Петербург           33564.0   \n",
       "13034      False           NaN      NaN   деревня Старая               NaN   \n",
       "\n",
       "       cityCenters_nearest  parks_around3000  parks_nearest  ponds_around3000  \\\n",
       "19496              12627.0               1.0          538.0               0.0   \n",
       "21400              14616.0               0.0            NaN               1.0   \n",
       "13034                  NaN               0.0            NaN               0.0   \n",
       "\n",
       "       ponds_nearest  days_exposition  \n",
       "19496            NaN             28.0  \n",
       "21400          859.0             13.0  \n",
       "13034            NaN             44.0  "
      ]
     },
     "execution_count": 5,
     "metadata": {},
     "output_type": "execute_result"
    }
   ],
   "source": [
    "#Заполним пробелы в столбцах с булевым типом данных.\n",
    "data[\"parks_around3000\"].fillna(0, inplace=True)\n",
    "data[\"ponds_around3000\"].fillna(0, inplace=True)\n",
    "#Интересно, можно было бы объединить операции?\n",
    "data.sample(3)"
   ]
  },
  {
   "cell_type": "code",
   "execution_count": 6,
   "metadata": {},
   "outputs": [
    {
     "data": {
      "text/html": [
       "<div>\n",
       "<style scoped>\n",
       "    .dataframe tbody tr th:only-of-type {\n",
       "        vertical-align: middle;\n",
       "    }\n",
       "\n",
       "    .dataframe tbody tr th {\n",
       "        vertical-align: top;\n",
       "    }\n",
       "\n",
       "    .dataframe thead th {\n",
       "        text-align: right;\n",
       "    }\n",
       "</style>\n",
       "<table border=\"1\" class=\"dataframe\">\n",
       "  <thead>\n",
       "    <tr style=\"text-align: right;\">\n",
       "      <th></th>\n",
       "      <th>total_images</th>\n",
       "      <th>last_price</th>\n",
       "      <th>total_area</th>\n",
       "      <th>first_day_exposition</th>\n",
       "      <th>rooms</th>\n",
       "      <th>ceiling_height</th>\n",
       "      <th>floors_total</th>\n",
       "      <th>living_area</th>\n",
       "      <th>floor</th>\n",
       "      <th>is_apartment</th>\n",
       "      <th>studio</th>\n",
       "      <th>open_plan</th>\n",
       "      <th>kitchen_area</th>\n",
       "      <th>balcony</th>\n",
       "      <th>locality_name</th>\n",
       "      <th>airports_nearest</th>\n",
       "      <th>cityCenters_nearest</th>\n",
       "      <th>parks_around3000</th>\n",
       "      <th>parks_nearest</th>\n",
       "      <th>ponds_around3000</th>\n",
       "      <th>ponds_nearest</th>\n",
       "      <th>days_exposition</th>\n",
       "    </tr>\n",
       "  </thead>\n",
       "  <tbody>\n",
       "    <tr>\n",
       "      <td>5950</td>\n",
       "      <td>8</td>\n",
       "      <td>4300000.0</td>\n",
       "      <td>58.0</td>\n",
       "      <td>2018-02-09T00:00:00</td>\n",
       "      <td>3</td>\n",
       "      <td>2.50</td>\n",
       "      <td>5.0</td>\n",
       "      <td>38.9</td>\n",
       "      <td>2</td>\n",
       "      <td>NaN</td>\n",
       "      <td>False</td>\n",
       "      <td>False</td>\n",
       "      <td>5.5</td>\n",
       "      <td>NaN</td>\n",
       "      <td>Санкт-Петербург</td>\n",
       "      <td>16831.0</td>\n",
       "      <td>16741.0</td>\n",
       "      <td>0.0</td>\n",
       "      <td>NaN</td>\n",
       "      <td>1.0</td>\n",
       "      <td>551.0</td>\n",
       "      <td>68.0</td>\n",
       "    </tr>\n",
       "    <tr>\n",
       "      <td>18846</td>\n",
       "      <td>8</td>\n",
       "      <td>1000000.0</td>\n",
       "      <td>36.0</td>\n",
       "      <td>2017-06-08T00:00:00</td>\n",
       "      <td>1</td>\n",
       "      <td>2.55</td>\n",
       "      <td>5.0</td>\n",
       "      <td>17.0</td>\n",
       "      <td>4</td>\n",
       "      <td>NaN</td>\n",
       "      <td>False</td>\n",
       "      <td>False</td>\n",
       "      <td>9.0</td>\n",
       "      <td>NaN</td>\n",
       "      <td>посёлок городского типа Кузнечное</td>\n",
       "      <td>NaN</td>\n",
       "      <td>NaN</td>\n",
       "      <td>0.0</td>\n",
       "      <td>NaN</td>\n",
       "      <td>0.0</td>\n",
       "      <td>NaN</td>\n",
       "      <td>201.0</td>\n",
       "    </tr>\n",
       "    <tr>\n",
       "      <td>21575</td>\n",
       "      <td>0</td>\n",
       "      <td>3100000.0</td>\n",
       "      <td>35.2</td>\n",
       "      <td>2018-02-20T00:00:00</td>\n",
       "      <td>1</td>\n",
       "      <td>2.70</td>\n",
       "      <td>24.0</td>\n",
       "      <td>17.2</td>\n",
       "      <td>10</td>\n",
       "      <td>NaN</td>\n",
       "      <td>False</td>\n",
       "      <td>False</td>\n",
       "      <td>9.5</td>\n",
       "      <td>2.0</td>\n",
       "      <td>посёлок Мурино</td>\n",
       "      <td>NaN</td>\n",
       "      <td>NaN</td>\n",
       "      <td>0.0</td>\n",
       "      <td>NaN</td>\n",
       "      <td>0.0</td>\n",
       "      <td>NaN</td>\n",
       "      <td>61.0</td>\n",
       "    </tr>\n",
       "  </tbody>\n",
       "</table>\n",
       "</div>"
      ],
      "text/plain": [
       "       total_images  last_price  total_area first_day_exposition  rooms  \\\n",
       "5950              8   4300000.0        58.0  2018-02-09T00:00:00      3   \n",
       "18846             8   1000000.0        36.0  2017-06-08T00:00:00      1   \n",
       "21575             0   3100000.0        35.2  2018-02-20T00:00:00      1   \n",
       "\n",
       "       ceiling_height  floors_total  living_area  floor is_apartment  studio  \\\n",
       "5950             2.50           5.0         38.9      2          NaN   False   \n",
       "18846            2.55           5.0         17.0      4          NaN   False   \n",
       "21575            2.70          24.0         17.2     10          NaN   False   \n",
       "\n",
       "       open_plan  kitchen_area  balcony                      locality_name  \\\n",
       "5950       False           5.5      NaN                    Санкт-Петербург   \n",
       "18846      False           9.0      NaN  посёлок городского типа Кузнечное   \n",
       "21575      False           9.5      2.0                     посёлок Мурино   \n",
       "\n",
       "       airports_nearest  cityCenters_nearest  parks_around3000  parks_nearest  \\\n",
       "5950            16831.0              16741.0               0.0            NaN   \n",
       "18846               NaN                  NaN               0.0            NaN   \n",
       "21575               NaN                  NaN               0.0            NaN   \n",
       "\n",
       "       ponds_around3000  ponds_nearest  days_exposition  \n",
       "5950                1.0          551.0             68.0  \n",
       "18846               0.0            NaN            201.0  \n",
       "21575               0.0            NaN             61.0  "
      ]
     },
     "execution_count": 6,
     "metadata": {},
     "output_type": "execute_result"
    }
   ],
   "source": [
    "#На всякий случай занижаем. for Series - .str.lower()\n",
    "data['locality_name'].str.lower()\n",
    "data.sample(3)"
   ]
  },
  {
   "cell_type": "code",
   "execution_count": 7,
   "metadata": {},
   "outputs": [
    {
     "data": {
      "text/html": [
       "<div>\n",
       "<style scoped>\n",
       "    .dataframe tbody tr th:only-of-type {\n",
       "        vertical-align: middle;\n",
       "    }\n",
       "\n",
       "    .dataframe tbody tr th {\n",
       "        vertical-align: top;\n",
       "    }\n",
       "\n",
       "    .dataframe thead th {\n",
       "        text-align: right;\n",
       "    }\n",
       "</style>\n",
       "<table border=\"1\" class=\"dataframe\">\n",
       "  <thead>\n",
       "    <tr style=\"text-align: right;\">\n",
       "      <th></th>\n",
       "      <th>total_images</th>\n",
       "      <th>last_price</th>\n",
       "      <th>total_area</th>\n",
       "      <th>first_day_exposition</th>\n",
       "      <th>rooms</th>\n",
       "      <th>ceiling_height</th>\n",
       "      <th>floors_total</th>\n",
       "      <th>living_area</th>\n",
       "      <th>floor</th>\n",
       "      <th>is_apartment</th>\n",
       "      <th>studio</th>\n",
       "      <th>open_plan</th>\n",
       "      <th>kitchen_area</th>\n",
       "      <th>balcony</th>\n",
       "      <th>locality_name</th>\n",
       "      <th>airports_nearest</th>\n",
       "      <th>cityCenters_nearest</th>\n",
       "      <th>parks_around3000</th>\n",
       "      <th>parks_nearest</th>\n",
       "      <th>ponds_around3000</th>\n",
       "      <th>ponds_nearest</th>\n",
       "      <th>days_exposition</th>\n",
       "    </tr>\n",
       "  </thead>\n",
       "  <tbody>\n",
       "    <tr>\n",
       "      <td>19899</td>\n",
       "      <td>9</td>\n",
       "      <td>5590000.0</td>\n",
       "      <td>56.0</td>\n",
       "      <td>2017-11-13T00:00:00</td>\n",
       "      <td>2</td>\n",
       "      <td>2.7</td>\n",
       "      <td>13.0</td>\n",
       "      <td>32.9</td>\n",
       "      <td>8</td>\n",
       "      <td>0</td>\n",
       "      <td>False</td>\n",
       "      <td>False</td>\n",
       "      <td>11.0</td>\n",
       "      <td>2.0</td>\n",
       "      <td>Санкт-Петербург</td>\n",
       "      <td>32859.0</td>\n",
       "      <td>13958.0</td>\n",
       "      <td>0.0</td>\n",
       "      <td>NaN</td>\n",
       "      <td>0.0</td>\n",
       "      <td>NaN</td>\n",
       "      <td>38.0</td>\n",
       "    </tr>\n",
       "    <tr>\n",
       "      <td>16234</td>\n",
       "      <td>8</td>\n",
       "      <td>2890000.0</td>\n",
       "      <td>38.4</td>\n",
       "      <td>2018-09-17T00:00:00</td>\n",
       "      <td>1</td>\n",
       "      <td>2.5</td>\n",
       "      <td>5.0</td>\n",
       "      <td>19.0</td>\n",
       "      <td>2</td>\n",
       "      <td>0</td>\n",
       "      <td>False</td>\n",
       "      <td>False</td>\n",
       "      <td>9.9</td>\n",
       "      <td>NaN</td>\n",
       "      <td>посёлок городского типа Рощино</td>\n",
       "      <td>NaN</td>\n",
       "      <td>NaN</td>\n",
       "      <td>0.0</td>\n",
       "      <td>NaN</td>\n",
       "      <td>0.0</td>\n",
       "      <td>NaN</td>\n",
       "      <td>150.0</td>\n",
       "    </tr>\n",
       "    <tr>\n",
       "      <td>460</td>\n",
       "      <td>20</td>\n",
       "      <td>4200000.0</td>\n",
       "      <td>42.4</td>\n",
       "      <td>2018-02-01T00:00:00</td>\n",
       "      <td>1</td>\n",
       "      <td>2.5</td>\n",
       "      <td>10.0</td>\n",
       "      <td>17.0</td>\n",
       "      <td>2</td>\n",
       "      <td>False</td>\n",
       "      <td>False</td>\n",
       "      <td>False</td>\n",
       "      <td>10.8</td>\n",
       "      <td>2.0</td>\n",
       "      <td>Санкт-Петербург</td>\n",
       "      <td>13492.0</td>\n",
       "      <td>16084.0</td>\n",
       "      <td>0.0</td>\n",
       "      <td>NaN</td>\n",
       "      <td>0.0</td>\n",
       "      <td>NaN</td>\n",
       "      <td>73.0</td>\n",
       "    </tr>\n",
       "  </tbody>\n",
       "</table>\n",
       "</div>"
      ],
      "text/plain": [
       "       total_images  last_price  total_area first_day_exposition  rooms  \\\n",
       "19899             9   5590000.0        56.0  2017-11-13T00:00:00      2   \n",
       "16234             8   2890000.0        38.4  2018-09-17T00:00:00      1   \n",
       "460              20   4200000.0        42.4  2018-02-01T00:00:00      1   \n",
       "\n",
       "       ceiling_height  floors_total  living_area  floor is_apartment  studio  \\\n",
       "19899             2.7          13.0         32.9      8            0   False   \n",
       "16234             2.5           5.0         19.0      2            0   False   \n",
       "460               2.5          10.0         17.0      2        False   False   \n",
       "\n",
       "       open_plan  kitchen_area  balcony                   locality_name  \\\n",
       "19899      False          11.0      2.0                 Санкт-Петербург   \n",
       "16234      False           9.9      NaN  посёлок городского типа Рощино   \n",
       "460        False          10.8      2.0                 Санкт-Петербург   \n",
       "\n",
       "       airports_nearest  cityCenters_nearest  parks_around3000  parks_nearest  \\\n",
       "19899           32859.0              13958.0               0.0            NaN   \n",
       "16234               NaN                  NaN               0.0            NaN   \n",
       "460             13492.0              16084.0               0.0            NaN   \n",
       "\n",
       "       ponds_around3000  ponds_nearest  days_exposition  \n",
       "19899               0.0            NaN             38.0  \n",
       "16234               0.0            NaN            150.0  \n",
       "460                 0.0            NaN             73.0  "
      ]
     },
     "execution_count": 7,
     "metadata": {},
     "output_type": "execute_result"
    }
   ],
   "source": [
    "data['is_apartment'].fillna(0, inplace=True)\n",
    "data.sample(3)"
   ]
  },
  {
   "cell_type": "code",
   "execution_count": 8,
   "metadata": {},
   "outputs": [
    {
     "data": {
      "text/html": [
       "<div>\n",
       "<style scoped>\n",
       "    .dataframe tbody tr th:only-of-type {\n",
       "        vertical-align: middle;\n",
       "    }\n",
       "\n",
       "    .dataframe tbody tr th {\n",
       "        vertical-align: top;\n",
       "    }\n",
       "\n",
       "    .dataframe thead th {\n",
       "        text-align: right;\n",
       "    }\n",
       "</style>\n",
       "<table border=\"1\" class=\"dataframe\">\n",
       "  <thead>\n",
       "    <tr style=\"text-align: right;\">\n",
       "      <th></th>\n",
       "      <th>total_images</th>\n",
       "      <th>last_price</th>\n",
       "      <th>total_area</th>\n",
       "      <th>first_day_exposition</th>\n",
       "      <th>rooms</th>\n",
       "      <th>ceiling_height</th>\n",
       "      <th>floors_total</th>\n",
       "      <th>living_area</th>\n",
       "      <th>floor</th>\n",
       "      <th>is_apartment</th>\n",
       "      <th>studio</th>\n",
       "      <th>open_plan</th>\n",
       "      <th>kitchen_area</th>\n",
       "      <th>balcony</th>\n",
       "      <th>locality_name</th>\n",
       "      <th>airports_nearest</th>\n",
       "      <th>cityCenters_nearest</th>\n",
       "      <th>parks_around3000</th>\n",
       "      <th>parks_nearest</th>\n",
       "      <th>ponds_around3000</th>\n",
       "      <th>ponds_nearest</th>\n",
       "      <th>days_exposition</th>\n",
       "    </tr>\n",
       "  </thead>\n",
       "  <tbody>\n",
       "    <tr>\n",
       "      <td>9588</td>\n",
       "      <td>13</td>\n",
       "      <td>5500000.0</td>\n",
       "      <td>37.4</td>\n",
       "      <td>2019-01-28T00:00:00</td>\n",
       "      <td>1</td>\n",
       "      <td>NaN</td>\n",
       "      <td>24.0</td>\n",
       "      <td>18.5</td>\n",
       "      <td>22</td>\n",
       "      <td>0</td>\n",
       "      <td>False</td>\n",
       "      <td>False</td>\n",
       "      <td>9.9</td>\n",
       "      <td>0.0</td>\n",
       "      <td>Санкт-Петербург</td>\n",
       "      <td>7233.0</td>\n",
       "      <td>13449.0</td>\n",
       "      <td>1.0</td>\n",
       "      <td>1256.0</td>\n",
       "      <td>0.0</td>\n",
       "      <td>NaN</td>\n",
       "      <td>NaN</td>\n",
       "    </tr>\n",
       "    <tr>\n",
       "      <td>22887</td>\n",
       "      <td>12</td>\n",
       "      <td>3100000.0</td>\n",
       "      <td>36.0</td>\n",
       "      <td>2018-03-23T00:00:00</td>\n",
       "      <td>1</td>\n",
       "      <td>2.6</td>\n",
       "      <td>5.0</td>\n",
       "      <td>20.0</td>\n",
       "      <td>3</td>\n",
       "      <td>0</td>\n",
       "      <td>False</td>\n",
       "      <td>False</td>\n",
       "      <td>8.0</td>\n",
       "      <td>0.0</td>\n",
       "      <td>Шлиссельбург</td>\n",
       "      <td>NaN</td>\n",
       "      <td>NaN</td>\n",
       "      <td>0.0</td>\n",
       "      <td>NaN</td>\n",
       "      <td>0.0</td>\n",
       "      <td>NaN</td>\n",
       "      <td>3.0</td>\n",
       "    </tr>\n",
       "    <tr>\n",
       "      <td>3386</td>\n",
       "      <td>8</td>\n",
       "      <td>6950000.0</td>\n",
       "      <td>70.0</td>\n",
       "      <td>2015-10-07T00:00:00</td>\n",
       "      <td>3</td>\n",
       "      <td>NaN</td>\n",
       "      <td>9.0</td>\n",
       "      <td>32.0</td>\n",
       "      <td>6</td>\n",
       "      <td>0</td>\n",
       "      <td>False</td>\n",
       "      <td>False</td>\n",
       "      <td>20.0</td>\n",
       "      <td>0.0</td>\n",
       "      <td>Санкт-Петербург</td>\n",
       "      <td>27556.0</td>\n",
       "      <td>13649.0</td>\n",
       "      <td>1.0</td>\n",
       "      <td>1213.0</td>\n",
       "      <td>1.0</td>\n",
       "      <td>591.0</td>\n",
       "      <td>778.0</td>\n",
       "    </tr>\n",
       "  </tbody>\n",
       "</table>\n",
       "</div>"
      ],
      "text/plain": [
       "       total_images  last_price  total_area first_day_exposition  rooms  \\\n",
       "9588             13   5500000.0        37.4  2019-01-28T00:00:00      1   \n",
       "22887            12   3100000.0        36.0  2018-03-23T00:00:00      1   \n",
       "3386              8   6950000.0        70.0  2015-10-07T00:00:00      3   \n",
       "\n",
       "       ceiling_height  floors_total  living_area  floor is_apartment  studio  \\\n",
       "9588              NaN          24.0         18.5     22            0   False   \n",
       "22887             2.6           5.0         20.0      3            0   False   \n",
       "3386              NaN           9.0         32.0      6            0   False   \n",
       "\n",
       "       open_plan  kitchen_area  balcony    locality_name  airports_nearest  \\\n",
       "9588       False           9.9      0.0  Санкт-Петербург            7233.0   \n",
       "22887      False           8.0      0.0     Шлиссельбург               NaN   \n",
       "3386       False          20.0      0.0  Санкт-Петербург           27556.0   \n",
       "\n",
       "       cityCenters_nearest  parks_around3000  parks_nearest  ponds_around3000  \\\n",
       "9588               13449.0               1.0         1256.0               0.0   \n",
       "22887                  NaN               0.0            NaN               0.0   \n",
       "3386               13649.0               1.0         1213.0               1.0   \n",
       "\n",
       "       ponds_nearest  days_exposition  \n",
       "9588             NaN              NaN  \n",
       "22887            NaN              3.0  \n",
       "3386           591.0            778.0  "
      ]
     },
     "execution_count": 8,
     "metadata": {},
     "output_type": "execute_result"
    }
   ],
   "source": [
    "data['balcony'].fillna(0, inplace=True)\n",
    "data.sample(3)"
   ]
  },
  {
   "cell_type": "code",
   "execution_count": 9,
   "metadata": {},
   "outputs": [
    {
     "data": {
      "text/html": [
       "<div>\n",
       "<style scoped>\n",
       "    .dataframe tbody tr th:only-of-type {\n",
       "        vertical-align: middle;\n",
       "    }\n",
       "\n",
       "    .dataframe tbody tr th {\n",
       "        vertical-align: top;\n",
       "    }\n",
       "\n",
       "    .dataframe thead th {\n",
       "        text-align: right;\n",
       "    }\n",
       "</style>\n",
       "<table border=\"1\" class=\"dataframe\">\n",
       "  <thead>\n",
       "    <tr style=\"text-align: right;\">\n",
       "      <th></th>\n",
       "      <th>total_images</th>\n",
       "      <th>last_price</th>\n",
       "      <th>total_area</th>\n",
       "      <th>first_day_exposition</th>\n",
       "      <th>rooms</th>\n",
       "      <th>ceiling_height</th>\n",
       "      <th>floors_total</th>\n",
       "      <th>living_area</th>\n",
       "      <th>floor</th>\n",
       "      <th>is_apartment</th>\n",
       "      <th>studio</th>\n",
       "      <th>open_plan</th>\n",
       "      <th>kitchen_area</th>\n",
       "      <th>balcony</th>\n",
       "      <th>locality_name</th>\n",
       "      <th>airports_nearest</th>\n",
       "      <th>cityCenters_nearest</th>\n",
       "      <th>parks_around3000</th>\n",
       "      <th>parks_nearest</th>\n",
       "      <th>ponds_around3000</th>\n",
       "      <th>ponds_nearest</th>\n",
       "      <th>days_exposition</th>\n",
       "    </tr>\n",
       "  </thead>\n",
       "  <tbody>\n",
       "    <tr>\n",
       "      <td>14138</td>\n",
       "      <td>17</td>\n",
       "      <td>6575000.0</td>\n",
       "      <td>45.1</td>\n",
       "      <td>2017-10-12</td>\n",
       "      <td>2</td>\n",
       "      <td>2.8</td>\n",
       "      <td>5.0</td>\n",
       "      <td>21.4</td>\n",
       "      <td>2</td>\n",
       "      <td>0</td>\n",
       "      <td>False</td>\n",
       "      <td>False</td>\n",
       "      <td>14.2</td>\n",
       "      <td>1.0</td>\n",
       "      <td>Санкт-Петербург</td>\n",
       "      <td>36447.0</td>\n",
       "      <td>9423.0</td>\n",
       "      <td>0.0</td>\n",
       "      <td>NaN</td>\n",
       "      <td>0.0</td>\n",
       "      <td>NaN</td>\n",
       "      <td>138.0</td>\n",
       "    </tr>\n",
       "    <tr>\n",
       "      <td>16407</td>\n",
       "      <td>5</td>\n",
       "      <td>3300000.0</td>\n",
       "      <td>30.8</td>\n",
       "      <td>2017-01-09</td>\n",
       "      <td>1</td>\n",
       "      <td>NaN</td>\n",
       "      <td>5.0</td>\n",
       "      <td>18.0</td>\n",
       "      <td>4</td>\n",
       "      <td>False</td>\n",
       "      <td>False</td>\n",
       "      <td>False</td>\n",
       "      <td>6.5</td>\n",
       "      <td>2.0</td>\n",
       "      <td>Санкт-Петербург</td>\n",
       "      <td>16562.0</td>\n",
       "      <td>11667.0</td>\n",
       "      <td>0.0</td>\n",
       "      <td>NaN</td>\n",
       "      <td>0.0</td>\n",
       "      <td>NaN</td>\n",
       "      <td>9.0</td>\n",
       "    </tr>\n",
       "    <tr>\n",
       "      <td>23348</td>\n",
       "      <td>14</td>\n",
       "      <td>15000000.0</td>\n",
       "      <td>65.0</td>\n",
       "      <td>2019-05-01</td>\n",
       "      <td>2</td>\n",
       "      <td>3.0</td>\n",
       "      <td>10.0</td>\n",
       "      <td>20.0</td>\n",
       "      <td>2</td>\n",
       "      <td>0</td>\n",
       "      <td>False</td>\n",
       "      <td>False</td>\n",
       "      <td>18.0</td>\n",
       "      <td>0.0</td>\n",
       "      <td>Санкт-Петербург</td>\n",
       "      <td>31121.0</td>\n",
       "      <td>4306.0</td>\n",
       "      <td>1.0</td>\n",
       "      <td>363.0</td>\n",
       "      <td>1.0</td>\n",
       "      <td>471.0</td>\n",
       "      <td>NaN</td>\n",
       "    </tr>\n",
       "  </tbody>\n",
       "</table>\n",
       "</div>"
      ],
      "text/plain": [
       "       total_images  last_price  total_area first_day_exposition  rooms  \\\n",
       "14138            17   6575000.0        45.1           2017-10-12      2   \n",
       "16407             5   3300000.0        30.8           2017-01-09      1   \n",
       "23348            14  15000000.0        65.0           2019-05-01      2   \n",
       "\n",
       "       ceiling_height  floors_total  living_area  floor is_apartment  studio  \\\n",
       "14138             2.8           5.0         21.4      2            0   False   \n",
       "16407             NaN           5.0         18.0      4        False   False   \n",
       "23348             3.0          10.0         20.0      2            0   False   \n",
       "\n",
       "       open_plan  kitchen_area  balcony    locality_name  airports_nearest  \\\n",
       "14138      False          14.2      1.0  Санкт-Петербург           36447.0   \n",
       "16407      False           6.5      2.0  Санкт-Петербург           16562.0   \n",
       "23348      False          18.0      0.0  Санкт-Петербург           31121.0   \n",
       "\n",
       "       cityCenters_nearest  parks_around3000  parks_nearest  ponds_around3000  \\\n",
       "14138               9423.0               0.0            NaN               0.0   \n",
       "16407              11667.0               0.0            NaN               0.0   \n",
       "23348               4306.0               1.0          363.0               1.0   \n",
       "\n",
       "       ponds_nearest  days_exposition  \n",
       "14138            NaN            138.0  \n",
       "16407            NaN              9.0  \n",
       "23348          471.0              NaN  "
      ]
     },
     "execution_count": 9,
     "metadata": {},
     "output_type": "execute_result"
    }
   ],
   "source": [
    "data['first_day_exposition'] = pd.to_datetime(data['first_day_exposition'], yearfirst=True)\n",
    "data.sample(3)"
   ]
  },
  {
   "cell_type": "code",
   "execution_count": 10,
   "metadata": {},
   "outputs": [],
   "source": [
    "#Третьестепенная задача: если указан парк или озеро, то что делать? Нам дан радиус 3000 метров, поставим как максимальный.\n",
    "data['ponds_nearest'].fillna(3000, inplace = True)\n",
    "data['parks_nearest'].fillna(3000, inplace = True)\n",
    "data['is_apartment'].fillna(0, inplace = True)"
   ]
  },
  {
   "cell_type": "code",
   "execution_count": 11,
   "metadata": {},
   "outputs": [
    {
     "name": "stdout",
     "output_type": "stream",
     "text": [
      "<class 'pandas.core.frame.DataFrame'>\n",
      "RangeIndex: 23699 entries, 0 to 23698\n",
      "Data columns (total 22 columns):\n",
      "total_images            23699 non-null int64\n",
      "last_price              23699 non-null float64\n",
      "total_area              23699 non-null float64\n",
      "first_day_exposition    23699 non-null datetime64[ns]\n",
      "rooms                   23699 non-null int64\n",
      "ceiling_height          14504 non-null float64\n",
      "floors_total            23613 non-null float64\n",
      "living_area             21796 non-null float64\n",
      "floor                   23699 non-null int64\n",
      "is_apartment            23699 non-null object\n",
      "studio                  23699 non-null bool\n",
      "open_plan               23699 non-null bool\n",
      "kitchen_area            21421 non-null float64\n",
      "balcony                 23699 non-null float64\n",
      "locality_name           23650 non-null object\n",
      "airports_nearest        18157 non-null float64\n",
      "cityCenters_nearest     18180 non-null float64\n",
      "parks_around3000        23699 non-null float64\n",
      "parks_nearest           23699 non-null float64\n",
      "ponds_around3000        23699 non-null float64\n",
      "ponds_nearest           23699 non-null float64\n",
      "days_exposition         20518 non-null float64\n",
      "dtypes: bool(2), datetime64[ns](1), float64(14), int64(3), object(2)\n",
      "memory usage: 3.7+ MB\n"
     ]
    }
   ],
   "source": [
    "#В вопросах про удалённость от аэпорта ничего нет.\n",
    "data.info()"
   ]
  },
  {
   "cell_type": "code",
   "execution_count": 35,
   "metadata": {},
   "outputs": [
    {
     "data": {
      "text/html": [
       "<div>\n",
       "<style scoped>\n",
       "    .dataframe tbody tr th:only-of-type {\n",
       "        vertical-align: middle;\n",
       "    }\n",
       "\n",
       "    .dataframe tbody tr th {\n",
       "        vertical-align: top;\n",
       "    }\n",
       "\n",
       "    .dataframe thead th {\n",
       "        text-align: right;\n",
       "    }\n",
       "</style>\n",
       "<table border=\"1\" class=\"dataframe\">\n",
       "  <thead>\n",
       "    <tr style=\"text-align: right;\">\n",
       "      <th></th>\n",
       "      <th>total_images</th>\n",
       "      <th>last_price</th>\n",
       "      <th>total_area</th>\n",
       "      <th>first_day_exposition</th>\n",
       "      <th>rooms</th>\n",
       "      <th>ceiling_height</th>\n",
       "      <th>floors_total</th>\n",
       "      <th>living_area</th>\n",
       "      <th>floor</th>\n",
       "      <th>is_apartment</th>\n",
       "      <th>studio</th>\n",
       "      <th>open_plan</th>\n",
       "      <th>kitchen_area</th>\n",
       "      <th>balcony</th>\n",
       "      <th>locality_name</th>\n",
       "      <th>airports_nearest</th>\n",
       "      <th>cityCenters_nearest</th>\n",
       "      <th>parks_around3000</th>\n",
       "      <th>parks_nearest</th>\n",
       "      <th>ponds_around3000</th>\n",
       "      <th>ponds_nearest</th>\n",
       "      <th>days_exposition</th>\n",
       "      <th>price_m</th>\n",
       "      <th>floor_name</th>\n",
       "      <th>wd_exposition</th>\n",
       "      <th>liv_total</th>\n",
       "      <th>kitch_living</th>\n",
       "      <th>month_exposition</th>\n",
       "      <th>yr_exposition</th>\n",
       "    </tr>\n",
       "  </thead>\n",
       "  <tbody>\n",
       "    <tr>\n",
       "      <td>3146</td>\n",
       "      <td>8</td>\n",
       "      <td>33,000,000.00</td>\n",
       "      <td>232.00</td>\n",
       "      <td>2019-01-23</td>\n",
       "      <td>5</td>\n",
       "      <td>3.86</td>\n",
       "      <td>6.00</td>\n",
       "      <td>144.50</td>\n",
       "      <td>3</td>\n",
       "      <td>0</td>\n",
       "      <td>False</td>\n",
       "      <td>False</td>\n",
       "      <td>15.00</td>\n",
       "      <td>0.00</td>\n",
       "      <td>Санкт-Петербург</td>\n",
       "      <td>25,394.00</td>\n",
       "      <td>6,310.00</td>\n",
       "      <td>1.00</td>\n",
       "      <td>306.00</td>\n",
       "      <td>0.00</td>\n",
       "      <td>3,000.00</td>\n",
       "      <td>47.00</td>\n",
       "      <td>142,241.38</td>\n",
       "      <td>другой</td>\n",
       "      <td>2</td>\n",
       "      <td>0.62</td>\n",
       "      <td>0.10</td>\n",
       "      <td>1</td>\n",
       "      <td>2019</td>\n",
       "    </tr>\n",
       "    <tr>\n",
       "      <td>11223</td>\n",
       "      <td>15</td>\n",
       "      <td>4,900,000.00</td>\n",
       "      <td>67.00</td>\n",
       "      <td>2018-03-19</td>\n",
       "      <td>5</td>\n",
       "      <td>2.50</td>\n",
       "      <td>5.00</td>\n",
       "      <td>28.00</td>\n",
       "      <td>1</td>\n",
       "      <td>0</td>\n",
       "      <td>False</td>\n",
       "      <td>False</td>\n",
       "      <td>7.00</td>\n",
       "      <td>0.00</td>\n",
       "      <td>Санкт-Петербург</td>\n",
       "      <td>12,287.00</td>\n",
       "      <td>13,614.00</td>\n",
       "      <td>0.00</td>\n",
       "      <td>3,000.00</td>\n",
       "      <td>1.00</td>\n",
       "      <td>611.00</td>\n",
       "      <td>107.00</td>\n",
       "      <td>73,134.33</td>\n",
       "      <td>первый</td>\n",
       "      <td>0</td>\n",
       "      <td>0.42</td>\n",
       "      <td>0.25</td>\n",
       "      <td>3</td>\n",
       "      <td>2018</td>\n",
       "    </tr>\n",
       "    <tr>\n",
       "      <td>15438</td>\n",
       "      <td>10</td>\n",
       "      <td>5,700,000.00</td>\n",
       "      <td>47.60</td>\n",
       "      <td>2019-04-12</td>\n",
       "      <td>2</td>\n",
       "      <td>3.00</td>\n",
       "      <td>5.00</td>\n",
       "      <td>28.10</td>\n",
       "      <td>2</td>\n",
       "      <td>0</td>\n",
       "      <td>False</td>\n",
       "      <td>False</td>\n",
       "      <td>8.00</td>\n",
       "      <td>0.00</td>\n",
       "      <td>Санкт-Петербург</td>\n",
       "      <td>36,716.00</td>\n",
       "      <td>9,004.00</td>\n",
       "      <td>2.00</td>\n",
       "      <td>352.00</td>\n",
       "      <td>0.00</td>\n",
       "      <td>3,000.00</td>\n",
       "      <td>6.00</td>\n",
       "      <td>119,747.90</td>\n",
       "      <td>другой</td>\n",
       "      <td>4</td>\n",
       "      <td>0.59</td>\n",
       "      <td>0.28</td>\n",
       "      <td>4</td>\n",
       "      <td>2019</td>\n",
       "    </tr>\n",
       "  </tbody>\n",
       "</table>\n",
       "</div>"
      ],
      "text/plain": [
       "       total_images    last_price  total_area first_day_exposition  rooms  \\\n",
       "3146              8 33,000,000.00      232.00           2019-01-23      5   \n",
       "11223            15  4,900,000.00       67.00           2018-03-19      5   \n",
       "15438            10  5,700,000.00       47.60           2019-04-12      2   \n",
       "\n",
       "       ceiling_height  floors_total  living_area  floor is_apartment  studio  \\\n",
       "3146             3.86          6.00       144.50      3            0   False   \n",
       "11223            2.50          5.00        28.00      1            0   False   \n",
       "15438            3.00          5.00        28.10      2            0   False   \n",
       "\n",
       "       open_plan  kitchen_area  balcony    locality_name  airports_nearest  \\\n",
       "3146       False         15.00     0.00  Санкт-Петербург         25,394.00   \n",
       "11223      False          7.00     0.00  Санкт-Петербург         12,287.00   \n",
       "15438      False          8.00     0.00  Санкт-Петербург         36,716.00   \n",
       "\n",
       "       cityCenters_nearest  parks_around3000  parks_nearest  ponds_around3000  \\\n",
       "3146              6,310.00              1.00         306.00              0.00   \n",
       "11223            13,614.00              0.00       3,000.00              1.00   \n",
       "15438             9,004.00              2.00         352.00              0.00   \n",
       "\n",
       "       ponds_nearest  days_exposition    price_m floor_name  wd_exposition  \\\n",
       "3146        3,000.00            47.00 142,241.38     другой              2   \n",
       "11223         611.00           107.00  73,134.33     первый              0   \n",
       "15438       3,000.00             6.00 119,747.90     другой              4   \n",
       "\n",
       "       liv_total  kitch_living  month_exposition  yr_exposition  \n",
       "3146        0.62          0.10                 1           2019  \n",
       "11223       0.42          0.25                 3           2018  \n",
       "15438       0.59          0.28                 4           2019  "
      ]
     },
     "execution_count": 35,
     "metadata": {},
     "output_type": "execute_result"
    }
   ],
   "source": [
    "ceiling_mean = data['ceiling_height'].mean()\n",
    "data['ceiling_height'] = data['ceiling_height'].replace([np.nan], [ceiling_mean])\n",
    "data.sample(3)"
   ]
  },
  {
   "cell_type": "code",
   "execution_count": 27,
   "metadata": {},
   "outputs": [],
   "source": [
    "pd.options.display.float_format = '{:,.2f}'.format"
   ]
  },
  {
   "cell_type": "code",
   "execution_count": null,
   "metadata": {},
   "outputs": [],
   "source": [
    "print(list(data.columns))\n",
    "pd.to_numeric(data.columns.dtype(['float', 'int']), errors = 'coerce')\n",
    "data.sample(2)"
   ]
  },
  {
   "cell_type": "markdown",
   "metadata": {},
   "source": [
    "### Вывод\n",
    "у большинства рабочих количественных данных тип float. Судя по данным о расстоянии, нам надо *все* данные перевести в numeric с применением параметра errors='coerce'.\n"
   ]
  },
  {
   "cell_type": "markdown",
   "metadata": {},
   "source": [
    "### Шаг 3. Посчитайте и добавьте в таблицу"
   ]
  },
  {
   "cell_type": "code",
   "execution_count": 22,
   "metadata": {},
   "outputs": [],
   "source": [
    "#Цена за кв.метр\n",
    "data['price_m'] = data['last_price'] / data['total_area']"
   ]
  },
  {
   "cell_type": "code",
   "execution_count": 23,
   "metadata": {},
   "outputs": [
    {
     "name": "stdout",
     "output_type": "stream",
     "text": [
      "<class 'pandas.core.frame.DataFrame'>\n",
      "RangeIndex: 23699 entries, 0 to 23698\n",
      "Data columns (total 23 columns):\n",
      "total_images            23699 non-null int64\n",
      "last_price              23699 non-null float64\n",
      "total_area              23699 non-null float64\n",
      "first_day_exposition    23699 non-null datetime64[ns]\n",
      "rooms                   23699 non-null int64\n",
      "ceiling_height          14504 non-null float64\n",
      "floors_total            23613 non-null float64\n",
      "living_area             21796 non-null float64\n",
      "floor                   23699 non-null int64\n",
      "is_apartment            23699 non-null object\n",
      "studio                  23699 non-null bool\n",
      "open_plan               23699 non-null bool\n",
      "kitchen_area            21421 non-null float64\n",
      "balcony                 23699 non-null float64\n",
      "locality_name           23650 non-null object\n",
      "airports_nearest        18157 non-null float64\n",
      "cityCenters_nearest     18180 non-null float64\n",
      "parks_around3000        23699 non-null float64\n",
      "parks_nearest           23699 non-null float64\n",
      "ponds_around3000        23699 non-null float64\n",
      "ponds_nearest           23699 non-null float64\n",
      "days_exposition         20518 non-null float64\n",
      "price_m                 23699 non-null float64\n",
      "dtypes: bool(2), datetime64[ns](1), float64(15), int64(3), object(2)\n",
      "memory usage: 3.8+ MB\n"
     ]
    }
   ],
   "source": [
    "data.info()"
   ]
  },
  {
   "cell_type": "code",
   "execution_count": 24,
   "metadata": {},
   "outputs": [
    {
     "data": {
      "text/html": [
       "<div>\n",
       "<style scoped>\n",
       "    .dataframe tbody tr th:only-of-type {\n",
       "        vertical-align: middle;\n",
       "    }\n",
       "\n",
       "    .dataframe tbody tr th {\n",
       "        vertical-align: top;\n",
       "    }\n",
       "\n",
       "    .dataframe thead th {\n",
       "        text-align: right;\n",
       "    }\n",
       "</style>\n",
       "<table border=\"1\" class=\"dataframe\">\n",
       "  <thead>\n",
       "    <tr style=\"text-align: right;\">\n",
       "      <th></th>\n",
       "      <th>total_images</th>\n",
       "      <th>last_price</th>\n",
       "      <th>total_area</th>\n",
       "      <th>first_day_exposition</th>\n",
       "      <th>rooms</th>\n",
       "      <th>ceiling_height</th>\n",
       "      <th>floors_total</th>\n",
       "      <th>living_area</th>\n",
       "      <th>floor</th>\n",
       "      <th>is_apartment</th>\n",
       "      <th>studio</th>\n",
       "      <th>open_plan</th>\n",
       "      <th>kitchen_area</th>\n",
       "      <th>balcony</th>\n",
       "      <th>locality_name</th>\n",
       "      <th>airports_nearest</th>\n",
       "      <th>cityCenters_nearest</th>\n",
       "      <th>parks_around3000</th>\n",
       "      <th>parks_nearest</th>\n",
       "      <th>ponds_around3000</th>\n",
       "      <th>ponds_nearest</th>\n",
       "      <th>days_exposition</th>\n",
       "      <th>price_m</th>\n",
       "      <th>floor_name</th>\n",
       "    </tr>\n",
       "  </thead>\n",
       "  <tbody>\n",
       "    <tr>\n",
       "      <td>10260</td>\n",
       "      <td>13</td>\n",
       "      <td>$5,100,000.00</td>\n",
       "      <td>$50.00</td>\n",
       "      <td>2018-03-03</td>\n",
       "      <td>2</td>\n",
       "      <td>$nan</td>\n",
       "      <td>$7.00</td>\n",
       "      <td>$nan</td>\n",
       "      <td>1</td>\n",
       "      <td>0</td>\n",
       "      <td>False</td>\n",
       "      <td>False</td>\n",
       "      <td>$nan</td>\n",
       "      <td>$0.00</td>\n",
       "      <td>Санкт-Петербург</td>\n",
       "      <td>$31,006.00</td>\n",
       "      <td>$3,075.00</td>\n",
       "      <td>$2.00</td>\n",
       "      <td>$123.00</td>\n",
       "      <td>$3.00</td>\n",
       "      <td>$274.00</td>\n",
       "      <td>$60.00</td>\n",
       "      <td>$102,000.00</td>\n",
       "      <td>первый</td>\n",
       "    </tr>\n",
       "    <tr>\n",
       "      <td>657</td>\n",
       "      <td>7</td>\n",
       "      <td>$3,600,000.00</td>\n",
       "      <td>$36.30</td>\n",
       "      <td>2015-11-07</td>\n",
       "      <td>1</td>\n",
       "      <td>$nan</td>\n",
       "      <td>$12.00</td>\n",
       "      <td>$21.50</td>\n",
       "      <td>6</td>\n",
       "      <td>False</td>\n",
       "      <td>False</td>\n",
       "      <td>False</td>\n",
       "      <td>$7.50</td>\n",
       "      <td>$0.00</td>\n",
       "      <td>Санкт-Петербург</td>\n",
       "      <td>$43,441.00</td>\n",
       "      <td>$15,944.00</td>\n",
       "      <td>$1.00</td>\n",
       "      <td>$175.00</td>\n",
       "      <td>$0.00</td>\n",
       "      <td>$3,000.00</td>\n",
       "      <td>$381.00</td>\n",
       "      <td>$99,173.55</td>\n",
       "      <td>другой</td>\n",
       "    </tr>\n",
       "    <tr>\n",
       "      <td>14117</td>\n",
       "      <td>11</td>\n",
       "      <td>$4,550,000.00</td>\n",
       "      <td>$45.00</td>\n",
       "      <td>2018-10-23</td>\n",
       "      <td>2</td>\n",
       "      <td>$nan</td>\n",
       "      <td>$5.00</td>\n",
       "      <td>$30.30</td>\n",
       "      <td>4</td>\n",
       "      <td>0</td>\n",
       "      <td>False</td>\n",
       "      <td>False</td>\n",
       "      <td>$7.00</td>\n",
       "      <td>$0.00</td>\n",
       "      <td>Санкт-Петербург</td>\n",
       "      <td>$15,187.00</td>\n",
       "      <td>$13,727.00</td>\n",
       "      <td>$1.00</td>\n",
       "      <td>$572.00</td>\n",
       "      <td>$0.00</td>\n",
       "      <td>$3,000.00</td>\n",
       "      <td>$43.00</td>\n",
       "      <td>$101,111.11</td>\n",
       "      <td>другой</td>\n",
       "    </tr>\n",
       "  </tbody>\n",
       "</table>\n",
       "</div>"
      ],
      "text/plain": [
       "       total_images    last_price  total_area first_day_exposition  rooms  \\\n",
       "10260            13 $5,100,000.00      $50.00           2018-03-03      2   \n",
       "657               7 $3,600,000.00      $36.30           2015-11-07      1   \n",
       "14117            11 $4,550,000.00      $45.00           2018-10-23      2   \n",
       "\n",
       "       ceiling_height  floors_total  living_area  floor is_apartment  studio  \\\n",
       "10260            $nan         $7.00         $nan      1            0   False   \n",
       "657              $nan        $12.00       $21.50      6        False   False   \n",
       "14117            $nan         $5.00       $30.30      4            0   False   \n",
       "\n",
       "       open_plan  kitchen_area  balcony    locality_name  airports_nearest  \\\n",
       "10260      False          $nan    $0.00  Санкт-Петербург        $31,006.00   \n",
       "657        False         $7.50    $0.00  Санкт-Петербург        $43,441.00   \n",
       "14117      False         $7.00    $0.00  Санкт-Петербург        $15,187.00   \n",
       "\n",
       "       cityCenters_nearest  parks_around3000  parks_nearest  ponds_around3000  \\\n",
       "10260            $3,075.00             $2.00        $123.00             $3.00   \n",
       "657             $15,944.00             $1.00        $175.00             $0.00   \n",
       "14117           $13,727.00             $1.00        $572.00             $0.00   \n",
       "\n",
       "       ponds_nearest  days_exposition     price_m floor_name  \n",
       "10260        $274.00           $60.00 $102,000.00     первый  \n",
       "657        $3,000.00          $381.00  $99,173.55     другой  \n",
       "14117      $3,000.00           $43.00 $101,111.11     другой  "
      ]
     },
     "execution_count": 24,
     "metadata": {},
     "output_type": "execute_result"
    }
   ],
   "source": [
    "#Автоматизированное составление столбика. Варианты, где значение столбика Этаж = 1, где значение равно соответствующему значению\n",
    "#столбика floors_total. Если ни то, ни другое, то \"другой\".\n",
    "def floor_name(floor, floors_total):\n",
    "    return np.where(data[\"floor\"]== 1, \"первый\", np.where(data[\"floor\"] == data[\"floors_total\"], \"последний\", \"другой\"))\n",
    "data[\"floor_name\"] = floor_name(\"floor\", \"floors_total\")\n",
    "data.sample(3)"
   ]
  },
  {
   "cell_type": "code",
   "execution_count": 25,
   "metadata": {},
   "outputs": [],
   "source": [
    "#Создаем столбцы по дню, месяцу и году, когда выставлено.\n",
    "data['wd_exposition'] = data['first_day_exposition'].dt.weekday"
   ]
  },
  {
   "cell_type": "code",
   "execution_count": 36,
   "metadata": {},
   "outputs": [
    {
     "data": {
      "text/plain": [
       "count   21,796.00\n",
       "mean         0.56\n",
       "std          0.11\n",
       "min          0.02\n",
       "25%          0.50\n",
       "50%          0.57\n",
       "75%          0.64\n",
       "max          1.00\n",
       "Name: liv_total, dtype: float64"
      ]
     },
     "execution_count": 36,
     "metadata": {},
     "output_type": "execute_result"
    }
   ],
   "source": [
    "data['liv_total'] = data['living_area'] / data['total_area']\n",
    "data['liv_total'].describe()\n",
    "#Ну, предположим, что туалет и кухня на улице. Бывает."
   ]
  },
  {
   "cell_type": "code",
   "execution_count": 37,
   "metadata": {},
   "outputs": [],
   "source": [
    "#Кухня не может быть больше жилой территории.\n",
    "data['kitch_living'] = data['kitchen_area'] / data['living_area']\n",
    "data['kitch_living'].describe()\n",
    "kitch_mean = data['kitch_living'].mean()\n",
    "kitch_too_big = data.query('kitch_living > 1')\n",
    "for i in data['kitch_living']:\n",
    "    if i > 1:\n",
    "        data['kitch_living']== kitch_mean"
   ]
  },
  {
   "cell_type": "code",
   "execution_count": 38,
   "metadata": {},
   "outputs": [
    {
     "name": "stdout",
     "output_type": "stream",
     "text": [
      "<class 'pandas.core.frame.DataFrame'>\n",
      "RangeIndex: 23699 entries, 0 to 23698\n",
      "Data columns (total 29 columns):\n",
      "total_images            23699 non-null int64\n",
      "last_price              23699 non-null float64\n",
      "total_area              23699 non-null float64\n",
      "first_day_exposition    23699 non-null datetime64[ns]\n",
      "rooms                   23699 non-null int64\n",
      "ceiling_height          23699 non-null float64\n",
      "floors_total            23613 non-null float64\n",
      "living_area             21796 non-null float64\n",
      "floor                   23699 non-null int64\n",
      "is_apartment            23699 non-null object\n",
      "studio                  23699 non-null bool\n",
      "open_plan               23699 non-null bool\n",
      "kitchen_area            21421 non-null float64\n",
      "balcony                 23699 non-null float64\n",
      "locality_name           23650 non-null object\n",
      "airports_nearest        18157 non-null float64\n",
      "cityCenters_nearest     18180 non-null float64\n",
      "parks_around3000        23699 non-null float64\n",
      "parks_nearest           23699 non-null float64\n",
      "ponds_around3000        23699 non-null float64\n",
      "ponds_nearest           23699 non-null float64\n",
      "days_exposition         20518 non-null float64\n",
      "price_m                 23699 non-null float64\n",
      "floor_name              23699 non-null object\n",
      "wd_exposition           23699 non-null int64\n",
      "liv_total               21796 non-null float64\n",
      "kitch_living            20982 non-null float64\n",
      "month_exposition        23699 non-null int64\n",
      "yr_exposition           23699 non-null int64\n",
      "dtypes: bool(2), datetime64[ns](1), float64(17), int64(6), object(3)\n",
      "memory usage: 4.9+ MB\n"
     ]
    }
   ],
   "source": [
    "data['month_exposition'] = data['first_day_exposition'].dt.month.astype(int)\n",
    "data['yr_exposition'] = data['first_day_exposition'].dt.year.astype(int)\n",
    "data.info()"
   ]
  },
  {
   "cell_type": "markdown",
   "metadata": {},
   "source": [
    "### Вывод\n",
    "Были добавлены новые столбцы. В столбцах отношений площадей недопустимы были значения более 1, так как мы сравнивали, исходя из расхожего предположения, что\n",
    "площадь кухни < жилая площадь < вся площадь. Все неверные значения заменены на среднее по всем данным.\n",
    "Критика: можно было бы улучшить анализ и заменить на среднее по общей площади, разделив на несколько групп."
   ]
  },
  {
   "cell_type": "markdown",
   "metadata": {},
   "source": [
    "### Шаг 4. Проведите исследовательский анализ данных и выполните инструкции:"
   ]
  },
  {
   "cell_type": "markdown",
   "metadata": {},
   "source": [
    "**Визуализация по данным**\n",
    "Не везде seaborn был быстрее, чем предустановленные инструменты pandas. Поэтому тут будет комбо."
   ]
  },
  {
   "cell_type": "code",
   "execution_count": 39,
   "metadata": {},
   "outputs": [
    {
     "data": {
      "text/html": [
       "<div>\n",
       "<style scoped>\n",
       "    .dataframe tbody tr th:only-of-type {\n",
       "        vertical-align: middle;\n",
       "    }\n",
       "\n",
       "    .dataframe tbody tr th {\n",
       "        vertical-align: top;\n",
       "    }\n",
       "\n",
       "    .dataframe thead th {\n",
       "        text-align: right;\n",
       "    }\n",
       "</style>\n",
       "<table border=\"1\" class=\"dataframe\">\n",
       "  <thead>\n",
       "    <tr style=\"text-align: right;\">\n",
       "      <th></th>\n",
       "      <th>total_images</th>\n",
       "      <th>last_price</th>\n",
       "      <th>total_area</th>\n",
       "      <th>first_day_exposition</th>\n",
       "      <th>rooms</th>\n",
       "      <th>ceiling_height</th>\n",
       "      <th>floors_total</th>\n",
       "      <th>living_area</th>\n",
       "      <th>floor</th>\n",
       "      <th>is_apartment</th>\n",
       "      <th>studio</th>\n",
       "      <th>open_plan</th>\n",
       "      <th>kitchen_area</th>\n",
       "      <th>balcony</th>\n",
       "      <th>locality_name</th>\n",
       "      <th>airports_nearest</th>\n",
       "      <th>cityCenters_nearest</th>\n",
       "      <th>parks_around3000</th>\n",
       "      <th>parks_nearest</th>\n",
       "      <th>ponds_around3000</th>\n",
       "      <th>ponds_nearest</th>\n",
       "      <th>days_exposition</th>\n",
       "      <th>price_m</th>\n",
       "      <th>floor_name</th>\n",
       "      <th>wd_exposition</th>\n",
       "      <th>liv_total</th>\n",
       "      <th>kitch_living</th>\n",
       "      <th>month_exposition</th>\n",
       "      <th>yr_exposition</th>\n",
       "    </tr>\n",
       "  </thead>\n",
       "  <tbody>\n",
       "    <tr>\n",
       "      <td>23401</td>\n",
       "      <td>5</td>\n",
       "      <td>3,400,000.00</td>\n",
       "      <td>32.00</td>\n",
       "      <td>2017-09-15</td>\n",
       "      <td>2</td>\n",
       "      <td>2.60</td>\n",
       "      <td>5.00</td>\n",
       "      <td>18.00</td>\n",
       "      <td>4</td>\n",
       "      <td>0</td>\n",
       "      <td>False</td>\n",
       "      <td>False</td>\n",
       "      <td>6.20</td>\n",
       "      <td>0.00</td>\n",
       "      <td>Санкт-Петербург</td>\n",
       "      <td>41,099.00</td>\n",
       "      <td>11,282.00</td>\n",
       "      <td>0.00</td>\n",
       "      <td>3,000.00</td>\n",
       "      <td>0.00</td>\n",
       "      <td>3,000.00</td>\n",
       "      <td>30.00</td>\n",
       "      <td>106,250.00</td>\n",
       "      <td>другой</td>\n",
       "      <td>4</td>\n",
       "      <td>0.56</td>\n",
       "      <td>0.34</td>\n",
       "      <td>9</td>\n",
       "      <td>2017</td>\n",
       "    </tr>\n",
       "    <tr>\n",
       "      <td>3984</td>\n",
       "      <td>18</td>\n",
       "      <td>3,850,000.00</td>\n",
       "      <td>35.50</td>\n",
       "      <td>2017-06-21</td>\n",
       "      <td>1</td>\n",
       "      <td>2.77</td>\n",
       "      <td>22.00</td>\n",
       "      <td>17.60</td>\n",
       "      <td>1</td>\n",
       "      <td>0</td>\n",
       "      <td>False</td>\n",
       "      <td>False</td>\n",
       "      <td>9.00</td>\n",
       "      <td>2.00</td>\n",
       "      <td>Санкт-Петербург</td>\n",
       "      <td>26,078.00</td>\n",
       "      <td>10,251.00</td>\n",
       "      <td>1.00</td>\n",
       "      <td>387.00</td>\n",
       "      <td>0.00</td>\n",
       "      <td>3,000.00</td>\n",
       "      <td>152.00</td>\n",
       "      <td>108,450.70</td>\n",
       "      <td>первый</td>\n",
       "      <td>2</td>\n",
       "      <td>0.50</td>\n",
       "      <td>0.51</td>\n",
       "      <td>6</td>\n",
       "      <td>2017</td>\n",
       "    </tr>\n",
       "    <tr>\n",
       "      <td>486</td>\n",
       "      <td>8</td>\n",
       "      <td>6,650,000.00</td>\n",
       "      <td>73.00</td>\n",
       "      <td>2015-08-20</td>\n",
       "      <td>2</td>\n",
       "      <td>2.77</td>\n",
       "      <td>4.00</td>\n",
       "      <td>49.00</td>\n",
       "      <td>4</td>\n",
       "      <td>0</td>\n",
       "      <td>False</td>\n",
       "      <td>False</td>\n",
       "      <td>nan</td>\n",
       "      <td>0.00</td>\n",
       "      <td>Санкт-Петербург</td>\n",
       "      <td>20,505.00</td>\n",
       "      <td>3,621.00</td>\n",
       "      <td>3.00</td>\n",
       "      <td>416.00</td>\n",
       "      <td>1.00</td>\n",
       "      <td>638.00</td>\n",
       "      <td>638.00</td>\n",
       "      <td>91,095.89</td>\n",
       "      <td>последний</td>\n",
       "      <td>3</td>\n",
       "      <td>0.67</td>\n",
       "      <td>nan</td>\n",
       "      <td>8</td>\n",
       "      <td>2015</td>\n",
       "    </tr>\n",
       "  </tbody>\n",
       "</table>\n",
       "</div>"
      ],
      "text/plain": [
       "       total_images   last_price  total_area first_day_exposition  rooms  \\\n",
       "23401             5 3,400,000.00       32.00           2017-09-15      2   \n",
       "3984             18 3,850,000.00       35.50           2017-06-21      1   \n",
       "486               8 6,650,000.00       73.00           2015-08-20      2   \n",
       "\n",
       "       ceiling_height  floors_total  living_area  floor is_apartment  studio  \\\n",
       "23401            2.60          5.00        18.00      4            0   False   \n",
       "3984             2.77         22.00        17.60      1            0   False   \n",
       "486              2.77          4.00        49.00      4            0   False   \n",
       "\n",
       "       open_plan  kitchen_area  balcony    locality_name  airports_nearest  \\\n",
       "23401      False          6.20     0.00  Санкт-Петербург         41,099.00   \n",
       "3984       False          9.00     2.00  Санкт-Петербург         26,078.00   \n",
       "486        False           nan     0.00  Санкт-Петербург         20,505.00   \n",
       "\n",
       "       cityCenters_nearest  parks_around3000  parks_nearest  ponds_around3000  \\\n",
       "23401            11,282.00              0.00       3,000.00              0.00   \n",
       "3984             10,251.00              1.00         387.00              0.00   \n",
       "486               3,621.00              3.00         416.00              1.00   \n",
       "\n",
       "       ponds_nearest  days_exposition    price_m floor_name  wd_exposition  \\\n",
       "23401       3,000.00            30.00 106,250.00     другой              4   \n",
       "3984        3,000.00           152.00 108,450.70     первый              2   \n",
       "486           638.00           638.00  91,095.89  последний              3   \n",
       "\n",
       "       liv_total  kitch_living  month_exposition  yr_exposition  \n",
       "23401       0.56          0.34                 9           2017  \n",
       "3984        0.50          0.51                 6           2017  \n",
       "486         0.67           nan                 8           2015  "
      ]
     },
     "execution_count": 39,
     "metadata": {},
     "output_type": "execute_result"
    }
   ],
   "source": [
    "data['total_area'].describe() #Здесь есть аномалии, от них надо избавиться.\n",
    "data.drop(data['total_area'].max()).reset_index(drop=True)\n",
    "data.sample(3)"
   ]
  },
  {
   "cell_type": "code",
   "execution_count": 40,
   "metadata": {},
   "outputs": [
    {
     "data": {
      "text/plain": [
       "<matplotlib.axes._subplots.AxesSubplot at 0x7f3c8b14bdd0>"
      ]
     },
     "execution_count": 40,
     "metadata": {},
     "output_type": "execute_result"
    },
    {
     "data": {
      "image/png": "[encoded data removed]",
      "text/plain": [
       "<Figure size 432x288 with 1 Axes>"
      ]
     },
     "metadata": {
      "needs_background": "light"
     },
     "output_type": "display_data"
    }
   ],
   "source": [
    "sb.histplot(x = 'total_area', data=data)"
   ]
  },
  {
   "cell_type": "code",
   "execution_count": 47,
   "metadata": {},
   "outputs": [
    {
     "data": {
      "text/plain": [
       "<matplotlib.axes._subplots.AxesSubplot at 0x7f3cd533ce10>"
      ]
     },
     "execution_count": 47,
     "metadata": {},
     "output_type": "execute_result"
    },
    {
     "data": {
      "image/png": "[encoded data removed]",
      "text/plain": [
       "<Figure size 432x288 with 1 Axes>"
      ]
     },
     "metadata": {
      "needs_background": "light"
     },
     "output_type": "display_data"
    }
   ],
   "source": [
    "sb.histplot(x = 'price_m',data = data)"
   ]
  },
  {
   "cell_type": "code",
   "execution_count": 70,
   "metadata": {},
   "outputs": [
    {
     "data": {
      "text/plain": [
       "<matplotlib.axes._subplots.AxesSubplot at 0x7f3c8b840890>"
      ]
     },
     "execution_count": 70,
     "metadata": {},
     "output_type": "execute_result"
    },
    {
     "data": {
      "image/png": "[encoded data removed]",
      "text/plain": [
       "<Figure size 720x432 with 1 Axes>"
      ]
     },
     "metadata": {
      "needs_background": "light"
     },
     "output_type": "display_data"
    }
   ],
   "source": [
    "#Здесь тоже, может, есть нереальные значения.\n",
    "data['rooms'].describe()\n",
    "rooms_max = data['rooms'].max()\n",
    "data.query('rooms != @rooms_max').plot(y = 'rooms', kind = 'hist', range = (2,6), bins=20, figsize=(10,6))"
   ]
  },
  {
   "cell_type": "code",
   "execution_count": 68,
   "metadata": {},
   "outputs": [
    {
     "data": {
      "text/plain": [
       "<matplotlib.axes._subplots.AxesSubplot at 0x7f3c8b95c890>"
      ]
     },
     "execution_count": 68,
     "metadata": {},
     "output_type": "execute_result"
    },
    {
     "data": {
      "image/png": "[encoded data removed]",
      "text/plain": [
       "<Figure size 720x432 with 1 Axes>"
      ]
     },
     "metadata": {
      "needs_background": "light"
     },
     "output_type": "display_data"
    }
   ],
   "source": [
    "data['ceiling_height'].describe()\n",
    "c_height_max = data['ceiling_height'].max()\n",
    "data.query('ceiling_height != @c_height_max').plot(y = 'ceiling_height', kind = 'hist', range = (2,6), bins=50, figsize=(10,6))\n"
   ]
  },
  {
   "cell_type": "code",
   "execution_count": 71,
   "metadata": {},
   "outputs": [
    {
     "data": {
      "text/plain": [
       "<matplotlib.axes._subplots.AxesSubplot at 0x7f3c8b65e7d0>"
      ]
     },
     "execution_count": 71,
     "metadata": {},
     "output_type": "execute_result"
    },
    {
     "data": {
      "image/png": "[encoded data removed]",
      "text/plain": [
       "<Figure size 432x288 with 1 Axes>"
      ]
     },
     "metadata": {
      "needs_background": "light"
     },
     "output_type": "display_data"
    }
   ],
   "source": [
    "#Визуализация длительности пребывания объявления на сайте.\n",
    "sb.histplot(x = 'days_exposition', data=data)"
   ]
  },
  {
   "cell_type": "code",
   "execution_count": 72,
   "metadata": {},
   "outputs": [
    {
     "data": {
      "text/plain": [
       "45.00    880\n",
       "60.00    538\n",
       "7.00     234\n",
       "30.00    208\n",
       "90.00    204\n",
       "4.00     176\n",
       "3.00     158\n",
       "5.00     152\n",
       "14.00    148\n",
       "9.00     143\n",
       "Name: days_exposition, dtype: int64"
      ]
     },
     "execution_count": 72,
     "metadata": {},
     "output_type": "execute_result"
    }
   ],
   "source": [
    "#Какой самый длительный срок на сайте. Топ-10\n",
    "data['days_exposition'].value_counts().sort_values(ascending=False).head(10)"
   ]
  },
  {
   "cell_type": "code",
   "execution_count": 73,
   "metadata": {},
   "outputs": [
    {
     "name": "stdout",
     "output_type": "stream",
     "text": [
      "Среднее по длительности 180.90246161345357 \n",
      " Медианное по длительности 95.0\n"
     ]
    }
   ],
   "source": [
    "print('Среднее по длительности', data['days_exposition'].mean(),'\\n', 'Медианное по длительности',data['days_exposition'].median())\n"
   ]
  },
  {
   "cell_type": "code",
   "execution_count": 74,
   "metadata": {},
   "outputs": [
    {
     "data": {
      "text/plain": [
       "Text(0.5, 1.0, 'Разброс длительности размещения')"
      ]
     },
     "execution_count": 74,
     "metadata": {},
     "output_type": "execute_result"
    },
    {
     "data": {
      "image/png": "[encoded data removed]",
      "text/plain": [
       "<Figure size 432x288 with 1 Axes>"
      ]
     },
     "metadata": {
      "needs_background": "light"
     },
     "output_type": "display_data"
    }
   ],
   "source": [
    "#data - 'days_exposition' - through its quartiles\n",
    "\n",
    "sb.boxplot(x = 'days_exposition', data= data).set_title('Разброс длительности размещения')\n",
    "#Медиана зелёненьким. Читаем: By default, they extend no more than 1.5 * IQR (IQR = Q3 - Q1)\n",
    "#from the edges of the box, ending at the farthest data point within that interval.\n"
   ]
  },
  {
   "cell_type": "markdown",
   "metadata": {},
   "source": [
    "Мне кажется, есть подход по сокращению уса за счет сокращения разницы между Q2 и Q3. Я пыталась найти способы *нормализации*, но кажется я ещё не очень уверенно использую этот термин. Короче, на данном этапе,видимо, нам разрешается откинуть какое-то максимальное значение, чтобы привести данные к чему-то более правдоподобному."
   ]
  },
  {
   "cell_type": "code",
   "execution_count": 75,
   "metadata": {},
   "outputs": [
    {
     "name": "stdout",
     "output_type": "stream",
     "text": [
      "4.328767123287672\n"
     ]
    }
   ],
   "source": [
    "print(data['days_exposition'].max()/365)\n",
    "#Это четыре года, уверена, что мало кто готов платить плату по прайсу https://yandex.ru/support/realty/paid.html"
   ]
  },
  {
   "cell_type": "code",
   "execution_count": 76,
   "metadata": {},
   "outputs": [
    {
     "name": "stdout",
     "output_type": "stream",
     "text": [
      "<class 'pandas.core.frame.DataFrame'>\n",
      "Int64Index: 5093 entries, 11 to 23687\n",
      "Data columns (total 29 columns):\n",
      "total_images            5093 non-null int64\n",
      "last_price              5093 non-null float64\n",
      "total_area              5093 non-null float64\n",
      "first_day_exposition    5093 non-null datetime64[ns]\n",
      "rooms                   5093 non-null int64\n",
      "ceiling_height          5093 non-null float64\n",
      "floors_total            5076 non-null float64\n",
      "living_area             4725 non-null float64\n",
      "floor                   5093 non-null int64\n",
      "is_apartment            5093 non-null object\n",
      "studio                  5093 non-null bool\n",
      "open_plan               5093 non-null bool\n",
      "kitchen_area            4598 non-null float64\n",
      "balcony                 5093 non-null float64\n",
      "locality_name           5087 non-null object\n",
      "airports_nearest        4056 non-null float64\n",
      "cityCenters_nearest     4062 non-null float64\n",
      "parks_around3000        5093 non-null float64\n",
      "parks_nearest           5093 non-null float64\n",
      "ponds_around3000        5093 non-null float64\n",
      "ponds_nearest           5093 non-null float64\n",
      "days_exposition         5093 non-null float64\n",
      "price_m                 5093 non-null float64\n",
      "floor_name              5093 non-null object\n",
      "wd_exposition           5093 non-null int64\n",
      "liv_total               4725 non-null float64\n",
      "kitch_living            4511 non-null float64\n",
      "month_exposition        5093 non-null int64\n",
      "yr_exposition           5093 non-null int64\n",
      "dtypes: bool(2), datetime64[ns](1), float64(17), int64(6), object(3)\n",
      "memory usage: 1.1+ MB\n"
     ]
    }
   ],
   "source": [
    "#Мы, конечно, посчитали медианное и среднее по длительности, но можно выбрать сразу топовые 25%.\n",
    "data['days_exposition'].quantile([0.25, 0.5, 0.75])\n",
    "fast_deal = data.query('0 < days_exposition <= 45')\n",
    "fast_deal.info()"
   ]
  },
  {
   "cell_type": "markdown",
   "metadata": {},
   "source": [
    "**Пояснение**\n",
    "\n",
    "Пять тысяч девяносто три объявления из 25% быстрых - то есть самые горящие объявления."
   ]
  },
  {
   "cell_type": "code",
   "execution_count": 77,
   "metadata": {},
   "outputs": [
    {
     "name": "stdout",
     "output_type": "stream",
     "text": [
      "<class 'pandas.core.frame.DataFrame'>\n",
      "Int64Index: 4640 entries, 4 to 23683\n",
      "Data columns (total 29 columns):\n",
      "total_images            4640 non-null int64\n",
      "last_price              4640 non-null float64\n",
      "total_area              4640 non-null float64\n",
      "first_day_exposition    4640 non-null datetime64[ns]\n",
      "rooms                   4640 non-null int64\n",
      "ceiling_height          4640 non-null float64\n",
      "floors_total            4618 non-null float64\n",
      "living_area             4409 non-null float64\n",
      "floor                   4640 non-null int64\n",
      "is_apartment            4640 non-null object\n",
      "studio                  4640 non-null bool\n",
      "open_plan               4640 non-null bool\n",
      "kitchen_area            4325 non-null float64\n",
      "balcony                 4640 non-null float64\n",
      "locality_name           4632 non-null object\n",
      "airports_nearest        3573 non-null float64\n",
      "cityCenters_nearest     3581 non-null float64\n",
      "parks_around3000        4640 non-null float64\n",
      "parks_nearest           4640 non-null float64\n",
      "ponds_around3000        4640 non-null float64\n",
      "ponds_nearest           4640 non-null float64\n",
      "days_exposition         4640 non-null float64\n",
      "price_m                 4640 non-null float64\n",
      "floor_name              4640 non-null object\n",
      "wd_exposition           4640 non-null int64\n",
      "liv_total               4409 non-null float64\n",
      "kitch_living            4263 non-null float64\n",
      "month_exposition        4640 non-null int64\n",
      "yr_exposition           4640 non-null int64\n",
      "dtypes: bool(2), datetime64[ns](1), float64(17), int64(6), object(3)\n",
      "memory usage: 1.0+ MB\n"
     ]
    }
   ],
   "source": [
    "data['days_exposition'].quantile([0.25, 0.5, 0.75]) #Косяк: больше 210 дней уже нельзя выставлять. Ошибка в данных.\n",
    "slow_deal = data.query('95 < days_exposition <= 180+30')\n",
    "slow_deal.info()"
   ]
  },
  {
   "cell_type": "markdown",
   "metadata": {},
   "source": [
    "**Пояснение**\n",
    "\n",
    "Четыре тысячи шестьсот сорок одно объявление из 25% самых долго висящих.\n",
    "<a href=\"https://yandex.ru/support/realty/paid.html\">Правила ЯНедвижимости</a>"
   ]
  },
  {
   "cell_type": "markdown",
   "metadata": {},
   "source": [
    "**Дополние**\n",
    "\n",
    "Я немного изменила подход, чтобы выделить группу самых быстрых объявлений. Надеюсь, подход корректный в целом."
   ]
  },
  {
   "cell_type": "code",
   "execution_count": 78,
   "metadata": {},
   "outputs": [
    {
     "name": "stdout",
     "output_type": "stream",
     "text": [
      "['total_images', 'last_price', 'total_area', 'first_day_exposition', 'rooms', 'ceiling_height', 'floors_total', 'living_area', 'floor', 'is_apartment', 'studio', 'open_plan', 'kitchen_area', 'balcony', 'locality_name', 'airports_nearest', 'cityCenters_nearest', 'parks_around3000', 'parks_nearest', 'ponds_around3000', 'ponds_nearest', 'days_exposition', 'price_m', 'floor_name', 'wd_exposition', 'liv_total', 'kitch_living', 'month_exposition', 'yr_exposition']\n",
      "<class 'pandas.core.frame.DataFrame'>\n",
      "RangeIndex: 23696 entries, 0 to 23695\n",
      "Data columns (total 29 columns):\n",
      "total_images            23696 non-null int64\n",
      "last_price              23696 non-null float64\n",
      "total_area              23696 non-null float64\n",
      "first_day_exposition    23696 non-null datetime64[ns]\n",
      "rooms                   23696 non-null int64\n",
      "ceiling_height          23696 non-null float64\n",
      "floors_total            23610 non-null float64\n",
      "living_area             21793 non-null float64\n",
      "floor                   23696 non-null int64\n",
      "is_apartment            23696 non-null object\n",
      "studio                  23696 non-null bool\n",
      "open_plan               23696 non-null bool\n",
      "kitchen_area            21418 non-null float64\n",
      "balcony                 23696 non-null float64\n",
      "locality_name           23647 non-null object\n",
      "airports_nearest        18154 non-null float64\n",
      "cityCenters_nearest     18177 non-null float64\n",
      "parks_around3000        23696 non-null float64\n",
      "parks_nearest           23696 non-null float64\n",
      "ponds_around3000        23696 non-null float64\n",
      "ponds_nearest           23696 non-null float64\n",
      "days_exposition         20515 non-null float64\n",
      "price_m                 23696 non-null float64\n",
      "floor_name              23696 non-null object\n",
      "wd_exposition           23696 non-null int64\n",
      "liv_total               21793 non-null float64\n",
      "kitch_living            20979 non-null float64\n",
      "month_exposition        23696 non-null int64\n",
      "yr_exposition           23696 non-null int64\n",
      "dtypes: bool(2), datetime64[ns](1), float64(17), int64(6), object(3)\n",
      "memory usage: 4.9+ MB\n"
     ]
    }
   ],
   "source": [
    "print(list(data.columns))\n",
    "data.info()"
   ]
  },
  {
   "cell_type": "code",
   "execution_count": 81,
   "metadata": {},
   "outputs": [
    {
     "name": "stdout",
     "output_type": "stream",
     "text": [
      "last_price :   0.00200879724924262\n",
      "total_area :   4.3135970473102846e-05\n",
      "ceiling_height :   0.0014677994271437378\n",
      "floors_total :   0.0014136416306041698\n",
      "living_area :   0.014458154690733369\n",
      "cityCenters_nearest :   0.03103061217880171\n",
      "price_m :   -0.030543488475627874\n",
      "liv_total :   -0.0019065684298792578\n",
      "kitch_living :   0.0063015422346477295\n",
      "rooms :   0.009466102083134064\n",
      "floor :   0.00957822657858488\n"
     ]
    }
   ],
   "source": [
    "#Определяющий фактор наискорейшей покупки жилья - близость к гор.центру\n",
    "factors = ['last_price', 'total_area',  'ceiling_height', 'floors_total', 'living_area',\\\n",
    "           'cityCenters_nearest', 'price_m', 'liv_total', 'kitch_living', 'rooms', 'floor']\n",
    "\n",
    "for factor in factors:\n",
    "    print(factor, ':  ', fast_deal[factor].corr(fast_deal['days_exposition']))  "
   ]
  },
  {
   "cell_type": "code",
   "execution_count": 82,
   "metadata": {},
   "outputs": [
    {
     "name": "stdout",
     "output_type": "stream",
     "text": [
      "другой       0.13\n",
      "первый      -0.13\n",
      "последний   -0.05\n",
      "dtype: float64\n"
     ]
    },
    {
     "data": {
      "text/html": [
       "<div>\n",
       "<style scoped>\n",
       "    .dataframe tbody tr th:only-of-type {\n",
       "        vertical-align: middle;\n",
       "    }\n",
       "\n",
       "    .dataframe tbody tr th {\n",
       "        vertical-align: top;\n",
       "    }\n",
       "\n",
       "    .dataframe thead th {\n",
       "        text-align: right;\n",
       "    }\n",
       "</style>\n",
       "<table border=\"1\" class=\"dataframe\">\n",
       "  <thead>\n",
       "    <tr style=\"text-align: right;\">\n",
       "      <th></th>\n",
       "      <th>total_images</th>\n",
       "      <th>last_price</th>\n",
       "      <th>total_area</th>\n",
       "      <th>first_day_exposition</th>\n",
       "      <th>rooms</th>\n",
       "      <th>ceiling_height</th>\n",
       "      <th>floors_total</th>\n",
       "      <th>living_area</th>\n",
       "      <th>floor</th>\n",
       "      <th>is_apartment</th>\n",
       "      <th>studio</th>\n",
       "      <th>open_plan</th>\n",
       "      <th>kitchen_area</th>\n",
       "      <th>balcony</th>\n",
       "      <th>locality_name</th>\n",
       "      <th>airports_nearest</th>\n",
       "      <th>cityCenters_nearest</th>\n",
       "      <th>parks_around3000</th>\n",
       "      <th>parks_nearest</th>\n",
       "      <th>ponds_around3000</th>\n",
       "      <th>ponds_nearest</th>\n",
       "      <th>days_exposition</th>\n",
       "      <th>price_m</th>\n",
       "      <th>floor_name</th>\n",
       "      <th>wd_exposition</th>\n",
       "      <th>liv_total</th>\n",
       "      <th>kitch_living</th>\n",
       "      <th>month_exposition</th>\n",
       "      <th>yr_exposition</th>\n",
       "    </tr>\n",
       "  </thead>\n",
       "  <tbody>\n",
       "    <tr>\n",
       "      <td>11</td>\n",
       "      <td>9</td>\n",
       "      <td>3,300,000.00</td>\n",
       "      <td>44.00</td>\n",
       "      <td>2018-08-27</td>\n",
       "      <td>2</td>\n",
       "      <td>2.77</td>\n",
       "      <td>5.00</td>\n",
       "      <td>31.00</td>\n",
       "      <td>4</td>\n",
       "      <td>False</td>\n",
       "      <td>False</td>\n",
       "      <td>False</td>\n",
       "      <td>6.00</td>\n",
       "      <td>1.00</td>\n",
       "      <td>Ломоносов</td>\n",
       "      <td>48,252.00</td>\n",
       "      <td>51,677.00</td>\n",
       "      <td>0.00</td>\n",
       "      <td>3,000.00</td>\n",
       "      <td>0.00</td>\n",
       "      <td>3,000.00</td>\n",
       "      <td>7.00</td>\n",
       "      <td>75,000.00</td>\n",
       "      <td>другой</td>\n",
       "      <td>0</td>\n",
       "      <td>0.70</td>\n",
       "      <td>0.19</td>\n",
       "      <td>8</td>\n",
       "      <td>2018</td>\n",
       "    </tr>\n",
       "    <tr>\n",
       "      <td>15</td>\n",
       "      <td>16</td>\n",
       "      <td>4,650,000.00</td>\n",
       "      <td>39.00</td>\n",
       "      <td>2017-11-18</td>\n",
       "      <td>1</td>\n",
       "      <td>2.77</td>\n",
       "      <td>14.00</td>\n",
       "      <td>20.50</td>\n",
       "      <td>5</td>\n",
       "      <td>0</td>\n",
       "      <td>False</td>\n",
       "      <td>False</td>\n",
       "      <td>7.60</td>\n",
       "      <td>1.00</td>\n",
       "      <td>Санкт-Петербург</td>\n",
       "      <td>12,900.00</td>\n",
       "      <td>14,259.00</td>\n",
       "      <td>1.00</td>\n",
       "      <td>590.00</td>\n",
       "      <td>1.00</td>\n",
       "      <td>296.00</td>\n",
       "      <td>19.00</td>\n",
       "      <td>119,230.77</td>\n",
       "      <td>другой</td>\n",
       "      <td>5</td>\n",
       "      <td>0.53</td>\n",
       "      <td>0.37</td>\n",
       "      <td>11</td>\n",
       "      <td>2017</td>\n",
       "    </tr>\n",
       "    <tr>\n",
       "      <td>32</td>\n",
       "      <td>3</td>\n",
       "      <td>3,290,000.00</td>\n",
       "      <td>33.00</td>\n",
       "      <td>2018-02-04</td>\n",
       "      <td>1</td>\n",
       "      <td>2.55</td>\n",
       "      <td>16.00</td>\n",
       "      <td>14.00</td>\n",
       "      <td>3</td>\n",
       "      <td>0</td>\n",
       "      <td>False</td>\n",
       "      <td>False</td>\n",
       "      <td>8.00</td>\n",
       "      <td>0.00</td>\n",
       "      <td>Санкт-Петербург</td>\n",
       "      <td>13,943.00</td>\n",
       "      <td>12,739.00</td>\n",
       "      <td>0.00</td>\n",
       "      <td>3,000.00</td>\n",
       "      <td>0.00</td>\n",
       "      <td>3,000.00</td>\n",
       "      <td>15.00</td>\n",
       "      <td>99,696.97</td>\n",
       "      <td>другой</td>\n",
       "      <td>6</td>\n",
       "      <td>0.42</td>\n",
       "      <td>0.57</td>\n",
       "      <td>2</td>\n",
       "      <td>2018</td>\n",
       "    </tr>\n",
       "  </tbody>\n",
       "</table>\n",
       "</div>"
      ],
      "text/plain": [
       "    total_images   last_price  total_area first_day_exposition  rooms  \\\n",
       "11             9 3,300,000.00       44.00           2018-08-27      2   \n",
       "15            16 4,650,000.00       39.00           2017-11-18      1   \n",
       "32             3 3,290,000.00       33.00           2018-02-04      1   \n",
       "\n",
       "    ceiling_height  floors_total  living_area  floor is_apartment  studio  \\\n",
       "11            2.77          5.00        31.00      4        False   False   \n",
       "15            2.77         14.00        20.50      5            0   False   \n",
       "32            2.55         16.00        14.00      3            0   False   \n",
       "\n",
       "    open_plan  kitchen_area  balcony    locality_name  airports_nearest  \\\n",
       "11      False          6.00     1.00        Ломоносов         48,252.00   \n",
       "15      False          7.60     1.00  Санкт-Петербург         12,900.00   \n",
       "32      False          8.00     0.00  Санкт-Петербург         13,943.00   \n",
       "\n",
       "    cityCenters_nearest  parks_around3000  parks_nearest  ponds_around3000  \\\n",
       "11            51,677.00              0.00       3,000.00              0.00   \n",
       "15            14,259.00              1.00         590.00              1.00   \n",
       "32            12,739.00              0.00       3,000.00              0.00   \n",
       "\n",
       "    ponds_nearest  days_exposition    price_m floor_name  wd_exposition  \\\n",
       "11       3,000.00             7.00  75,000.00     другой              0   \n",
       "15         296.00            19.00 119,230.77     другой              5   \n",
       "32       3,000.00            15.00  99,696.97     другой              6   \n",
       "\n",
       "    liv_total  kitch_living  month_exposition  yr_exposition  \n",
       "11       0.70          0.19                 8           2018  \n",
       "15       0.53          0.37                11           2017  \n",
       "32       0.42          0.57                 2           2018  "
      ]
     },
     "execution_count": 82,
     "metadata": {},
     "output_type": "execute_result"
    }
   ],
   "source": [
    "#зависимость цены от того, на каком этаже расположена квартира: первом, последнем или другом. \n",
    "#Проблема в том, что мы сравниваем str c int.\n",
    "#https://pandas.pydata.org/pandas-docs/stable/reference/api/pandas.DataFrame.corrwith.html\n",
    "corr_floor_price = data['floor_name'].str.get_dummies().corrwith(data['price_m'])\n",
    "print(corr_floor_price)\n",
    "fast_deal.head(3)"
   ]
  },
  {
   "cell_type": "code",
   "execution_count": 83,
   "metadata": {},
   "outputs": [
    {
     "name": "stdout",
     "output_type": "stream",
     "text": [
      "-0.007270791058726713\n"
     ]
    }
   ],
   "source": [
    "# Также изучите зависимость от даты размещения: дня недели, месяца и года.\n",
    "print(data['wd_exposition'].corr(data['price_m']))"
   ]
  },
  {
   "cell_type": "code",
   "execution_count": 84,
   "metadata": {},
   "outputs": [
    {
     "name": "stdout",
     "output_type": "stream",
     "text": [
      "Отрицательная минимальная корреляция от месяца публикации объявления -0.0019507255430898525\n"
     ]
    }
   ],
   "source": [
    "#Как сравнивать огурцы с носками.\n",
    "print('Отрицательная минимальная корреляция от месяца публикации объявления',\\\n",
    "      data['month_exposition'].corr(data['price_m']))"
   ]
  },
  {
   "cell_type": "code",
   "execution_count": 85,
   "metadata": {},
   "outputs": [
    {
     "name": "stdout",
     "output_type": "stream",
     "text": [
      "Положительная минимальная корреляция от года публикации объявления 0.008500541356149988\n"
     ]
    }
   ],
   "source": [
    "#Как сравнивать огурцы с носками - 2.\n",
    "print('Положительная минимальная корреляция от года публикации объявления',\\\n",
    "      data['yr_exposition'].corr(data['price_m']))"
   ]
  },
  {
   "cell_type": "markdown",
   "metadata": {},
   "source": [
    "**Пояснение**\n",
    "\n",
    "Мы рассмотрели различные виды корреляций. Из исходных данных расстояние до гор.центра -- самое важное.\n",
    "\n",
    "Но в данных не выражены транспортные развязки."
   ]
  },
  {
   "cell_type": "code",
   "execution_count": 87,
   "metadata": {},
   "outputs": [
    {
     "name": "stdout",
     "output_type": "stream",
     "text": [
      "Санкт-Петербург :    15658\n",
      "\n",
      "\n",
      "Кронштадт :    95\n"
     ]
    }
   ],
   "source": [
    "#Топ-10 с наибольшим кол-вом предложений.\n",
    "price_m_mean = data['price_m'].mean()\n",
    "biggest_offer = pd.DataFrame(data.pivot_table(index = 'locality_name', values = ['price_m', 'cityCenters_nearest'],\\\n",
    "                                 aggfunc=['count']))\n",
    "biggest_offer.columns = ['price_per_m', 'distance']\n",
    "biggest_offer = biggest_offer.sort_values('price_per_m', ascending=False).head(10)\n",
    "print(biggest_offer['price_per_m'].idxmax(), ':   ', biggest_offer['price_per_m'].max())\n",
    "print('\\n')\n",
    "print(biggest_offer['price_per_m'].idxmin(axis=0), ':   ', biggest_offer['price_per_m'].min())"
   ]
  },
  {
   "cell_type": "code",
   "execution_count": 89,
   "metadata": {},
   "outputs": [
    {
     "data": {
      "text/plain": [
       "<matplotlib.axes._subplots.AxesSubplot at 0x7f3c70ccf9d0>"
      ]
     },
     "execution_count": 89,
     "metadata": {},
     "output_type": "execute_result"
    },
    {
     "data": {
      "image/png": "[encoded data removed]",
      "text/plain": [
       "<Figure size 432x288 with 1 Axes>"
      ]
     },
     "metadata": {
      "needs_background": "light"
     },
     "output_type": "display_data"
    }
   ],
   "source": [
    "data_km = data.query('locality_name == \"Санкт-Петербург\"')\n",
    "data_km.pivot_table(index = 'cityCenters_nearest', values = 'price_m', aggfunc = 'mean')\n",
    "data_km.head(3)\n",
    "sb.histplot(data = data_km, x = 'cityCenters_nearest', y = 'price_m', bins=50)"
   ]
  },
  {
   "cell_type": "markdown",
   "metadata": {},
   "source": [
    "**Пояснение**\n",
    "На данном этапе нам надо было визуально отсечь линией изменение в графике. Насколько мне позволяет визуальный анализ, \n",
    "дистанция в 8000 -- норм для центра Спб."
   ]
  },
  {
   "cell_type": "code",
   "execution_count": 90,
   "metadata": {},
   "outputs": [
    {
     "data": {
      "text/html": [
       "<div>\n",
       "<style scoped>\n",
       "    .dataframe tbody tr th:only-of-type {\n",
       "        vertical-align: middle;\n",
       "    }\n",
       "\n",
       "    .dataframe tbody tr th {\n",
       "        vertical-align: top;\n",
       "    }\n",
       "\n",
       "    .dataframe thead th {\n",
       "        text-align: right;\n",
       "    }\n",
       "</style>\n",
       "<table border=\"1\" class=\"dataframe\">\n",
       "  <thead>\n",
       "    <tr style=\"text-align: right;\">\n",
       "      <th></th>\n",
       "      <th>total_images</th>\n",
       "      <th>last_price</th>\n",
       "      <th>total_area</th>\n",
       "      <th>rooms</th>\n",
       "      <th>ceiling_height</th>\n",
       "      <th>floors_total</th>\n",
       "      <th>living_area</th>\n",
       "      <th>floor</th>\n",
       "      <th>kitchen_area</th>\n",
       "      <th>balcony</th>\n",
       "      <th>airports_nearest</th>\n",
       "      <th>cityCenters_nearest</th>\n",
       "      <th>parks_around3000</th>\n",
       "      <th>parks_nearest</th>\n",
       "      <th>ponds_around3000</th>\n",
       "      <th>ponds_nearest</th>\n",
       "      <th>days_exposition</th>\n",
       "      <th>price_m</th>\n",
       "      <th>wd_exposition</th>\n",
       "      <th>liv_total</th>\n",
       "      <th>kitch_living</th>\n",
       "      <th>month_exposition</th>\n",
       "      <th>yr_exposition</th>\n",
       "    </tr>\n",
       "  </thead>\n",
       "  <tbody>\n",
       "    <tr>\n",
       "      <td>count</td>\n",
       "      <td>3,712.00</td>\n",
       "      <td>3,712.00</td>\n",
       "      <td>3,712.00</td>\n",
       "      <td>3,712.00</td>\n",
       "      <td>3,712.00</td>\n",
       "      <td>3,705.00</td>\n",
       "      <td>3,406.00</td>\n",
       "      <td>3,712.00</td>\n",
       "      <td>3,362.00</td>\n",
       "      <td>3,712.00</td>\n",
       "      <td>3,706.00</td>\n",
       "      <td>3,712.00</td>\n",
       "      <td>3,712.00</td>\n",
       "      <td>3,712.00</td>\n",
       "      <td>3,712.00</td>\n",
       "      <td>3,712.00</td>\n",
       "      <td>3,104.00</td>\n",
       "      <td>3,712.00</td>\n",
       "      <td>3,712.00</td>\n",
       "      <td>3,406.00</td>\n",
       "      <td>3,288.00</td>\n",
       "      <td>3,712.00</td>\n",
       "      <td>3,712.00</td>\n",
       "    </tr>\n",
       "    <tr>\n",
       "      <td>mean</td>\n",
       "      <td>10.25</td>\n",
       "      <td>14,729,617.54</td>\n",
       "      <td>92.33</td>\n",
       "      <td>2.81</td>\n",
       "      <td>2.99</td>\n",
       "      <td>7.24</td>\n",
       "      <td>53.89</td>\n",
       "      <td>4.28</td>\n",
       "      <td>14.43</td>\n",
       "      <td>0.33</td>\n",
       "      <td>24,646.34</td>\n",
       "      <td>4,691.31</td>\n",
       "      <td>1.03</td>\n",
       "      <td>1,324.90</td>\n",
       "      <td>1.28</td>\n",
       "      <td>1,183.10</td>\n",
       "      <td>245.08</td>\n",
       "      <td>144,404.87</td>\n",
       "      <td>2.53</td>\n",
       "      <td>0.58</td>\n",
       "      <td>0.34</td>\n",
       "      <td>6.43</td>\n",
       "      <td>2,017.17</td>\n",
       "    </tr>\n",
       "    <tr>\n",
       "      <td>std</td>\n",
       "      <td>6.01</td>\n",
       "      <td>24,704,514.22</td>\n",
       "      <td>60.53</td>\n",
       "      <td>1.46</td>\n",
       "      <td>0.71</td>\n",
       "      <td>3.97</td>\n",
       "      <td>37.38</td>\n",
       "      <td>3.06</td>\n",
       "      <td>9.31</td>\n",
       "      <td>0.77</td>\n",
       "      <td>4,303.88</td>\n",
       "      <td>1,766.70</td>\n",
       "      <td>0.94</td>\n",
       "      <td>1,225.75</td>\n",
       "      <td>1.09</td>\n",
       "      <td>1,165.44</td>\n",
       "      <td>271.43</td>\n",
       "      <td>91,844.54</td>\n",
       "      <td>1.72</td>\n",
       "      <td>0.12</td>\n",
       "      <td>0.30</td>\n",
       "      <td>3.46</td>\n",
       "      <td>1.12</td>\n",
       "    </tr>\n",
       "    <tr>\n",
       "      <td>min</td>\n",
       "      <td>0.00</td>\n",
       "      <td>1,600,000.00</td>\n",
       "      <td>12.00</td>\n",
       "      <td>0.00</td>\n",
       "      <td>2.00</td>\n",
       "      <td>2.00</td>\n",
       "      <td>2.00</td>\n",
       "      <td>1.00</td>\n",
       "      <td>2.00</td>\n",
       "      <td>0.00</td>\n",
       "      <td>12,388.00</td>\n",
       "      <td>181.00</td>\n",
       "      <td>0.00</td>\n",
       "      <td>9.00</td>\n",
       "      <td>0.00</td>\n",
       "      <td>22.00</td>\n",
       "      <td>3.00</td>\n",
       "      <td>15,345.27</td>\n",
       "      <td>0.00</td>\n",
       "      <td>0.02</td>\n",
       "      <td>0.04</td>\n",
       "      <td>1.00</td>\n",
       "      <td>2,014.00</td>\n",
       "    </tr>\n",
       "    <tr>\n",
       "      <td>25%</td>\n",
       "      <td>6.00</td>\n",
       "      <td>6,590,000.00</td>\n",
       "      <td>56.00</td>\n",
       "      <td>2.00</td>\n",
       "      <td>2.77</td>\n",
       "      <td>5.00</td>\n",
       "      <td>31.00</td>\n",
       "      <td>2.00</td>\n",
       "      <td>9.00</td>\n",
       "      <td>0.00</td>\n",
       "      <td>21,776.50</td>\n",
       "      <td>3,585.00</td>\n",
       "      <td>0.00</td>\n",
       "      <td>361.00</td>\n",
       "      <td>0.00</td>\n",
       "      <td>317.00</td>\n",
       "      <td>60.00</td>\n",
       "      <td>100,000.00</td>\n",
       "      <td>1.00</td>\n",
       "      <td>0.51</td>\n",
       "      <td>0.18</td>\n",
       "      <td>3.00</td>\n",
       "      <td>2,017.00</td>\n",
       "    </tr>\n",
       "    <tr>\n",
       "      <td>50%</td>\n",
       "      <td>10.00</td>\n",
       "      <td>9,000,000.00</td>\n",
       "      <td>77.76</td>\n",
       "      <td>3.00</td>\n",
       "      <td>2.80</td>\n",
       "      <td>6.00</td>\n",
       "      <td>45.00</td>\n",
       "      <td>4.00</td>\n",
       "      <td>12.00</td>\n",
       "      <td>0.00</td>\n",
       "      <td>24,324.00</td>\n",
       "      <td>4,811.00</td>\n",
       "      <td>1.00</td>\n",
       "      <td>601.00</td>\n",
       "      <td>1.00</td>\n",
       "      <td>616.00</td>\n",
       "      <td>139.50</td>\n",
       "      <td>123,629.21</td>\n",
       "      <td>3.00</td>\n",
       "      <td>0.60</td>\n",
       "      <td>0.25</td>\n",
       "      <td>6.00</td>\n",
       "      <td>2,017.00</td>\n",
       "    </tr>\n",
       "    <tr>\n",
       "      <td>75%</td>\n",
       "      <td>15.00</td>\n",
       "      <td>14,131,375.00</td>\n",
       "      <td>108.73</td>\n",
       "      <td>3.00</td>\n",
       "      <td>3.10</td>\n",
       "      <td>9.00</td>\n",
       "      <td>65.00</td>\n",
       "      <td>5.00</td>\n",
       "      <td>16.78</td>\n",
       "      <td>0.00</td>\n",
       "      <td>27,119.50</td>\n",
       "      <td>5,951.00</td>\n",
       "      <td>2.00</td>\n",
       "      <td>3,000.00</td>\n",
       "      <td>2.00</td>\n",
       "      <td>3,000.00</td>\n",
       "      <td>342.00</td>\n",
       "      <td>154,965.80</td>\n",
       "      <td>4.00</td>\n",
       "      <td>0.66</td>\n",
       "      <td>0.39</td>\n",
       "      <td>10.00</td>\n",
       "      <td>2,018.00</td>\n",
       "    </tr>\n",
       "    <tr>\n",
       "      <td>max</td>\n",
       "      <td>50.00</td>\n",
       "      <td>763,000,000.00</td>\n",
       "      <td>900.00</td>\n",
       "      <td>19.00</td>\n",
       "      <td>32.00</td>\n",
       "      <td>27.00</td>\n",
       "      <td>409.70</td>\n",
       "      <td>25.00</td>\n",
       "      <td>112.00</td>\n",
       "      <td>5.00</td>\n",
       "      <td>39,763.00</td>\n",
       "      <td>7,998.00</td>\n",
       "      <td>3.00</td>\n",
       "      <td>3,000.00</td>\n",
       "      <td>3.00</td>\n",
       "      <td>3,000.00</td>\n",
       "      <td>1,572.00</td>\n",
       "      <td>1,907,500.00</td>\n",
       "      <td>6.00</td>\n",
       "      <td>0.98</td>\n",
       "      <td>5.33</td>\n",
       "      <td>12.00</td>\n",
       "      <td>2,019.00</td>\n",
       "    </tr>\n",
       "  </tbody>\n",
       "</table>\n",
       "</div>"
      ],
      "text/plain": [
       "       total_images     last_price  total_area    rooms  ceiling_height  \\\n",
       "count      3,712.00       3,712.00    3,712.00 3,712.00        3,712.00   \n",
       "mean          10.25  14,729,617.54       92.33     2.81            2.99   \n",
       "std            6.01  24,704,514.22       60.53     1.46            0.71   \n",
       "min            0.00   1,600,000.00       12.00     0.00            2.00   \n",
       "25%            6.00   6,590,000.00       56.00     2.00            2.77   \n",
       "50%           10.00   9,000,000.00       77.76     3.00            2.80   \n",
       "75%           15.00  14,131,375.00      108.73     3.00            3.10   \n",
       "max           50.00 763,000,000.00      900.00    19.00           32.00   \n",
       "\n",
       "       floors_total  living_area    floor  kitchen_area  balcony  \\\n",
       "count      3,705.00     3,406.00 3,712.00      3,362.00 3,712.00   \n",
       "mean           7.24        53.89     4.28         14.43     0.33   \n",
       "std            3.97        37.38     3.06          9.31     0.77   \n",
       "min            2.00         2.00     1.00          2.00     0.00   \n",
       "25%            5.00        31.00     2.00          9.00     0.00   \n",
       "50%            6.00        45.00     4.00         12.00     0.00   \n",
       "75%            9.00        65.00     5.00         16.78     0.00   \n",
       "max           27.00       409.70    25.00        112.00     5.00   \n",
       "\n",
       "       airports_nearest  cityCenters_nearest  parks_around3000  parks_nearest  \\\n",
       "count          3,706.00             3,712.00          3,712.00       3,712.00   \n",
       "mean          24,646.34             4,691.31              1.03       1,324.90   \n",
       "std            4,303.88             1,766.70              0.94       1,225.75   \n",
       "min           12,388.00               181.00              0.00           9.00   \n",
       "25%           21,776.50             3,585.00              0.00         361.00   \n",
       "50%           24,324.00             4,811.00              1.00         601.00   \n",
       "75%           27,119.50             5,951.00              2.00       3,000.00   \n",
       "max           39,763.00             7,998.00              3.00       3,000.00   \n",
       "\n",
       "       ponds_around3000  ponds_nearest  days_exposition      price_m  \\\n",
       "count          3,712.00       3,712.00         3,104.00     3,712.00   \n",
       "mean               1.28       1,183.10           245.08   144,404.87   \n",
       "std                1.09       1,165.44           271.43    91,844.54   \n",
       "min                0.00          22.00             3.00    15,345.27   \n",
       "25%                0.00         317.00            60.00   100,000.00   \n",
       "50%                1.00         616.00           139.50   123,629.21   \n",
       "75%                2.00       3,000.00           342.00   154,965.80   \n",
       "max                3.00       3,000.00         1,572.00 1,907,500.00   \n",
       "\n",
       "       wd_exposition  liv_total  kitch_living  month_exposition  yr_exposition  \n",
       "count       3,712.00   3,406.00      3,288.00          3,712.00       3,712.00  \n",
       "mean            2.53       0.58          0.34              6.43       2,017.17  \n",
       "std             1.72       0.12          0.30              3.46           1.12  \n",
       "min             0.00       0.02          0.04              1.00       2,014.00  \n",
       "25%             1.00       0.51          0.18              3.00       2,017.00  \n",
       "50%             3.00       0.60          0.25              6.00       2,017.00  \n",
       "75%             4.00       0.66          0.39             10.00       2,018.00  \n",
       "max             6.00       0.98          5.33             12.00       2,019.00  "
      ]
     },
     "execution_count": 90,
     "metadata": {},
     "output_type": "execute_result"
    }
   ],
   "source": [
    "spb_center = pd.DataFrame(data_km.query('cityCenters_nearest < 8000'))\n",
    "spb_center.describe()"
   ]
  },
  {
   "cell_type": "code",
   "execution_count": 91,
   "metadata": {},
   "outputs": [
    {
     "data": {
      "text/plain": [
       "<matplotlib.axes._subplots.AxesSubplot at 0x7f3c70b943d0>"
      ]
     },
     "execution_count": 91,
     "metadata": {},
     "output_type": "execute_result"
    },
    {
     "data": {
      "image/png": "[encoded data removed]",
      "text/plain": [
       "<Figure size 1440x864 with 1 Axes>"
      ]
     },
     "metadata": {
      "needs_background": "light"
     },
     "output_type": "display_data"
    }
   ],
   "source": [
    "spb_center.plot(kind = 'scatter', y ='total_area', x = \"price_m\", figsize=(20,12))"
   ]
  },
  {
   "cell_type": "markdown",
   "metadata": {},
   "source": [
    "**Пояснение**\n",
    "Точечки! Наибольшая плотность в квадрате до 150 кв.метров и до 200 000 рублей за кв. метр. Это самые предлагаемые квартиры. Студии или квартиры около 50 кв. метров затерялись в центре синевы."
   ]
  },
  {
   "cell_type": "code",
   "execution_count": 92,
   "metadata": {},
   "outputs": [
    {
     "data": {
      "text/plain": [
       "<matplotlib.axes._subplots.AxesSubplot at 0x7f3c713b9f50>"
      ]
     },
     "execution_count": 92,
     "metadata": {},
     "output_type": "execute_result"
    },
    {
     "data": {
      "image/png": "[encoded data removed]",
      "text/plain": [
       "<Figure size 1440x864 with 1 Axes>"
      ]
     },
     "metadata": {
      "needs_background": "light"
     },
     "output_type": "display_data"
    }
   ],
   "source": [
    "spb_center.plot(kind = 'scatter', y ='floor', x = \"price_m\", figsize=(20,12))"
   ]
  },
  {
   "cell_type": "markdown",
   "metadata": {},
   "source": [
    "**Пояснение** В задании надо было нарисовать гистограммы. Но есть идеальный график-многоэтажка. Максимум предложений: квартиры до 7 этажа."
   ]
  },
  {
   "cell_type": "code",
   "execution_count": 93,
   "metadata": {},
   "outputs": [
    {
     "data": {
      "text/plain": [
       "<matplotlib.axes._subplots.AxesSubplot at 0x7f3c7147f6d0>"
      ]
     },
     "execution_count": 93,
     "metadata": {},
     "output_type": "execute_result"
    },
    {
     "data": {
      "image/png": "[encoded data removed]",
      "text/plain": [
       "<Figure size 432x288 with 1 Axes>"
      ]
     },
     "metadata": {
      "needs_background": "light"
     },
     "output_type": "display_data"
    }
   ],
   "source": [
    "spb_center.plot(kind = 'hist', bins = 100, y ='cityCenters_nearest', x = \"price_m\")"
   ]
  },
  {
   "cell_type": "markdown",
   "metadata": {},
   "source": [
    "**Пояснение**\n",
    "Некрасивый график. Но зато видно, что в радиусе 5-6 км больше всего предложений."
   ]
  },
  {
   "cell_type": "code",
   "execution_count": 94,
   "metadata": {},
   "outputs": [
    {
     "data": {
      "text/plain": [
       "<matplotlib.axes._subplots.AxesSubplot at 0x7f3c7145fcd0>"
      ]
     },
     "execution_count": 94,
     "metadata": {},
     "output_type": "execute_result"
    },
    {
     "data": {
      "image/png": "[encoded data removed]",
      "text/plain": [
       "<Figure size 432x288 with 1 Axes>"
      ]
     },
     "metadata": {
      "needs_background": "light"
     },
     "output_type": "display_data"
    }
   ],
   "source": [
    "spb_center.plot(kind = 'hist', bins=12, y ='month_exposition', x = \"price_m\")"
   ]
  },
  {
   "cell_type": "markdown",
   "metadata": {},
   "source": [
    "**Пояснение**\n",
    "Гистограмма идеальна для отображения показателей по месяцам. Предложения растут в феврале, падают в мае, растут в ноябре."
   ]
  },
  {
   "cell_type": "code",
   "execution_count": 95,
   "metadata": {},
   "outputs": [
    {
     "data": {
      "text/plain": [
       "<matplotlib.axes._subplots.AxesSubplot at 0x7f3c8be9b510>"
      ]
     },
     "execution_count": 95,
     "metadata": {},
     "output_type": "execute_result"
    },
    {
     "data": {
      "image/png": "[encoded data removed]",
      "text/plain": [
       "<Figure size 432x288 with 1 Axes>"
      ]
     },
     "metadata": {
      "needs_background": "light"
     },
     "output_type": "display_data"
    }
   ],
   "source": [
    "spb_center.plot(kind = 'hist', bins = 7, y ='wd_exposition', x = \"price_m\")"
   ]
  },
  {
   "cell_type": "markdown",
   "metadata": {},
   "source": [
    "**Пояснение**\n",
    "Гистограмма идеальна для отображения показателей и по дням недели. Предложения появляются в течение рабочей недели, четверг самый топовый день, чтобы искать свежие предложения на сайте. В выходные отдыхают, видимо, люди."
   ]
  },
  {
   "cell_type": "code",
   "execution_count": 96,
   "metadata": {},
   "outputs": [
    {
     "data": {
      "text/plain": [
       "<matplotlib.axes._subplots.AxesSubplot at 0x7f3c70c84dd0>"
      ]
     },
     "execution_count": 96,
     "metadata": {},
     "output_type": "execute_result"
    },
    {
     "data": {
      "image/png": "[encoded data removed]",
      "text/plain": [
       "<Figure size 432x288 with 1 Axes>"
      ]
     },
     "metadata": {
      "needs_background": "light"
     },
     "output_type": "display_data"
    }
   ],
   "source": [
    "spb_center.plot(kind = 'hist', bins = 6, y ='yr_exposition', x = \"price_m\")"
   ]
  },
  {
   "cell_type": "markdown",
   "metadata": {},
   "source": [
    "Пояснение Гистограмма идеальна для отображения показателей -- да -- и для годов. 2017 -- год предложения."
   ]
  },
  {
   "cell_type": "code",
   "execution_count": 99,
   "metadata": {},
   "outputs": [
    {
     "name": "stdout",
     "output_type": "stream",
     "text": [
      "rooms :    0.006246787763255124\n",
      "floor :    0.12395509756083338\n",
      "cityCenters_nearest :    -0.03093863923859851\n",
      "yr_exposition :    0.007816064191341522\n"
     ]
    }
   ],
   "source": [
    "spb_center_factors = ['rooms', 'floor', 'cityCenters_nearest', 'yr_exposition']\n",
    "for i in spb_center_factors:\n",
    "    print(i, ':   ', spb_center[i].corr(spb_center[\"price_m\"]))"
   ]
  },
  {
   "cell_type": "markdown",
   "metadata": {},
   "source": [
    "**Комментарий**\n",
    "Этаж важен, но немного. В центральной зоне расстояние уже не играет той важной роли, что по всем городам и сёлам. О количестве комнат тоже не заботятся сильно."
   ]
  },
  {
   "cell_type": "markdown",
   "metadata": {},
   "source": [
    "### Шаг 5. Общий вывод"
   ]
  },
  {
   "cell_type": "markdown",
   "metadata": {},
   "source": [
    "Проведён анализ объявлений о недвижимости по данным с сайта Яндекс.Недвижимость. Часть данных была утеряна в силу человеческого фактора.\n",
    "\n",
    "\n",
    "При выявлении самых быстропродаваемых квартир мы обошлись 25% объявлений с наикратчайшим сроком пребывания на сайте. Исходим из предположения, что закрытие объявляения означает сделку.\n",
    "\n",
    "\n",
    "В сегмент самых \"долгих\" объявлений попали объявления о 95 до 210 дней. Крайняя граница обусловлена максимальным сроком размещения, разрешённым на сайте, включая платное размещение.\n",
    "\n",
    "\n",
    "Были выявлены следующие закономерности:\n",
    "\n",
    "- Самые дорогие квартиры в СПб. Это ожидаемо - культурный центр РФ, большой город с большим предложеие работы.\n",
    "\n",
    "- Самые дешёвые - в Кронштадте. Это, кстати, остров. Здесь роль играет транспортная недоступность.\n",
    "\n",
    "- Удаленность от центра города является важным фактором ценообразования для данных в целом.\n",
    "\n",
    "    - Но для выборки по более узкому радиусу (\"центр\" 7,5км), роль играет площадь и цена за метр. Видимо, для большинства в центре транспортная проблема играет меньшую роль.\n",
    "\n",
    "- Быстрая сделка до 45 дней. Самая долгая по данным 232 дня, что неверно: 210 дней максимум из дозволенного, даже за плату, на сайте. Хотя, может, это вкрались нерабочие дни типа НГ, майских и других праздников, хотя странно, ведь удаление объявления должно быть автоматизировано.\n",
    "\n",
    "- Самые быстро распродаваемые квартиры в \"центре\": до 150 кв. м и от 200 000 руб. за кв. метр. \n",
    "\n",
    "- Свежие предложения на сайте появляются в течение рабочей недели. В течение года: в феврале (месяц после праздников) и в ноябре (перед длинными каникулами) больше всего предложений. Май - провальный, мб в силу майских праздников.\n",
    "\n",
    "- Максимум предложение достигло в 2017 г. Одно из предположений исходя из общероссийской ситуации в том году: экономический кризис. Но это неточно, лишь канва событий.\n",
    "\n",
    "**Минусы анализа**:\n",
    "Неуверенно нормирую данные (уместно ли вообще такое выражение?) и не всегда могу аргументировать, как нашла аномалию на исключение. Не знаю толком, что такое выбросы."
   ]
  },
  {
   "cell_type": "markdown",
   "metadata": {},
   "source": [
    "### Чек-лист готовности проекта\n",
    "\n",
    "Поставьте 'x' в выполненных пунктах. Далее нажмите Shift+Enter."
   ]
  },
  {
   "cell_type": "markdown",
   "metadata": {},
   "source": [
    "- [x]  открыт файл\n",
    "- [x]  файлы изучены (выведены первые строки, метод info())\n",
    "- [x]  определены пропущенные значения\n",
    "- [x]  заполнены пропущенные значения **кроме столбца с удалённостью от аэропортов**\n",
    "- [x]  есть пояснение, какие пропущенные значения обнаружены\n",
    "- [x]  изменены типы данных\n",
    "- [x]  есть пояснение, в каких столбцах изменены типы и почему\n",
    "- [x]  посчитано и добавлено в таблицу: цена квадратного метра\n",
    "- [x]  посчитано и добавлено в таблицу: день недели, месяц и год публикации объявления\n",
    "- [x]  посчитано и добавлено в таблицу: этаж квартиры; варианты — первый, последний, другой\n",
    "- [x]  посчитано и добавлено в таблицу: соотношение жилой и общей площади, а также отношение площади кухни к общей\n",
    "- [x]  изучены следующие параметры: площадь, цена, число комнат, высота потолков\n",
    "- [x]  построены гистограммы для каждого параметра\n",
    "- [x]  выполнено задание: \"Изучите время продажи квартиры. Постройте гистограмму. Посчитайте среднее и медиану. Опишите, сколько обычно занимает продажа. Когда можно считать, что продажи прошли очень быстро, а когда необычно долго?\"\n",
    "- [x]  выполнено задание: \"Уберите редкие и выбивающиеся значения. Опишите, какие особенности обнаружили.\"\n",
    "- [x]  выполнено задание: \"Какие факторы больше всего влияют на стоимость квартиры? Изучите, зависит ли цена от квадратного метра, числа комнат, этажа (первого или последнего), удалённости от центра. Также изучите зависимость от даты размещения: дня недели, месяца и года. \"Выберите 10 населённых пунктов с наибольшим числом объявлений. Посчитайте среднюю цену квадратного метра в этих населённых пунктах. Выделите населённые пункты с самой высокой и низкой стоимостью жилья. Эти данные можно найти по имени в столбце '*locality_name'*. \"\n",
    "- [x]  выполнено задание: \"Изучите предложения квартир: для каждой квартиры есть информация о расстоянии до центра. Выделите квартиры в Санкт-Петербурге (*'locality_name'*). Ваша задача — выяснить, какая область входит в центр. Создайте столбец с расстоянием до центра в километрах: округлите до целых значений. После этого посчитайте среднюю цену для каждого километра. Постройте график: он должен показывать, как цена зависит от удалённости от центра. Определите границу, где график сильно меняется — это и будет центральная зона. \"\n",
    "- [x]  выполнено задание: \"Выделите сегмент квартир в центре. Проанализируйте эту территорию и изучите следующие параметры: площадь, цена, число комнат, высота потолков. Также выделите факторы, которые влияют на стоимость квартиры (число комнат, этаж, удалённость от центра, дата размещения объявления). Сделайте выводы. Отличаются ли они от общих выводов по всему городу?\"\n",
    "- [x]  в каждом этапе есть выводы\n",
    "- [x] есть общий вывод"
   ]
  },
  {
   "cell_type": "markdown",
   "metadata": {},
   "source": [
    "**Спасибо за ревью**"
   ]
  },
  {
   "cell_type": "code",
   "execution_count": null,
   "metadata": {},
   "outputs": [],
   "source": []
  }
 ],
 "metadata": {
  "kernelspec": {
   "display_name": "Python 3",
   "language": "python",
   "name": "python3"
  },
  "language_info": {
   "codemirror_mode": {
    "name": "ipython",
    "version": 3
   },
   "file_extension": ".py",
   "mimetype": "text/x-python",
   "name": "python",
   "nbconvert_exporter": "python",
   "pygments_lexer": "ipython3",
   "version": "3.7.8"
  },
  "toc": {
   "base_numbering": 1,
   "nav_menu": {},
   "number_sections": true,
   "sideBar": true,
   "skip_h1_title": true,
   "title_cell": "Table of Contents",
   "title_sidebar": "Contents",
   "toc_cell": false,
   "toc_position": {},
   "toc_section_display": true,
   "toc_window_display": false
  }
 },
 "nbformat": 4,
 "nbformat_minor": 2
}
