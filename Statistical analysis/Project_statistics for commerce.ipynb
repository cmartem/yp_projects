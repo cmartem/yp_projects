{
 "cells": [
  {
   "cell_type": "markdown",
   "metadata": {},
   "source": [
    "<div style=\"border-radius: 15px; border: 3px solid indigo; padding: 15px;\">\n",
    "<b> Комментарий ревьюера</b>\n",
    "    \n",
    "Привет! Меня зовут Светлана Носова, я буду проверять твой проект. Если не против, то давай общаться на «ты». \n",
    "\n",
    "Сразу хочу обратить внимание на цветовую разметку.\n",
    "Зеленым помечены отличные решения и идеи, которые можно и нужно использовать в будущем. Желтым отмечено то, что можно или нужно оптимизировать, в зависимости от контекста. Красным обозначены грубые ошибки.\n",
    "    \n",
    "**Ответы на мои комментарии или доработки по моим рекомендациям попрошу выделить каким-нибудь цветом, кроме трех перечисленных.**\n",
    "Также я попрошу тебя **не менять и не передвигать мои комментарии**, чтобы при последующей проверке мне было проще ориентироваться.\n",
    "    \n",
    "Кроме того, комментарии у меня обозначены как заголовки. Это сбивает содержание, но при последующей проверке я могу снять с них заголовок, если тебе так будет удобнее. При этом они удобны, поскольку ты сразу можешь перейти к ним.   \n",
    "        \n",
    "<hr>\n",
    "    \n",
    "**По проекту:** работа выполнена очень хорошо, все оформлено понятно и аккуратно. Есть некоторые замечания, я все написала в комментариях. В кратце: seaborn не работает, это локальная проблема, так что построй обычным matplotlib; таблицу я рекомендую сделать общую и все подробно написала тебе. Буду ждать работу на повторное ревью.\n",
    "</div>\n",
    "\n",
    "<div class=\"alert alert-block alert-info\">\n",
    "<b>V4\n",
    "    </b> \n",
    "    \n",
    "**Светлана,** спасибо большое за терпение и комментарии. Я многому научилась и надеюсь удержать в голове.\n",
    "    \n",
    "- Анализ проделан, графики подписны, есть краткие наблюдения.\n",
    "    \n",
    "- Функцию подсчета дохода разобрала, выводы для себя сделала. Повторила, как надо обращаться к конкретным данным: df[\"\"][]\n",
    "    \n",
    "- Метод склейки merge с возможными исходами тоже усвоила. Заодно дополнительно прочитала про suffixes при склейке одноимённых столбцов разных таблиц из документации.\n",
    "    \n",
    "</div>   \n"
   ]
  },
  {
   "cell_type": "markdown",
   "metadata": {},
   "source": [
    "  <div class=\"alert alert-warning\" style=\"border-radius: 15px\">\n",
    "<b> Комментарий ревьюера 2</b>\n",
    "    \n",
    "Разберемся :) Я оставила комментарии. Если что, я помогу, все в порядке. \n",
    "</div>\n",
    "\n",
    "<div class=\"alert alert-warning\" style=\"border-radius: 15px\">\n",
    "<b> Комментарий ревьюера 3</b>\n",
    "    \n",
    "Оставила подробные комментарии. Мы уже близки к решению задачи :)\n",
    "</div>\n",
    "\n",
    "<div class=\"alert alert-warning\" style=\"border-radius: 15px\">\n",
    "<b> Комментарий ревьюера 4</b>\n",
    "    \n",
    "Новые комментарии обозначила как заголовки, чтобы ты их сразу нашла по содержанию. \n",
    "</div>\n",
    "\n",
    "<div class=\"alert alert-block alert-info\">\n",
    "<b>V4\n",
    "    </b> \n",
    "ага, спасибо! Я, конечно, сижу в документации к pandas, но когда на русском -- все гораздо понятнее.\n",
    "</div>\n",
    "\n",
    "<div class=\"alert alert-warning\" style=\"border-radius: 15px\">\n",
    "<b> Комментарий ревьюера 5</b>\n",
    "    \n",
    "Во-первых, извини за задержку. Здоровье подвело немного. Итак, нам осталась мелкая, но важная ерунда. На всякий случай привела код. Сразу скажу: напиши вопросы, если они ко мне есть. Если их не будет, то при следующей итерации, которую я очень постараюсь провести как можно быстрее, я приму проект, чтобы ты могла приступать к сборному. Договорились?\n",
    "</div>\n",
    "<div class=\"alert alert-block alert-info\">\n",
    "<b>V5\n",
    "    </b> \n",
    "    \n",
    "Ага, я просто не поняла, что значит инт.\n",
    "    \n",
    "</div>  \n",
    "\n",
    "<div class=\"alert alert-success\" style=\"border-radius: 15px\">\n",
    "<b> Комментарий ревьюера 6</b>\n",
    "    \n",
    "Ну вот и все :) Проект можно и принять :) Желаю тебе успехов! :)\n",
    "</div>"
   ]
  },
  {
   "cell_type": "markdown",
   "metadata": {},
   "source": [
    "**Содержание**\n",
    "\n",
    "[Введение](#'intro')\n",
    "\n",
    "[Предобработка данных](#preprocessing)\n",
    "\n",
    "[Анализ данных: Звонки](#calls_ds)\n",
    "\n",
    "[Анализ данных: Сообщения](#messages_ds)\n",
    "\n",
    "[Анализ данных: Интернет](#messages_ds)\n",
    "\n",
    "[Гипотезы о влиянии](#revenue)\n",
    "\n",
    "[Общий вывод](#genconcl)\n"
   ]
  },
  {
   "cell_type": "markdown",
   "metadata": {},
   "source": [
    "# Введение\n",
    "<a id='intro'></a>\n",
    "Перед нами задача: оценить мобильные операторы с точки зрения пользователя.  Прадеставлены данные 500 пользователей «Мегалайна» за 2018 год.\n",
    "\n",
    "Анализируемые данные включают в себя: данные о пользователях и времени их подключения/отключения от тарифа, длительность звонков, количество сообщений, потребление интернет-трафика. Эти данные расскажут нам о том, что и в каком объеме использовалось плюдьми в ходе пользования тарифом. В данных есть указание на дату использования услуги. Месяц услуги обычно рассчитывается с момента подключения.\n",
    "Информация о пакетах тарифах содержится в отдельном файле. Отличительными признаками пакетов являются: стоимость абонентской платы и объем услуг (столбцы с постфиксом included, стоимость услуг сверх пакета (поштучно с названием _per_)."
   ]
  },
  {
   "cell_type": "markdown",
   "metadata": {},
   "source": [
    "**Методика работы**\n",
    "Исходя из поставленной задачи: анализ пользовательских предпочтений 2-х тарифов, - мы собираемся провести анализ с привлечением методов описательной статистики.\n",
    "\n",
    "Для визуализации графиков будет использована библиотека seaborn.\n",
    "\n",
    "Нам предстоит рассчитать стандартное отклонение и дисперсию. Стандартное отклонение -- показатель рассеивания значений случайной величины относительно её математического ожидания. Дисперсия отражает меру разброса данных вокруг значения среднего. Скорее всего, дисперсия нам не известна, нам нужно будет использовать как минимум распределение Стьюдента.\n",
    "\n",
    "Предположительно, визуализация будет исполнена в форме boxplot и гистограмма.\n",
    "\n",
    "Нам надо будет сформулировать нулевую и альтернативную гипотезы:\n",
    "\n",
    "- H0 средняя выручка пользователей тарифов **не различается**. H1 средняя выручка пользователей тарифов «Ультра» и «Смарт», **наоборот** различается;\n",
    "- H0 средняя выручка по регионам **одинакова** vs. H1 средняя выручка пользователей из Москвы **отличается** от выручки пользователей из других регионов.\n",
    "\n",
    "Привлечём библиотеку ```stats```.\n",
    "\n",
    "Степень отклонения тестовой статистики от нуль-гипотезы - **статистическую значимость или пороговое значение** - оценим в 5% (```alpha = .05```). Критерий значимости позволит отвергнуть или подтвержить нуль-гипотезу. Значение в 5% назначено, поскольку считаем, что ущерб будет не очень значительным. Это всего лишь тарифы, а не здоровье людей.\n",
    "\n",
    "Поскольку у нас два тарифа, то проверка гипотезы будет двусторонняя. Нулевая гипотеза не будет отвергнута, если $T ⩽ T_0$.\n",
    "\n",
    "Будут выведены средние значения для показателей эффективности обоих тарифов и для интерпретации проверки гипотезы."
   ]
  },
  {
   "cell_type": "markdown",
   "metadata": {},
   "source": [
    "## Первичное ознакомление с данными\n",
    "<a id='first_sight'></a>"
   ]
  },
  {
   "cell_type": "code",
   "execution_count": 1,
   "metadata": {},
   "outputs": [],
   "source": [
    "import pandas as pd\n",
    "import numpy as np\n",
    "import seaborn as sb\n",
    "import matplotlib.pyplot as plt\n",
    "from IPython.display import display\n",
    "from scipy import stats as st\n",
    "from functools import reduce #https://stackoverflow.com/questions/23668427/pandas-three-way-joining-multiple-dataframes-on-columns"
   ]
  },
  {
   "cell_type": "code",
   "execution_count": 2,
   "metadata": {},
   "outputs": [],
   "source": [
    "pd.set_option('display.max_rows', None)\n",
    "pd.set_option('display.max_columns', None)\n",
    "#pd.set_option('display.max_colwidth', None)\n",
    "pd.options.display.float_format = '{:,.2f}'.format"
   ]
  },
  {
   "cell_type": "code",
   "execution_count": 3,
   "metadata": {},
   "outputs": [
    {
     "data": {
      "text/html": [
       "<div>\n",
       "<style scoped>\n",
       "    .dataframe tbody tr th:only-of-type {\n",
       "        vertical-align: middle;\n",
       "    }\n",
       "\n",
       "    .dataframe tbody tr th {\n",
       "        vertical-align: top;\n",
       "    }\n",
       "\n",
       "    .dataframe thead th {\n",
       "        text-align: right;\n",
       "    }\n",
       "</style>\n",
       "<table border=\"1\" class=\"dataframe\">\n",
       "  <thead>\n",
       "    <tr style=\"text-align: right;\">\n",
       "      <th></th>\n",
       "      <th>user_id</th>\n",
       "      <th>age</th>\n",
       "      <th>churn_date</th>\n",
       "      <th>city</th>\n",
       "      <th>first_name</th>\n",
       "      <th>last_name</th>\n",
       "      <th>reg_date</th>\n",
       "      <th>tariff</th>\n",
       "    </tr>\n",
       "  </thead>\n",
       "  <tbody>\n",
       "    <tr>\n",
       "      <td>0</td>\n",
       "      <td>1000</td>\n",
       "      <td>52</td>\n",
       "      <td>NaN</td>\n",
       "      <td>Краснодар</td>\n",
       "      <td>Рафаил</td>\n",
       "      <td>Верещагин</td>\n",
       "      <td>2018-05-25</td>\n",
       "      <td>ultra</td>\n",
       "    </tr>\n",
       "    <tr>\n",
       "      <td>1</td>\n",
       "      <td>1001</td>\n",
       "      <td>41</td>\n",
       "      <td>NaN</td>\n",
       "      <td>Москва</td>\n",
       "      <td>Иван</td>\n",
       "      <td>Ежов</td>\n",
       "      <td>2018-11-01</td>\n",
       "      <td>smart</td>\n",
       "    </tr>\n",
       "    <tr>\n",
       "      <td>2</td>\n",
       "      <td>1002</td>\n",
       "      <td>59</td>\n",
       "      <td>NaN</td>\n",
       "      <td>Стерлитамак</td>\n",
       "      <td>Евгений</td>\n",
       "      <td>Абрамович</td>\n",
       "      <td>2018-06-17</td>\n",
       "      <td>smart</td>\n",
       "    </tr>\n",
       "  </tbody>\n",
       "</table>\n",
       "</div>"
      ],
      "text/plain": [
       "   user_id  age churn_date         city first_name  last_name    reg_date  \\\n",
       "0     1000   52        NaN    Краснодар     Рафаил  Верещагин  2018-05-25   \n",
       "1     1001   41        NaN       Москва       Иван       Ежов  2018-11-01   \n",
       "2     1002   59        NaN  Стерлитамак    Евгений  Абрамович  2018-06-17   \n",
       "\n",
       "  tariff  \n",
       "0  ultra  \n",
       "1  smart  \n",
       "2  smart  "
      ]
     },
     "execution_count": 3,
     "metadata": {},
     "output_type": "execute_result"
    }
   ],
   "source": [
    "df_users = pd.read_csv('/datasets/users.csv', sep = ',')\n",
    "df_users.head(3)\n",
    "#есть идентификтор пользователя"
   ]
  },
  {
   "cell_type": "code",
   "execution_count": 4,
   "metadata": {},
   "outputs": [
    {
     "data": {
      "text/html": [
       "<div>\n",
       "<style scoped>\n",
       "    .dataframe tbody tr th:only-of-type {\n",
       "        vertical-align: middle;\n",
       "    }\n",
       "\n",
       "    .dataframe tbody tr th {\n",
       "        vertical-align: top;\n",
       "    }\n",
       "\n",
       "    .dataframe thead th {\n",
       "        text-align: right;\n",
       "    }\n",
       "</style>\n",
       "<table border=\"1\" class=\"dataframe\">\n",
       "  <thead>\n",
       "    <tr style=\"text-align: right;\">\n",
       "      <th></th>\n",
       "      <th>id</th>\n",
       "      <th>message_date</th>\n",
       "      <th>user_id</th>\n",
       "    </tr>\n",
       "  </thead>\n",
       "  <tbody>\n",
       "    <tr>\n",
       "      <td>0</td>\n",
       "      <td>1000_0</td>\n",
       "      <td>2018-06-27</td>\n",
       "      <td>1000</td>\n",
       "    </tr>\n",
       "    <tr>\n",
       "      <td>1</td>\n",
       "      <td>1000_1</td>\n",
       "      <td>2018-10-08</td>\n",
       "      <td>1000</td>\n",
       "    </tr>\n",
       "    <tr>\n",
       "      <td>2</td>\n",
       "      <td>1000_2</td>\n",
       "      <td>2018-08-04</td>\n",
       "      <td>1000</td>\n",
       "    </tr>\n",
       "  </tbody>\n",
       "</table>\n",
       "</div>"
      ],
      "text/plain": [
       "       id message_date  user_id\n",
       "0  1000_0   2018-06-27     1000\n",
       "1  1000_1   2018-10-08     1000\n",
       "2  1000_2   2018-08-04     1000"
      ]
     },
     "execution_count": 4,
     "metadata": {},
     "output_type": "execute_result"
    }
   ],
   "source": [
    "df_messages = pd.read_csv('/datasets/messages.csv', sep = ',')\n",
    "df_messages.head(3)"
   ]
  },
  {
   "cell_type": "code",
   "execution_count": 5,
   "metadata": {},
   "outputs": [],
   "source": [
    "df_inet = pd.read_csv('/datasets/internet.csv', sep = ',')\n",
    "df_inet.to_csv(index=False)\n",
    "df_inet.head(3)\n",
    "del df_inet['Unnamed: 0']\n",
    "#Есть идентификатор пользователя"
   ]
  },
  {
   "cell_type": "markdown",
   "metadata": {},
   "source": [
    "Вопрос: на вопрос, что за unnamed преподаватель коротко ответил: привет! Нужно верно считывать файл pd.to_csv(..., index=False). Но я не поняла вообще, что это значит, как использовать и вообще зачем. Памагити"
   ]
  },
  {
   "cell_type": "markdown",
   "metadata": {},
   "source": [
    "<div class=\"alert alert-success\" style=\"border-radius: 15px\">\n",
    "<b> Комментарий ревьюера</b>\n",
    "    \n",
    "Изначально в файле был этот столбец, а pandas при чтении добавляет свой индекс. Вот их и получилось два. \n",
    "    \n",
    "    \n",
    "    pd.read_csv('/datasets/internet.csv', sep = ',', index_col=0)\n",
    "    \n",
    "    \n",
    "Но будь внимательна. Если сделать так с таблицей users, то у нас id юзера станет индексом, поскольку там в таблице не было индексов. То есть этот аргумент берет первый столбец в качестве аргумента.\n",
    "    \n",
    " \n",
    "Столбец можно удалить:\n",
    "        \n",
    "    del df['Unnamed: 0']\n",
    "</div>\n",
    "<div class=\"alert alert-block alert-info\">\n",
    "<b>V2\n",
    "    </b> \n",
    "Не знала, что так можно удалять. Спасибо\n",
    "</div>"
   ]
  },
  {
   "cell_type": "code",
   "execution_count": 6,
   "metadata": {},
   "outputs": [
    {
     "data": {
      "text/html": [
       "<div>\n",
       "<style scoped>\n",
       "    .dataframe tbody tr th:only-of-type {\n",
       "        vertical-align: middle;\n",
       "    }\n",
       "\n",
       "    .dataframe tbody tr th {\n",
       "        vertical-align: top;\n",
       "    }\n",
       "\n",
       "    .dataframe thead th {\n",
       "        text-align: right;\n",
       "    }\n",
       "</style>\n",
       "<table border=\"1\" class=\"dataframe\">\n",
       "  <thead>\n",
       "    <tr style=\"text-align: right;\">\n",
       "      <th></th>\n",
       "      <th>id</th>\n",
       "      <th>call_date</th>\n",
       "      <th>duration</th>\n",
       "      <th>user_id</th>\n",
       "    </tr>\n",
       "  </thead>\n",
       "  <tbody>\n",
       "    <tr>\n",
       "      <td>0</td>\n",
       "      <td>1000_0</td>\n",
       "      <td>2018-07-25</td>\n",
       "      <td>0.00</td>\n",
       "      <td>1000</td>\n",
       "    </tr>\n",
       "    <tr>\n",
       "      <td>1</td>\n",
       "      <td>1000_1</td>\n",
       "      <td>2018-08-17</td>\n",
       "      <td>0.00</td>\n",
       "      <td>1000</td>\n",
       "    </tr>\n",
       "    <tr>\n",
       "      <td>2</td>\n",
       "      <td>1000_2</td>\n",
       "      <td>2018-06-11</td>\n",
       "      <td>2.85</td>\n",
       "      <td>1000</td>\n",
       "    </tr>\n",
       "  </tbody>\n",
       "</table>\n",
       "</div>"
      ],
      "text/plain": [
       "       id   call_date  duration  user_id\n",
       "0  1000_0  2018-07-25      0.00     1000\n",
       "1  1000_1  2018-08-17      0.00     1000\n",
       "2  1000_2  2018-06-11      2.85     1000"
      ]
     },
     "execution_count": 6,
     "metadata": {},
     "output_type": "execute_result"
    }
   ],
   "source": [
    "df_calls = pd.read_csv('/datasets/calls.csv', sep = ',')\n",
    "df_calls.head(3)\n",
    "#Есть идентификатор пользователя."
   ]
  },
  {
   "cell_type": "code",
   "execution_count": 7,
   "metadata": {},
   "outputs": [
    {
     "name": "stdout",
     "output_type": "stream",
     "text": [
      "<class 'pandas.core.frame.DataFrame'>\n",
      "RangeIndex: 500 entries, 0 to 499\n",
      "Data columns (total 8 columns):\n",
      "user_id       500 non-null int64\n",
      "age           500 non-null int64\n",
      "churn_date    38 non-null object\n",
      "city          500 non-null object\n",
      "first_name    500 non-null object\n",
      "last_name     500 non-null object\n",
      "reg_date      500 non-null object\n",
      "tariff        500 non-null object\n",
      "dtypes: int64(2), object(6)\n",
      "memory usage: 31.4+ KB\n",
      "None \n",
      "\n",
      "<class 'pandas.core.frame.DataFrame'>\n",
      "RangeIndex: 149396 entries, 0 to 149395\n",
      "Data columns (total 4 columns):\n",
      "id              149396 non-null object\n",
      "mb_used         149396 non-null float64\n",
      "session_date    149396 non-null object\n",
      "user_id         149396 non-null int64\n",
      "dtypes: float64(1), int64(1), object(2)\n",
      "memory usage: 4.6+ MB\n",
      "None \n",
      "\n",
      "<class 'pandas.core.frame.DataFrame'>\n",
      "RangeIndex: 123036 entries, 0 to 123035\n",
      "Data columns (total 3 columns):\n",
      "id              123036 non-null object\n",
      "message_date    123036 non-null object\n",
      "user_id         123036 non-null int64\n",
      "dtypes: int64(1), object(2)\n",
      "memory usage: 2.8+ MB\n",
      "None \n",
      "\n",
      "<class 'pandas.core.frame.DataFrame'>\n",
      "RangeIndex: 202607 entries, 0 to 202606\n",
      "Data columns (total 4 columns):\n",
      "id           202607 non-null object\n",
      "call_date    202607 non-null object\n",
      "duration     202607 non-null float64\n",
      "user_id      202607 non-null int64\n",
      "dtypes: float64(1), int64(1), object(2)\n",
      "memory usage: 6.2+ MB\n",
      "None \n",
      "\n"
     ]
    }
   ],
   "source": [
    "datas = [df_users, df_inet, df_messages, df_calls]\n",
    "\n",
    "for df in datas:\n",
    "    print(df.info(), '\\n')\n",
    "#Датасеты диспропорциональны    "
   ]
  },
  {
   "cell_type": "code",
   "execution_count": 8,
   "metadata": {},
   "outputs": [
    {
     "data": {
      "text/html": [
       "<div>\n",
       "<style scoped>\n",
       "    .dataframe tbody tr th:only-of-type {\n",
       "        vertical-align: middle;\n",
       "    }\n",
       "\n",
       "    .dataframe tbody tr th {\n",
       "        vertical-align: top;\n",
       "    }\n",
       "\n",
       "    .dataframe thead th {\n",
       "        text-align: right;\n",
       "    }\n",
       "</style>\n",
       "<table border=\"1\" class=\"dataframe\">\n",
       "  <thead>\n",
       "    <tr style=\"text-align: right;\">\n",
       "      <th></th>\n",
       "      <th>messages_included</th>\n",
       "      <th>mb_per_month_included</th>\n",
       "      <th>minutes_included</th>\n",
       "      <th>rub_monthly_fee</th>\n",
       "      <th>rub_per_gb</th>\n",
       "      <th>rub_per_message</th>\n",
       "      <th>rub_per_minute</th>\n",
       "      <th>tariff_name</th>\n",
       "    </tr>\n",
       "  </thead>\n",
       "  <tbody>\n",
       "    <tr>\n",
       "      <td>0</td>\n",
       "      <td>50</td>\n",
       "      <td>15360</td>\n",
       "      <td>500</td>\n",
       "      <td>550</td>\n",
       "      <td>200</td>\n",
       "      <td>3</td>\n",
       "      <td>3</td>\n",
       "      <td>smart</td>\n",
       "    </tr>\n",
       "    <tr>\n",
       "      <td>1</td>\n",
       "      <td>1000</td>\n",
       "      <td>30720</td>\n",
       "      <td>3000</td>\n",
       "      <td>1950</td>\n",
       "      <td>150</td>\n",
       "      <td>1</td>\n",
       "      <td>1</td>\n",
       "      <td>ultra</td>\n",
       "    </tr>\n",
       "  </tbody>\n",
       "</table>\n",
       "</div>"
      ],
      "text/plain": [
       "   messages_included  mb_per_month_included  minutes_included  \\\n",
       "0                 50                  15360               500   \n",
       "1               1000                  30720              3000   \n",
       "\n",
       "   rub_monthly_fee  rub_per_gb  rub_per_message  rub_per_minute tariff_name  \n",
       "0              550         200                3               3       smart  \n",
       "1             1950         150                1               1       ultra  "
      ]
     },
     "execution_count": 8,
     "metadata": {},
     "output_type": "execute_result"
    }
   ],
   "source": [
    "df_tariffs = pd.read_csv('/datasets/tariffs.csv', sep = ',')\n",
    "df_tariffs.head()"
   ]
  },
  {
   "cell_type": "markdown",
   "metadata": {},
   "source": [
    "**Выводы**\n",
    "<a id='concl1'></a>\n",
    "\n",
    "У нас есть 1 таблица с данными по пользователям. 3 таблицы по потреблению услуг. Поочередно можно соединить таблицу с данными по пользователям и по каждой из услуг. Ключ - идентификационный номер пользователя.\n",
    "Таблицы по потреблению диспропорциональны, вероятно, на каждого потребителя по нескольку строк по времени пользования услугой. Надо будет объединять данные так, чтобы информация была сгруппирована по пользователям.\n",
    "Таблица по пользователям указывает на то, что 38 из 500 пользователей отказались от услуг.\n",
    "\n",
    "Таблица по тарифам содержит информацию о пакетах услуг. Понадобится для части по гипотезам."
   ]
  },
  {
   "cell_type": "markdown",
   "metadata": {},
   "source": [
    "## Предобработка данных\n",
    "<a id='preprocessing'></a>"
   ]
  },
  {
   "cell_type": "markdown",
   "metadata": {},
   "source": [
    "### Таблица по трафику\n",
    "<a id='inet'></a>"
   ]
  },
  {
   "cell_type": "code",
   "execution_count": 9,
   "metadata": {},
   "outputs": [
    {
     "data": {
      "text/plain": [
       "Index(['id', 'mb_used', 'session_date', 'user_id'], dtype='object')"
      ]
     },
     "execution_count": 9,
     "metadata": {},
     "output_type": "execute_result"
    }
   ],
   "source": [
    "#Таблица интернет\n",
    "df_inet.columns"
   ]
  },
  {
   "cell_type": "markdown",
   "metadata": {},
   "source": [
    "<div class=\"alert alert-warning\" style=\"border-radius: 15px\">\n",
    "<b> Комментарий ревьюера 2</b>\n",
    "    \n",
    "Звонки тоже вверх округли.\n",
    "</div>\n",
    "<b>V4\n",
    "    </b> \n",
    "Ок\n",
    "</div>"
   ]
  },
  {
   "cell_type": "code",
   "execution_count": 10,
   "metadata": {},
   "outputs": [
    {
     "data": {
      "text/plain": [
       "id              1000_111000_381000_461000_671000_721000_103100...\n",
       "mb_used                                                      0.00\n",
       "session_date    2018-08-282018-11-272018-06-302018-06-162018-0...\n",
       "user_id                                                  24415802\n",
       "dtype: object"
      ]
     },
     "execution_count": 10,
     "metadata": {},
     "output_type": "execute_result"
    }
   ],
   "source": [
    "#Экстра оплата взимается с округлением до гб, судя по таблице\n",
    "#df_inet['gb_used'] = (df_inet['mb_used']/1024).astype('int') #ввела скобки для округления вверх.\n",
    "df_inet.query('mb_used == 0').sum()"
   ]
  },
  {
   "cell_type": "markdown",
   "metadata": {},
   "source": [
    "<div class=\"alert alert-warning\" style=\"border-radius: 15px\">\n",
    "<b> Комментарий ревьюера 4</b>\n",
    "    \n",
    "Да, теперь логично все. Только к инту не надо приводить Гб. Его впоследствии ведь тоже придется округлять вверх. Что я и сделала в функции. Но к инту точно не нужно, потому что получится так, что пользователь потратил 2.5 Гб, а заплатил за 2, понимаешь? То есть просто убери приведение к инту.\n",
    "</div>\n",
    "<div class=\"alert alert-block alert-info\">\n",
    "<b>V5\n",
    "    </b> \n",
    "Убрала, заменила, внесла исправления в функцию: np.ceil((мб потребленные - мб в тарифе)/1024)\n",
    "Ну вот чтобы максимум дохода компании насчитать из возможного\n",
    "</div>"
   ]
  },
  {
   "cell_type": "markdown",
   "metadata": {},
   "source": [
    "<div class=\"alert alert-warning\" style=\"border-radius: 15px\">\n",
    "<b> Комментарий ревьюера 5</b>\n",
    "    \n",
    "Смотри. Это довольно запутанный момент, но я стараюсь объяснить :) Итак, мы знаем, что оператор округляет вверх звонки и мегабайты. При это плату считают в ГБ. То есть тут мы понимаем, что нам надо как минимум перевести в Гб, что мы и сделаем, и нам надо будет в функции округлить число вверх. Это мы тоже сделали. Но с мегабайтами-то то же самое! Они нам так и пишут, что мегабайты тоже округляют. То есть если мы потратим 100.5 Мб, то заплатить придется за 101. Таким образом, в это строке все же надо оставить округление вверх. У тебя было приведение к инту, оно работает иначе. Вот и все. Подправим? :)\n",
    "    \n",
    "    df_inet['mb_used'] = np.ceil(df_inet['mb_used'])\n",
    "</div>\n",
    "<div class=\"alert alert-block alert-info\">\n",
    "<b>V5\n",
    "    </b> \n",
    "аааа, инт здесь интеджер. Ей богу, я просто не поняла, что речь идет об int! и уже давно не перечитывала задание, соррри.\n",
    "</div>\n",
    "\n",
    "<div class=\"alert alert-success\" style=\"border-radius: 15px\">\n",
    "<h2> Комментарий ревьюера 6</h2>\n",
    "    \n",
    "Да, я нашла округление.\n",
    "</div>"
   ]
  },
  {
   "cell_type": "markdown",
   "metadata": {},
   "source": [
    "<div class=\"alert alert-warning\" style=\"border-radius: 15px\">\n",
    "<b> Комментарий ревьюера 3</b>\n",
    "    \n",
    "Заметила ошибку. Она в результате повлияет на вычисления. Нам сначала нужно округлить мегабайты вверх, а потом уже переводить в Гб. Иначе выручку мы неправильно посчитаем и обманем клиента. Можешь убедиться в этом, посмотрев на сводную таблицу по трафику после исправления. Не знаю, почему я сразу это не заметила. Приношу свои извинения. \n",
    "    \n",
    "Хотя я сама покажу.    \n",
    "</div>"
   ]
  },
  {
   "cell_type": "markdown",
   "metadata": {},
   "source": [
    "<div style=\"border-radius: 15px; border: 3px solid indigo; padding: 15px;\">\n",
    "<b> Комментарий ревьюера 3</b>\n",
    "    \n",
    "Это твоя таблица:\n",
    "</div>"
   ]
  },
  {
   "cell_type": "code",
   "execution_count": 11,
   "metadata": {},
   "outputs": [],
   "source": [
    "# inet = df_inet.pivot_table(index = ['user_id', 'month'], aggfunc = {'gb_used': ['count', 'sum']}).reset_index()\n",
    "# inet.columns = ['user_id','month', 'nr_sessions', 'gb_sum']\n",
    "# inet.head(10)\n",
    "# inet = df_inet.pivot_table(index = ['user_id', 'month'], aggfunc = {'gb_used': ['count', 'sum']}).reset_index()\n",
    "# inet.columns = ['user_id','month', 'nr_sessions', 'gb_sum']\n",
    "# inet.head(10)"
   ]
  },
  {
   "cell_type": "markdown",
   "metadata": {},
   "source": [
    "<div style=\"border-radius: 15px; border: 3px solid indigo; padding: 15px;\">\n",
    "<b> Комментарий ревьюера 3</b>\n",
    "    \n",
    "Это моя.\n",
    "</div>"
   ]
  },
  {
   "cell_type": "code",
   "execution_count": 12,
   "metadata": {},
   "outputs": [],
   "source": [
    "# КОД РЕВЬЮЕРА \n",
    "#df_inet['gb_used'] = (np.ceil(df_inet['mb_used']) /1024) # тут сначала округляю, а потом делю\n",
    "#df_inet.query('gb_used == 0').count() #count же"
   ]
  },
  {
   "cell_type": "markdown",
   "metadata": {},
   "source": [
    "<div style=\"border-radius: 15px; border: 3px solid indigo; padding: 15px;\">\n",
    "<b> Комментарий ревьюера 3</b>\n",
    "    \n",
    "Ощутимая разница, да? Гб потом тоже вверх округлим при вычислении выручки. \n",
    "</div>"
   ]
  },
  {
   "cell_type": "markdown",
   "metadata": {},
   "source": [
    "<div class=\"alert alert-warning\" style=\"border-radius: 15px\">\n",
    "<b> Комментарий ревьюера</b>\n",
    "    \n",
    "Что можешь сказать по нулевым сессиям и звонкам? Помешают ли они нам в анализе?\n",
    "</div>\n",
    "\n",
    "<div class=\"alert alert-block alert-info\">\n",
    "<b>V2\n",
    "    </b> \n",
    "Такой профиль потребления пакетами услуг, я решила. А если мы преследуем цель целостности данных, то лучше сохранить.\n",
    "</div>\n",
    "\n",
    "<div class=\"alert alert-success\" style=\"border-radius: 15px\">\n",
    "<b> Комментарий ревьюера 2</b>\n",
    "    \n",
    "Они нам никак не помешают на самом деле, ведь при создании большой сводной таблицы они просто-напросто сложатся. Так что можно как удалить, так и оставить. Но обратить на них внимание надо. \n",
    "</div>"
   ]
  },
  {
   "cell_type": "code",
   "execution_count": 13,
   "metadata": {},
   "outputs": [],
   "source": [
    "df_inet['session_date'] = pd.to_datetime(df_inet['session_date'], format='%Y-%m-%d')"
   ]
  },
  {
   "cell_type": "code",
   "execution_count": 14,
   "metadata": {},
   "outputs": [
    {
     "data": {
      "text/html": [
       "<div>\n",
       "<style scoped>\n",
       "    .dataframe tbody tr th:only-of-type {\n",
       "        vertical-align: middle;\n",
       "    }\n",
       "\n",
       "    .dataframe tbody tr th {\n",
       "        vertical-align: top;\n",
       "    }\n",
       "\n",
       "    .dataframe thead th {\n",
       "        text-align: right;\n",
       "    }\n",
       "</style>\n",
       "<table border=\"1\" class=\"dataframe\">\n",
       "  <thead>\n",
       "    <tr style=\"text-align: right;\">\n",
       "      <th></th>\n",
       "      <th>id</th>\n",
       "      <th>mb_used</th>\n",
       "      <th>session_date</th>\n",
       "      <th>user_id</th>\n",
       "    </tr>\n",
       "  </thead>\n",
       "  <tbody>\n",
       "    <tr>\n",
       "      <td>0</td>\n",
       "      <td>1000_0</td>\n",
       "      <td>112.95</td>\n",
       "      <td>2018-11-25</td>\n",
       "      <td>1000</td>\n",
       "    </tr>\n",
       "    <tr>\n",
       "      <td>1</td>\n",
       "      <td>1000_1</td>\n",
       "      <td>1,052.81</td>\n",
       "      <td>2018-09-07</td>\n",
       "      <td>1000</td>\n",
       "    </tr>\n",
       "    <tr>\n",
       "      <td>2</td>\n",
       "      <td>1000_2</td>\n",
       "      <td>1,197.26</td>\n",
       "      <td>2018-06-25</td>\n",
       "      <td>1000</td>\n",
       "    </tr>\n",
       "  </tbody>\n",
       "</table>\n",
       "</div>"
      ],
      "text/plain": [
       "       id  mb_used session_date  user_id\n",
       "0  1000_0   112.95   2018-11-25     1000\n",
       "1  1000_1 1,052.81   2018-09-07     1000\n",
       "2  1000_2 1,197.26   2018-06-25     1000"
      ]
     },
     "execution_count": 14,
     "metadata": {},
     "output_type": "execute_result"
    }
   ],
   "source": [
    "df_inet.head(3)"
   ]
  },
  {
   "cell_type": "code",
   "execution_count": 15,
   "metadata": {},
   "outputs": [],
   "source": [
    "#Округляем исходные данные до \"потолка\"\n",
    "df_inet['mb_used'] = np.ceil(df_inet['mb_used'])"
   ]
  },
  {
   "cell_type": "markdown",
   "metadata": {},
   "source": [
    "### Таблица по звонкам\n",
    "<a id='calls'></a>"
   ]
  },
  {
   "cell_type": "code",
   "execution_count": 16,
   "metadata": {},
   "outputs": [],
   "source": [
    "df_calls['duration'].value_counts().sort_values()\n",
    "\n",
    "df_calls['duration'] = np.where(df_calls['duration'] < 1, 1, df_calls['duration'])\n",
    "df_calls['duration'] = np.ceil(df_calls['duration'])"
   ]
  },
  {
   "cell_type": "code",
   "execution_count": 17,
   "metadata": {},
   "outputs": [
    {
     "data": {
      "text/html": [
       "<div>\n",
       "<style scoped>\n",
       "    .dataframe tbody tr th:only-of-type {\n",
       "        vertical-align: middle;\n",
       "    }\n",
       "\n",
       "    .dataframe tbody tr th {\n",
       "        vertical-align: top;\n",
       "    }\n",
       "\n",
       "    .dataframe thead th {\n",
       "        text-align: right;\n",
       "    }\n",
       "</style>\n",
       "<table border=\"1\" class=\"dataframe\">\n",
       "  <thead>\n",
       "    <tr style=\"text-align: right;\">\n",
       "      <th></th>\n",
       "      <th>id</th>\n",
       "      <th>call_date</th>\n",
       "      <th>duration</th>\n",
       "      <th>user_id</th>\n",
       "    </tr>\n",
       "  </thead>\n",
       "  <tbody>\n",
       "    <tr>\n",
       "      <td>0</td>\n",
       "      <td>1000_0</td>\n",
       "      <td>2018-11-25</td>\n",
       "      <td>1.00</td>\n",
       "      <td>1000</td>\n",
       "    </tr>\n",
       "    <tr>\n",
       "      <td>1</td>\n",
       "      <td>1000_1</td>\n",
       "      <td>2018-09-07</td>\n",
       "      <td>1.00</td>\n",
       "      <td>1000</td>\n",
       "    </tr>\n",
       "    <tr>\n",
       "      <td>2</td>\n",
       "      <td>1000_2</td>\n",
       "      <td>2018-06-25</td>\n",
       "      <td>3.00</td>\n",
       "      <td>1000</td>\n",
       "    </tr>\n",
       "  </tbody>\n",
       "</table>\n",
       "</div>"
      ],
      "text/plain": [
       "       id  call_date  duration  user_id\n",
       "0  1000_0 2018-11-25      1.00     1000\n",
       "1  1000_1 2018-09-07      1.00     1000\n",
       "2  1000_2 2018-06-25      3.00     1000"
      ]
     },
     "execution_count": 17,
     "metadata": {},
     "output_type": "execute_result"
    }
   ],
   "source": [
    "df_calls['call_date'] = pd.to_datetime(df_inet['session_date'], format='%Y-%m-%d')\n",
    "df_calls.head(3)"
   ]
  },
  {
   "cell_type": "markdown",
   "metadata": {},
   "source": [
    "### Формат дат (все таблицы)\n",
    "<a id='months'></a>"
   ]
  },
  {
   "cell_type": "code",
   "execution_count": 18,
   "metadata": {},
   "outputs": [],
   "source": [
    "#Нам удобнее будет доход считать по месяцам, хотя вообще-то тариф исчисляется не по календарному принципу,\n",
    "#а с момента подключения. Мне в принципе понятно, что надо посчитать помесячную оплату, но как все это организивать - неясно.\n",
    "df_messages['message_date'] = pd.to_datetime(df_messages['message_date'], format='%Y-%m-%d')\n",
    "df_messages['month'] = pd.DatetimeIndex(df_messages['message_date']).month\n",
    "df_calls['message_date'] = pd.to_datetime(df_calls['call_date'], format='%Y-%m-%d')\n",
    "df_calls['month'] = pd.DatetimeIndex(df_calls['call_date']).month\n",
    "df_inet['month'] = pd.DatetimeIndex(df_inet['session_date']).month"
   ]
  },
  {
   "cell_type": "code",
   "execution_count": 19,
   "metadata": {},
   "outputs": [],
   "source": [
    "df_users['churn_date'] = pd.to_datetime(df_users['churn_date'], format='%Y-%m-%d')"
   ]
  },
  {
   "cell_type": "markdown",
   "metadata": {},
   "source": [
    "<div class=\"alert alert-warning\" style=\"border-radius: 15px\">\n",
    "<b> Комментарий ревьюера</b>\n",
    "    \n",
    "Ты тоже будешь продвинутым питонистом. Скажи, а надо ли вообще делить таблицу на две? Пускай все в одной будет. Просто сделаем срез там, где надо выделить конкретный тариф. Как думаешь? В самом конце я вывела получившуюсь таблицу. Там ты увидишь, что стало со столбцом revenue. Предлагаю собрать всё в одну таблицу. Склеиваешь одну за другой таблицы по user_id, с параметром outer (чтобы ключи сравнивать из обеих таблиц). Перед этим не забудь создать сводные таблицы, где ты для каждого клиента посчитаешь число смс, звонков и т.д. Вот так:\n",
    "</div>\n",
    "<div class=\"alert alert-block alert-info\">\n",
    "<b>V2\n",
    "    </b> \n",
    "Ясно. Я хотела и долго пыталась работать с одной таблицей. Я вспомнила, с чем была связана проблема при моих попытках склейки данных. Я действительно не убрала индекс (не сдалала reset_index). Поэтому у меня выскакивала ошибка Multiindex. Я стала читать и выяснила, что, дескать, мультииндексность -- это преимущество pandas. Решила, что это важно. Попыталась сохранить, но не получалось, естественно, всё потом объединить.\n",
    "Поэтому в первом варианте пошла по длинному ручному пути.\n",
    "    \n",
    "    # метод  .reset_index() снимет индексы\n",
    "   А почему не стоит использовать inplace=True? Это знание я вынесла с прошлого проекта, но не успела поинтересоваться. Я ведь работаю с той же таблицей, инплейс - значит, \"пайтон, замени мне здесь же\". Не?\n",
    "</div>\n",
    "\n",
    "<div class=\"alert alert-warning\" style=\"border-radius: 15px\">\n",
    "<b> Комментарий ревьюера 2</b>\n",
    "    \n",
    "Ты либо перезаписываешь, как ниже сделано с таблицей calls. Там знак равенства. Либо ты вызываешь эту команду для текущей таблицу с аргументом инплэйс. Тогда переопределение (df=df.reset_index()) уже не нужно. Ниже я продемонстрирую склейку.\n",
    "</div>\n",
    "<div class=\"alert alert-block alert-info\">\n",
    "<b>V4\n",
    "    </b> \n",
    "Поняла!\n",
    "</div>"
   ]
  },
  {
   "cell_type": "markdown",
   "metadata": {},
   "source": [
    "### Объединение таблиц\n",
    "<a id='pivot'></a>"
   ]
  },
  {
   "cell_type": "code",
   "execution_count": 20,
   "metadata": {
    "scrolled": true
   },
   "outputs": [
    {
     "data": {
      "text/html": [
       "<div>\n",
       "<style scoped>\n",
       "    .dataframe tbody tr th:only-of-type {\n",
       "        vertical-align: middle;\n",
       "    }\n",
       "\n",
       "    .dataframe tbody tr th {\n",
       "        vertical-align: top;\n",
       "    }\n",
       "\n",
       "    .dataframe thead th {\n",
       "        text-align: right;\n",
       "    }\n",
       "</style>\n",
       "<table border=\"1\" class=\"dataframe\">\n",
       "  <thead>\n",
       "    <tr style=\"text-align: right;\">\n",
       "      <th></th>\n",
       "      <th>user_id</th>\n",
       "      <th>month</th>\n",
       "      <th>calls_num</th>\n",
       "      <th>min_sum</th>\n",
       "    </tr>\n",
       "  </thead>\n",
       "  <tbody>\n",
       "    <tr>\n",
       "      <td>0</td>\n",
       "      <td>1000</td>\n",
       "      <td>5.00</td>\n",
       "      <td>5</td>\n",
       "      <td>28.00</td>\n",
       "    </tr>\n",
       "    <tr>\n",
       "      <td>1</td>\n",
       "      <td>1000</td>\n",
       "      <td>6.00</td>\n",
       "      <td>55</td>\n",
       "      <td>356.00</td>\n",
       "    </tr>\n",
       "    <tr>\n",
       "      <td>2</td>\n",
       "      <td>1000</td>\n",
       "      <td>7.00</td>\n",
       "      <td>39</td>\n",
       "      <td>310.00</td>\n",
       "    </tr>\n",
       "    <tr>\n",
       "      <td>3</td>\n",
       "      <td>1000</td>\n",
       "      <td>8.00</td>\n",
       "      <td>39</td>\n",
       "      <td>298.00</td>\n",
       "    </tr>\n",
       "    <tr>\n",
       "      <td>4</td>\n",
       "      <td>1000</td>\n",
       "      <td>9.00</td>\n",
       "      <td>41</td>\n",
       "      <td>284.00</td>\n",
       "    </tr>\n",
       "    <tr>\n",
       "      <td>5</td>\n",
       "      <td>1000</td>\n",
       "      <td>10.00</td>\n",
       "      <td>32</td>\n",
       "      <td>204.00</td>\n",
       "    </tr>\n",
       "    <tr>\n",
       "      <td>6</td>\n",
       "      <td>1000</td>\n",
       "      <td>11.00</td>\n",
       "      <td>85</td>\n",
       "      <td>586.00</td>\n",
       "    </tr>\n",
       "    <tr>\n",
       "      <td>7</td>\n",
       "      <td>1000</td>\n",
       "      <td>12.00</td>\n",
       "      <td>72</td>\n",
       "      <td>575.00</td>\n",
       "    </tr>\n",
       "    <tr>\n",
       "      <td>8</td>\n",
       "      <td>1001</td>\n",
       "      <td>6.00</td>\n",
       "      <td>11</td>\n",
       "      <td>67.00</td>\n",
       "    </tr>\n",
       "    <tr>\n",
       "      <td>9</td>\n",
       "      <td>1001</td>\n",
       "      <td>7.00</td>\n",
       "      <td>14</td>\n",
       "      <td>103.00</td>\n",
       "    </tr>\n",
       "  </tbody>\n",
       "</table>\n",
       "</div>"
      ],
      "text/plain": [
       "   user_id  month  calls_num  min_sum\n",
       "0     1000   5.00          5    28.00\n",
       "1     1000   6.00         55   356.00\n",
       "2     1000   7.00         39   310.00\n",
       "3     1000   8.00         39   298.00\n",
       "4     1000   9.00         41   284.00\n",
       "5     1000  10.00         32   204.00\n",
       "6     1000  11.00         85   586.00\n",
       "7     1000  12.00         72   575.00\n",
       "8     1001   6.00         11    67.00\n",
       "9     1001   7.00         14   103.00"
      ]
     },
     "execution_count": 20,
     "metadata": {},
     "output_type": "execute_result"
    }
   ],
   "source": [
    "#Поворачиваем таблицу, создаем столбцы с агрегированными данными: количество созвонов и их длительность.\n",
    "calls = df_calls.pivot_table(index = ['user_id', 'month'], aggfunc = {'duration': ['count', 'sum']}).reset_index()\n",
    "calls.columns = ['user_id','month','calls_num', 'min_sum']\n",
    "calls.head(10)\n"
   ]
  },
  {
   "cell_type": "code",
   "execution_count": 21,
   "metadata": {},
   "outputs": [
    {
     "name": "stdout",
     "output_type": "stream",
     "text": [
      "Index(['id', 'message_date', 'user_id', 'month'], dtype='object')\n"
     ]
    },
    {
     "data": {
      "text/html": [
       "<div>\n",
       "<style scoped>\n",
       "    .dataframe tbody tr th:only-of-type {\n",
       "        vertical-align: middle;\n",
       "    }\n",
       "\n",
       "    .dataframe tbody tr th {\n",
       "        vertical-align: top;\n",
       "    }\n",
       "\n",
       "    .dataframe thead th {\n",
       "        text-align: right;\n",
       "    }\n",
       "</style>\n",
       "<table border=\"1\" class=\"dataframe\">\n",
       "  <thead>\n",
       "    <tr style=\"text-align: right;\">\n",
       "      <th></th>\n",
       "      <th>user_id</th>\n",
       "      <th>month</th>\n",
       "      <th>mess_sum</th>\n",
       "    </tr>\n",
       "  </thead>\n",
       "  <tbody>\n",
       "    <tr>\n",
       "      <td>0</td>\n",
       "      <td>1000</td>\n",
       "      <td>5</td>\n",
       "      <td>22</td>\n",
       "    </tr>\n",
       "    <tr>\n",
       "      <td>1</td>\n",
       "      <td>1000</td>\n",
       "      <td>6</td>\n",
       "      <td>60</td>\n",
       "    </tr>\n",
       "    <tr>\n",
       "      <td>2</td>\n",
       "      <td>1000</td>\n",
       "      <td>7</td>\n",
       "      <td>75</td>\n",
       "    </tr>\n",
       "    <tr>\n",
       "      <td>3</td>\n",
       "      <td>1000</td>\n",
       "      <td>8</td>\n",
       "      <td>81</td>\n",
       "    </tr>\n",
       "  </tbody>\n",
       "</table>\n",
       "</div>"
      ],
      "text/plain": [
       "   user_id  month  mess_sum\n",
       "0     1000      5        22\n",
       "1     1000      6        60\n",
       "2     1000      7        75\n",
       "3     1000      8        81"
      ]
     },
     "execution_count": 21,
     "metadata": {},
     "output_type": "execute_result"
    }
   ],
   "source": [
    "#Поворачиваем таблицу, создаем столбцы с агрегированными данными: количество сообщений в месяц (календарный).\n",
    "print(df_messages.columns)\n",
    "messages = df_messages.pivot_table(index = ['user_id', 'month'], aggfunc = {'id': ['count']}).reset_index()\n",
    "messages.columns = ['user_id','month', 'mess_sum']\n",
    "messages.head(4)"
   ]
  },
  {
   "cell_type": "code",
   "execution_count": 22,
   "metadata": {},
   "outputs": [
    {
     "name": "stdout",
     "output_type": "stream",
     "text": [
      "Index(['id', 'mb_used', 'session_date', 'user_id', 'month'], dtype='object')\n"
     ]
    },
    {
     "data": {
      "text/html": [
       "<div>\n",
       "<style scoped>\n",
       "    .dataframe tbody tr th:only-of-type {\n",
       "        vertical-align: middle;\n",
       "    }\n",
       "\n",
       "    .dataframe tbody tr th {\n",
       "        vertical-align: top;\n",
       "    }\n",
       "\n",
       "    .dataframe thead th {\n",
       "        text-align: right;\n",
       "    }\n",
       "</style>\n",
       "<table border=\"1\" class=\"dataframe\">\n",
       "  <thead>\n",
       "    <tr style=\"text-align: right;\">\n",
       "      <th></th>\n",
       "      <th>user_id</th>\n",
       "      <th>month</th>\n",
       "      <th>nr_sessions</th>\n",
       "      <th>mb_sum</th>\n",
       "    </tr>\n",
       "  </thead>\n",
       "  <tbody>\n",
       "    <tr>\n",
       "      <td>0</td>\n",
       "      <td>1000</td>\n",
       "      <td>5</td>\n",
       "      <td>5</td>\n",
       "      <td>2,256.00</td>\n",
       "    </tr>\n",
       "    <tr>\n",
       "      <td>1</td>\n",
       "      <td>1000</td>\n",
       "      <td>6</td>\n",
       "      <td>49</td>\n",
       "      <td>23,257.00</td>\n",
       "    </tr>\n",
       "    <tr>\n",
       "      <td>2</td>\n",
       "      <td>1000</td>\n",
       "      <td>7</td>\n",
       "      <td>29</td>\n",
       "      <td>14,016.00</td>\n",
       "    </tr>\n",
       "    <tr>\n",
       "      <td>3</td>\n",
       "      <td>1000</td>\n",
       "      <td>8</td>\n",
       "      <td>29</td>\n",
       "      <td>14,070.00</td>\n",
       "    </tr>\n",
       "    <tr>\n",
       "      <td>4</td>\n",
       "      <td>1000</td>\n",
       "      <td>9</td>\n",
       "      <td>27</td>\n",
       "      <td>14,581.00</td>\n",
       "    </tr>\n",
       "    <tr>\n",
       "      <td>5</td>\n",
       "      <td>1000</td>\n",
       "      <td>10</td>\n",
       "      <td>27</td>\n",
       "      <td>14,717.00</td>\n",
       "    </tr>\n",
       "    <tr>\n",
       "      <td>6</td>\n",
       "      <td>1000</td>\n",
       "      <td>11</td>\n",
       "      <td>24</td>\n",
       "      <td>14,768.00</td>\n",
       "    </tr>\n",
       "    <tr>\n",
       "      <td>7</td>\n",
       "      <td>1000</td>\n",
       "      <td>12</td>\n",
       "      <td>21</td>\n",
       "      <td>9,827.00</td>\n",
       "    </tr>\n",
       "    <tr>\n",
       "      <td>8</td>\n",
       "      <td>1001</td>\n",
       "      <td>11</td>\n",
       "      <td>55</td>\n",
       "      <td>18,452.00</td>\n",
       "    </tr>\n",
       "    <tr>\n",
       "      <td>9</td>\n",
       "      <td>1001</td>\n",
       "      <td>12</td>\n",
       "      <td>41</td>\n",
       "      <td>14,053.00</td>\n",
       "    </tr>\n",
       "  </tbody>\n",
       "</table>\n",
       "</div>"
      ],
      "text/plain": [
       "   user_id  month  nr_sessions    mb_sum\n",
       "0     1000      5            5  2,256.00\n",
       "1     1000      6           49 23,257.00\n",
       "2     1000      7           29 14,016.00\n",
       "3     1000      8           29 14,070.00\n",
       "4     1000      9           27 14,581.00\n",
       "5     1000     10           27 14,717.00\n",
       "6     1000     11           24 14,768.00\n",
       "7     1000     12           21  9,827.00\n",
       "8     1001     11           55 18,452.00\n",
       "9     1001     12           41 14,053.00"
      ]
     },
     "execution_count": 22,
     "metadata": {},
     "output_type": "execute_result"
    }
   ],
   "source": [
    "#Поворачиваем таблицу, создаем столбцы с агрегированными данными: количество сообщений в месяц (календарный).\n",
    "print(df_inet.columns)\n",
    "inet = df_inet.pivot_table(index = ['user_id', 'month'], aggfunc = {'mb_used': ['count', 'sum']}).reset_index()\n",
    "inet.columns = ['user_id','month', 'nr_sessions', 'mb_sum']\n",
    "inet.head(10)"
   ]
  },
  {
   "cell_type": "markdown",
   "metadata": {},
   "source": [
    "<div style=\"border-radius: 15px; border: 3px solid indigo; padding: 15px;\">\n",
    "<b> Комментарий ревьюера</b>\n",
    "    \n",
    "То же самое для интернета и смс. Потом создаешь новую таблицу, в которую будешь собирать эти:\n",
    "</div>\n",
    "<div class=\"alert alert-block alert-info\">\n",
    "<b>V2\n",
    "    </b> \n",
    "Принято.\n",
    "\n",
    "</div>"
   ]
  },
  {
   "cell_type": "code",
   "execution_count": 23,
   "metadata": {
    "scrolled": true
   },
   "outputs": [
    {
     "data": {
      "text/plain": [
       "user_id        0\n",
       "month          0\n",
       "calls_num      0\n",
       "min_sum        0\n",
       "mess_sum       0\n",
       "nr_sessions    0\n",
       "mb_sum         0\n",
       "tariff         0\n",
       "city           0\n",
       "dtype: int64"
      ]
     },
     "execution_count": 23,
     "metadata": {},
     "output_type": "execute_result"
    }
   ],
   "source": [
    "table = calls.merge(messages, on=['user_id', 'month'], how='outer').merge(inet, on=['user_id', 'month'], how='outer').merge(df_users[['user_id', 'tariff', 'city']], on='user_id', how='left')\n",
    "table = table.fillna(value=0)\n",
    "table.isna().sum()"
   ]
  },
  {
   "cell_type": "markdown",
   "metadata": {},
   "source": [
    "<div class=\"alert alert-warning\" style=\"border-radius: 15px\">\n",
    "<b> Комментарий ревьюера 3</b>\n",
    "\n",
    "- В прошлый раз у нас не было mess_sum_x и mess_sum_y. Они появились, потому что ты дважды сообщения добавила: **merge(messages, on=['user_id', 'month'], how='outer')** . Сначала к таблице calls, а потом еще раз. Убери одно из них.\n",
    "- Хорошо. С этим разобрались. Теперь прежде чем вычислять выручку, давай заменим пропуски в этой таблицей на нули. Пропуски появились в результате того, что некоторые пользователи в какой-то месяц могли не отправить ни одного сообщения, например, но зато звонили и использовали интернет. Поэтому у них может появиться Nan. \n",
    "</div>"
   ]
  },
  {
   "cell_type": "markdown",
   "metadata": {},
   "source": [
    "<div class=\"alert alert-success\" style=\"border-radius: 15px\">\n",
    "<b> Комментарий ревьюера 2</b>\n",
    "    \n",
    "Можно написать:\n",
    "    \n",
    "    \n",
    "    table = table.merge\n",
    "</div>"
   ]
  },
  {
   "cell_type": "markdown",
   "metadata": {},
   "source": [
    "## Анализ данных: Звонки\n",
    "<a id='calls_ds'></a>"
   ]
  },
  {
   "cell_type": "markdown",
   "metadata": {},
   "source": [
    "### Графики"
   ]
  },
  {
   "cell_type": "markdown",
   "metadata": {},
   "source": [
    "<div class=\"alert alert-warning\" style=\"border-radius: 15px\">\n",
    "<b> Комментарий ревьюера 2</b>\n",
    "    \n",
    "Опиши каждую пару распределений (распределение количества звонков, смс и трафика) с точки зрения нормальности: похожи или нет на нормальное. Распределения стандартных отклонений и прочей статистики по каждому пользователю не нужны. Но молодец, что сделала.\n",
    "</div>\n",
    "\n",
    "<div class=\"alert alert-block alert-info\">\n",
    "<b>V4\n",
    "    </b> \n",
    "У меня получилось сделать количество корзинок в зависимости от границ квантилей. Теперь красота.\n",
    "    Добавлены подписи осей и легенды.\n",
    "\n",
    "</div>\n",
    "\n",
    "<div class=\"alert alert-success\" style=\"border-radius: 15px\">\n",
    "<b> Комментарий ревьюера 4</b>\n",
    "    \n",
    "Шикарно :)\n",
    "</div>"
   ]
  },
  {
   "cell_type": "code",
   "execution_count": 24,
   "metadata": {},
   "outputs": [],
   "source": [
    "#Корзинки по квантилям! ееее!\n",
    "bins = table.groupby('tariff')['min_sum'].quantile([0,.05,0.1,0.15,0.20,0.25,0.3,0.35,0.40,0.45,0.5,0.55,0.6,0.65,0.70,0.75,0.80,0.85,0.90,0.95,1]).count()"
   ]
  },
  {
   "cell_type": "code",
   "execution_count": 25,
   "metadata": {},
   "outputs": [
    {
     "data": {
      "text/plain": [
       "<matplotlib.legend.Legend at 0x7fa33203ef90>"
      ]
     },
     "execution_count": 25,
     "metadata": {},
     "output_type": "execute_result"
    },
    {
     "data": {
      "image/png": "[encoded data removed]",
      "text/plain": [
       "<Figure size 1440x1440 with 1 Axes>"
      ]
     },
     "metadata": {
      "needs_background": "light"
     },
     "output_type": "display_data"
    }
   ],
   "source": [
    "table.query('tariff == \"smart\"').groupby(['user_id', 'month'])['min_sum'].mean().\\\n",
    "plot(kind='hist', alpha=0.5, figsize=(20, 20), legend=True, bins=bins).\\\n",
    "set_title('Гистограмма распределения средней длительности звонков в месяц по 2-м тарифам.')\n",
    "table.query('tariff == \"ultra\"').groupby(['user_id', 'month'])['min_sum'].mean().plot(kind='hist', alpha=0.5, legend=True, bins=bins)\n",
    "plt.xlabel('Средняя длина звонка')\n",
    "plt.ylabel('Частота случаев')\n",
    "plt.legend(['SMART', 'ULTRA'])"
   ]
  },
  {
   "cell_type": "code",
   "execution_count": 26,
   "metadata": {},
   "outputs": [
    {
     "name": "stdout",
     "output_type": "stream",
     "text": [
      "Количество месяцев, когда ни разу не позвонили СМАРТ: 646\n",
      "Количество месяцев, когда ни разу не позвонили УЛЬТРА: 324\n"
     ]
    }
   ],
   "source": [
    "#Поиск аномалий\n",
    "print('Количество месяцев, когда ни разу не позвонили СМАРТ:', table.query('tariff == \"smart\" and calls_num == 0')['calls_num'].count())\n",
    "print('Количество месяцев, когда ни разу не позвонили УЛЬТРА:', table.query('tariff == \"ultra\" and calls_num == 0')['calls_num'].count())"
   ]
  },
  {
   "cell_type": "markdown",
   "metadata": {},
   "source": [
    "График распределения немного скошен влево у данных \"Смарт\".\n",
    "Пользователи \"Ультра\" разговаривают в среднем дольше, но звонков в целом меньше, чем в данных по \"Смарт\"."
   ]
  },
  {
   "cell_type": "markdown",
   "metadata": {},
   "source": [
    "<div class=\"alert alert-warning\" style=\"border-radius: 15px\">\n",
    "<b> Комментарий ревьюера 3</b>\n",
    "    \n",
    "Можно проще:\n",
    "</div>\n",
    "<div class=\"alert alert-block alert-info\">\n",
    "<b>V4\n",
    "    </b> \n",
    "Принято, доработано.\n",
    "\n",
    "</div>"
   ]
  },
  {
   "cell_type": "code",
   "execution_count": 27,
   "metadata": {},
   "outputs": [],
   "source": [
    "# КОД РЕВЬЮЕРА\n",
    "#table.groupby('tariff')['min_sum'].plot.hist(alpha=0.5, legend=True, bins=25)"
   ]
  },
  {
   "cell_type": "markdown",
   "metadata": {},
   "source": [
    "### Вывод стандартного отклонения и дисперсии"
   ]
  },
  {
   "cell_type": "code",
   "execution_count": 28,
   "metadata": {},
   "outputs": [
    {
     "name": "stdout",
     "output_type": "stream",
     "text": [
      "Среднее количество сообщений по всем пользователям Смарт 208.85420119562977 \n",
      " Стандартное отклонение по среднему количеству сообщений Смарт 181.00799365476897 \n",
      "\n"
     ]
    }
   ],
   "source": [
    "#Стандартное отклонение - это то, на сколько справа и слева от среднего арифметического разбросаны данные.\n",
    "#А среднее арифметическое мы берём, потому что не знаем мат.ожидание.\n",
    "с = pd.DataFrame(table.query('tariff == \"smart\"').groupby(['user_id'])['min_sum'].mean())\n",
    "print('Среднее количество сообщений по всем пользователям Смарт', с['min_sum'].describe()['mean'], '\\n',\\\n",
    "'Стандартное отклонение по среднему количеству сообщений Смарт', с['min_sum'].describe()['std'], '\\n')\n",
    "#print('минимальное и максимальное значения', a['min_sum'].describe()[['min', 'max']])"
   ]
  },
  {
   "cell_type": "code",
   "execution_count": 29,
   "metadata": {},
   "outputs": [
    {
     "name": "stdout",
     "output_type": "stream",
     "text": [
      "Вот до такого количества сообщений расположены почти все пользователи Смарт 389.86219485039874\n"
     ]
    }
   ],
   "source": [
    "#Нормальное распределение: подавляющее большинство в год наговаривает на длительность в столько-то минут. Не знаю, как сказать лучше.\n",
    "print('Вот до такого количества сообщений расположены почти все пользователи Смарт', с['min_sum'].describe()['mean'] + с['min_sum'].describe()['std'])"
   ]
  },
  {
   "cell_type": "code",
   "execution_count": 30,
   "metadata": {},
   "outputs": [
    {
     "name": "stdout",
     "output_type": "stream",
     "text": [
      "Количество пробелов в данных (на всякий случай) 5\n"
     ]
    }
   ],
   "source": [
    "#Только теперь я почувствовала необходимость посчитать nan\n",
    "print('Количество пробелов в данных (на всякий случай)', table.query('tariff == \"smart\"').groupby(['user_id'])['min_sum'].std().isna().sum())\n",
    "#Наверно, тот факт, что есть дыры, внесёт какую-то диспропорцию"
   ]
  },
  {
   "cell_type": "code",
   "execution_count": 31,
   "metadata": {},
   "outputs": [
    {
     "data": {
      "text/plain": [
       "32763.893766924884"
      ]
     },
     "execution_count": 31,
     "metadata": {},
     "output_type": "execute_result"
    }
   ],
   "source": [
    "#Дисперсия (средний квадрат отклонений): Стандартное отклонение равно квадратному корню из дисперсии (S = √D). То есть, если у вас уже есть стандартное отклонение и \n",
    "#нужно рассчитать дисперсию, нужно лишь возвести стандартное отклонение в квадрат (S² = D). Это из интернетов.\n",
    "\n",
    "(table.query('tariff == \"smart\"').groupby(['user_id'])['min_sum'].mean().describe()['std']**2).mean() \n",
    "\n",
    "#Что-то мне кажется, что из-за nan у меня среднее меньше, а значит и дисперсия меньше, чем могла быть."
   ]
  },
  {
   "cell_type": "markdown",
   "metadata": {},
   "source": [
    "<div class=\"alert alert-warning\" style=\"border-radius: 15px\">\n",
    "<b> Комментарий ревьюера 3</b>\n",
    "    \n",
    "Про пропуски я уже оставила комментарий выше. \n",
    "</div>\n",
    "<div class=\"alert alert-block alert-info\">\n",
    "<b>V4\n",
    "    </b> \n",
    "Принято, доработано.\n",
    "\n",
    "</div>"
   ]
  },
  {
   "cell_type": "code",
   "execution_count": 32,
   "metadata": {},
   "outputs": [
    {
     "name": "stdout",
     "output_type": "stream",
     "text": [
      "средняя длина звонков по всем пользователям Ультра 253.54988446238448 \n",
      " стандартное отклонение по средней длительности звонков Ультра 263.70638618124354 \n",
      "\n",
      "Сколько дыр в данных 2\n",
      "Дисперсия (Ультра: длительность звонков) 69541.05811277116\n"
     ]
    }
   ],
   "source": [
    "b = pd.DataFrame(table.query('tariff == \"ultra\"').groupby(['user_id'])['min_sum'].mean())\n",
    "print('средняя длина звонков по всем пользователям Ультра', b['min_sum'].describe()['mean'], '\\n',\\\n",
    "      'стандартное отклонение по средней длительности звонков Ультра', b['min_sum'].describe()['std'], '\\n')\n",
    "print('Сколько дыр в данных', table.query('tariff == \"ultra\"').groupby(['user_id'])['min_sum'].std().isna().sum())\n",
    "print('Дисперсия (Ультра: длительность звонков)', (table.query('tariff == \"ultra\"').groupby(['user_id'])['min_sum'].mean().describe()['std']**2).mean())"
   ]
  },
  {
   "cell_type": "markdown",
   "metadata": {},
   "source": [
    "## Анализ данных: Сообщения\n",
    "<a id='messages_ds'></a>"
   ]
  },
  {
   "cell_type": "markdown",
   "metadata": {},
   "source": [
    "### Графики"
   ]
  },
  {
   "cell_type": "code",
   "execution_count": 33,
   "metadata": {},
   "outputs": [
    {
     "data": {
      "text/plain": [
       "<matplotlib.legend.Legend at 0x7fa332578dd0>"
      ]
     },
     "execution_count": 33,
     "metadata": {},
     "output_type": "execute_result"
    },
    {
     "data": {
      "image/png": "[encoded data removed]",
      "text/plain": [
       "<Figure size 1440x1440 with 1 Axes>"
      ]
     },
     "metadata": {
      "needs_background": "light"
     },
     "output_type": "display_data"
    }
   ],
   "source": [
    "#Корзинки по квантилям! ееее!\n",
    "bins = table.groupby('tariff')['mess_sum'].quantile([0,.05,0.1,0.15,0.20,0.25,0.3,0.35,0.40,0.45,0.5,0.55,0.6,0.65,0.70,0.75,0.80,0.85,0.90,0.95,1]).count()\n",
    "\n",
    "table.query('tariff == \"smart\"').groupby(['user_id', 'month'])['mess_sum'].\\\n",
    "mean().plot(kind='hist', alpha=0.5, legend=True, bins=bins, figsize=(20,20), fontsize=(20)).\\\n",
    "set_title('Гистограмма распределения среднего количества сообщений в месяц по 2-м тарифам.', fontsize=(20))\n",
    "table.query('tariff == \"ultra\"').groupby(['user_id', 'month'])['mess_sum'].\\\n",
    "mean().plot(kind='hist', alpha=0.5, legend=True, bins=bins,  fontsize=20)\n",
    "plt.xlabel('Среднее количество сообщений в месяц', fontsize=(20))\n",
    "plt.ylabel('Частота случаев', fontsize=(20))\n",
    "plt.legend(['SMART', 'ULTRA'])"
   ]
  },
  {
   "cell_type": "code",
   "execution_count": 34,
   "metadata": {},
   "outputs": [
    {
     "name": "stdout",
     "output_type": "stream",
     "text": [
      "Месяцев, когда не отослали ни одного сообщения СМАРТ: 1187\n",
      "Месяцев, когда не отослали ни одного сообщения УЛЬТРА: 566\n"
     ]
    }
   ],
   "source": [
    "#Объяснения аномалии\n",
    "print('Месяцев, когда не отослали ни одного сообщения СМАРТ:', table.query('tariff == \"smart\" and mess_sum == 0')['month'].count())\n",
    "print('Месяцев, когда не отослали ни одного сообщения УЛЬТРА:', table.query('tariff == \"ultra\" and mess_sum == 0')['month'].count())"
   ]
  },
  {
   "cell_type": "markdown",
   "metadata": {},
   "source": [
    "Распределение не нормальное. График скошен влево в обоих случаях.\n",
    " \n",
    "\n",
    "Некоторые пользователи \"Ультра\" пишут больше сообщений в месяц: до 200 и чуть более."
   ]
  },
  {
   "cell_type": "markdown",
   "metadata": {},
   "source": [
    "<div class=\"alert alert-success\" style=\"border-radius: 15px\">\n",
    "<b> Комментарий ревьюера 3</b>\n",
    "    \n",
    "Да, нормальным это распределение не назовешь.</div>"
   ]
  },
  {
   "cell_type": "code",
   "execution_count": 35,
   "metadata": {},
   "outputs": [
    {
     "data": {
      "text/plain": [
       "Index(['user_id', 'month', 'calls_num', 'min_sum', 'mess_sum', 'nr_sessions',\n",
       "       'mb_sum', 'tariff', 'city'],\n",
       "      dtype='object')"
      ]
     },
     "execution_count": 35,
     "metadata": {},
     "output_type": "execute_result"
    }
   ],
   "source": [
    "table.columns\n"
   ]
  },
  {
   "cell_type": "markdown",
   "metadata": {},
   "source": [
    "### Вывод стандартного отклонения и дисперсии"
   ]
  },
  {
   "cell_type": "code",
   "execution_count": 36,
   "metadata": {},
   "outputs": [
    {
     "name": "stdout",
     "output_type": "stream",
     "text": [
      "Среднее количество сообщений по всем пользователям Ультра 37.35335327210327 \n",
      " Стандартное отклонение по средн. количеству сообщений Ультра 35.67641507062043 \n",
      "\n",
      "Пропуски в данных 2\n",
      "Дисперсия (Ультра: кол-во сообщений) 1272.8065922911924\n"
     ]
    }
   ],
   "source": [
    "c = pd.DataFrame(table.query('tariff == \"ultra\"').groupby(['user_id'])['mess_sum'].mean())\n",
    "print('Среднее количество сообщений по всем пользователям Ультра', c['mess_sum'].describe()['mean'], '\\n',\\\n",
    "      'Стандартное отклонение по средн. количеству сообщений Ультра', c['mess_sum'].describe()['std'], '\\n')\n",
    "print('Пропуски в данных', table.query('tariff == \"ultra\"').groupby(['user_id'])['mess_sum'].std().isna().sum())\n",
    "print('Дисперсия (Ультра: кол-во сообщений)', (table.query('tariff == \"ultra\"').groupby(['user_id'])['mess_sum'].mean().describe()['std']**2).mean())"
   ]
  },
  {
   "cell_type": "code",
   "execution_count": 37,
   "metadata": {},
   "outputs": [
    {
     "name": "stdout",
     "output_type": "stream",
     "text": [
      "Среднее количество сообщений по всем пользователям Смарт 24.591443722943723 \n",
      " Стандартное отклонение по средн. количеству сообщений Смарт 23.643429084319948 \n",
      "\n",
      "Пропуски в данных 5\n",
      "Дисперсия (Смарт: кол-во сообщений) 559.0117388652664\n"
     ]
    }
   ],
   "source": [
    "d = pd.DataFrame(table.query('tariff == \"smart\"').groupby(['user_id'])['mess_sum'].mean())\n",
    "print('Среднее количество сообщений по всем пользователям Смарт', d['mess_sum'].describe()['mean'], '\\n',\\\n",
    "      'Стандартное отклонение по средн. количеству сообщений Смарт', d['mess_sum'].describe()['std'], '\\n')\n",
    "print('Пропуски в данных', table.query('tariff == \"smart\"').groupby(['user_id'])['mess_sum'].std().isna().sum())\n",
    "print('Дисперсия (Смарт: кол-во сообщений)', (table.query('tariff == \"smart\"').groupby(['user_id'])['mess_sum'].mean().describe()['std']**2).mean())"
   ]
  },
  {
   "cell_type": "markdown",
   "metadata": {},
   "source": [
    "## Анализ данных: Интернет\n",
    "<a id='inet_ds'></a>"
   ]
  },
  {
   "cell_type": "markdown",
   "metadata": {},
   "source": [
    "### Графики"
   ]
  },
  {
   "cell_type": "code",
   "execution_count": 38,
   "metadata": {},
   "outputs": [
    {
     "data": {
      "text/plain": [
       "<matplotlib.legend.Legend at 0x7fa330ebc5d0>"
      ]
     },
     "execution_count": 38,
     "metadata": {},
     "output_type": "execute_result"
    },
    {
     "data": {
      "image/png": "[encoded data removed]",
      "text/plain": [
       "<Figure size 720x720 with 1 Axes>"
      ]
     },
     "metadata": {
      "needs_background": "light"
     },
     "output_type": "display_data"
    }
   ],
   "source": [
    "\n",
    "bins = table.groupby('tariff')['mess_sum'].quantile([0,.05,0.1,0.15,0.20,0.25,0.3,0.35,0.40,0.45,0.5,0.55,0.6,0.65,0.70,0.75,0.80,0.85,0.90,0.95,1]).count()\n",
    "\n",
    "table.query('tariff == \"smart\"').groupby(['user_id', 'month'])['mb_sum'].mean().\\\n",
    "plot(kind='hist', alpha=0.5, legend=True,  bins=bins, figsize=(2,2), fontsize=(14)).\\\n",
    "set_title('Гистограмма распределения среднего объема интернет-трафика в месяц по 2-м тарифам.')\n",
    "table.query('tariff == \"ultra\"').groupby(['user_id', 'month'])['mb_sum'].mean().\\\n",
    "plot(kind='hist', alpha=0.5, legend=True, bins=bins,  figsize=(10,10), fontsize=(14))\n",
    "plt.xlabel('Среднее количество мб в месяц', fontsize=(14))\n",
    "plt.ylabel('Частота случаев', fontsize=(14))\n",
    "plt.legend(['SMART', 'ULTRA'])"
   ]
  },
  {
   "cell_type": "code",
   "execution_count": 39,
   "metadata": {},
   "outputs": [
    {
     "name": "stdout",
     "output_type": "stream",
     "text": [
      "Месяцев, когда не заходили в интернет СМАРТ: 882\n",
      "Месяцев, когда не заходили в интернет УЛЬТРА: 387\n"
     ]
    }
   ],
   "source": [
    "print('Месяцев, когда не заходили в интернет СМАРТ:', table.query('tariff == \"smart\" and mb_sum == 0')['month'].count())\n",
    "print('Месяцев, когда не заходили в интернет УЛЬТРА:', table.query('tariff == \"ultra\" and mb_sum == 0')['month'].count())"
   ]
  },
  {
   "cell_type": "markdown",
   "metadata": {},
   "source": [
    "При построении графиков по мб, данные по пользованию интернетом в тарифе \"Смарт\" распределяется нормально, если закрыть глаза на явно выраженную стрелу со случаями, когда в интернет не заходили ни разу в месяц. Эти случаи подсчитаны."
   ]
  },
  {
   "cell_type": "markdown",
   "metadata": {},
   "source": [
    "<div class=\"alert alert-success\" style=\"border-radius: 15px\">\n",
    "<b> Комментарий ревьюера 3</b>\n",
    "    \n",
    "Этот уже больше похож на нормальное. \n",
    "</div>"
   ]
  },
  {
   "cell_type": "code",
   "execution_count": 40,
   "metadata": {
    "scrolled": true
   },
   "outputs": [
    {
     "name": "stdout",
     "output_type": "stream",
     "text": [
      "Cредний трафик по всем пользователям Смарт мб 11880.55861234797 \n",
      " Cтандартное отклонение по среднему трафику Смарт мб 5739.606160676711 \n",
      "\n",
      "Сколько пропусков в данных 5\n",
      "Дисперсия (Смарт: трафик) 32943078.879678052\n"
     ]
    }
   ],
   "source": [
    "e = pd.DataFrame(table.query('tariff == \"smart\"').groupby(['user_id'])['mb_sum'].mean())\n",
    "print('Cредний трафик по всем пользователям Смарт мб', e['mb_sum'].describe()['mean'], '\\n',\\\n",
    "      'Cтандартное отклонение по среднему трафику Смарт мб', e['mb_sum'].describe()['std'], '\\n')\n",
    "print('Сколько пропусков в данных', table.query('tariff == \"smart\"').groupby(['user_id'])['mb_sum'].std().isna().sum())\n",
    "print('Дисперсия (Смарт: трафик)', (table.query('tariff == \"smart\"').groupby(['user_id'])['mb_sum'].mean().describe()['std']**2).mean())"
   ]
  },
  {
   "cell_type": "code",
   "execution_count": 41,
   "metadata": {},
   "outputs": [
    {
     "name": "stdout",
     "output_type": "stream",
     "text": [
      "средний трафик по всем пользователям Ультра 14814.31482683983 \n",
      " стандартное отклонение по среднему трафику Ультра 9193.911610707682 \n",
      "\n",
      "Сколько пропусков в данных 2\n",
      "Дисперсия (Ультра: трафик) 84528010.70550554\n"
     ]
    }
   ],
   "source": [
    "f = pd.DataFrame(table.query('tariff == \"ultra\"').groupby(['user_id'])['mb_sum'].mean())\n",
    "print('средний трафик по всем пользователям Ультра', f['mb_sum'].describe()['mean'], '\\n',\\\n",
    "      'стандартное отклонение по среднему трафику Ультра', f['mb_sum'].describe()['std'], '\\n')\n",
    "print('Сколько пропусков в данных', table.query('tariff == \"ultra\"').groupby(['user_id'])['mb_sum'].std().isna().sum())\n",
    "print('Дисперсия (Ультра: трафик)', (table.query('tariff == \"ultra\"').groupby(['user_id'])['mb_sum'].mean().describe()['std']**2).mean())"
   ]
  },
  {
   "cell_type": "markdown",
   "metadata": {},
   "source": [
    "<div class=\"alert alert-warning\" style=\"border-radius: 15px\">\n",
    "<b> Комментарий ревьюера 2</b>\n",
    "    \n",
    "Так.. Вот задача:\n",
    "    \n",
    "    \n",
    "    Опишите поведение клиентов оператора, исходя из выборки. Сколько минут разговора, сколько сообщений и какой объём интернет-трафика требуется пользователям каждого тарифа в месяц? Посчитайте среднее количество, дисперсию и стандартное отклонение. Постройте гистограммы. Опишите распределения.\n",
    "    \n",
    "    \n",
    "Строишь 3 графика. На каждом 2 гистограммы (по одной на тариф). Один график это 2 гистограммы длительности звонков, один график это смс и последний это мегабайты. Описываешь распределения (нормальное или нет). Среднее, стандартное отклонение и дисперсию просто таблицей выведи. Графики тут ни к чему.     \n",
    "</div>\n",
    "\n"
   ]
  },
  {
   "cell_type": "markdown",
   "metadata": {},
   "source": [
    "<div class=\"alert alert-warning\" style=\"border-radius: 15px\">\n",
    "<b> Комментарий ревьюера</b>\n",
    "    \n",
    "Если будут вопросы, то задавай. Для этой большой таблицы уже будем писать функцию вычисления прибыли. \n",
    "</div>\n"
   ]
  },
  {
   "cell_type": "markdown",
   "metadata": {},
   "source": [
    "<div class=\"alert alert-warning\" style=\"border-radius: 15px\">\n",
    "<b> Комментарий ревьюера</b>\n",
    "    \n",
    "Нужны ли нам тут сессии? По крайней мере в виде списка. Их можно сложить.\n",
    "</div>\n",
    "<div class=\"alert alert-block alert-info\">\n",
    "<b>V4\n",
    "    </b> \n",
    "Сессии убраны, графики улучшены, есть описания.\n",
    "</div>"
   ]
  },
  {
   "cell_type": "markdown",
   "metadata": {},
   "source": [
    "### Функции расчёта дохода\n",
    "<a id='#functionfu'></a>"
   ]
  },
  {
   "cell_type": "markdown",
   "metadata": {},
   "source": [
    "<div class=\"alert alert-warning\" style=\"border-radius: 15px\">\n",
    "<b> Комментарий ревьюера 3</b>\n",
    "    \n",
    "Намудрила :) \n",
    "    \n",
    "- Итак, ты определяешь функцию внутри функции. Не стоит этого делать. Определи вторую функцию вне первой и вызывай ее внутри первой. Пример: np.ceil это тоже функция. Она определена вне нашей программы. Мы подключили нужный модуль с ее определением и используем ее, вызывая ее по имени и передавая ей аргумент.\n",
    "- Опять же, ты используешь цикл. В нем нет необходимости. \n",
    "- Я попробую собрать функцию по твоему алгоритму ниже.\n",
    "</div>\n",
    "<div class=\"alert alert-block alert-info\">\n",
    "<b>V4\n",
    "    </b> \n",
    "Эх, а я так надеялась, что я всё придумала, как надо. \n",
    "    \n",
    "    Хотя бы сделаю выводы.\n",
    "    \n",
    "    Значит, цикл нужен только там, где есть много значений, которые нужно проверить на истинность или ложность.\n",
    "    \n",
    "    У нас тут только одна развилка: по 2-м тарифам. Поэтому, ну, как я вижу, достаточно условий if-else.\n",
    "    \n",
    "    Функция apply(). Я её ОЧЕНЬ плохо усвоила, хотя догадывалась, что она потенциально нужная.  Из того, что я поняла: apply используется чаще всего для применения какой-то функции к столбику(кам)/другим векторам, а также для применения хитрой логики с lambla <a href='https://www.machinelearningmastery.ru/apply-and-lambda-usage-in-pandas-b13a1ea037f7/'> Прочитала тут</a> и <a href ='https://coderoad.ru/54432583/%D0%9A%D0%BE%D0%B3%D0%B4%D0%B0-%D0%BC%D0%BD%D0%B5-%D0%B2%D0%BE%D0%BE%D0%B1%D1%89%D0%B5-%D0%B7%D0%B0%D1%85%D0%BE%D1%87%D0%B5%D1%82%D1%81%D1%8F-%D0%B8%D1%81%D0%BF%D0%BE%D0%BB%D1%8C%D0%B7%D0%BE%D0%B2%D0%B0%D1%82%D1%8C-pandas-apply-%D0%B2-%D1%81%D0%B2%D0%BE%D0%B5%D0%BC-%D0%BA%D0%BE%D0%B4%D0%B5'>тут и с картинкой</a>\n",
    "</div>"
   ]
  },
  {
   "cell_type": "markdown",
   "metadata": {},
   "source": [
    "<div class=\"alert alert-success\" style=\"border-radius: 15px\">\n",
    "<b> Комментарий ревьюера 4</b>\n",
    "    \n",
    "- Ты как раз все придумала, как надо :) Кое-что не получилось, но для этого есть я. \n",
    "- Цикл нужен там, где значений не очень много и их надо перебрать. Если речь о таблице, настоятельно рекомендую функцию + apply. Иначе тетрадка просто упадет. \n",
    "- Да, тарифа только 2, поэтому if-else достаточно.\n",
    "- apply применяется для всей таблицы. Указываешь в оргументах ось: либо столбцы, либо строки. То есть это то же самое итерирование, по сути, только оно выполняется гораздо быстрее. \n",
    "    \n",
    "<hr>\n",
    "Вот пример:\n",
    "</div>"
   ]
  },
  {
   "cell_type": "code",
   "execution_count": 42,
   "metadata": {},
   "outputs": [
    {
     "data": {
      "text/html": [
       "<div>\n",
       "<style scoped>\n",
       "    .dataframe tbody tr th:only-of-type {\n",
       "        vertical-align: middle;\n",
       "    }\n",
       "\n",
       "    .dataframe tbody tr th {\n",
       "        vertical-align: top;\n",
       "    }\n",
       "\n",
       "    .dataframe thead th {\n",
       "        text-align: right;\n",
       "    }\n",
       "</style>\n",
       "<table border=\"1\" class=\"dataframe\">\n",
       "  <thead>\n",
       "    <tr style=\"text-align: right;\">\n",
       "      <th></th>\n",
       "      <th>A</th>\n",
       "      <th>B</th>\n",
       "      <th>C</th>\n",
       "    </tr>\n",
       "  </thead>\n",
       "  <tbody>\n",
       "    <tr>\n",
       "      <td>0</td>\n",
       "      <td>1</td>\n",
       "      <td>2</td>\n",
       "      <td>4</td>\n",
       "    </tr>\n",
       "    <tr>\n",
       "      <td>1</td>\n",
       "      <td>3</td>\n",
       "      <td>1</td>\n",
       "      <td>5</td>\n",
       "    </tr>\n",
       "    <tr>\n",
       "      <td>2</td>\n",
       "      <td>6</td>\n",
       "      <td>8</td>\n",
       "      <td>10</td>\n",
       "    </tr>\n",
       "  </tbody>\n",
       "</table>\n",
       "</div>"
      ],
      "text/plain": [
       "   A  B   C\n",
       "0  1  2   4\n",
       "1  3  1   5\n",
       "2  6  8  10"
      ]
     },
     "execution_count": 42,
     "metadata": {},
     "output_type": "execute_result"
    }
   ],
   "source": [
    "# КОД РЕВЬЮЕРА\n",
    "q = pd.DataFrame([[1,2,4],[3,1,5],[6,8,10]] , columns=['A', 'B', 'C'])\n",
    "q"
   ]
  },
  {
   "cell_type": "code",
   "execution_count": 43,
   "metadata": {},
   "outputs": [
    {
     "data": {
      "text/html": [
       "<div>\n",
       "<style scoped>\n",
       "    .dataframe tbody tr th:only-of-type {\n",
       "        vertical-align: middle;\n",
       "    }\n",
       "\n",
       "    .dataframe tbody tr th {\n",
       "        vertical-align: top;\n",
       "    }\n",
       "\n",
       "    .dataframe thead th {\n",
       "        text-align: right;\n",
       "    }\n",
       "</style>\n",
       "<table border=\"1\" class=\"dataframe\">\n",
       "  <thead>\n",
       "    <tr style=\"text-align: right;\">\n",
       "      <th></th>\n",
       "      <th>A</th>\n",
       "      <th>B</th>\n",
       "      <th>C</th>\n",
       "      <th>D</th>\n",
       "    </tr>\n",
       "  </thead>\n",
       "  <tbody>\n",
       "    <tr>\n",
       "      <td>0</td>\n",
       "      <td>1</td>\n",
       "      <td>2</td>\n",
       "      <td>4</td>\n",
       "      <td>7</td>\n",
       "    </tr>\n",
       "    <tr>\n",
       "      <td>1</td>\n",
       "      <td>3</td>\n",
       "      <td>1</td>\n",
       "      <td>5</td>\n",
       "      <td>9</td>\n",
       "    </tr>\n",
       "    <tr>\n",
       "      <td>2</td>\n",
       "      <td>6</td>\n",
       "      <td>8</td>\n",
       "      <td>10</td>\n",
       "      <td>24</td>\n",
       "    </tr>\n",
       "  </tbody>\n",
       "</table>\n",
       "</div>"
      ],
      "text/plain": [
       "   A  B   C   D\n",
       "0  1  2   4   7\n",
       "1  3  1   5   9\n",
       "2  6  8  10  24"
      ]
     },
     "execution_count": 43,
     "metadata": {},
     "output_type": "execute_result"
    }
   ],
   "source": [
    "# КОД РЕВЬЮЕРА\n",
    "\n",
    "# Создадим столбец, который будет равен сумме трех остальных в текущей строке. Берем строки,поэтому axis=1\n",
    "import numpy as np\n",
    "q['D'] = q.apply(np.sum, axis=1)\n",
    "q"
   ]
  },
  {
   "cell_type": "code",
   "execution_count": 44,
   "metadata": {},
   "outputs": [
    {
     "data": {
      "text/html": [
       "<div>\n",
       "<style scoped>\n",
       "    .dataframe tbody tr th:only-of-type {\n",
       "        vertical-align: middle;\n",
       "    }\n",
       "\n",
       "    .dataframe tbody tr th {\n",
       "        vertical-align: top;\n",
       "    }\n",
       "\n",
       "    .dataframe thead th {\n",
       "        text-align: right;\n",
       "    }\n",
       "</style>\n",
       "<table border=\"1\" class=\"dataframe\">\n",
       "  <thead>\n",
       "    <tr style=\"text-align: right;\">\n",
       "      <th></th>\n",
       "      <th>A</th>\n",
       "      <th>B</th>\n",
       "      <th>C</th>\n",
       "      <th>D</th>\n",
       "    </tr>\n",
       "  </thead>\n",
       "  <tbody>\n",
       "    <tr>\n",
       "      <td>0</td>\n",
       "      <td>1</td>\n",
       "      <td>2</td>\n",
       "      <td>4</td>\n",
       "      <td>7</td>\n",
       "    </tr>\n",
       "    <tr>\n",
       "      <td>1</td>\n",
       "      <td>3</td>\n",
       "      <td>1</td>\n",
       "      <td>5</td>\n",
       "      <td>9</td>\n",
       "    </tr>\n",
       "    <tr>\n",
       "      <td>2</td>\n",
       "      <td>6</td>\n",
       "      <td>8</td>\n",
       "      <td>10</td>\n",
       "      <td>24</td>\n",
       "    </tr>\n",
       "    <tr>\n",
       "      <td>3</td>\n",
       "      <td>10</td>\n",
       "      <td>11</td>\n",
       "      <td>19</td>\n",
       "      <td>40</td>\n",
       "    </tr>\n",
       "  </tbody>\n",
       "</table>\n",
       "</div>"
      ],
      "text/plain": [
       "    A   B   C   D\n",
       "0   1   2   4   7\n",
       "1   3   1   5   9\n",
       "2   6   8  10  24\n",
       "3  10  11  19  40"
      ]
     },
     "execution_count": 44,
     "metadata": {},
     "output_type": "execute_result"
    }
   ],
   "source": [
    "# КОД РЕВЬЮЕРА\n",
    "\n",
    "# Создадим строку. Каждый элемент столбца это сумма предыдущих эелментов этого столбца. Берем столбцы, поэтому axis=0\n",
    "q.loc[3] = q.apply(np.sum, axis=0)\n",
    "q"
   ]
  },
  {
   "cell_type": "markdown",
   "metadata": {},
   "source": [
    "О, класс. Запишу себе."
   ]
  },
  {
   "cell_type": "code",
   "execution_count": 45,
   "metadata": {},
   "outputs": [
    {
     "data": {
      "text/html": [
       "<div>\n",
       "<style scoped>\n",
       "    .dataframe tbody tr th:only-of-type {\n",
       "        vertical-align: middle;\n",
       "    }\n",
       "\n",
       "    .dataframe tbody tr th {\n",
       "        vertical-align: top;\n",
       "    }\n",
       "\n",
       "    .dataframe thead th {\n",
       "        text-align: right;\n",
       "    }\n",
       "</style>\n",
       "<table border=\"1\" class=\"dataframe\">\n",
       "  <thead>\n",
       "    <tr style=\"text-align: right;\">\n",
       "      <th></th>\n",
       "      <th>user_id</th>\n",
       "      <th>month</th>\n",
       "      <th>calls_num</th>\n",
       "      <th>min_sum</th>\n",
       "      <th>mess_sum</th>\n",
       "      <th>nr_sessions</th>\n",
       "      <th>mb_sum</th>\n",
       "      <th>tariff</th>\n",
       "      <th>city</th>\n",
       "    </tr>\n",
       "  </thead>\n",
       "  <tbody>\n",
       "    <tr>\n",
       "      <td>0</td>\n",
       "      <td>1000</td>\n",
       "      <td>5.00</td>\n",
       "      <td>5.00</td>\n",
       "      <td>28.00</td>\n",
       "      <td>22.00</td>\n",
       "      <td>5.00</td>\n",
       "      <td>2,256.00</td>\n",
       "      <td>ultra</td>\n",
       "      <td>Краснодар</td>\n",
       "    </tr>\n",
       "    <tr>\n",
       "      <td>1</td>\n",
       "      <td>1000</td>\n",
       "      <td>6.00</td>\n",
       "      <td>55.00</td>\n",
       "      <td>356.00</td>\n",
       "      <td>60.00</td>\n",
       "      <td>49.00</td>\n",
       "      <td>23,257.00</td>\n",
       "      <td>ultra</td>\n",
       "      <td>Краснодар</td>\n",
       "    </tr>\n",
       "    <tr>\n",
       "      <td>2</td>\n",
       "      <td>1000</td>\n",
       "      <td>7.00</td>\n",
       "      <td>39.00</td>\n",
       "      <td>310.00</td>\n",
       "      <td>75.00</td>\n",
       "      <td>29.00</td>\n",
       "      <td>14,016.00</td>\n",
       "      <td>ultra</td>\n",
       "      <td>Краснодар</td>\n",
       "    </tr>\n",
       "    <tr>\n",
       "      <td>3</td>\n",
       "      <td>1000</td>\n",
       "      <td>8.00</td>\n",
       "      <td>39.00</td>\n",
       "      <td>298.00</td>\n",
       "      <td>81.00</td>\n",
       "      <td>29.00</td>\n",
       "      <td>14,070.00</td>\n",
       "      <td>ultra</td>\n",
       "      <td>Краснодар</td>\n",
       "    </tr>\n",
       "    <tr>\n",
       "      <td>4</td>\n",
       "      <td>1000</td>\n",
       "      <td>9.00</td>\n",
       "      <td>41.00</td>\n",
       "      <td>284.00</td>\n",
       "      <td>57.00</td>\n",
       "      <td>27.00</td>\n",
       "      <td>14,581.00</td>\n",
       "      <td>ultra</td>\n",
       "      <td>Краснодар</td>\n",
       "    </tr>\n",
       "    <tr>\n",
       "      <td>5</td>\n",
       "      <td>1000</td>\n",
       "      <td>10.00</td>\n",
       "      <td>32.00</td>\n",
       "      <td>204.00</td>\n",
       "      <td>73.00</td>\n",
       "      <td>27.00</td>\n",
       "      <td>14,717.00</td>\n",
       "      <td>ultra</td>\n",
       "      <td>Краснодар</td>\n",
       "    </tr>\n",
       "    <tr>\n",
       "      <td>6</td>\n",
       "      <td>1000</td>\n",
       "      <td>11.00</td>\n",
       "      <td>85.00</td>\n",
       "      <td>586.00</td>\n",
       "      <td>58.00</td>\n",
       "      <td>24.00</td>\n",
       "      <td>14,768.00</td>\n",
       "      <td>ultra</td>\n",
       "      <td>Краснодар</td>\n",
       "    </tr>\n",
       "    <tr>\n",
       "      <td>7</td>\n",
       "      <td>1000</td>\n",
       "      <td>12.00</td>\n",
       "      <td>72.00</td>\n",
       "      <td>575.00</td>\n",
       "      <td>70.00</td>\n",
       "      <td>21.00</td>\n",
       "      <td>9,827.00</td>\n",
       "      <td>ultra</td>\n",
       "      <td>Краснодар</td>\n",
       "    </tr>\n",
       "  </tbody>\n",
       "</table>\n",
       "</div>"
      ],
      "text/plain": [
       "   user_id  month  calls_num  min_sum  mess_sum  nr_sessions    mb_sum tariff  \\\n",
       "0     1000   5.00       5.00    28.00     22.00         5.00  2,256.00  ultra   \n",
       "1     1000   6.00      55.00   356.00     60.00        49.00 23,257.00  ultra   \n",
       "2     1000   7.00      39.00   310.00     75.00        29.00 14,016.00  ultra   \n",
       "3     1000   8.00      39.00   298.00     81.00        29.00 14,070.00  ultra   \n",
       "4     1000   9.00      41.00   284.00     57.00        27.00 14,581.00  ultra   \n",
       "5     1000  10.00      32.00   204.00     73.00        27.00 14,717.00  ultra   \n",
       "6     1000  11.00      85.00   586.00     58.00        24.00 14,768.00  ultra   \n",
       "7     1000  12.00      72.00   575.00     70.00        21.00  9,827.00  ultra   \n",
       "\n",
       "        city  \n",
       "0  Краснодар  \n",
       "1  Краснодар  \n",
       "2  Краснодар  \n",
       "3  Краснодар  \n",
       "4  Краснодар  \n",
       "5  Краснодар  \n",
       "6  Краснодар  \n",
       "7  Краснодар  "
      ]
     },
     "execution_count": 45,
     "metadata": {},
     "output_type": "execute_result"
    }
   ],
   "source": [
    "# КОД РЕВЬЮЕРА\n",
    "table.head(8)"
   ]
  },
  {
   "cell_type": "code",
   "execution_count": 46,
   "metadata": {},
   "outputs": [
    {
     "data": {
      "text/html": [
       "<div>\n",
       "<style scoped>\n",
       "    .dataframe tbody tr th:only-of-type {\n",
       "        vertical-align: middle;\n",
       "    }\n",
       "\n",
       "    .dataframe tbody tr th {\n",
       "        vertical-align: top;\n",
       "    }\n",
       "\n",
       "    .dataframe thead th {\n",
       "        text-align: right;\n",
       "    }\n",
       "</style>\n",
       "<table border=\"1\" class=\"dataframe\">\n",
       "  <thead>\n",
       "    <tr style=\"text-align: right;\">\n",
       "      <th></th>\n",
       "      <th>messages_included</th>\n",
       "      <th>mb_per_month_included</th>\n",
       "      <th>minutes_included</th>\n",
       "      <th>rub_monthly_fee</th>\n",
       "      <th>rub_per_gb</th>\n",
       "      <th>rub_per_message</th>\n",
       "      <th>rub_per_minute</th>\n",
       "      <th>tariff_name</th>\n",
       "    </tr>\n",
       "  </thead>\n",
       "  <tbody>\n",
       "    <tr>\n",
       "      <td>0</td>\n",
       "      <td>50</td>\n",
       "      <td>15360</td>\n",
       "      <td>500</td>\n",
       "      <td>550</td>\n",
       "      <td>200</td>\n",
       "      <td>3</td>\n",
       "      <td>3</td>\n",
       "      <td>smart</td>\n",
       "    </tr>\n",
       "    <tr>\n",
       "      <td>1</td>\n",
       "      <td>1000</td>\n",
       "      <td>30720</td>\n",
       "      <td>3000</td>\n",
       "      <td>1950</td>\n",
       "      <td>150</td>\n",
       "      <td>1</td>\n",
       "      <td>1</td>\n",
       "      <td>ultra</td>\n",
       "    </tr>\n",
       "  </tbody>\n",
       "</table>\n",
       "</div>"
      ],
      "text/plain": [
       "   messages_included  mb_per_month_included  minutes_included  \\\n",
       "0                 50                  15360               500   \n",
       "1               1000                  30720              3000   \n",
       "\n",
       "   rub_monthly_fee  rub_per_gb  rub_per_message  rub_per_minute tariff_name  \n",
       "0              550         200                3               3       smart  \n",
       "1             1950         150                1               1       ultra  "
      ]
     },
     "execution_count": 46,
     "metadata": {},
     "output_type": "execute_result"
    }
   ],
   "source": [
    "# КОД РЕВЬЮЕРА\n",
    "df_tariffs"
   ]
  },
  {
   "cell_type": "code",
   "execution_count": 47,
   "metadata": {},
   "outputs": [
    {
     "data": {
      "text/plain": [
       "500"
      ]
     },
     "execution_count": 47,
     "metadata": {},
     "output_type": "execute_result"
    }
   ],
   "source": [
    "# КОД РЕВЬЮЕРА\n",
    "\n",
    "# Как получить минуты для смарта:\n",
    "df_tariffs['minutes_included'][0]\n"
   ]
  },
  {
   "cell_type": "code",
   "execution_count": 48,
   "metadata": {},
   "outputs": [
    {
     "data": {
      "text/html": [
       "<div>\n",
       "<style scoped>\n",
       "    .dataframe tbody tr th:only-of-type {\n",
       "        vertical-align: middle;\n",
       "    }\n",
       "\n",
       "    .dataframe tbody tr th {\n",
       "        vertical-align: top;\n",
       "    }\n",
       "\n",
       "    .dataframe thead th {\n",
       "        text-align: right;\n",
       "    }\n",
       "</style>\n",
       "<table border=\"1\" class=\"dataframe\">\n",
       "  <thead>\n",
       "    <tr style=\"text-align: right;\">\n",
       "      <th></th>\n",
       "      <th>user_id</th>\n",
       "      <th>month</th>\n",
       "      <th>calls_num</th>\n",
       "      <th>min_sum</th>\n",
       "      <th>mess_sum</th>\n",
       "      <th>nr_sessions</th>\n",
       "      <th>mb_sum</th>\n",
       "      <th>tariff</th>\n",
       "      <th>city</th>\n",
       "      <th>total</th>\n",
       "    </tr>\n",
       "  </thead>\n",
       "  <tbody>\n",
       "    <tr>\n",
       "      <td>3824</td>\n",
       "      <td>1404</td>\n",
       "      <td>5.00</td>\n",
       "      <td>0.00</td>\n",
       "      <td>0.00</td>\n",
       "      <td>37.00</td>\n",
       "      <td>56.00</td>\n",
       "      <td>17,351.00</td>\n",
       "      <td>smart</td>\n",
       "      <td>Иркутск</td>\n",
       "      <td>950.00</td>\n",
       "    </tr>\n",
       "    <tr>\n",
       "      <td>3545</td>\n",
       "      <td>1149</td>\n",
       "      <td>5.00</td>\n",
       "      <td>0.00</td>\n",
       "      <td>0.00</td>\n",
       "      <td>34.00</td>\n",
       "      <td>39.00</td>\n",
       "      <td>10,607.00</td>\n",
       "      <td>smart</td>\n",
       "      <td>Мурманск</td>\n",
       "      <td>550.00</td>\n",
       "    </tr>\n",
       "  </tbody>\n",
       "</table>\n",
       "</div>"
      ],
      "text/plain": [
       "      user_id  month  calls_num  min_sum  mess_sum  nr_sessions    mb_sum  \\\n",
       "3824     1404   5.00       0.00     0.00     37.00        56.00 17,351.00   \n",
       "3545     1149   5.00       0.00     0.00     34.00        39.00 10,607.00   \n",
       "\n",
       "     tariff      city  total  \n",
       "3824  smart   Иркутск 950.00  \n",
       "3545  smart  Мурманск 550.00  "
      ]
     },
     "execution_count": 48,
     "metadata": {},
     "output_type": "execute_result"
    }
   ],
   "source": [
    "# КОД РЕВЬЮЕРА с доработкой ученика\n",
    "def func(data):\n",
    "\n",
    "    # Проверяем тариф в нашей таблиец table.\n",
    "    # От \n",
    "    if data['tariff'] == 'smart':\n",
    "        \n",
    "        # Считаем разницу. Берем значение из table и  сравниваем с таблицей тарифов.     \n",
    "        over_calls = np.ceil(data['min_sum']) - df_tariffs['minutes_included'][0]\n",
    "        over_messages = data['mess_sum'] - df_tariffs['messages_included'][0]\n",
    "        over_traffic = np.ceil((data['mb_sum'] - df_tariffs['mb_per_month_included'][0])/1024)\n",
    "        \n",
    "        # Дальше обнуляем отрицательные, как ты пишешь. То есть если нет превышения лимита.\n",
    "        if over_calls < 0:\n",
    "            over_calls = 0\n",
    "        if over_messages < 0:\n",
    "            over_messages = 0\n",
    "        if over_traffic < 0:\n",
    "            over_traffic = 0\n",
    "        \n",
    "        # Возвращаем сумму за перерасход + абонентскую плату.       \n",
    "        return round((df_tariffs['rub_monthly_fee'][0] + over_calls * df_tariffs['rub_per_minute'][0] \n",
    "                + over_messages * df_tariffs['rub_per_message'][0] + over_traffic * df_tariffs['rub_per_gb'][0]),2)\n",
    "        \n",
    "        \n",
    "    # Повторяем вычисления для другого тарифа.    \n",
    "    else:\n",
    "   \n",
    "        over_calls = np.ceil(data['min_sum']) - df_tariffs['minutes_included'][1]\n",
    "        over_messages = data['mess_sum'] - df_tariffs['messages_included'][1]\n",
    "        over_traffic = np.ceil((data['mb_sum'] - df_tariffs['mb_per_month_included'][1])/1024)\n",
    "        \n",
    "        if over_calls < 0:\n",
    "            over_calls = 0\n",
    "        if over_messages < 0:\n",
    "            over_messages = 0\n",
    "        if over_traffic < 0:\n",
    "            over_traffic = 0\n",
    "              \n",
    "        return round((df_tariffs['rub_monthly_fee'][1] + over_calls * df_tariffs['rub_per_minute'][1] \n",
    "                + over_messages * df_tariffs['rub_per_message'][1] + over_traffic * df_tariffs['rub_per_gb'][1]),2)\n",
    "    \n",
    "# От Ученика (чтобы уж как-то показать понимание процессов):\n",
    "#т.е. добавляем столбик total, в который складывается результат функции (func) в столбик axis=1)    \n",
    "table['total'] = table.apply(func, axis=1)   \n",
    "\n",
    "table.sample(2)"
   ]
  },
  {
   "cell_type": "markdown",
   "metadata": {},
   "source": [
    "<div class=\"alert alert-warning\" style=\"border-radius: 15px\">\n",
    "<b> Комментарий ревьюера 3</b>\n",
    "    \n",
    "Ситуацию с **mess_sum_x** я прокомментировала выше. Функция должна работать после изменений.\n",
    "</div>\n",
    "<div class=\"alert alert-block alert-info\">\n",
    "<b>от ученика\n",
    "    </b> \n",
    "ок!\n",
    "</div>"
   ]
  },
  {
   "cell_type": "markdown",
   "metadata": {},
   "source": [
    "<div class=\"alert alert-warning\" style=\"border-radius: 15px\">\n",
    "<b> Комментарий ревьюера 2</b>\n",
    "    \n",
    "- Пустые столбики предварительно создавать не нужно. \n",
    "- Не работает, потому что не используешь loc, а делаешь запрос как по индексу.   \n",
    "- Попробуй сделать это в функици. Я помогу, если не получится.\n",
    "- Не забудь округлить звонки вверх, как с Мб.\n",
    "</div>"
   ]
  },
  {
   "cell_type": "markdown",
   "metadata": {},
   "source": [
    "<div class=\"alert alert-warning\" style=\"border-radius: 15px\">\n",
    "<b> Комментарий ревьюера</b>\n",
    "    \n",
    "Квартили есть в методе **describe**\n",
    "</div>\n",
    "<div class=\"alert alert-block alert-info\">\n",
    "<b>V4\n",
    "    </b> \n",
    "я поняла: можно было ввести if c фильтрацией по условию, отдельно посчитать по 3 столбикам, а потом для них же сделать еще несколько строк с if c отбивкой внутри.\n",
    "    \n",
    "    Иначе говоря, если у меня не очень много разновидностей данных, для которых надо ввести функцию, то можно использовать логику if else c вложенными if.\n",
    "    \n",
    "    Apply удобно применять к столбикам. Формат применения df.apply(function, axis)\n",
    "</div>\n",
    "\n",
    "<div class=\"alert alert-warning\" style=\"border-radius: 15px\">\n",
    "<b> Комментарий ревьюера 4</b>\n",
    "    \n",
    "apply и по строкам работает. Смотри мои примеры выше.\n",
    "</div>\n",
    "\n",
    "<div class=\"alert alert-block alert-info\">\n",
    "<b>V5\n",
    "    </b> \n",
    "ага, я себе записала и буду пользоваться.\n",
    "    \n",
    "    \n",
    "    У меня есть алармическая новость: если всё более или менее ок, то мне надо бежать начинать сборный проект. Ребята говорят, там много, а я, как ты видишь, копуша. \n",
    "</div>\n",
    "\n",
    "<div class=\"alert alert-success\" style=\"border-radius: 15px\">\n",
    "<b> Комментарий ревьюера 5</b>\n",
    "    \n",
    "Сборный не такой большой. Самый трудный проект был второй, про квартиры. Там очень много всего..  :)\n",
    "</div>"
   ]
  },
  {
   "cell_type": "markdown",
   "metadata": {},
   "source": [
    "## Гипотезы о влиянии тарифа или города на среднюю выручку\n",
    "<a id='revenue'></a>"
   ]
  },
  {
   "cell_type": "markdown",
   "metadata": {},
   "source": [
    "Но: средняя выручка равна.\n",
    "\n",
    "Н1: средняя выручка по тарифам не равна.\n",
    "\n",
    "Альфа: пороговое значение в 5%.\n",
    "\n",
    "pvalue: вероятность ошибится, значение задано альфой."
   ]
  },
  {
   "cell_type": "code",
   "execution_count": 49,
   "metadata": {},
   "outputs": [
    {
     "name": "stdout",
     "output_type": "stream",
     "text": [
      "\n",
      "\n",
      "pvalue: 0.00\n",
      "Отвергаем нулевую гипотезу\n"
     ]
    }
   ],
   "source": [
    "smart_revenue = table.query('tariff == \"smart\"')['total']\n",
    "ultra_revenue = table.query('tariff == \"ultra\"')['total']\n",
    "\n",
    "alpha = 0.05  # критический уровень статистической значимости\n",
    "# если p-value окажется меньше него - отвергнем гипотезу\n",
    "\n",
    "results = st.ttest_ind(smart_revenue, ultra_revenue, equal_var = False)\n",
    "\n",
    "print('\\n')\n",
    "print('pvalue: {:.2f}'.format(results.pvalue))\n",
    "\n",
    "if results.pvalue < alpha:\n",
    "    print('Отвергаем нулевую гипотезу') # Нулевая гипотеза всегда о равенстве. Если p(t) меньше заданного уровня значимости, то нулевая гипотеза отвергается в пользу альтернативной. \n",
    "else:\n",
    "    print('Не получилось отвергнуть нулевую гипотезу') "
   ]
  },
  {
   "cell_type": "markdown",
   "metadata": {},
   "source": [
    "Приняв альтернативную гипотезу мы не ошибёмся: доход от тарифа разный. Разница между выборками статистически значима."
   ]
  },
  {
   "cell_type": "markdown",
   "metadata": {},
   "source": [
    "<div class=\"alert alert-danger\" style=\"border-radius: 15px\">\n",
    "<b> Комментарий ревьюера</b>\n",
    "    \n",
    "- Не обязательно приводить к **array**. Можешь сразу столбец и кидать в статистический тест. Убедись, что там нет Nan. \n",
    "- Почему нулевая гипотеза о том, что смарт лучше? Она ведь о равенстве средних. Отвергаем ее, значит, средние выборок не равны, а разница между ними не случайна и статистически значима.\n",
    "- Обрати внимание на столбец с доходом. Что-то не так, да? Об этом я подробно написала выше.\n",
    "</div>\n",
    "<div class=\"alert alert-block alert-info\">\n",
    "<b>V4\n",
    "    </b> \n",
    "- Ок\n",
    "</div>"
   ]
  },
  {
   "cell_type": "code",
   "execution_count": 50,
   "metadata": {},
   "outputs": [],
   "source": [
    "# КОД РЕВЬЮЕРА\n",
    "#df_total = pd.concat([df_smart, df_ultra], axis=0).reset_index()\n",
    "#df_total_msc = df_total[df_total['city'] == 'Москва']\n",
    "#df_total_othercities = df_total[df_total['city'] != 'Москва']"
   ]
  },
  {
   "cell_type": "markdown",
   "metadata": {},
   "source": [
    "Гипотеза: средняя выручка по Москве равна средней выручке по городам."
   ]
  },
  {
   "cell_type": "code",
   "execution_count": 51,
   "metadata": {},
   "outputs": [
    {
     "name": "stdout",
     "output_type": "stream",
     "text": [
      "p-значение: 0.80\n",
      "Не удалось отвергнуть нуль-гипотезу\n"
     ]
    }
   ],
   "source": [
    "df_total_msc = table.query('city == \"Москва\"')['total']\n",
    "df_total_othercities = table.query('city != \"Москва\"')['total']\n",
    "alpha = 0.05 # ваш код: задайте критический уровень статистической значимости\n",
    "\n",
    "results = st.ttest_ind(df_total_msc, df_total_othercities, equal_var = False) # ваш код: проведите тест и посчитайте p-значение\n",
    "#p-value показывает вероятность ошибки при альтернативной гипотезы\n",
    "print('p-значение: {:.2f}'.format(results.pvalue))\n",
    "\n",
    "if results.pvalue < alpha:\n",
    "    print(\"Отвергаем нуль-гипотезу\")\n",
    "else:\n",
    "    print(\"Не удалось отвергнуть нуль-гипотезу\")"
   ]
  },
  {
   "cell_type": "markdown",
   "metadata": {},
   "source": [
    "Приняв альтернативную гипотезу мы не ошибёмся: разница между выборками \"столица-другие города\" статистически значима."
   ]
  },
  {
   "cell_type": "markdown",
   "metadata": {},
   "source": [
    "<div class=\"alert alert-danger\" style=\"border-radius: 15px\">\n",
    "<b> Комментарий ревьюера</b>\n",
    "    \n",
    "Здесь то же самое. Откуда такая формулировка гипотез? \n",
    "</div>\n",
    "<div class=\"alert alert-block alert-info\">\n",
    "<b>V4\n",
    "    </b> \n",
    "Ок.\n",
    "</div>"
   ]
  },
  {
   "cell_type": "markdown",
   "metadata": {},
   "source": [
    "# Общий вывод\n",
    "<a id='genconcl'></a>"
   ]
  },
  {
   "cell_type": "markdown",
   "metadata": {},
   "source": [
    "Нам поставили задачу выяснить, какой тариф приносит больше выгоды компании. Наша подзадача: выявить точки роста и направления развития тарифов (вне основной задачи).\n",
    "\n",
    "Первое предварительное замечание. Изачальный датасет содержал 500 строк. При разделении таблиц по тарифам первое, что хочется отметить, это диспропорциональность представленности каждого из тарифов. Масштабирование, то есть нивелировка диспропорционального представления тарифов, не проводилось.Возможно, данные отображают действительные пропорции пользования.\n",
    "\n",
    "Второе предварительное замечание. Мы приняли решение рассчитывать с учётом абонентской платы, а не только экстра-выручку за превышение лимита по использованию пакетов услуг.\n",
    "\n",
    "Рассмотрим профили тарифов по опыту пользователей.\n",
    "\n",
    "- Интернет-потребление: Единичны случаи, когда интернетом не пользовались в обоих тарифах. Представленные пользователи тарифа \"Смарт\" в подавляющем большинстве пользуются интернетом в рамках тарифного плана.\n",
    "\n",
    "- Тариф \"Смарт\" -- выбор тех, кто звонит.\n",
    "\n",
    "- Сообщения: пользователи \"Ультра\" активнее смс-ят. \"Ультра\" -- для тех, кто отсылает сообщения. Но в целом сообщения -- параметр с наибольшим пропуском данных:\n",
    "\n",
    "Не отослали ни одного сообщения СМАРТ: 307\n",
    "\n",
    "Не отослали ни одного сообщения УЛЬТРА: 190\n",
    "\n",
    "Это может объясняться тем, что с появлением мессенджеров смс отходят на второй план.\n",
    "\n",
    "Оба тарифа приносят разный доход. И выручка по городам различается.\n",
    "\n",
    "Дальнейшее продвижение этих тарифов может быть более таргетированным: \"Ультра\" для тех, кто пользуется интернетом, \"Смарт\" для тех, кто больше разговаривает. Можно провести дополнительное исследование возраста пользователей обоих тарифов и соответственно придумать маркетинговую кампанию.\n",
    "\n"
   ]
  },
  {
   "cell_type": "code",
   "execution_count": null,
   "metadata": {},
   "outputs": [],
   "source": []
  }
 ],
 "metadata": {
  "kernelspec": {
   "display_name": "Python 3 (ipykernel)",
   "language": "python",
   "name": "python3"
  },
  "language_info": {
   "codemirror_mode": {
    "name": "ipython",
    "version": 3
   },
   "file_extension": ".py",
   "mimetype": "text/x-python",
   "name": "python",
   "nbconvert_exporter": "python",
   "pygments_lexer": "ipython3",
   "version": "3.9.5"
  },
  "toc": {
   "base_numbering": 1,
   "nav_menu": {
    "height": "263px",
    "width": "382.8px"
   },
   "number_sections": true,
   "sideBar": true,
   "skip_h1_title": true,
   "title_cell": "Table of Contents",
   "title_sidebar": "Contents",
   "toc_cell": false,
   "toc_position": {
    "height": "671.818px",
    "left": "122px",
    "top": "110.284px",
    "width": "264px"
   },
   "toc_section_display": true,
   "toc_window_display": true
  }
 },
 "nbformat": 4,
 "nbformat_minor": 2
}
