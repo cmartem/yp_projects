{
 "cells": [
  {
   "cell_type": "markdown",
   "metadata": {},
   "source": [
    "<div class=\"alert alert-block alert-info\">\n",
    "1st task: evaluate 9 hypotheses using ICE and RICE approaches.  \n",
    "\n",
    "</div>"
   ]
  },
  {
   "cell_type": "markdown",
   "metadata": {},
   "source": [
    "I. [Data preprocessing](#preproc) - we need the data to be brought to the required types and uniformity, otherwise it is difficult to filter.\n",
    "\n",
    "\n",
    "II. [Hypothesis prioritization](#hyps) on the Ice Rice methods to help managers decide which product hypothesis will hit the team the least but will (probably) bring the most value to the business.\n",
    "\n",
    "III. [Visualize data](#plots), pay attention to anomalies. Our task also includes this: to prevent hasty decisions from being made on the basis of superficial data analysis. This is what happens when you just look at charts. Catching mind traps.\n",
    "\n",
    "IV. Find [outliers](#outliers) that affect the result and interpretation of the graphs.\n",
    "\n",
    "V. We analyze [ab-test](#statsign), the threshold of statistical significance is 0.05. We look at whether we reject the null hypothesis (that groups A and B are equal) or whether there is reason to believe that there is a tangible difference. We clean the data and check what has changed.\n",
    "\n",
    "VII. We give our vision in [Results of the work] (#concl). We are trying to convince the \"decision makers\".\n"
   ]
  },
  {
   "cell_type": "code",
   "execution_count": 1,
   "metadata": {},
   "outputs": [],
   "source": [
    "import pandas as pd\n",
    "import numpy as np\n",
    "import datetime as dt\n",
    "pd.set_option('display.width', 1000)\n",
    "import matplotlib.pyplot as plt\n",
    "import scipy.stats as stats\n",
    "from scipy.stats import mannwhitneyu\n",
    "from pandas.plotting import register_matplotlib_converters\n",
    "from matplotlib.dates import DateFormatter\n",
    "from pandas.plotting import register_matplotlib_converters"
   ]
  },
  {
   "cell_type": "code",
   "execution_count": 2,
   "metadata": {},
   "outputs": [],
   "source": [
    "orders = pd.read_csv('/datasets/orders.csv')\n",
    "visitors = pd.read_csv('/datasets/visitors.csv')\n",
    "hyp = pd.read_csv('/datasets/hypothesis.csv')"
   ]
  },
  {
   "cell_type": "markdown",
   "metadata": {},
   "source": [
    "## Data Preprocessing\n",
    "Any intersections? Duplicates?\n",
    "<a class=\"anchor\" id=\"preproc\">"
   ]
  },
  {
   "cell_type": "code",
   "execution_count": 3,
   "metadata": {},
   "outputs": [
    {
     "data": {
      "text/html": [
       "<div>\n",
       "<style scoped>\n",
       "    .dataframe tbody tr th:only-of-type {\n",
       "        vertical-align: middle;\n",
       "    }\n",
       "\n",
       "    .dataframe tbody tr th {\n",
       "        vertical-align: top;\n",
       "    }\n",
       "\n",
       "    .dataframe thead th {\n",
       "        text-align: right;\n",
       "    }\n",
       "</style>\n",
       "<table border=\"1\" class=\"dataframe\">\n",
       "  <thead>\n",
       "    <tr style=\"text-align: right;\">\n",
       "      <th></th>\n",
       "      <th>transactionId</th>\n",
       "      <th>visitorId</th>\n",
       "      <th>date</th>\n",
       "      <th>revenue</th>\n",
       "      <th>group</th>\n",
       "    </tr>\n",
       "  </thead>\n",
       "  <tbody>\n",
       "    <tr>\n",
       "      <td>0</td>\n",
       "      <td>3667963787</td>\n",
       "      <td>3312258926</td>\n",
       "      <td>2019-08-15</td>\n",
       "      <td>1650</td>\n",
       "      <td>B</td>\n",
       "    </tr>\n",
       "    <tr>\n",
       "      <td>1</td>\n",
       "      <td>2804400009</td>\n",
       "      <td>3642806036</td>\n",
       "      <td>2019-08-15</td>\n",
       "      <td>730</td>\n",
       "      <td>B</td>\n",
       "    </tr>\n",
       "    <tr>\n",
       "      <td>2</td>\n",
       "      <td>2961555356</td>\n",
       "      <td>4069496402</td>\n",
       "      <td>2019-08-15</td>\n",
       "      <td>400</td>\n",
       "      <td>A</td>\n",
       "    </tr>\n",
       "  </tbody>\n",
       "</table>\n",
       "</div>"
      ],
      "text/plain": [
       "   transactionId   visitorId        date  revenue group\n",
       "0     3667963787  3312258926  2019-08-15     1650     B\n",
       "1     2804400009  3642806036  2019-08-15      730     B\n",
       "2     2961555356  4069496402  2019-08-15      400     A"
      ]
     },
     "metadata": {},
     "output_type": "display_data"
    }
   ],
   "source": [
    "display(orders.head(3))"
   ]
  },
  {
   "cell_type": "code",
   "execution_count": 4,
   "metadata": {},
   "outputs": [
    {
     "data": {
      "text/html": [
       "<div>\n",
       "<style scoped>\n",
       "    .dataframe tbody tr th:only-of-type {\n",
       "        vertical-align: middle;\n",
       "    }\n",
       "\n",
       "    .dataframe tbody tr th {\n",
       "        vertical-align: top;\n",
       "    }\n",
       "\n",
       "    .dataframe thead th {\n",
       "        text-align: right;\n",
       "    }\n",
       "</style>\n",
       "<table border=\"1\" class=\"dataframe\">\n",
       "  <thead>\n",
       "    <tr style=\"text-align: right;\">\n",
       "      <th></th>\n",
       "      <th>date</th>\n",
       "      <th>group</th>\n",
       "      <th>visitors</th>\n",
       "    </tr>\n",
       "  </thead>\n",
       "  <tbody>\n",
       "    <tr>\n",
       "      <td>0</td>\n",
       "      <td>2019-08-01</td>\n",
       "      <td>A</td>\n",
       "      <td>719</td>\n",
       "    </tr>\n",
       "    <tr>\n",
       "      <td>1</td>\n",
       "      <td>2019-08-02</td>\n",
       "      <td>A</td>\n",
       "      <td>619</td>\n",
       "    </tr>\n",
       "    <tr>\n",
       "      <td>2</td>\n",
       "      <td>2019-08-03</td>\n",
       "      <td>A</td>\n",
       "      <td>507</td>\n",
       "    </tr>\n",
       "  </tbody>\n",
       "</table>\n",
       "</div>"
      ],
      "text/plain": [
       "         date group  visitors\n",
       "0  2019-08-01     A       719\n",
       "1  2019-08-02     A       619\n",
       "2  2019-08-03     A       507"
      ]
     },
     "execution_count": 4,
     "metadata": {},
     "output_type": "execute_result"
    }
   ],
   "source": [
    "visitors.head(3)"
   ]
  },
  {
   "cell_type": "code",
   "execution_count": 5,
   "metadata": {},
   "outputs": [
    {
     "name": "stdout",
     "output_type": "stream",
     "text": [
      "set()\n",
      "set()\n",
      "set()\n"
     ]
    }
   ],
   "source": [
    "#Checking if there are any in both groups (set())\n",
    "compare=[]\n",
    "dfs = {'Заказы': orders, \n",
    "       'Посещения':visitors,\n",
    "      'Гипотезы': hyp}\n",
    "for x, y in dfs.items():\n",
    "    compare1=set(x).intersection(y)\n",
    "    print(compare1)"
   ]
  },
  {
   "cell_type": "code",
   "execution_count": 6,
   "metadata": {},
   "outputs": [
    {
     "name": "stdout",
     "output_type": "stream",
     "text": [
      "0     False\n",
      "1     False\n",
      "2     False\n",
      "3     False\n",
      "4     False\n",
      "      ...  \n",
      "57    False\n",
      "58    False\n",
      "59    False\n",
      "60    False\n",
      "61    False\n",
      "Length: 62, dtype: bool\n"
     ]
    },
    {
     "data": {
      "text/html": [
       "<div>\n",
       "<style scoped>\n",
       "    .dataframe tbody tr th:only-of-type {\n",
       "        vertical-align: middle;\n",
       "    }\n",
       "\n",
       "    .dataframe tbody tr th {\n",
       "        vertical-align: top;\n",
       "    }\n",
       "\n",
       "    .dataframe thead th {\n",
       "        text-align: right;\n",
       "    }\n",
       "</style>\n",
       "<table border=\"1\" class=\"dataframe\">\n",
       "  <thead>\n",
       "    <tr style=\"text-align: right;\">\n",
       "      <th></th>\n",
       "      <th>date</th>\n",
       "      <th>group</th>\n",
       "      <th>visitors</th>\n",
       "    </tr>\n",
       "  </thead>\n",
       "  <tbody>\n",
       "    <tr>\n",
       "      <td>0</td>\n",
       "      <td>False</td>\n",
       "      <td>False</td>\n",
       "      <td>False</td>\n",
       "    </tr>\n",
       "    <tr>\n",
       "      <td>1</td>\n",
       "      <td>False</td>\n",
       "      <td>False</td>\n",
       "      <td>False</td>\n",
       "    </tr>\n",
       "    <tr>\n",
       "      <td>2</td>\n",
       "      <td>False</td>\n",
       "      <td>False</td>\n",
       "      <td>False</td>\n",
       "    </tr>\n",
       "    <tr>\n",
       "      <td>3</td>\n",
       "      <td>False</td>\n",
       "      <td>False</td>\n",
       "      <td>False</td>\n",
       "    </tr>\n",
       "    <tr>\n",
       "      <td>4</td>\n",
       "      <td>False</td>\n",
       "      <td>False</td>\n",
       "      <td>False</td>\n",
       "    </tr>\n",
       "    <tr>\n",
       "      <td>...</td>\n",
       "      <td>...</td>\n",
       "      <td>...</td>\n",
       "      <td>...</td>\n",
       "    </tr>\n",
       "    <tr>\n",
       "      <td>57</td>\n",
       "      <td>False</td>\n",
       "      <td>False</td>\n",
       "      <td>False</td>\n",
       "    </tr>\n",
       "    <tr>\n",
       "      <td>58</td>\n",
       "      <td>False</td>\n",
       "      <td>False</td>\n",
       "      <td>False</td>\n",
       "    </tr>\n",
       "    <tr>\n",
       "      <td>59</td>\n",
       "      <td>False</td>\n",
       "      <td>False</td>\n",
       "      <td>False</td>\n",
       "    </tr>\n",
       "    <tr>\n",
       "      <td>60</td>\n",
       "      <td>False</td>\n",
       "      <td>False</td>\n",
       "      <td>False</td>\n",
       "    </tr>\n",
       "    <tr>\n",
       "      <td>61</td>\n",
       "      <td>False</td>\n",
       "      <td>False</td>\n",
       "      <td>False</td>\n",
       "    </tr>\n",
       "  </tbody>\n",
       "</table>\n",
       "<p>62 rows × 3 columns</p>\n",
       "</div>"
      ],
      "text/plain": [
       "     date  group  visitors\n",
       "0   False  False     False\n",
       "1   False  False     False\n",
       "2   False  False     False\n",
       "3   False  False     False\n",
       "4   False  False     False\n",
       "..    ...    ...       ...\n",
       "57  False  False     False\n",
       "58  False  False     False\n",
       "59  False  False     False\n",
       "60  False  False     False\n",
       "61  False  False     False\n",
       "\n",
       "[62 rows x 3 columns]"
      ]
     },
     "execution_count": 6,
     "metadata": {},
     "output_type": "execute_result"
    }
   ],
   "source": [
    "print(visitors.duplicated(keep=False))\n",
    "visitors.isna()"
   ]
  },
  {
   "cell_type": "code",
   "execution_count": 7,
   "metadata": {},
   "outputs": [
    {
     "data": {
      "text/html": [
       "<div>\n",
       "<style scoped>\n",
       "    .dataframe tbody tr th:only-of-type {\n",
       "        vertical-align: middle;\n",
       "    }\n",
       "\n",
       "    .dataframe tbody tr th {\n",
       "        vertical-align: top;\n",
       "    }\n",
       "\n",
       "    .dataframe thead th {\n",
       "        text-align: right;\n",
       "    }\n",
       "</style>\n",
       "<table border=\"1\" class=\"dataframe\">\n",
       "  <thead>\n",
       "    <tr style=\"text-align: right;\">\n",
       "      <th></th>\n",
       "      <th>transactionId</th>\n",
       "      <th>visitorId</th>\n",
       "      <th>revenue</th>\n",
       "    </tr>\n",
       "  </thead>\n",
       "  <tbody>\n",
       "    <tr>\n",
       "      <td>count</td>\n",
       "      <td>1.197000e+03</td>\n",
       "      <td>1.197000e+03</td>\n",
       "      <td>1.197000e+03</td>\n",
       "    </tr>\n",
       "    <tr>\n",
       "      <td>mean</td>\n",
       "      <td>2.155621e+09</td>\n",
       "      <td>2.165960e+09</td>\n",
       "      <td>8.348006e+03</td>\n",
       "    </tr>\n",
       "    <tr>\n",
       "      <td>std</td>\n",
       "      <td>1.229085e+09</td>\n",
       "      <td>1.236014e+09</td>\n",
       "      <td>3.919113e+04</td>\n",
       "    </tr>\n",
       "    <tr>\n",
       "      <td>min</td>\n",
       "      <td>1.062393e+06</td>\n",
       "      <td>5.114589e+06</td>\n",
       "      <td>5.000000e+01</td>\n",
       "    </tr>\n",
       "    <tr>\n",
       "      <td>20%</td>\n",
       "      <td>8.850109e+08</td>\n",
       "      <td>8.878313e+08</td>\n",
       "      <td>9.900000e+02</td>\n",
       "    </tr>\n",
       "    <tr>\n",
       "      <td>40%</td>\n",
       "      <td>1.734876e+09</td>\n",
       "      <td>1.763973e+09</td>\n",
       "      <td>2.210000e+03</td>\n",
       "    </tr>\n",
       "    <tr>\n",
       "      <td>50%</td>\n",
       "      <td>2.145194e+09</td>\n",
       "      <td>2.217985e+09</td>\n",
       "      <td>2.978000e+03</td>\n",
       "    </tr>\n",
       "    <tr>\n",
       "      <td>95%</td>\n",
       "      <td>4.067471e+09</td>\n",
       "      <td>4.080749e+09</td>\n",
       "      <td>2.800000e+04</td>\n",
       "    </tr>\n",
       "    <tr>\n",
       "      <td>99%</td>\n",
       "      <td>4.239148e+09</td>\n",
       "      <td>4.256040e+09</td>\n",
       "      <td>5.823320e+04</td>\n",
       "    </tr>\n",
       "    <tr>\n",
       "      <td>max</td>\n",
       "      <td>4.293856e+09</td>\n",
       "      <td>4.283872e+09</td>\n",
       "      <td>1.294500e+06</td>\n",
       "    </tr>\n",
       "  </tbody>\n",
       "</table>\n",
       "</div>"
      ],
      "text/plain": [
       "       transactionId     visitorId       revenue\n",
       "count   1.197000e+03  1.197000e+03  1.197000e+03\n",
       "mean    2.155621e+09  2.165960e+09  8.348006e+03\n",
       "std     1.229085e+09  1.236014e+09  3.919113e+04\n",
       "min     1.062393e+06  5.114589e+06  5.000000e+01\n",
       "20%     8.850109e+08  8.878313e+08  9.900000e+02\n",
       "40%     1.734876e+09  1.763973e+09  2.210000e+03\n",
       "50%     2.145194e+09  2.217985e+09  2.978000e+03\n",
       "95%     4.067471e+09  4.080749e+09  2.800000e+04\n",
       "99%     4.239148e+09  4.256040e+09  5.823320e+04\n",
       "max     4.293856e+09  4.283872e+09  1.294500e+06"
      ]
     },
     "execution_count": 7,
     "metadata": {},
     "output_type": "execute_result"
    }
   ],
   "source": [
    "perc_orders =[.20, .40, .95, .99]\n",
    "orders.describe(percentiles=perc_orders) #собственно, вот вам и выбросы) можно и не рисовать графики выбросов."
   ]
  },
  {
   "cell_type": "code",
   "execution_count": null,
   "metadata": {},
   "outputs": [],
   "source": [
    "# Percentiles overview"
   ]
  },
  {
   "cell_type": "code",
   "execution_count": 8,
   "metadata": {},
   "outputs": [
    {
     "data": {
      "text/plain": [
       "count    1.197000e+03\n",
       "mean     8.348006e+03\n",
       "std      3.919113e+04\n",
       "min      5.000000e+01\n",
       "20%      9.900000e+02\n",
       "40%      2.210000e+03\n",
       "50%      2.978000e+03\n",
       "95%      2.800000e+04\n",
       "99%      5.823320e+04\n",
       "max      1.294500e+06\n",
       "Name: revenue, dtype: float64"
      ]
     },
     "execution_count": 8,
     "metadata": {},
     "output_type": "execute_result"
    }
   ],
   "source": [
    "perc_orders =[.20, .40, .95, .99]\n",
    "orders['revenue'].describe(percentiles=perc_orders) #и по заказам тут тоже всё сразу видно 🐰 "
   ]
  },
  {
   "cell_type": "code",
   "execution_count": 9,
   "metadata": {},
   "outputs": [
    {
     "name": "stdout",
     "output_type": "stream",
     "text": [
      "0       False\n",
      "1       False\n",
      "2       False\n",
      "3       False\n",
      "4       False\n",
      "        ...  \n",
      "1192    False\n",
      "1193    False\n",
      "1194    False\n",
      "1195    False\n",
      "1196    False\n",
      "Length: 1197, dtype: bool\n"
     ]
    },
    {
     "data": {
      "text/html": [
       "<div>\n",
       "<style scoped>\n",
       "    .dataframe tbody tr th:only-of-type {\n",
       "        vertical-align: middle;\n",
       "    }\n",
       "\n",
       "    .dataframe tbody tr th {\n",
       "        vertical-align: top;\n",
       "    }\n",
       "\n",
       "    .dataframe thead th {\n",
       "        text-align: right;\n",
       "    }\n",
       "</style>\n",
       "<table border=\"1\" class=\"dataframe\">\n",
       "  <thead>\n",
       "    <tr style=\"text-align: right;\">\n",
       "      <th></th>\n",
       "      <th>transactionId</th>\n",
       "      <th>visitorId</th>\n",
       "      <th>date</th>\n",
       "      <th>revenue</th>\n",
       "      <th>group</th>\n",
       "    </tr>\n",
       "  </thead>\n",
       "  <tbody>\n",
       "    <tr>\n",
       "      <td>0</td>\n",
       "      <td>False</td>\n",
       "      <td>False</td>\n",
       "      <td>False</td>\n",
       "      <td>False</td>\n",
       "      <td>False</td>\n",
       "    </tr>\n",
       "    <tr>\n",
       "      <td>1</td>\n",
       "      <td>False</td>\n",
       "      <td>False</td>\n",
       "      <td>False</td>\n",
       "      <td>False</td>\n",
       "      <td>False</td>\n",
       "    </tr>\n",
       "    <tr>\n",
       "      <td>2</td>\n",
       "      <td>False</td>\n",
       "      <td>False</td>\n",
       "      <td>False</td>\n",
       "      <td>False</td>\n",
       "      <td>False</td>\n",
       "    </tr>\n",
       "    <tr>\n",
       "      <td>3</td>\n",
       "      <td>False</td>\n",
       "      <td>False</td>\n",
       "      <td>False</td>\n",
       "      <td>False</td>\n",
       "      <td>False</td>\n",
       "    </tr>\n",
       "    <tr>\n",
       "      <td>4</td>\n",
       "      <td>False</td>\n",
       "      <td>False</td>\n",
       "      <td>False</td>\n",
       "      <td>False</td>\n",
       "      <td>False</td>\n",
       "    </tr>\n",
       "    <tr>\n",
       "      <td>...</td>\n",
       "      <td>...</td>\n",
       "      <td>...</td>\n",
       "      <td>...</td>\n",
       "      <td>...</td>\n",
       "      <td>...</td>\n",
       "    </tr>\n",
       "    <tr>\n",
       "      <td>1192</td>\n",
       "      <td>False</td>\n",
       "      <td>False</td>\n",
       "      <td>False</td>\n",
       "      <td>False</td>\n",
       "      <td>False</td>\n",
       "    </tr>\n",
       "    <tr>\n",
       "      <td>1193</td>\n",
       "      <td>False</td>\n",
       "      <td>False</td>\n",
       "      <td>False</td>\n",
       "      <td>False</td>\n",
       "      <td>False</td>\n",
       "    </tr>\n",
       "    <tr>\n",
       "      <td>1194</td>\n",
       "      <td>False</td>\n",
       "      <td>False</td>\n",
       "      <td>False</td>\n",
       "      <td>False</td>\n",
       "      <td>False</td>\n",
       "    </tr>\n",
       "    <tr>\n",
       "      <td>1195</td>\n",
       "      <td>False</td>\n",
       "      <td>False</td>\n",
       "      <td>False</td>\n",
       "      <td>False</td>\n",
       "      <td>False</td>\n",
       "    </tr>\n",
       "    <tr>\n",
       "      <td>1196</td>\n",
       "      <td>False</td>\n",
       "      <td>False</td>\n",
       "      <td>False</td>\n",
       "      <td>False</td>\n",
       "      <td>False</td>\n",
       "    </tr>\n",
       "  </tbody>\n",
       "</table>\n",
       "<p>1197 rows × 5 columns</p>\n",
       "</div>"
      ],
      "text/plain": [
       "      transactionId  visitorId   date  revenue  group\n",
       "0             False      False  False    False  False\n",
       "1             False      False  False    False  False\n",
       "2             False      False  False    False  False\n",
       "3             False      False  False    False  False\n",
       "4             False      False  False    False  False\n",
       "...             ...        ...    ...      ...    ...\n",
       "1192          False      False  False    False  False\n",
       "1193          False      False  False    False  False\n",
       "1194          False      False  False    False  False\n",
       "1195          False      False  False    False  False\n",
       "1196          False      False  False    False  False\n",
       "\n",
       "[1197 rows x 5 columns]"
      ]
     },
     "execution_count": 9,
     "metadata": {},
     "output_type": "execute_result"
    }
   ],
   "source": [
    "print(orders.duplicated(keep=False))\n",
    "orders.isna()"
   ]
  },
  {
   "cell_type": "code",
   "execution_count": 10,
   "metadata": {},
   "outputs": [],
   "source": [
    "#for_intersection = pd.DataFrame(orders.groupby('date')['visitorId'].agg('count'))\n",
    "#visitors.head()"
   ]
  },
  {
   "cell_type": "code",
   "execution_count": 11,
   "metadata": {},
   "outputs": [],
   "source": [
    "#visitors.describe()"
   ]
  },
  {
   "cell_type": "markdown",
   "metadata": {},
   "source": [
    "## Hypothesis prioritization\n",
    "Can we improve anything on landing?\n",
    "\n",
    "<a class=\"anchor\" id=\"hyps\">"
   ]
  },
  {
   "cell_type": "code",
   "execution_count": 12,
   "metadata": {},
   "outputs": [],
   "source": [
    "# Hypothesis received"
   ]
  },
  {
   "cell_type": "code",
   "execution_count": 13,
   "metadata": {},
   "outputs": [
    {
     "name": "stdout",
     "output_type": "stream",
     "text": [
      "['Запустить акцию, дающую скидку на товар в день рождения', 'Добавить два новых канала привлечения трафика, что позволит привлекать на 30% больше пользователей', 'Добавить форму подписки на все основные страницы, чтобы собрать базу клиентов для email-рассылок']\n"
     ]
    }
   ],
   "source": [
    "hyp['ICE'] = (hyp['Impact'] * hyp['Confidence']) / hyp['Efforts']\n",
    "with pd.option_context('display.max_colwidth', 0):\n",
    "    print(hyp[['Hypothesis', 'ICE']].sort_values(by='ICE', ascending = False)['Hypothesis'].head(3).tolist())"
   ]
  },
  {
   "cell_type": "markdown",
   "metadata": {},
   "source": [
    "Translation: 'Launch a birthday discount promotion', 'Add two new traffic acquisition channels to generate 30% more users', 'Add a subscription form to all main pages to build a customer base for email newsletters'"
   ]
  },
  {
   "cell_type": "markdown",
   "metadata": {},
   "source": [
    "<a id = 'ice'>"
   ]
  },
  {
   "cell_type": "markdown",
   "metadata": {},
   "source": [
    "### Preliminary conclusions ICE\n",
    "\n",
    "Applying the ICE method, we can conclude that according to the Impact of the hypothesis:\n",
    "- 'Start a birthday discount promotion',\n",
    "- 'Add two new channels to attract traffic, which will attract 30% more users',\n",
    "- 'Add a subscription form to all main pages to build a customer base for email newsletters'."
   ]
  },
  {
   "cell_type": "markdown",
   "metadata": {},
   "source": [
    "### RICE method"
   ]
  },
  {
   "cell_type": "code",
   "execution_count": 14,
   "metadata": {
    "scrolled": true
   },
   "outputs": [
    {
     "name": "stdout",
     "output_type": "stream",
     "text": [
      "['Добавить форму подписки на все основные страницы, чтобы собрать базу клиентов для email-рассылок', 'Добавить блоки рекомендаций товаров на сайт интернет магазина, чтобы повысить конверсию и средний чек заказа', 'Добавить два новых канала привлечения трафика, что позволит привлекать на 30% больше пользователей']\n"
     ]
    }
   ],
   "source": [
    "hyp['RICE'] = (hyp['Reach'] * hyp['Impact'] * hyp['Confidence']) / hyp['Efforts']\n",
    "with pd.option_context('display.max_colwidth', 0):\n",
    "    print(hyp[['Hypothesis', 'RICE']].sort_values(by='RICE', ascending = False)['Hypothesis'].head(3).tolist())\n"
   ]
  },
  {
   "cell_type": "markdown",
   "metadata": {},
   "source": [
    "Translation: 'Add a subscription form to all main pages to collect a customer base for email newsletters', 'Add product recommendation blocks to the online store website to increase conversion and average check of the order', 'Add two new traffic acquisition channels, which will attract 30% more users'"
   ]
  },
  {
   "cell_type": "code",
   "execution_count": 15,
   "metadata": {},
   "outputs": [
    {
     "data": {
      "text/html": [
       "<div>\n",
       "<style scoped>\n",
       "    .dataframe tbody tr th:only-of-type {\n",
       "        vertical-align: middle;\n",
       "    }\n",
       "\n",
       "    .dataframe tbody tr th {\n",
       "        vertical-align: top;\n",
       "    }\n",
       "\n",
       "    .dataframe thead th {\n",
       "        text-align: right;\n",
       "    }\n",
       "</style>\n",
       "<table border=\"1\" class=\"dataframe\">\n",
       "  <thead>\n",
       "    <tr style=\"text-align: right;\">\n",
       "      <th></th>\n",
       "      <th>Hypothesis</th>\n",
       "      <th>Reach</th>\n",
       "      <th>Impact</th>\n",
       "      <th>Confidence</th>\n",
       "      <th>Efforts</th>\n",
       "      <th>ICE</th>\n",
       "      <th>RICE</th>\n",
       "    </tr>\n",
       "  </thead>\n",
       "  <tbody>\n",
       "    <tr>\n",
       "      <td>4</td>\n",
       "      <td>Изменить цвет фона главной страницы, чтобы уве...</td>\n",
       "      <td>3</td>\n",
       "      <td>1</td>\n",
       "      <td>1</td>\n",
       "      <td>1</td>\n",
       "      <td>1.000000</td>\n",
       "      <td>3.0</td>\n",
       "    </tr>\n",
       "    <tr>\n",
       "      <td>3</td>\n",
       "      <td>Изменить структура категорий, что увеличит кон...</td>\n",
       "      <td>8</td>\n",
       "      <td>3</td>\n",
       "      <td>3</td>\n",
       "      <td>8</td>\n",
       "      <td>1.125000</td>\n",
       "      <td>9.0</td>\n",
       "    </tr>\n",
       "    <tr>\n",
       "      <td>5</td>\n",
       "      <td>Добавить страницу отзывов клиентов о магазине,...</td>\n",
       "      <td>3</td>\n",
       "      <td>2</td>\n",
       "      <td>2</td>\n",
       "      <td>3</td>\n",
       "      <td>1.333333</td>\n",
       "      <td>4.0</td>\n",
       "    </tr>\n",
       "    <tr>\n",
       "      <td>1</td>\n",
       "      <td>Запустить собственную службу доставки, что сок...</td>\n",
       "      <td>2</td>\n",
       "      <td>5</td>\n",
       "      <td>4</td>\n",
       "      <td>10</td>\n",
       "      <td>2.000000</td>\n",
       "      <td>4.0</td>\n",
       "    </tr>\n",
       "    <tr>\n",
       "      <td>2</td>\n",
       "      <td>Добавить блоки рекомендаций товаров на сайт ин...</td>\n",
       "      <td>8</td>\n",
       "      <td>3</td>\n",
       "      <td>7</td>\n",
       "      <td>3</td>\n",
       "      <td>7.000000</td>\n",
       "      <td>56.0</td>\n",
       "    </tr>\n",
       "    <tr>\n",
       "      <td>6</td>\n",
       "      <td>Показать на главной странице баннеры с актуаль...</td>\n",
       "      <td>5</td>\n",
       "      <td>3</td>\n",
       "      <td>8</td>\n",
       "      <td>3</td>\n",
       "      <td>8.000000</td>\n",
       "      <td>40.0</td>\n",
       "    </tr>\n",
       "    <tr>\n",
       "      <td>7</td>\n",
       "      <td>Добавить форму подписки на все основные страни...</td>\n",
       "      <td>10</td>\n",
       "      <td>7</td>\n",
       "      <td>8</td>\n",
       "      <td>5</td>\n",
       "      <td>11.200000</td>\n",
       "      <td>112.0</td>\n",
       "    </tr>\n",
       "    <tr>\n",
       "      <td>0</td>\n",
       "      <td>Добавить два новых канала привлечения трафика,...</td>\n",
       "      <td>3</td>\n",
       "      <td>10</td>\n",
       "      <td>8</td>\n",
       "      <td>6</td>\n",
       "      <td>13.333333</td>\n",
       "      <td>40.0</td>\n",
       "    </tr>\n",
       "    <tr>\n",
       "      <td>8</td>\n",
       "      <td>Запустить акцию, дающую скидку на товар в день...</td>\n",
       "      <td>1</td>\n",
       "      <td>9</td>\n",
       "      <td>9</td>\n",
       "      <td>5</td>\n",
       "      <td>16.200000</td>\n",
       "      <td>16.2</td>\n",
       "    </tr>\n",
       "  </tbody>\n",
       "</table>\n",
       "</div>"
      ],
      "text/plain": [
       "                                          Hypothesis  Reach  Impact  Confidence  Efforts        ICE   RICE\n",
       "4  Изменить цвет фона главной страницы, чтобы уве...      3       1           1        1   1.000000    3.0\n",
       "3  Изменить структура категорий, что увеличит кон...      8       3           3        8   1.125000    9.0\n",
       "5  Добавить страницу отзывов клиентов о магазине,...      3       2           2        3   1.333333    4.0\n",
       "1  Запустить собственную службу доставки, что сок...      2       5           4       10   2.000000    4.0\n",
       "2  Добавить блоки рекомендаций товаров на сайт ин...      8       3           7        3   7.000000   56.0\n",
       "6  Показать на главной странице баннеры с актуаль...      5       3           8        3   8.000000   40.0\n",
       "7  Добавить форму подписки на все основные страни...     10       7           8        5  11.200000  112.0\n",
       "0  Добавить два новых канала привлечения трафика,...      3      10           8        6  13.333333   40.0\n",
       "8  Запустить акцию, дающую скидку на товар в день...      1       9           9        5  16.200000   16.2"
      ]
     },
     "execution_count": 15,
     "metadata": {},
     "output_type": "execute_result"
    }
   ],
   "source": [
    "hyp.sort_values('ICE')"
   ]
  },
  {
   "cell_type": "code",
   "execution_count": 16,
   "metadata": {},
   "outputs": [
    {
     "data": {
      "text/html": [
       "<div>\n",
       "<style scoped>\n",
       "    .dataframe tbody tr th:only-of-type {\n",
       "        vertical-align: middle;\n",
       "    }\n",
       "\n",
       "    .dataframe tbody tr th {\n",
       "        vertical-align: top;\n",
       "    }\n",
       "\n",
       "    .dataframe thead th {\n",
       "        text-align: right;\n",
       "    }\n",
       "</style>\n",
       "<table border=\"1\" class=\"dataframe\">\n",
       "  <thead>\n",
       "    <tr style=\"text-align: right;\">\n",
       "      <th></th>\n",
       "      <th>Hypothesis</th>\n",
       "      <th>Reach</th>\n",
       "      <th>Impact</th>\n",
       "      <th>Confidence</th>\n",
       "      <th>Efforts</th>\n",
       "      <th>ICE</th>\n",
       "      <th>RICE</th>\n",
       "    </tr>\n",
       "  </thead>\n",
       "  <tbody>\n",
       "    <tr>\n",
       "      <td>4</td>\n",
       "      <td>Изменить цвет фона главной страницы, чтобы уве...</td>\n",
       "      <td>3</td>\n",
       "      <td>1</td>\n",
       "      <td>1</td>\n",
       "      <td>1</td>\n",
       "      <td>1.000000</td>\n",
       "      <td>3.0</td>\n",
       "    </tr>\n",
       "    <tr>\n",
       "      <td>1</td>\n",
       "      <td>Запустить собственную службу доставки, что сок...</td>\n",
       "      <td>2</td>\n",
       "      <td>5</td>\n",
       "      <td>4</td>\n",
       "      <td>10</td>\n",
       "      <td>2.000000</td>\n",
       "      <td>4.0</td>\n",
       "    </tr>\n",
       "    <tr>\n",
       "      <td>5</td>\n",
       "      <td>Добавить страницу отзывов клиентов о магазине,...</td>\n",
       "      <td>3</td>\n",
       "      <td>2</td>\n",
       "      <td>2</td>\n",
       "      <td>3</td>\n",
       "      <td>1.333333</td>\n",
       "      <td>4.0</td>\n",
       "    </tr>\n",
       "    <tr>\n",
       "      <td>3</td>\n",
       "      <td>Изменить структура категорий, что увеличит кон...</td>\n",
       "      <td>8</td>\n",
       "      <td>3</td>\n",
       "      <td>3</td>\n",
       "      <td>8</td>\n",
       "      <td>1.125000</td>\n",
       "      <td>9.0</td>\n",
       "    </tr>\n",
       "    <tr>\n",
       "      <td>8</td>\n",
       "      <td>Запустить акцию, дающую скидку на товар в день...</td>\n",
       "      <td>1</td>\n",
       "      <td>9</td>\n",
       "      <td>9</td>\n",
       "      <td>5</td>\n",
       "      <td>16.200000</td>\n",
       "      <td>16.2</td>\n",
       "    </tr>\n",
       "    <tr>\n",
       "      <td>0</td>\n",
       "      <td>Добавить два новых канала привлечения трафика,...</td>\n",
       "      <td>3</td>\n",
       "      <td>10</td>\n",
       "      <td>8</td>\n",
       "      <td>6</td>\n",
       "      <td>13.333333</td>\n",
       "      <td>40.0</td>\n",
       "    </tr>\n",
       "    <tr>\n",
       "      <td>6</td>\n",
       "      <td>Показать на главной странице баннеры с актуаль...</td>\n",
       "      <td>5</td>\n",
       "      <td>3</td>\n",
       "      <td>8</td>\n",
       "      <td>3</td>\n",
       "      <td>8.000000</td>\n",
       "      <td>40.0</td>\n",
       "    </tr>\n",
       "    <tr>\n",
       "      <td>2</td>\n",
       "      <td>Добавить блоки рекомендаций товаров на сайт ин...</td>\n",
       "      <td>8</td>\n",
       "      <td>3</td>\n",
       "      <td>7</td>\n",
       "      <td>3</td>\n",
       "      <td>7.000000</td>\n",
       "      <td>56.0</td>\n",
       "    </tr>\n",
       "    <tr>\n",
       "      <td>7</td>\n",
       "      <td>Добавить форму подписки на все основные страни...</td>\n",
       "      <td>10</td>\n",
       "      <td>7</td>\n",
       "      <td>8</td>\n",
       "      <td>5</td>\n",
       "      <td>11.200000</td>\n",
       "      <td>112.0</td>\n",
       "    </tr>\n",
       "  </tbody>\n",
       "</table>\n",
       "</div>"
      ],
      "text/plain": [
       "                                          Hypothesis  Reach  Impact  Confidence  Efforts        ICE   RICE\n",
       "4  Изменить цвет фона главной страницы, чтобы уве...      3       1           1        1   1.000000    3.0\n",
       "1  Запустить собственную службу доставки, что сок...      2       5           4       10   2.000000    4.0\n",
       "5  Добавить страницу отзывов клиентов о магазине,...      3       2           2        3   1.333333    4.0\n",
       "3  Изменить структура категорий, что увеличит кон...      8       3           3        8   1.125000    9.0\n",
       "8  Запустить акцию, дающую скидку на товар в день...      1       9           9        5  16.200000   16.2\n",
       "0  Добавить два новых канала привлечения трафика,...      3      10           8        6  13.333333   40.0\n",
       "6  Показать на главной странице баннеры с актуаль...      5       3           8        3   8.000000   40.0\n",
       "2  Добавить блоки рекомендаций товаров на сайт ин...      8       3           7        3   7.000000   56.0\n",
       "7  Добавить форму подписки на все основные страни...     10       7           8        5  11.200000  112.0"
      ]
     },
     "execution_count": 16,
     "metadata": {},
     "output_type": "execute_result"
    }
   ],
   "source": [
    "hyp.sort_values('RICE')"
   ]
  },
  {
   "cell_type": "markdown",
   "metadata": {},
   "source": [
    "### Preliminary results on RICE\n",
    "Applying the RICE method, we can conclude that the priority hypotheses will be:\n",
    "- 'Add a subscription form to all main pages to build a customer base for email newsletters',\n",
    "- 'Add product recommendation blocks to the website of the online store to increase the conversion and the average check of the order',\n",
    "- 'Add two new channels to attract traffic, which will attract 30% more users'"
   ]
  },
  {
   "cell_type": "markdown",
   "metadata": {},
   "source": [
    "## Анализ A/B-теста\n",
    "\n"
   ]
  },
  {
   "cell_type": "markdown",
   "metadata": {},
   "source": [
    "### Preprocessing (dates, outliers detection)"
   ]
  },
  {
   "cell_type": "code",
   "execution_count": 17,
   "metadata": {},
   "outputs": [
    {
     "data": {
      "text/html": [
       "<div>\n",
       "<style scoped>\n",
       "    .dataframe tbody tr th:only-of-type {\n",
       "        vertical-align: middle;\n",
       "    }\n",
       "\n",
       "    .dataframe tbody tr th {\n",
       "        vertical-align: top;\n",
       "    }\n",
       "\n",
       "    .dataframe thead th {\n",
       "        text-align: right;\n",
       "    }\n",
       "</style>\n",
       "<table border=\"1\" class=\"dataframe\">\n",
       "  <thead>\n",
       "    <tr style=\"text-align: right;\">\n",
       "      <th></th>\n",
       "      <th>transactionId</th>\n",
       "      <th>visitorId</th>\n",
       "      <th>date</th>\n",
       "      <th>revenue</th>\n",
       "      <th>group</th>\n",
       "    </tr>\n",
       "  </thead>\n",
       "  <tbody>\n",
       "    <tr>\n",
       "      <td>0</td>\n",
       "      <td>3667963787</td>\n",
       "      <td>3312258926</td>\n",
       "      <td>2019-08-15</td>\n",
       "      <td>1650</td>\n",
       "      <td>B</td>\n",
       "    </tr>\n",
       "    <tr>\n",
       "      <td>1</td>\n",
       "      <td>2804400009</td>\n",
       "      <td>3642806036</td>\n",
       "      <td>2019-08-15</td>\n",
       "      <td>730</td>\n",
       "      <td>B</td>\n",
       "    </tr>\n",
       "    <tr>\n",
       "      <td>2</td>\n",
       "      <td>2961555356</td>\n",
       "      <td>4069496402</td>\n",
       "      <td>2019-08-15</td>\n",
       "      <td>400</td>\n",
       "      <td>A</td>\n",
       "    </tr>\n",
       "    <tr>\n",
       "      <td>3</td>\n",
       "      <td>3797467345</td>\n",
       "      <td>1196621759</td>\n",
       "      <td>2019-08-15</td>\n",
       "      <td>9759</td>\n",
       "      <td>B</td>\n",
       "    </tr>\n",
       "    <tr>\n",
       "      <td>4</td>\n",
       "      <td>2282983706</td>\n",
       "      <td>2322279887</td>\n",
       "      <td>2019-08-15</td>\n",
       "      <td>2308</td>\n",
       "      <td>B</td>\n",
       "    </tr>\n",
       "  </tbody>\n",
       "</table>\n",
       "</div>"
      ],
      "text/plain": [
       "   transactionId   visitorId       date  revenue group\n",
       "0     3667963787  3312258926 2019-08-15     1650     B\n",
       "1     2804400009  3642806036 2019-08-15      730     B\n",
       "2     2961555356  4069496402 2019-08-15      400     A\n",
       "3     3797467345  1196621759 2019-08-15     9759     B\n",
       "4     2282983706  2322279887 2019-08-15     2308     B"
      ]
     },
     "execution_count": 17,
     "metadata": {},
     "output_type": "execute_result"
    }
   ],
   "source": [
    "# даты проведения АВ теста по \n",
    "orders['date'] = pd.to_datetime(orders['date'], format='%Y-%m-%d')\n",
    "orders.head()"
   ]
  },
  {
   "cell_type": "code",
   "execution_count": 18,
   "metadata": {},
   "outputs": [],
   "source": [
    "# Outlier found and eliminated\n",
    "orders = orders[orders['revenue']<1294500]"
   ]
  },
  {
   "cell_type": "code",
   "execution_count": null,
   "metadata": {},
   "outputs": [],
   "source": []
  },
  {
   "cell_type": "markdown",
   "metadata": {},
   "source": [
    "## Difference between groups\n",
    "<a class=\"anchor\" id=\"compare\">\n",
    "    \n",
    "This information can be conveyed to managers. I proceeded from the fact that these parameters were taken into account during the ab-test. Because before the start of the ab-test <a href='https://radar-research.ru/software/z-test_calculator/'>it was possible to use an available calculator</a>. Usually, at least this is done before the start of the ab-test, this is a necessary formality.\n",
    "\n",
    "It happens that the disproportion in the samples can distort the interpretation of the data. The so-called Type I error. <a href='https://en.wikipedia.org/wiki/Type_I_and_type_II_errors'>Read here</a>.\n",
    "\n",
    "\n"
   ]
  },
  {
   "cell_type": "code",
   "execution_count": 19,
   "metadata": {},
   "outputs": [
    {
     "name": "stdout",
     "output_type": "stream",
     "text": [
      "18736 , 18916\n"
     ]
    }
   ],
   "source": [
    "visAcount = visitors[visitors['group']=='A']['visitors'].sum().astype(int)\n",
    "visBcount = visitors[visitors['group']=='B']['visitors'].sum().astype(int)\n",
    "print(visAcount, ',',  visBcount)"
   ]
  },
  {
   "cell_type": "markdown",
   "metadata": {},
   "source": [
    "The number of visitors in group A and group B is almost the same, but we need to check with statistics. I will go the easy way: <a href='https://radar-research.ru/software/z-test_calculator/'> looked here</a>. Below is the search for clients who have flown into both groups, and making a decision whether to remove them or not."
   ]
  },
  {
   "cell_type": "code",
   "execution_count": 20,
   "metadata": {},
   "outputs": [],
   "source": [
    "intersections = pd.DataFrame(orders.groupby('visitorId')['group'].agg('unique'))"
   ]
  },
  {
   "cell_type": "code",
   "execution_count": 21,
   "metadata": {},
   "outputs": [
    {
     "name": "stdout",
     "output_type": "stream",
     "text": [
      "             group\n",
      "visitorId         \n",
      "8300375     [B, A]\n",
      "199603092   [A, B]\n",
      "232979603   [B, A]\n",
      "237748145   [B, A]\n",
      "276558944   [B, A]\n",
      "351125977   [B, A]\n",
      "393266494   [A, B]\n",
      "457167155   [B, A]\n",
      "471551937   [A, B]\n",
      "477780734   [A, B]\n",
      "818047933   [A, B]\n",
      "963407295   [B, A]\n",
      "1230306981  [A, B]\n",
      "1294878855  [B, A]\n",
      "1316129916  [A, B]\n",
      "1333886533  [A, B]\n",
      "1404934699  [B, A]\n",
      "1602967004  [B, A]\n",
      "1614305549  [B, A]\n",
      "1648269707  [B, A]\n",
      "1668030113  [B, A]\n",
      "1738359350  [A, B]\n",
      "1801183820  [B, A]\n",
      "1959144690  [A, B]\n",
      "2038680547  [B, A]\n",
      "2044997962  [A, B]\n",
      "2378935119  [A, B]\n",
      "2458001652  [A, B]\n",
      "2579882178  [A, B]\n",
      "2587333274  [B, A]\n",
      "2600415354  [B, A]\n",
      "2654030115  [B, A]\n",
      "2686716486  [A, B]\n",
      "2712142231  [B, A]\n",
      "2716752286  [B, A]\n",
      "2780786433  [A, B]\n",
      "2927087541  [A, B]\n",
      "2949041841  [A, B]\n",
      "2954449915  [A, B]\n",
      "3062433592  [B, A]\n",
      "3202540741  [A, B]\n",
      "3234906277  [B, A]\n",
      "3656415546  [A, B]\n",
      "3717692402  [B, A]\n",
      "3766097110  [A, B]\n",
      "3803269165  [A, B]\n",
      "3891541246  [A, B]\n",
      "3941795274  [A, B]\n",
      "3951559397  [B, A]\n",
      "3957174400  [A, B]\n",
      "3963646447  [A, B]\n",
      "3972127743  [B, A]\n",
      "3984495233  [B, A]\n",
      "4069496402  [A, B]\n",
      "4120364173  [A, B]\n",
      "4186807279  [B, A]\n",
      "4256040402  [B, A]\n",
      "4266935830  [A, B]\n",
      "group    58\n",
      "dtype: int64\n"
     ]
    },
    {
     "data": {
      "text/plain": [
       "0.048494983277591976"
      ]
     },
     "execution_count": 21,
     "metadata": {},
     "output_type": "execute_result"
    }
   ],
   "source": [
    "intersectionAB = intersections[intersections.group.map(len)>1]\n",
    "print(intersectionAB)\n",
    "print(intersectionAB.count())\n",
    "\n",
    "len(intersectionAB)/len(orders)"
   ]
  },
  {
   "cell_type": "markdown",
   "metadata": {},
   "source": [
    "\n",
    "The share of those who flew into A and B is less than 5%, I think, let them stay.\n",
    "\n",
    "→ Another approach: `set — list(set(orders.query('group ==\"A\"')['visitorId']) & set(orders.query('group ==\"B\"')['visitorId']))`\n",
    "\n",
    "→ Yet another approach: `.agg('nunique') and immediately get the number of items each user has. And then just choose those who have two groups. - orders.groupby('visitorId')['group'].agg('nunique').reset_index().query('group > 1')`"
   ]
  },
  {
   "cell_type": "code",
   "execution_count": 22,
   "metadata": {},
   "outputs": [
    {
     "data": {
      "text/html": [
       "<div>\n",
       "<style scoped>\n",
       "    .dataframe tbody tr th:only-of-type {\n",
       "        vertical-align: middle;\n",
       "    }\n",
       "\n",
       "    .dataframe tbody tr th {\n",
       "        vertical-align: top;\n",
       "    }\n",
       "\n",
       "    .dataframe thead th {\n",
       "        text-align: right;\n",
       "    }\n",
       "</style>\n",
       "<table border=\"1\" class=\"dataframe\">\n",
       "  <thead>\n",
       "    <tr style=\"text-align: right;\">\n",
       "      <th></th>\n",
       "      <th>date</th>\n",
       "      <th>group</th>\n",
       "      <th>visitors</th>\n",
       "    </tr>\n",
       "  </thead>\n",
       "  <tbody>\n",
       "    <tr>\n",
       "      <td>0</td>\n",
       "      <td>2019-08-01</td>\n",
       "      <td>A</td>\n",
       "      <td>719</td>\n",
       "    </tr>\n",
       "    <tr>\n",
       "      <td>1</td>\n",
       "      <td>2019-08-02</td>\n",
       "      <td>A</td>\n",
       "      <td>619</td>\n",
       "    </tr>\n",
       "    <tr>\n",
       "      <td>2</td>\n",
       "      <td>2019-08-03</td>\n",
       "      <td>A</td>\n",
       "      <td>507</td>\n",
       "    </tr>\n",
       "    <tr>\n",
       "      <td>3</td>\n",
       "      <td>2019-08-04</td>\n",
       "      <td>A</td>\n",
       "      <td>717</td>\n",
       "    </tr>\n",
       "    <tr>\n",
       "      <td>4</td>\n",
       "      <td>2019-08-05</td>\n",
       "      <td>A</td>\n",
       "      <td>756</td>\n",
       "    </tr>\n",
       "  </tbody>\n",
       "</table>\n",
       "</div>"
      ],
      "text/plain": [
       "        date group  visitors\n",
       "0 2019-08-01     A       719\n",
       "1 2019-08-02     A       619\n",
       "2 2019-08-03     A       507\n",
       "3 2019-08-04     A       717\n",
       "4 2019-08-05     A       756"
      ]
     },
     "execution_count": 22,
     "metadata": {},
     "output_type": "execute_result"
    }
   ],
   "source": [
    "# формат даты в посещениях\n",
    "visitors['date'] = pd.to_datetime(visitors['date'], format='%Y-%m-%d')\n",
    "visitors.head()"
   ]
  },
  {
   "cell_type": "code",
   "execution_count": 23,
   "metadata": {},
   "outputs": [],
   "source": [
    "#Calculating max order date \n",
    "dates = pd.DataFrame({\"date\": pd.date_range(orders['date'].min(), orders[\"date\"].max())}) #новая строка"
   ]
  },
  {
   "cell_type": "code",
   "execution_count": 24,
   "metadata": {},
   "outputs": [
    {
     "data": {
      "text/html": [
       "<div>\n",
       "<style scoped>\n",
       "    .dataframe tbody tr th:only-of-type {\n",
       "        vertical-align: middle;\n",
       "    }\n",
       "\n",
       "    .dataframe tbody tr th {\n",
       "        vertical-align: top;\n",
       "    }\n",
       "\n",
       "    .dataframe thead th {\n",
       "        text-align: right;\n",
       "    }\n",
       "</style>\n",
       "<table border=\"1\" class=\"dataframe\">\n",
       "  <thead>\n",
       "    <tr style=\"text-align: right;\">\n",
       "      <th></th>\n",
       "      <th>date</th>\n",
       "      <th>group</th>\n",
       "    </tr>\n",
       "  </thead>\n",
       "  <tbody>\n",
       "    <tr>\n",
       "      <td>count</td>\n",
       "      <td>62</td>\n",
       "      <td>62</td>\n",
       "    </tr>\n",
       "    <tr>\n",
       "      <td>unique</td>\n",
       "      <td>31</td>\n",
       "      <td>2</td>\n",
       "    </tr>\n",
       "    <tr>\n",
       "      <td>top</td>\n",
       "      <td>2019-08-02 00:00:00</td>\n",
       "      <td>A</td>\n",
       "    </tr>\n",
       "    <tr>\n",
       "      <td>freq</td>\n",
       "      <td>2</td>\n",
       "      <td>31</td>\n",
       "    </tr>\n",
       "    <tr>\n",
       "      <td>first</td>\n",
       "      <td>2019-08-01 00:00:00</td>\n",
       "      <td>NaN</td>\n",
       "    </tr>\n",
       "    <tr>\n",
       "      <td>last</td>\n",
       "      <td>2019-08-31 00:00:00</td>\n",
       "      <td>NaN</td>\n",
       "    </tr>\n",
       "  </tbody>\n",
       "</table>\n",
       "</div>"
      ],
      "text/plain": [
       "                       date group\n",
       "count                    62    62\n",
       "unique                   31     2\n",
       "top     2019-08-02 00:00:00     A\n",
       "freq                      2    31\n",
       "first   2019-08-01 00:00:00   NaN\n",
       "last    2019-08-31 00:00:00   NaN"
      ]
     },
     "execution_count": 24,
     "metadata": {},
     "output_type": "execute_result"
    }
   ],
   "source": [
    "# ABtest dates\n",
    "datesGroups = orders[['date','group']].drop_duplicates()\n",
    "datesGroups.describe()"
   ]
  },
  {
   "cell_type": "code",
   "execution_count": 25,
   "metadata": {},
   "outputs": [
    {
     "data": {
      "text/html": [
       "<div>\n",
       "<style scoped>\n",
       "    .dataframe tbody tr th:only-of-type {\n",
       "        vertical-align: middle;\n",
       "    }\n",
       "\n",
       "    .dataframe tbody tr th {\n",
       "        vertical-align: top;\n",
       "    }\n",
       "\n",
       "    .dataframe thead th {\n",
       "        text-align: right;\n",
       "    }\n",
       "</style>\n",
       "<table border=\"1\" class=\"dataframe\">\n",
       "  <thead>\n",
       "    <tr style=\"text-align: right;\">\n",
       "      <th></th>\n",
       "      <th>date</th>\n",
       "      <th>group</th>\n",
       "      <th>orders</th>\n",
       "      <th>buyers</th>\n",
       "      <th>revenue</th>\n",
       "      <th>visitors</th>\n",
       "    </tr>\n",
       "  </thead>\n",
       "  <tbody>\n",
       "    <tr>\n",
       "      <td>0</td>\n",
       "      <td>2019-08-01</td>\n",
       "      <td>A</td>\n",
       "      <td>24</td>\n",
       "      <td>20</td>\n",
       "      <td>148579</td>\n",
       "      <td>719</td>\n",
       "    </tr>\n",
       "    <tr>\n",
       "      <td>1</td>\n",
       "      <td>2019-08-01</td>\n",
       "      <td>B</td>\n",
       "      <td>21</td>\n",
       "      <td>20</td>\n",
       "      <td>101217</td>\n",
       "      <td>713</td>\n",
       "    </tr>\n",
       "    <tr>\n",
       "      <td>2</td>\n",
       "      <td>2019-08-02</td>\n",
       "      <td>A</td>\n",
       "      <td>44</td>\n",
       "      <td>38</td>\n",
       "      <td>242401</td>\n",
       "      <td>1338</td>\n",
       "    </tr>\n",
       "    <tr>\n",
       "      <td>3</td>\n",
       "      <td>2019-08-02</td>\n",
       "      <td>B</td>\n",
       "      <td>45</td>\n",
       "      <td>43</td>\n",
       "      <td>266748</td>\n",
       "      <td>1294</td>\n",
       "    </tr>\n",
       "    <tr>\n",
       "      <td>4</td>\n",
       "      <td>2019-08-03</td>\n",
       "      <td>A</td>\n",
       "      <td>68</td>\n",
       "      <td>62</td>\n",
       "      <td>354874</td>\n",
       "      <td>1845</td>\n",
       "    </tr>\n",
       "  </tbody>\n",
       "</table>\n",
       "</div>"
      ],
      "text/plain": [
       "        date group  orders  buyers  revenue  visitors\n",
       "0 2019-08-01     A      24      20   148579       719\n",
       "1 2019-08-01     B      21      20   101217       713\n",
       "2 2019-08-02     A      44      38   242401      1338\n",
       "3 2019-08-02     B      45      43   266748      1294\n",
       "4 2019-08-03     A      68      62   354874      1845"
      ]
     },
     "execution_count": 25,
     "metadata": {},
     "output_type": "execute_result"
    }
   ],
   "source": [
    "# Cumulative data for each group \n",
    "ordersAggregated = datesGroups.apply(lambda x: orders[np.logical_and(orders['date'] <= x['date'], \n",
    "                                                                     orders['group'] == x['group'])]\\\n",
    ".agg({'date' : 'max', 'group' : 'max', 'transactionId' : pd.Series.nunique, 'visitorId' : pd.Series.nunique, 'revenue' : 'sum'}), \n",
    "                                     axis=1).sort_values(by=['date','group'])\n",
    "\n",
    "# Cumulative data for each group (visits)\n",
    "visitorsAggregated = datesGroups.apply(lambda x: visitors[np.logical_and(visitors['date'] <= x['date'], \n",
    "                                                                         visitors['group'] == x['group'])]\\\n",
    ".agg({'date' : 'max','group' : 'max', 'visitors' : 'sum'}), \n",
    "                                       axis=1).sort_values(by=['date','group'])\n",
    "\n",
    "# Cumulative data for each group (visits and orders)\n",
    "cummulativeData = ordersAggregated.merge(visitorsAggregated, left_on=['date', 'group'], right_on=['date', 'group'])\n",
    "cummulativeData.columns = ['date', 'group', 'orders', 'buyers', 'revenue', 'visitors']\n",
    "cummulativeData.head()"
   ]
  },
  {
   "cell_type": "markdown",
   "metadata": {},
   "source": [
    "## Ploting\n",
    "<a class=\"anchor\" id=\"plots\">"
   ]
  },
  {
   "cell_type": "code",
   "execution_count": 26,
   "metadata": {},
   "outputs": [],
   "source": [
    "#А: orders and revenue\n",
    "cummulativeRevenueA = cummulativeData[cummulativeData['group']=='A'][['date','revenue', 'orders']]\n",
    "\n",
    "#В: orders and revenue\n",
    "cummulativeRevenueB = cummulativeData[cummulativeData['group']=='B'][['date','revenue', 'orders']]"
   ]
  },
  {
   "cell_type": "code",
   "execution_count": 27,
   "metadata": {},
   "outputs": [
    {
     "data": {
      "image/png": "[encoded data removed]",
      "text/plain": [
       "<Figure size 1440x1080 with 1 Axes>"
      ]
     },
     "metadata": {
      "needs_background": "light"
     },
     "output_type": "display_data"
    }
   ],
   "source": [
    "register_matplotlib_converters()\n",
    "#А: cum revenue\n",
    "plt.figure(figsize=(20,15))\n",
    "plt.grid()\n",
    "plt.plot(cummulativeRevenueA['date'], cummulativeRevenueA['revenue'], label='A')\n",
    "#В: сum revenue\n",
    "plt.plot(cummulativeRevenueB['date'], cummulativeRevenueB['revenue'], label='B')\n",
    "plt.title(\"Cumulative revenue  А and В\", fontsize=16)\n",
    "\n",
    "plt.legend()\n",
    "plt.xlabel('Dates', fontsize=12)\n",
    "plt.ylabel('Currency', fontsize=12)\n",
    "#plt.annotate('Outlier', xy=???)\n",
    "plt.xticks(rotation=45)\n",
    "plt.show()\n"
   ]
  },
  {
   "cell_type": "code",
   "execution_count": 28,
   "metadata": {},
   "outputs": [
    {
     "data": {
      "image/png": "[encoded data removed]",
      "text/plain": [
       "<Figure size 1440x720 with 1 Axes>"
      ]
     },
     "metadata": {
      "needs_background": "light"
     },
     "output_type": "display_data"
    }
   ],
   "source": [
    "# Cumulative average invoice, А\n",
    "plt.figure(figsize=(20,10))\n",
    "plt.grid()\n",
    "plt.plot(cummulativeRevenueA['date'], cummulativeRevenueA['revenue']/cummulativeRevenueA['orders'], label='A')\n",
    "# Cumulative average invoice, В\n",
    "plt.plot(cummulativeRevenueB['date'], cummulativeRevenueB['revenue']/cummulativeRevenueB['orders'], label='B')\n",
    "plt.legend()\n",
    "plt.xlabel('Dates', fontsize=12)\n",
    "plt.ylabel('Coefficient!proportion В to А', fontsize=12)\n",
    "plt.title('Cumulative average invoice, А to В', fontsize=20)\n",
    "plt.xticks(rotation=45)\n",
    "plt.show()"
   ]
  },
  {
   "cell_type": "markdown",
   "metadata": {},
   "source": [
    "### Preliminary result\n",
    "Revenue: On August 13, both groups are almost equal in revenue. But then you can see that the graph of group B remains parallel to the graph of group A. Perhaps the case did not repeat itself.\n",
    "\n",
    "Average check:\n",
    "On August 13, group A has a buy that greatly distorts the average check. Group B has a drawdown this time."
   ]
  },
  {
   "cell_type": "markdown",
   "metadata": {},
   "source": [
    "### Ploting Cumulative average invoice"
   ]
  },
  {
   "cell_type": "code",
   "execution_count": 29,
   "metadata": {},
   "outputs": [],
   "source": [
    "mergedCummulativeRevenue = cummulativeRevenueA.merge(cummulativeRevenueB, left_on='date', right_on='date', how='left', suffixes=['A', 'B'])"
   ]
  },
  {
   "cell_type": "code",
   "execution_count": 30,
   "metadata": {},
   "outputs": [
    {
     "data": {
      "image/png": "[encoded data removed]",
      "text/plain": [
       "<Figure size 1440x720 with 1 Axes>"
      ]
     },
     "metadata": {
      "needs_background": "light"
     },
     "output_type": "display_data"
    }
   ],
   "source": [
    "# Cumulative average invoice В to А\n",
    "plt.figure(figsize=(20,10))\n",
    "plt.grid()\n",
    "plt.plot(mergedCummulativeRevenue['date'], (mergedCummulativeRevenue['revenueB']/mergedCummulativeRevenue['ordersB'])/(mergedCummulativeRevenue['revenueA']/mergedCummulativeRevenue['ordersA'])-1)\n",
    "plt.xlabel('Даты', fontsize=12)\n",
    "plt.ylabel('Coefficient', fontsize=12)\n",
    "plt.title('Relation Cum Avg Invoice, А and В', fontsize=20)\n",
    "plt.axhline(y=0, color='black', linestyle='-')\n",
    "plt.xticks(rotation=45)\n",
    "plt.show()"
   ]
  },
  {
   "cell_type": "markdown",
   "metadata": {},
   "source": [
    "**Preliminary conclusion**\n",
    "The average check of group B according to uncleaned data falls in the second week of August: on August 13, according to the graph of cumulative revenue, group A reached the indicator of group B: the indicator of group A grew, and group B at that moment was in a slight decrease. Therefore, it is too early to draw hasty conclusions about the performance of group B."
   ]
  },
  {
   "cell_type": "markdown",
   "metadata": {},
   "source": [
    "The fact is that we are dealing with cumulative data, that is, those that accumulate. One outlier, one anomaly can distort the interpretation. If you study the graph of the ratio of the cumulative average invoice, it turns out that in August group B had an anomaly: the cumulative average invoice sagged a lot until the moment of a sharp increase, but this growth could be affected by an outlier.\n",
    "\n",
    "\n",
    "Average check and revenue are important marketing indicators. But another important metric, often a KPI, is conversion. Let's study it.\n"
   ]
  },
  {
   "cell_type": "markdown",
   "metadata": {},
   "source": [
    "### Ploting conversions"
   ]
  },
  {
   "cell_type": "code",
   "execution_count": 31,
   "metadata": {},
   "outputs": [],
   "source": [
    "# Cumulative conversion\n",
    "cummulativeData['conversion'] = cummulativeData['orders']/cummulativeData['visitors']\n"
   ]
  },
  {
   "cell_type": "code",
   "execution_count": 32,
   "metadata": {},
   "outputs": [],
   "source": [
    "#A\n",
    "cummulativeDataA = cummulativeData[cummulativeData['group']=='A']\n",
    "#B\n",
    "cummulativeDataB = cummulativeData[cummulativeData['group']=='B']\n"
   ]
  },
  {
   "cell_type": "code",
   "execution_count": 33,
   "metadata": {},
   "outputs": [
    {
     "data": {
      "image/png": "[encoded data removed]",
      "text/plain": [
       "<Figure size 1440x720 with 1 Axes>"
      ]
     },
     "metadata": {
      "needs_background": "light"
     },
     "output_type": "display_data"
    }
   ],
   "source": [
    "plt.figure(figsize=(20,10))\n",
    "plt.xticks(rotation = 45, fontsize=14)\n",
    "# Cumulative conversion group А\n",
    "plt.plot(cummulativeDataA['date'], cummulativeDataA['conversion'], label='A')\n",
    "# Cumulative conversion group В\n",
    "plt.plot(cummulativeDataB['date'], cummulativeDataB['conversion'], label='B')\n",
    "plt.title('Cumulative conversion В to А', fontsize=20)\n",
    "plt.xlabel('Date YYYY-MM-DD', fontsize=18)\n",
    "plt.ylabel('Conversion in %', fontsize=18)\n",
    "plt.grid() \n",
    "plt.legend()\n",
    "plt.show()"
   ]
  },
  {
   "cell_type": "code",
   "execution_count": 34,
   "metadata": {},
   "outputs": [],
   "source": [
    "# Cumulative conversion A and B\n",
    "mergedCummulativeConversions = cummulativeDataA[['date','conversion']].merge(cummulativeDataB[['date','conversion']], \n",
    "                                                                             left_on='date', right_on='date', how='left', \n",
    "                                                                             suffixes=['A', 'B'])\n"
   ]
  },
  {
   "cell_type": "code",
   "execution_count": 35,
   "metadata": {},
   "outputs": [
    {
     "data": {
      "image/png": "[encoded data removed]",
      "text/plain": [
       "<Figure size 1440x720 with 1 Axes>"
      ]
     },
     "metadata": {
      "needs_background": "light"
     },
     "output_type": "display_data"
    }
   ],
   "source": [
    "# Cumulative conversion B to A\n",
    "plt.figure(figsize=(20,10))\n",
    "plt.xticks(rotation = 45, fontsize=14)\n",
    "plt.plot(mergedCummulativeConversions['date'], mergedCummulativeConversions['conversionB']/mergedCummulativeConversions['conversionA']-1)\n",
    "plt.title('Relative conversion both groups', fontsize=20)\n",
    "plt.xlabel('Date YYYY-MM-DD', fontsize=18)\n",
    "plt.ylabel('Coefficient', fontsize=18)\n",
    "plt.axhline(y=0, color='black', linestyle='--')\n",
    "plt.xticks(rotation=45)\n",
    "plt.show()"
   ]
  },
  {
   "cell_type": "markdown",
   "metadata": {},
   "source": [
    "### Preliminary output\n",
    "\n",
    "We see that at the start, the conversion of group B is almost half a point higher. Then it sags and gives way to the first week of August. Then it goes forward from August 8, although the graph of the average check shows that until the second week the average check of group B relative to group A was in a drawdown. Already from the second - is growing. The trend continues\n",
    "\n",
    "So far, we can only say that in group B,\n",
    "an experiment, some kind of promotion that does not affect the main product, but affects the conversion - they start converting from the second week of August. This happens when, for example, there is a promotion for an accompanying product. The average check will be less, but the hype fuels the conversion, it is high.\n",
    "\n",
    "\n",
    "The average invoice and revenue - here they are considered not by cohort, but cumulatively. The influence of anomalies is \"smeared\" over time. Let's find them and compare the performance of groups using statistical methods."
   ]
  },
  {
   "cell_type": "markdown",
   "metadata": {},
   "source": [
    "#### Tips\n",
    "\n",
    "-- `from pandas.plotting import register_matplotlib_converters`\n",
    "\n",
    "-- `register_matplotlib_converters()`\n",
    "\n",
    "-- <code>plt.annotate('скачок', xy=('2019-08-17', 2800000), xytext=('2019-08-10', 3500000),\n",
    "            arrowprops=dict(facecolor='g'))\n",
    "plt.annotate('отрыв', xy=('2019-08-05', 800000), xytext=('2019-08-05', 2000000),\n",
    "            arrowprops=dict(facecolor='g')) </code>\n",
    "    "
   ]
  },
  {
   "cell_type": "markdown",
   "metadata": {},
   "source": [
    "## Outliers and Benchmarks\n",
    "<a class=\"anchor\" id=\"outliers\">"
   ]
  },
  {
   "cell_type": "markdown",
   "metadata": {},
   "source": [
    "We found out that there is an anomaly in the data. Let's look. First, in the number of purchases per unique user.\n"
   ]
  },
  {
   "cell_type": "code",
   "execution_count": 36,
   "metadata": {},
   "outputs": [
    {
     "data": {
      "text/html": [
       "<div>\n",
       "<style scoped>\n",
       "    .dataframe tbody tr th:only-of-type {\n",
       "        vertical-align: middle;\n",
       "    }\n",
       "\n",
       "    .dataframe tbody tr th {\n",
       "        vertical-align: top;\n",
       "    }\n",
       "\n",
       "    .dataframe thead th {\n",
       "        text-align: right;\n",
       "    }\n",
       "</style>\n",
       "<table border=\"1\" class=\"dataframe\">\n",
       "  <thead>\n",
       "    <tr style=\"text-align: right;\">\n",
       "      <th></th>\n",
       "      <th>user_id</th>\n",
       "      <th>orders</th>\n",
       "    </tr>\n",
       "  </thead>\n",
       "  <tbody>\n",
       "    <tr>\n",
       "      <td>590</td>\n",
       "      <td>2458001652</td>\n",
       "      <td>11</td>\n",
       "    </tr>\n",
       "    <tr>\n",
       "      <td>1022</td>\n",
       "      <td>4256040402</td>\n",
       "      <td>11</td>\n",
       "    </tr>\n",
       "    <tr>\n",
       "      <td>568</td>\n",
       "      <td>2378935119</td>\n",
       "      <td>9</td>\n",
       "    </tr>\n",
       "    <tr>\n",
       "      <td>486</td>\n",
       "      <td>2038680547</td>\n",
       "      <td>8</td>\n",
       "    </tr>\n",
       "    <tr>\n",
       "      <td>916</td>\n",
       "      <td>3803269165</td>\n",
       "      <td>5</td>\n",
       "    </tr>\n",
       "    <tr>\n",
       "      <td>896</td>\n",
       "      <td>3717692402</td>\n",
       "      <td>5</td>\n",
       "    </tr>\n",
       "    <tr>\n",
       "      <td>743</td>\n",
       "      <td>3062433592</td>\n",
       "      <td>5</td>\n",
       "    </tr>\n",
       "    <tr>\n",
       "      <td>55</td>\n",
       "      <td>237748145</td>\n",
       "      <td>5</td>\n",
       "    </tr>\n",
       "    <tr>\n",
       "      <td>299</td>\n",
       "      <td>1230306981</td>\n",
       "      <td>5</td>\n",
       "    </tr>\n",
       "    <tr>\n",
       "      <td>44</td>\n",
       "      <td>199603092</td>\n",
       "      <td>5</td>\n",
       "    </tr>\n",
       "  </tbody>\n",
       "</table>\n",
       "</div>"
      ],
      "text/plain": [
       "         user_id  orders\n",
       "590   2458001652      11\n",
       "1022  4256040402      11\n",
       "568   2378935119       9\n",
       "486   2038680547       8\n",
       "916   3803269165       5\n",
       "896   3717692402       5\n",
       "743   3062433592       5\n",
       "55     237748145       5\n",
       "299   1230306981       5\n",
       "44     199603092       5"
      ]
     },
     "execution_count": 36,
     "metadata": {},
     "output_type": "execute_result"
    }
   ],
   "source": [
    "ordersByUsers = orders.drop(['group', 'revenue', 'date'], axis=1).groupby('visitorId', as_index=False). \\\n",
    "                                                                        agg({'transactionId' : pd.Series.nunique})\n",
    "\n",
    "ordersByUsers.columns = ['user_id','orders']\n",
    "\n",
    "ordersByUsers.sort_values(by='orders',ascending=False).head(10)"
   ]
  },
  {
   "cell_type": "code",
   "execution_count": 37,
   "metadata": {},
   "outputs": [
    {
     "data": {
      "image/png": "[encoded data removed]",
      "text/plain": [
       "<Figure size 1440x720 with 1 Axes>"
      ]
     },
     "metadata": {
      "needs_background": "light"
     },
     "output_type": "display_data"
    }
   ],
   "source": [
    "x_values = pd.Series(range(0,len(ordersByUsers)))\n",
    "plt.figure(figsize=(20,10))\n",
    "plt.xticks(rotation = 45, fontsize=14)\n",
    "plt.title('Qty of orders per client', fontsize=20)\n",
    "plt.xlabel('Unique client', fontsize=18) \n",
    "plt.ylabel('Qty purchases daily', fontsize=18)\n",
    "plt.scatter(x_values, ordersByUsers['orders'], alpha=0.8) \n",
    "plt.show()"
   ]
  },
  {
   "cell_type": "markdown",
   "metadata": {},
   "source": [
    "\n",
    "**Trends are clearly visible: a maximum of 1 purchase, then 2, then 4 - the rest of the outliers**"
   ]
  },
  {
   "cell_type": "code",
   "execution_count": 38,
   "metadata": {},
   "outputs": [
    {
     "name": "stdout",
     "output_type": "stream",
     "text": [
      "[2. 4.]\n"
     ]
    },
    {
     "data": {
      "text/html": [
       "<div>\n",
       "<style scoped>\n",
       "    .dataframe tbody tr th:only-of-type {\n",
       "        vertical-align: middle;\n",
       "    }\n",
       "\n",
       "    .dataframe tbody tr th {\n",
       "        vertical-align: top;\n",
       "    }\n",
       "\n",
       "    .dataframe thead th {\n",
       "        text-align: right;\n",
       "    }\n",
       "</style>\n",
       "<table border=\"1\" class=\"dataframe\">\n",
       "  <thead>\n",
       "    <tr style=\"text-align: right;\">\n",
       "      <th></th>\n",
       "      <th>user_id</th>\n",
       "      <th>orders</th>\n",
       "    </tr>\n",
       "  </thead>\n",
       "  <tbody>\n",
       "    <tr>\n",
       "      <td>0</td>\n",
       "      <td>5114589</td>\n",
       "      <td>1</td>\n",
       "    </tr>\n",
       "    <tr>\n",
       "      <td>1</td>\n",
       "      <td>6958315</td>\n",
       "      <td>1</td>\n",
       "    </tr>\n",
       "    <tr>\n",
       "      <td>2</td>\n",
       "      <td>8300375</td>\n",
       "      <td>2</td>\n",
       "    </tr>\n",
       "    <tr>\n",
       "      <td>3</td>\n",
       "      <td>11685486</td>\n",
       "      <td>1</td>\n",
       "    </tr>\n",
       "    <tr>\n",
       "      <td>4</td>\n",
       "      <td>39475350</td>\n",
       "      <td>1</td>\n",
       "    </tr>\n",
       "    <tr>\n",
       "      <td>...</td>\n",
       "      <td>...</td>\n",
       "      <td>...</td>\n",
       "    </tr>\n",
       "    <tr>\n",
       "      <td>1025</td>\n",
       "      <td>4266935830</td>\n",
       "      <td>2</td>\n",
       "    </tr>\n",
       "    <tr>\n",
       "      <td>1026</td>\n",
       "      <td>4278982564</td>\n",
       "      <td>1</td>\n",
       "    </tr>\n",
       "    <tr>\n",
       "      <td>1027</td>\n",
       "      <td>4279090005</td>\n",
       "      <td>1</td>\n",
       "    </tr>\n",
       "    <tr>\n",
       "      <td>1028</td>\n",
       "      <td>4281247801</td>\n",
       "      <td>1</td>\n",
       "    </tr>\n",
       "    <tr>\n",
       "      <td>1029</td>\n",
       "      <td>4283872382</td>\n",
       "      <td>1</td>\n",
       "    </tr>\n",
       "  </tbody>\n",
       "</table>\n",
       "<p>1017 rows × 2 columns</p>\n",
       "</div>"
      ],
      "text/plain": [
       "         user_id  orders\n",
       "0        5114589       1\n",
       "1        6958315       1\n",
       "2        8300375       2\n",
       "3       11685486       1\n",
       "4       39475350       1\n",
       "...          ...     ...\n",
       "1025  4266935830       2\n",
       "1026  4278982564       1\n",
       "1027  4279090005       1\n",
       "1028  4281247801       1\n",
       "1029  4283872382       1\n",
       "\n",
       "[1017 rows x 2 columns]"
      ]
     },
     "execution_count": 38,
     "metadata": {},
     "output_type": "execute_result"
    }
   ],
   "source": [
    "print(np.percentile(ordersByUsers['orders'], [95, 99]))\n",
    "bench_orders99 = np.percentile(ordersByUsers['orders'], [99])\n",
    "ordersByUsersClean = ordersByUsers[ordersByUsers['orders'] < 4]\n",
    "ordersByUsersClean"
   ]
  },
  {
   "cell_type": "markdown",
   "metadata": {},
   "source": [
    "**Anomaly: > 4 purchases**"
   ]
  },
  {
   "cell_type": "markdown",
   "metadata": {},
   "source": [
    "\n",
    "Ploting purchase costs WITHOUT an anomaly of 1,294,500 rubles. In general, it would be good to know the matter here: if this order occurred during the action and it could not have been under normal conditions, then it should be included."
   ]
  },
  {
   "cell_type": "code",
   "execution_count": 39,
   "metadata": {},
   "outputs": [
    {
     "data": {
      "image/png": "[encoded data removed]",
      "text/plain": [
       "<Figure size 1440x720 with 1 Axes>"
      ]
     },
     "metadata": {
      "needs_background": "light"
     },
     "output_type": "display_data"
    }
   ],
   "source": [
    "x_values = pd.Series(range(0,len(orders['revenue'])))\n",
    "plt.figure(figsize=(20,10))\n",
    "plt.xticks(rotation = 45, fontsize=14)\n",
    "plt.title('Purchase costs Plot', fontsize=20)\n",
    "plt.xlabel('Unique client', fontsize=18) #новая строчка\n",
    "plt.ylabel('Cost of purchase without outlier', fontsize=18) #новая строчка\n",
    "plt.scatter(x_values, orders['revenue'], alpha=0.8)\n",
    "plt.show()"
   ]
  },
  {
   "cell_type": "code",
   "execution_count": 40,
   "metadata": {},
   "outputs": [
    {
     "name": "stdout",
     "output_type": "stream",
     "text": [
      "202740 рублей — максимальная стоимость заказа\n"
     ]
    }
   ],
   "source": [
    "extreme_outlier = orders['revenue'].max()\n",
    "print(extreme_outlier, '(units) max cost')"
   ]
  },
  {
   "cell_type": "markdown",
   "metadata": {},
   "source": [
    "Calculating the 95th and 99th percentiles of order value. Select a border to detect anomalous orders.\n",
    "\n"
   ]
  },
  {
   "cell_type": "code",
   "execution_count": 41,
   "metadata": {},
   "outputs": [
    {
     "name": "stdout",
     "output_type": "stream",
     "text": [
      "[27696.25 58220.  ]\n",
      "[58220]\n"
     ]
    }
   ],
   "source": [
    "print(np.percentile(orders['revenue'], [95, 99]))\n",
    "overorder = np.percentile(orders['revenue'], [99]).astype(int)\n",
    "print(overorder) #но мы это знаем из дескрайб))"
   ]
  },
  {
   "cell_type": "markdown",
   "metadata": {},
   "source": [
    "\n",
    "**More than RUB 58,233 - an anomaly. The maximum purchase - 1,294,500 units - has already been removed from the data **"
   ]
  },
  {
   "cell_type": "markdown",
   "metadata": {},
   "source": [
    "\n",
    "## Statistical significance of differences in conversion between groups on raw data\n",
    "\n"
   ]
  },
  {
   "cell_type": "code",
   "execution_count": 42,
   "metadata": {},
   "outputs": [],
   "source": [
    "# Visits daily in А\n",
    "visitorsADaily = visitors[visitors['group']=='A'][['date', 'visitors']]\n",
    "visitorsADaily.columns = ['date', 'visitorsPerDateA']\n",
    "\n",
    "# Visits daily in В\n",
    "visitorsBDaily = visitors[visitors['group']=='B'][['date', 'visitors']]\n",
    "visitorsBDaily.columns = ['date', 'visitorsPerDateB']\n",
    "\n",
    "# Cumulative visits А\n",
    "visitorsACummulative = cummulativeData[cummulativeData['group']=='A'][['date', 'visitors']]\n",
    "visitorsACummulative.columns = ['date', 'visitorsCummulativeA']\n",
    "\n",
    "# Cumulative visits В\n",
    "visitorsBCummulative = cummulativeData[cummulativeData['group']=='B'][['date', 'visitors']]\n",
    "visitorsBCummulative.columns = ['date', 'visitorsCummulativeB']"
   ]
  },
  {
   "cell_type": "markdown",
   "metadata": {},
   "source": [
    "Tips\n",
    "\n",
    "`print(df.columns.values)`\n",
    "\n",
    "`lookup = {('revenue', 'A'): 'revenueA', ('revenue', 'B'): 'revenueB', ('transactionid', 'A'): 'transidA',  (название на level): 'transidB',}`\n",
    "\n",
    "`df.columns = df.columns.to_flat_index()`\n",
    "\n",
    "`df_4_normies = df.rename(columns=lookup)`"
   ]
  },
  {
   "cell_type": "code",
   "execution_count": 44,
   "metadata": {},
   "outputs": [],
   "source": [
    "# Orders and revenue daily, А\n",
    "ordersADaily = orders[orders['group']=='A'][['date', 'transactionId', 'visitorId', 'revenue']]\\\n",
    "    .groupby('date', as_index=False)\\\n",
    "    .agg({'transactionId' : pd.Series.nunique, 'revenue' : 'sum'}) #правка\n",
    "ordersADaily.columns = ['date', 'ordersPerDateA', 'revenuePerDateA']\n",
    "\n",
    "# Orders and revenue daily, В\n",
    "ordersBDaily = orders[orders['group']=='B'][['date', 'transactionId', 'visitorId', 'revenue']]\\\n",
    "    .groupby('date', as_index=False)\\\n",
    "    .agg({'transactionId' : pd.Series.nunique, 'revenue' : 'sum'}) #правка\n",
    "ordersBDaily.columns = ['date', 'ordersPerDateB', 'revenuePerDateB']"
   ]
  },
  {
   "cell_type": "code",
   "execution_count": 45,
   "metadata": {},
   "outputs": [
    {
     "data": {
      "text/html": [
       "<div>\n",
       "<style scoped>\n",
       "    .dataframe tbody tr th:only-of-type {\n",
       "        vertical-align: middle;\n",
       "    }\n",
       "\n",
       "    .dataframe tbody tr th {\n",
       "        vertical-align: top;\n",
       "    }\n",
       "\n",
       "    .dataframe thead th {\n",
       "        text-align: right;\n",
       "    }\n",
       "</style>\n",
       "<table border=\"1\" class=\"dataframe\">\n",
       "  <thead>\n",
       "    <tr style=\"text-align: right;\">\n",
       "      <th></th>\n",
       "      <th>date</th>\n",
       "      <th>ordersPerDateA</th>\n",
       "      <th>revenuePerDateA</th>\n",
       "      <th>ordersPerDateB</th>\n",
       "      <th>revenuePerDateB</th>\n",
       "      <th>revenueA</th>\n",
       "      <th>ordersA</th>\n",
       "      <th>revenueB</th>\n",
       "      <th>ordersB</th>\n",
       "      <th>visitorsPerDateA</th>\n",
       "      <th>visitorsPerDateB</th>\n",
       "      <th>visitorsCummulativeA</th>\n",
       "      <th>visitorsCummulativeB</th>\n",
       "    </tr>\n",
       "  </thead>\n",
       "  <tbody>\n",
       "    <tr>\n",
       "      <td>0</td>\n",
       "      <td>2019-08-01</td>\n",
       "      <td>24</td>\n",
       "      <td>148579</td>\n",
       "      <td>21</td>\n",
       "      <td>101217</td>\n",
       "      <td>148579</td>\n",
       "      <td>24</td>\n",
       "      <td>101217</td>\n",
       "      <td>21</td>\n",
       "      <td>719</td>\n",
       "      <td>713</td>\n",
       "      <td>719</td>\n",
       "      <td>713</td>\n",
       "    </tr>\n",
       "    <tr>\n",
       "      <td>1</td>\n",
       "      <td>2019-08-02</td>\n",
       "      <td>20</td>\n",
       "      <td>93822</td>\n",
       "      <td>24</td>\n",
       "      <td>165531</td>\n",
       "      <td>242401</td>\n",
       "      <td>44</td>\n",
       "      <td>266748</td>\n",
       "      <td>45</td>\n",
       "      <td>619</td>\n",
       "      <td>581</td>\n",
       "      <td>1338</td>\n",
       "      <td>1294</td>\n",
       "    </tr>\n",
       "    <tr>\n",
       "      <td>2</td>\n",
       "      <td>2019-08-03</td>\n",
       "      <td>24</td>\n",
       "      <td>112473</td>\n",
       "      <td>16</td>\n",
       "      <td>114248</td>\n",
       "      <td>354874</td>\n",
       "      <td>68</td>\n",
       "      <td>380996</td>\n",
       "      <td>61</td>\n",
       "      <td>507</td>\n",
       "      <td>509</td>\n",
       "      <td>1845</td>\n",
       "      <td>1803</td>\n",
       "    </tr>\n",
       "    <tr>\n",
       "      <td>3</td>\n",
       "      <td>2019-08-04</td>\n",
       "      <td>16</td>\n",
       "      <td>70825</td>\n",
       "      <td>17</td>\n",
       "      <td>108571</td>\n",
       "      <td>425699</td>\n",
       "      <td>84</td>\n",
       "      <td>489567</td>\n",
       "      <td>78</td>\n",
       "      <td>717</td>\n",
       "      <td>770</td>\n",
       "      <td>2562</td>\n",
       "      <td>2573</td>\n",
       "    </tr>\n",
       "    <tr>\n",
       "      <td>4</td>\n",
       "      <td>2019-08-05</td>\n",
       "      <td>25</td>\n",
       "      <td>124218</td>\n",
       "      <td>23</td>\n",
       "      <td>92428</td>\n",
       "      <td>549917</td>\n",
       "      <td>109</td>\n",
       "      <td>581995</td>\n",
       "      <td>101</td>\n",
       "      <td>756</td>\n",
       "      <td>707</td>\n",
       "      <td>3318</td>\n",
       "      <td>3280</td>\n",
       "    </tr>\n",
       "  </tbody>\n",
       "</table>\n",
       "</div>"
      ],
      "text/plain": [
       "        date  ordersPerDateA  revenuePerDateA  ordersPerDateB  revenuePerDateB  revenueA  ordersA  revenueB  ordersB  visitorsPerDateA  visitorsPerDateB  visitorsCummulativeA  visitorsCummulativeB\n",
       "0 2019-08-01              24           148579              21           101217    148579       24    101217       21               719               713                   719                   713\n",
       "1 2019-08-02              20            93822              24           165531    242401       44    266748       45               619               581                  1338                  1294\n",
       "2 2019-08-03              24           112473              16           114248    354874       68    380996       61               507               509                  1845                  1803\n",
       "3 2019-08-04              16            70825              17           108571    425699       84    489567       78               717               770                  2562                  2573\n",
       "4 2019-08-05              25           124218              23            92428    549917      109    581995      101               756               707                  3318                  3280"
      ]
     },
     "execution_count": 45,
     "metadata": {},
     "output_type": "execute_result"
    }
   ],
   "source": [
    "# Merging\n",
    "data = ordersADaily.merge(ordersBDaily, left_on='date', right_on='date', how='left')\\\n",
    "    .merge(mergedCummulativeRevenue, left_on='date', right_on='date', how='left')\\\n",
    "    .merge(visitorsADaily, left_on='date', right_on='date', how='left')\\\n",
    "    .merge(visitorsBDaily, left_on='date', right_on='date', how='left')\\\n",
    "    .merge(visitorsACummulative, left_on='date', right_on='date', how='left')\\\n",
    "    .merge(visitorsBCummulative, left_on='date', right_on='date', how='left')\n",
    "\n",
    "data.head()"
   ]
  },
  {
   "cell_type": "code",
   "execution_count": 46,
   "metadata": {},
   "outputs": [],
   "source": [
    "# Qty of orders by unique client, А\n",
    "ordersByUsersA = orders[orders['group']=='A'].groupby('visitorId', as_index=False).agg({'transactionId' : pd.Series.nunique})\n",
    "ordersByUsersA.columns = ['userId', 'orders']\n",
    "\n",
    "# Qty of orders by unique client В\n",
    "ordersByUsersB = orders[orders['group']=='B'].groupby('visitorId', as_index=False).agg({'transactionId' : pd.Series.nunique})\n",
    "ordersByUsersB.columns = ['userId', 'orders']"
   ]
  },
  {
   "cell_type": "code",
   "execution_count": 47,
   "metadata": {},
   "outputs": [],
   "source": [
    "# Sampling А, В\n",
    "sampleA = pd.concat([ordersByUsersA['orders'],pd.Series(0, index=np.arange(data['visitorsPerDateA'].sum() - len(ordersByUsersA['orders'])), name='orders')],axis=0)\n",
    "sampleB = pd.concat([ordersByUsersB['orders'],pd.Series(0, index=np.arange(data['visitorsPerDateB'].sum() - len(ordersByUsersB['orders'])), name='orders')],axis=0)\n"
   ]
  },
  {
   "cell_type": "markdown",
   "metadata": {},
   "source": [
    "\n",
    "# Statistically significant - conversion and average checks based on data with outliers\n",
    "\n",
    "<a class=\"anchor\" id=\"statsign\">"
   ]
  },
  {
   "cell_type": "markdown",
   "metadata": {},
   "source": [
    "**We will consider as abnormal users those who made more than 4 orders or made an order more expensive than 58233 rubles. So we will remove 5% of users with the highest number of orders and from 1% to 5% of users with expensive orders.**\n",
    "\n",
    "**HYPOTHESES**\n",
    "\n",
    "0-hypothesis: No difference between samples (stop experiment)\n",
    "\n",
    "Alternative hypothesis: There is a difference between the samples. One of the groups is the winner.\n",
    "\n",
    "The difference between groups can also be displayed if it is statistically significant.\n",
    "\n",
    "\n",
    "The Mann-Whitney test is complicated. One-sided test used if we definitely want to check that group A is greater than group B (or less). And a two-sided test is when group A can be more or less than group B. And if a statistical difference is found, then we just compare the metrics that we've checked in the test and see the difference in one or the second group.   \n",
    "We compare the ranks of some values ​​with each other and this is not a conversion and not an average / median conversion in a group. Hypothesis must follow the example: the probability that an observation from population X exceeds an observation from population Y is 50%. And the reverse hypothesis is that such a probability is not equal to 50%.\n",
    "\n",
    "Parametre `alternative = 'two-sided'.`\n",
    "\n",
    "Based on article http://www.stat.yale.edu/Courses/1997-98/101/sigtest.htm#:~:text=An%20alternative%20hypothesis%20may%20be ,the%20direction%20does%20not%20matter.\n",
    "\n",
    "\n",
    "**Data**\n",
    "\n",
    "- Raw = with anomalies\n",
    "\n",
    "- Filtered\n",
    "\n",
    "**What need to do**\n",
    "\n",
    "Conduct tests, compare the average invoice and conversion by groups, and then compare the tests based on raw and cleaned data.\n",
    "\n",
    "\n",
    "**Why**\n",
    "\n",
    "To find out:\n",
    "\n",
    "    1) Is the hypothesis rolled out on group B productive? Is the average check better in the end?\n",
    "    \n",
    "    2) how outliers, anomalous purchases, influenced the course of the experiment.\n",
    "    \n",
    "    3) whether it is worth applying the product hypothesis for which group B was assembled or there is no difference, which means leaving group A as the current one and thinking about other hypotheses to increase conversion and average invoice/."
   ]
  },
  {
   "cell_type": "code",
   "execution_count": 48,
   "metadata": {},
   "outputs": [
    {
     "name": "stdout",
     "output_type": "stream",
     "text": [
      "alpha = 0.05\n",
      "0.009\n"
     ]
    }
   ],
   "source": [
    "# Raw data difference in conversions\n",
    "print(\"alpha =\",0.05)\n",
    "print(\"{0:.3f}\".format(stats.mannwhitneyu(sampleA, sampleB)[1]))\n",
    "#относительную разницу можно и не считать — между выборками нет стат.значимой разницы."
   ]
  },
  {
   "cell_type": "code",
   "execution_count": 49,
   "metadata": {},
   "outputs": [
    {
     "name": "stdout",
     "output_type": "stream",
     "text": [
      "0.382\n",
      "Относительный показатель -0.016\n"
     ]
    }
   ],
   "source": [
    "# Raw data difference in average invoice\n",
    "print(\"{0:.3f}\".format(stats.mannwhitneyu(orders[orders['group']=='A']['revenue'], orders[orders['group']=='B']['revenue'])[1]))\n",
    "# Relative margin: B to A. Disproportion in which direction?\n",
    "print(\"Relative {0:.3f}\".format(orders[orders['group']=='B']['revenue'].mean()/orders[orders['group']=='A']['revenue'].mean()-1))"
   ]
  },
  {
   "cell_type": "code",
   "execution_count": 50,
   "metadata": {},
   "outputs": [],
   "source": [
    "# Clients with > 4 orders per day\n",
    "usersWithManyOrders = pd.concat([ordersByUsersA[ordersByUsersA['orders'] >= 4]['userId'], ordersByUsersB[ordersByUsersB['orders'] >=4]['userId']], axis = 0)\n",
    "# Clients who spent > 58000 units.\n",
    "usersWithExpensiveOrders = orders[orders['revenue'] > 58000]['visitorId']\n",
    "abnormalUsers = pd.concat([usersWithManyOrders, usersWithExpensiveOrders], axis = 0).drop_duplicates().sort_values()"
   ]
  },
  {
   "cell_type": "code",
   "execution_count": 51,
   "metadata": {},
   "outputs": [],
   "source": [
    "filtered = pd.concat([usersWithManyOrders, usersWithExpensiveOrders], axis = 0).drop_duplicates().sort_values()"
   ]
  },
  {
   "cell_type": "code",
   "execution_count": 52,
   "metadata": {},
   "outputs": [],
   "source": [
    "# Filtered data\n",
    "sampleAFiltered = pd.concat([ordersByUsersA[np.logical_not(ordersByUsersA['userId'].isin(filtered))]['orders'],pd.Series(0, index=np.arange(data['visitorsPerDateA'].sum() - len(ordersByUsersA['orders'])),name='orders')],axis=0)\n",
    "\n",
    "sampleBFiltered = pd.concat([ordersByUsersB[np.logical_not(ordersByUsersB['userId'].isin(filtered))]['orders'],pd.Series(0, index=np.arange(data['visitorsPerDateB'].sum() - len(ordersByUsersB['orders'])),name='orders')],axis=0)\n"
   ]
  },
  {
   "cell_type": "code",
   "execution_count": 53,
   "metadata": {},
   "outputs": [
    {
     "name": "stdout",
     "output_type": "stream",
     "text": [
      "0.01394\n"
     ]
    }
   ],
   "source": [
    "# Filtered data -- Difference in conversion \n",
    "print(\"{0:.5f}\".format(stats.mannwhitneyu(sampleAFiltered, sampleBFiltered, alternative = 'two-sided')[1]))\n",
    "#no significant difference."
   ]
  },
  {
   "cell_type": "markdown",
   "metadata": {},
   "source": [
    "\n",
    "When assessing the statistical significance of the difference in conversions between groups B and A, there were no grounds to reject the hypothesis that the samples were equal: the barrier of 0.05 was not overcome."
   ]
  },
  {
   "cell_type": "code",
   "execution_count": 54,
   "metadata": {},
   "outputs": [
    {
     "name": "stdout",
     "output_type": "stream",
     "text": [
      "0.959\n"
     ]
    }
   ],
   "source": [
    "print(\"{0:.3f}\".format(stats.mannwhitneyu(\n",
    "    orders[np.logical_and(orders['group']=='A', np.logical_not(orders['visitorId'].isin(filtered)))]['revenue'],\n",
    "    orders[np.logical_and(orders['group']=='B', np.logical_not(orders['visitorId'].isin(filtered)))]['revenue'], alternative = 'two-sided')[1]))\n"
   ]
  },
  {
   "cell_type": "markdown",
   "metadata": {},
   "source": [
    "**Preliminary conclusion 1** When assessing the statistical significance of the difference in conversions between groups B and A, there are reasons to reject the hypothesis that the samples are equal: the difference is 0.959. We can also see what is the relative difference in the average check:"
   ]
  },
  {
   "cell_type": "code",
   "execution_count": 55,
   "metadata": {},
   "outputs": [
    {
     "name": "stdout",
     "output_type": "stream",
     "text": [
      "-0.014\n"
     ]
    }
   ],
   "source": [
    "print(\"{0:.3f}\".format(\n",
    "    orders[np.logical_and(orders['group']=='B',np.logical_not(orders['visitorId'].isin(filtered)))]['revenue'].mean()/\n",
    "    orders[np.logical_and(orders['group']=='A', np.logical_not(orders['visitorId'].isin(filtered)))]['revenue'].mean() - 1))"
   ]
  },
  {
   "cell_type": "markdown",
   "metadata": {},
   "source": [
    "\n",
    "**Preliminary conclusion 2** The relative difference is not in favor of B, if we remove abnormal purchases of more than 58,000 rubles. Group B converts better, but generates less revenue overall."
   ]
  },
  {
   "cell_type": "markdown",
   "metadata": {},
   "source": [
    "## Recommendations from the analyst and a possible course of action\n",
    "<a class=\"anchor\" id=\"concl\">"
   ]
  },
  {
   "cell_type": "markdown",
   "metadata": {},
   "source": [
    "I. Choice of product hypothesis.\n",
    "\n",
    "The use of different methods revealed two solutions that, according to the Impact and Reach indicators, came out in the top 3. There are two that differ in the same parameters. Launching a promotion and adding a block about products cannot be considered unconditionally useful. The promotion will increase purchases, and information blocks will increase audience coverage. Two hypotheses were in the top of both ratings, two more require preparation:\n",
    "\n",
    "**Add product recommendation blocks to your online store website to increase conversion and average order value'** is an inexpensive solution.\n",
    "\n",
    "**Add two new traffic acquisition channels, which will allow you to attract 30% more users** - a potentially costly solution, before launching, you should optimize landing pages and email collection, as well as see how the buttons work, what is the user's path to purchase. Before applying this solution, we need to conduct at least usability testing.\n",
    "\n",
    "→ To launch a promotion, we will first need to calculate the unit-economy and choose for whom and what services, goods, we can launch the promotion and in what amount. Consider seasonality, view historical data on the product.\n",
    "\n",
    "**Add product recommendation blocks to the online store website to increase conversion and average order check** - this may be needed for retargeting.\n",
    "\n",
    "II. Data analysis.\n",
    "There are anomalous values ​​in the data. We removed one very large purchase of 1,294,500 rubles on August 13th. A benchmark of 58,000 rubles per order and 4 purchases per unique per day was chosen as a filter for the cost of the order.\n",
    "We see that at the start, the conversion of group B is half a point higher. Then it sags and gives way to the first week of August. Then it goes forward from August 8 to 13, although the graph of the average check shows that since the second week the average check of group B relative to group A has been in drawdown. This happens when, for example, there is a promotion for an accompanying product. The average check will be less, but the hype fuels the conversion, it is high.\n",
    "\n",
    "Since we relied on cumulative and relative graphs, we can only mark dates with extreme values. But anomalies in the cumulative data affect the results for a long time. In order to rely not on a visual graph, but to draw conclusions based on the data, we had to conduct an ab-test analysis.\n",
    "\n",
    "    Both groups are independent. Threshold 0.05. We measure the statistical difference between groups in order to answer the question: can we consider that the samples are equal or there is a statistically significant difference in them. **Null hypothesis: samples are equal. Alternative: no, they are different, there is a statistically significant difference**. To evaluate the difference, we will measure the relative metric.\n",
    "\n",
    "III. AV testing\n",
    "We test hypotheses on two types of samples: 100% of users and 99% of users. The fact is that we cannot take into account the most extreme values. Even without obvious outliers, these extreme values ​​affect the results.\n",
    "\n",
    "Conversions: Based on raw base data, group B does not convert much better than group A, based on the data. Although based on the graph, one could come to a false conclusion. According to the cleaned data, group B converts much better.\n",
    "But: conversion to sales is better in and of itself. But the income is higher or not? The conversion may be higher, but for an inexpensive popular product.\n",
    "\n",
    "According to the average invoice: according to raw data, B loses to A by 0.016, and according to cleared data, by 0.014. It still ends up making less money.\n",
    "\n",
    "For business purposes, we recommend abandoning the experiment that was rolled out on group B and moving on to other growth experiments. And also set up retargeting and find a consultant to call \"dear\" customers, if the product being sold is of regular use."
   ]
  }
 ],
 "metadata": {
  "ExecuteTimeLog": [
   {
    "duration": 140,
    "start_time": "2021-09-09T15:42:25.679Z"
   },
   {
    "duration": 1099,
    "start_time": "2021-09-09T15:44:58.075Z"
   },
   {
    "duration": 719,
    "start_time": "2021-09-09T15:45:02.807Z"
   },
   {
    "duration": 71,
    "start_time": "2021-09-09T15:46:53.418Z"
   },
   {
    "duration": 1510,
    "start_time": "2021-09-09T15:47:00.243Z"
   },
   {
    "duration": 46,
    "start_time": "2021-09-09T15:47:10.934Z"
   },
   {
    "duration": 23,
    "start_time": "2021-09-09T15:47:29.117Z"
   },
   {
    "duration": 38,
    "start_time": "2021-09-09T15:47:44.391Z"
   },
   {
    "duration": 356,
    "start_time": "2021-09-09T15:47:45.050Z"
   },
   {
    "duration": 38,
    "start_time": "2021-09-09T15:47:52.325Z"
   },
   {
    "duration": 19,
    "start_time": "2021-09-09T15:47:52.934Z"
   },
   {
    "duration": 37,
    "start_time": "2021-09-09T15:47:57.784Z"
   },
   {
    "duration": 19,
    "start_time": "2021-09-09T15:47:58.068Z"
   },
   {
    "duration": 291,
    "start_time": "2021-09-09T15:56:19.851Z"
   },
   {
    "duration": 320,
    "start_time": "2021-09-09T15:56:24.183Z"
   },
   {
    "duration": 14,
    "start_time": "2021-09-09T15:56:32.639Z"
   },
   {
    "duration": 14,
    "start_time": "2021-09-09T15:56:49.118Z"
   },
   {
    "duration": 359,
    "start_time": "2021-09-09T15:57:03.693Z"
   },
   {
    "duration": 19,
    "start_time": "2021-09-09T15:57:08.965Z"
   },
   {
    "duration": 113,
    "start_time": "2021-09-09T15:57:36.919Z"
   },
   {
    "duration": 93,
    "start_time": "2021-09-09T15:57:40.689Z"
   },
   {
    "duration": 121,
    "start_time": "2021-09-09T15:57:45.532Z"
   },
   {
    "duration": 103,
    "start_time": "2021-09-09T15:57:50.376Z"
   },
   {
    "duration": 108,
    "start_time": "2021-09-09T15:57:58.064Z"
   },
   {
    "duration": 134,
    "start_time": "2021-09-09T15:58:06.656Z"
   },
   {
    "duration": 107,
    "start_time": "2021-09-09T15:58:10.032Z"
   },
   {
    "duration": 124,
    "start_time": "2021-09-09T15:58:12.373Z"
   },
   {
    "duration": 315,
    "start_time": "2021-09-09T15:58:19.264Z"
   },
   {
    "duration": 392,
    "start_time": "2021-09-09T15:58:29.761Z"
   },
   {
    "duration": 359,
    "start_time": "2021-09-09T15:58:48.727Z"
   },
   {
    "duration": 378,
    "start_time": "2021-09-09T15:59:36.957Z"
   },
   {
    "duration": 347,
    "start_time": "2021-09-09T16:06:15.758Z"
   },
   {
    "duration": 5,
    "start_time": "2021-09-09T16:06:20.704Z"
   },
   {
    "duration": 8,
    "start_time": "2021-09-09T16:06:34.225Z"
   },
   {
    "duration": 13,
    "start_time": "2021-09-09T16:06:53.178Z"
   },
   {
    "duration": 21,
    "start_time": "2021-09-09T16:07:11.638Z"
   },
   {
    "duration": 150,
    "start_time": "2021-09-09T16:07:35.639Z"
   },
   {
    "duration": 361,
    "start_time": "2021-09-09T16:07:43.323Z"
   },
   {
    "duration": 20,
    "start_time": "2021-09-09T16:07:59.150Z"
   },
   {
    "duration": 336,
    "start_time": "2021-09-09T16:08:31.397Z"
   },
   {
    "duration": 317,
    "start_time": "2021-09-09T16:08:46.632Z"
   },
   {
    "duration": 23,
    "start_time": "2021-09-09T16:08:55.577Z"
   },
   {
    "duration": 18,
    "start_time": "2021-09-09T16:09:42.876Z"
   },
   {
    "duration": 114,
    "start_time": "2021-09-09T16:12:20.276Z"
   },
   {
    "duration": 72,
    "start_time": "2021-09-09T16:12:25.497Z"
   },
   {
    "duration": 19,
    "start_time": "2021-09-09T16:12:26.799Z"
   },
   {
    "duration": 104,
    "start_time": "2021-09-09T16:12:27.201Z"
   },
   {
    "duration": 24,
    "start_time": "2021-09-09T16:12:33.304Z"
   },
   {
    "duration": 16,
    "start_time": "2021-09-09T16:13:10.115Z"
   },
   {
    "duration": 4,
    "start_time": "2021-09-09T16:16:05.460Z"
   },
   {
    "duration": 56,
    "start_time": "2021-09-09T16:16:06.236Z"
   },
   {
    "duration": 20,
    "start_time": "2021-09-09T16:16:06.626Z"
   },
   {
    "duration": 30,
    "start_time": "2021-09-09T16:16:06.910Z"
   },
   {
    "duration": 12,
    "start_time": "2021-09-09T16:16:08.548Z"
   },
   {
    "duration": 4,
    "start_time": "2021-09-09T16:16:30.462Z"
   },
   {
    "duration": 57,
    "start_time": "2021-09-09T16:16:30.743Z"
   },
   {
    "duration": 17,
    "start_time": "2021-09-09T16:16:31.024Z"
   },
   {
    "duration": 25,
    "start_time": "2021-09-09T16:16:31.268Z"
   },
   {
    "duration": 10,
    "start_time": "2021-09-09T16:16:32.785Z"
   },
   {
    "duration": 106,
    "start_time": "2021-09-09T16:17:59.696Z"
   },
   {
    "duration": 8958,
    "start_time": "2021-09-09T16:18:09.871Z"
   },
   {
    "duration": 11,
    "start_time": "2021-09-09T16:18:20.044Z"
   },
   {
    "duration": 8353,
    "start_time": "2021-09-09T16:18:28.832Z"
   },
   {
    "duration": 11,
    "start_time": "2021-09-09T16:19:21.223Z"
   },
   {
    "duration": 5,
    "start_time": "2021-09-09T16:20:05.982Z"
   },
   {
    "duration": 54,
    "start_time": "2021-09-09T16:20:06.543Z"
   },
   {
    "duration": 19,
    "start_time": "2021-09-09T16:20:06.802Z"
   },
   {
    "duration": 28,
    "start_time": "2021-09-09T16:20:07.035Z"
   },
   {
    "duration": 10,
    "start_time": "2021-09-09T16:20:07.848Z"
   },
   {
    "duration": 123,
    "start_time": "2021-09-09T16:20:08.360Z"
   },
   {
    "duration": 4,
    "start_time": "2021-09-09T16:20:40.322Z"
   },
   {
    "duration": 51,
    "start_time": "2021-09-09T16:20:41.154Z"
   },
   {
    "duration": 20,
    "start_time": "2021-09-09T16:20:41.444Z"
   },
   {
    "duration": 28,
    "start_time": "2021-09-09T16:20:41.688Z"
   },
   {
    "duration": 14,
    "start_time": "2021-09-09T16:20:42.434Z"
   },
   {
    "duration": 111,
    "start_time": "2021-09-09T16:20:43.032Z"
   },
   {
    "duration": 11,
    "start_time": "2021-09-09T16:21:22.636Z"
   },
   {
    "duration": 316,
    "start_time": "2021-09-09T16:21:27.882Z"
   },
   {
    "duration": 300,
    "start_time": "2021-09-09T16:23:34.179Z"
   },
   {
    "duration": 10,
    "start_time": "2021-09-09T16:23:42.837Z"
   },
   {
    "duration": 291,
    "start_time": "2021-09-09T16:23:47.296Z"
   },
   {
    "duration": 11,
    "start_time": "2021-09-09T16:23:51.319Z"
   },
   {
    "duration": 5955,
    "start_time": "2021-09-09T16:24:10.961Z"
   },
   {
    "duration": 9,
    "start_time": "2021-09-09T16:24:33.770Z"
   },
   {
    "duration": 313,
    "start_time": "2021-09-09T16:26:42.003Z"
   },
   {
    "duration": 15,
    "start_time": "2021-09-09T16:26:59.357Z"
   },
   {
    "duration": 10,
    "start_time": "2021-09-09T16:35:19.966Z"
   },
   {
    "duration": 485,
    "start_time": "2021-09-09T16:40:27.438Z"
   },
   {
    "duration": 639,
    "start_time": "2021-09-09T16:40:38.255Z"
   },
   {
    "duration": 143,
    "start_time": "2021-09-09T16:42:21.967Z"
   },
   {
    "duration": 379,
    "start_time": "2021-09-09T16:45:08.001Z"
   },
   {
    "duration": 329,
    "start_time": "2021-09-09T16:45:18.545Z"
   },
   {
    "duration": 4,
    "start_time": "2021-09-09T16:45:43.621Z"
   },
   {
    "duration": 76,
    "start_time": "2021-09-09T16:46:05.412Z"
   },
   {
    "duration": 6,
    "start_time": "2021-09-09T16:49:08.822Z"
   },
   {
    "duration": 670,
    "start_time": "2021-09-09T16:49:28.471Z"
   },
   {
    "duration": 4,
    "start_time": "2021-09-09T16:49:49.380Z"
   },
   {
    "duration": 60,
    "start_time": "2021-09-09T16:49:50.029Z"
   },
   {
    "duration": 20,
    "start_time": "2021-09-09T16:49:50.225Z"
   },
   {
    "duration": 26,
    "start_time": "2021-09-09T16:49:50.439Z"
   },
   {
    "duration": 11,
    "start_time": "2021-09-09T16:49:50.897Z"
   },
   {
    "duration": 11,
    "start_time": "2021-09-09T16:49:51.567Z"
   },
   {
    "duration": 4,
    "start_time": "2021-09-09T16:49:52.699Z"
   },
   {
    "duration": 6,
    "start_time": "2021-09-09T16:49:53.779Z"
   },
   {
    "duration": 663,
    "start_time": "2021-09-09T16:49:55.125Z"
   },
   {
    "duration": 5,
    "start_time": "2021-09-09T16:50:57.913Z"
   },
   {
    "duration": 58,
    "start_time": "2021-09-09T16:50:58.500Z"
   },
   {
    "duration": 19,
    "start_time": "2021-09-09T16:50:58.776Z"
   },
   {
    "duration": 27,
    "start_time": "2021-09-09T16:50:59.057Z"
   },
   {
    "duration": 11,
    "start_time": "2021-09-09T16:50:59.547Z"
   },
   {
    "duration": 12,
    "start_time": "2021-09-09T16:51:00.771Z"
   },
   {
    "duration": 4,
    "start_time": "2021-09-09T16:51:02.297Z"
   },
   {
    "duration": 6,
    "start_time": "2021-09-09T16:51:04.055Z"
   },
   {
    "duration": 809,
    "start_time": "2021-09-09T16:51:04.938Z"
   },
   {
    "duration": 5,
    "start_time": "2021-09-09T16:51:44.307Z"
   },
   {
    "duration": 53,
    "start_time": "2021-09-09T16:51:45.045Z"
   },
   {
    "duration": 25,
    "start_time": "2021-09-09T16:51:45.301Z"
   },
   {
    "duration": 37,
    "start_time": "2021-09-09T16:51:45.545Z"
   },
   {
    "duration": 13,
    "start_time": "2021-09-09T16:51:46.007Z"
   },
   {
    "duration": 12,
    "start_time": "2021-09-09T16:51:46.745Z"
   },
   {
    "duration": 4,
    "start_time": "2021-09-09T16:51:47.934Z"
   },
   {
    "duration": 6,
    "start_time": "2021-09-09T16:51:49.236Z"
   },
   {
    "duration": 688,
    "start_time": "2021-09-09T16:51:49.886Z"
   },
   {
    "duration": 6,
    "start_time": "2021-09-09T16:52:21.617Z"
   },
   {
    "duration": 863,
    "start_time": "2021-09-09T16:52:22.007Z"
   },
   {
    "duration": 3953,
    "start_time": "2021-09-09T17:35:33.185Z"
   },
   {
    "duration": 9,
    "start_time": "2021-09-09T17:37:01.338Z"
   },
   {
    "duration": 6467,
    "start_time": "2021-09-09T17:38:11.715Z"
   },
   {
    "duration": 5,
    "start_time": "2021-09-09T17:38:34.342Z"
   },
   {
    "duration": 11,
    "start_time": "2021-09-09T17:39:04.234Z"
   },
   {
    "duration": 1216,
    "start_time": "2021-09-09T17:40:08.042Z"
   },
   {
    "duration": 6,
    "start_time": "2021-09-09T17:40:14.367Z"
   },
   {
    "duration": 2624,
    "start_time": "2021-09-09T17:40:30.941Z"
   },
   {
    "duration": 12126,
    "start_time": "2021-09-09T17:41:10.057Z"
   },
   {
    "duration": 6700,
    "start_time": "2021-09-09T17:41:22.475Z"
   },
   {
    "duration": -678,
    "start_time": "2021-09-09T17:41:29.855Z"
   },
   {
    "duration": 5,
    "start_time": "2021-09-09T17:42:08.474Z"
   },
   {
    "duration": 80,
    "start_time": "2021-09-09T17:42:08.852Z"
   },
   {
    "duration": 18,
    "start_time": "2021-09-09T17:42:09.122Z"
   },
   {
    "duration": 29,
    "start_time": "2021-09-09T17:42:09.339Z"
   },
   {
    "duration": 11,
    "start_time": "2021-09-09T17:42:09.814Z"
   },
   {
    "duration": 14,
    "start_time": "2021-09-09T17:42:10.653Z"
   },
   {
    "duration": 4,
    "start_time": "2021-09-09T17:42:11.851Z"
   },
   {
    "duration": 7,
    "start_time": "2021-09-09T17:42:12.109Z"
   },
   {
    "duration": 20,
    "start_time": "2021-09-09T17:42:12.387Z"
   },
   {
    "duration": 1524,
    "start_time": "2021-09-09T17:42:13.696Z"
   },
   {
    "duration": 1525,
    "start_time": "2021-09-09T17:42:29.149Z"
   },
   {
    "duration": 19,
    "start_time": "2021-09-09T17:42:39.784Z"
   },
   {
    "duration": 8,
    "start_time": "2021-09-09T17:43:04.431Z"
   },
   {
    "duration": 96,
    "start_time": "2021-09-09T17:43:38.477Z"
   },
   {
    "duration": 122,
    "start_time": "2021-09-09T17:44:02.139Z"
   },
   {
    "duration": 334,
    "start_time": "2021-09-09T17:44:05.278Z"
   },
   {
    "duration": 375,
    "start_time": "2021-09-09T17:44:11.058Z"
   },
   {
    "duration": 9084,
    "start_time": "2021-09-09T17:44:51.235Z"
   },
   {
    "duration": 339,
    "start_time": "2021-09-09T17:45:27.486Z"
   },
   {
    "duration": 291,
    "start_time": "2021-09-09T17:48:24.540Z"
   },
   {
    "duration": 17,
    "start_time": "2021-09-09T17:49:16.059Z"
   },
   {
    "duration": 389,
    "start_time": "2021-09-09T17:49:49.941Z"
   },
   {
    "duration": 5,
    "start_time": "2021-09-09T17:50:17.968Z"
   },
   {
    "duration": 66,
    "start_time": "2021-09-09T17:50:18.320Z"
   },
   {
    "duration": 19,
    "start_time": "2021-09-09T17:50:18.595Z"
   },
   {
    "duration": 27,
    "start_time": "2021-09-09T17:50:18.908Z"
   },
   {
    "duration": 10,
    "start_time": "2021-09-09T17:50:19.300Z"
   },
   {
    "duration": 11,
    "start_time": "2021-09-09T17:50:20.189Z"
   },
   {
    "duration": 5,
    "start_time": "2021-09-09T17:50:21.340Z"
   },
   {
    "duration": 6,
    "start_time": "2021-09-09T17:50:22.640Z"
   },
   {
    "duration": 28,
    "start_time": "2021-09-09T17:50:22.649Z"
   },
   {
    "duration": 22,
    "start_time": "2021-09-09T17:50:22.680Z"
   },
   {
    "duration": 12,
    "start_time": "2021-09-09T17:50:22.704Z"
   },
   {
    "duration": 331,
    "start_time": "2021-09-09T17:50:22.824Z"
   },
   {
    "duration": 268,
    "start_time": "2021-09-09T17:50:24.467Z"
   },
   {
    "duration": 13,
    "start_time": "2021-09-09T17:50:24.738Z"
   },
   {
    "duration": 442,
    "start_time": "2021-09-09T17:50:24.762Z"
   },
   {
    "duration": 620,
    "start_time": "2021-09-09T17:50:47.330Z"
   },
   {
    "duration": 741,
    "start_time": "2021-09-09T17:50:50.711Z"
   },
   {
    "duration": 2521,
    "start_time": "2021-09-09T17:50:53.741Z"
   },
   {
    "duration": 696,
    "start_time": "2021-09-09T17:51:22.214Z"
   },
   {
    "duration": 632,
    "start_time": "2021-09-09T17:51:27.866Z"
   },
   {
    "duration": 323,
    "start_time": "2021-09-09T17:51:54.611Z"
   },
   {
    "duration": 623,
    "start_time": "2021-09-09T17:52:25.226Z"
   },
   {
    "duration": 619,
    "start_time": "2021-09-09T17:53:16.130Z"
   },
   {
    "duration": 1182,
    "start_time": "2021-09-09T17:53:32.907Z"
   },
   {
    "duration": 98,
    "start_time": "2021-09-09T17:54:00.379Z"
   },
   {
    "duration": 643,
    "start_time": "2021-09-09T17:54:06.979Z"
   },
   {
    "duration": 573,
    "start_time": "2021-09-09T17:54:10.358Z"
   },
   {
    "duration": 594,
    "start_time": "2021-09-09T17:54:18.991Z"
   },
   {
    "duration": 613,
    "start_time": "2021-09-09T17:54:26.737Z"
   },
   {
    "duration": 610,
    "start_time": "2021-09-09T17:54:32.263Z"
   },
   {
    "duration": 1493,
    "start_time": "2021-09-09T17:57:27.291Z"
   },
   {
    "duration": 74,
    "start_time": "2021-09-09T17:57:28.787Z"
   },
   {
    "duration": 25,
    "start_time": "2021-09-09T17:57:28.864Z"
   },
   {
    "duration": 28,
    "start_time": "2021-09-09T17:57:28.892Z"
   },
   {
    "duration": 48,
    "start_time": "2021-09-09T17:57:28.923Z"
   },
   {
    "duration": 11,
    "start_time": "2021-09-09T17:57:28.973Z"
   },
   {
    "duration": 9,
    "start_time": "2021-09-09T17:57:28.987Z"
   },
   {
    "duration": 11,
    "start_time": "2021-09-09T17:57:28.999Z"
   },
   {
    "duration": 60,
    "start_time": "2021-09-09T17:57:29.014Z"
   },
   {
    "duration": 25,
    "start_time": "2021-09-09T17:57:29.077Z"
   },
   {
    "duration": 12,
    "start_time": "2021-09-09T17:57:29.105Z"
   },
   {
    "duration": 354,
    "start_time": "2021-09-09T17:57:29.119Z"
   },
   {
    "duration": 303,
    "start_time": "2021-09-09T17:57:29.475Z"
   },
   {
    "duration": 18,
    "start_time": "2021-09-09T17:57:29.780Z"
   },
   {
    "duration": 856,
    "start_time": "2021-09-09T17:57:29.800Z"
   },
   {
    "duration": -3311,
    "start_time": "2021-09-09T17:57:33.971Z"
   },
   {
    "duration": 1480,
    "start_time": "2021-09-09T18:04:33.012Z"
   },
   {
    "duration": 62,
    "start_time": "2021-09-09T18:04:34.495Z"
   },
   {
    "duration": 25,
    "start_time": "2021-09-09T18:04:34.561Z"
   },
   {
    "duration": 35,
    "start_time": "2021-09-09T18:04:34.590Z"
   },
   {
    "duration": 40,
    "start_time": "2021-09-09T18:04:34.628Z"
   },
   {
    "duration": 10,
    "start_time": "2021-09-09T18:04:34.671Z"
   },
   {
    "duration": 22,
    "start_time": "2021-09-09T18:04:34.683Z"
   },
   {
    "duration": 27,
    "start_time": "2021-09-09T18:04:34.707Z"
   },
   {
    "duration": 30,
    "start_time": "2021-09-09T18:04:34.738Z"
   },
   {
    "duration": 38,
    "start_time": "2021-09-09T18:04:34.770Z"
   },
   {
    "duration": 28,
    "start_time": "2021-09-09T18:04:34.810Z"
   },
   {
    "duration": 348,
    "start_time": "2021-09-09T18:04:34.840Z"
   },
   {
    "duration": 290,
    "start_time": "2021-09-09T18:04:35.190Z"
   },
   {
    "duration": 15,
    "start_time": "2021-09-09T18:04:35.482Z"
   },
   {
    "duration": 335,
    "start_time": "2021-09-09T18:04:35.500Z"
   },
   {
    "duration": 606,
    "start_time": "2021-09-09T18:04:35.837Z"
   },
   {
    "duration": 303,
    "start_time": "2021-09-09T18:04:36.446Z"
   },
   {
    "duration": 433,
    "start_time": "2021-09-09T18:04:36.751Z"
   },
   {
    "duration": 315,
    "start_time": "2021-09-09T18:04:37.186Z"
   },
   {
    "duration": 471,
    "start_time": "2021-09-09T18:04:37.504Z"
   },
   {
    "duration": 534,
    "start_time": "2021-09-09T18:07:00.298Z"
   },
   {
    "duration": 274,
    "start_time": "2021-09-09T18:07:07.200Z"
   },
   {
    "duration": 302,
    "start_time": "2021-09-09T18:07:18.524Z"
   },
   {
    "duration": 464,
    "start_time": "2021-09-09T18:07:27.515Z"
   },
   {
    "duration": 336,
    "start_time": "2021-09-09T18:07:34.192Z"
   },
   {
    "duration": 304,
    "start_time": "2021-09-09T18:07:53.825Z"
   },
   {
    "duration": 8,
    "start_time": "2021-09-09T18:08:19.237Z"
   },
   {
    "duration": 291,
    "start_time": "2021-09-09T18:08:23.894Z"
   },
   {
    "duration": 262,
    "start_time": "2021-09-09T18:08:29.596Z"
   },
   {
    "duration": 301,
    "start_time": "2021-09-09T18:08:35.182Z"
   },
   {
    "duration": 28,
    "start_time": "2021-09-09T18:08:51.855Z"
   },
   {
    "duration": 8,
    "start_time": "2021-09-09T18:09:41.101Z"
   },
   {
    "duration": 328,
    "start_time": "2021-09-09T18:09:43.335Z"
   },
   {
    "duration": 388,
    "start_time": "2021-09-09T18:09:47.881Z"
   },
   {
    "duration": 568,
    "start_time": "2021-09-09T18:10:06.823Z"
   },
   {
    "duration": 436,
    "start_time": "2021-09-09T18:10:26.953Z"
   },
   {
    "duration": 440,
    "start_time": "2021-09-09T18:10:37.091Z"
   },
   {
    "duration": 452,
    "start_time": "2021-09-09T18:11:14.752Z"
   },
   {
    "duration": 100,
    "start_time": "2021-09-09T18:12:14.364Z"
   },
   {
    "duration": 19,
    "start_time": "2021-09-09T18:13:11.678Z"
   },
   {
    "duration": 9,
    "start_time": "2021-09-09T18:13:34.905Z"
   },
   {
    "duration": 471,
    "start_time": "2021-09-09T18:15:27.732Z"
   },
   {
    "duration": 18,
    "start_time": "2021-09-09T18:15:36.361Z"
   },
   {
    "duration": 10,
    "start_time": "2021-09-09T18:15:51.365Z"
   },
   {
    "duration": 8,
    "start_time": "2021-09-09T18:16:00.993Z"
   },
   {
    "duration": 320,
    "start_time": "2021-09-09T18:16:20.838Z"
   },
   {
    "duration": 398,
    "start_time": "2021-09-09T18:16:25.129Z"
   },
   {
    "duration": 366,
    "start_time": "2021-09-09T18:17:09.331Z"
   },
   {
    "duration": 373,
    "start_time": "2021-09-09T18:17:33.678Z"
   },
   {
    "duration": 854,
    "start_time": "2021-09-09T18:17:57.932Z"
   },
   {
    "duration": 376,
    "start_time": "2021-09-09T18:18:05.599Z"
   },
   {
    "duration": 373,
    "start_time": "2021-09-09T18:18:20.353Z"
   },
   {
    "duration": 418,
    "start_time": "2021-09-09T18:19:19.822Z"
   },
   {
    "duration": 541,
    "start_time": "2021-09-09T18:19:46.175Z"
   },
   {
    "duration": 394,
    "start_time": "2021-09-09T18:19:50.024Z"
   },
   {
    "duration": 307,
    "start_time": "2021-09-09T18:21:04.785Z"
   },
   {
    "duration": 834,
    "start_time": "2021-09-09T18:21:59.345Z"
   },
   {
    "duration": 292,
    "start_time": "2021-09-09T18:22:44.616Z"
   },
   {
    "duration": 4394,
    "start_time": "2021-09-09T18:22:52.811Z"
   },
   {
    "duration": 10,
    "start_time": "2021-09-09T18:23:04.764Z"
   },
   {
    "duration": 436,
    "start_time": "2021-09-09T18:23:15.902Z"
   },
   {
    "duration": 4,
    "start_time": "2021-09-09T18:23:45.070Z"
   },
   {
    "duration": 420,
    "start_time": "2021-09-09T18:24:11.252Z"
   },
   {
    "duration": 338,
    "start_time": "2021-09-09T18:24:33.158Z"
   },
   {
    "duration": 317,
    "start_time": "2021-09-09T18:24:41.423Z"
   },
   {
    "duration": 410,
    "start_time": "2021-09-09T18:24:49.446Z"
   },
   {
    "duration": 227,
    "start_time": "2021-09-09T18:25:25.158Z"
   },
   {
    "duration": 6,
    "start_time": "2021-09-09T18:25:28.292Z"
   },
   {
    "duration": 5080,
    "start_time": "2021-09-09T18:25:38.758Z"
   },
   {
    "duration": 11,
    "start_time": "2021-09-09T18:26:20.246Z"
   },
   {
    "duration": 322,
    "start_time": "2021-09-09T18:27:18.418Z"
   },
   {
    "duration": 489,
    "start_time": "2021-09-09T18:27:29.037Z"
   },
   {
    "duration": 12,
    "start_time": "2021-09-09T18:27:36.715Z"
   },
   {
    "duration": 7,
    "start_time": "2021-09-09T18:27:45.200Z"
   },
   {
    "duration": 6,
    "start_time": "2021-09-09T18:28:18.459Z"
   },
   {
    "duration": 6,
    "start_time": "2021-09-09T18:28:21.035Z"
   },
   {
    "duration": 8,
    "start_time": "2021-09-09T18:28:30.987Z"
   },
   {
    "duration": 7,
    "start_time": "2021-09-09T18:28:38.512Z"
   },
   {
    "duration": 6,
    "start_time": "2021-09-09T18:28:50.419Z"
   },
   {
    "duration": 7,
    "start_time": "2021-09-09T18:29:08.379Z"
   },
   {
    "duration": 345,
    "start_time": "2021-09-09T18:30:41.620Z"
   },
   {
    "duration": 455,
    "start_time": "2021-09-09T18:30:43.952Z"
   },
   {
    "duration": 1337,
    "start_time": "2021-09-09T18:30:52.149Z"
   },
   {
    "duration": 551,
    "start_time": "2021-09-09T18:31:08.998Z"
   },
   {
    "duration": 3234,
    "start_time": "2021-09-09T18:31:27.017Z"
   },
   {
    "duration": -749,
    "start_time": "2021-09-09T18:32:21.230Z"
   },
   {
    "duration": -757,
    "start_time": "2021-09-09T18:32:21.240Z"
   },
   {
    "duration": -762,
    "start_time": "2021-09-09T18:32:21.246Z"
   },
   {
    "duration": 436,
    "start_time": "2021-09-09T18:32:29.300Z"
   },
   {
    "duration": 6,
    "start_time": "2021-09-09T18:32:30.807Z"
   },
   {
    "duration": 6,
    "start_time": "2021-09-09T18:32:32.657Z"
   },
   {
    "duration": 484,
    "start_time": "2021-09-09T18:32:38.116Z"
   },
   {
    "duration": -754,
    "start_time": "2021-09-09T18:33:26.495Z"
   },
   {
    "duration": 6,
    "start_time": "2021-09-09T18:33:34.276Z"
   },
   {
    "duration": 11,
    "start_time": "2021-09-09T18:42:15.079Z"
   },
   {
    "duration": 11,
    "start_time": "2021-09-09T18:43:19.298Z"
   },
   {
    "duration": 92,
    "start_time": "2021-09-09T18:43:24.445Z"
   },
   {
    "duration": 434,
    "start_time": "2021-09-09T18:44:10.540Z"
   },
   {
    "duration": 90,
    "start_time": "2021-09-09T18:44:17.605Z"
   },
   {
    "duration": 337,
    "start_time": "2021-09-09T18:51:44.092Z"
   },
   {
    "duration": 91,
    "start_time": "2021-09-09T18:51:47.319Z"
   },
   {
    "duration": 92,
    "start_time": "2021-09-09T18:51:47.941Z"
   },
   {
    "duration": 9,
    "start_time": "2021-09-09T18:51:54.682Z"
   },
   {
    "duration": 380,
    "start_time": "2021-09-09T18:54:24.056Z"
   },
   {
    "duration": 21,
    "start_time": "2021-09-09T18:55:15.316Z"
   },
   {
    "duration": 374,
    "start_time": "2021-09-09T18:55:43.848Z"
   },
   {
    "duration": 32,
    "start_time": "2021-09-09T18:56:00.358Z"
   },
   {
    "duration": 8807,
    "start_time": "2021-09-09T18:56:59.215Z"
   },
   {
    "duration": 8643,
    "start_time": "2021-09-09T18:57:24.832Z"
   },
   {
    "duration": 9856,
    "start_time": "2021-09-09T18:57:45.393Z"
   },
   {
    "duration": 6,
    "start_time": "2021-09-09T18:58:20.418Z"
   },
   {
    "duration": 346,
    "start_time": "2021-09-09T18:58:38.251Z"
   },
   {
    "duration": 6,
    "start_time": "2021-09-09T18:59:14.345Z"
   },
   {
    "duration": 341,
    "start_time": "2021-09-09T18:59:20.126Z"
   },
   {
    "duration": 29,
    "start_time": "2021-09-09T18:59:32.948Z"
   },
   {
    "duration": 6,
    "start_time": "2021-09-09T18:59:34.185Z"
   },
   {
    "duration": 6,
    "start_time": "2021-09-09T18:59:34.707Z"
   },
   {
    "duration": 301,
    "start_time": "2021-09-09T18:59:49.873Z"
   },
   {
    "duration": 5,
    "start_time": "2021-09-09T19:00:14.812Z"
   },
   {
    "duration": 82,
    "start_time": "2021-09-09T19:00:15.744Z"
   },
   {
    "duration": 19,
    "start_time": "2021-09-09T19:00:16.075Z"
   },
   {
    "duration": 28,
    "start_time": "2021-09-09T19:00:16.403Z"
   },
   {
    "duration": 10,
    "start_time": "2021-09-09T19:00:17.745Z"
   },
   {
    "duration": 9,
    "start_time": "2021-09-09T19:00:22.315Z"
   },
   {
    "duration": 395,
    "start_time": "2021-09-09T19:01:04.105Z"
   },
   {
    "duration": 17,
    "start_time": "2021-09-09T19:01:48.403Z"
   },
   {
    "duration": 347,
    "start_time": "2021-09-09T19:03:05.861Z"
   },
   {
    "duration": 34,
    "start_time": "2021-09-09T19:03:15.596Z"
   },
   {
    "duration": 6,
    "start_time": "2021-09-09T19:03:16.300Z"
   },
   {
    "duration": 6,
    "start_time": "2021-09-09T19:03:16.950Z"
   },
   {
    "duration": 9,
    "start_time": "2021-09-09T19:03:17.469Z"
   },
   {
    "duration": 14,
    "start_time": "2021-09-09T19:03:18.419Z"
   },
   {
    "duration": 292,
    "start_time": "2021-09-09T19:03:20.034Z"
   },
   {
    "duration": 361,
    "start_time": "2021-09-09T19:03:27.819Z"
   },
   {
    "duration": 7920,
    "start_time": "2021-09-09T19:03:36.030Z"
   },
   {
    "duration": 12,
    "start_time": "2021-09-09T19:04:20.295Z"
   },
   {
    "duration": 11,
    "start_time": "2021-09-09T19:04:45.491Z"
   },
   {
    "duration": 8134,
    "start_time": "2021-09-09T19:04:53.867Z"
   },
   {
    "duration": 6,
    "start_time": "2021-09-09T19:05:24.289Z"
   },
   {
    "duration": 7,
    "start_time": "2021-09-09T19:05:26.821Z"
   },
   {
    "duration": 6,
    "start_time": "2021-09-09T19:05:37.609Z"
   },
   {
    "duration": 12,
    "start_time": "2021-09-09T19:07:35.411Z"
   },
   {
    "duration": 140,
    "start_time": "2021-09-09T19:08:08.036Z"
   },
   {
    "duration": 107,
    "start_time": "2021-09-09T19:08:14.327Z"
   },
   {
    "duration": 10066,
    "start_time": "2021-09-09T19:08:19.744Z"
   },
   {
    "duration": 294,
    "start_time": "2021-09-09T19:09:19.263Z"
   },
   {
    "duration": 30,
    "start_time": "2021-09-09T19:09:23.040Z"
   },
   {
    "duration": 5,
    "start_time": "2021-09-09T19:09:23.753Z"
   },
   {
    "duration": 6,
    "start_time": "2021-09-09T19:09:24.398Z"
   },
   {
    "duration": 8,
    "start_time": "2021-09-09T19:09:25.277Z"
   },
   {
    "duration": 14,
    "start_time": "2021-09-09T19:09:27.055Z"
   },
   {
    "duration": 12,
    "start_time": "2021-09-09T19:09:36.499Z"
   },
   {
    "duration": 7,
    "start_time": "2021-09-09T19:09:36.875Z"
   },
   {
    "duration": 5,
    "start_time": "2021-09-09T19:09:37.872Z"
   },
   {
    "duration": 6,
    "start_time": "2021-09-09T19:09:40.095Z"
   },
   {
    "duration": 6,
    "start_time": "2021-09-09T19:09:40.624Z"
   },
   {
    "duration": 8661,
    "start_time": "2021-09-09T19:09:42.526Z"
   },
   {
    "duration": 391,
    "start_time": "2021-09-11T14:24:24.086Z"
   },
   {
    "duration": 1542,
    "start_time": "2021-09-11T14:24:30.845Z"
   },
   {
    "duration": 58,
    "start_time": "2021-09-11T14:24:32.390Z"
   },
   {
    "duration": 22,
    "start_time": "2021-09-11T14:24:32.451Z"
   },
   {
    "duration": 27,
    "start_time": "2021-09-11T14:24:32.476Z"
   },
   {
    "duration": 11,
    "start_time": "2021-09-11T14:24:32.506Z"
   },
   {
    "duration": 42,
    "start_time": "2021-09-11T14:24:32.520Z"
   },
   {
    "duration": 17,
    "start_time": "2021-09-11T14:24:32.565Z"
   },
   {
    "duration": 13,
    "start_time": "2021-09-11T14:24:32.585Z"
   },
   {
    "duration": 27,
    "start_time": "2021-09-11T14:24:32.602Z"
   },
   {
    "duration": 27,
    "start_time": "2021-09-11T14:24:32.632Z"
   },
   {
    "duration": 14,
    "start_time": "2021-09-11T14:24:32.662Z"
   },
   {
    "duration": 342,
    "start_time": "2021-09-11T14:24:32.678Z"
   },
   {
    "duration": 289,
    "start_time": "2021-09-11T14:24:33.023Z"
   },
   {
    "duration": 1989,
    "start_time": "2021-09-11T14:24:33.314Z"
   },
   {
    "duration": -1479,
    "start_time": "2021-09-11T14:24:36.786Z"
   },
   {
    "duration": -1484,
    "start_time": "2021-09-11T14:24:36.792Z"
   },
   {
    "duration": -1487,
    "start_time": "2021-09-11T14:24:36.797Z"
   },
   {
    "duration": -1497,
    "start_time": "2021-09-11T14:24:36.808Z"
   },
   {
    "duration": -1501,
    "start_time": "2021-09-11T14:24:36.813Z"
   },
   {
    "duration": -1504,
    "start_time": "2021-09-11T14:24:36.817Z"
   },
   {
    "duration": -1506,
    "start_time": "2021-09-11T14:24:36.821Z"
   },
   {
    "duration": -1510,
    "start_time": "2021-09-11T14:24:36.826Z"
   },
   {
    "duration": -1513,
    "start_time": "2021-09-11T14:24:36.831Z"
   },
   {
    "duration": -1516,
    "start_time": "2021-09-11T14:24:36.835Z"
   },
   {
    "duration": -1519,
    "start_time": "2021-09-11T14:24:36.840Z"
   },
   {
    "duration": -1529,
    "start_time": "2021-09-11T14:24:36.852Z"
   },
   {
    "duration": -1531,
    "start_time": "2021-09-11T14:24:36.856Z"
   },
   {
    "duration": -1535,
    "start_time": "2021-09-11T14:24:36.861Z"
   },
   {
    "duration": -1538,
    "start_time": "2021-09-11T14:24:36.866Z"
   },
   {
    "duration": -1541,
    "start_time": "2021-09-11T14:24:36.870Z"
   },
   {
    "duration": -1546,
    "start_time": "2021-09-11T14:24:36.876Z"
   },
   {
    "duration": -1547,
    "start_time": "2021-09-11T14:24:36.879Z"
   },
   {
    "duration": -1551,
    "start_time": "2021-09-11T14:24:36.884Z"
   },
   {
    "duration": -1553,
    "start_time": "2021-09-11T14:24:36.888Z"
   },
   {
    "duration": -1564,
    "start_time": "2021-09-11T14:24:36.900Z"
   },
   {
    "duration": -1573,
    "start_time": "2021-09-11T14:24:36.911Z"
   },
   {
    "duration": -1576,
    "start_time": "2021-09-11T14:24:36.915Z"
   },
   {
    "duration": -1579,
    "start_time": "2021-09-11T14:24:36.919Z"
   },
   {
    "duration": -1563,
    "start_time": "2021-09-11T14:24:36.925Z"
   },
   {
    "duration": -1566,
    "start_time": "2021-09-11T14:24:36.929Z"
   },
   {
    "duration": -1570,
    "start_time": "2021-09-11T14:24:36.934Z"
   },
   {
    "duration": -1572,
    "start_time": "2021-09-11T14:24:36.938Z"
   },
   {
    "duration": -1577,
    "start_time": "2021-09-11T14:24:36.944Z"
   },
   {
    "duration": -1580,
    "start_time": "2021-09-11T14:24:36.948Z"
   },
   {
    "duration": -1595,
    "start_time": "2021-09-11T14:24:36.965Z"
   },
   {
    "duration": 1474,
    "start_time": "2021-09-11T14:25:20.703Z"
   },
   {
    "duration": 56,
    "start_time": "2021-09-11T14:25:22.179Z"
   },
   {
    "duration": 21,
    "start_time": "2021-09-11T14:25:22.238Z"
   },
   {
    "duration": 24,
    "start_time": "2021-09-11T14:25:22.262Z"
   },
   {
    "duration": 11,
    "start_time": "2021-09-11T14:25:22.289Z"
   },
   {
    "duration": 10,
    "start_time": "2021-09-11T14:25:22.302Z"
   },
   {
    "duration": 8,
    "start_time": "2021-09-11T14:25:22.314Z"
   },
   {
    "duration": 41,
    "start_time": "2021-09-11T14:25:22.326Z"
   },
   {
    "duration": 21,
    "start_time": "2021-09-11T14:25:22.371Z"
   },
   {
    "duration": 21,
    "start_time": "2021-09-11T14:25:22.394Z"
   },
   {
    "duration": 10,
    "start_time": "2021-09-11T14:25:22.418Z"
   },
   {
    "duration": 356,
    "start_time": "2021-09-11T14:25:22.430Z"
   },
   {
    "duration": 270,
    "start_time": "2021-09-11T14:25:22.789Z"
   },
   {
    "duration": 1447,
    "start_time": "2021-09-11T14:25:23.062Z"
   },
   {
    "duration": -1428,
    "start_time": "2021-09-11T14:25:25.941Z"
   },
   {
    "duration": -1434,
    "start_time": "2021-09-11T14:25:25.948Z"
   },
   {
    "duration": -1438,
    "start_time": "2021-09-11T14:25:25.954Z"
   },
   {
    "duration": -1442,
    "start_time": "2021-09-11T14:25:25.959Z"
   },
   {
    "duration": -1456,
    "start_time": "2021-09-11T14:25:25.974Z"
   },
   {
    "duration": -1457,
    "start_time": "2021-09-11T14:25:25.977Z"
   },
   {
    "duration": -1458,
    "start_time": "2021-09-11T14:25:25.980Z"
   },
   {
    "duration": -1468,
    "start_time": "2021-09-11T14:25:25.991Z"
   },
   {
    "duration": -1469,
    "start_time": "2021-09-11T14:25:25.994Z"
   },
   {
    "duration": -1473,
    "start_time": "2021-09-11T14:25:25.999Z"
   },
   {
    "duration": -1482,
    "start_time": "2021-09-11T14:25:26.010Z"
   },
   {
    "duration": -1484,
    "start_time": "2021-09-11T14:25:26.013Z"
   },
   {
    "duration": -1491,
    "start_time": "2021-09-11T14:25:26.022Z"
   },
   {
    "duration": -1492,
    "start_time": "2021-09-11T14:25:26.025Z"
   },
   {
    "duration": -1494,
    "start_time": "2021-09-11T14:25:26.028Z"
   },
   {
    "duration": -1496,
    "start_time": "2021-09-11T14:25:26.032Z"
   },
   {
    "duration": -1505,
    "start_time": "2021-09-11T14:25:26.043Z"
   },
   {
    "duration": -1507,
    "start_time": "2021-09-11T14:25:26.046Z"
   },
   {
    "duration": -1517,
    "start_time": "2021-09-11T14:25:26.058Z"
   },
   {
    "duration": -1519,
    "start_time": "2021-09-11T14:25:26.061Z"
   },
   {
    "duration": -1522,
    "start_time": "2021-09-11T14:25:26.066Z"
   },
   {
    "duration": -1530,
    "start_time": "2021-09-11T14:25:26.075Z"
   },
   {
    "duration": -1532,
    "start_time": "2021-09-11T14:25:26.079Z"
   },
   {
    "duration": -1542,
    "start_time": "2021-09-11T14:25:26.090Z"
   },
   {
    "duration": -1544,
    "start_time": "2021-09-11T14:25:26.094Z"
   },
   {
    "duration": -1545,
    "start_time": "2021-09-11T14:25:26.096Z"
   },
   {
    "duration": -1548,
    "start_time": "2021-09-11T14:25:26.109Z"
   },
   {
    "duration": -1551,
    "start_time": "2021-09-11T14:25:26.114Z"
   },
   {
    "duration": -1560,
    "start_time": "2021-09-11T14:25:26.125Z"
   },
   {
    "duration": -1562,
    "start_time": "2021-09-11T14:25:26.129Z"
   },
   {
    "duration": -1573,
    "start_time": "2021-09-11T14:25:26.141Z"
   },
   {
    "duration": 20,
    "start_time": "2021-09-11T14:25:56.830Z"
   },
   {
    "duration": 10,
    "start_time": "2021-09-11T14:26:25.194Z"
   },
   {
    "duration": 8,
    "start_time": "2021-09-11T14:26:26.020Z"
   },
   {
    "duration": 324,
    "start_time": "2021-09-11T14:26:28.729Z"
   },
   {
    "duration": 266,
    "start_time": "2021-09-11T14:26:29.055Z"
   },
   {
    "duration": 9,
    "start_time": "2021-09-11T14:26:29.323Z"
   },
   {
    "duration": 8,
    "start_time": "2021-09-11T14:26:29.913Z"
   },
   {
    "duration": 6,
    "start_time": "2021-09-11T14:26:30.535Z"
   },
   {
    "duration": 5,
    "start_time": "2021-09-11T14:26:36.686Z"
   },
   {
    "duration": 49,
    "start_time": "2021-09-11T14:26:37.165Z"
   },
   {
    "duration": 17,
    "start_time": "2021-09-11T14:26:37.530Z"
   },
   {
    "duration": 26,
    "start_time": "2021-09-11T14:26:37.812Z"
   },
   {
    "duration": 10,
    "start_time": "2021-09-11T14:26:38.363Z"
   },
   {
    "duration": 12,
    "start_time": "2021-09-11T14:26:39.259Z"
   },
   {
    "duration": 4,
    "start_time": "2021-09-11T14:26:40.554Z"
   },
   {
    "duration": 6,
    "start_time": "2021-09-11T14:26:40.956Z"
   },
   {
    "duration": 20,
    "start_time": "2021-09-11T14:26:41.278Z"
   },
   {
    "duration": 18,
    "start_time": "2021-09-11T14:26:41.611Z"
   },
   {
    "duration": 8,
    "start_time": "2021-09-11T14:26:41.928Z"
   },
   {
    "duration": 322,
    "start_time": "2021-09-11T14:26:42.488Z"
   },
   {
    "duration": 279,
    "start_time": "2021-09-11T14:26:42.958Z"
   },
   {
    "duration": 9,
    "start_time": "2021-09-11T14:26:43.354Z"
   },
   {
    "duration": 8,
    "start_time": "2021-09-11T14:26:43.775Z"
   },
   {
    "duration": 6,
    "start_time": "2021-09-11T14:26:44.282Z"
   },
   {
    "duration": 1538,
    "start_time": "2021-09-11T14:26:51.835Z"
   },
   {
    "duration": 50,
    "start_time": "2021-09-11T14:26:53.376Z"
   },
   {
    "duration": 22,
    "start_time": "2021-09-11T14:26:53.428Z"
   },
   {
    "duration": 26,
    "start_time": "2021-09-11T14:26:53.452Z"
   },
   {
    "duration": 23,
    "start_time": "2021-09-11T14:26:53.480Z"
   },
   {
    "duration": 19,
    "start_time": "2021-09-11T14:26:53.505Z"
   },
   {
    "duration": 12,
    "start_time": "2021-09-11T14:26:53.526Z"
   },
   {
    "duration": 20,
    "start_time": "2021-09-11T14:26:53.541Z"
   },
   {
    "duration": 39,
    "start_time": "2021-09-11T14:26:53.564Z"
   },
   {
    "duration": 28,
    "start_time": "2021-09-11T14:26:53.606Z"
   },
   {
    "duration": 24,
    "start_time": "2021-09-11T14:26:53.637Z"
   },
   {
    "duration": 358,
    "start_time": "2021-09-11T14:26:53.664Z"
   },
   {
    "duration": 274,
    "start_time": "2021-09-11T14:26:54.024Z"
   },
   {
    "duration": 9,
    "start_time": "2021-09-11T14:26:54.300Z"
   },
   {
    "duration": 11,
    "start_time": "2021-09-11T14:26:54.312Z"
   },
   {
    "duration": 14,
    "start_time": "2021-09-11T14:26:54.325Z"
   },
   {
    "duration": 248,
    "start_time": "2021-09-11T14:26:54.341Z"
   },
   {
    "duration": 233,
    "start_time": "2021-09-11T14:26:54.591Z"
   },
   {
    "duration": 276,
    "start_time": "2021-09-11T14:26:54.826Z"
   },
   {
    "duration": 387,
    "start_time": "2021-09-11T14:26:55.104Z"
   },
   {
    "duration": 8,
    "start_time": "2021-09-11T14:26:55.494Z"
   },
   {
    "duration": 12,
    "start_time": "2021-09-11T14:26:55.505Z"
   },
   {
    "duration": 281,
    "start_time": "2021-09-11T14:26:55.523Z"
   },
   {
    "duration": 449,
    "start_time": "2021-09-11T14:26:55.808Z"
   },
   {
    "duration": 19,
    "start_time": "2021-09-11T14:26:56.260Z"
   },
   {
    "duration": 447,
    "start_time": "2021-09-11T14:26:56.281Z"
   },
   {
    "duration": 6,
    "start_time": "2021-09-11T14:26:56.730Z"
   },
   {
    "duration": 25,
    "start_time": "2021-09-11T14:26:56.738Z"
   },
   {
    "duration": 1333,
    "start_time": "2021-09-11T14:26:56.766Z"
   },
   {
    "duration": -1366,
    "start_time": "2021-09-11T14:26:59.467Z"
   },
   {
    "duration": -1375,
    "start_time": "2021-09-11T14:26:59.478Z"
   },
   {
    "duration": -1379,
    "start_time": "2021-09-11T14:26:59.483Z"
   },
   {
    "duration": -1382,
    "start_time": "2021-09-11T14:26:59.488Z"
   },
   {
    "duration": -1394,
    "start_time": "2021-09-11T14:26:59.501Z"
   },
   {
    "duration": -1398,
    "start_time": "2021-09-11T14:26:59.506Z"
   },
   {
    "duration": -1403,
    "start_time": "2021-09-11T14:26:59.512Z"
   },
   {
    "duration": -1405,
    "start_time": "2021-09-11T14:26:59.516Z"
   },
   {
    "duration": -1410,
    "start_time": "2021-09-11T14:26:59.522Z"
   },
   {
    "duration": -1415,
    "start_time": "2021-09-11T14:26:59.528Z"
   },
   {
    "duration": -1421,
    "start_time": "2021-09-11T14:26:59.535Z"
   },
   {
    "duration": -1428,
    "start_time": "2021-09-11T14:26:59.543Z"
   },
   {
    "duration": -1431,
    "start_time": "2021-09-11T14:26:59.548Z"
   },
   {
    "duration": -1434,
    "start_time": "2021-09-11T14:26:59.552Z"
   },
   {
    "duration": -1439,
    "start_time": "2021-09-11T14:26:59.558Z"
   },
   {
    "duration": -1442,
    "start_time": "2021-09-11T14:26:59.562Z"
   },
   {
    "duration": -1445,
    "start_time": "2021-09-11T14:26:59.566Z"
   },
   {
    "duration": -1448,
    "start_time": "2021-09-11T14:26:59.570Z"
   },
   {
    "duration": 13,
    "start_time": "2021-09-11T14:27:32.973Z"
   },
   {
    "duration": 16,
    "start_time": "2021-09-11T14:27:52.419Z"
   },
   {
    "duration": 271,
    "start_time": "2021-09-11T14:27:55.881Z"
   },
   {
    "duration": 14,
    "start_time": "2021-09-11T14:27:56.648Z"
   },
   {
    "duration": 9,
    "start_time": "2021-09-11T14:27:58.543Z"
   },
   {
    "duration": 8,
    "start_time": "2021-09-11T14:27:59.501Z"
   },
   {
    "duration": 6,
    "start_time": "2021-09-11T14:28:12.690Z"
   },
   {
    "duration": 58,
    "start_time": "2021-09-11T14:28:12.698Z"
   },
   {
    "duration": 17,
    "start_time": "2021-09-11T14:28:12.760Z"
   },
   {
    "duration": 27,
    "start_time": "2021-09-11T14:28:12.780Z"
   },
   {
    "duration": 9,
    "start_time": "2021-09-11T14:28:12.810Z"
   },
   {
    "duration": 43,
    "start_time": "2021-09-11T14:28:12.821Z"
   },
   {
    "duration": 9,
    "start_time": "2021-09-11T14:28:12.866Z"
   },
   {
    "duration": 15,
    "start_time": "2021-09-11T14:28:12.877Z"
   },
   {
    "duration": 26,
    "start_time": "2021-09-11T14:28:12.896Z"
   },
   {
    "duration": 24,
    "start_time": "2021-09-11T14:28:12.925Z"
   },
   {
    "duration": 16,
    "start_time": "2021-09-11T14:28:12.952Z"
   },
   {
    "duration": 354,
    "start_time": "2021-09-11T14:28:12.971Z"
   },
   {
    "duration": 16,
    "start_time": "2021-09-11T14:28:13.327Z"
   },
   {
    "duration": 264,
    "start_time": "2021-09-11T14:28:13.345Z"
   },
   {
    "duration": 14,
    "start_time": "2021-09-11T14:28:13.612Z"
   },
   {
    "duration": 39,
    "start_time": "2021-09-11T14:28:13.628Z"
   },
   {
    "duration": 8,
    "start_time": "2021-09-11T14:28:18.453Z"
   },
   {
    "duration": 9,
    "start_time": "2021-09-11T14:28:40.339Z"
   },
   {
    "duration": 8,
    "start_time": "2021-09-11T14:28:40.979Z"
   },
   {
    "duration": 475,
    "start_time": "2021-09-11T14:28:59.642Z"
   },
   {
    "duration": 6,
    "start_time": "2021-09-11T14:29:02.784Z"
   },
   {
    "duration": 319,
    "start_time": "2021-09-11T14:29:04.288Z"
   },
   {
    "duration": 331,
    "start_time": "2021-09-11T14:29:09.859Z"
   },
   {
    "duration": 5,
    "start_time": "2021-09-11T14:29:17.793Z"
   },
   {
    "duration": 51,
    "start_time": "2021-09-11T14:29:17.801Z"
   },
   {
    "duration": 23,
    "start_time": "2021-09-11T14:29:17.856Z"
   },
   {
    "duration": 29,
    "start_time": "2021-09-11T14:29:17.882Z"
   },
   {
    "duration": 10,
    "start_time": "2021-09-11T14:29:18.280Z"
   },
   {
    "duration": 11,
    "start_time": "2021-09-11T14:29:19.275Z"
   },
   {
    "duration": 4,
    "start_time": "2021-09-11T14:29:20.833Z"
   },
   {
    "duration": 6,
    "start_time": "2021-09-11T14:29:21.281Z"
   },
   {
    "duration": 18,
    "start_time": "2021-09-11T14:29:21.745Z"
   },
   {
    "duration": 20,
    "start_time": "2021-09-11T14:29:22.147Z"
   },
   {
    "duration": 8,
    "start_time": "2021-09-11T14:29:22.608Z"
   },
   {
    "duration": 335,
    "start_time": "2021-09-11T14:29:22.944Z"
   },
   {
    "duration": 15,
    "start_time": "2021-09-11T14:29:23.282Z"
   },
   {
    "duration": 274,
    "start_time": "2021-09-11T14:29:23.851Z"
   },
   {
    "duration": 15,
    "start_time": "2021-09-11T14:29:24.332Z"
   },
   {
    "duration": 9,
    "start_time": "2021-09-11T14:29:24.851Z"
   },
   {
    "duration": 8,
    "start_time": "2021-09-11T14:29:25.368Z"
   },
   {
    "duration": 9,
    "start_time": "2021-09-11T14:29:38.781Z"
   },
   {
    "duration": 8,
    "start_time": "2021-09-11T14:29:39.309Z"
   },
   {
    "duration": 325,
    "start_time": "2021-09-11T14:54:30.140Z"
   },
   {
    "duration": 18,
    "start_time": "2021-09-11T14:54:31.118Z"
   },
   {
    "duration": 9263,
    "start_time": "2021-09-11T14:55:13.389Z"
   },
   {
    "duration": -1625,
    "start_time": "2021-09-11T14:55:24.280Z"
   },
   {
    "duration": 297,
    "start_time": "2021-09-11T14:55:29.983Z"
   },
   {
    "duration": 17,
    "start_time": "2021-09-11T14:55:31.004Z"
   },
   {
    "duration": 7794,
    "start_time": "2021-09-11T14:55:34.046Z"
   },
   {
    "duration": -1520,
    "start_time": "2021-09-11T14:55:43.363Z"
   },
   {
    "duration": 259,
    "start_time": "2021-09-11T14:55:54.881Z"
   },
   {
    "duration": 16,
    "start_time": "2021-09-11T14:55:55.994Z"
   },
   {
    "duration": 10,
    "start_time": "2021-09-11T14:55:58.549Z"
   },
   {
    "duration": 10,
    "start_time": "2021-09-11T14:56:24.050Z"
   },
   {
    "duration": 1231,
    "start_time": "2021-09-11T14:56:28.426Z"
   },
   {
    "duration": 6,
    "start_time": "2021-09-11T14:56:37.787Z"
   },
   {
    "duration": 9,
    "start_time": "2021-09-11T14:56:55.728Z"
   },
   {
    "duration": 6,
    "start_time": "2021-09-11T14:56:56.504Z"
   },
   {
    "duration": 352,
    "start_time": "2021-09-11T14:56:59.014Z"
   },
   {
    "duration": 9,
    "start_time": "2021-09-11T14:57:03.970Z"
   },
   {
    "duration": 9,
    "start_time": "2021-09-11T14:57:19.155Z"
   },
   {
    "duration": 42,
    "start_time": "2021-09-11T14:57:19.167Z"
   },
   {
    "duration": 494,
    "start_time": "2021-09-11T14:57:45.329Z"
   },
   {
    "duration": 4,
    "start_time": "2021-09-11T14:57:45.826Z"
   },
   {
    "duration": 276,
    "start_time": "2021-09-11T14:57:46.536Z"
   },
   {
    "duration": 15,
    "start_time": "2021-09-11T14:57:47.675Z"
   },
   {
    "duration": 10,
    "start_time": "2021-09-11T14:57:49.602Z"
   },
   {
    "duration": 19,
    "start_time": "2021-09-11T14:57:50.339Z"
   },
   {
    "duration": 466,
    "start_time": "2021-09-11T14:57:54.799Z"
   },
   {
    "duration": 286,
    "start_time": "2021-09-11T14:57:57.659Z"
   },
   {
    "duration": 310,
    "start_time": "2021-09-11T14:59:14.469Z"
   },
   {
    "duration": 386,
    "start_time": "2021-09-11T14:59:17.385Z"
   },
   {
    "duration": 17,
    "start_time": "2021-09-11T14:59:21.025Z"
   },
   {
    "duration": 9,
    "start_time": "2021-09-11T14:59:38.174Z"
   },
   {
    "duration": 410,
    "start_time": "2021-09-11T14:59:38.434Z"
   },
   {
    "duration": 433,
    "start_time": "2021-09-11T14:59:39.055Z"
   },
   {
    "duration": 18,
    "start_time": "2021-09-11T14:59:39.943Z"
   },
   {
    "duration": 456,
    "start_time": "2021-09-11T14:59:40.308Z"
   },
   {
    "duration": 6,
    "start_time": "2021-09-11T14:59:40.839Z"
   },
   {
    "duration": 6,
    "start_time": "2021-09-11T14:59:41.199Z"
   },
   {
    "duration": 458,
    "start_time": "2021-09-11T14:59:42.031Z"
   },
   {
    "duration": 7,
    "start_time": "2021-09-11T14:59:42.751Z"
   },
   {
    "duration": 350,
    "start_time": "2021-09-11T14:59:43.855Z"
   },
   {
    "duration": 349,
    "start_time": "2021-09-11T14:59:44.380Z"
   },
   {
    "duration": 354,
    "start_time": "2021-09-11T14:59:44.832Z"
   },
   {
    "duration": 316,
    "start_time": "2021-09-11T14:59:45.260Z"
   },
   {
    "duration": 361,
    "start_time": "2021-09-11T15:01:29.971Z"
   },
   {
    "duration": 16,
    "start_time": "2021-09-11T15:02:03.979Z"
   },
   {
    "duration": 337,
    "start_time": "2021-09-11T15:02:06.680Z"
   },
   {
    "duration": 8726,
    "start_time": "2021-09-11T15:02:28.098Z"
   },
   {
    "duration": 338,
    "start_time": "2021-09-11T15:03:09.843Z"
   },
   {
    "duration": 16,
    "start_time": "2021-09-11T15:03:29.309Z"
   },
   {
    "duration": 8286,
    "start_time": "2021-09-11T15:03:31.032Z"
   },
   {
    "duration": -1812,
    "start_time": "2021-09-11T15:03:57.989Z"
   },
   {
    "duration": -1828,
    "start_time": "2021-09-11T15:03:58.007Z"
   },
   {
    "duration": 518,
    "start_time": "2021-09-11T15:03:59.996Z"
   },
   {
    "duration": 8621,
    "start_time": "2021-09-11T15:04:02.039Z"
   },
   {
    "duration": -1479,
    "start_time": "2021-09-11T15:04:12.142Z"
   },
   {
    "duration": -1495,
    "start_time": "2021-09-11T15:04:12.160Z"
   },
   {
    "duration": 8265,
    "start_time": "2021-09-11T15:05:45.349Z"
   },
   {
    "duration": 12,
    "start_time": "2021-09-11T15:06:23.245Z"
   },
   {
    "duration": 1485,
    "start_time": "2021-09-11T15:06:54.350Z"
   },
   {
    "duration": -1463,
    "start_time": "2021-09-11T15:06:57.301Z"
   },
   {
    "duration": 18,
    "start_time": "2021-09-11T15:07:04.307Z"
   },
   {
    "duration": 13,
    "start_time": "2021-09-11T15:07:05.003Z"
   },
   {
    "duration": 19,
    "start_time": "2021-09-11T15:08:02.973Z"
   },
   {
    "duration": 26,
    "start_time": "2021-09-11T15:08:46.222Z"
   },
   {
    "duration": 18,
    "start_time": "2021-09-11T15:08:46.928Z"
   },
   {
    "duration": 13,
    "start_time": "2021-09-11T15:08:59.962Z"
   },
   {
    "duration": 8842,
    "start_time": "2021-09-11T15:11:15.693Z"
   },
   {
    "duration": 193,
    "start_time": "2021-09-11T15:11:34.515Z"
   },
   {
    "duration": 11,
    "start_time": "2021-09-11T15:11:37.067Z"
   },
   {
    "duration": 386,
    "start_time": "2021-09-11T15:12:42.584Z"
   },
   {
    "duration": 330,
    "start_time": "2021-09-11T15:14:41.335Z"
   },
   {
    "duration": 1415,
    "start_time": "2021-09-11T15:14:55.928Z"
   },
   {
    "duration": 560,
    "start_time": "2021-09-11T15:15:34.211Z"
   },
   {
    "duration": 1349,
    "start_time": "2021-09-11T15:15:53.287Z"
   },
   {
    "duration": 553,
    "start_time": "2021-09-11T15:15:55.346Z"
   },
   {
    "duration": 326,
    "start_time": "2021-09-11T15:16:26.386Z"
   },
   {
    "duration": 1566,
    "start_time": "2021-09-11T15:16:50.184Z"
   },
   {
    "duration": 189,
    "start_time": "2021-09-11T15:17:03.073Z"
   },
   {
    "duration": 1383,
    "start_time": "2021-09-11T15:17:14.538Z"
   },
   {
    "duration": 1724,
    "start_time": "2021-09-11T15:17:15.924Z"
   },
   {
    "duration": 205,
    "start_time": "2021-09-11T15:17:17.651Z"
   },
   {
    "duration": 12,
    "start_time": "2021-09-11T15:18:01.428Z"
   },
   {
    "duration": 332,
    "start_time": "2021-09-11T15:18:01.666Z"
   },
   {
    "duration": 338,
    "start_time": "2021-09-11T15:18:32.823Z"
   },
   {
    "duration": 223,
    "start_time": "2021-09-11T15:20:33.431Z"
   },
   {
    "duration": 816,
    "start_time": "2021-09-11T15:20:37.081Z"
   },
   {
    "duration": 356,
    "start_time": "2021-09-11T15:20:56.955Z"
   },
   {
    "duration": 106,
    "start_time": "2021-09-11T15:21:15.706Z"
   },
   {
    "duration": 12,
    "start_time": "2021-09-11T15:21:18.072Z"
   },
   {
    "duration": 107,
    "start_time": "2021-09-11T15:21:42.561Z"
   },
   {
    "duration": 341,
    "start_time": "2021-09-11T15:21:44.214Z"
   },
   {
    "duration": 346,
    "start_time": "2021-09-11T15:22:01.445Z"
   },
   {
    "duration": 15,
    "start_time": "2021-09-11T15:23:24.944Z"
   },
   {
    "duration": 1427,
    "start_time": "2021-09-11T15:23:35.144Z"
   },
   {
    "duration": 1659,
    "start_time": "2021-09-11T15:23:36.574Z"
   },
   {
    "duration": 229,
    "start_time": "2021-09-11T15:23:38.236Z"
   },
   {
    "duration": 836,
    "start_time": "2021-09-11T15:23:38.467Z"
   },
   {
    "duration": 124,
    "start_time": "2021-09-11T15:23:39.306Z"
   },
   {
    "duration": 35,
    "start_time": "2021-09-11T15:23:39.432Z"
   },
   {
    "duration": 141,
    "start_time": "2021-09-11T15:23:39.469Z"
   },
   {
    "duration": 14,
    "start_time": "2021-09-11T15:23:39.613Z"
   },
   {
    "duration": 290,
    "start_time": "2021-09-11T15:23:43.515Z"
   },
   {
    "duration": 9113,
    "start_time": "2021-09-11T15:23:43.830Z"
   },
   {
    "duration": 12,
    "start_time": "2021-09-11T15:24:04.698Z"
   },
   {
    "duration": 8491,
    "start_time": "2021-09-11T15:24:22.571Z"
   },
   {
    "duration": 11,
    "start_time": "2021-09-11T15:25:46.018Z"
   },
   {
    "duration": 9369,
    "start_time": "2021-09-11T15:28:36.623Z"
   },
   {
    "duration": 8780,
    "start_time": "2021-09-11T15:29:12.191Z"
   },
   {
    "duration": 8513,
    "start_time": "2021-09-11T15:30:18.479Z"
   },
   {
    "duration": 17,
    "start_time": "2021-09-11T15:30:36.953Z"
   },
   {
    "duration": 1574,
    "start_time": "2021-09-11T15:31:35.751Z"
   },
   {
    "duration": 1486,
    "start_time": "2021-09-11T15:31:43.444Z"
   },
   {
    "duration": 1357,
    "start_time": "2021-09-11T15:31:52.904Z"
   },
   {
    "duration": 5599,
    "start_time": "2021-09-11T15:32:37.000Z"
   },
   {
    "duration": 73,
    "start_time": "2021-09-11T15:32:42.602Z"
   },
   {
    "duration": 23,
    "start_time": "2021-09-11T15:32:42.678Z"
   },
   {
    "duration": 27,
    "start_time": "2021-09-11T15:32:42.705Z"
   },
   {
    "duration": 38,
    "start_time": "2021-09-11T15:32:42.734Z"
   },
   {
    "duration": 12,
    "start_time": "2021-09-11T15:32:42.774Z"
   },
   {
    "duration": 15,
    "start_time": "2021-09-11T15:32:42.788Z"
   },
   {
    "duration": 10,
    "start_time": "2021-09-11T15:32:42.807Z"
   },
   {
    "duration": 20,
    "start_time": "2021-09-11T15:32:42.820Z"
   },
   {
    "duration": 20,
    "start_time": "2021-09-11T15:32:42.863Z"
   },
   {
    "duration": 12,
    "start_time": "2021-09-11T15:32:42.886Z"
   },
   {
    "duration": 325,
    "start_time": "2021-09-11T15:32:42.901Z"
   },
   {
    "duration": 3,
    "start_time": "2021-09-11T15:32:43.229Z"
   },
   {
    "duration": 307,
    "start_time": "2021-09-11T15:32:43.235Z"
   },
   {
    "duration": 23,
    "start_time": "2021-09-11T15:32:43.544Z"
   },
   {
    "duration": 15,
    "start_time": "2021-09-11T15:32:43.570Z"
   },
   {
    "duration": 20,
    "start_time": "2021-09-11T15:32:43.588Z"
   },
   {
    "duration": 364,
    "start_time": "2021-09-11T15:32:43.611Z"
   },
   {
    "duration": 301,
    "start_time": "2021-09-11T15:32:43.977Z"
   },
   {
    "duration": 328,
    "start_time": "2021-09-11T15:32:44.281Z"
   },
   {
    "duration": 440,
    "start_time": "2021-09-11T15:32:44.611Z"
   },
   {
    "duration": 21,
    "start_time": "2021-09-11T15:32:45.053Z"
   },
   {
    "duration": 16,
    "start_time": "2021-09-11T15:32:45.079Z"
   },
   {
    "duration": 337,
    "start_time": "2021-09-11T15:32:45.098Z"
   },
   {
    "duration": 549,
    "start_time": "2021-09-11T15:32:45.438Z"
   },
   {
    "duration": 18,
    "start_time": "2021-09-11T15:32:45.989Z"
   },
   {
    "duration": 502,
    "start_time": "2021-09-11T15:32:46.010Z"
   },
   {
    "duration": 6,
    "start_time": "2021-09-11T15:32:46.514Z"
   },
   {
    "duration": 19,
    "start_time": "2021-09-11T15:32:46.522Z"
   },
   {
    "duration": 461,
    "start_time": "2021-09-11T15:32:46.543Z"
   },
   {
    "duration": 6,
    "start_time": "2021-09-11T15:32:47.006Z"
   },
   {
    "duration": 1386,
    "start_time": "2021-09-11T15:32:47.015Z"
   },
   {
    "duration": 1637,
    "start_time": "2021-09-11T15:32:48.404Z"
   },
   {
    "duration": 245,
    "start_time": "2021-09-11T15:32:50.044Z"
   },
   {
    "duration": 849,
    "start_time": "2021-09-11T15:32:50.292Z"
   },
   {
    "duration": 131,
    "start_time": "2021-09-11T15:32:51.143Z"
   },
   {
    "duration": 145,
    "start_time": "2021-09-11T15:32:51.276Z"
   },
   {
    "duration": 13,
    "start_time": "2021-09-11T15:32:51.423Z"
   },
   {
    "duration": 30,
    "start_time": "2021-09-11T15:32:51.439Z"
   },
   {
    "duration": 52705,
    "start_time": "2021-09-11T15:32:51.473Z"
   },
   {
    "duration": -1556,
    "start_time": "2021-09-11T15:33:45.737Z"
   },
   {
    "duration": -1561,
    "start_time": "2021-09-11T15:33:45.743Z"
   },
   {
    "duration": -1564,
    "start_time": "2021-09-11T15:33:45.748Z"
   },
   {
    "duration": -1570,
    "start_time": "2021-09-11T15:33:45.756Z"
   },
   {
    "duration": -1575,
    "start_time": "2021-09-11T15:33:45.762Z"
   },
   {
    "duration": 8,
    "start_time": "2021-09-11T15:34:00.451Z"
   },
   {
    "duration": -1448,
    "start_time": "2021-09-11T15:34:52.581Z"
   },
   {
    "duration": 8,
    "start_time": "2021-09-11T15:35:06.599Z"
   },
   {
    "duration": 6057,
    "start_time": "2021-09-11T15:35:25.310Z"
   },
   {
    "duration": 136,
    "start_time": "2021-09-11T15:35:40.049Z"
   },
   {
    "duration": 107,
    "start_time": "2021-09-11T15:35:48.315Z"
   },
   {
    "duration": 129,
    "start_time": "2021-09-11T15:35:49.313Z"
   },
   {
    "duration": 15,
    "start_time": "2021-09-11T15:35:50.382Z"
   },
   {
    "duration": 13,
    "start_time": "2021-09-11T15:35:51.833Z"
   },
   {
    "duration": 7,
    "start_time": "2021-09-11T15:35:52.624Z"
   },
   {
    "duration": -1394,
    "start_time": "2021-09-11T15:36:33.609Z"
   },
   {
    "duration": 8,
    "start_time": "2021-09-11T15:36:33.693Z"
   },
   {
    "duration": 7,
    "start_time": "2021-09-11T15:36:35.191Z"
   },
   {
    "duration": 7,
    "start_time": "2021-09-11T15:36:36.558Z"
   },
   {
    "duration": 6,
    "start_time": "2021-09-11T15:36:38.322Z"
   },
   {
    "duration": 1245,
    "start_time": "2021-09-11T15:36:44.237Z"
   },
   {
    "duration": 6,
    "start_time": "2021-09-11T15:36:49.247Z"
   },
   {
    "duration": -1407,
    "start_time": "2021-09-11T15:37:29.055Z"
   },
   {
    "duration": -1412,
    "start_time": "2021-09-11T15:37:29.062Z"
   },
   {
    "duration": 5,
    "start_time": "2021-09-11T15:37:47.545Z"
   },
   {
    "duration": 24433,
    "start_time": "2021-09-11T15:37:48.284Z"
   },
   {
    "duration": 2960,
    "start_time": "2021-09-11T15:38:37.753Z"
   },
   {
    "duration": 1840,
    "start_time": "2021-09-11T15:39:06.238Z"
   },
   {
    "duration": 322,
    "start_time": "2021-09-11T15:39:47.486Z"
   },
   {
    "duration": 522,
    "start_time": "2021-09-11T15:41:04.746Z"
   },
   {
    "duration": 1554,
    "start_time": "2021-09-11T15:41:13.145Z"
   },
   {
    "duration": 58,
    "start_time": "2021-09-11T15:41:14.702Z"
   },
   {
    "duration": 22,
    "start_time": "2021-09-11T15:41:14.762Z"
   },
   {
    "duration": 25,
    "start_time": "2021-09-11T15:41:14.787Z"
   },
   {
    "duration": 10,
    "start_time": "2021-09-11T15:41:14.815Z"
   },
   {
    "duration": 44,
    "start_time": "2021-09-11T15:41:14.828Z"
   },
   {
    "duration": 7,
    "start_time": "2021-09-11T15:41:14.875Z"
   },
   {
    "duration": 15,
    "start_time": "2021-09-11T15:41:14.884Z"
   },
   {
    "duration": 21,
    "start_time": "2021-09-11T15:41:14.903Z"
   },
   {
    "duration": 46,
    "start_time": "2021-09-11T15:41:14.927Z"
   },
   {
    "duration": 10,
    "start_time": "2021-09-11T15:41:14.976Z"
   },
   {
    "duration": 326,
    "start_time": "2021-09-11T15:41:14.989Z"
   },
   {
    "duration": 5,
    "start_time": "2021-09-11T15:41:15.318Z"
   },
   {
    "duration": 285,
    "start_time": "2021-09-11T15:41:15.326Z"
   },
   {
    "duration": 15,
    "start_time": "2021-09-11T15:41:15.613Z"
   },
   {
    "duration": 33,
    "start_time": "2021-09-11T15:41:15.630Z"
   },
   {
    "duration": 19,
    "start_time": "2021-09-11T15:41:15.665Z"
   },
   {
    "duration": 348,
    "start_time": "2021-09-11T15:41:15.686Z"
   },
   {
    "duration": 311,
    "start_time": "2021-09-11T15:41:16.036Z"
   },
   {
    "duration": 350,
    "start_time": "2021-09-11T15:41:16.350Z"
   },
   {
    "duration": 501,
    "start_time": "2021-09-11T15:41:16.702Z"
   },
   {
    "duration": 22,
    "start_time": "2021-09-11T15:41:17.206Z"
   },
   {
    "duration": 12,
    "start_time": "2021-09-11T15:41:17.232Z"
   },
   {
    "duration": 426,
    "start_time": "2021-09-11T15:41:17.247Z"
   },
   {
    "duration": 535,
    "start_time": "2021-09-11T15:41:17.675Z"
   },
   {
    "duration": 17,
    "start_time": "2021-09-11T15:41:18.213Z"
   },
   {
    "duration": 464,
    "start_time": "2021-09-11T15:41:18.235Z"
   },
   {
    "duration": 6,
    "start_time": "2021-09-11T15:41:18.702Z"
   },
   {
    "duration": 8,
    "start_time": "2021-09-11T15:41:18.710Z"
   },
   {
    "duration": 487,
    "start_time": "2021-09-11T15:41:18.720Z"
   },
   {
    "duration": 6,
    "start_time": "2021-09-11T15:41:19.210Z"
   },
   {
    "duration": 1410,
    "start_time": "2021-09-11T15:41:19.219Z"
   },
   {
    "duration": 1638,
    "start_time": "2021-09-11T15:41:20.632Z"
   },
   {
    "duration": 233,
    "start_time": "2021-09-11T15:41:22.273Z"
   },
   {
    "duration": 844,
    "start_time": "2021-09-11T15:41:22.509Z"
   },
   {
    "duration": 125,
    "start_time": "2021-09-11T15:41:23.356Z"
   },
   {
    "duration": 154,
    "start_time": "2021-09-11T15:41:23.483Z"
   },
   {
    "duration": 27,
    "start_time": "2021-09-11T15:41:23.639Z"
   },
   {
    "duration": 11,
    "start_time": "2021-09-11T15:41:23.668Z"
   },
   {
    "duration": 9,
    "start_time": "2021-09-11T15:41:23.681Z"
   },
   {
    "duration": 10,
    "start_time": "2021-09-11T15:41:23.692Z"
   },
   {
    "duration": 7,
    "start_time": "2021-09-11T15:41:23.705Z"
   },
   {
    "duration": 10,
    "start_time": "2021-09-11T15:41:23.714Z"
   },
   {
    "duration": 471,
    "start_time": "2021-09-11T15:41:23.762Z"
   },
   {
    "duration": 403,
    "start_time": "2021-09-11T15:44:31.040Z"
   },
   {
    "duration": 106,
    "start_time": "2021-09-11T15:44:48.467Z"
   },
   {
    "duration": 161,
    "start_time": "2021-09-11T15:44:55.751Z"
   },
   {
    "duration": 115,
    "start_time": "2021-09-11T15:44:59.624Z"
   },
   {
    "duration": 123,
    "start_time": "2021-09-11T15:45:12.604Z"
   },
   {
    "duration": 120,
    "start_time": "2021-09-11T15:45:31.834Z"
   },
   {
    "duration": 316,
    "start_time": "2021-09-11T15:45:37.051Z"
   },
   {
    "duration": 354,
    "start_time": "2021-09-11T15:45:44.202Z"
   },
   {
    "duration": 338,
    "start_time": "2021-09-11T15:45:51.170Z"
   },
   {
    "duration": 355,
    "start_time": "2021-09-11T15:46:31.463Z"
   },
   {
    "duration": 391,
    "start_time": "2021-09-11T15:48:08.398Z"
   },
   {
    "duration": 605,
    "start_time": "2021-09-11T15:48:30.135Z"
   },
   {
    "duration": 6,
    "start_time": "2021-09-11T15:49:33.412Z"
   },
   {
    "duration": 113,
    "start_time": "2021-09-11T15:50:37.299Z"
   },
   {
    "duration": 108,
    "start_time": "2021-09-11T15:50:41.208Z"
   },
   {
    "duration": 372,
    "start_time": "2021-09-11T15:50:46.656Z"
   },
   {
    "duration": 9,
    "start_time": "2021-09-11T15:51:17.537Z"
   },
   {
    "duration": 12,
    "start_time": "2021-09-11T15:51:22.644Z"
   },
   {
    "duration": 322,
    "start_time": "2021-09-11T15:51:28.933Z"
   },
   {
    "duration": 8,
    "start_time": "2021-09-11T15:51:42.225Z"
   },
   {
    "duration": 11,
    "start_time": "2021-09-11T15:51:46.374Z"
   },
   {
    "duration": 353,
    "start_time": "2021-09-11T15:52:10.004Z"
   },
   {
    "duration": 8239,
    "start_time": "2021-09-11T15:52:39.405Z"
   },
   {
    "duration": -1563,
    "start_time": "2021-09-11T15:52:49.210Z"
   },
   {
    "duration": 12,
    "start_time": "2021-09-11T15:53:11.137Z"
   },
   {
    "duration": 9,
    "start_time": "2021-09-11T15:53:28.009Z"
   },
   {
    "duration": 12,
    "start_time": "2021-09-11T15:53:31.509Z"
   },
   {
    "duration": 16,
    "start_time": "2021-09-11T15:53:43.725Z"
   },
   {
    "duration": 309,
    "start_time": "2021-09-11T15:53:44.707Z"
   },
   {
    "duration": 408,
    "start_time": "2021-09-11T15:54:11.594Z"
   },
   {
    "duration": 119,
    "start_time": "2021-09-11T15:55:14.708Z"
   },
   {
    "duration": 97,
    "start_time": "2021-09-11T15:55:17.729Z"
   },
   {
    "duration": 120,
    "start_time": "2021-09-11T15:56:01.376Z"
   },
   {
    "duration": 113,
    "start_time": "2021-09-11T15:56:06.485Z"
   },
   {
    "duration": 104,
    "start_time": "2021-09-11T15:56:10.574Z"
   },
   {
    "duration": 950,
    "start_time": "2021-09-11T15:56:13.958Z"
   },
   {
    "duration": 116,
    "start_time": "2021-09-11T15:56:20.226Z"
   },
   {
    "duration": 111,
    "start_time": "2021-09-11T15:56:28.393Z"
   },
   {
    "duration": 99,
    "start_time": "2021-09-11T15:56:33.676Z"
   },
   {
    "duration": 32,
    "start_time": "2021-09-11T15:56:35.613Z"
   },
   {
    "duration": 34,
    "start_time": "2021-09-11T15:56:40.930Z"
   },
   {
    "duration": 32,
    "start_time": "2021-09-11T15:56:46.258Z"
   },
   {
    "duration": 374,
    "start_time": "2021-09-11T15:56:49.516Z"
   },
   {
    "duration": 341,
    "start_time": "2021-09-11T15:56:58.255Z"
   },
   {
    "duration": 36,
    "start_time": "2021-09-11T15:57:25.828Z"
   },
   {
    "duration": 32,
    "start_time": "2021-09-11T15:57:50.280Z"
   },
   {
    "duration": 522,
    "start_time": "2021-09-11T15:58:00.488Z"
   },
   {
    "duration": 361,
    "start_time": "2021-09-11T15:58:04.889Z"
   },
   {
    "duration": 12,
    "start_time": "2021-09-11T15:58:26.407Z"
   },
   {
    "duration": 342,
    "start_time": "2021-09-11T15:58:27.062Z"
   },
   {
    "duration": 336,
    "start_time": "2021-09-11T15:59:43.051Z"
   },
   {
    "duration": 8,
    "start_time": "2021-09-11T15:59:53.748Z"
   },
   {
    "duration": 1543,
    "start_time": "2021-09-11T16:00:21.497Z"
   },
   {
    "duration": 1384,
    "start_time": "2021-09-11T16:00:35.237Z"
   },
   {
    "duration": 1590,
    "start_time": "2021-09-11T16:00:36.623Z"
   },
   {
    "duration": 260,
    "start_time": "2021-09-11T16:00:38.217Z"
   },
   {
    "duration": 824,
    "start_time": "2021-09-11T16:00:38.480Z"
   },
   {
    "duration": 117,
    "start_time": "2021-09-11T16:00:39.307Z"
   },
   {
    "duration": 135,
    "start_time": "2021-09-11T16:00:39.427Z"
   },
   {
    "duration": 13,
    "start_time": "2021-09-11T16:00:39.565Z"
   },
   {
    "duration": 14,
    "start_time": "2021-09-11T16:00:39.582Z"
   },
   {
    "duration": 332,
    "start_time": "2021-09-11T16:00:39.599Z"
   },
   {
    "duration": -1462,
    "start_time": "2021-09-11T16:00:41.395Z"
   },
   {
    "duration": -1477,
    "start_time": "2021-09-11T16:00:41.411Z"
   },
   {
    "duration": -1482,
    "start_time": "2021-09-11T16:00:41.417Z"
   },
   {
    "duration": 6,
    "start_time": "2021-09-11T16:00:40.533Z"
   },
   {
    "duration": 9,
    "start_time": "2021-09-11T16:00:40.871Z"
   },
   {
    "duration": 1366,
    "start_time": "2021-09-11T16:01:29.186Z"
   },
   {
    "duration": 1343,
    "start_time": "2021-09-11T16:02:18.579Z"
   },
   {
    "duration": 1380,
    "start_time": "2021-09-11T16:02:53.839Z"
   },
   {
    "duration": 1591,
    "start_time": "2021-09-11T16:03:03.745Z"
   },
   {
    "duration": 231,
    "start_time": "2021-09-11T16:03:07.279Z"
   },
   {
    "duration": 802,
    "start_time": "2021-09-11T16:03:07.939Z"
   },
   {
    "duration": 123,
    "start_time": "2021-09-11T16:03:08.744Z"
   },
   {
    "duration": 133,
    "start_time": "2021-09-11T16:03:09.076Z"
   },
   {
    "duration": 14,
    "start_time": "2021-09-11T16:03:09.962Z"
   },
   {
    "duration": 13,
    "start_time": "2021-09-11T16:03:10.850Z"
   },
   {
    "duration": 346,
    "start_time": "2021-09-11T16:03:11.211Z"
   },
   {
    "duration": 367,
    "start_time": "2021-09-11T16:03:11.712Z"
   },
   {
    "duration": 318,
    "start_time": "2021-09-11T16:03:38.922Z"
   },
   {
    "duration": 332,
    "start_time": "2021-09-11T16:03:51.169Z"
   },
   {
    "duration": 1582,
    "start_time": "2021-09-11T16:04:19.991Z"
   },
   {
    "duration": 8684,
    "start_time": "2021-09-11T16:04:59.146Z"
   },
   {
    "duration": 8229,
    "start_time": "2021-09-11T16:05:22.057Z"
   },
   {
    "duration": 98,
    "start_time": "2021-09-11T16:06:21.310Z"
   },
   {
    "duration": 115,
    "start_time": "2021-09-11T16:06:25.834Z"
   },
   {
    "duration": 368,
    "start_time": "2021-09-11T16:06:55.283Z"
   },
   {
    "duration": 1154,
    "start_time": "2021-09-11T19:18:33.815Z"
   },
   {
    "duration": 58,
    "start_time": "2021-09-11T19:18:34.971Z"
   },
   {
    "duration": 15,
    "start_time": "2021-09-11T19:18:35.475Z"
   },
   {
    "duration": 17,
    "start_time": "2021-09-11T19:18:39.170Z"
   },
   {
    "duration": 12,
    "start_time": "2021-09-11T19:21:26.716Z"
   },
   {
    "duration": 9,
    "start_time": "2021-09-11T19:24:56.538Z"
   },
   {
    "duration": 9,
    "start_time": "2021-09-11T19:25:36.280Z"
   },
   {
    "duration": 3,
    "start_time": "2021-09-11T19:33:17.400Z"
   },
   {
    "duration": 5,
    "start_time": "2021-09-11T19:33:24.142Z"
   },
   {
    "duration": 12,
    "start_time": "2021-09-11T19:33:30.846Z"
   },
   {
    "duration": 14,
    "start_time": "2021-09-11T19:33:31.120Z"
   },
   {
    "duration": 8,
    "start_time": "2021-09-11T19:33:32.417Z"
   },
   {
    "duration": 173,
    "start_time": "2021-09-11T19:34:25.093Z"
   },
   {
    "duration": 3,
    "start_time": "2021-09-11T19:34:25.729Z"
   },
   {
    "duration": 150,
    "start_time": "2021-09-11T19:34:26.838Z"
   },
   {
    "duration": 10,
    "start_time": "2021-09-11T19:34:27.421Z"
   },
   {
    "duration": 6,
    "start_time": "2021-09-11T19:34:29.662Z"
   },
   {
    "duration": 12,
    "start_time": "2021-09-11T19:34:30.350Z"
   },
   {
    "duration": 174,
    "start_time": "2021-09-11T19:34:35.048Z"
   },
   {
    "duration": 169,
    "start_time": "2021-09-11T19:34:39.839Z"
   },
   {
    "duration": 209,
    "start_time": "2021-09-11T19:34:41.215Z"
   },
   {
    "duration": 278,
    "start_time": "2021-09-11T19:34:44.721Z"
   },
   {
    "duration": 10,
    "start_time": "2021-09-11T19:34:49.271Z"
   },
   {
    "duration": 7,
    "start_time": "2021-09-11T19:34:50.552Z"
   },
   {
    "duration": 179,
    "start_time": "2021-09-11T19:34:51.547Z"
   },
   {
    "duration": 393,
    "start_time": "2021-09-11T19:34:58.038Z"
   },
   {
    "duration": 12,
    "start_time": "2021-09-11T19:35:03.881Z"
   },
   {
    "duration": 597,
    "start_time": "2021-09-11T19:43:52.839Z"
   },
   {
    "duration": 122,
    "start_time": "2021-09-11T19:43:55.358Z"
   },
   {
    "duration": 244,
    "start_time": "2021-09-11T19:43:57.316Z"
   },
   {
    "duration": 832,
    "start_time": "2021-09-11T19:44:04.421Z"
   },
   {
    "duration": 903,
    "start_time": "2021-09-11T19:44:05.255Z"
   },
   {
    "duration": 123,
    "start_time": "2021-09-11T19:44:06.160Z"
   },
   {
    "duration": 648,
    "start_time": "2021-09-11T19:44:06.285Z"
   },
   {
    "duration": 60,
    "start_time": "2021-09-11T19:44:09.310Z"
   },
   {
    "duration": 60,
    "start_time": "2021-09-11T19:44:11.017Z"
   },
   {
    "duration": 9,
    "start_time": "2021-09-11T19:44:12.240Z"
   },
   {
    "duration": 330,
    "start_time": "2021-09-12T07:53:42.043Z"
   },
   {
    "duration": 1175,
    "start_time": "2021-09-12T07:53:48.489Z"
   },
   {
    "duration": 56,
    "start_time": "2021-09-12T07:53:49.665Z"
   },
   {
    "duration": 14,
    "start_time": "2021-09-12T07:53:49.723Z"
   },
   {
    "duration": 16,
    "start_time": "2021-09-12T07:53:49.738Z"
   },
   {
    "duration": 12,
    "start_time": "2021-09-12T07:53:49.756Z"
   },
   {
    "duration": 7,
    "start_time": "2021-09-12T07:53:49.770Z"
   },
   {
    "duration": 14,
    "start_time": "2021-09-12T07:53:49.779Z"
   },
   {
    "duration": 7,
    "start_time": "2021-09-12T07:53:49.796Z"
   },
   {
    "duration": 15,
    "start_time": "2021-09-12T07:53:49.805Z"
   },
   {
    "duration": 14,
    "start_time": "2021-09-12T07:53:49.822Z"
   },
   {
    "duration": 7,
    "start_time": "2021-09-12T07:53:49.838Z"
   },
   {
    "duration": 200,
    "start_time": "2021-09-12T07:53:49.847Z"
   },
   {
    "duration": 3,
    "start_time": "2021-09-12T07:53:50.048Z"
   },
   {
    "duration": 166,
    "start_time": "2021-09-12T07:53:50.053Z"
   },
   {
    "duration": 9,
    "start_time": "2021-09-12T07:53:50.221Z"
   },
   {
    "duration": 7,
    "start_time": "2021-09-12T07:53:50.232Z"
   },
   {
    "duration": 14,
    "start_time": "2021-09-12T07:53:50.241Z"
   },
   {
    "duration": 201,
    "start_time": "2021-09-12T07:53:50.257Z"
   },
   {
    "duration": 176,
    "start_time": "2021-09-12T07:53:50.460Z"
   },
   {
    "duration": 205,
    "start_time": "2021-09-12T07:53:50.638Z"
   },
   {
    "duration": 297,
    "start_time": "2021-09-12T07:53:50.845Z"
   },
   {
    "duration": 11,
    "start_time": "2021-09-12T07:53:51.143Z"
   },
   {
    "duration": 12,
    "start_time": "2021-09-12T07:53:51.157Z"
   },
   {
    "duration": 205,
    "start_time": "2021-09-12T07:53:51.171Z"
   },
   {
    "duration": 413,
    "start_time": "2021-09-12T07:53:51.378Z"
   },
   {
    "duration": 11,
    "start_time": "2021-09-12T07:53:51.793Z"
   },
   {
    "duration": 316,
    "start_time": "2021-09-12T07:53:51.805Z"
   },
   {
    "duration": 3,
    "start_time": "2021-09-12T07:53:52.122Z"
   },
   {
    "duration": 12,
    "start_time": "2021-09-12T07:53:52.127Z"
   },
   {
    "duration": 352,
    "start_time": "2021-09-12T07:53:52.141Z"
   },
   {
    "duration": 4,
    "start_time": "2021-09-12T07:53:52.494Z"
   },
   {
    "duration": 799,
    "start_time": "2021-09-12T07:53:52.500Z"
   },
   {
    "duration": 921,
    "start_time": "2021-09-12T07:53:53.301Z"
   },
   {
    "duration": 137,
    "start_time": "2021-09-12T07:53:54.223Z"
   },
   {
    "duration": 652,
    "start_time": "2021-09-12T07:53:54.362Z"
   },
   {
    "duration": 54,
    "start_time": "2021-09-12T07:53:55.016Z"
   },
   {
    "duration": 59,
    "start_time": "2021-09-12T07:53:55.091Z"
   },
   {
    "duration": 10,
    "start_time": "2021-09-12T07:53:55.152Z"
   },
   {
    "duration": 1038,
    "start_time": "2021-09-12T07:53:55.164Z"
   },
   {
    "duration": 6171,
    "start_time": "2021-09-12T07:56:05.582Z"
   },
   {
    "duration": 274,
    "start_time": "2021-09-12T07:57:28.860Z"
   },
   {
    "duration": 11,
    "start_time": "2021-09-12T07:57:35.405Z"
   },
   {
    "duration": 64,
    "start_time": "2021-09-12T07:57:36.331Z"
   },
   {
    "duration": 11,
    "start_time": "2021-09-12T07:57:38.368Z"
   },
   {
    "duration": 238,
    "start_time": "2021-09-12T07:57:40.040Z"
   },
   {
    "duration": 66,
    "start_time": "2021-09-12T07:57:50.303Z"
   },
   {
    "duration": 14,
    "start_time": "2021-09-12T07:58:08.433Z"
   },
   {
    "duration": 6,
    "start_time": "2021-09-12T07:58:36.298Z"
   },
   {
    "duration": 8,
    "start_time": "2021-09-12T07:58:53.109Z"
   },
   {
    "duration": 3,
    "start_time": "2021-09-12T07:59:16.676Z"
   },
   {
    "duration": 8,
    "start_time": "2021-09-12T07:59:22.629Z"
   },
   {
    "duration": 4,
    "start_time": "2021-09-12T07:59:29.267Z"
   },
   {
    "duration": 7,
    "start_time": "2021-09-12T07:59:55.744Z"
   },
   {
    "duration": 5,
    "start_time": "2021-09-12T08:00:03.577Z"
   },
   {
    "duration": 7,
    "start_time": "2021-09-12T08:00:29.627Z"
   },
   {
    "duration": 643,
    "start_time": "2021-09-12T08:01:10.710Z"
   },
   {
    "duration": 80,
    "start_time": "2021-09-12T08:34:24.388Z"
   },
   {
    "duration": 96,
    "start_time": "2021-09-12T08:34:38.362Z"
   },
   {
    "duration": 268,
    "start_time": "2021-09-12T08:34:52.423Z"
   },
   {
    "duration": 8,
    "start_time": "2021-09-12T08:35:09.384Z"
   },
   {
    "duration": 5,
    "start_time": "2021-09-12T08:35:25.045Z"
   },
   {
    "duration": 260,
    "start_time": "2021-09-12T08:36:51.532Z"
   },
   {
    "duration": 6232,
    "start_time": "2021-09-12T08:37:26.983Z"
   },
   {
    "duration": 320,
    "start_time": "2021-09-12T08:38:44.864Z"
   },
   {
    "duration": 14,
    "start_time": "2021-09-12T08:38:54.995Z"
   },
   {
    "duration": 78,
    "start_time": "2021-09-12T09:11:55.117Z"
   },
   {
    "duration": 309,
    "start_time": "2021-09-12T09:12:06.082Z"
   },
   {
    "duration": 6,
    "start_time": "2021-09-12T09:15:21.111Z"
   },
   {
    "duration": 178,
    "start_time": "2021-09-12T09:15:38.775Z"
   },
   {
    "duration": 334,
    "start_time": "2021-09-12T09:19:47.555Z"
   },
   {
    "duration": 255,
    "start_time": "2021-09-12T09:22:15.269Z"
   },
   {
    "duration": 4,
    "start_time": "2021-09-12T09:22:16.281Z"
   },
   {
    "duration": 8,
    "start_time": "2021-09-12T09:22:20.334Z"
   },
   {
    "duration": 257,
    "start_time": "2021-09-12T09:22:20.709Z"
   },
   {
    "duration": 5,
    "start_time": "2021-09-12T09:22:34.594Z"
   },
   {
    "duration": 241,
    "start_time": "2021-09-12T09:22:37.013Z"
   },
   {
    "duration": 8,
    "start_time": "2021-09-12T09:22:43.173Z"
   },
   {
    "duration": 352,
    "start_time": "2021-09-12T09:22:43.681Z"
   },
   {
    "duration": 1249,
    "start_time": "2021-09-12T09:23:34.459Z"
   },
   {
    "duration": 57,
    "start_time": "2021-09-12T09:23:35.710Z"
   },
   {
    "duration": 17,
    "start_time": "2021-09-12T09:23:35.769Z"
   },
   {
    "duration": 26,
    "start_time": "2021-09-12T09:23:35.788Z"
   },
   {
    "duration": 7,
    "start_time": "2021-09-12T09:23:35.815Z"
   },
   {
    "duration": 13,
    "start_time": "2021-09-12T09:23:35.824Z"
   },
   {
    "duration": 11,
    "start_time": "2021-09-12T09:23:35.839Z"
   },
   {
    "duration": 15,
    "start_time": "2021-09-12T09:23:35.852Z"
   },
   {
    "duration": 22,
    "start_time": "2021-09-12T09:23:35.869Z"
   },
   {
    "duration": 20,
    "start_time": "2021-09-12T09:23:35.894Z"
   },
   {
    "duration": 9,
    "start_time": "2021-09-12T09:23:35.916Z"
   },
   {
    "duration": 194,
    "start_time": "2021-09-12T09:23:35.926Z"
   },
   {
    "duration": 4,
    "start_time": "2021-09-12T09:23:36.122Z"
   },
   {
    "duration": 171,
    "start_time": "2021-09-12T09:23:36.128Z"
   },
   {
    "duration": 12,
    "start_time": "2021-09-12T09:23:36.301Z"
   },
   {
    "duration": 8,
    "start_time": "2021-09-12T09:23:36.315Z"
   },
   {
    "duration": 17,
    "start_time": "2021-09-12T09:23:36.325Z"
   },
   {
    "duration": 6,
    "start_time": "2021-09-12T09:23:36.344Z"
   },
   {
    "duration": 219,
    "start_time": "2021-09-12T09:23:36.352Z"
   },
   {
    "duration": 6,
    "start_time": "2021-09-12T09:23:36.573Z"
   },
   {
    "duration": 187,
    "start_time": "2021-09-12T09:23:36.591Z"
   },
   {
    "duration": 211,
    "start_time": "2021-09-12T09:23:36.780Z"
   },
   {
    "duration": 323,
    "start_time": "2021-09-12T09:23:36.995Z"
   },
   {
    "duration": 11,
    "start_time": "2021-09-12T09:23:37.320Z"
   },
   {
    "duration": 23,
    "start_time": "2021-09-12T09:23:37.333Z"
   },
   {
    "duration": 206,
    "start_time": "2021-09-12T09:23:37.357Z"
   },
   {
    "duration": 432,
    "start_time": "2021-09-12T09:23:37.565Z"
   },
   {
    "duration": 12,
    "start_time": "2021-09-12T09:23:37.998Z"
   },
   {
    "duration": 318,
    "start_time": "2021-09-12T09:23:38.011Z"
   },
   {
    "duration": 5,
    "start_time": "2021-09-12T09:23:38.331Z"
   },
   {
    "duration": 6,
    "start_time": "2021-09-12T09:23:38.338Z"
   },
   {
    "duration": 368,
    "start_time": "2021-09-12T09:23:38.345Z"
   },
   {
    "duration": 5,
    "start_time": "2021-09-12T09:23:38.714Z"
   },
   {
    "duration": 836,
    "start_time": "2021-09-12T09:23:38.720Z"
   },
   {
    "duration": 938,
    "start_time": "2021-09-12T09:23:39.557Z"
   },
   {
    "duration": 148,
    "start_time": "2021-09-12T09:23:40.496Z"
   },
   {
    "duration": 692,
    "start_time": "2021-09-12T09:23:40.646Z"
   },
   {
    "duration": 15,
    "start_time": "2021-09-12T09:23:41.340Z"
   },
   {
    "duration": 104,
    "start_time": "2021-09-12T09:23:41.356Z"
   },
   {
    "duration": 10,
    "start_time": "2021-09-12T09:23:41.461Z"
   },
   {
    "duration": 7,
    "start_time": "2021-09-12T09:23:41.491Z"
   },
   {
    "duration": 371,
    "start_time": "2021-09-12T09:23:41.500Z"
   },
   {
    "duration": -8847,
    "start_time": "2021-09-12T09:23:50.720Z"
   },
   {
    "duration": -8851,
    "start_time": "2021-09-12T09:23:50.725Z"
   },
   {
    "duration": -8855,
    "start_time": "2021-09-12T09:23:50.730Z"
   },
   {
    "duration": -8859,
    "start_time": "2021-09-12T09:23:50.735Z"
   },
   {
    "duration": -8864,
    "start_time": "2021-09-12T09:23:50.740Z"
   },
   {
    "duration": 1178,
    "start_time": "2021-09-12T09:34:33.999Z"
   },
   {
    "duration": 56,
    "start_time": "2021-09-12T09:34:35.179Z"
   },
   {
    "duration": 21,
    "start_time": "2021-09-12T09:34:35.237Z"
   },
   {
    "duration": 30,
    "start_time": "2021-09-12T09:34:35.260Z"
   },
   {
    "duration": 23,
    "start_time": "2021-09-12T09:34:35.291Z"
   },
   {
    "duration": 27,
    "start_time": "2021-09-12T09:34:35.315Z"
   },
   {
    "duration": 17,
    "start_time": "2021-09-12T09:34:35.344Z"
   },
   {
    "duration": 19,
    "start_time": "2021-09-12T09:34:35.364Z"
   },
   {
    "duration": 28,
    "start_time": "2021-09-12T09:34:35.385Z"
   },
   {
    "duration": 25,
    "start_time": "2021-09-12T09:34:35.415Z"
   },
   {
    "duration": 13,
    "start_time": "2021-09-12T09:34:35.442Z"
   },
   {
    "duration": 188,
    "start_time": "2021-09-12T09:34:35.457Z"
   },
   {
    "duration": 2,
    "start_time": "2021-09-12T09:34:35.647Z"
   },
   {
    "duration": 162,
    "start_time": "2021-09-12T09:34:35.651Z"
   },
   {
    "duration": 8,
    "start_time": "2021-09-12T09:34:35.815Z"
   },
   {
    "duration": 22,
    "start_time": "2021-09-12T09:34:35.825Z"
   },
   {
    "duration": 21,
    "start_time": "2021-09-12T09:34:35.849Z"
   },
   {
    "duration": 22,
    "start_time": "2021-09-12T09:34:35.872Z"
   },
   {
    "duration": 195,
    "start_time": "2021-09-12T09:34:35.896Z"
   },
   {
    "duration": 5,
    "start_time": "2021-09-12T09:34:36.093Z"
   },
   {
    "duration": 170,
    "start_time": "2021-09-12T09:34:36.100Z"
   },
   {
    "duration": 199,
    "start_time": "2021-09-12T09:34:36.272Z"
   },
   {
    "duration": 328,
    "start_time": "2021-09-12T09:34:36.476Z"
   },
   {
    "duration": 10,
    "start_time": "2021-09-12T09:34:36.806Z"
   },
   {
    "duration": 18,
    "start_time": "2021-09-12T09:34:36.818Z"
   },
   {
    "duration": 210,
    "start_time": "2021-09-12T09:34:36.838Z"
   },
   {
    "duration": 389,
    "start_time": "2021-09-12T09:34:37.050Z"
   },
   {
    "duration": 11,
    "start_time": "2021-09-12T09:34:37.440Z"
   },
   {
    "duration": 379,
    "start_time": "2021-09-12T09:34:37.453Z"
   },
   {
    "duration": 3,
    "start_time": "2021-09-12T09:34:37.834Z"
   },
   {
    "duration": 24,
    "start_time": "2021-09-12T09:34:37.839Z"
   },
   {
    "duration": 371,
    "start_time": "2021-09-12T09:34:37.865Z"
   },
   {
    "duration": 5,
    "start_time": "2021-09-12T09:34:38.237Z"
   },
   {
    "duration": 811,
    "start_time": "2021-09-12T09:34:38.243Z"
   },
   {
    "duration": 935,
    "start_time": "2021-09-12T09:34:39.056Z"
   },
   {
    "duration": 132,
    "start_time": "2021-09-12T09:34:39.993Z"
   },
   {
    "duration": 660,
    "start_time": "2021-09-12T09:34:40.127Z"
   },
   {
    "duration": 13,
    "start_time": "2021-09-12T09:34:40.792Z"
   },
   {
    "duration": 93,
    "start_time": "2021-09-12T09:34:40.806Z"
   },
   {
    "duration": 9,
    "start_time": "2021-09-12T09:34:40.901Z"
   },
   {
    "duration": 6,
    "start_time": "2021-09-12T09:34:40.911Z"
   },
   {
    "duration": 329,
    "start_time": "2021-09-12T09:34:40.919Z"
   },
   {
    "duration": -2953,
    "start_time": "2021-09-12T09:34:44.203Z"
   },
   {
    "duration": -2960,
    "start_time": "2021-09-12T09:34:44.211Z"
   },
   {
    "duration": -2963,
    "start_time": "2021-09-12T09:34:44.215Z"
   },
   {
    "duration": -2968,
    "start_time": "2021-09-12T09:34:44.220Z"
   },
   {
    "duration": 260,
    "start_time": "2021-09-12T09:35:30.283Z"
   },
   {
    "duration": 235,
    "start_time": "2021-09-12T09:35:39.671Z"
   },
   {
    "duration": 5,
    "start_time": "2021-09-12T09:35:41.185Z"
   },
   {
    "duration": 8,
    "start_time": "2021-09-12T09:35:41.872Z"
   },
   {
    "duration": 4,
    "start_time": "2021-09-12T09:35:46.594Z"
   },
   {
    "duration": 243,
    "start_time": "2021-09-12T09:35:51.113Z"
   },
   {
    "duration": 3,
    "start_time": "2021-09-12T09:35:55.602Z"
   },
   {
    "duration": 8,
    "start_time": "2021-09-12T09:36:08.604Z"
   },
   {
    "duration": 5,
    "start_time": "2021-09-12T09:36:09.437Z"
   },
   {
    "duration": 13,
    "start_time": "2021-09-12T09:36:11.058Z"
   },
   {
    "duration": 195,
    "start_time": "2021-09-12T09:37:35.932Z"
   },
   {
    "duration": 125,
    "start_time": "2021-09-12T09:38:10.957Z"
   },
   {
    "duration": 14,
    "start_time": "2021-09-12T09:38:11.683Z"
   },
   {
    "duration": 70,
    "start_time": "2021-09-12T09:38:11.959Z"
   },
   {
    "duration": 10,
    "start_time": "2021-09-12T09:38:12.454Z"
   },
   {
    "duration": 1174,
    "start_time": "2021-09-12T09:38:39.908Z"
   },
   {
    "duration": 58,
    "start_time": "2021-09-12T09:38:41.084Z"
   },
   {
    "duration": 31,
    "start_time": "2021-09-12T09:38:41.144Z"
   },
   {
    "duration": 17,
    "start_time": "2021-09-12T09:38:41.177Z"
   },
   {
    "duration": 11,
    "start_time": "2021-09-12T09:38:41.196Z"
   },
   {
    "duration": 8,
    "start_time": "2021-09-12T09:38:41.209Z"
   },
   {
    "duration": 8,
    "start_time": "2021-09-12T09:38:41.219Z"
   },
   {
    "duration": 6,
    "start_time": "2021-09-12T09:38:41.230Z"
   },
   {
    "duration": 14,
    "start_time": "2021-09-12T09:38:41.238Z"
   },
   {
    "duration": 44,
    "start_time": "2021-09-12T09:38:41.253Z"
   },
   {
    "duration": 8,
    "start_time": "2021-09-12T09:38:41.299Z"
   },
   {
    "duration": 188,
    "start_time": "2021-09-12T09:38:41.309Z"
   },
   {
    "duration": 3,
    "start_time": "2021-09-12T09:38:41.499Z"
   },
   {
    "duration": 168,
    "start_time": "2021-09-12T09:38:41.504Z"
   },
   {
    "duration": 19,
    "start_time": "2021-09-12T09:38:41.674Z"
   },
   {
    "duration": 8,
    "start_time": "2021-09-12T09:38:41.695Z"
   },
   {
    "duration": 15,
    "start_time": "2021-09-12T09:38:41.704Z"
   },
   {
    "duration": 6,
    "start_time": "2021-09-12T09:38:41.721Z"
   },
   {
    "duration": 201,
    "start_time": "2021-09-12T09:38:41.729Z"
   },
   {
    "duration": 5,
    "start_time": "2021-09-12T09:38:41.933Z"
   },
   {
    "duration": 183,
    "start_time": "2021-09-12T09:38:41.940Z"
   },
   {
    "duration": 201,
    "start_time": "2021-09-12T09:38:42.125Z"
   },
   {
    "duration": 293,
    "start_time": "2021-09-12T09:38:42.331Z"
   },
   {
    "duration": 12,
    "start_time": "2021-09-12T09:38:42.626Z"
   },
   {
    "duration": 10,
    "start_time": "2021-09-12T09:38:42.640Z"
   },
   {
    "duration": 206,
    "start_time": "2021-09-12T09:38:42.651Z"
   },
   {
    "duration": 386,
    "start_time": "2021-09-12T09:38:42.859Z"
   },
   {
    "duration": 10,
    "start_time": "2021-09-12T09:38:43.247Z"
   },
   {
    "duration": 346,
    "start_time": "2021-09-12T09:38:43.259Z"
   },
   {
    "duration": 5,
    "start_time": "2021-09-12T09:38:43.607Z"
   },
   {
    "duration": 7,
    "start_time": "2021-09-12T09:38:43.613Z"
   },
   {
    "duration": 325,
    "start_time": "2021-09-12T09:38:43.622Z"
   },
   {
    "duration": 5,
    "start_time": "2021-09-12T09:38:43.950Z"
   },
   {
    "duration": 1025,
    "start_time": "2021-09-12T09:38:43.957Z"
   },
   {
    "duration": 1024,
    "start_time": "2021-09-12T09:38:44.993Z"
   },
   {
    "duration": 133,
    "start_time": "2021-09-12T09:38:46.019Z"
   },
   {
    "duration": 13,
    "start_time": "2021-09-12T09:38:46.154Z"
   },
   {
    "duration": 89,
    "start_time": "2021-09-12T09:38:46.169Z"
   },
   {
    "duration": 9,
    "start_time": "2021-09-12T09:38:46.260Z"
   },
   {
    "duration": 5,
    "start_time": "2021-09-12T09:38:46.291Z"
   },
   {
    "duration": 15,
    "start_time": "2021-09-12T09:38:46.297Z"
   },
   {
    "duration": 16,
    "start_time": "2021-09-12T09:38:46.314Z"
   },
   {
    "duration": 8,
    "start_time": "2021-09-12T09:38:46.332Z"
   },
   {
    "duration": 34,
    "start_time": "2021-09-12T09:38:46.342Z"
   },
   {
    "duration": 84,
    "start_time": "2021-09-12T09:49:47.823Z"
   },
   {
    "duration": 1460,
    "start_time": "2021-09-12T09:52:22.111Z"
   },
   {
    "duration": 62,
    "start_time": "2021-09-12T09:52:23.574Z"
   },
   {
    "duration": 25,
    "start_time": "2021-09-12T09:52:23.639Z"
   },
   {
    "duration": 25,
    "start_time": "2021-09-12T09:52:23.667Z"
   },
   {
    "duration": 9,
    "start_time": "2021-09-12T09:52:23.694Z"
   },
   {
    "duration": 9,
    "start_time": "2021-09-12T09:52:23.705Z"
   },
   {
    "duration": 6,
    "start_time": "2021-09-12T09:52:23.717Z"
   },
   {
    "duration": 11,
    "start_time": "2021-09-12T09:52:23.726Z"
   },
   {
    "duration": 19,
    "start_time": "2021-09-12T09:52:23.740Z"
   },
   {
    "duration": 34,
    "start_time": "2021-09-12T09:52:23.761Z"
   },
   {
    "duration": 7,
    "start_time": "2021-09-12T09:52:23.797Z"
   },
   {
    "duration": 195,
    "start_time": "2021-09-12T09:52:23.806Z"
   },
   {
    "duration": 2,
    "start_time": "2021-09-12T09:52:24.003Z"
   },
   {
    "duration": 172,
    "start_time": "2021-09-12T09:52:24.007Z"
   },
   {
    "duration": 11,
    "start_time": "2021-09-12T09:52:24.181Z"
   },
   {
    "duration": 12,
    "start_time": "2021-09-12T09:52:24.194Z"
   },
   {
    "duration": 17,
    "start_time": "2021-09-12T09:52:24.208Z"
   },
   {
    "duration": 5,
    "start_time": "2021-09-12T09:52:24.226Z"
   },
   {
    "duration": 198,
    "start_time": "2021-09-12T09:52:24.233Z"
   },
   {
    "duration": 4,
    "start_time": "2021-09-12T09:52:24.433Z"
   },
   {
    "duration": 190,
    "start_time": "2021-09-12T09:52:24.439Z"
   },
   {
    "duration": 195,
    "start_time": "2021-09-12T09:52:24.630Z"
   },
   {
    "duration": 281,
    "start_time": "2021-09-12T09:52:24.828Z"
   },
   {
    "duration": 12,
    "start_time": "2021-09-12T09:52:25.111Z"
   },
   {
    "duration": 14,
    "start_time": "2021-09-12T09:52:25.126Z"
   },
   {
    "duration": 208,
    "start_time": "2021-09-12T09:52:25.142Z"
   },
   {
    "duration": 388,
    "start_time": "2021-09-12T09:52:25.351Z"
   },
   {
    "duration": 13,
    "start_time": "2021-09-12T09:52:25.741Z"
   },
   {
    "duration": 371,
    "start_time": "2021-09-12T09:52:25.757Z"
   },
   {
    "duration": 5,
    "start_time": "2021-09-12T09:52:26.131Z"
   },
   {
    "duration": 11,
    "start_time": "2021-09-12T09:52:26.138Z"
   },
   {
    "duration": 404,
    "start_time": "2021-09-12T09:52:26.151Z"
   },
   {
    "duration": 5,
    "start_time": "2021-09-12T09:52:26.556Z"
   },
   {
    "duration": 868,
    "start_time": "2021-09-12T09:52:26.562Z"
   },
   {
    "duration": 1071,
    "start_time": "2021-09-12T09:52:27.432Z"
   },
   {
    "duration": 138,
    "start_time": "2021-09-12T09:52:28.505Z"
   },
   {
    "duration": 13,
    "start_time": "2021-09-12T09:52:28.645Z"
   },
   {
    "duration": 109,
    "start_time": "2021-09-12T09:52:28.660Z"
   },
   {
    "duration": 22,
    "start_time": "2021-09-12T09:52:28.770Z"
   },
   {
    "duration": 5,
    "start_time": "2021-09-12T09:52:28.794Z"
   },
   {
    "duration": 14,
    "start_time": "2021-09-12T09:52:28.801Z"
   },
   {
    "duration": 14,
    "start_time": "2021-09-12T09:52:28.816Z"
   },
   {
    "duration": 9,
    "start_time": "2021-09-12T09:52:28.832Z"
   },
   {
    "duration": 17,
    "start_time": "2021-09-12T09:52:28.842Z"
   },
   {
    "duration": 3,
    "start_time": "2022-01-22T16:43:17.779Z"
   },
   {
    "duration": 1398,
    "start_time": "2022-01-22T16:44:31.216Z"
   },
   {
    "duration": 159,
    "start_time": "2022-01-22T16:44:33.229Z"
   },
   {
    "duration": 16,
    "start_time": "2022-01-22T16:44:33.655Z"
   },
   {
    "duration": 18,
    "start_time": "2022-01-22T16:44:34.185Z"
   },
   {
    "duration": 4,
    "start_time": "2022-01-22T16:44:35.251Z"
   },
   {
    "duration": 4,
    "start_time": "2022-01-22T16:44:43.986Z"
   },
   {
    "duration": 4,
    "start_time": "2022-01-22T16:44:46.222Z"
   },
   {
    "duration": 8,
    "start_time": "2022-01-22T16:45:24.041Z"
   },
   {
    "duration": 8,
    "start_time": "2022-01-22T16:45:25.245Z"
   },
   {
    "duration": 5780,
    "start_time": "2022-01-22T16:46:42.224Z"
   },
   {
    "duration": 27,
    "start_time": "2022-01-22T16:47:13.604Z"
   },
   {
    "duration": 7,
    "start_time": "2022-01-22T16:47:14.608Z"
   },
   {
    "duration": 7,
    "start_time": "2022-01-22T16:47:16.173Z"
   },
   {
    "duration": 4,
    "start_time": "2022-01-22T16:49:21.908Z"
   },
   {
    "duration": 79,
    "start_time": "2022-01-22T16:49:23.572Z"
   },
   {
    "duration": 12,
    "start_time": "2022-01-22T16:49:23.842Z"
   },
   {
    "duration": 19,
    "start_time": "2022-01-22T16:49:24.068Z"
   },
   {
    "duration": 4,
    "start_time": "2022-01-22T16:49:24.326Z"
   },
   {
    "duration": 20,
    "start_time": "2022-01-22T16:49:25.874Z"
   },
   {
    "duration": 7,
    "start_time": "2022-01-22T16:49:26.210Z"
   },
   {
    "duration": 8,
    "start_time": "2022-01-22T16:49:27.491Z"
   },
   {
    "duration": 3,
    "start_time": "2022-01-22T16:49:30.550Z"
   },
   {
    "duration": 5,
    "start_time": "2022-01-22T16:49:30.921Z"
   },
   {
    "duration": 13,
    "start_time": "2022-01-22T16:49:31.571Z"
   },
   {
    "duration": 13,
    "start_time": "2022-01-22T16:49:32.626Z"
   },
   {
    "duration": 6,
    "start_time": "2022-01-22T16:49:33.076Z"
   },
   {
    "duration": 171,
    "start_time": "2022-01-22T16:49:33.341Z"
   },
   {
    "duration": 3,
    "start_time": "2022-01-22T16:49:33.633Z"
   },
   {
    "duration": 163,
    "start_time": "2022-01-22T16:49:33.978Z"
   },
   {
    "duration": 10,
    "start_time": "2022-01-22T16:49:34.356Z"
   },
   {
    "duration": 6,
    "start_time": "2022-01-22T16:49:35.019Z"
   },
   {
    "duration": 13,
    "start_time": "2022-01-22T16:49:36.357Z"
   },
   {
    "duration": 6,
    "start_time": "2022-01-22T16:49:36.643Z"
   },
   {
    "duration": 194,
    "start_time": "2022-01-22T16:49:45.458Z"
   },
   {
    "duration": 195,
    "start_time": "2022-01-22T16:49:50.377Z"
   },
   {
    "duration": 41,
    "start_time": "2022-01-22T16:50:23.222Z"
   },
   {
    "duration": 44,
    "start_time": "2022-01-22T16:50:35.784Z"
   },
   {
    "duration": 314,
    "start_time": "2022-01-22T16:51:25.719Z"
   },
   {
    "duration": 6,
    "start_time": "2022-01-22T16:51:31.854Z"
   },
   {
    "duration": 193,
    "start_time": "2022-01-22T16:51:32.538Z"
   },
   {
    "duration": 42,
    "start_time": "2022-01-22T16:51:58.685Z"
   },
   {
    "duration": 239,
    "start_time": "2022-01-22T16:52:09.786Z"
   },
   {
    "duration": 274,
    "start_time": "2022-01-22T16:52:22.360Z"
   },
   {
    "duration": 203,
    "start_time": "2022-01-22T16:52:24.225Z"
   },
   {
    "duration": 140,
    "start_time": "2022-01-22T16:55:58.800Z"
   },
   {
    "duration": 7,
    "start_time": "2022-01-22T16:56:03.495Z"
   },
   {
    "duration": 212,
    "start_time": "2022-01-22T16:56:03.797Z"
   },
   {
    "duration": 332,
    "start_time": "2022-01-22T16:56:05.470Z"
   },
   {
    "duration": 301,
    "start_time": "2022-01-22T16:56:11.398Z"
   },
   {
    "duration": 187,
    "start_time": "2022-01-22T16:56:18.140Z"
   },
   {
    "duration": 191,
    "start_time": "2022-01-22T16:56:19.635Z"
   },
   {
    "duration": 197,
    "start_time": "2022-01-22T16:56:30.507Z"
   },
   {
    "duration": 44,
    "start_time": "2022-01-22T17:01:42.242Z"
   },
   {
    "duration": 41,
    "start_time": "2022-01-22T17:04:09.779Z"
   },
   {
    "duration": 46,
    "start_time": "2022-01-22T17:04:25.192Z"
   },
   {
    "duration": 312,
    "start_time": "2022-01-23T11:18:57.154Z"
   },
   {
    "duration": 9,
    "start_time": "2022-01-23T11:19:18.304Z"
   },
   {
    "duration": 10,
    "start_time": "2022-01-23T11:19:30.128Z"
   },
   {
    "duration": 9,
    "start_time": "2022-01-23T11:19:32.649Z"
   },
   {
    "duration": 7,
    "start_time": "2022-01-23T11:19:34.809Z"
   },
   {
    "duration": 3,
    "start_time": "2022-01-23T11:19:40.600Z"
   },
   {
    "duration": 6,
    "start_time": "2022-01-23T11:19:40.985Z"
   },
   {
    "duration": 1372,
    "start_time": "2022-01-23T11:19:44.591Z"
   },
   {
    "duration": -111,
    "start_time": "2022-01-23T11:19:46.076Z"
   },
   {
    "duration": 14,
    "start_time": "2022-01-23T11:20:45.667Z"
   },
   {
    "duration": 5,
    "start_time": "2022-01-23T11:20:46.984Z"
   },
   {
    "duration": 1230,
    "start_time": "2022-01-23T11:20:48.766Z"
   },
   {
    "duration": 17,
    "start_time": "2022-01-23T11:21:26.607Z"
   },
   {
    "duration": 22,
    "start_time": "2022-01-23T11:21:38.910Z"
   },
   {
    "duration": 183,
    "start_time": "2022-01-23T11:22:04.782Z"
   },
   {
    "duration": 251,
    "start_time": "2022-01-23T11:22:15.424Z"
   },
   {
    "duration": 234,
    "start_time": "2022-01-23T11:22:42.132Z"
   },
   {
    "duration": 313,
    "start_time": "2022-01-23T11:22:54.436Z"
   },
   {
    "duration": 252,
    "start_time": "2022-01-23T11:22:58.593Z"
   },
   {
    "duration": 201,
    "start_time": "2022-01-23T11:23:07.433Z"
   },
   {
    "duration": 8,
    "start_time": "2022-01-23T11:23:24.335Z"
   },
   {
    "duration": 197,
    "start_time": "2022-01-23T11:23:24.747Z"
   },
   {
    "duration": 11,
    "start_time": "2022-01-23T11:23:39.240Z"
   },
   {
    "duration": 10,
    "start_time": "2022-01-23T11:23:58.402Z"
   },
   {
    "duration": 227,
    "start_time": "2022-01-23T11:24:12.418Z"
   },
   {
    "duration": 233,
    "start_time": "2022-01-23T11:24:17.051Z"
   },
   {
    "duration": 189,
    "start_time": "2022-01-23T11:24:26.564Z"
   },
   {
    "duration": 204,
    "start_time": "2022-01-23T11:24:45.729Z"
   },
   {
    "duration": 319,
    "start_time": "2022-01-23T11:25:31.779Z"
   },
   {
    "duration": 299,
    "start_time": "2022-01-23T11:25:36.996Z"
   },
   {
    "duration": 174,
    "start_time": "2022-01-23T11:26:29.205Z"
   },
   {
    "duration": 172,
    "start_time": "2022-01-23T11:26:38.687Z"
   },
   {
    "duration": 8,
    "start_time": "2022-01-23T11:27:08.561Z"
   },
   {
    "duration": 351,
    "start_time": "2022-01-23T11:27:21.614Z"
   },
   {
    "duration": 318,
    "start_time": "2022-01-23T11:27:29.972Z"
   },
   {
    "duration": 379,
    "start_time": "2022-01-23T11:27:40.987Z"
   },
   {
    "duration": 187,
    "start_time": "2022-01-23T11:28:02.871Z"
   },
   {
    "duration": 106,
    "start_time": "2022-01-23T11:29:23.708Z"
   },
   {
    "duration": 182,
    "start_time": "2022-01-23T11:29:34.813Z"
   },
   {
    "duration": 138,
    "start_time": "2022-01-23T11:29:51.992Z"
   },
   {
    "duration": 120,
    "start_time": "2022-01-23T11:29:55.157Z"
   },
   {
    "duration": 141,
    "start_time": "2022-01-23T11:29:55.893Z"
   },
   {
    "duration": 282,
    "start_time": "2022-01-23T11:30:15.153Z"
   },
   {
    "duration": 5,
    "start_time": "2022-01-23T11:30:26.103Z"
   },
   {
    "duration": 272,
    "start_time": "2022-01-23T11:30:46.927Z"
   },
   {
    "duration": 316,
    "start_time": "2022-01-23T11:31:07.166Z"
   },
   {
    "duration": 8,
    "start_time": "2022-01-23T11:31:27.424Z"
   },
   {
    "duration": 9,
    "start_time": "2022-01-23T11:31:42.422Z"
   },
   {
    "duration": 273,
    "start_time": "2022-01-23T11:31:46.594Z"
   },
   {
    "duration": 4,
    "start_time": "2022-01-23T11:32:07.019Z"
   },
   {
    "duration": 276,
    "start_time": "2022-01-23T11:32:07.788Z"
   },
   {
    "duration": 5,
    "start_time": "2022-01-23T11:32:08.501Z"
   },
   {
    "duration": 303,
    "start_time": "2022-01-23T11:32:09.805Z"
   },
   {
    "duration": 1082,
    "start_time": "2022-01-23T11:32:24.429Z"
   },
   {
    "duration": 4,
    "start_time": "2022-01-23T11:32:39.804Z"
   },
   {
    "duration": 52,
    "start_time": "2022-01-23T11:32:40.191Z"
   },
   {
    "duration": 12,
    "start_time": "2022-01-23T11:32:40.469Z"
   },
   {
    "duration": 16,
    "start_time": "2022-01-23T11:32:40.748Z"
   },
   {
    "duration": 4,
    "start_time": "2022-01-23T11:32:41.061Z"
   },
   {
    "duration": 7,
    "start_time": "2022-01-23T11:32:42.246Z"
   },
   {
    "duration": 264,
    "start_time": "2022-01-23T11:32:42.525Z"
   },
   {
    "duration": 7,
    "start_time": "2022-01-23T11:32:42.853Z"
   },
   {
    "duration": 8,
    "start_time": "2022-01-23T11:32:43.714Z"
   },
   {
    "duration": 10,
    "start_time": "2022-01-23T11:32:45.844Z"
   },
   {
    "duration": 4,
    "start_time": "2022-01-23T11:32:46.173Z"
   },
   {
    "duration": 22,
    "start_time": "2022-01-23T11:32:46.490Z"
   },
   {
    "duration": 165,
    "start_time": "2022-01-23T11:32:46.828Z"
   },
   {
    "duration": 7,
    "start_time": "2022-01-23T11:32:47.141Z"
   },
   {
    "duration": 192,
    "start_time": "2022-01-23T11:32:47.526Z"
   },
   {
    "duration": 9,
    "start_time": "2022-01-23T11:32:47.898Z"
   },
   {
    "duration": 180,
    "start_time": "2022-01-23T11:32:48.305Z"
   },
   {
    "duration": 258,
    "start_time": "2022-01-23T11:32:48.716Z"
   },
   {
    "duration": 6531,
    "start_time": "2022-01-23T11:32:49.164Z"
   },
   {
    "duration": -46,
    "start_time": "2022-01-23T11:32:55.743Z"
   },
   {
    "duration": -52,
    "start_time": "2022-01-23T11:32:55.750Z"
   },
   {
    "duration": -57,
    "start_time": "2022-01-23T11:32:55.756Z"
   },
   {
    "duration": 334,
    "start_time": "2022-01-23T11:32:57.121Z"
   },
   {
    "duration": 111,
    "start_time": "2022-01-23T11:33:00.992Z"
   },
   {
    "duration": 318,
    "start_time": "2022-01-23T11:33:01.556Z"
   },
   {
    "duration": 5,
    "start_time": "2022-01-23T11:33:02.531Z"
   },
   {
    "duration": 324,
    "start_time": "2022-01-23T11:33:03.759Z"
   },
   {
    "duration": 271,
    "start_time": "2022-01-23T11:33:18.304Z"
   },
   {
    "duration": 4,
    "start_time": "2022-01-23T11:33:21.281Z"
   },
   {
    "duration": 281,
    "start_time": "2022-01-23T11:33:23.147Z"
   },
   {
    "duration": 8,
    "start_time": "2022-01-23T11:33:54.276Z"
   },
   {
    "duration": 1153,
    "start_time": "2022-01-23T11:34:26.594Z"
   },
   {
    "duration": 1986,
    "start_time": "2022-01-23T11:35:49.989Z"
   },
   {
    "duration": 1872,
    "start_time": "2022-01-23T11:35:54.603Z"
   },
   {
    "duration": 1191,
    "start_time": "2022-01-23T11:35:59.344Z"
   },
   {
    "duration": 401,
    "start_time": "2022-01-23T11:36:19.510Z"
   },
   {
    "duration": 106,
    "start_time": "2022-01-23T11:36:37.732Z"
   },
   {
    "duration": 270,
    "start_time": "2022-01-23T11:36:43.697Z"
   },
   {
    "duration": 12,
    "start_time": "2022-01-23T11:37:09.711Z"
   },
   {
    "duration": 112,
    "start_time": "2022-01-23T11:37:19.222Z"
   },
   {
    "duration": 269,
    "start_time": "2022-01-23T11:38:15.696Z"
   },
   {
    "duration": 263,
    "start_time": "2022-01-23T11:38:19.735Z"
   },
   {
    "duration": 259,
    "start_time": "2022-01-23T11:39:15.945Z"
   },
   {
    "duration": 135,
    "start_time": "2022-01-23T11:39:19.606Z"
   },
   {
    "duration": 266,
    "start_time": "2022-01-23T11:39:20.041Z"
   },
   {
    "duration": 272,
    "start_time": "2022-01-23T11:39:25.816Z"
   },
   {
    "duration": 248,
    "start_time": "2022-01-23T11:39:28.651Z"
   },
   {
    "duration": 278,
    "start_time": "2022-01-23T11:39:44.036Z"
   },
   {
    "duration": 269,
    "start_time": "2022-01-23T11:40:00.763Z"
   },
   {
    "duration": 280,
    "start_time": "2022-01-23T11:40:13.622Z"
   },
   {
    "duration": 322,
    "start_time": "2022-01-23T11:40:42.866Z"
   },
   {
    "duration": 256,
    "start_time": "2022-01-23T11:40:47.524Z"
   },
   {
    "duration": 6267,
    "start_time": "2022-01-23T11:41:08.991Z"
   },
   {
    "duration": -104,
    "start_time": "2022-01-23T11:41:15.364Z"
   },
   {
    "duration": 107,
    "start_time": "2022-01-23T11:41:27.015Z"
   },
   {
    "duration": 260,
    "start_time": "2022-01-23T11:41:34.821Z"
   },
   {
    "duration": 380,
    "start_time": "2022-01-23T11:44:30.148Z"
   },
   {
    "duration": 1166,
    "start_time": "2022-01-23T11:44:41.630Z"
   },
   {
    "duration": 55,
    "start_time": "2022-01-23T11:44:42.798Z"
   },
   {
    "duration": 16,
    "start_time": "2022-01-23T11:44:42.858Z"
   },
   {
    "duration": 18,
    "start_time": "2022-01-23T11:44:42.876Z"
   },
   {
    "duration": 4,
    "start_time": "2022-01-23T11:44:42.896Z"
   },
   {
    "duration": 8,
    "start_time": "2022-01-23T11:44:42.902Z"
   },
   {
    "duration": 358,
    "start_time": "2022-01-23T11:44:42.913Z"
   },
   {
    "duration": -48,
    "start_time": "2022-01-23T11:44:43.321Z"
   },
   {
    "duration": -54,
    "start_time": "2022-01-23T11:44:43.328Z"
   },
   {
    "duration": -64,
    "start_time": "2022-01-23T11:44:43.339Z"
   },
   {
    "duration": -68,
    "start_time": "2022-01-23T11:44:43.345Z"
   },
   {
    "duration": -81,
    "start_time": "2022-01-23T11:44:43.359Z"
   },
   {
    "duration": -92,
    "start_time": "2022-01-23T11:44:43.371Z"
   },
   {
    "duration": -97,
    "start_time": "2022-01-23T11:44:43.377Z"
   },
   {
    "duration": -106,
    "start_time": "2022-01-23T11:44:43.387Z"
   },
   {
    "duration": -110,
    "start_time": "2022-01-23T11:44:43.392Z"
   },
   {
    "duration": -118,
    "start_time": "2022-01-23T11:44:43.401Z"
   },
   {
    "duration": -121,
    "start_time": "2022-01-23T11:44:43.405Z"
   },
   {
    "duration": -125,
    "start_time": "2022-01-23T11:44:43.410Z"
   },
   {
    "duration": -135,
    "start_time": "2022-01-23T11:44:43.421Z"
   },
   {
    "duration": -138,
    "start_time": "2022-01-23T11:44:43.425Z"
   },
   {
    "duration": -149,
    "start_time": "2022-01-23T11:44:43.437Z"
   },
   {
    "duration": -152,
    "start_time": "2022-01-23T11:44:43.441Z"
   },
   {
    "duration": -162,
    "start_time": "2022-01-23T11:44:43.452Z"
   },
   {
    "duration": -164,
    "start_time": "2022-01-23T11:44:43.455Z"
   },
   {
    "duration": -168,
    "start_time": "2022-01-23T11:44:43.460Z"
   },
   {
    "duration": -177,
    "start_time": "2022-01-23T11:44:43.470Z"
   },
   {
    "duration": -182,
    "start_time": "2022-01-23T11:44:43.476Z"
   },
   {
    "duration": -193,
    "start_time": "2022-01-23T11:44:43.488Z"
   },
   {
    "duration": -199,
    "start_time": "2022-01-23T11:44:43.495Z"
   },
   {
    "duration": -212,
    "start_time": "2022-01-23T11:44:43.510Z"
   },
   {
    "duration": -223,
    "start_time": "2022-01-23T11:44:43.522Z"
   },
   {
    "duration": -225,
    "start_time": "2022-01-23T11:44:43.525Z"
   },
   {
    "duration": -234,
    "start_time": "2022-01-23T11:44:43.535Z"
   },
   {
    "duration": -236,
    "start_time": "2022-01-23T11:44:43.538Z"
   },
   {
    "duration": -241,
    "start_time": "2022-01-23T11:44:43.544Z"
   },
   {
    "duration": -249,
    "start_time": "2022-01-23T11:44:43.553Z"
   },
   {
    "duration": -252,
    "start_time": "2022-01-23T11:44:43.557Z"
   },
   {
    "duration": -256,
    "start_time": "2022-01-23T11:44:43.562Z"
   },
   {
    "duration": -265,
    "start_time": "2022-01-23T11:44:43.573Z"
   },
   {
    "duration": -269,
    "start_time": "2022-01-23T11:44:43.578Z"
   },
   {
    "duration": -277,
    "start_time": "2022-01-23T11:44:43.587Z"
   },
   {
    "duration": 12,
    "start_time": "2022-01-23T11:45:29.635Z"
   },
   {
    "duration": 1194,
    "start_time": "2022-01-23T11:45:35.666Z"
   },
   {
    "duration": 53,
    "start_time": "2022-01-23T11:45:36.862Z"
   },
   {
    "duration": 13,
    "start_time": "2022-01-23T11:45:36.917Z"
   },
   {
    "duration": 16,
    "start_time": "2022-01-23T11:45:36.932Z"
   },
   {
    "duration": 4,
    "start_time": "2022-01-23T11:45:36.950Z"
   },
   {
    "duration": 7,
    "start_time": "2022-01-23T11:45:36.955Z"
   },
   {
    "duration": 13,
    "start_time": "2022-01-23T11:45:36.963Z"
   },
   {
    "duration": 7,
    "start_time": "2022-01-23T11:45:36.978Z"
   },
   {
    "duration": 367,
    "start_time": "2022-01-23T11:45:36.987Z"
   },
   {
    "duration": -29,
    "start_time": "2022-01-23T11:45:37.386Z"
   },
   {
    "duration": -36,
    "start_time": "2022-01-23T11:45:37.394Z"
   },
   {
    "duration": -40,
    "start_time": "2022-01-23T11:45:37.399Z"
   },
   {
    "duration": -45,
    "start_time": "2022-01-23T11:45:37.405Z"
   },
   {
    "duration": -48,
    "start_time": "2022-01-23T11:45:37.409Z"
   },
   {
    "duration": -51,
    "start_time": "2022-01-23T11:45:37.413Z"
   },
   {
    "duration": -54,
    "start_time": "2022-01-23T11:45:37.417Z"
   },
   {
    "duration": -58,
    "start_time": "2022-01-23T11:45:37.422Z"
   },
   {
    "duration": -60,
    "start_time": "2022-01-23T11:45:37.425Z"
   },
   {
    "duration": -66,
    "start_time": "2022-01-23T11:45:37.432Z"
   },
   {
    "duration": -70,
    "start_time": "2022-01-23T11:45:37.437Z"
   },
   {
    "duration": -73,
    "start_time": "2022-01-23T11:45:37.441Z"
   },
   {
    "duration": -76,
    "start_time": "2022-01-23T11:45:37.445Z"
   },
   {
    "duration": -79,
    "start_time": "2022-01-23T11:45:37.449Z"
   },
   {
    "duration": -90,
    "start_time": "2022-01-23T11:45:37.461Z"
   },
   {
    "duration": -94,
    "start_time": "2022-01-23T11:45:37.466Z"
   },
   {
    "duration": -98,
    "start_time": "2022-01-23T11:45:37.471Z"
   },
   {
    "duration": -103,
    "start_time": "2022-01-23T11:45:37.477Z"
   },
   {
    "duration": -105,
    "start_time": "2022-01-23T11:45:37.480Z"
   },
   {
    "duration": -109,
    "start_time": "2022-01-23T11:45:37.485Z"
   },
   {
    "duration": -112,
    "start_time": "2022-01-23T11:45:37.489Z"
   },
   {
    "duration": -119,
    "start_time": "2022-01-23T11:45:37.496Z"
   },
   {
    "duration": -122,
    "start_time": "2022-01-23T11:45:37.500Z"
   },
   {
    "duration": -128,
    "start_time": "2022-01-23T11:45:37.507Z"
   },
   {
    "duration": -133,
    "start_time": "2022-01-23T11:45:37.512Z"
   },
   {
    "duration": -136,
    "start_time": "2022-01-23T11:45:37.516Z"
   },
   {
    "duration": -141,
    "start_time": "2022-01-23T11:45:37.521Z"
   },
   {
    "duration": -143,
    "start_time": "2022-01-23T11:45:37.524Z"
   },
   {
    "duration": -148,
    "start_time": "2022-01-23T11:45:37.530Z"
   },
   {
    "duration": -156,
    "start_time": "2022-01-23T11:45:37.538Z"
   },
   {
    "duration": -167,
    "start_time": "2022-01-23T11:45:37.550Z"
   },
   {
    "duration": -175,
    "start_time": "2022-01-23T11:45:37.559Z"
   },
   {
    "duration": 52,
    "start_time": "2022-01-23T11:46:27.473Z"
   },
   {
    "duration": 12,
    "start_time": "2022-01-23T11:46:27.707Z"
   },
   {
    "duration": 5,
    "start_time": "2022-01-23T11:46:35.824Z"
   },
   {
    "duration": 8,
    "start_time": "2022-01-23T11:46:39.827Z"
   },
   {
    "duration": -27,
    "start_time": "2022-01-23T11:47:05.442Z"
   },
   {
    "duration": -39,
    "start_time": "2022-01-23T11:47:05.456Z"
   },
   {
    "duration": 4,
    "start_time": "2022-01-23T11:47:09.398Z"
   },
   {
    "duration": 8,
    "start_time": "2022-01-23T11:47:11.029Z"
   },
   {
    "duration": 7405,
    "start_time": "2022-01-23T11:47:11.763Z"
   },
   {
    "duration": 287,
    "start_time": "2022-01-23T11:47:33.992Z"
   },
   {
    "duration": 7,
    "start_time": "2022-01-23T11:47:39.326Z"
   },
   {
    "duration": 7925,
    "start_time": "2022-01-23T11:47:57.624Z"
   },
   {
    "duration": 6677,
    "start_time": "2022-01-23T11:48:30.455Z"
   },
   {
    "duration": 6870,
    "start_time": "2022-01-23T11:48:38.589Z"
   },
   {
    "duration": 8,
    "start_time": "2022-01-23T11:48:47.823Z"
   },
   {
    "duration": 281,
    "start_time": "2022-01-23T11:48:52.092Z"
   },
   {
    "duration": 8,
    "start_time": "2022-01-23T11:49:10.785Z"
   },
   {
    "duration": 9,
    "start_time": "2022-01-23T11:49:12.469Z"
   },
   {
    "duration": 10,
    "start_time": "2022-01-23T11:49:36.342Z"
   },
   {
    "duration": 11,
    "start_time": "2022-01-23T11:49:48.877Z"
   },
   {
    "duration": 9,
    "start_time": "2022-01-23T11:49:55.453Z"
   },
   {
    "duration": 5,
    "start_time": "2022-01-23T11:49:57.219Z"
   },
   {
    "duration": 261,
    "start_time": "2022-01-23T11:49:58.700Z"
   },
   {
    "duration": 21,
    "start_time": "2022-01-23T11:50:11.586Z"
   },
   {
    "duration": 253,
    "start_time": "2022-01-23T11:50:13.565Z"
   },
   {
    "duration": 286,
    "start_time": "2022-01-23T11:50:27.392Z"
   },
   {
    "duration": 255,
    "start_time": "2022-01-23T11:50:35.868Z"
   },
   {
    "duration": 265,
    "start_time": "2022-01-23T11:50:58.130Z"
   },
   {
    "duration": 274,
    "start_time": "2022-01-23T11:51:17.408Z"
   },
   {
    "duration": 177,
    "start_time": "2022-01-23T11:51:19.396Z"
   },
   {
    "duration": 284,
    "start_time": "2022-01-23T11:51:21.332Z"
   },
   {
    "duration": 641,
    "start_time": "2022-01-23T11:51:40.264Z"
   },
   {
    "duration": 7257,
    "start_time": "2022-01-23T11:52:02.874Z"
   },
   {
    "duration": -243,
    "start_time": "2022-01-23T11:52:10.377Z"
   },
   {
    "duration": 7427,
    "start_time": "2022-01-23T11:52:35.641Z"
   },
   {
    "duration": 6894,
    "start_time": "2022-01-23T12:13:32.472Z"
   },
   {
    "duration": 7805,
    "start_time": "2022-01-23T12:13:44.641Z"
   },
   {
    "duration": 87,
    "start_time": "2022-01-23T12:14:08.013Z"
   },
   {
    "duration": 7308,
    "start_time": "2022-01-23T12:14:11.931Z"
   },
   {
    "duration": 6993,
    "start_time": "2022-01-23T12:14:28.189Z"
   },
   {
    "duration": 7055,
    "start_time": "2022-01-23T12:14:41.719Z"
   },
   {
    "duration": 184,
    "start_time": "2022-01-23T12:14:50.697Z"
   },
   {
    "duration": 2,
    "start_time": "2022-01-23T12:15:03.966Z"
   },
   {
    "duration": 7188,
    "start_time": "2022-01-23T12:15:08.389Z"
   },
   {
    "duration": 9,
    "start_time": "2022-01-23T12:15:36.717Z"
   },
   {
    "duration": 11,
    "start_time": "2022-01-23T12:15:49.701Z"
   },
   {
    "duration": 7906,
    "start_time": "2022-01-23T12:15:59.655Z"
   },
   {
    "duration": 145,
    "start_time": "2022-01-23T12:16:14.288Z"
   },
   {
    "duration": 12,
    "start_time": "2022-01-23T12:16:23.108Z"
   },
   {
    "duration": 7,
    "start_time": "2022-01-23T12:16:27.920Z"
   },
   {
    "duration": 258,
    "start_time": "2022-01-23T12:16:33.158Z"
   },
   {
    "duration": 10,
    "start_time": "2022-01-23T12:16:34.392Z"
   },
   {
    "duration": 243,
    "start_time": "2022-01-23T12:16:35.696Z"
   },
   {
    "duration": 239,
    "start_time": "2022-01-23T12:16:48.559Z"
   },
   {
    "duration": 9,
    "start_time": "2022-01-23T12:17:19.618Z"
   },
   {
    "duration": 301,
    "start_time": "2022-01-23T12:18:13.973Z"
   },
   {
    "duration": 566,
    "start_time": "2022-01-23T12:18:36.077Z"
   },
   {
    "duration": 497,
    "start_time": "2022-01-23T12:18:41.749Z"
   },
   {
    "duration": 1016,
    "start_time": "2022-01-23T12:18:45.032Z"
   },
   {
    "duration": 517,
    "start_time": "2022-01-23T12:18:48.564Z"
   },
   {
    "duration": 694,
    "start_time": "2022-01-23T12:18:58.404Z"
   },
   {
    "duration": 278,
    "start_time": "2022-01-23T12:19:40.969Z"
   },
   {
    "duration": 251,
    "start_time": "2022-01-23T12:19:46.480Z"
   },
   {
    "duration": 249,
    "start_time": "2022-01-23T12:19:51.947Z"
   },
   {
    "duration": 1999,
    "start_time": "2022-01-23T12:20:08.214Z"
   },
   {
    "duration": 870,
    "start_time": "2022-01-23T12:20:33.467Z"
   },
   {
    "duration": 242,
    "start_time": "2022-01-23T12:20:51.480Z"
   },
   {
    "duration": 665,
    "start_time": "2022-01-23T12:20:55.588Z"
   },
   {
    "duration": 10,
    "start_time": "2022-01-23T12:21:28.375Z"
   },
   {
    "duration": 275,
    "start_time": "2022-01-23T12:21:29.926Z"
   },
   {
    "duration": 652,
    "start_time": "2022-01-23T12:21:46.025Z"
   },
   {
    "duration": 396,
    "start_time": "2022-01-23T12:21:56.551Z"
   },
   {
    "duration": 834,
    "start_time": "2022-01-23T12:22:05.338Z"
   },
   {
    "duration": 8,
    "start_time": "2022-01-23T12:22:10.779Z"
   },
   {
    "duration": 577,
    "start_time": "2022-01-23T12:22:16.461Z"
   },
   {
    "duration": 8,
    "start_time": "2022-01-23T12:22:21.692Z"
   },
   {
    "duration": 660,
    "start_time": "2022-01-23T12:22:24.975Z"
   },
   {
    "duration": 471,
    "start_time": "2022-01-23T12:23:35.166Z"
   },
   {
    "duration": 889,
    "start_time": "2022-01-23T12:23:54.020Z"
   },
   {
    "duration": 82,
    "start_time": "2022-01-23T12:23:58.611Z"
   },
   {
    "duration": 712,
    "start_time": "2022-01-23T12:24:03.749Z"
   },
   {
    "duration": 361,
    "start_time": "2022-01-23T12:24:13.313Z"
   },
   {
    "duration": 114,
    "start_time": "2022-01-23T12:24:20.939Z"
   },
   {
    "duration": 236,
    "start_time": "2022-01-23T12:24:21.804Z"
   },
   {
    "duration": 263,
    "start_time": "2022-01-23T12:24:22.921Z"
   },
   {
    "duration": 344,
    "start_time": "2022-01-23T12:24:44.516Z"
   },
   {
    "duration": 6778,
    "start_time": "2022-01-23T12:24:50.415Z"
   },
   {
    "duration": 6893,
    "start_time": "2022-01-23T12:25:02.862Z"
   },
   {
    "duration": 4,
    "start_time": "2022-01-23T12:25:14.370Z"
   },
   {
    "duration": 5,
    "start_time": "2022-01-23T12:25:23.550Z"
   },
   {
    "duration": 287,
    "start_time": "2022-01-23T12:25:25.472Z"
   },
   {
    "duration": 5,
    "start_time": "2022-01-23T12:25:27.731Z"
   },
   {
    "duration": 257,
    "start_time": "2022-01-23T12:25:29.661Z"
   },
   {
    "duration": 7,
    "start_time": "2022-01-23T12:25:34.179Z"
   },
   {
    "duration": 1243,
    "start_time": "2022-01-23T12:25:45.777Z"
   },
   {
    "duration": 1823,
    "start_time": "2022-01-23T12:26:01.926Z"
   },
   {
    "duration": 1114,
    "start_time": "2022-01-23T12:26:06.132Z"
   },
   {
    "duration": 10,
    "start_time": "2022-01-23T12:26:14.293Z"
   },
   {
    "duration": 676,
    "start_time": "2022-01-23T12:29:59.963Z"
   },
   {
    "duration": 8,
    "start_time": "2022-01-23T12:30:15.172Z"
   },
   {
    "duration": 1891,
    "start_time": "2022-01-23T12:30:15.781Z"
   },
   {
    "duration": 1390,
    "start_time": "2022-01-23T12:30:17.674Z"
   },
   {
    "duration": 145,
    "start_time": "2022-01-23T12:30:19.066Z"
   },
   {
    "duration": 291,
    "start_time": "2022-01-23T12:30:20.853Z"
   },
   {
    "duration": 266,
    "start_time": "2022-01-23T12:30:41.604Z"
   },
   {
    "duration": 104,
    "start_time": "2022-01-23T12:30:55.850Z"
   },
   {
    "duration": 273,
    "start_time": "2022-01-23T12:30:56.106Z"
   },
   {
    "duration": 1145,
    "start_time": "2022-01-23T12:31:21.912Z"
   },
   {
    "duration": 54,
    "start_time": "2022-01-23T12:31:23.059Z"
   },
   {
    "duration": 14,
    "start_time": "2022-01-23T12:31:23.117Z"
   },
   {
    "duration": 353,
    "start_time": "2022-01-23T12:31:23.132Z"
   },
   {
    "duration": -42,
    "start_time": "2022-01-23T12:31:23.530Z"
   },
   {
    "duration": -50,
    "start_time": "2022-01-23T12:31:23.539Z"
   },
   {
    "duration": -56,
    "start_time": "2022-01-23T12:31:23.546Z"
   },
   {
    "duration": -62,
    "start_time": "2022-01-23T12:31:23.553Z"
   },
   {
    "duration": -66,
    "start_time": "2022-01-23T12:31:23.558Z"
   },
   {
    "duration": -70,
    "start_time": "2022-01-23T12:31:23.563Z"
   },
   {
    "duration": -74,
    "start_time": "2022-01-23T12:31:23.568Z"
   },
   {
    "duration": -77,
    "start_time": "2022-01-23T12:31:23.572Z"
   },
   {
    "duration": -80,
    "start_time": "2022-01-23T12:31:23.576Z"
   },
   {
    "duration": -83,
    "start_time": "2022-01-23T12:31:23.580Z"
   },
   {
    "duration": -86,
    "start_time": "2022-01-23T12:31:23.584Z"
   },
   {
    "duration": -89,
    "start_time": "2022-01-23T12:31:23.588Z"
   },
   {
    "duration": -91,
    "start_time": "2022-01-23T12:31:23.591Z"
   },
   {
    "duration": -94,
    "start_time": "2022-01-23T12:31:23.595Z"
   },
   {
    "duration": -96,
    "start_time": "2022-01-23T12:31:23.598Z"
   },
   {
    "duration": -99,
    "start_time": "2022-01-23T12:31:23.602Z"
   },
   {
    "duration": -103,
    "start_time": "2022-01-23T12:31:23.607Z"
   },
   {
    "duration": -108,
    "start_time": "2022-01-23T12:31:23.613Z"
   },
   {
    "duration": -111,
    "start_time": "2022-01-23T12:31:23.616Z"
   },
   {
    "duration": -125,
    "start_time": "2022-01-23T12:31:23.631Z"
   },
   {
    "duration": -128,
    "start_time": "2022-01-23T12:31:23.635Z"
   },
   {
    "duration": -131,
    "start_time": "2022-01-23T12:31:23.639Z"
   },
   {
    "duration": -133,
    "start_time": "2022-01-23T12:31:23.642Z"
   },
   {
    "duration": -135,
    "start_time": "2022-01-23T12:31:23.645Z"
   },
   {
    "duration": -137,
    "start_time": "2022-01-23T12:31:23.648Z"
   },
   {
    "duration": -139,
    "start_time": "2022-01-23T12:31:23.651Z"
   },
   {
    "duration": -144,
    "start_time": "2022-01-23T12:31:23.657Z"
   },
   {
    "duration": -150,
    "start_time": "2022-01-23T12:31:23.663Z"
   },
   {
    "duration": -154,
    "start_time": "2022-01-23T12:31:23.669Z"
   },
   {
    "duration": -159,
    "start_time": "2022-01-23T12:31:23.675Z"
   },
   {
    "duration": -164,
    "start_time": "2022-01-23T12:31:23.680Z"
   },
   {
    "duration": -169,
    "start_time": "2022-01-23T12:31:23.686Z"
   },
   {
    "duration": -173,
    "start_time": "2022-01-23T12:31:23.691Z"
   },
   {
    "duration": -176,
    "start_time": "2022-01-23T12:31:23.695Z"
   },
   {
    "duration": -180,
    "start_time": "2022-01-23T12:31:23.700Z"
   },
   {
    "duration": -184,
    "start_time": "2022-01-23T12:31:23.705Z"
   },
   {
    "duration": -187,
    "start_time": "2022-01-23T12:31:23.709Z"
   },
   {
    "duration": -191,
    "start_time": "2022-01-23T12:31:23.714Z"
   },
   {
    "duration": -193,
    "start_time": "2022-01-23T12:31:23.717Z"
   },
   {
    "duration": -197,
    "start_time": "2022-01-23T12:31:23.721Z"
   },
   {
    "duration": 1474,
    "start_time": "2022-01-30T15:06:02.853Z"
   },
   {
    "duration": 61,
    "start_time": "2022-01-30T15:06:04.329Z"
   },
   {
    "duration": 16,
    "start_time": "2022-01-30T15:06:04.655Z"
   },
   {
    "duration": 17,
    "start_time": "2022-01-30T15:06:17.510Z"
   },
   {
    "duration": 4,
    "start_time": "2022-01-30T15:06:23.312Z"
   },
   {
    "duration": 9,
    "start_time": "2022-01-30T15:06:28.818Z"
   },
   {
    "duration": 5487,
    "start_time": "2022-01-30T15:06:29.207Z"
   },
   {
    "duration": -3509,
    "start_time": "2022-01-30T15:06:38.205Z"
   },
   {
    "duration": -3524,
    "start_time": "2022-01-30T15:06:38.221Z"
   },
   {
    "duration": -3531,
    "start_time": "2022-01-30T15:06:38.229Z"
   },
   {
    "duration": 12,
    "start_time": "2022-01-30T15:06:56.034Z"
   },
   {
    "duration": 10,
    "start_time": "2022-01-30T15:07:50.642Z"
   },
   {
    "duration": 4,
    "start_time": "2022-01-30T15:07:51.491Z"
   },
   {
    "duration": 25,
    "start_time": "2022-01-30T15:07:52.003Z"
   },
   {
    "duration": 6460,
    "start_time": "2022-01-30T15:07:52.658Z"
   },
   {
    "duration": -3318,
    "start_time": "2022-01-30T15:08:02.438Z"
   },
   {
    "duration": 210,
    "start_time": "2022-01-30T15:07:59.306Z"
   },
   {
    "duration": 217,
    "start_time": "2022-01-30T15:08:09.085Z"
   },
   {
    "duration": 9168,
    "start_time": "2022-01-30T15:08:10.844Z"
   },
   {
    "duration": 202,
    "start_time": "2022-01-30T15:08:56.820Z"
   },
   {
    "duration": 155,
    "start_time": "2022-01-30T15:09:03.920Z"
   },
   {
    "duration": 13,
    "start_time": "2022-01-30T15:09:46.964Z"
   },
   {
    "duration": 9,
    "start_time": "2022-01-30T15:10:07.259Z"
   },
   {
    "duration": 727,
    "start_time": "2022-01-30T15:10:08.676Z"
   },
   {
    "duration": 700,
    "start_time": "2022-01-30T15:10:35.233Z"
   },
   {
    "duration": 944,
    "start_time": "2022-01-30T15:10:55.995Z"
   },
   {
    "duration": 902,
    "start_time": "2022-01-30T15:11:04.175Z"
   },
   {
    "duration": 960,
    "start_time": "2022-01-30T15:11:11.557Z"
   },
   {
    "duration": 936,
    "start_time": "2022-01-30T15:11:18.547Z"
   },
   {
    "duration": 732,
    "start_time": "2022-01-30T15:11:24.758Z"
   },
   {
    "duration": 14,
    "start_time": "2022-01-30T15:11:48.504Z"
   },
   {
    "duration": 678,
    "start_time": "2022-01-30T15:11:49.892Z"
   },
   {
    "duration": 712,
    "start_time": "2022-01-30T15:12:20.418Z"
   },
   {
    "duration": 715,
    "start_time": "2022-01-30T15:12:39.303Z"
   },
   {
    "duration": 717,
    "start_time": "2022-01-30T15:12:44.461Z"
   },
   {
    "duration": 1107,
    "start_time": "2022-01-30T15:13:25.726Z"
   },
   {
    "duration": 64,
    "start_time": "2022-01-30T15:13:44.219Z"
   },
   {
    "duration": 821,
    "start_time": "2022-01-30T15:15:54.453Z"
   },
   {
    "duration": 7,
    "start_time": "2022-01-30T15:15:55.276Z"
   },
   {
    "duration": 614,
    "start_time": "2022-01-30T15:15:57.746Z"
   },
   {
    "duration": 7,
    "start_time": "2022-01-30T15:19:32.017Z"
   },
   {
    "duration": 621,
    "start_time": "2022-01-30T15:19:32.323Z"
   },
   {
    "duration": 6,
    "start_time": "2022-01-30T15:19:41.418Z"
   },
   {
    "duration": 6,
    "start_time": "2022-01-30T15:20:37.293Z"
   },
   {
    "duration": 717,
    "start_time": "2022-01-30T15:20:37.601Z"
   },
   {
    "duration": 601,
    "start_time": "2022-01-30T15:21:14.020Z"
   },
   {
    "duration": 11,
    "start_time": "2022-01-30T15:24:33.969Z"
   },
   {
    "duration": 964,
    "start_time": "2022-01-30T15:24:34.772Z"
   },
   {
    "duration": 388,
    "start_time": "2022-01-30T15:27:07.260Z"
   },
   {
    "duration": 216,
    "start_time": "2022-01-30T15:27:24.839Z"
   },
   {
    "duration": 115,
    "start_time": "2022-01-30T15:27:31.927Z"
   },
   {
    "duration": 308,
    "start_time": "2022-01-30T15:27:33.825Z"
   },
   {
    "duration": 5,
    "start_time": "2022-01-30T15:27:37.639Z"
   },
   {
    "duration": 288,
    "start_time": "2022-01-30T15:27:38.460Z"
   },
   {
    "duration": 3,
    "start_time": "2022-01-30T15:28:15.252Z"
   },
   {
    "duration": 104,
    "start_time": "2022-01-30T15:28:31.192Z"
   },
   {
    "duration": 273,
    "start_time": "2022-01-30T15:28:31.428Z"
   },
   {
    "duration": 5,
    "start_time": "2022-01-30T15:28:32.095Z"
   },
   {
    "duration": 294,
    "start_time": "2022-01-30T15:28:32.952Z"
   },
   {
    "duration": 4,
    "start_time": "2022-01-30T15:28:33.803Z"
   },
   {
    "duration": 8,
    "start_time": "2022-01-30T15:28:35.701Z"
   },
   {
    "duration": 221,
    "start_time": "2022-01-30T15:28:37.400Z"
   },
   {
    "duration": 1369,
    "start_time": "2022-01-30T15:28:58.778Z"
   },
   {
    "duration": 7016,
    "start_time": "2022-01-30T15:29:14.150Z"
   },
   {
    "duration": -3238,
    "start_time": "2022-01-30T15:29:24.407Z"
   },
   {
    "duration": 2013,
    "start_time": "2022-01-30T15:29:32.376Z"
   },
   {
    "duration": 1287,
    "start_time": "2022-01-30T15:29:36.608Z"
   },
   {
    "duration": 112,
    "start_time": "2022-01-30T15:29:51.219Z"
   },
   {
    "duration": 206,
    "start_time": "2022-01-30T15:29:52.555Z"
   },
   {
    "duration": 250,
    "start_time": "2022-01-30T15:29:59.469Z"
   },
   {
    "duration": 203,
    "start_time": "2022-01-30T15:30:46.324Z"
   },
   {
    "duration": 197,
    "start_time": "2022-01-30T15:31:02.712Z"
   },
   {
    "duration": 198,
    "start_time": "2022-01-30T15:31:05.581Z"
   },
   {
    "duration": 12,
    "start_time": "2022-01-30T15:31:11.803Z"
   },
   {
    "duration": 5,
    "start_time": "2022-01-30T15:31:15.839Z"
   },
   {
    "duration": 237,
    "start_time": "2022-01-30T15:31:16.707Z"
   },
   {
    "duration": 7,
    "start_time": "2022-01-30T15:31:24.790Z"
   },
   {
    "duration": 8,
    "start_time": "2022-01-30T15:31:29.339Z"
   },
   {
    "duration": 6,
    "start_time": "2022-01-30T15:31:30.420Z"
   },
   {
    "duration": 5,
    "start_time": "2022-01-30T15:31:32.500Z"
   },
   {
    "duration": 196,
    "start_time": "2022-01-30T15:31:41.042Z"
   },
   {
    "duration": 219,
    "start_time": "2022-01-30T15:32:02.408Z"
   },
   {
    "duration": 207,
    "start_time": "2022-01-30T15:32:12.851Z"
   },
   {
    "duration": 223,
    "start_time": "2022-01-30T15:32:19.403Z"
   },
   {
    "duration": 276,
    "start_time": "2022-01-30T15:32:25.290Z"
   },
   {
    "duration": 13,
    "start_time": "2022-01-30T15:32:28.847Z"
   },
   {
    "duration": 1573,
    "start_time": "2022-01-30T15:42:47.564Z"
   },
   {
    "duration": 61,
    "start_time": "2022-01-30T15:42:49.139Z"
   },
   {
    "duration": 18,
    "start_time": "2022-01-30T15:42:49.205Z"
   },
   {
    "duration": 25,
    "start_time": "2022-01-30T15:42:49.225Z"
   },
   {
    "duration": 12,
    "start_time": "2022-01-30T15:42:49.251Z"
   },
   {
    "duration": 23,
    "start_time": "2022-01-30T15:42:49.265Z"
   },
   {
    "duration": 15,
    "start_time": "2022-01-30T15:42:49.291Z"
   },
   {
    "duration": 5242,
    "start_time": "2022-01-30T15:42:49.308Z"
   },
   {
    "duration": -3077,
    "start_time": "2022-01-30T15:42:57.630Z"
   },
   {
    "duration": -3086,
    "start_time": "2022-01-30T15:42:57.640Z"
   },
   {
    "duration": -3089,
    "start_time": "2022-01-30T15:42:57.644Z"
   },
   {
    "duration": -3092,
    "start_time": "2022-01-30T15:42:57.648Z"
   },
   {
    "duration": -3100,
    "start_time": "2022-01-30T15:42:57.657Z"
   },
   {
    "duration": -3103,
    "start_time": "2022-01-30T15:42:57.661Z"
   },
   {
    "duration": -3108,
    "start_time": "2022-01-30T15:42:57.667Z"
   },
   {
    "duration": -3117,
    "start_time": "2022-01-30T15:42:57.677Z"
   },
   {
    "duration": -3121,
    "start_time": "2022-01-30T15:42:57.682Z"
   },
   {
    "duration": -3129,
    "start_time": "2022-01-30T15:42:57.691Z"
   },
   {
    "duration": -3131,
    "start_time": "2022-01-30T15:42:57.694Z"
   },
   {
    "duration": -3134,
    "start_time": "2022-01-30T15:42:57.699Z"
   },
   {
    "duration": -3142,
    "start_time": "2022-01-30T15:42:57.708Z"
   },
   {
    "duration": -3144,
    "start_time": "2022-01-30T15:42:57.711Z"
   },
   {
    "duration": -3148,
    "start_time": "2022-01-30T15:42:57.716Z"
   },
   {
    "duration": -3157,
    "start_time": "2022-01-30T15:42:57.726Z"
   },
   {
    "duration": -3160,
    "start_time": "2022-01-30T15:42:57.729Z"
   },
   {
    "duration": -3169,
    "start_time": "2022-01-30T15:42:57.739Z"
   },
   {
    "duration": -3171,
    "start_time": "2022-01-30T15:42:57.742Z"
   },
   {
    "duration": -3174,
    "start_time": "2022-01-30T15:42:57.746Z"
   },
   {
    "duration": -3183,
    "start_time": "2022-01-30T15:42:57.756Z"
   },
   {
    "duration": -3186,
    "start_time": "2022-01-30T15:42:57.760Z"
   },
   {
    "duration": -3188,
    "start_time": "2022-01-30T15:42:57.763Z"
   },
   {
    "duration": -3197,
    "start_time": "2022-01-30T15:42:57.774Z"
   },
   {
    "duration": -3199,
    "start_time": "2022-01-30T15:42:57.777Z"
   },
   {
    "duration": -3203,
    "start_time": "2022-01-30T15:42:57.782Z"
   },
   {
    "duration": -3212,
    "start_time": "2022-01-30T15:42:57.792Z"
   },
   {
    "duration": -3214,
    "start_time": "2022-01-30T15:42:57.795Z"
   },
   {
    "duration": -3219,
    "start_time": "2022-01-30T15:42:57.800Z"
   },
   {
    "duration": -3227,
    "start_time": "2022-01-30T15:42:57.809Z"
   },
   {
    "duration": -3229,
    "start_time": "2022-01-30T15:42:57.812Z"
   },
   {
    "duration": -3233,
    "start_time": "2022-01-30T15:42:57.817Z"
   },
   {
    "duration": -3240,
    "start_time": "2022-01-30T15:42:57.825Z"
   },
   {
    "duration": -3243,
    "start_time": "2022-01-30T15:42:57.829Z"
   },
   {
    "duration": -3252,
    "start_time": "2022-01-30T15:42:57.839Z"
   },
   {
    "duration": 5306,
    "start_time": "2022-01-30T15:44:59.129Z"
   },
   {
    "duration": 8,
    "start_time": "2022-01-30T15:45:45.150Z"
   },
   {
    "duration": 11,
    "start_time": "2022-01-30T15:45:46.763Z"
   },
   {
    "duration": 15,
    "start_time": "2022-01-30T15:45:47.107Z"
   },
   {
    "duration": 1247,
    "start_time": "2022-01-30T15:45:53.020Z"
   },
   {
    "duration": 64,
    "start_time": "2022-01-30T15:45:54.270Z"
   },
   {
    "duration": 15,
    "start_time": "2022-01-30T15:45:54.336Z"
   },
   {
    "duration": 21,
    "start_time": "2022-01-30T15:45:54.353Z"
   },
   {
    "duration": 7,
    "start_time": "2022-01-30T15:45:54.377Z"
   },
   {
    "duration": 9,
    "start_time": "2022-01-30T15:45:54.386Z"
   },
   {
    "duration": 8,
    "start_time": "2022-01-30T15:45:54.396Z"
   },
   {
    "duration": 7,
    "start_time": "2022-01-30T15:45:54.407Z"
   },
   {
    "duration": 11,
    "start_time": "2022-01-30T15:45:54.417Z"
   },
   {
    "duration": 43,
    "start_time": "2022-01-30T15:45:54.430Z"
   },
   {
    "duration": 13,
    "start_time": "2022-01-30T15:45:54.475Z"
   },
   {
    "duration": 4,
    "start_time": "2022-01-30T15:45:54.490Z"
   },
   {
    "duration": 34,
    "start_time": "2022-01-30T15:45:54.496Z"
   },
   {
    "duration": 269,
    "start_time": "2022-01-30T15:45:54.532Z"
   },
   {
    "duration": 190,
    "start_time": "2022-01-30T15:45:54.803Z"
   },
   {
    "duration": 13,
    "start_time": "2022-01-30T15:45:54.995Z"
   },
   {
    "duration": 18,
    "start_time": "2022-01-30T15:45:55.009Z"
   },
   {
    "duration": 794,
    "start_time": "2022-01-30T15:45:55.029Z"
   },
   {
    "duration": 10,
    "start_time": "2022-01-30T15:45:55.825Z"
   },
   {
    "duration": 786,
    "start_time": "2022-01-30T15:45:55.836Z"
   },
   {
    "duration": 971,
    "start_time": "2022-01-30T15:45:56.623Z"
   },
   {
    "duration": 7,
    "start_time": "2022-01-30T15:45:57.596Z"
   },
   {
    "duration": 654,
    "start_time": "2022-01-30T15:45:57.606Z"
   },
   {
    "duration": 8,
    "start_time": "2022-01-30T15:45:58.263Z"
   },
   {
    "duration": 841,
    "start_time": "2022-01-30T15:45:58.273Z"
   },
   {
    "duration": 117,
    "start_time": "2022-01-30T15:45:59.116Z"
   },
   {
    "duration": 333,
    "start_time": "2022-01-30T15:45:59.235Z"
   },
   {
    "duration": 5,
    "start_time": "2022-01-30T15:45:59.570Z"
   },
   {
    "duration": 391,
    "start_time": "2022-01-30T15:45:59.577Z"
   },
   {
    "duration": 5,
    "start_time": "2022-01-30T15:45:59.970Z"
   },
   {
    "duration": 14,
    "start_time": "2022-01-30T15:45:59.977Z"
   },
   {
    "duration": 3298,
    "start_time": "2022-01-30T15:45:59.993Z"
   },
   {
    "duration": 1671,
    "start_time": "2022-01-30T15:46:03.293Z"
   },
   {
    "duration": 141,
    "start_time": "2022-01-30T15:46:04.967Z"
   },
   {
    "duration": 341,
    "start_time": "2022-01-30T15:46:05.110Z"
   },
   {
    "duration": -3062,
    "start_time": "2022-01-30T15:46:08.515Z"
   },
   {
    "duration": -3068,
    "start_time": "2022-01-30T15:46:08.522Z"
   },
   {
    "duration": -3070,
    "start_time": "2022-01-30T15:46:08.525Z"
   },
   {
    "duration": -3073,
    "start_time": "2022-01-30T15:46:08.529Z"
   },
   {
    "duration": -3075,
    "start_time": "2022-01-30T15:46:08.532Z"
   },
   {
    "duration": -3077,
    "start_time": "2022-01-30T15:46:08.535Z"
   },
   {
    "duration": -3080,
    "start_time": "2022-01-30T15:46:08.540Z"
   },
   {
    "duration": -3083,
    "start_time": "2022-01-30T15:46:08.544Z"
   },
   {
    "duration": 195,
    "start_time": "2022-01-30T15:46:25.672Z"
   },
   {
    "duration": 13,
    "start_time": "2022-01-30T15:46:28.633Z"
   },
   {
    "duration": 7,
    "start_time": "2022-01-30T15:46:29.482Z"
   },
   {
    "duration": 10,
    "start_time": "2022-01-30T15:46:29.739Z"
   },
   {
    "duration": 9,
    "start_time": "2022-01-30T15:46:30.246Z"
   },
   {
    "duration": 7,
    "start_time": "2022-01-30T15:46:30.494Z"
   },
   {
    "duration": 5,
    "start_time": "2022-01-30T15:46:30.724Z"
   },
   {
    "duration": 15,
    "start_time": "2022-01-30T15:46:31.715Z"
   },
   {
    "duration": 1416,
    "start_time": "2022-01-30T18:46:27.317Z"
   },
   {
    "duration": 110,
    "start_time": "2022-01-30T18:46:28.735Z"
   },
   {
    "duration": 16,
    "start_time": "2022-01-30T18:46:28.847Z"
   },
   {
    "duration": 18,
    "start_time": "2022-01-30T18:46:28.865Z"
   },
   {
    "duration": 4,
    "start_time": "2022-01-30T18:46:28.884Z"
   },
   {
    "duration": 11,
    "start_time": "2022-01-30T18:46:28.889Z"
   },
   {
    "duration": 10,
    "start_time": "2022-01-30T18:46:28.902Z"
   },
   {
    "duration": 7,
    "start_time": "2022-01-30T18:46:28.916Z"
   },
   {
    "duration": 42,
    "start_time": "2022-01-30T18:46:28.926Z"
   },
   {
    "duration": 13,
    "start_time": "2022-01-30T18:46:28.970Z"
   },
   {
    "duration": 10,
    "start_time": "2022-01-30T18:46:28.984Z"
   },
   {
    "duration": 5,
    "start_time": "2022-01-30T18:46:28.996Z"
   },
   {
    "duration": 26,
    "start_time": "2022-01-30T18:46:29.002Z"
   },
   {
    "duration": 235,
    "start_time": "2022-01-30T18:46:29.030Z"
   },
   {
    "duration": 163,
    "start_time": "2022-01-30T18:46:29.267Z"
   },
   {
    "duration": 12,
    "start_time": "2022-01-30T18:46:29.432Z"
   },
   {
    "duration": 18,
    "start_time": "2022-01-30T18:46:29.446Z"
   },
   {
    "duration": 762,
    "start_time": "2022-01-30T18:46:29.465Z"
   },
   {
    "duration": 10,
    "start_time": "2022-01-30T18:46:30.229Z"
   },
   {
    "duration": 789,
    "start_time": "2022-01-30T18:46:30.241Z"
   },
   {
    "duration": 874,
    "start_time": "2022-01-30T18:46:31.032Z"
   },
   {
    "duration": 8,
    "start_time": "2022-01-30T18:46:31.908Z"
   },
   {
    "duration": 681,
    "start_time": "2022-01-30T18:46:31.920Z"
   },
   {
    "duration": 8,
    "start_time": "2022-01-30T18:46:32.603Z"
   },
   {
    "duration": 772,
    "start_time": "2022-01-30T18:46:32.613Z"
   },
   {
    "duration": 122,
    "start_time": "2022-01-30T18:46:33.387Z"
   },
   {
    "duration": 268,
    "start_time": "2022-01-30T18:46:33.510Z"
   },
   {
    "duration": 5,
    "start_time": "2022-01-30T18:46:33.780Z"
   },
   {
    "duration": 305,
    "start_time": "2022-01-30T18:46:33.787Z"
   },
   {
    "duration": 4,
    "start_time": "2022-01-30T18:46:34.094Z"
   },
   {
    "duration": 9,
    "start_time": "2022-01-30T18:46:34.100Z"
   },
   {
    "duration": 1919,
    "start_time": "2022-01-30T18:46:34.111Z"
   },
   {
    "duration": 1431,
    "start_time": "2022-01-30T18:46:36.032Z"
   },
   {
    "duration": 177,
    "start_time": "2022-01-30T18:46:37.464Z"
   },
   {
    "duration": 288,
    "start_time": "2022-01-30T18:46:37.643Z"
   },
   {
    "duration": 14,
    "start_time": "2022-01-30T18:46:37.919Z"
   },
   {
    "duration": 12,
    "start_time": "2022-01-30T18:46:37.922Z"
   },
   {
    "duration": 10,
    "start_time": "2022-01-30T18:46:37.925Z"
   },
   {
    "duration": 1,
    "start_time": "2022-01-30T18:46:37.935Z"
   },
   {
    "duration": -1,
    "start_time": "2022-01-30T18:46:37.938Z"
   },
   {
    "duration": -4,
    "start_time": "2022-01-30T18:46:37.942Z"
   },
   {
    "duration": -15,
    "start_time": "2022-01-30T18:46:37.953Z"
   },
   {
    "duration": -16,
    "start_time": "2022-01-30T18:46:37.955Z"
   },
   {
    "duration": 280,
    "start_time": "2022-01-30T19:43:18.444Z"
   },
   {
    "duration": 1205,
    "start_time": "2022-01-30T19:43:25.565Z"
   },
   {
    "duration": 55,
    "start_time": "2022-01-30T19:43:26.772Z"
   },
   {
    "duration": 14,
    "start_time": "2022-01-30T19:43:26.829Z"
   },
   {
    "duration": 17,
    "start_time": "2022-01-30T19:43:27.074Z"
   },
   {
    "duration": 4,
    "start_time": "2022-01-30T19:43:27.955Z"
   },
   {
    "duration": 326,
    "start_time": "2022-01-30T19:43:28.773Z"
   },
   {
    "duration": 3,
    "start_time": "2022-01-30T19:46:15.882Z"
   },
   {
    "duration": 2,
    "start_time": "2022-01-30T19:46:18.512Z"
   },
   {
    "duration": 3,
    "start_time": "2022-01-30T19:46:30.663Z"
   },
   {
    "duration": 272,
    "start_time": "2022-01-30T19:47:32.684Z"
   },
   {
    "duration": 265,
    "start_time": "2022-01-30T19:47:52.523Z"
   },
   {
    "duration": 121,
    "start_time": "2022-01-30T19:48:20.225Z"
   },
   {
    "duration": 81,
    "start_time": "2022-01-30T19:48:32.190Z"
   },
   {
    "duration": 264,
    "start_time": "2022-01-30T19:48:34.983Z"
   },
   {
    "duration": 277,
    "start_time": "2022-01-30T19:49:50.760Z"
   },
   {
    "duration": 82,
    "start_time": "2022-01-30T19:50:13.068Z"
   },
   {
    "duration": 3,
    "start_time": "2022-01-30T19:50:16.024Z"
   },
   {
    "duration": 303,
    "start_time": "2022-01-30T19:51:16.670Z"
   },
   {
    "duration": 268,
    "start_time": "2022-01-30T19:51:29.976Z"
   },
   {
    "duration": 258,
    "start_time": "2022-01-30T19:51:42.763Z"
   },
   {
    "duration": 270,
    "start_time": "2022-01-30T19:52:22.540Z"
   },
   {
    "duration": 253,
    "start_time": "2022-01-30T19:52:39.865Z"
   },
   {
    "duration": 92,
    "start_time": "2022-01-30T19:52:59.259Z"
   },
   {
    "duration": 269,
    "start_time": "2022-01-30T19:54:29.035Z"
   },
   {
    "duration": 259,
    "start_time": "2022-01-30T19:55:19.749Z"
   },
   {
    "duration": 5,
    "start_time": "2022-01-30T19:55:39.628Z"
   },
   {
    "duration": 2,
    "start_time": "2022-01-30T19:55:46.000Z"
   },
   {
    "duration": 268,
    "start_time": "2022-01-30T19:55:48.645Z"
   },
   {
    "duration": 257,
    "start_time": "2022-01-30T19:55:53.239Z"
   },
   {
    "duration": 3,
    "start_time": "2022-01-30T19:55:59.828Z"
   },
   {
    "duration": 266,
    "start_time": "2022-01-30T19:56:01.314Z"
   },
   {
    "duration": 4,
    "start_time": "2022-01-30T19:56:15.663Z"
   },
   {
    "duration": 3,
    "start_time": "2022-01-30T19:56:37.251Z"
   },
   {
    "duration": 5,
    "start_time": "2022-01-30T19:56:37.554Z"
   },
   {
    "duration": 77,
    "start_time": "2022-01-30T19:57:02.798Z"
   },
   {
    "duration": 8,
    "start_time": "2022-01-30T19:57:12.664Z"
   },
   {
    "duration": 9,
    "start_time": "2022-01-30T19:57:12.887Z"
   },
   {
    "duration": 7,
    "start_time": "2022-01-30T19:57:13.557Z"
   },
   {
    "duration": 9,
    "start_time": "2022-01-30T19:57:13.796Z"
   },
   {
    "duration": 9,
    "start_time": "2022-01-30T19:57:14.060Z"
   },
   {
    "duration": 10,
    "start_time": "2022-01-30T19:57:17.574Z"
   },
   {
    "duration": 4,
    "start_time": "2022-01-30T19:57:17.895Z"
   },
   {
    "duration": 20,
    "start_time": "2022-01-30T19:57:18.241Z"
   },
   {
    "duration": 182,
    "start_time": "2022-01-30T19:57:18.884Z"
   },
   {
    "duration": 138,
    "start_time": "2022-01-30T19:57:19.220Z"
   },
   {
    "duration": 12,
    "start_time": "2022-01-30T19:57:19.779Z"
   },
   {
    "duration": 7,
    "start_time": "2022-01-30T19:57:20.414Z"
   },
   {
    "duration": 668,
    "start_time": "2022-01-30T19:57:21.629Z"
   },
   {
    "duration": 89,
    "start_time": "2022-01-30T19:58:16.694Z"
   },
   {
    "duration": 685,
    "start_time": "2022-01-30T19:58:22.320Z"
   },
   {
    "duration": 663,
    "start_time": "2022-01-30T19:58:27.289Z"
   },
   {
    "duration": 674,
    "start_time": "2022-01-30T19:59:39.148Z"
   },
   {
    "duration": 258,
    "start_time": "2022-01-30T19:59:52.977Z"
   },
   {
    "duration": 4,
    "start_time": "2022-01-30T20:00:25.918Z"
   },
   {
    "duration": 574,
    "start_time": "2022-01-30T20:00:30.827Z"
   },
   {
    "duration": 245,
    "start_time": "2022-01-30T20:00:39.989Z"
   },
   {
    "duration": 252,
    "start_time": "2022-01-30T20:01:03.446Z"
   },
   {
    "duration": 725,
    "start_time": "2022-01-30T20:01:07.886Z"
   },
   {
    "duration": 661,
    "start_time": "2022-01-30T20:01:17.588Z"
   },
   {
    "duration": 928,
    "start_time": "2022-01-30T20:02:38.871Z"
   },
   {
    "duration": 914,
    "start_time": "2022-01-30T20:02:56.376Z"
   },
   {
    "duration": 826,
    "start_time": "2022-01-30T20:04:16.689Z"
   },
   {
    "duration": 668,
    "start_time": "2022-01-30T20:04:27.997Z"
   },
   {
    "duration": 1008,
    "start_time": "2022-01-30T20:04:31.136Z"
   },
   {
    "duration": 1027,
    "start_time": "2022-01-30T20:04:53.288Z"
   },
   {
    "duration": 737,
    "start_time": "2022-01-30T20:05:05.395Z"
   },
   {
    "duration": 656,
    "start_time": "2022-01-30T20:05:42.332Z"
   },
   {
    "duration": 700,
    "start_time": "2022-01-30T20:05:47.886Z"
   },
   {
    "duration": 974,
    "start_time": "2022-01-30T20:06:24.331Z"
   },
   {
    "duration": 820,
    "start_time": "2022-01-30T20:06:42.056Z"
   },
   {
    "duration": 89,
    "start_time": "2022-01-30T20:06:51.683Z"
   },
   {
    "duration": 723,
    "start_time": "2022-01-30T20:06:55.966Z"
   },
   {
    "duration": 934,
    "start_time": "2022-01-30T20:07:51.131Z"
   },
   {
    "duration": 732,
    "start_time": "2022-01-30T20:07:54.908Z"
   },
   {
    "duration": 716,
    "start_time": "2022-01-30T20:08:23.282Z"
   },
   {
    "duration": 696,
    "start_time": "2022-01-30T20:08:53.602Z"
   },
   {
    "duration": 1132,
    "start_time": "2022-01-30T20:09:14.669Z"
   },
   {
    "duration": 1065,
    "start_time": "2022-01-30T20:09:33.487Z"
   },
   {
    "duration": 754,
    "start_time": "2022-01-30T20:09:42.995Z"
   },
   {
    "duration": 754,
    "start_time": "2022-01-30T20:10:38.301Z"
   },
   {
    "duration": 5,
    "start_time": "2022-01-30T20:10:42.078Z"
   },
   {
    "duration": 668,
    "start_time": "2022-01-30T20:10:42.303Z"
   },
   {
    "duration": 828,
    "start_time": "2022-01-30T20:11:08.094Z"
   },
   {
    "duration": 7,
    "start_time": "2022-01-30T20:11:12.040Z"
   },
   {
    "duration": 659,
    "start_time": "2022-01-30T20:11:12.270Z"
   },
   {
    "duration": 484,
    "start_time": "2022-01-30T20:12:34.782Z"
   },
   {
    "duration": 729,
    "start_time": "2022-01-30T20:12:59.662Z"
   },
   {
    "duration": 1238,
    "start_time": "2022-01-30T20:13:16.171Z"
   },
   {
    "duration": 907,
    "start_time": "2022-01-30T20:13:29.025Z"
   },
   {
    "duration": 893,
    "start_time": "2022-01-30T20:13:33.286Z"
   },
   {
    "duration": 5,
    "start_time": "2022-02-01T19:34:25.933Z"
   },
   {
    "duration": 902,
    "start_time": "2022-02-01T19:37:18.187Z"
   },
   {
    "duration": 2152,
    "start_time": "2022-02-01T19:37:30.244Z"
   },
   {
    "duration": 58,
    "start_time": "2022-02-01T19:37:32.399Z"
   },
   {
    "duration": 29,
    "start_time": "2022-02-01T19:37:32.461Z"
   },
   {
    "duration": 41,
    "start_time": "2022-02-01T19:37:32.493Z"
   },
   {
    "duration": 7,
    "start_time": "2022-02-01T19:37:32.537Z"
   },
   {
    "duration": 10,
    "start_time": "2022-02-01T19:37:32.547Z"
   },
   {
    "duration": 22,
    "start_time": "2022-02-01T19:37:32.560Z"
   },
   {
    "duration": 14,
    "start_time": "2022-02-01T19:37:36.688Z"
   },
   {
    "duration": 30,
    "start_time": "2022-02-01T19:37:37.014Z"
   },
   {
    "duration": 11,
    "start_time": "2022-02-01T19:37:37.957Z"
   },
   {
    "duration": 18,
    "start_time": "2022-02-01T19:37:38.274Z"
   },
   {
    "duration": 14,
    "start_time": "2022-02-01T19:37:38.596Z"
   },
   {
    "duration": 15,
    "start_time": "2022-02-01T19:37:41.409Z"
   },
   {
    "duration": 6,
    "start_time": "2022-02-01T19:37:41.729Z"
   },
   {
    "duration": 42,
    "start_time": "2022-02-01T19:37:42.026Z"
   },
   {
    "duration": 465,
    "start_time": "2022-02-01T19:37:42.725Z"
   },
   {
    "duration": 371,
    "start_time": "2022-02-01T19:37:43.195Z"
   },
   {
    "duration": 21,
    "start_time": "2022-02-01T19:37:45.399Z"
   },
   {
    "duration": 11,
    "start_time": "2022-02-01T19:37:46.461Z"
   },
   {
    "duration": 1654,
    "start_time": "2022-02-01T19:37:47.444Z"
   },
   {
    "duration": 19,
    "start_time": "2022-02-01T19:37:49.647Z"
   },
   {
    "duration": 1439,
    "start_time": "2022-02-01T19:39:38.601Z"
   },
   {
    "duration": 1528,
    "start_time": "2022-02-01T19:39:40.708Z"
   },
   {
    "duration": 16,
    "start_time": "2022-02-01T19:44:23.061Z"
   },
   {
    "duration": 51,
    "start_time": "2022-02-01T19:44:34.633Z"
   },
   {
    "duration": 13,
    "start_time": "2022-02-01T19:44:37.939Z"
   },
   {
    "duration": 21,
    "start_time": "2022-02-01T19:44:52.082Z"
   },
   {
    "duration": 457,
    "start_time": "2022-02-01T19:45:27.269Z"
   },
   {
    "duration": 6,
    "start_time": "2022-02-01T19:45:33.680Z"
   },
   {
    "duration": 7,
    "start_time": "2022-02-01T19:45:41.413Z"
   },
   {
    "duration": 12,
    "start_time": "2022-02-01T19:46:21.065Z"
   },
   {
    "duration": 19,
    "start_time": "2022-02-01T19:46:30.885Z"
   },
   {
    "duration": 117,
    "start_time": "2022-02-01T19:46:33.849Z"
   },
   {
    "duration": 16,
    "start_time": "2022-02-01T19:46:48.167Z"
   },
   {
    "duration": 16,
    "start_time": "2022-02-01T19:46:57.168Z"
   },
   {
    "duration": 8,
    "start_time": "2022-02-01T19:46:57.480Z"
   },
   {
    "duration": 41,
    "start_time": "2022-02-01T19:46:58.742Z"
   },
   {
    "duration": 8,
    "start_time": "2022-02-01T19:47:00.034Z"
   },
   {
    "duration": 14,
    "start_time": "2022-02-01T19:47:07.360Z"
   },
   {
    "duration": 18,
    "start_time": "2022-02-01T19:47:11.885Z"
   },
   {
    "duration": 18,
    "start_time": "2022-02-01T19:47:22.898Z"
   },
   {
    "duration": 12,
    "start_time": "2022-02-01T19:47:23.424Z"
   },
   {
    "duration": 42,
    "start_time": "2022-02-01T19:47:24.000Z"
   },
   {
    "duration": 7,
    "start_time": "2022-02-01T19:47:25.402Z"
   },
   {
    "duration": 434,
    "start_time": "2022-02-01T19:47:26.431Z"
   },
   {
    "duration": 365,
    "start_time": "2022-02-01T19:47:27.994Z"
   },
   {
    "duration": 27,
    "start_time": "2022-02-01T19:47:28.825Z"
   },
   {
    "duration": 15,
    "start_time": "2022-02-01T19:47:31.091Z"
   },
   {
    "duration": 1646,
    "start_time": "2022-02-01T19:47:32.890Z"
   },
   {
    "duration": 7,
    "start_time": "2022-02-01T19:48:16.807Z"
   },
   {
    "duration": 492,
    "start_time": "2022-02-01T19:48:17.743Z"
   },
   {
    "duration": 19,
    "start_time": "2022-02-01T19:49:11.707Z"
   },
   {
    "duration": 11,
    "start_time": "2022-02-01T19:51:14.933Z"
   },
   {
    "duration": 12,
    "start_time": "2022-02-01T19:51:52.241Z"
   },
   {
    "duration": 10,
    "start_time": "2022-02-01T19:52:36.723Z"
   },
   {
    "duration": 13,
    "start_time": "2022-02-01T19:52:37.456Z"
   },
   {
    "duration": 7,
    "start_time": "2022-02-01T19:54:25.126Z"
   },
   {
    "duration": 8,
    "start_time": "2022-02-01T19:54:34.156Z"
   },
   {
    "duration": 6,
    "start_time": "2022-02-01T19:54:47.564Z"
   },
   {
    "duration": 6,
    "start_time": "2022-02-01T19:54:47.815Z"
   },
   {
    "duration": 4,
    "start_time": "2022-02-01T19:55:11.869Z"
   },
   {
    "duration": 775,
    "start_time": "2022-02-01T19:56:53.679Z"
   },
   {
    "duration": 4,
    "start_time": "2022-02-01T19:57:25.398Z"
   },
   {
    "duration": 7,
    "start_time": "2022-02-01T19:57:25.687Z"
   },
   {
    "duration": 7,
    "start_time": "2022-02-01T19:57:32.368Z"
   },
   {
    "duration": 6,
    "start_time": "2022-02-01T19:57:45.073Z"
   },
   {
    "duration": 18220,
    "start_time": "2022-02-01T19:57:54.191Z"
   },
   {
    "duration": 5,
    "start_time": "2022-02-01T19:58:22.839Z"
   },
   {
    "duration": 7052,
    "start_time": "2022-02-01T19:58:23.449Z"
   },
   {
    "duration": 20,
    "start_time": "2022-02-01T19:58:52.419Z"
   },
   {
    "duration": 6368,
    "start_time": "2022-02-01T19:59:11.027Z"
   },
   {
    "duration": 27,
    "start_time": "2022-02-01T19:59:17.398Z"
   },
   {
    "duration": 7,
    "start_time": "2022-02-01T20:00:18.075Z"
   },
   {
    "duration": 8235,
    "start_time": "2022-02-01T20:00:18.410Z"
   },
   {
    "duration": 27,
    "start_time": "2022-02-01T20:00:39.474Z"
   },
   {
    "duration": 345,
    "start_time": "2022-02-01T20:01:21.573Z"
   },
   {
    "duration": 350,
    "start_time": "2022-02-01T20:01:33.550Z"
   },
   {
    "duration": 374,
    "start_time": "2022-02-01T20:02:14.026Z"
   },
   {
    "duration": 334,
    "start_time": "2022-02-01T20:02:19.569Z"
   },
   {
    "duration": 405,
    "start_time": "2022-02-01T20:02:22.805Z"
   },
   {
    "duration": 8,
    "start_time": "2022-02-01T20:03:05.312Z"
   },
   {
    "duration": 26,
    "start_time": "2022-02-01T20:03:12.460Z"
   },
   {
    "duration": 31,
    "start_time": "2022-02-01T20:03:32.150Z"
   },
   {
    "duration": 18,
    "start_time": "2022-02-01T20:03:52.886Z"
   },
   {
    "duration": 14,
    "start_time": "2022-02-01T20:04:16.164Z"
   },
   {
    "duration": 29,
    "start_time": "2022-02-01T20:04:23.056Z"
   },
   {
    "duration": 29,
    "start_time": "2022-02-01T20:05:11.064Z"
   },
   {
    "duration": 34,
    "start_time": "2022-02-01T20:05:16.095Z"
   },
   {
    "duration": 367,
    "start_time": "2022-02-01T20:05:39.710Z"
   },
   {
    "duration": -194,
    "start_time": "2022-02-01T20:05:40.273Z"
   },
   {
    "duration": 351,
    "start_time": "2022-02-01T20:05:54.280Z"
   },
   {
    "duration": 22,
    "start_time": "2022-02-01T20:06:08.887Z"
   },
   {
    "duration": 6,
    "start_time": "2022-02-01T20:06:17.371Z"
   },
   {
    "duration": 6,
    "start_time": "2022-02-01T20:06:22.467Z"
   },
   {
    "duration": 12,
    "start_time": "2022-02-01T20:06:26.794Z"
   },
   {
    "duration": 15,
    "start_time": "2022-02-01T20:06:38.911Z"
   },
   {
    "duration": 368,
    "start_time": "2022-02-01T20:06:47.630Z"
   },
   {
    "duration": 461,
    "start_time": "2022-02-01T20:06:52.573Z"
   },
   {
    "duration": 381,
    "start_time": "2022-02-01T20:07:05.219Z"
   },
   {
    "duration": 387,
    "start_time": "2022-02-01T20:08:00.031Z"
   },
   {
    "duration": 23,
    "start_time": "2022-02-01T20:08:18.957Z"
   },
   {
    "duration": 5,
    "start_time": "2022-02-01T20:08:47.102Z"
   },
   {
    "duration": 18220,
    "start_time": "2022-02-01T20:08:48.175Z"
   },
   {
    "duration": -609,
    "start_time": "2022-02-01T20:09:07.008Z"
   },
   {
    "duration": 5,
    "start_time": "2022-02-01T20:09:18.376Z"
   },
   {
    "duration": 7369,
    "start_time": "2022-02-01T20:09:19.210Z"
   },
   {
    "duration": 26,
    "start_time": "2022-02-01T20:09:36.828Z"
   },
   {
    "duration": 346,
    "start_time": "2022-02-01T20:10:39.327Z"
   },
   {
    "duration": 16,
    "start_time": "2022-02-01T20:11:04.088Z"
   },
   {
    "duration": 11,
    "start_time": "2022-02-01T20:11:08.298Z"
   },
   {
    "duration": 358,
    "start_time": "2022-02-01T20:11:18.803Z"
   },
   {
    "duration": 38,
    "start_time": "2022-02-01T20:11:23.289Z"
   },
   {
    "duration": 14,
    "start_time": "2022-02-01T20:11:26.466Z"
   },
   {
    "duration": 436,
    "start_time": "2022-02-01T20:11:34.008Z"
   },
   {
    "duration": 794,
    "start_time": "2022-02-01T20:13:20.689Z"
   },
   {
    "duration": 106,
    "start_time": "2022-02-01T20:13:27.876Z"
   },
   {
    "duration": 651,
    "start_time": "2022-02-01T20:13:30.254Z"
   },
   {
    "duration": 436,
    "start_time": "2022-02-01T20:13:55.642Z"
   },
   {
    "duration": 435,
    "start_time": "2022-02-01T20:14:06.446Z"
   },
   {
    "duration": 698,
    "start_time": "2022-02-01T20:14:12.654Z"
   },
   {
    "duration": 1552,
    "start_time": "2022-02-01T20:14:30.053Z"
   },
   {
    "duration": 1498,
    "start_time": "2022-02-01T20:14:43.561Z"
   },
   {
    "duration": 1679,
    "start_time": "2022-02-01T20:14:58.411Z"
   },
   {
    "duration": 1528,
    "start_time": "2022-02-01T20:15:05.717Z"
   },
   {
    "duration": 1519,
    "start_time": "2022-02-01T20:15:13.508Z"
   },
   {
    "duration": 1512,
    "start_time": "2022-02-01T20:15:18.285Z"
   },
   {
    "duration": 1273,
    "start_time": "2022-02-01T20:15:27.572Z"
   },
   {
    "duration": 207,
    "start_time": "2022-02-01T20:16:56.911Z"
   },
   {
    "duration": 111,
    "start_time": "2022-02-01T20:17:04.408Z"
   },
   {
    "duration": 349,
    "start_time": "2022-02-01T20:17:17.322Z"
   },
   {
    "duration": 203,
    "start_time": "2022-02-01T20:17:57.839Z"
   },
   {
    "duration": 739,
    "start_time": "2022-02-01T20:18:03.392Z"
   },
   {
    "duration": 869,
    "start_time": "2022-02-01T20:18:15.652Z"
   },
   {
    "duration": 7154,
    "start_time": "2022-02-01T20:18:54.274Z"
   },
   {
    "duration": 17,
    "start_time": "2022-02-01T20:19:18.993Z"
   },
   {
    "duration": 29,
    "start_time": "2022-02-01T20:19:29.709Z"
   },
   {
    "duration": 1297,
    "start_time": "2022-02-01T20:19:30.562Z"
   },
   {
    "duration": 17,
    "start_time": "2022-02-01T20:19:58.938Z"
   },
   {
    "duration": 8,
    "start_time": "2022-02-01T20:20:05.740Z"
   },
   {
    "duration": 8039,
    "start_time": "2022-02-01T20:20:07.032Z"
   },
   {
    "duration": 27,
    "start_time": "2022-02-01T20:20:15.074Z"
   },
   {
    "duration": 1632,
    "start_time": "2022-02-01T20:20:15.105Z"
   },
   {
    "duration": 18,
    "start_time": "2022-02-01T20:20:16.740Z"
   },
   {
    "duration": 1253,
    "start_time": "2022-02-01T20:21:53.054Z"
   },
   {
    "duration": 1306,
    "start_time": "2022-02-01T20:22:14.328Z"
   },
   {
    "duration": 1276,
    "start_time": "2022-02-01T20:22:25.515Z"
   },
   {
    "duration": 1265,
    "start_time": "2022-02-01T20:22:55.448Z"
   },
   {
    "duration": 6,
    "start_time": "2022-02-01T20:24:20.177Z"
   },
   {
    "duration": 5,
    "start_time": "2022-02-01T20:25:46.985Z"
   },
   {
    "duration": 7,
    "start_time": "2022-02-01T20:25:49.510Z"
   },
   {
    "duration": 2241,
    "start_time": "2022-02-01T20:26:21.309Z"
   },
   {
    "duration": 8,
    "start_time": "2022-02-01T20:26:55.489Z"
   },
   {
    "duration": 7,
    "start_time": "2022-02-01T20:26:56.544Z"
   },
   {
    "duration": 4,
    "start_time": "2022-02-01T20:26:57.176Z"
   },
   {
    "duration": 7829,
    "start_time": "2022-02-01T20:26:57.831Z"
   },
   {
    "duration": -125,
    "start_time": "2022-02-01T20:28:17.005Z"
   },
   {
    "duration": -141,
    "start_time": "2022-02-01T20:28:17.023Z"
   },
   {
    "duration": -148,
    "start_time": "2022-02-01T20:28:17.031Z"
   },
   {
    "duration": -153,
    "start_time": "2022-02-01T20:28:17.038Z"
   },
   {
    "duration": 5,
    "start_time": "2022-02-01T20:28:44.660Z"
   },
   {
    "duration": 8,
    "start_time": "2022-02-01T20:28:45.123Z"
   },
   {
    "duration": 6,
    "start_time": "2022-02-01T20:28:45.789Z"
   },
   {
    "duration": 7559,
    "start_time": "2022-02-01T20:28:46.621Z"
   },
   {
    "duration": 6408,
    "start_time": "2022-02-01T20:28:58.482Z"
   },
   {
    "duration": 20,
    "start_time": "2022-02-01T20:29:19.784Z"
   },
   {
    "duration": 26,
    "start_time": "2022-02-01T20:29:55.045Z"
   },
   {
    "duration": 36,
    "start_time": "2022-02-01T20:29:58.305Z"
   },
   {
    "duration": 51,
    "start_time": "2022-02-01T20:30:04.356Z"
   },
   {
    "duration": 4338,
    "start_time": "2022-02-01T20:30:50.979Z"
   },
   {
    "duration": 422,
    "start_time": "2022-02-01T20:31:08.791Z"
   },
   {
    "duration": 347,
    "start_time": "2022-02-01T20:31:25.820Z"
   },
   {
    "duration": 332,
    "start_time": "2022-02-01T20:31:51.124Z"
   },
   {
    "duration": 21,
    "start_time": "2022-02-01T20:32:03.367Z"
   },
   {
    "duration": 5,
    "start_time": "2022-02-01T20:32:09.180Z"
   },
   {
    "duration": 388,
    "start_time": "2022-02-01T20:33:26.129Z"
   },
   {
    "duration": 872,
    "start_time": "2022-02-01T20:33:51.202Z"
   },
   {
    "duration": 348,
    "start_time": "2022-02-01T20:34:11.428Z"
   },
   {
    "duration": 373,
    "start_time": "2022-02-01T20:34:21.268Z"
   },
   {
    "duration": 11,
    "start_time": "2022-02-01T20:34:25.699Z"
   },
   {
    "duration": 20,
    "start_time": "2022-02-01T20:34:36.479Z"
   },
   {
    "duration": 19,
    "start_time": "2022-02-01T20:34:56.455Z"
   },
   {
    "duration": 108,
    "start_time": "2022-02-01T20:36:10.170Z"
   },
   {
    "duration": 372,
    "start_time": "2022-02-01T20:36:18.314Z"
   },
   {
    "duration": 7,
    "start_time": "2022-02-01T20:36:40.024Z"
   },
   {
    "duration": 1856,
    "start_time": "2022-02-01T20:36:58.098Z"
   },
   {
    "duration": 1534,
    "start_time": "2022-02-01T20:37:15.672Z"
   },
   {
    "duration": 1266,
    "start_time": "2022-02-01T20:37:30.425Z"
   },
   {
    "duration": 1256,
    "start_time": "2022-02-01T20:37:45.477Z"
   },
   {
    "duration": 21,
    "start_time": "2022-02-01T20:39:06.228Z"
   },
   {
    "duration": 351,
    "start_time": "2022-02-01T20:39:40.368Z"
   },
   {
    "duration": 1329,
    "start_time": "2022-02-01T20:39:49.629Z"
   },
   {
    "duration": 1440,
    "start_time": "2022-02-01T20:40:02.544Z"
   },
   {
    "duration": 83,
    "start_time": "2022-02-01T20:40:33.496Z"
   },
   {
    "duration": 35,
    "start_time": "2022-02-01T20:40:41.961Z"
   },
   {
    "duration": 33,
    "start_time": "2022-02-01T20:41:09.075Z"
   },
   {
    "duration": 29,
    "start_time": "2022-02-01T20:41:30.945Z"
   },
   {
    "duration": 36,
    "start_time": "2022-02-01T20:41:42.358Z"
   },
   {
    "duration": 321,
    "start_time": "2022-02-01T20:42:46.485Z"
   },
   {
    "duration": 395,
    "start_time": "2022-02-01T20:42:53.207Z"
   },
   {
    "duration": 92,
    "start_time": "2022-02-01T20:43:19.031Z"
   },
   {
    "duration": 91,
    "start_time": "2022-02-01T20:43:24.654Z"
   },
   {
    "duration": 6544,
    "start_time": "2022-02-01T20:44:19.085Z"
   },
   {
    "duration": 102,
    "start_time": "2022-02-01T20:44:25.632Z"
   },
   {
    "duration": 8782,
    "start_time": "2022-02-01T20:45:02.828Z"
   },
   {
    "duration": 8714,
    "start_time": "2022-02-01T20:45:21.371Z"
   },
   {
    "duration": 359,
    "start_time": "2022-02-01T20:45:31.262Z"
   },
   {
    "duration": 6,
    "start_time": "2022-02-01T20:45:39.327Z"
   },
   {
    "duration": 9818,
    "start_time": "2022-02-01T20:45:39.766Z"
   },
   {
    "duration": 589,
    "start_time": "2022-02-01T20:45:49.588Z"
   },
   {
    "duration": 39,
    "start_time": "2022-02-01T20:46:26.343Z"
   },
   {
    "duration": 9082,
    "start_time": "2022-02-01T20:46:28.242Z"
   },
   {
    "duration": 48,
    "start_time": "2022-02-01T20:46:37.328Z"
   },
   {
    "duration": 355,
    "start_time": "2022-02-01T20:46:41.275Z"
   },
   {
    "duration": 27,
    "start_time": "2022-02-01T20:46:46.142Z"
   },
   {
    "duration": 413,
    "start_time": "2022-02-01T20:47:31.023Z"
   },
   {
    "duration": 403,
    "start_time": "2022-02-01T20:47:53.868Z"
   },
   {
    "duration": 473,
    "start_time": "2022-02-01T20:48:23.286Z"
   },
   {
    "duration": 14,
    "start_time": "2022-02-01T20:48:38.118Z"
   },
   {
    "duration": 21,
    "start_time": "2022-02-01T20:48:45.441Z"
   },
   {
    "duration": 431,
    "start_time": "2022-02-01T20:49:44.783Z"
   },
   {
    "duration": 364,
    "start_time": "2022-02-01T20:49:51.445Z"
   },
   {
    "duration": 16,
    "start_time": "2022-02-01T20:50:12.546Z"
   },
   {
    "duration": 33,
    "start_time": "2022-02-01T20:50:14.569Z"
   },
   {
    "duration": 445,
    "start_time": "2022-02-01T20:50:51.900Z"
   },
   {
    "duration": 402,
    "start_time": "2022-02-01T20:50:59.019Z"
   },
   {
    "duration": 20,
    "start_time": "2022-02-01T20:51:17.700Z"
   },
   {
    "duration": 31,
    "start_time": "2022-02-01T20:51:17.724Z"
   },
   {
    "duration": 17,
    "start_time": "2022-02-01T20:51:29.673Z"
   },
   {
    "duration": 33,
    "start_time": "2022-02-01T20:51:30.592Z"
   },
   {
    "duration": 392,
    "start_time": "2022-02-01T20:51:38.690Z"
   },
   {
    "duration": 973,
    "start_time": "2022-02-01T20:51:44.818Z"
   },
   {
    "duration": 34,
    "start_time": "2022-02-01T20:51:46.165Z"
   },
   {
    "duration": 357,
    "start_time": "2022-02-01T20:51:54.905Z"
   },
   {
    "duration": 17,
    "start_time": "2022-02-01T20:52:15.865Z"
   },
   {
    "duration": 24,
    "start_time": "2022-02-01T20:52:18.783Z"
   },
   {
    "duration": 344,
    "start_time": "2022-02-01T20:52:46.297Z"
   },
   {
    "duration": 20,
    "start_time": "2022-02-01T20:53:09.348Z"
   },
   {
    "duration": 3,
    "start_time": "2022-02-01T20:53:10.858Z"
   },
   {
    "duration": 16,
    "start_time": "2022-02-01T20:53:19.980Z"
   },
   {
    "duration": 4,
    "start_time": "2022-02-01T20:53:20.268Z"
   },
   {
    "duration": 334,
    "start_time": "2022-02-01T20:53:31.367Z"
   },
   {
    "duration": 17,
    "start_time": "2022-02-01T20:53:40.724Z"
   },
   {
    "duration": 338,
    "start_time": "2022-02-01T20:53:41.315Z"
   },
   {
    "duration": 1329,
    "start_time": "2022-02-01T20:53:47.196Z"
   },
   {
    "duration": 1842,
    "start_time": "2022-02-01T20:53:58.477Z"
   },
   {
    "duration": 52,
    "start_time": "2022-02-01T20:54:00.324Z"
   },
   {
    "duration": 25,
    "start_time": "2022-02-01T20:54:00.379Z"
   },
   {
    "duration": 37,
    "start_time": "2022-02-01T20:54:00.408Z"
   },
   {
    "duration": 13,
    "start_time": "2022-02-01T20:54:00.447Z"
   },
   {
    "duration": 9,
    "start_time": "2022-02-01T20:54:00.462Z"
   },
   {
    "duration": 18,
    "start_time": "2022-02-01T20:54:00.474Z"
   },
   {
    "duration": 38,
    "start_time": "2022-02-01T20:54:00.496Z"
   },
   {
    "duration": 23,
    "start_time": "2022-02-01T20:54:00.538Z"
   },
   {
    "duration": 16,
    "start_time": "2022-02-01T20:54:00.564Z"
   },
   {
    "duration": 43,
    "start_time": "2022-02-01T20:54:00.583Z"
   },
   {
    "duration": 21,
    "start_time": "2022-02-01T20:54:00.629Z"
   },
   {
    "duration": 9,
    "start_time": "2022-02-01T20:54:00.653Z"
   },
   {
    "duration": 10,
    "start_time": "2022-02-01T20:54:00.665Z"
   },
   {
    "duration": 9,
    "start_time": "2022-02-01T20:54:00.678Z"
   },
   {
    "duration": 50,
    "start_time": "2022-02-01T20:54:00.690Z"
   },
   {
    "duration": 13,
    "start_time": "2022-02-01T20:54:00.743Z"
   },
   {
    "duration": 10,
    "start_time": "2022-02-01T20:54:00.759Z"
   },
   {
    "duration": 8079,
    "start_time": "2022-02-01T20:54:00.772Z"
   },
   {
    "duration": 44,
    "start_time": "2022-02-01T20:54:08.854Z"
   },
   {
    "duration": 1201,
    "start_time": "2022-02-01T20:54:08.901Z"
   },
   {
    "duration": 1308,
    "start_time": "2022-02-01T20:54:10.104Z"
   },
   {
    "duration": 9,
    "start_time": "2022-02-01T20:54:11.428Z"
   },
   {
    "duration": 6,
    "start_time": "2022-02-01T20:54:11.440Z"
   },
   {
    "duration": 5,
    "start_time": "2022-02-01T20:54:11.449Z"
   },
   {
    "duration": 6316,
    "start_time": "2022-02-01T20:54:11.457Z"
   },
   {
    "duration": 50,
    "start_time": "2022-02-01T20:54:17.776Z"
   },
   {
    "duration": 15,
    "start_time": "2022-02-01T20:54:17.829Z"
   },
   {
    "duration": 1655,
    "start_time": "2022-02-01T20:54:17.846Z"
   },
   {
    "duration": -170,
    "start_time": "2022-02-01T20:54:19.674Z"
   },
   {
    "duration": -177,
    "start_time": "2022-02-01T20:54:19.682Z"
   },
   {
    "duration": -183,
    "start_time": "2022-02-01T20:54:19.689Z"
   },
   {
    "duration": -186,
    "start_time": "2022-02-01T20:54:19.693Z"
   },
   {
    "duration": -189,
    "start_time": "2022-02-01T20:54:19.698Z"
   },
   {
    "duration": -188,
    "start_time": "2022-02-01T20:54:19.710Z"
   },
   {
    "duration": -192,
    "start_time": "2022-02-01T20:54:19.716Z"
   },
   {
    "duration": -212,
    "start_time": "2022-02-01T20:54:19.737Z"
   },
   {
    "duration": -225,
    "start_time": "2022-02-01T20:54:19.752Z"
   },
   {
    "duration": -228,
    "start_time": "2022-02-01T20:54:19.757Z"
   },
   {
    "duration": -232,
    "start_time": "2022-02-01T20:54:19.762Z"
   },
   {
    "duration": -236,
    "start_time": "2022-02-01T20:54:19.767Z"
   },
   {
    "duration": -239,
    "start_time": "2022-02-01T20:54:19.772Z"
   },
   {
    "duration": -242,
    "start_time": "2022-02-01T20:54:19.777Z"
   },
   {
    "duration": -245,
    "start_time": "2022-02-01T20:54:19.781Z"
   },
   {
    "duration": -248,
    "start_time": "2022-02-01T20:54:19.787Z"
   },
   {
    "duration": -252,
    "start_time": "2022-02-01T20:54:19.792Z"
   },
   {
    "duration": -256,
    "start_time": "2022-02-01T20:54:19.797Z"
   },
   {
    "duration": -259,
    "start_time": "2022-02-01T20:54:19.802Z"
   },
   {
    "duration": -263,
    "start_time": "2022-02-01T20:54:19.807Z"
   },
   {
    "duration": -266,
    "start_time": "2022-02-01T20:54:19.812Z"
   },
   {
    "duration": -269,
    "start_time": "2022-02-01T20:54:19.817Z"
   },
   {
    "duration": -273,
    "start_time": "2022-02-01T20:54:19.822Z"
   },
   {
    "duration": 4,
    "start_time": "2022-02-01T20:55:16.584Z"
   },
   {
    "duration": 3,
    "start_time": "2022-02-01T20:55:19.563Z"
   },
   {
    "duration": 12,
    "start_time": "2022-02-01T20:55:25.737Z"
   },
   {
    "duration": 18,
    "start_time": "2022-02-01T20:55:30.049Z"
   },
   {
    "duration": 24,
    "start_time": "2022-02-01T20:55:30.610Z"
   },
   {
    "duration": 14,
    "start_time": "2022-02-01T20:56:08.748Z"
   },
   {
    "duration": 20,
    "start_time": "2022-02-01T20:56:09.028Z"
   },
   {
    "duration": 52,
    "start_time": "2022-02-01T20:56:52.160Z"
   },
   {
    "duration": 30,
    "start_time": "2022-02-01T20:57:46.014Z"
   },
   {
    "duration": 1089,
    "start_time": "2022-02-01T20:57:46.871Z"
   },
   {
    "duration": 1152,
    "start_time": "2022-02-01T20:57:47.963Z"
   },
   {
    "duration": 31,
    "start_time": "2022-02-01T20:57:59.380Z"
   },
   {
    "duration": 1238,
    "start_time": "2022-02-01T20:58:00.708Z"
   },
   {
    "duration": 1175,
    "start_time": "2022-02-01T20:58:33.230Z"
   },
   {
    "duration": 1228,
    "start_time": "2022-02-01T20:59:02.047Z"
   },
   {
    "duration": 7,
    "start_time": "2022-02-01T20:59:19.249Z"
   },
   {
    "duration": 9,
    "start_time": "2022-02-01T20:59:19.855Z"
   },
   {
    "duration": 6,
    "start_time": "2022-02-01T20:59:20.328Z"
   },
   {
    "duration": 6855,
    "start_time": "2022-02-01T20:59:21.032Z"
   },
   {
    "duration": 80,
    "start_time": "2022-02-01T20:59:27.891Z"
   },
   {
    "duration": 331,
    "start_time": "2022-02-01T20:59:53.412Z"
   },
   {
    "duration": 22,
    "start_time": "2022-02-01T21:00:01.487Z"
   },
   {
    "duration": 24,
    "start_time": "2022-02-01T21:00:09.191Z"
   },
   {
    "duration": 8131,
    "start_time": "2022-02-01T21:00:50.163Z"
   },
   {
    "duration": 55,
    "start_time": "2022-02-01T21:01:11.952Z"
   },
   {
    "duration": 375,
    "start_time": "2022-02-01T21:01:48.168Z"
   },
   {
    "duration": 335,
    "start_time": "2022-02-01T21:01:52.345Z"
   },
   {
    "duration": 54,
    "start_time": "2022-02-01T21:01:56.818Z"
   },
   {
    "duration": 59,
    "start_time": "2022-02-01T21:02:08.939Z"
   },
   {
    "duration": 50,
    "start_time": "2022-02-01T21:02:34.256Z"
   },
   {
    "duration": 48,
    "start_time": "2022-02-01T21:10:16.485Z"
   },
   {
    "duration": 1230,
    "start_time": "2022-02-01T21:10:34.878Z"
   },
   {
    "duration": 1234,
    "start_time": "2022-02-01T21:10:51.759Z"
   },
   {
    "duration": 1363,
    "start_time": "2022-02-01T21:10:56.641Z"
   },
   {
    "duration": 12,
    "start_time": "2022-02-01T21:11:44.035Z"
   },
   {
    "duration": 29,
    "start_time": "2022-02-01T21:11:54.380Z"
   },
   {
    "duration": 1103,
    "start_time": "2022-02-01T21:11:55.075Z"
   },
   {
    "duration": 19,
    "start_time": "2022-02-01T21:11:56.182Z"
   },
   {
    "duration": -337,
    "start_time": "2022-02-01T21:12:42.335Z"
   },
   {
    "duration": 1226,
    "start_time": "2022-02-01T21:13:17.301Z"
   },
   {
    "duration": 7,
    "start_time": "2022-02-01T21:13:32.272Z"
   },
   {
    "duration": 6,
    "start_time": "2022-02-01T21:13:37.924Z"
   },
   {
    "duration": 1764,
    "start_time": "2022-02-01T21:14:11.588Z"
   },
   {
    "duration": 1545,
    "start_time": "2022-02-01T21:14:18.107Z"
   },
   {
    "duration": 1672,
    "start_time": "2022-02-01T21:14:29.214Z"
   },
   {
    "duration": 1680,
    "start_time": "2022-02-01T21:14:40.008Z"
   },
   {
    "duration": 1723,
    "start_time": "2022-02-01T21:14:48.292Z"
   },
   {
    "duration": 1353,
    "start_time": "2022-02-01T21:14:59.013Z"
   },
   {
    "duration": -283,
    "start_time": "2022-02-01T21:15:14.980Z"
   },
   {
    "duration": 8469,
    "start_time": "2022-02-01T21:15:17.315Z"
   },
   {
    "duration": -326,
    "start_time": "2022-02-01T21:15:26.114Z"
   },
   {
    "duration": 13,
    "start_time": "2022-02-01T21:15:27.754Z"
   },
   {
    "duration": 1314,
    "start_time": "2022-02-01T21:15:36.799Z"
   },
   {
    "duration": 8503,
    "start_time": "2022-02-01T21:15:47.742Z"
   },
   {
    "duration": 8550,
    "start_time": "2022-02-01T21:15:58.541Z"
   },
   {
    "duration": 8797,
    "start_time": "2022-02-01T21:16:13.370Z"
   },
   {
    "duration": 18,
    "start_time": "2022-02-01T21:16:27.235Z"
   },
   {
    "duration": 360,
    "start_time": "2022-02-01T21:16:37.072Z"
   },
   {
    "duration": 20,
    "start_time": "2022-02-01T21:16:39.180Z"
   },
   {
    "duration": 1706,
    "start_time": "2022-02-01T21:16:57.618Z"
   },
   {
    "duration": 55,
    "start_time": "2022-02-01T21:16:59.327Z"
   },
   {
    "duration": 24,
    "start_time": "2022-02-01T21:16:59.386Z"
   },
   {
    "duration": 33,
    "start_time": "2022-02-01T21:16:59.414Z"
   },
   {
    "duration": 5,
    "start_time": "2022-02-01T21:16:59.449Z"
   },
   {
    "duration": 5,
    "start_time": "2022-02-01T21:16:59.457Z"
   },
   {
    "duration": 11,
    "start_time": "2022-02-01T21:16:59.464Z"
   },
   {
    "duration": 48,
    "start_time": "2022-02-01T21:16:59.479Z"
   },
   {
    "duration": 17,
    "start_time": "2022-02-01T21:16:59.530Z"
   },
   {
    "duration": 11,
    "start_time": "2022-02-01T21:16:59.550Z"
   },
   {
    "duration": 61,
    "start_time": "2022-02-01T21:16:59.563Z"
   },
   {
    "duration": 15,
    "start_time": "2022-02-01T21:16:59.626Z"
   },
   {
    "duration": 7,
    "start_time": "2022-02-01T21:16:59.643Z"
   },
   {
    "duration": 12,
    "start_time": "2022-02-01T21:16:59.652Z"
   },
   {
    "duration": 5,
    "start_time": "2022-02-01T21:16:59.667Z"
   },
   {
    "duration": 51,
    "start_time": "2022-02-01T21:16:59.674Z"
   },
   {
    "duration": 7,
    "start_time": "2022-02-01T21:16:59.728Z"
   },
   {
    "duration": 5,
    "start_time": "2022-02-01T21:16:59.737Z"
   },
   {
    "duration": 7336,
    "start_time": "2022-02-01T21:16:59.745Z"
   },
   {
    "duration": 61,
    "start_time": "2022-02-01T21:17:07.084Z"
   },
   {
    "duration": 1104,
    "start_time": "2022-02-01T21:17:07.148Z"
   },
   {
    "duration": 511,
    "start_time": "2022-02-01T21:17:08.255Z"
   },
   {
    "duration": -216,
    "start_time": "2022-02-01T21:17:08.986Z"
   },
   {
    "duration": -226,
    "start_time": "2022-02-01T21:17:08.997Z"
   },
   {
    "duration": -247,
    "start_time": "2022-02-01T21:17:09.019Z"
   },
   {
    "duration": -266,
    "start_time": "2022-02-01T21:17:09.040Z"
   },
   {
    "duration": -271,
    "start_time": "2022-02-01T21:17:09.046Z"
   },
   {
    "duration": -283,
    "start_time": "2022-02-01T21:17:09.060Z"
   },
   {
    "duration": -288,
    "start_time": "2022-02-01T21:17:09.067Z"
   },
   {
    "duration": -311,
    "start_time": "2022-02-01T21:17:09.091Z"
   },
   {
    "duration": -317,
    "start_time": "2022-02-01T21:17:09.099Z"
   },
   {
    "duration": -334,
    "start_time": "2022-02-01T21:17:09.117Z"
   },
   {
    "duration": -363,
    "start_time": "2022-02-01T21:17:09.147Z"
   },
   {
    "duration": -376,
    "start_time": "2022-02-01T21:17:09.162Z"
   },
   {
    "duration": -391,
    "start_time": "2022-02-01T21:17:09.178Z"
   },
   {
    "duration": -406,
    "start_time": "2022-02-01T21:17:09.195Z"
   },
   {
    "duration": -417,
    "start_time": "2022-02-01T21:17:09.207Z"
   },
   {
    "duration": -422,
    "start_time": "2022-02-01T21:17:09.213Z"
   },
   {
    "duration": -434,
    "start_time": "2022-02-01T21:17:09.227Z"
   },
   {
    "duration": -439,
    "start_time": "2022-02-01T21:17:09.233Z"
   },
   {
    "duration": -453,
    "start_time": "2022-02-01T21:17:09.248Z"
   },
   {
    "duration": -465,
    "start_time": "2022-02-01T21:17:09.262Z"
   },
   {
    "duration": -478,
    "start_time": "2022-02-01T21:17:09.276Z"
   },
   {
    "duration": -484,
    "start_time": "2022-02-01T21:17:09.283Z"
   },
   {
    "duration": -496,
    "start_time": "2022-02-01T21:17:09.296Z"
   },
   {
    "duration": -509,
    "start_time": "2022-02-01T21:17:09.311Z"
   },
   {
    "duration": -514,
    "start_time": "2022-02-01T21:17:09.317Z"
   },
   {
    "duration": -527,
    "start_time": "2022-02-01T21:17:09.331Z"
   },
   {
    "duration": -539,
    "start_time": "2022-02-01T21:17:09.344Z"
   },
   {
    "duration": -545,
    "start_time": "2022-02-01T21:17:09.352Z"
   },
   {
    "duration": -540,
    "start_time": "2022-02-01T21:17:09.365Z"
   },
   {
    "duration": -553,
    "start_time": "2022-02-01T21:17:09.379Z"
   },
   {
    "duration": -566,
    "start_time": "2022-02-01T21:17:09.394Z"
   },
   {
    "duration": -572,
    "start_time": "2022-02-01T21:17:09.401Z"
   },
   {
    "duration": -584,
    "start_time": "2022-02-01T21:17:09.415Z"
   },
   {
    "duration": -596,
    "start_time": "2022-02-01T21:17:09.430Z"
   },
   {
    "duration": 1493,
    "start_time": "2022-02-01T21:17:23.057Z"
   },
   {
    "duration": -480,
    "start_time": "2022-02-01T21:17:36.692Z"
   },
   {
    "duration": -496,
    "start_time": "2022-02-01T21:17:36.710Z"
   },
   {
    "duration": -502,
    "start_time": "2022-02-01T21:17:36.717Z"
   },
   {
    "duration": -517,
    "start_time": "2022-02-01T21:17:36.734Z"
   },
   {
    "duration": -578,
    "start_time": "2022-02-01T21:17:36.797Z"
   },
   {
    "duration": -585,
    "start_time": "2022-02-01T21:17:36.805Z"
   },
   {
    "duration": 1596,
    "start_time": "2022-02-01T21:17:43.908Z"
   },
   {
    "duration": 50,
    "start_time": "2022-02-01T21:17:45.507Z"
   },
   {
    "duration": 25,
    "start_time": "2022-02-01T21:17:45.560Z"
   },
   {
    "duration": 35,
    "start_time": "2022-02-01T21:17:45.588Z"
   },
   {
    "duration": 6,
    "start_time": "2022-02-01T21:17:45.626Z"
   },
   {
    "duration": 4,
    "start_time": "2022-02-01T21:17:45.634Z"
   },
   {
    "duration": 12,
    "start_time": "2022-02-01T21:17:45.640Z"
   },
   {
    "duration": 18,
    "start_time": "2022-02-01T21:17:45.656Z"
   },
   {
    "duration": 11,
    "start_time": "2022-02-01T21:17:45.677Z"
   },
   {
    "duration": 11,
    "start_time": "2022-02-01T21:17:45.725Z"
   },
   {
    "duration": 18,
    "start_time": "2022-02-01T21:17:45.739Z"
   },
   {
    "duration": 17,
    "start_time": "2022-02-01T21:17:45.760Z"
   },
   {
    "duration": 43,
    "start_time": "2022-02-01T21:17:45.780Z"
   },
   {
    "duration": 8,
    "start_time": "2022-02-01T21:17:45.826Z"
   },
   {
    "duration": 5,
    "start_time": "2022-02-01T21:17:45.836Z"
   },
   {
    "duration": 7,
    "start_time": "2022-02-01T21:17:45.844Z"
   },
   {
    "duration": 6,
    "start_time": "2022-02-01T21:17:45.854Z"
   },
   {
    "duration": 7,
    "start_time": "2022-02-01T21:17:45.863Z"
   },
   {
    "duration": 7162,
    "start_time": "2022-02-01T21:17:45.872Z"
   },
   {
    "duration": 34,
    "start_time": "2022-02-01T21:17:53.036Z"
   },
   {
    "duration": 1278,
    "start_time": "2022-02-01T21:17:53.073Z"
   },
   {
    "duration": 1312,
    "start_time": "2022-02-01T21:17:54.353Z"
   },
   {
    "duration": 8458,
    "start_time": "2022-02-01T21:17:55.671Z"
   },
   {
    "duration": -261,
    "start_time": "2022-02-01T21:18:04.394Z"
   },
   {
    "duration": -267,
    "start_time": "2022-02-01T21:18:04.402Z"
   },
   {
    "duration": -271,
    "start_time": "2022-02-01T21:18:04.408Z"
   },
   {
    "duration": -277,
    "start_time": "2022-02-01T21:18:04.416Z"
   },
   {
    "duration": -280,
    "start_time": "2022-02-01T21:18:04.421Z"
   },
   {
    "duration": -284,
    "start_time": "2022-02-01T21:18:04.426Z"
   },
   {
    "duration": -287,
    "start_time": "2022-02-01T21:18:04.431Z"
   },
   {
    "duration": -290,
    "start_time": "2022-02-01T21:18:04.436Z"
   },
   {
    "duration": -293,
    "start_time": "2022-02-01T21:18:04.441Z"
   },
   {
    "duration": -298,
    "start_time": "2022-02-01T21:18:04.447Z"
   },
   {
    "duration": -300,
    "start_time": "2022-02-01T21:18:04.451Z"
   },
   {
    "duration": -312,
    "start_time": "2022-02-01T21:18:04.466Z"
   },
   {
    "duration": -314,
    "start_time": "2022-02-01T21:18:04.471Z"
   },
   {
    "duration": -318,
    "start_time": "2022-02-01T21:18:04.477Z"
   },
   {
    "duration": -321,
    "start_time": "2022-02-01T21:18:04.482Z"
   },
   {
    "duration": -323,
    "start_time": "2022-02-01T21:18:04.487Z"
   },
   {
    "duration": -326,
    "start_time": "2022-02-01T21:18:04.492Z"
   },
   {
    "duration": -328,
    "start_time": "2022-02-01T21:18:04.497Z"
   },
   {
    "duration": -279,
    "start_time": "2022-02-01T21:18:04.502Z"
   },
   {
    "duration": -282,
    "start_time": "2022-02-01T21:18:04.507Z"
   },
   {
    "duration": -284,
    "start_time": "2022-02-01T21:18:04.512Z"
   },
   {
    "duration": -286,
    "start_time": "2022-02-01T21:18:04.517Z"
   },
   {
    "duration": -290,
    "start_time": "2022-02-01T21:18:04.523Z"
   },
   {
    "duration": -293,
    "start_time": "2022-02-01T21:18:04.528Z"
   },
   {
    "duration": -294,
    "start_time": "2022-02-01T21:18:04.532Z"
   },
   {
    "duration": -298,
    "start_time": "2022-02-01T21:18:04.538Z"
   },
   {
    "duration": -301,
    "start_time": "2022-02-01T21:18:04.543Z"
   },
   {
    "duration": -305,
    "start_time": "2022-02-01T21:18:04.549Z"
   },
   {
    "duration": -306,
    "start_time": "2022-02-01T21:18:04.553Z"
   },
   {
    "duration": -310,
    "start_time": "2022-02-01T21:18:04.559Z"
   },
   {
    "duration": -313,
    "start_time": "2022-02-01T21:18:04.564Z"
   },
   {
    "duration": -337,
    "start_time": "2022-02-01T21:18:04.590Z"
   },
   {
    "duration": 69,
    "start_time": "2022-02-01T21:19:21.055Z"
   },
   {
    "duration": 56,
    "start_time": "2022-02-01T21:19:37.397Z"
   },
   {
    "duration": 9,
    "start_time": "2022-02-01T21:19:41.319Z"
   },
   {
    "duration": 9,
    "start_time": "2022-02-01T21:19:42.186Z"
   },
   {
    "duration": 5,
    "start_time": "2022-02-01T21:19:42.843Z"
   },
   {
    "duration": 6090,
    "start_time": "2022-02-01T21:19:43.393Z"
   },
   {
    "duration": 58,
    "start_time": "2022-02-01T21:19:49.485Z"
   },
   {
    "duration": 530,
    "start_time": "2022-02-01T21:20:11.910Z"
   },
   {
    "duration": 6,
    "start_time": "2022-02-01T21:20:17.037Z"
   },
   {
    "duration": 9,
    "start_time": "2022-02-01T21:21:13.674Z"
   },
   {
    "duration": 25,
    "start_time": "2022-02-01T21:21:19.599Z"
   },
   {
    "duration": 10,
    "start_time": "2022-02-01T21:22:01.492Z"
   },
   {
    "duration": 31,
    "start_time": "2022-02-01T21:22:05.951Z"
   },
   {
    "duration": 484,
    "start_time": "2022-02-01T21:22:25.605Z"
   },
   {
    "duration": 476,
    "start_time": "2022-02-01T21:22:39.878Z"
   },
   {
    "duration": 105,
    "start_time": "2022-02-01T21:23:42.395Z"
   },
   {
    "duration": 12,
    "start_time": "2022-02-01T21:23:48.275Z"
   },
   {
    "duration": 58,
    "start_time": "2022-02-01T21:23:52.102Z"
   },
   {
    "duration": 652,
    "start_time": "2022-02-01T21:23:58.543Z"
   },
   {
    "duration": 16,
    "start_time": "2022-02-01T21:24:15.531Z"
   },
   {
    "duration": 51,
    "start_time": "2022-02-01T21:24:20.567Z"
   },
   {
    "duration": 375,
    "start_time": "2022-02-01T21:24:36.147Z"
   },
   {
    "duration": 563,
    "start_time": "2022-02-01T21:24:41.013Z"
   },
   {
    "duration": 396,
    "start_time": "2022-02-01T21:24:53.541Z"
   },
   {
    "duration": 447,
    "start_time": "2022-02-01T21:25:02.795Z"
   },
   {
    "duration": 388,
    "start_time": "2022-02-01T21:25:08.357Z"
   },
   {
    "duration": 795,
    "start_time": "2022-02-01T21:25:14.803Z"
   },
   {
    "duration": 771,
    "start_time": "2022-02-01T21:25:30.807Z"
   },
   {
    "duration": 424,
    "start_time": "2022-02-01T21:25:37.048Z"
   },
   {
    "duration": 873,
    "start_time": "2022-02-01T21:25:46.696Z"
   },
   {
    "duration": 395,
    "start_time": "2022-02-01T21:25:51.246Z"
   },
   {
    "duration": 483,
    "start_time": "2022-02-01T21:26:23.481Z"
   },
   {
    "duration": 428,
    "start_time": "2022-02-01T21:26:41.374Z"
   },
   {
    "duration": 1584,
    "start_time": "2022-02-01T21:26:50.427Z"
   },
   {
    "duration": 894,
    "start_time": "2022-02-01T21:27:00.299Z"
   },
   {
    "duration": 118,
    "start_time": "2022-02-01T21:27:07.044Z"
   },
   {
    "duration": 1140,
    "start_time": "2022-02-01T21:27:12.438Z"
   },
   {
    "duration": 106,
    "start_time": "2022-02-01T21:27:37.200Z"
   },
   {
    "duration": 1253,
    "start_time": "2022-02-01T21:27:41.614Z"
   },
   {
    "duration": 27,
    "start_time": "2022-02-01T21:28:33.631Z"
   },
   {
    "duration": 20,
    "start_time": "2022-02-01T21:28:42.917Z"
   },
   {
    "duration": 19,
    "start_time": "2022-02-01T21:28:49.669Z"
   },
   {
    "duration": -312,
    "start_time": "2022-02-01T21:29:18.191Z"
   },
   {
    "duration": 49,
    "start_time": "2022-02-01T21:29:23.370Z"
   },
   {
    "duration": 343,
    "start_time": "2022-02-01T21:30:47.506Z"
   },
   {
    "duration": 359,
    "start_time": "2022-02-01T21:30:55.956Z"
   },
   {
    "duration": 25,
    "start_time": "2022-02-01T21:31:06.496Z"
   },
   {
    "duration": 18,
    "start_time": "2022-02-01T21:31:16.923Z"
   },
   {
    "duration": 7,
    "start_time": "2022-02-01T21:31:21.942Z"
   },
   {
    "duration": 793,
    "start_time": "2022-02-01T21:31:54.112Z"
   },
   {
    "duration": 21,
    "start_time": "2022-02-01T21:32:04.296Z"
   },
   {
    "duration": 40,
    "start_time": "2022-02-01T21:32:14.512Z"
   },
   {
    "duration": 20,
    "start_time": "2022-02-01T21:32:28.906Z"
   },
   {
    "duration": 24,
    "start_time": "2022-02-01T21:33:55.017Z"
   },
   {
    "duration": 52,
    "start_time": "2022-02-01T21:33:58.737Z"
   },
   {
    "duration": 82,
    "start_time": "2022-02-01T21:34:40.692Z"
   },
   {
    "duration": 51,
    "start_time": "2022-02-01T21:34:57.614Z"
   },
   {
    "duration": 53,
    "start_time": "2022-02-01T21:35:09.157Z"
   },
   {
    "duration": 1173,
    "start_time": "2022-02-01T21:36:23.205Z"
   },
   {
    "duration": 44,
    "start_time": "2022-02-01T21:36:55.207Z"
   },
   {
    "duration": 46,
    "start_time": "2022-02-01T21:37:02.427Z"
   },
   {
    "duration": 43,
    "start_time": "2022-02-01T21:37:26.467Z"
   },
   {
    "duration": 49,
    "start_time": "2022-02-01T21:37:40.894Z"
   },
   {
    "duration": 52,
    "start_time": "2022-02-01T21:38:20.990Z"
   },
   {
    "duration": 1306,
    "start_time": "2022-02-01T21:38:30.568Z"
   },
   {
    "duration": 5,
    "start_time": "2022-02-01T21:39:27.292Z"
   },
   {
    "duration": 6229,
    "start_time": "2022-02-01T21:39:28.069Z"
   },
   {
    "duration": 56,
    "start_time": "2022-02-01T21:39:34.301Z"
   },
   {
    "duration": 5,
    "start_time": "2022-02-01T21:40:36.508Z"
   },
   {
    "duration": 7,
    "start_time": "2022-02-01T21:40:36.820Z"
   },
   {
    "duration": 5,
    "start_time": "2022-02-01T21:40:37.380Z"
   },
   {
    "duration": 6532,
    "start_time": "2022-02-01T21:40:37.882Z"
   },
   {
    "duration": 49,
    "start_time": "2022-02-01T21:40:44.417Z"
   },
   {
    "duration": 5,
    "start_time": "2022-02-01T21:41:07.616Z"
   },
   {
    "duration": 360,
    "start_time": "2022-02-01T21:41:08.047Z"
   },
   {
    "duration": 50,
    "start_time": "2022-02-01T21:41:08.794Z"
   },
   {
    "duration": 329,
    "start_time": "2022-02-01T21:41:19.755Z"
   },
   {
    "duration": 369,
    "start_time": "2022-02-01T21:41:45.640Z"
   },
   {
    "duration": 8,
    "start_time": "2022-02-01T21:41:56.653Z"
   },
   {
    "duration": 13,
    "start_time": "2022-02-01T21:42:08.678Z"
   },
   {
    "duration": 5,
    "start_time": "2022-02-01T21:42:17.883Z"
   },
   {
    "duration": 351,
    "start_time": "2022-02-01T21:42:18.159Z"
   },
   {
    "duration": 58,
    "start_time": "2022-02-01T21:42:30.554Z"
   },
   {
    "duration": 75,
    "start_time": "2022-02-01T21:44:12.907Z"
   },
   {
    "duration": 71,
    "start_time": "2022-02-01T21:44:18.447Z"
   },
   {
    "duration": 13,
    "start_time": "2022-02-01T21:44:32.121Z"
   },
   {
    "duration": 1163,
    "start_time": "2022-02-01T21:44:32.441Z"
   },
   {
    "duration": 50,
    "start_time": "2022-02-01T21:44:37.972Z"
   },
   {
    "duration": 1473,
    "start_time": "2022-02-01T21:44:40.693Z"
   },
   {
    "duration": 33,
    "start_time": "2022-02-01T21:45:11.770Z"
   },
   {
    "duration": 1349,
    "start_time": "2022-02-01T21:45:27.531Z"
   },
   {
    "duration": 1118,
    "start_time": "2022-02-01T21:45:36.016Z"
   },
   {
    "duration": 29,
    "start_time": "2022-02-01T21:45:42.285Z"
   },
   {
    "duration": 1107,
    "start_time": "2022-02-01T21:45:42.568Z"
   },
   {
    "duration": 114,
    "start_time": "2022-02-01T21:46:30.537Z"
   },
   {
    "duration": 309,
    "start_time": "2022-02-01T21:47:13.540Z"
   },
   {
    "duration": 298,
    "start_time": "2022-02-01T21:47:26.428Z"
   },
   {
    "duration": 201,
    "start_time": "2022-02-01T21:47:50.933Z"
   },
   {
    "duration": 378,
    "start_time": "2022-02-01T21:47:51.745Z"
   },
   {
    "duration": 6,
    "start_time": "2022-02-01T21:47:52.342Z"
   },
   {
    "duration": 404,
    "start_time": "2022-02-01T21:47:53.409Z"
   },
   {
    "duration": 7,
    "start_time": "2022-02-01T21:47:54.575Z"
   },
   {
    "duration": 20,
    "start_time": "2022-02-01T21:47:56.494Z"
   },
   {
    "duration": 3821,
    "start_time": "2022-02-01T21:47:57.224Z"
   },
   {
    "duration": 1515,
    "start_time": "2022-02-01T21:48:01.048Z"
   },
   {
    "duration": 253,
    "start_time": "2022-02-01T21:48:02.567Z"
   },
   {
    "duration": 423,
    "start_time": "2022-02-01T21:48:09.278Z"
   },
   {
    "duration": 283,
    "start_time": "2022-02-02T18:49:43.707Z"
   },
   {
    "duration": 1171,
    "start_time": "2022-02-02T18:49:48.901Z"
   },
   {
    "duration": 57,
    "start_time": "2022-02-02T18:49:50.073Z"
   },
   {
    "duration": 14,
    "start_time": "2022-02-02T18:49:50.133Z"
   },
   {
    "duration": 19,
    "start_time": "2022-02-02T18:49:50.149Z"
   },
   {
    "duration": 4,
    "start_time": "2022-02-02T18:49:50.170Z"
   },
   {
    "duration": 4,
    "start_time": "2022-02-02T18:49:50.176Z"
   },
   {
    "duration": 4,
    "start_time": "2022-02-02T18:49:50.183Z"
   },
   {
    "duration": 11,
    "start_time": "2022-02-02T18:49:50.189Z"
   },
   {
    "duration": 8,
    "start_time": "2022-02-02T18:49:50.202Z"
   },
   {
    "duration": 6,
    "start_time": "2022-02-02T18:49:50.212Z"
   },
   {
    "duration": 18,
    "start_time": "2022-02-02T18:49:50.220Z"
   },
   {
    "duration": 34,
    "start_time": "2022-02-02T18:49:50.240Z"
   },
   {
    "duration": 6,
    "start_time": "2022-02-02T18:49:50.275Z"
   },
   {
    "duration": 6,
    "start_time": "2022-02-02T18:49:50.282Z"
   },
   {
    "duration": 11,
    "start_time": "2022-02-02T18:49:50.290Z"
   },
   {
    "duration": 10,
    "start_time": "2022-02-02T18:49:50.302Z"
   },
   {
    "duration": 8,
    "start_time": "2022-02-02T18:49:50.313Z"
   },
   {
    "duration": 7,
    "start_time": "2022-02-02T18:49:50.323Z"
   },
   {
    "duration": 3765,
    "start_time": "2022-02-02T18:49:50.332Z"
   },
   {
    "duration": 31,
    "start_time": "2022-02-02T18:49:54.099Z"
   },
   {
    "duration": 24,
    "start_time": "2022-02-02T18:49:54.132Z"
   },
   {
    "duration": 686,
    "start_time": "2022-02-02T18:49:54.173Z"
   },
   {
    "duration": 43,
    "start_time": "2022-02-02T18:49:54.861Z"
   },
   {
    "duration": 6,
    "start_time": "2022-02-02T18:49:54.906Z"
   },
   {
    "duration": 30,
    "start_time": "2022-02-02T18:49:54.913Z"
   },
   {
    "duration": 27,
    "start_time": "2022-02-02T18:49:54.944Z"
   },
   {
    "duration": 635,
    "start_time": "2022-02-02T18:49:54.973Z"
   },
   {
    "duration": 19,
    "start_time": "2022-02-02T18:49:55.609Z"
   },
   {
    "duration": 615,
    "start_time": "2022-02-02T18:49:55.629Z"
   },
   {
    "duration": 100,
    "start_time": "2022-02-02T18:49:56.246Z"
   },
   {
    "duration": 317,
    "start_time": "2022-02-02T18:49:56.348Z"
   },
   {
    "duration": 3,
    "start_time": "2022-02-02T18:49:56.672Z"
   },
   {
    "duration": 305,
    "start_time": "2022-02-02T18:49:56.677Z"
   },
   {
    "duration": 4,
    "start_time": "2022-02-02T18:49:56.983Z"
   },
   {
    "duration": 8,
    "start_time": "2022-02-02T18:49:56.989Z"
   },
   {
    "duration": 2206,
    "start_time": "2022-02-02T18:49:56.999Z"
   },
   {
    "duration": 1125,
    "start_time": "2022-02-02T18:49:59.207Z"
   },
   {
    "duration": 108,
    "start_time": "2022-02-02T18:50:00.334Z"
   },
   {
    "duration": 383,
    "start_time": "2022-02-02T18:50:00.443Z"
   },
   {
    "duration": 362,
    "start_time": "2022-02-02T18:50:00.466Z"
   },
   {
    "duration": 355,
    "start_time": "2022-02-02T18:50:00.474Z"
   },
   {
    "duration": 350,
    "start_time": "2022-02-02T18:50:00.481Z"
   },
   {
    "duration": 344,
    "start_time": "2022-02-02T18:50:00.488Z"
   },
   {
    "duration": 337,
    "start_time": "2022-02-02T18:50:00.496Z"
   },
   {
    "duration": 332,
    "start_time": "2022-02-02T18:50:00.503Z"
   },
   {
    "duration": 327,
    "start_time": "2022-02-02T18:50:00.509Z"
   },
   {
    "duration": 324,
    "start_time": "2022-02-02T18:50:00.513Z"
   },
   {
    "duration": 106,
    "start_time": "2022-02-02T18:52:52.674Z"
   },
   {
    "duration": 266,
    "start_time": "2022-02-02T18:52:54.438Z"
   },
   {
    "duration": 109,
    "start_time": "2022-02-02T18:53:14.825Z"
   },
   {
    "duration": 263,
    "start_time": "2022-02-02T18:53:15.921Z"
   },
   {
    "duration": 50,
    "start_time": "2022-02-02T18:53:40.571Z"
   },
   {
    "duration": 60,
    "start_time": "2022-02-02T18:53:44.704Z"
   },
   {
    "duration": 276,
    "start_time": "2022-02-02T18:53:44.994Z"
   },
   {
    "duration": 258,
    "start_time": "2022-02-02T18:53:48.483Z"
   },
   {
    "duration": 17,
    "start_time": "2022-02-02T18:54:30.001Z"
   },
   {
    "duration": 125,
    "start_time": "2022-02-02T19:22:34.827Z"
   },
   {
    "duration": 255,
    "start_time": "2022-02-03T18:09:01.283Z"
   },
   {
    "duration": 1269,
    "start_time": "2022-02-03T18:09:06.742Z"
   },
   {
    "duration": 83,
    "start_time": "2022-02-03T18:09:08.014Z"
   },
   {
    "duration": 17,
    "start_time": "2022-02-03T18:09:08.100Z"
   },
   {
    "duration": 20,
    "start_time": "2022-02-03T18:09:08.120Z"
   },
   {
    "duration": 5,
    "start_time": "2022-02-03T18:09:08.142Z"
   },
   {
    "duration": 6,
    "start_time": "2022-02-03T18:09:08.149Z"
   },
   {
    "duration": 42,
    "start_time": "2022-02-03T18:09:08.157Z"
   },
   {
    "duration": 8,
    "start_time": "2022-02-03T18:09:08.202Z"
   },
   {
    "duration": 13,
    "start_time": "2022-02-03T18:09:08.212Z"
   },
   {
    "duration": 11,
    "start_time": "2022-02-03T18:09:08.228Z"
   },
   {
    "duration": 16,
    "start_time": "2022-02-03T18:09:08.241Z"
   },
   {
    "duration": 58,
    "start_time": "2022-02-03T18:09:08.259Z"
   },
   {
    "duration": 10,
    "start_time": "2022-02-03T18:09:08.318Z"
   },
   {
    "duration": 7,
    "start_time": "2022-02-03T18:09:08.329Z"
   },
   {
    "duration": 9,
    "start_time": "2022-02-03T18:09:08.338Z"
   },
   {
    "duration": 11,
    "start_time": "2022-02-03T18:09:08.349Z"
   },
   {
    "duration": 8,
    "start_time": "2022-02-03T18:09:08.362Z"
   },
   {
    "duration": 6,
    "start_time": "2022-02-03T18:09:08.372Z"
   },
   {
    "duration": 4396,
    "start_time": "2022-02-03T18:09:08.379Z"
   },
   {
    "duration": 40,
    "start_time": "2022-02-03T18:09:12.777Z"
   },
   {
    "duration": 27,
    "start_time": "2022-02-03T18:09:12.819Z"
   },
   {
    "duration": 833,
    "start_time": "2022-02-03T18:09:12.848Z"
   },
   {
    "duration": 48,
    "start_time": "2022-02-03T18:09:13.684Z"
   },
   {
    "duration": 6,
    "start_time": "2022-02-03T18:09:13.734Z"
   },
   {
    "duration": 33,
    "start_time": "2022-02-03T18:09:13.741Z"
   },
   {
    "duration": 24,
    "start_time": "2022-02-03T18:09:13.776Z"
   },
   {
    "duration": 771,
    "start_time": "2022-02-03T18:09:13.802Z"
   },
   {
    "duration": 26,
    "start_time": "2022-02-03T18:09:14.575Z"
   },
   {
    "duration": 709,
    "start_time": "2022-02-03T18:09:14.603Z"
   },
   {
    "duration": 163,
    "start_time": "2022-02-03T18:09:15.313Z"
   },
   {
    "duration": 360,
    "start_time": "2022-02-03T18:09:15.478Z"
   },
   {
    "duration": 5,
    "start_time": "2022-02-03T18:09:15.840Z"
   },
   {
    "duration": 323,
    "start_time": "2022-02-03T18:09:15.847Z"
   },
   {
    "duration": 5,
    "start_time": "2022-02-03T18:09:16.172Z"
   },
   {
    "duration": 25,
    "start_time": "2022-02-03T18:09:16.179Z"
   },
   {
    "duration": 22,
    "start_time": "2022-02-03T18:09:16.206Z"
   },
   {
    "duration": 78,
    "start_time": "2022-02-03T18:09:16.229Z"
   },
   {
    "duration": -938,
    "start_time": "2022-02-03T18:09:17.247Z"
   },
   {
    "duration": -944,
    "start_time": "2022-02-03T18:09:17.254Z"
   },
   {
    "duration": -949,
    "start_time": "2022-02-03T18:09:17.260Z"
   },
   {
    "duration": -953,
    "start_time": "2022-02-03T18:09:17.265Z"
   },
   {
    "duration": -959,
    "start_time": "2022-02-03T18:09:17.272Z"
   },
   {
    "duration": -961,
    "start_time": "2022-02-03T18:09:17.275Z"
   },
   {
    "duration": -966,
    "start_time": "2022-02-03T18:09:17.281Z"
   },
   {
    "duration": -971,
    "start_time": "2022-02-03T18:09:17.287Z"
   },
   {
    "duration": -977,
    "start_time": "2022-02-03T18:09:17.294Z"
   },
   {
    "duration": -983,
    "start_time": "2022-02-03T18:09:17.301Z"
   },
   {
    "duration": 79,
    "start_time": "2022-02-03T18:09:38.092Z"
   },
   {
    "duration": 5,
    "start_time": "2022-02-03T18:10:57.943Z"
   },
   {
    "duration": 72,
    "start_time": "2022-02-03T18:11:25.505Z"
   },
   {
    "duration": 6858,
    "start_time": "2022-02-03T18:11:33.510Z"
   },
   {
    "duration": 7,
    "start_time": "2022-02-03T18:17:39.849Z"
   },
   {
    "duration": 228,
    "start_time": "2022-02-03T18:17:49.306Z"
   },
   {
    "duration": 23,
    "start_time": "2022-02-03T18:17:52.026Z"
   },
   {
    "duration": 5,
    "start_time": "2022-02-03T18:18:01.767Z"
   },
   {
    "duration": 240,
    "start_time": "2022-02-03T18:19:02.443Z"
   },
   {
    "duration": 223,
    "start_time": "2022-02-03T18:19:09.253Z"
   },
   {
    "duration": 220,
    "start_time": "2022-02-03T18:19:15.169Z"
   },
   {
    "duration": 242,
    "start_time": "2022-02-03T18:19:22.066Z"
   },
   {
    "duration": 290,
    "start_time": "2022-02-03T18:19:26.883Z"
   },
   {
    "duration": 7,
    "start_time": "2022-02-03T18:19:33.164Z"
   },
   {
    "duration": 588,
    "start_time": "2022-02-03T18:20:13.838Z"
   },
   {
    "duration": 7,
    "start_time": "2022-02-03T18:20:50.382Z"
   },
   {
    "duration": 4,
    "start_time": "2022-02-03T18:20:52.141Z"
   },
   {
    "duration": 229,
    "start_time": "2022-02-03T18:21:34.886Z"
   },
   {
    "duration": 229,
    "start_time": "2022-02-03T18:21:40.168Z"
   },
   {
    "duration": 222,
    "start_time": "2022-02-03T18:21:52.250Z"
   },
   {
    "duration": 5,
    "start_time": "2022-02-03T18:22:01.300Z"
   },
   {
    "duration": 9,
    "start_time": "2022-02-03T18:22:02.565Z"
   },
   {
    "duration": 222,
    "start_time": "2022-02-03T18:22:03.622Z"
   },
   {
    "duration": 69,
    "start_time": "2022-02-03T18:22:46.065Z"
   },
   {
    "duration": 4,
    "start_time": "2022-02-03T18:22:52.813Z"
   },
   {
    "duration": 5,
    "start_time": "2022-02-03T18:23:00.111Z"
   },
   {
    "duration": 10,
    "start_time": "2022-02-03T18:23:01.267Z"
   },
   {
    "duration": 3,
    "start_time": "2022-02-03T18:23:01.776Z"
   },
   {
    "duration": 90,
    "start_time": "2022-02-03T18:23:02.576Z"
   },
   {
    "duration": 1205,
    "start_time": "2022-02-03T18:23:15.544Z"
   },
   {
    "duration": 53,
    "start_time": "2022-02-03T18:23:16.751Z"
   },
   {
    "duration": 16,
    "start_time": "2022-02-03T18:23:16.806Z"
   },
   {
    "duration": 29,
    "start_time": "2022-02-03T18:23:16.823Z"
   },
   {
    "duration": 16,
    "start_time": "2022-02-03T18:23:16.854Z"
   },
   {
    "duration": 22,
    "start_time": "2022-02-03T18:23:16.872Z"
   },
   {
    "duration": 26,
    "start_time": "2022-02-03T18:23:16.896Z"
   },
   {
    "duration": 28,
    "start_time": "2022-02-03T18:23:16.925Z"
   },
   {
    "duration": 22,
    "start_time": "2022-02-03T18:23:16.955Z"
   },
   {
    "duration": 26,
    "start_time": "2022-02-03T18:23:16.979Z"
   },
   {
    "duration": 25,
    "start_time": "2022-02-03T18:23:17.007Z"
   },
   {
    "duration": 38,
    "start_time": "2022-02-03T18:23:17.034Z"
   },
   {
    "duration": 34,
    "start_time": "2022-02-03T18:23:17.073Z"
   },
   {
    "duration": 26,
    "start_time": "2022-02-03T18:23:17.109Z"
   },
   {
    "duration": 38,
    "start_time": "2022-02-03T18:23:17.137Z"
   },
   {
    "duration": 19,
    "start_time": "2022-02-03T18:23:17.177Z"
   },
   {
    "duration": 10,
    "start_time": "2022-02-03T18:23:17.198Z"
   },
   {
    "duration": 36,
    "start_time": "2022-02-03T18:23:17.210Z"
   },
   {
    "duration": 4445,
    "start_time": "2022-02-03T18:23:17.248Z"
   },
   {
    "duration": 40,
    "start_time": "2022-02-03T18:23:21.695Z"
   },
   {
    "duration": 30,
    "start_time": "2022-02-03T18:23:21.737Z"
   },
   {
    "duration": 842,
    "start_time": "2022-02-03T18:23:21.769Z"
   },
   {
    "duration": 41,
    "start_time": "2022-02-03T18:23:22.614Z"
   },
   {
    "duration": 6,
    "start_time": "2022-02-03T18:23:22.657Z"
   },
   {
    "duration": 57,
    "start_time": "2022-02-03T18:23:22.665Z"
   },
   {
    "duration": 9,
    "start_time": "2022-02-03T18:23:22.723Z"
   },
   {
    "duration": 772,
    "start_time": "2022-02-03T18:23:22.734Z"
   },
   {
    "duration": 21,
    "start_time": "2022-02-03T18:23:23.509Z"
   },
   {
    "duration": 692,
    "start_time": "2022-02-03T18:23:23.532Z"
   },
   {
    "duration": 150,
    "start_time": "2022-02-03T18:23:24.226Z"
   },
   {
    "duration": 335,
    "start_time": "2022-02-03T18:23:24.378Z"
   },
   {
    "duration": 4,
    "start_time": "2022-02-03T18:23:24.715Z"
   },
   {
    "duration": 327,
    "start_time": "2022-02-03T18:23:24.721Z"
   },
   {
    "duration": 5,
    "start_time": "2022-02-03T18:23:25.050Z"
   },
   {
    "duration": 11,
    "start_time": "2022-02-03T18:23:25.057Z"
   },
   {
    "duration": 28,
    "start_time": "2022-02-03T18:23:25.071Z"
   },
   {
    "duration": 78,
    "start_time": "2022-02-03T18:23:25.102Z"
   },
   {
    "duration": -944,
    "start_time": "2022-02-03T18:23:26.126Z"
   },
   {
    "duration": -950,
    "start_time": "2022-02-03T18:23:26.134Z"
   },
   {
    "duration": -953,
    "start_time": "2022-02-03T18:23:26.138Z"
   },
   {
    "duration": -956,
    "start_time": "2022-02-03T18:23:26.143Z"
   },
   {
    "duration": -958,
    "start_time": "2022-02-03T18:23:26.147Z"
   },
   {
    "duration": -968,
    "start_time": "2022-02-03T18:23:26.158Z"
   },
   {
    "duration": -969,
    "start_time": "2022-02-03T18:23:26.161Z"
   },
   {
    "duration": -972,
    "start_time": "2022-02-03T18:23:26.166Z"
   },
   {
    "duration": -975,
    "start_time": "2022-02-03T18:23:26.170Z"
   },
   {
    "duration": -977,
    "start_time": "2022-02-03T18:23:26.174Z"
   },
   {
    "duration": -979,
    "start_time": "2022-02-03T18:23:26.177Z"
   },
   {
    "duration": 327,
    "start_time": "2022-02-03T18:28:40.127Z"
   },
   {
    "duration": 7,
    "start_time": "2022-02-03T18:28:46.018Z"
   },
   {
    "duration": 216,
    "start_time": "2022-02-03T18:29:18.348Z"
   },
   {
    "duration": 230,
    "start_time": "2022-02-03T18:29:38.904Z"
   },
   {
    "duration": 16,
    "start_time": "2022-02-03T18:29:52.632Z"
   },
   {
    "duration": 6,
    "start_time": "2022-02-03T18:30:19.002Z"
   },
   {
    "duration": 15,
    "start_time": "2022-02-03T18:30:19.466Z"
   },
   {
    "duration": 5,
    "start_time": "2022-02-03T18:30:25.442Z"
   },
   {
    "duration": 7,
    "start_time": "2022-02-03T18:31:20.468Z"
   },
   {
    "duration": 6,
    "start_time": "2022-02-03T18:31:21.261Z"
   },
   {
    "duration": 7,
    "start_time": "2022-02-03T18:31:49.076Z"
   },
   {
    "duration": 5,
    "start_time": "2022-02-03T18:31:50.393Z"
   },
   {
    "duration": 5,
    "start_time": "2022-02-03T18:32:09.167Z"
   },
   {
    "duration": 6,
    "start_time": "2022-02-03T18:32:09.789Z"
   },
   {
    "duration": 6,
    "start_time": "2022-02-03T18:32:24.109Z"
   },
   {
    "duration": 5,
    "start_time": "2022-02-03T18:32:24.819Z"
   },
   {
    "duration": 5,
    "start_time": "2022-02-03T18:32:41.501Z"
   },
   {
    "duration": 83,
    "start_time": "2022-02-03T18:34:32.496Z"
   },
   {
    "duration": 5,
    "start_time": "2022-02-03T18:36:52.612Z"
   },
   {
    "duration": 5,
    "start_time": "2022-02-03T18:36:57.694Z"
   },
   {
    "duration": 4,
    "start_time": "2022-02-03T18:37:04.400Z"
   },
   {
    "duration": 22,
    "start_time": "2022-02-03T18:37:07.333Z"
   },
   {
    "duration": 23,
    "start_time": "2022-02-03T18:37:15.552Z"
   },
   {
    "duration": 268,
    "start_time": "2022-02-03T18:37:20.863Z"
   },
   {
    "duration": 23,
    "start_time": "2022-02-03T18:37:26.945Z"
   },
   {
    "duration": 5,
    "start_time": "2022-02-03T18:37:31.382Z"
   },
   {
    "duration": 5,
    "start_time": "2022-02-03T18:37:34.627Z"
   },
   {
    "duration": 77,
    "start_time": "2022-02-03T18:37:35.282Z"
   },
   {
    "duration": 4,
    "start_time": "2022-02-03T18:37:41.328Z"
   },
   {
    "duration": 5,
    "start_time": "2022-02-03T18:37:41.885Z"
   },
   {
    "duration": 208,
    "start_time": "2022-02-03T18:37:58.859Z"
   },
   {
    "duration": 210,
    "start_time": "2022-02-03T18:38:02.509Z"
   },
   {
    "duration": 229,
    "start_time": "2022-02-03T18:38:14.467Z"
   },
   {
    "duration": 7,
    "start_time": "2022-02-03T18:38:21.270Z"
   },
   {
    "duration": 224,
    "start_time": "2022-02-03T18:38:25.646Z"
   },
   {
    "duration": 233,
    "start_time": "2022-02-03T18:38:28.920Z"
   },
   {
    "duration": 264,
    "start_time": "2022-02-03T18:38:32.929Z"
   },
   {
    "duration": 232,
    "start_time": "2022-02-03T18:38:46.368Z"
   },
   {
    "duration": 216,
    "start_time": "2022-02-03T18:38:50.031Z"
   },
   {
    "duration": 215,
    "start_time": "2022-02-03T18:38:57.974Z"
   },
   {
    "duration": 4,
    "start_time": "2022-02-03T18:39:10.603Z"
   },
   {
    "duration": 209,
    "start_time": "2022-02-03T18:39:14.361Z"
   },
   {
    "duration": 279,
    "start_time": "2022-02-03T18:39:18.231Z"
   },
   {
    "duration": 19,
    "start_time": "2022-02-03T18:39:28.643Z"
   },
   {
    "duration": 224,
    "start_time": "2022-02-03T18:39:34.539Z"
   },
   {
    "duration": 21,
    "start_time": "2022-02-03T18:39:36.939Z"
   },
   {
    "duration": 237,
    "start_time": "2022-02-03T18:39:43.801Z"
   },
   {
    "duration": 19,
    "start_time": "2022-02-03T18:39:47.450Z"
   },
   {
    "duration": 617,
    "start_time": "2022-02-03T18:40:04.090Z"
   },
   {
    "duration": 20,
    "start_time": "2022-02-03T18:40:06.780Z"
   },
   {
    "duration": 530,
    "start_time": "2022-02-03T18:40:15.889Z"
   },
   {
    "duration": 2245,
    "start_time": "2022-02-03T18:40:18.534Z"
   },
   {
    "duration": 376,
    "start_time": "2022-02-03T18:40:31.864Z"
   },
   {
    "duration": 20,
    "start_time": "2022-02-03T18:40:34.414Z"
   },
   {
    "duration": 226,
    "start_time": "2022-02-03T18:41:03.265Z"
   },
   {
    "duration": 4,
    "start_time": "2022-02-03T18:41:07.424Z"
   },
   {
    "duration": 229,
    "start_time": "2022-02-03T18:41:07.740Z"
   },
   {
    "duration": 1270,
    "start_time": "2022-02-03T18:41:20.066Z"
   },
   {
    "duration": 54,
    "start_time": "2022-02-03T18:41:21.337Z"
   },
   {
    "duration": 16,
    "start_time": "2022-02-03T18:41:21.393Z"
   },
   {
    "duration": 18,
    "start_time": "2022-02-03T18:41:21.412Z"
   },
   {
    "duration": 4,
    "start_time": "2022-02-03T18:41:21.432Z"
   },
   {
    "duration": 6,
    "start_time": "2022-02-03T18:41:21.437Z"
   },
   {
    "duration": 9,
    "start_time": "2022-02-03T18:41:21.445Z"
   },
   {
    "duration": 12,
    "start_time": "2022-02-03T18:41:21.457Z"
   },
   {
    "duration": 35,
    "start_time": "2022-02-03T18:41:21.471Z"
   },
   {
    "duration": 8,
    "start_time": "2022-02-03T18:41:21.508Z"
   },
   {
    "duration": 12,
    "start_time": "2022-02-03T18:41:21.518Z"
   },
   {
    "duration": 13,
    "start_time": "2022-02-03T18:41:21.531Z"
   },
   {
    "duration": 7,
    "start_time": "2022-02-03T18:41:21.545Z"
   },
   {
    "duration": 45,
    "start_time": "2022-02-03T18:41:21.554Z"
   },
   {
    "duration": 2,
    "start_time": "2022-02-03T18:41:21.601Z"
   },
   {
    "duration": 8,
    "start_time": "2022-02-03T18:41:21.604Z"
   },
   {
    "duration": 7,
    "start_time": "2022-02-03T18:41:21.614Z"
   },
   {
    "duration": 8,
    "start_time": "2022-02-03T18:41:21.623Z"
   },
   {
    "duration": 4326,
    "start_time": "2022-02-03T18:41:21.633Z"
   },
   {
    "duration": 40,
    "start_time": "2022-02-03T18:41:25.961Z"
   },
   {
    "duration": 28,
    "start_time": "2022-02-03T18:41:26.003Z"
   },
   {
    "duration": 846,
    "start_time": "2022-02-03T18:41:26.032Z"
   },
   {
    "duration": 48,
    "start_time": "2022-02-03T18:41:26.882Z"
   },
   {
    "duration": 6,
    "start_time": "2022-02-03T18:41:26.932Z"
   },
   {
    "duration": 44,
    "start_time": "2022-02-03T18:41:26.940Z"
   },
   {
    "duration": 19,
    "start_time": "2022-02-03T18:41:26.986Z"
   },
   {
    "duration": 791,
    "start_time": "2022-02-03T18:41:27.007Z"
   },
   {
    "duration": 22,
    "start_time": "2022-02-03T18:41:27.800Z"
   },
   {
    "duration": 702,
    "start_time": "2022-02-03T18:41:27.824Z"
   },
   {
    "duration": 133,
    "start_time": "2022-02-03T18:41:28.527Z"
   },
   {
    "duration": 307,
    "start_time": "2022-02-03T18:41:28.662Z"
   },
   {
    "duration": 5,
    "start_time": "2022-02-03T18:41:28.971Z"
   },
   {
    "duration": 354,
    "start_time": "2022-02-03T18:41:28.978Z"
   },
   {
    "duration": 4,
    "start_time": "2022-02-03T18:41:29.334Z"
   },
   {
    "duration": 13,
    "start_time": "2022-02-03T18:41:29.341Z"
   },
   {
    "duration": 7,
    "start_time": "2022-02-03T18:41:29.356Z"
   },
   {
    "duration": 7,
    "start_time": "2022-02-03T18:41:29.364Z"
   },
   {
    "duration": 102,
    "start_time": "2022-02-03T18:41:29.373Z"
   },
   {
    "duration": -944,
    "start_time": "2022-02-03T18:41:30.421Z"
   },
   {
    "duration": -948,
    "start_time": "2022-02-03T18:41:30.426Z"
   },
   {
    "duration": -951,
    "start_time": "2022-02-03T18:41:30.430Z"
   },
   {
    "duration": -955,
    "start_time": "2022-02-03T18:41:30.435Z"
   },
   {
    "duration": -966,
    "start_time": "2022-02-03T18:41:30.447Z"
   },
   {
    "duration": -968,
    "start_time": "2022-02-03T18:41:30.450Z"
   },
   {
    "duration": -971,
    "start_time": "2022-02-03T18:41:30.454Z"
   },
   {
    "duration": -985,
    "start_time": "2022-02-03T18:41:30.469Z"
   },
   {
    "duration": -990,
    "start_time": "2022-02-03T18:41:30.475Z"
   },
   {
    "duration": -996,
    "start_time": "2022-02-03T18:41:30.482Z"
   },
   {
    "duration": -1003,
    "start_time": "2022-02-03T18:41:30.489Z"
   },
   {
    "duration": 4,
    "start_time": "2022-02-03T18:41:43.624Z"
   },
   {
    "duration": 5,
    "start_time": "2022-02-03T18:42:04.657Z"
   },
   {
    "duration": 3,
    "start_time": "2022-02-03T18:42:11.758Z"
   },
   {
    "duration": 22,
    "start_time": "2022-02-03T18:42:19.326Z"
   },
   {
    "duration": 67,
    "start_time": "2022-02-03T18:44:22.423Z"
   },
   {
    "duration": 23,
    "start_time": "2022-02-03T18:44:26.398Z"
   },
   {
    "duration": 311,
    "start_time": "2022-02-03T18:44:36.419Z"
   },
   {
    "duration": 227,
    "start_time": "2022-02-03T18:44:41.309Z"
   },
   {
    "duration": 4,
    "start_time": "2022-02-03T18:44:48.971Z"
   },
   {
    "duration": 319,
    "start_time": "2022-02-03T18:44:50.362Z"
   },
   {
    "duration": 5,
    "start_time": "2022-02-03T18:44:57.589Z"
   },
   {
    "duration": 226,
    "start_time": "2022-02-03T18:45:15.966Z"
   },
   {
    "duration": 4,
    "start_time": "2022-02-03T18:46:09.662Z"
   },
   {
    "duration": 259,
    "start_time": "2022-02-03T18:46:12.571Z"
   },
   {
    "duration": 226,
    "start_time": "2022-02-03T18:46:19.601Z"
   },
   {
    "duration": 4,
    "start_time": "2022-02-03T18:46:23.788Z"
   },
   {
    "duration": 1210,
    "start_time": "2022-02-03T18:46:31.222Z"
   },
   {
    "duration": 53,
    "start_time": "2022-02-03T18:46:32.434Z"
   },
   {
    "duration": 17,
    "start_time": "2022-02-03T18:46:32.490Z"
   },
   {
    "duration": 24,
    "start_time": "2022-02-03T18:46:32.509Z"
   },
   {
    "duration": 5,
    "start_time": "2022-02-03T18:46:32.535Z"
   },
   {
    "duration": 10,
    "start_time": "2022-02-03T18:46:32.542Z"
   },
   {
    "duration": 14,
    "start_time": "2022-02-03T18:46:32.554Z"
   },
   {
    "duration": 17,
    "start_time": "2022-02-03T18:46:32.571Z"
   },
   {
    "duration": 9,
    "start_time": "2022-02-03T18:46:32.599Z"
   },
   {
    "duration": 16,
    "start_time": "2022-02-03T18:46:32.610Z"
   },
   {
    "duration": 25,
    "start_time": "2022-02-03T18:46:32.628Z"
   },
   {
    "duration": 18,
    "start_time": "2022-02-03T18:46:32.655Z"
   },
   {
    "duration": 8,
    "start_time": "2022-02-03T18:46:32.675Z"
   },
   {
    "duration": 6,
    "start_time": "2022-02-03T18:46:32.698Z"
   },
   {
    "duration": 10,
    "start_time": "2022-02-03T18:46:32.706Z"
   },
   {
    "duration": 9,
    "start_time": "2022-02-03T18:46:32.718Z"
   },
   {
    "duration": 12,
    "start_time": "2022-02-03T18:46:32.728Z"
   },
   {
    "duration": 7,
    "start_time": "2022-02-03T18:46:32.742Z"
   },
   {
    "duration": 4247,
    "start_time": "2022-02-03T18:46:32.750Z"
   },
   {
    "duration": 38,
    "start_time": "2022-02-03T18:46:36.999Z"
   },
   {
    "duration": 29,
    "start_time": "2022-02-03T18:46:37.038Z"
   },
   {
    "duration": 831,
    "start_time": "2022-02-03T18:46:37.069Z"
   },
   {
    "duration": 43,
    "start_time": "2022-02-03T18:46:37.904Z"
   },
   {
    "duration": 5,
    "start_time": "2022-02-03T18:46:37.950Z"
   },
   {
    "duration": 54,
    "start_time": "2022-02-03T18:46:37.957Z"
   },
   {
    "duration": 8,
    "start_time": "2022-02-03T18:46:38.013Z"
   },
   {
    "duration": 770,
    "start_time": "2022-02-03T18:46:38.023Z"
   },
   {
    "duration": 21,
    "start_time": "2022-02-03T18:46:38.795Z"
   },
   {
    "duration": 696,
    "start_time": "2022-02-03T18:46:38.818Z"
   },
   {
    "duration": 122,
    "start_time": "2022-02-03T18:46:39.515Z"
   },
   {
    "duration": 302,
    "start_time": "2022-02-03T18:46:39.638Z"
   },
   {
    "duration": 5,
    "start_time": "2022-02-03T18:46:39.942Z"
   },
   {
    "duration": 337,
    "start_time": "2022-02-03T18:46:39.949Z"
   },
   {
    "duration": 4,
    "start_time": "2022-02-03T18:46:40.288Z"
   },
   {
    "duration": 9,
    "start_time": "2022-02-03T18:46:40.299Z"
   },
   {
    "duration": 6,
    "start_time": "2022-02-03T18:46:40.310Z"
   },
   {
    "duration": 8,
    "start_time": "2022-02-03T18:46:40.317Z"
   },
   {
    "duration": 8,
    "start_time": "2022-02-03T18:46:40.327Z"
   },
   {
    "duration": 6,
    "start_time": "2022-02-03T18:46:40.336Z"
   },
   {
    "duration": 369,
    "start_time": "2022-02-03T18:46:40.344Z"
   },
   {
    "duration": -951,
    "start_time": "2022-02-03T18:46:41.666Z"
   },
   {
    "duration": -959,
    "start_time": "2022-02-03T18:46:41.675Z"
   },
   {
    "duration": -962,
    "start_time": "2022-02-03T18:46:41.679Z"
   },
   {
    "duration": -966,
    "start_time": "2022-02-03T18:46:41.684Z"
   },
   {
    "duration": -969,
    "start_time": "2022-02-03T18:46:41.688Z"
   },
   {
    "duration": -973,
    "start_time": "2022-02-03T18:46:41.693Z"
   },
   {
    "duration": -976,
    "start_time": "2022-02-03T18:46:41.697Z"
   },
   {
    "duration": -978,
    "start_time": "2022-02-03T18:46:41.701Z"
   },
   {
    "duration": -980,
    "start_time": "2022-02-03T18:46:41.704Z"
   },
   {
    "duration": -983,
    "start_time": "2022-02-03T18:46:41.708Z"
   },
   {
    "duration": 76,
    "start_time": "2022-02-03T18:49:25.865Z"
   },
   {
    "duration": 231,
    "start_time": "2022-02-03T18:49:35.210Z"
   },
   {
    "duration": 6,
    "start_time": "2022-02-03T18:50:12.599Z"
   },
   {
    "duration": 81,
    "start_time": "2022-02-03T18:50:54.902Z"
   },
   {
    "duration": 80,
    "start_time": "2022-02-03T18:51:01.366Z"
   },
   {
    "duration": 9,
    "start_time": "2022-02-03T18:51:04.061Z"
   },
   {
    "duration": 5,
    "start_time": "2022-02-03T18:51:05.764Z"
   },
   {
    "duration": 23,
    "start_time": "2022-02-03T18:51:08.681Z"
   },
   {
    "duration": 12,
    "start_time": "2022-02-03T18:51:56.548Z"
   },
   {
    "duration": 24,
    "start_time": "2022-02-03T18:51:58.882Z"
   },
   {
    "duration": 568,
    "start_time": "2022-02-03T18:52:19.154Z"
   },
   {
    "duration": 6,
    "start_time": "2022-02-03T18:52:25.281Z"
   },
   {
    "duration": 3,
    "start_time": "2022-02-03T18:52:27.302Z"
   },
   {
    "duration": 207,
    "start_time": "2022-02-03T18:52:35.197Z"
   },
   {
    "duration": 224,
    "start_time": "2022-02-03T18:53:34.962Z"
   },
   {
    "duration": 1164,
    "start_time": "2022-02-03T18:53:42.961Z"
   },
   {
    "duration": 54,
    "start_time": "2022-02-03T18:53:44.127Z"
   },
   {
    "duration": 16,
    "start_time": "2022-02-03T18:53:44.183Z"
   },
   {
    "duration": 27,
    "start_time": "2022-02-03T18:53:44.201Z"
   },
   {
    "duration": 5,
    "start_time": "2022-02-03T18:53:44.230Z"
   },
   {
    "duration": 8,
    "start_time": "2022-02-03T18:53:44.236Z"
   },
   {
    "duration": 14,
    "start_time": "2022-02-03T18:53:44.245Z"
   },
   {
    "duration": 10,
    "start_time": "2022-02-03T18:53:44.262Z"
   },
   {
    "duration": 24,
    "start_time": "2022-02-03T18:53:44.275Z"
   },
   {
    "duration": 8,
    "start_time": "2022-02-03T18:53:44.301Z"
   },
   {
    "duration": 14,
    "start_time": "2022-02-03T18:53:44.311Z"
   },
   {
    "duration": 17,
    "start_time": "2022-02-03T18:53:44.326Z"
   },
   {
    "duration": 10,
    "start_time": "2022-02-03T18:53:44.346Z"
   },
   {
    "duration": 9,
    "start_time": "2022-02-03T18:53:44.358Z"
   },
   {
    "duration": 30,
    "start_time": "2022-02-03T18:53:44.368Z"
   },
   {
    "duration": 4,
    "start_time": "2022-02-03T18:53:44.401Z"
   },
   {
    "duration": 9,
    "start_time": "2022-02-03T18:53:44.406Z"
   },
   {
    "duration": 9,
    "start_time": "2022-02-03T18:53:44.417Z"
   },
   {
    "duration": 4201,
    "start_time": "2022-02-03T18:53:44.427Z"
   },
   {
    "duration": 35,
    "start_time": "2022-02-03T18:53:48.630Z"
   },
   {
    "duration": 42,
    "start_time": "2022-02-03T18:53:48.666Z"
   },
   {
    "duration": 809,
    "start_time": "2022-02-03T18:53:48.710Z"
   },
   {
    "duration": 43,
    "start_time": "2022-02-03T18:53:49.523Z"
   },
   {
    "duration": 6,
    "start_time": "2022-02-03T18:53:49.568Z"
   },
   {
    "duration": 51,
    "start_time": "2022-02-03T18:53:49.576Z"
   },
   {
    "duration": 9,
    "start_time": "2022-02-03T18:53:49.629Z"
   },
   {
    "duration": 832,
    "start_time": "2022-02-03T18:53:49.640Z"
   },
   {
    "duration": 32,
    "start_time": "2022-02-03T18:53:50.474Z"
   },
   {
    "duration": 735,
    "start_time": "2022-02-03T18:53:50.507Z"
   },
   {
    "duration": 134,
    "start_time": "2022-02-03T18:53:51.244Z"
   },
   {
    "duration": 335,
    "start_time": "2022-02-03T18:53:51.380Z"
   },
   {
    "duration": 5,
    "start_time": "2022-02-03T18:53:51.717Z"
   },
   {
    "duration": 331,
    "start_time": "2022-02-03T18:53:51.723Z"
   },
   {
    "duration": 5,
    "start_time": "2022-02-03T18:53:52.056Z"
   },
   {
    "duration": 11,
    "start_time": "2022-02-03T18:53:52.063Z"
   },
   {
    "duration": 25,
    "start_time": "2022-02-03T18:53:52.076Z"
   },
   {
    "duration": 9,
    "start_time": "2022-02-03T18:53:52.103Z"
   },
   {
    "duration": 7,
    "start_time": "2022-02-03T18:53:52.114Z"
   },
   {
    "duration": 311,
    "start_time": "2022-02-03T18:53:52.123Z"
   },
   {
    "duration": -961,
    "start_time": "2022-02-03T18:53:53.398Z"
   },
   {
    "duration": -967,
    "start_time": "2022-02-03T18:53:53.405Z"
   },
   {
    "duration": -970,
    "start_time": "2022-02-03T18:53:53.410Z"
   },
   {
    "duration": -974,
    "start_time": "2022-02-03T18:53:53.416Z"
   },
   {
    "duration": -978,
    "start_time": "2022-02-03T18:53:53.421Z"
   },
   {
    "duration": -983,
    "start_time": "2022-02-03T18:53:53.427Z"
   },
   {
    "duration": -989,
    "start_time": "2022-02-03T18:53:53.435Z"
   },
   {
    "duration": -996,
    "start_time": "2022-02-03T18:53:53.443Z"
   },
   {
    "duration": -1001,
    "start_time": "2022-02-03T18:53:53.449Z"
   },
   {
    "duration": -1007,
    "start_time": "2022-02-03T18:53:53.456Z"
   },
   {
    "duration": 4,
    "start_time": "2022-02-03T18:54:23.335Z"
   },
   {
    "duration": 6,
    "start_time": "2022-02-03T18:54:28.310Z"
   },
   {
    "duration": 5,
    "start_time": "2022-02-03T18:54:29.358Z"
   },
   {
    "duration": 8,
    "start_time": "2022-02-03T18:54:37.658Z"
   },
   {
    "duration": 5,
    "start_time": "2022-02-03T18:54:38.647Z"
   },
   {
    "duration": 7,
    "start_time": "2022-02-03T18:54:55.144Z"
   },
   {
    "duration": 5,
    "start_time": "2022-02-03T18:54:55.927Z"
   },
   {
    "duration": 5419,
    "start_time": "2022-02-03T18:55:29.789Z"
   },
   {
    "duration": 6812,
    "start_time": "2022-02-03T18:55:45.066Z"
   },
   {
    "duration": -1079,
    "start_time": "2022-02-03T18:55:52.960Z"
   },
   {
    "duration": 1252,
    "start_time": "2022-02-03T18:55:54.700Z"
   },
   {
    "duration": 54,
    "start_time": "2022-02-03T18:55:55.954Z"
   },
   {
    "duration": 19,
    "start_time": "2022-02-03T18:55:56.011Z"
   },
   {
    "duration": 20,
    "start_time": "2022-02-03T18:55:56.033Z"
   },
   {
    "duration": 4,
    "start_time": "2022-02-03T18:55:56.055Z"
   },
   {
    "duration": 9,
    "start_time": "2022-02-03T18:55:56.060Z"
   },
   {
    "duration": 33,
    "start_time": "2022-02-03T18:55:56.071Z"
   },
   {
    "duration": 10,
    "start_time": "2022-02-03T18:55:56.108Z"
   },
   {
    "duration": 11,
    "start_time": "2022-02-03T18:55:56.120Z"
   },
   {
    "duration": 8,
    "start_time": "2022-02-03T18:55:56.133Z"
   },
   {
    "duration": 16,
    "start_time": "2022-02-03T18:55:56.143Z"
   },
   {
    "duration": 39,
    "start_time": "2022-02-03T18:55:56.161Z"
   },
   {
    "duration": 9,
    "start_time": "2022-02-03T18:55:56.202Z"
   },
   {
    "duration": 11,
    "start_time": "2022-02-03T18:55:56.213Z"
   },
   {
    "duration": 5,
    "start_time": "2022-02-03T18:55:56.227Z"
   },
   {
    "duration": 14,
    "start_time": "2022-02-03T18:55:56.234Z"
   },
   {
    "duration": 10,
    "start_time": "2022-02-03T18:55:56.250Z"
   },
   {
    "duration": 8,
    "start_time": "2022-02-03T18:55:56.261Z"
   },
   {
    "duration": 4275,
    "start_time": "2022-02-03T18:55:56.270Z"
   },
   {
    "duration": 38,
    "start_time": "2022-02-03T18:56:00.547Z"
   },
   {
    "duration": 38,
    "start_time": "2022-02-03T18:56:00.587Z"
   },
   {
    "duration": 848,
    "start_time": "2022-02-03T18:56:00.627Z"
   },
   {
    "duration": 49,
    "start_time": "2022-02-03T18:56:01.479Z"
   },
   {
    "duration": 6,
    "start_time": "2022-02-03T18:56:01.531Z"
   },
   {
    "duration": 38,
    "start_time": "2022-02-03T18:56:01.539Z"
   },
   {
    "duration": 26,
    "start_time": "2022-02-03T18:56:01.580Z"
   },
   {
    "duration": 787,
    "start_time": "2022-02-03T18:56:01.607Z"
   },
   {
    "duration": 22,
    "start_time": "2022-02-03T18:56:02.396Z"
   },
   {
    "duration": 686,
    "start_time": "2022-02-03T18:56:02.420Z"
   },
   {
    "duration": 134,
    "start_time": "2022-02-03T18:56:03.107Z"
   },
   {
    "duration": 297,
    "start_time": "2022-02-03T18:56:03.243Z"
   },
   {
    "duration": 5,
    "start_time": "2022-02-03T18:56:03.542Z"
   },
   {
    "duration": 316,
    "start_time": "2022-02-03T18:56:03.549Z"
   },
   {
    "duration": 5,
    "start_time": "2022-02-03T18:56:03.866Z"
   },
   {
    "duration": 27,
    "start_time": "2022-02-03T18:56:03.873Z"
   },
   {
    "duration": 7,
    "start_time": "2022-02-03T18:56:03.902Z"
   },
   {
    "duration": 14,
    "start_time": "2022-02-03T18:56:03.911Z"
   },
   {
    "duration": 27,
    "start_time": "2022-02-03T18:56:03.927Z"
   },
   {
    "duration": 6710,
    "start_time": "2022-02-03T18:56:03.956Z"
   },
   {
    "duration": -960,
    "start_time": "2022-02-03T18:56:11.629Z"
   },
   {
    "duration": -966,
    "start_time": "2022-02-03T18:56:11.636Z"
   },
   {
    "duration": -972,
    "start_time": "2022-02-03T18:56:11.642Z"
   },
   {
    "duration": -977,
    "start_time": "2022-02-03T18:56:11.648Z"
   },
   {
    "duration": -981,
    "start_time": "2022-02-03T18:56:11.653Z"
   },
   {
    "duration": -986,
    "start_time": "2022-02-03T18:56:11.659Z"
   },
   {
    "duration": -990,
    "start_time": "2022-02-03T18:56:11.664Z"
   },
   {
    "duration": -994,
    "start_time": "2022-02-03T18:56:11.669Z"
   },
   {
    "duration": -999,
    "start_time": "2022-02-03T18:56:11.675Z"
   },
   {
    "duration": -1003,
    "start_time": "2022-02-03T18:56:11.680Z"
   },
   {
    "duration": 8,
    "start_time": "2022-02-03T18:56:47.199Z"
   },
   {
    "duration": 6,
    "start_time": "2022-02-03T18:56:49.247Z"
   },
   {
    "duration": 4,
    "start_time": "2022-02-03T18:56:57.309Z"
   },
   {
    "duration": 6,
    "start_time": "2022-02-03T18:57:07.242Z"
   },
   {
    "duration": 4,
    "start_time": "2022-02-03T18:57:08.154Z"
   },
   {
    "duration": 3,
    "start_time": "2022-02-03T18:57:33.444Z"
   },
   {
    "duration": 23,
    "start_time": "2022-02-03T18:57:38.974Z"
   },
   {
    "duration": 4,
    "start_time": "2022-02-03T18:57:49.656Z"
   },
   {
    "duration": 4,
    "start_time": "2022-02-03T18:57:50.281Z"
   },
   {
    "duration": 22,
    "start_time": "2022-02-03T18:57:52.959Z"
   },
   {
    "duration": 4,
    "start_time": "2022-02-03T18:58:04.764Z"
   },
   {
    "duration": 22,
    "start_time": "2022-02-03T18:58:06.740Z"
   },
   {
    "duration": 4,
    "start_time": "2022-02-03T18:58:17.838Z"
   },
   {
    "duration": 21,
    "start_time": "2022-02-03T18:58:19.730Z"
   },
   {
    "duration": 6139,
    "start_time": "2022-02-03T18:58:39.941Z"
   },
   {
    "duration": 243,
    "start_time": "2022-02-03T18:58:56.446Z"
   },
   {
    "duration": 4,
    "start_time": "2022-02-03T18:59:47.602Z"
   },
   {
    "duration": 4,
    "start_time": "2022-02-03T18:59:48.462Z"
   },
   {
    "duration": 22,
    "start_time": "2022-02-03T18:59:56.021Z"
   },
   {
    "duration": 7,
    "start_time": "2022-02-03T19:00:32.892Z"
   },
   {
    "duration": 21,
    "start_time": "2022-02-03T19:00:37.846Z"
   },
   {
    "duration": 7,
    "start_time": "2022-02-03T19:01:08.786Z"
   },
   {
    "duration": 22,
    "start_time": "2022-02-03T19:01:09.417Z"
   },
   {
    "duration": 7,
    "start_time": "2022-02-03T19:02:05.353Z"
   },
   {
    "duration": 22,
    "start_time": "2022-02-03T19:02:08.305Z"
   },
   {
    "duration": 8,
    "start_time": "2022-02-03T19:02:35.764Z"
   },
   {
    "duration": 26,
    "start_time": "2022-02-03T19:02:38.060Z"
   },
   {
    "duration": 5515,
    "start_time": "2022-02-03T19:03:11.755Z"
   },
   {
    "duration": 379,
    "start_time": "2022-02-03T19:03:21.324Z"
   },
   {
    "duration": 5,
    "start_time": "2022-02-03T19:03:32.993Z"
   },
   {
    "duration": 4,
    "start_time": "2022-02-03T19:03:55.413Z"
   },
   {
    "duration": 69,
    "start_time": "2022-02-03T19:04:20.518Z"
   },
   {
    "duration": 5,
    "start_time": "2022-02-03T19:05:45.613Z"
   },
   {
    "duration": 4,
    "start_time": "2022-02-03T19:05:45.867Z"
   },
   {
    "duration": 3,
    "start_time": "2022-02-03T19:05:55.987Z"
   },
   {
    "duration": 209,
    "start_time": "2022-02-03T19:05:56.558Z"
   },
   {
    "duration": 4,
    "start_time": "2022-02-03T19:06:17.506Z"
   },
   {
    "duration": 4,
    "start_time": "2022-02-03T19:06:17.792Z"
   },
   {
    "duration": 2,
    "start_time": "2022-02-03T19:06:18.949Z"
   },
   {
    "duration": 214,
    "start_time": "2022-02-03T19:06:19.212Z"
   },
   {
    "duration": 1204,
    "start_time": "2022-02-03T19:06:25.849Z"
   },
   {
    "duration": 54,
    "start_time": "2022-02-03T19:06:27.055Z"
   },
   {
    "duration": 17,
    "start_time": "2022-02-03T19:06:27.112Z"
   },
   {
    "duration": 20,
    "start_time": "2022-02-03T19:06:27.132Z"
   },
   {
    "duration": 5,
    "start_time": "2022-02-03T19:06:27.155Z"
   },
   {
    "duration": 6,
    "start_time": "2022-02-03T19:06:27.162Z"
   },
   {
    "duration": 33,
    "start_time": "2022-02-03T19:06:27.170Z"
   },
   {
    "duration": 14,
    "start_time": "2022-02-03T19:06:27.207Z"
   },
   {
    "duration": 16,
    "start_time": "2022-02-03T19:06:27.224Z"
   },
   {
    "duration": 10,
    "start_time": "2022-02-03T19:06:27.242Z"
   },
   {
    "duration": 14,
    "start_time": "2022-02-03T19:06:27.254Z"
   },
   {
    "duration": 12,
    "start_time": "2022-02-03T19:06:27.300Z"
   },
   {
    "duration": 6,
    "start_time": "2022-02-03T19:06:27.314Z"
   },
   {
    "duration": 11,
    "start_time": "2022-02-03T19:06:27.322Z"
   },
   {
    "duration": 8,
    "start_time": "2022-02-03T19:06:27.335Z"
   },
   {
    "duration": 9,
    "start_time": "2022-02-03T19:06:27.345Z"
   },
   {
    "duration": 7,
    "start_time": "2022-02-03T19:06:27.356Z"
   },
   {
    "duration": 35,
    "start_time": "2022-02-03T19:06:27.365Z"
   },
   {
    "duration": 4241,
    "start_time": "2022-02-03T19:06:27.402Z"
   },
   {
    "duration": 39,
    "start_time": "2022-02-03T19:06:31.646Z"
   },
   {
    "duration": 40,
    "start_time": "2022-02-03T19:06:31.687Z"
   },
   {
    "duration": 851,
    "start_time": "2022-02-03T19:06:31.730Z"
   },
   {
    "duration": 51,
    "start_time": "2022-02-03T19:06:32.585Z"
   },
   {
    "duration": 5,
    "start_time": "2022-02-03T19:06:32.638Z"
   },
   {
    "duration": 39,
    "start_time": "2022-02-03T19:06:32.645Z"
   },
   {
    "duration": 19,
    "start_time": "2022-02-03T19:06:32.686Z"
   },
   {
    "duration": 804,
    "start_time": "2022-02-03T19:06:32.707Z"
   },
   {
    "duration": 21,
    "start_time": "2022-02-03T19:06:33.512Z"
   },
   {
    "duration": 719,
    "start_time": "2022-02-03T19:06:33.535Z"
   },
   {
    "duration": 125,
    "start_time": "2022-02-03T19:06:34.256Z"
   },
   {
    "duration": 320,
    "start_time": "2022-02-03T19:06:34.383Z"
   },
   {
    "duration": 5,
    "start_time": "2022-02-03T19:06:34.705Z"
   },
   {
    "duration": 320,
    "start_time": "2022-02-03T19:06:34.712Z"
   },
   {
    "duration": 4,
    "start_time": "2022-02-03T19:06:35.034Z"
   },
   {
    "duration": 12,
    "start_time": "2022-02-03T19:06:35.039Z"
   },
   {
    "duration": 10,
    "start_time": "2022-02-03T19:06:35.052Z"
   },
   {
    "duration": 45,
    "start_time": "2022-02-03T19:06:35.064Z"
   },
   {
    "duration": 5,
    "start_time": "2022-02-03T19:06:35.111Z"
   },
   {
    "duration": 6,
    "start_time": "2022-02-03T19:06:35.118Z"
   },
   {
    "duration": 4,
    "start_time": "2022-02-03T19:06:35.126Z"
   },
   {
    "duration": 329,
    "start_time": "2022-02-03T19:06:35.132Z"
   },
   {
    "duration": -955,
    "start_time": "2022-02-03T19:06:36.418Z"
   },
   {
    "duration": -962,
    "start_time": "2022-02-03T19:06:36.426Z"
   },
   {
    "duration": -966,
    "start_time": "2022-02-03T19:06:36.431Z"
   },
   {
    "duration": -971,
    "start_time": "2022-02-03T19:06:36.437Z"
   },
   {
    "duration": -975,
    "start_time": "2022-02-03T19:06:36.442Z"
   },
   {
    "duration": -980,
    "start_time": "2022-02-03T19:06:36.448Z"
   },
   {
    "duration": -984,
    "start_time": "2022-02-03T19:06:36.453Z"
   },
   {
    "duration": 4,
    "start_time": "2022-02-03T19:08:28.747Z"
   },
   {
    "duration": 15,
    "start_time": "2022-02-03T19:08:34.281Z"
   },
   {
    "duration": 5506,
    "start_time": "2022-02-03T19:12:34.664Z"
   },
   {
    "duration": 5302,
    "start_time": "2022-02-03T19:12:54.601Z"
   },
   {
    "duration": 5735,
    "start_time": "2022-02-03T19:13:13.534Z"
   },
   {
    "duration": 5,
    "start_time": "2022-02-03T19:13:44.818Z"
   },
   {
    "duration": 5296,
    "start_time": "2022-02-03T19:13:51.533Z"
   },
   {
    "duration": 5788,
    "start_time": "2022-02-03T19:14:00.847Z"
   },
   {
    "duration": 8,
    "start_time": "2022-02-03T19:14:32.451Z"
   },
   {
    "duration": 5596,
    "start_time": "2022-02-03T19:14:56.451Z"
   },
   {
    "duration": 5709,
    "start_time": "2022-02-03T19:15:15.795Z"
   },
   {
    "duration": -975,
    "start_time": "2022-02-03T19:15:22.481Z"
   },
   {
    "duration": 5257,
    "start_time": "2022-02-03T19:15:53.915Z"
   },
   {
    "duration": -963,
    "start_time": "2022-02-03T19:16:00.137Z"
   },
   {
    "duration": 1242,
    "start_time": "2022-02-03T19:16:07.492Z"
   },
   {
    "duration": 54,
    "start_time": "2022-02-03T19:16:08.736Z"
   },
   {
    "duration": 16,
    "start_time": "2022-02-03T19:16:08.792Z"
   },
   {
    "duration": 18,
    "start_time": "2022-02-03T19:16:08.810Z"
   },
   {
    "duration": 3,
    "start_time": "2022-02-03T19:16:08.830Z"
   },
   {
    "duration": 6,
    "start_time": "2022-02-03T19:16:08.835Z"
   },
   {
    "duration": 7,
    "start_time": "2022-02-03T19:16:08.843Z"
   },
   {
    "duration": 9,
    "start_time": "2022-02-03T19:16:08.853Z"
   },
   {
    "duration": 10,
    "start_time": "2022-02-03T19:16:08.899Z"
   },
   {
    "duration": 7,
    "start_time": "2022-02-03T19:16:08.911Z"
   },
   {
    "duration": 13,
    "start_time": "2022-02-03T19:16:08.920Z"
   },
   {
    "duration": 12,
    "start_time": "2022-02-03T19:16:08.935Z"
   },
   {
    "duration": 7,
    "start_time": "2022-02-03T19:16:08.949Z"
   },
   {
    "duration": 10,
    "start_time": "2022-02-03T19:16:08.957Z"
   },
   {
    "duration": 2,
    "start_time": "2022-02-03T19:16:08.999Z"
   },
   {
    "duration": 8,
    "start_time": "2022-02-03T19:16:09.003Z"
   },
   {
    "duration": 6,
    "start_time": "2022-02-03T19:16:09.012Z"
   },
   {
    "duration": 4,
    "start_time": "2022-02-03T19:16:09.019Z"
   },
   {
    "duration": 4162,
    "start_time": "2022-02-03T19:16:09.025Z"
   },
   {
    "duration": 35,
    "start_time": "2022-02-03T19:16:13.189Z"
   },
   {
    "duration": 27,
    "start_time": "2022-02-03T19:16:13.226Z"
   },
   {
    "duration": 811,
    "start_time": "2022-02-03T19:16:13.254Z"
   },
   {
    "duration": 47,
    "start_time": "2022-02-03T19:16:14.069Z"
   },
   {
    "duration": 6,
    "start_time": "2022-02-03T19:16:14.118Z"
   },
   {
    "duration": 33,
    "start_time": "2022-02-03T19:16:14.125Z"
   },
   {
    "duration": 8,
    "start_time": "2022-02-03T19:16:14.160Z"
   },
   {
    "duration": 777,
    "start_time": "2022-02-03T19:16:14.169Z"
   },
   {
    "duration": 20,
    "start_time": "2022-02-03T19:16:14.948Z"
   },
   {
    "duration": 701,
    "start_time": "2022-02-03T19:16:14.969Z"
   },
   {
    "duration": 121,
    "start_time": "2022-02-03T19:16:15.672Z"
   },
   {
    "duration": 328,
    "start_time": "2022-02-03T19:16:15.795Z"
   },
   {
    "duration": 4,
    "start_time": "2022-02-03T19:16:16.125Z"
   },
   {
    "duration": 311,
    "start_time": "2022-02-03T19:16:16.131Z"
   },
   {
    "duration": 4,
    "start_time": "2022-02-03T19:16:16.444Z"
   },
   {
    "duration": 15,
    "start_time": "2022-02-03T19:16:16.450Z"
   },
   {
    "duration": 8,
    "start_time": "2022-02-03T19:16:16.467Z"
   },
   {
    "duration": 42,
    "start_time": "2022-02-03T19:16:16.477Z"
   },
   {
    "duration": 8,
    "start_time": "2022-02-03T19:16:16.521Z"
   },
   {
    "duration": 14,
    "start_time": "2022-02-03T19:16:16.530Z"
   },
   {
    "duration": 6,
    "start_time": "2022-02-03T19:16:16.546Z"
   },
   {
    "duration": 6124,
    "start_time": "2022-02-03T19:16:16.553Z"
   },
   {
    "duration": -954,
    "start_time": "2022-02-03T19:16:23.633Z"
   },
   {
    "duration": -962,
    "start_time": "2022-02-03T19:16:23.642Z"
   },
   {
    "duration": -967,
    "start_time": "2022-02-03T19:16:23.648Z"
   },
   {
    "duration": -972,
    "start_time": "2022-02-03T19:16:23.654Z"
   },
   {
    "duration": -976,
    "start_time": "2022-02-03T19:16:23.659Z"
   },
   {
    "duration": -980,
    "start_time": "2022-02-03T19:16:23.664Z"
   },
   {
    "duration": -984,
    "start_time": "2022-02-03T19:16:23.669Z"
   },
   {
    "duration": -989,
    "start_time": "2022-02-03T19:16:23.675Z"
   },
   {
    "duration": 13,
    "start_time": "2022-02-03T19:17:18.817Z"
   },
   {
    "duration": 5314,
    "start_time": "2022-02-03T19:17:41.594Z"
   },
   {
    "duration": 6,
    "start_time": "2022-02-03T19:17:49.642Z"
   },
   {
    "duration": 5692,
    "start_time": "2022-02-03T19:18:04.332Z"
   },
   {
    "duration": 5,
    "start_time": "2022-02-03T19:18:12.844Z"
   },
   {
    "duration": 7,
    "start_time": "2022-02-03T19:18:14.387Z"
   },
   {
    "duration": 71,
    "start_time": "2022-02-03T19:18:43.437Z"
   },
   {
    "duration": 1261,
    "start_time": "2022-02-03T19:19:12.807Z"
   },
   {
    "duration": 68,
    "start_time": "2022-02-03T19:19:14.070Z"
   },
   {
    "duration": 16,
    "start_time": "2022-02-03T19:19:14.140Z"
   },
   {
    "duration": 18,
    "start_time": "2022-02-03T19:19:14.157Z"
   },
   {
    "duration": 6,
    "start_time": "2022-02-03T19:19:14.177Z"
   },
   {
    "duration": 14,
    "start_time": "2022-02-03T19:19:14.185Z"
   },
   {
    "duration": 14,
    "start_time": "2022-02-03T19:19:14.201Z"
   },
   {
    "duration": 12,
    "start_time": "2022-02-03T19:19:14.218Z"
   },
   {
    "duration": 12,
    "start_time": "2022-02-03T19:19:14.232Z"
   },
   {
    "duration": 9,
    "start_time": "2022-02-03T19:19:14.246Z"
   },
   {
    "duration": 14,
    "start_time": "2022-02-03T19:19:14.256Z"
   },
   {
    "duration": 13,
    "start_time": "2022-02-03T19:19:14.272Z"
   },
   {
    "duration": 6,
    "start_time": "2022-02-03T19:19:14.299Z"
   },
   {
    "duration": 9,
    "start_time": "2022-02-03T19:19:14.307Z"
   },
   {
    "duration": 7,
    "start_time": "2022-02-03T19:19:14.318Z"
   },
   {
    "duration": 12,
    "start_time": "2022-02-03T19:19:14.327Z"
   },
   {
    "duration": 6,
    "start_time": "2022-02-03T19:19:14.341Z"
   },
   {
    "duration": 7,
    "start_time": "2022-02-03T19:19:14.348Z"
   },
   {
    "duration": 4457,
    "start_time": "2022-02-03T19:19:14.356Z"
   },
   {
    "duration": 37,
    "start_time": "2022-02-03T19:19:18.815Z"
   },
   {
    "duration": 28,
    "start_time": "2022-02-03T19:19:18.854Z"
   },
   {
    "duration": 866,
    "start_time": "2022-02-03T19:19:18.899Z"
   },
   {
    "duration": 53,
    "start_time": "2022-02-03T19:19:19.770Z"
   },
   {
    "duration": 5,
    "start_time": "2022-02-03T19:19:19.826Z"
   },
   {
    "duration": 35,
    "start_time": "2022-02-03T19:19:19.833Z"
   },
   {
    "duration": 9,
    "start_time": "2022-02-03T19:19:19.869Z"
   },
   {
    "duration": 767,
    "start_time": "2022-02-03T19:19:19.879Z"
   },
   {
    "duration": 22,
    "start_time": "2022-02-03T19:19:20.648Z"
   },
   {
    "duration": 705,
    "start_time": "2022-02-03T19:19:20.671Z"
   },
   {
    "duration": 134,
    "start_time": "2022-02-03T19:19:21.378Z"
   },
   {
    "duration": 326,
    "start_time": "2022-02-03T19:19:21.514Z"
   },
   {
    "duration": 4,
    "start_time": "2022-02-03T19:19:21.842Z"
   },
   {
    "duration": 308,
    "start_time": "2022-02-03T19:19:21.848Z"
   },
   {
    "duration": 5,
    "start_time": "2022-02-03T19:19:22.159Z"
   },
   {
    "duration": 13,
    "start_time": "2022-02-03T19:19:22.166Z"
   },
   {
    "duration": 24,
    "start_time": "2022-02-03T19:19:22.181Z"
   },
   {
    "duration": 26,
    "start_time": "2022-02-03T19:19:22.207Z"
   },
   {
    "duration": 7,
    "start_time": "2022-02-03T19:19:22.235Z"
   },
   {
    "duration": 14,
    "start_time": "2022-02-03T19:19:22.244Z"
   },
   {
    "duration": 43,
    "start_time": "2022-02-03T19:19:22.260Z"
   },
   {
    "duration": 7,
    "start_time": "2022-02-03T19:19:22.305Z"
   },
   {
    "duration": 7,
    "start_time": "2022-02-03T19:19:22.314Z"
   },
   {
    "duration": 16,
    "start_time": "2022-02-03T19:19:22.323Z"
   },
   {
    "duration": 5571,
    "start_time": "2022-02-03T19:19:22.341Z"
   },
   {
    "duration": -966,
    "start_time": "2022-02-03T19:19:28.880Z"
   },
   {
    "duration": -980,
    "start_time": "2022-02-03T19:19:28.895Z"
   },
   {
    "duration": -985,
    "start_time": "2022-02-03T19:19:28.900Z"
   },
   {
    "duration": -996,
    "start_time": "2022-02-03T19:19:28.912Z"
   },
   {
    "duration": -999,
    "start_time": "2022-02-03T19:19:28.916Z"
   },
   {
    "duration": 22,
    "start_time": "2022-02-03T19:21:10.000Z"
   },
   {
    "duration": 18,
    "start_time": "2022-02-03T19:21:24.370Z"
   },
   {
    "duration": 235,
    "start_time": "2022-02-03T19:21:32.050Z"
   },
   {
    "duration": 13,
    "start_time": "2022-02-03T19:21:34.649Z"
   },
   {
    "duration": 13,
    "start_time": "2022-02-03T19:21:40.529Z"
   },
   {
    "duration": 7,
    "start_time": "2022-02-03T19:22:42.374Z"
   },
   {
    "duration": 7,
    "start_time": "2022-02-03T19:22:50.501Z"
   },
   {
    "duration": 81,
    "start_time": "2022-02-03T19:23:08.039Z"
   },
   {
    "duration": 14,
    "start_time": "2022-02-03T19:23:14.853Z"
   },
   {
    "duration": 7,
    "start_time": "2022-02-03T19:24:23.212Z"
   },
   {
    "duration": 10,
    "start_time": "2022-02-03T19:24:28.893Z"
   },
   {
    "duration": 235,
    "start_time": "2022-02-03T19:24:45.693Z"
   },
   {
    "duration": 17,
    "start_time": "2022-02-03T19:24:49.389Z"
   },
   {
    "duration": 238,
    "start_time": "2022-02-03T19:25:00.869Z"
   },
   {
    "duration": 226,
    "start_time": "2022-02-03T19:25:05.134Z"
   },
   {
    "duration": 240,
    "start_time": "2022-02-03T19:25:09.517Z"
   },
   {
    "duration": 72,
    "start_time": "2022-02-03T19:26:06.613Z"
   },
   {
    "duration": 77,
    "start_time": "2022-02-03T19:26:10.852Z"
   },
   {
    "duration": 70,
    "start_time": "2022-02-03T19:26:15.221Z"
   },
   {
    "duration": 67,
    "start_time": "2022-02-03T19:27:13.123Z"
   },
   {
    "duration": 259,
    "start_time": "2022-02-03T19:27:20.511Z"
   },
   {
    "duration": 260,
    "start_time": "2022-02-03T19:27:23.968Z"
   },
   {
    "duration": 221,
    "start_time": "2022-02-03T19:27:28.477Z"
   },
   {
    "duration": 207,
    "start_time": "2022-02-03T19:27:54.437Z"
   },
   {
    "duration": 234,
    "start_time": "2022-02-03T19:28:08.658Z"
   },
   {
    "duration": 230,
    "start_time": "2022-02-03T19:28:24.964Z"
   },
   {
    "duration": 6,
    "start_time": "2022-02-03T19:29:05.679Z"
   },
   {
    "duration": 226,
    "start_time": "2022-02-03T19:29:17.684Z"
   },
   {
    "duration": 224,
    "start_time": "2022-02-03T19:29:21.175Z"
   },
   {
    "duration": 13,
    "start_time": "2022-02-03T19:29:28.499Z"
   },
   {
    "duration": 223,
    "start_time": "2022-02-03T19:29:38.477Z"
   },
   {
    "duration": 5,
    "start_time": "2022-02-03T19:30:49.480Z"
   },
   {
    "duration": 6,
    "start_time": "2022-02-03T19:31:22.506Z"
   },
   {
    "duration": 9,
    "start_time": "2022-02-03T19:31:26.124Z"
   },
   {
    "duration": 16,
    "start_time": "2022-02-03T19:31:42.052Z"
   },
   {
    "duration": 71,
    "start_time": "2022-02-03T19:31:58.789Z"
   },
   {
    "duration": 222,
    "start_time": "2022-02-03T19:32:03.190Z"
   },
   {
    "duration": 9,
    "start_time": "2022-02-03T19:32:09.252Z"
   },
   {
    "duration": 7,
    "start_time": "2022-02-03T19:32:27.443Z"
   },
   {
    "duration": 11,
    "start_time": "2022-02-03T19:32:30.473Z"
   },
   {
    "duration": 7415,
    "start_time": "2022-02-03T19:32:39.912Z"
   },
   {
    "duration": 9,
    "start_time": "2022-02-03T19:32:47.816Z"
   },
   {
    "duration": 12,
    "start_time": "2022-02-03T19:33:00.653Z"
   },
   {
    "duration": 77,
    "start_time": "2022-02-03T19:33:38.538Z"
   },
   {
    "duration": 70,
    "start_time": "2022-02-03T19:33:42.886Z"
   },
   {
    "duration": 224,
    "start_time": "2022-02-03T19:33:49.531Z"
   },
   {
    "duration": 14,
    "start_time": "2022-02-03T19:33:53.535Z"
   },
   {
    "duration": 9,
    "start_time": "2022-02-03T19:34:11.547Z"
   },
   {
    "duration": 10,
    "start_time": "2022-02-03T19:34:19.784Z"
   },
   {
    "duration": 9,
    "start_time": "2022-02-03T19:34:32.817Z"
   },
   {
    "duration": 14,
    "start_time": "2022-02-03T19:34:35.926Z"
   },
   {
    "duration": 14,
    "start_time": "2022-02-03T19:35:13.177Z"
   },
   {
    "duration": 21,
    "start_time": "2022-02-03T19:35:28.646Z"
   },
   {
    "duration": 14,
    "start_time": "2022-02-03T19:35:29.824Z"
   },
   {
    "duration": 15,
    "start_time": "2022-02-03T19:35:40.981Z"
   },
   {
    "duration": 18,
    "start_time": "2022-02-03T19:35:41.657Z"
   },
   {
    "duration": 15,
    "start_time": "2022-02-03T19:36:11.270Z"
   },
   {
    "duration": 15,
    "start_time": "2022-02-03T19:36:20.806Z"
   },
   {
    "duration": 15,
    "start_time": "2022-02-03T19:36:21.219Z"
   },
   {
    "duration": 16,
    "start_time": "2022-02-03T19:37:15.306Z"
   },
   {
    "duration": 22,
    "start_time": "2022-02-03T19:38:05.175Z"
   },
   {
    "duration": 230,
    "start_time": "2022-02-03T19:38:36.799Z"
   },
   {
    "duration": 1073,
    "start_time": "2022-02-03T19:40:22.856Z"
   },
   {
    "duration": 1165,
    "start_time": "2022-02-03T19:40:37.376Z"
   },
   {
    "duration": 32,
    "start_time": "2022-02-03T19:41:03.901Z"
   },
   {
    "duration": 89,
    "start_time": "2022-02-03T19:41:57.112Z"
   },
   {
    "duration": 235,
    "start_time": "2022-02-03T19:42:01.548Z"
   },
   {
    "duration": 222,
    "start_time": "2022-02-03T19:42:14.543Z"
   },
   {
    "duration": 39,
    "start_time": "2022-02-03T19:42:31.403Z"
   },
   {
    "duration": 66,
    "start_time": "2022-02-03T19:42:56.840Z"
   },
   {
    "duration": 5,
    "start_time": "2022-02-03T19:43:05.049Z"
   },
   {
    "duration": 26,
    "start_time": "2022-02-03T19:43:42.727Z"
   },
   {
    "duration": 22,
    "start_time": "2022-02-03T19:43:53.079Z"
   },
   {
    "duration": 850,
    "start_time": "2022-02-03T19:44:20.717Z"
   },
   {
    "duration": 14,
    "start_time": "2022-02-03T19:44:45.113Z"
   },
   {
    "duration": 911,
    "start_time": "2022-02-03T19:44:49.377Z"
   },
   {
    "duration": 15,
    "start_time": "2022-02-03T19:44:54.204Z"
   },
   {
    "duration": 10,
    "start_time": "2022-02-03T19:45:22.048Z"
   },
   {
    "duration": 247,
    "start_time": "2022-02-03T19:48:02.889Z"
   },
   {
    "duration": 16,
    "start_time": "2022-02-03T19:48:32.069Z"
   },
   {
    "duration": 15,
    "start_time": "2022-02-03T19:49:07.155Z"
   },
   {
    "duration": 233,
    "start_time": "2022-02-03T19:50:22.605Z"
   },
   {
    "duration": 10,
    "start_time": "2022-02-03T19:50:55.713Z"
   },
   {
    "duration": 17,
    "start_time": "2022-02-03T19:51:03.903Z"
   },
   {
    "duration": 15,
    "start_time": "2022-02-03T19:51:15.391Z"
   },
   {
    "duration": 16,
    "start_time": "2022-02-03T19:51:46.854Z"
   },
   {
    "duration": 66,
    "start_time": "2022-02-03T19:52:22.741Z"
   },
   {
    "duration": 21,
    "start_time": "2022-02-03T19:52:29.998Z"
   },
   {
    "duration": 16,
    "start_time": "2022-02-03T19:52:45.579Z"
   },
   {
    "duration": 38,
    "start_time": "2022-02-03T19:52:52.038Z"
   },
   {
    "duration": 223,
    "start_time": "2022-02-03T19:53:24.634Z"
   },
   {
    "duration": 231,
    "start_time": "2022-02-03T19:53:37.228Z"
   },
   {
    "duration": 270,
    "start_time": "2022-02-03T19:53:59.858Z"
   },
   {
    "duration": 276,
    "start_time": "2022-02-03T19:54:04.245Z"
   },
   {
    "duration": 232,
    "start_time": "2022-02-03T19:54:08.642Z"
   },
   {
    "duration": 224,
    "start_time": "2022-02-03T19:54:17.644Z"
   },
   {
    "duration": 220,
    "start_time": "2022-02-03T19:54:31.019Z"
   },
   {
    "duration": 18,
    "start_time": "2022-02-03T19:54:57.654Z"
   },
   {
    "duration": 79,
    "start_time": "2022-02-03T19:55:33.249Z"
   },
   {
    "duration": 6,
    "start_time": "2022-02-03T19:55:38.418Z"
   },
   {
    "duration": 6,
    "start_time": "2022-02-03T19:55:46.316Z"
   },
   {
    "duration": 6,
    "start_time": "2022-02-03T19:55:52.455Z"
   },
   {
    "duration": 5,
    "start_time": "2022-02-03T19:56:08.230Z"
   },
   {
    "duration": 215,
    "start_time": "2022-02-03T19:57:51.857Z"
   },
   {
    "duration": 6,
    "start_time": "2022-02-03T19:58:11.961Z"
   },
   {
    "duration": 21,
    "start_time": "2022-02-03T19:58:13.147Z"
   },
   {
    "duration": 16,
    "start_time": "2022-02-03T19:58:30.036Z"
   },
   {
    "duration": 222,
    "start_time": "2022-02-03T19:59:30.115Z"
   },
   {
    "duration": 224,
    "start_time": "2022-02-03T19:59:40.741Z"
   },
   {
    "duration": 214,
    "start_time": "2022-02-03T19:59:45.682Z"
   },
   {
    "duration": 248,
    "start_time": "2022-02-03T20:00:04.345Z"
   },
   {
    "duration": 8,
    "start_time": "2022-02-03T20:00:42.671Z"
   },
   {
    "duration": 9,
    "start_time": "2022-02-03T20:01:12.078Z"
   },
   {
    "duration": 11,
    "start_time": "2022-02-03T20:01:14.507Z"
   },
   {
    "duration": 12,
    "start_time": "2022-02-03T20:01:26.976Z"
   },
   {
    "duration": 8,
    "start_time": "2022-02-03T20:01:29.733Z"
   },
   {
    "duration": 8,
    "start_time": "2022-02-03T20:01:35.731Z"
   },
   {
    "duration": 10,
    "start_time": "2022-02-03T20:01:39.726Z"
   },
   {
    "duration": 10,
    "start_time": "2022-02-03T20:01:41.643Z"
   },
   {
    "duration": 9,
    "start_time": "2022-02-03T20:01:55.358Z"
   },
   {
    "duration": 19,
    "start_time": "2022-02-03T20:01:56.232Z"
   },
   {
    "duration": 8,
    "start_time": "2022-02-03T20:02:01.885Z"
   },
   {
    "duration": 21,
    "start_time": "2022-02-03T20:02:02.823Z"
   },
   {
    "duration": 9,
    "start_time": "2022-02-03T20:02:11.815Z"
   },
   {
    "duration": 15,
    "start_time": "2022-02-03T20:02:18.328Z"
   },
   {
    "duration": 16,
    "start_time": "2022-02-03T20:02:48.056Z"
   },
   {
    "duration": 7,
    "start_time": "2022-02-03T20:05:25.406Z"
   },
   {
    "duration": 21,
    "start_time": "2022-02-03T20:05:27.996Z"
   },
   {
    "duration": 7,
    "start_time": "2022-02-03T20:05:33.180Z"
   },
   {
    "duration": 21,
    "start_time": "2022-02-03T20:05:33.646Z"
   },
   {
    "duration": 270,
    "start_time": "2022-02-03T20:06:07.985Z"
   },
   {
    "duration": 6,
    "start_time": "2022-02-03T20:06:10.659Z"
   },
   {
    "duration": 7,
    "start_time": "2022-02-03T20:06:11.787Z"
   },
   {
    "duration": 260,
    "start_time": "2022-02-03T20:07:05.800Z"
   },
   {
    "duration": 34,
    "start_time": "2022-02-03T20:07:10.305Z"
   },
   {
    "duration": 5256,
    "start_time": "2022-02-03T20:08:22.133Z"
   },
   {
    "duration": 7,
    "start_time": "2022-02-03T20:08:36.313Z"
   },
   {
    "duration": 21,
    "start_time": "2022-02-03T20:08:36.878Z"
   },
   {
    "duration": 6,
    "start_time": "2022-02-03T20:08:49.740Z"
   },
   {
    "duration": 22,
    "start_time": "2022-02-03T20:08:51.567Z"
   },
   {
    "duration": 1262,
    "start_time": "2022-02-03T20:09:08.398Z"
   },
   {
    "duration": 56,
    "start_time": "2022-02-03T20:09:09.662Z"
   },
   {
    "duration": 19,
    "start_time": "2022-02-03T20:09:09.720Z"
   },
   {
    "duration": 21,
    "start_time": "2022-02-03T20:09:09.742Z"
   },
   {
    "duration": 5,
    "start_time": "2022-02-03T20:09:09.766Z"
   },
   {
    "duration": 27,
    "start_time": "2022-02-03T20:09:09.773Z"
   },
   {
    "duration": 8,
    "start_time": "2022-02-03T20:09:09.803Z"
   },
   {
    "duration": 10,
    "start_time": "2022-02-03T20:09:09.815Z"
   },
   {
    "duration": 10,
    "start_time": "2022-02-03T20:09:09.828Z"
   },
   {
    "duration": 8,
    "start_time": "2022-02-03T20:09:09.841Z"
   },
   {
    "duration": 56,
    "start_time": "2022-02-03T20:09:09.852Z"
   },
   {
    "duration": 23,
    "start_time": "2022-02-03T20:09:09.911Z"
   },
   {
    "duration": 6,
    "start_time": "2022-02-03T20:09:09.936Z"
   },
   {
    "duration": 8,
    "start_time": "2022-02-03T20:09:09.944Z"
   },
   {
    "duration": 6,
    "start_time": "2022-02-03T20:09:09.954Z"
   },
   {
    "duration": 8,
    "start_time": "2022-02-03T20:09:09.962Z"
   },
   {
    "duration": 29,
    "start_time": "2022-02-03T20:09:09.972Z"
   },
   {
    "duration": 11,
    "start_time": "2022-02-03T20:09:10.003Z"
   },
   {
    "duration": 4413,
    "start_time": "2022-02-03T20:09:10.016Z"
   },
   {
    "duration": 39,
    "start_time": "2022-02-03T20:09:14.431Z"
   },
   {
    "duration": 46,
    "start_time": "2022-02-03T20:09:14.472Z"
   },
   {
    "duration": 839,
    "start_time": "2022-02-03T20:09:14.520Z"
   },
   {
    "duration": 60,
    "start_time": "2022-02-03T20:09:15.365Z"
   },
   {
    "duration": 7,
    "start_time": "2022-02-03T20:09:15.428Z"
   },
   {
    "duration": 40,
    "start_time": "2022-02-03T20:09:15.437Z"
   },
   {
    "duration": 26,
    "start_time": "2022-02-03T20:09:15.479Z"
   },
   {
    "duration": 808,
    "start_time": "2022-02-03T20:09:15.507Z"
   },
   {
    "duration": 35,
    "start_time": "2022-02-03T20:09:16.316Z"
   },
   {
    "duration": 767,
    "start_time": "2022-02-03T20:09:16.353Z"
   },
   {
    "duration": 127,
    "start_time": "2022-02-03T20:09:17.122Z"
   },
   {
    "duration": 291,
    "start_time": "2022-02-03T20:09:17.251Z"
   },
   {
    "duration": 4,
    "start_time": "2022-02-03T20:09:17.544Z"
   },
   {
    "duration": 465,
    "start_time": "2022-02-03T20:09:17.550Z"
   },
   {
    "duration": 7,
    "start_time": "2022-02-03T20:09:18.016Z"
   },
   {
    "duration": 14,
    "start_time": "2022-02-03T20:09:18.025Z"
   },
   {
    "duration": 6,
    "start_time": "2022-02-03T20:09:18.041Z"
   },
   {
    "duration": 58,
    "start_time": "2022-02-03T20:09:18.049Z"
   },
   {
    "duration": 8,
    "start_time": "2022-02-03T20:09:18.108Z"
   },
   {
    "duration": 13,
    "start_time": "2022-02-03T20:09:18.118Z"
   },
   {
    "duration": 7,
    "start_time": "2022-02-03T20:09:18.133Z"
   },
   {
    "duration": 57,
    "start_time": "2022-02-03T20:09:18.142Z"
   },
   {
    "duration": 6,
    "start_time": "2022-02-03T20:09:18.201Z"
   },
   {
    "duration": 5755,
    "start_time": "2022-02-03T20:09:18.209Z"
   },
   {
    "duration": -957,
    "start_time": "2022-02-03T20:09:24.923Z"
   },
   {
    "duration": -962,
    "start_time": "2022-02-03T20:09:24.929Z"
   },
   {
    "duration": -966,
    "start_time": "2022-02-03T20:09:24.934Z"
   },
   {
    "duration": -968,
    "start_time": "2022-02-03T20:09:24.938Z"
   },
   {
    "duration": -972,
    "start_time": "2022-02-03T20:09:24.943Z"
   },
   {
    "duration": -976,
    "start_time": "2022-02-03T20:09:24.948Z"
   },
   {
    "duration": -980,
    "start_time": "2022-02-03T20:09:24.953Z"
   },
   {
    "duration": -983,
    "start_time": "2022-02-03T20:09:24.957Z"
   },
   {
    "duration": -986,
    "start_time": "2022-02-03T20:09:24.961Z"
   },
   {
    "duration": 5363,
    "start_time": "2022-02-03T20:27:23.481Z"
   },
   {
    "duration": 39,
    "start_time": "2022-02-03T20:28:04.782Z"
   },
   {
    "duration": 8,
    "start_time": "2022-02-03T20:28:19.470Z"
   },
   {
    "duration": 21,
    "start_time": "2022-02-03T20:28:21.635Z"
   },
   {
    "duration": 8,
    "start_time": "2022-02-03T20:28:26.024Z"
   },
   {
    "duration": 6,
    "start_time": "2022-02-03T20:28:34.090Z"
   },
   {
    "duration": 6,
    "start_time": "2022-02-03T20:28:36.442Z"
   },
   {
    "duration": 6,
    "start_time": "2022-02-03T20:28:36.981Z"
   },
   {
    "duration": 5287,
    "start_time": "2022-02-03T20:28:37.612Z"
   },
   {
    "duration": 4,
    "start_time": "2022-02-03T20:28:50.723Z"
   },
   {
    "duration": 12,
    "start_time": "2022-02-03T20:28:51.160Z"
   },
   {
    "duration": 6,
    "start_time": "2022-02-03T20:29:09.828Z"
   },
   {
    "duration": 7,
    "start_time": "2022-02-03T20:29:19.037Z"
   },
   {
    "duration": 7,
    "start_time": "2022-02-03T20:29:41.889Z"
   },
   {
    "duration": 10,
    "start_time": "2022-02-03T20:30:33.741Z"
   },
   {
    "duration": 17,
    "start_time": "2022-02-03T20:30:34.217Z"
   },
   {
    "duration": 17,
    "start_time": "2022-02-03T20:30:34.551Z"
   },
   {
    "duration": 4478,
    "start_time": "2022-02-03T20:31:25.065Z"
   },
   {
    "duration": 35,
    "start_time": "2022-02-03T20:31:41.153Z"
   },
   {
    "duration": 253,
    "start_time": "2022-02-03T20:33:09.282Z"
   },
   {
    "duration": 6,
    "start_time": "2022-02-03T20:33:49.906Z"
   },
   {
    "duration": 12,
    "start_time": "2022-02-03T20:33:56.162Z"
   },
   {
    "duration": 14,
    "start_time": "2022-02-03T20:35:12.621Z"
   },
   {
    "duration": 3,
    "start_time": "2022-02-03T20:35:27.334Z"
   },
   {
    "duration": 8,
    "start_time": "2022-02-03T20:35:29.404Z"
   },
   {
    "duration": 29096,
    "start_time": "2022-02-03T20:35:36.440Z"
   },
   {
    "duration": -981,
    "start_time": "2022-02-03T20:36:06.519Z"
   },
   {
    "duration": -964,
    "start_time": "2022-02-03T20:36:32.789Z"
   },
   {
    "duration": 5411,
    "start_time": "2022-02-03T20:36:36.864Z"
   },
   {
    "duration": -1041,
    "start_time": "2022-02-03T20:36:53.573Z"
   },
   {
    "duration": 1260,
    "start_time": "2022-02-03T20:36:57.179Z"
   },
   {
    "duration": 54,
    "start_time": "2022-02-03T20:36:58.441Z"
   },
   {
    "duration": 16,
    "start_time": "2022-02-03T20:36:58.497Z"
   },
   {
    "duration": 19,
    "start_time": "2022-02-03T20:36:58.515Z"
   },
   {
    "duration": 4,
    "start_time": "2022-02-03T20:36:58.536Z"
   },
   {
    "duration": 6,
    "start_time": "2022-02-03T20:36:58.542Z"
   },
   {
    "duration": 7,
    "start_time": "2022-02-03T20:36:58.549Z"
   },
   {
    "duration": 43,
    "start_time": "2022-02-03T20:36:58.559Z"
   },
   {
    "duration": 11,
    "start_time": "2022-02-03T20:36:58.604Z"
   },
   {
    "duration": 8,
    "start_time": "2022-02-03T20:36:58.617Z"
   },
   {
    "duration": 14,
    "start_time": "2022-02-03T20:36:58.626Z"
   },
   {
    "duration": 13,
    "start_time": "2022-02-03T20:36:58.641Z"
   },
   {
    "duration": 6,
    "start_time": "2022-02-03T20:36:58.656Z"
   },
   {
    "duration": 39,
    "start_time": "2022-02-03T20:36:58.663Z"
   },
   {
    "duration": 7,
    "start_time": "2022-02-03T20:36:58.704Z"
   },
   {
    "duration": 8,
    "start_time": "2022-02-03T20:36:58.713Z"
   },
   {
    "duration": 7,
    "start_time": "2022-02-03T20:36:58.722Z"
   },
   {
    "duration": 4,
    "start_time": "2022-02-03T20:36:58.731Z"
   },
   {
    "duration": 4312,
    "start_time": "2022-02-03T20:36:58.737Z"
   },
   {
    "duration": 38,
    "start_time": "2022-02-03T20:37:03.051Z"
   },
   {
    "duration": 31,
    "start_time": "2022-02-03T20:37:03.099Z"
   },
   {
    "duration": 837,
    "start_time": "2022-02-03T20:37:03.132Z"
   },
   {
    "duration": 54,
    "start_time": "2022-02-03T20:37:03.973Z"
   },
   {
    "duration": 6,
    "start_time": "2022-02-03T20:37:04.030Z"
   },
   {
    "duration": 36,
    "start_time": "2022-02-03T20:37:04.037Z"
   },
   {
    "duration": 30,
    "start_time": "2022-02-03T20:37:04.075Z"
   },
   {
    "duration": 777,
    "start_time": "2022-02-03T20:37:04.107Z"
   },
   {
    "duration": 43,
    "start_time": "2022-02-03T20:37:04.886Z"
   },
   {
    "duration": 703,
    "start_time": "2022-02-03T20:37:04.931Z"
   },
   {
    "duration": 169,
    "start_time": "2022-02-03T20:37:05.636Z"
   },
   {
    "duration": 316,
    "start_time": "2022-02-03T20:37:05.807Z"
   },
   {
    "duration": 13,
    "start_time": "2022-02-03T20:37:06.126Z"
   },
   {
    "duration": 304,
    "start_time": "2022-02-03T20:37:06.141Z"
   },
   {
    "duration": 5,
    "start_time": "2022-02-03T20:37:06.447Z"
   },
   {
    "duration": 24,
    "start_time": "2022-02-03T20:37:06.454Z"
   },
   {
    "duration": 27,
    "start_time": "2022-02-03T20:37:06.480Z"
   },
   {
    "duration": 22,
    "start_time": "2022-02-03T20:37:06.509Z"
   },
   {
    "duration": 7,
    "start_time": "2022-02-03T20:37:06.533Z"
   },
   {
    "duration": 17,
    "start_time": "2022-02-03T20:37:06.541Z"
   },
   {
    "duration": 7,
    "start_time": "2022-02-03T20:37:06.560Z"
   },
   {
    "duration": 30,
    "start_time": "2022-02-03T20:37:06.569Z"
   },
   {
    "duration": 10,
    "start_time": "2022-02-03T20:37:06.601Z"
   },
   {
    "duration": 7,
    "start_time": "2022-02-03T20:37:06.613Z"
   },
   {
    "duration": 9,
    "start_time": "2022-02-03T20:37:06.621Z"
   },
   {
    "duration": 8,
    "start_time": "2022-02-03T20:37:06.632Z"
   },
   {
    "duration": 9,
    "start_time": "2022-02-03T20:37:06.642Z"
   },
   {
    "duration": 74,
    "start_time": "2022-02-03T20:37:06.653Z"
   },
   {
    "duration": -959,
    "start_time": "2022-02-03T20:37:07.689Z"
   },
   {
    "duration": -962,
    "start_time": "2022-02-03T20:37:07.693Z"
   },
   {
    "duration": -965,
    "start_time": "2022-02-03T20:37:07.697Z"
   },
   {
    "duration": -968,
    "start_time": "2022-02-03T20:37:07.701Z"
   },
   {
    "duration": -971,
    "start_time": "2022-02-03T20:37:07.705Z"
   },
   {
    "duration": -973,
    "start_time": "2022-02-03T20:37:07.708Z"
   },
   {
    "duration": -977,
    "start_time": "2022-02-03T20:37:07.713Z"
   },
   {
    "duration": -978,
    "start_time": "2022-02-03T20:37:07.716Z"
   },
   {
    "duration": 13,
    "start_time": "2022-02-03T20:37:54.922Z"
   },
   {
    "duration": 4,
    "start_time": "2022-02-03T20:38:10.601Z"
   },
   {
    "duration": 4,
    "start_time": "2022-02-03T20:38:27.558Z"
   },
   {
    "duration": 335,
    "start_time": "2022-02-03T20:38:31.432Z"
   },
   {
    "duration": 2760,
    "start_time": "2022-02-03T20:38:38.863Z"
   },
   {
    "duration": 2788,
    "start_time": "2022-02-03T20:38:58.989Z"
   },
   {
    "duration": 212,
    "start_time": "2022-02-03T20:39:22.688Z"
   },
   {
    "duration": 9,
    "start_time": "2022-02-03T20:39:26.977Z"
   },
   {
    "duration": 4,
    "start_time": "2022-02-03T20:39:27.578Z"
   },
   {
    "duration": 16,
    "start_time": "2022-02-03T20:39:28.337Z"
   },
   {
    "duration": 4,
    "start_time": "2022-02-03T20:39:29.700Z"
   },
   {
    "duration": 17,
    "start_time": "2022-02-03T20:39:32.484Z"
   },
   {
    "duration": 21,
    "start_time": "2022-02-03T20:41:45.977Z"
   },
   {
    "duration": 20,
    "start_time": "2022-02-03T20:42:16.829Z"
   },
   {
    "duration": 249,
    "start_time": "2022-02-03T20:42:54.675Z"
   },
   {
    "duration": 21,
    "start_time": "2022-02-03T20:43:00.746Z"
   },
   {
    "duration": 242,
    "start_time": "2022-02-03T20:43:03.481Z"
   },
   {
    "duration": 373,
    "start_time": "2022-02-03T20:43:16.432Z"
   },
   {
    "duration": 5,
    "start_time": "2022-02-03T20:43:26.551Z"
   },
   {
    "duration": 2747,
    "start_time": "2022-02-03T20:43:43.865Z"
   },
   {
    "duration": -1016,
    "start_time": "2022-02-03T20:43:47.631Z"
   },
   {
    "duration": -1023,
    "start_time": "2022-02-03T20:43:47.639Z"
   },
   {
    "duration": -1028,
    "start_time": "2022-02-03T20:43:47.645Z"
   },
   {
    "duration": 17,
    "start_time": "2022-02-03T20:43:57.541Z"
   },
   {
    "duration": 1204,
    "start_time": "2022-02-03T20:44:07.331Z"
   },
   {
    "duration": 59,
    "start_time": "2022-02-03T20:44:08.537Z"
   },
   {
    "duration": 17,
    "start_time": "2022-02-03T20:44:08.599Z"
   },
   {
    "duration": 28,
    "start_time": "2022-02-03T20:44:08.618Z"
   },
   {
    "duration": 6,
    "start_time": "2022-02-03T20:44:08.648Z"
   },
   {
    "duration": 17,
    "start_time": "2022-02-03T20:44:08.656Z"
   },
   {
    "duration": 12,
    "start_time": "2022-02-03T20:44:08.675Z"
   },
   {
    "duration": 20,
    "start_time": "2022-02-03T20:44:08.690Z"
   },
   {
    "duration": 24,
    "start_time": "2022-02-03T20:44:08.712Z"
   },
   {
    "duration": 11,
    "start_time": "2022-02-03T20:44:08.738Z"
   },
   {
    "duration": 24,
    "start_time": "2022-02-03T20:44:08.751Z"
   },
   {
    "duration": 31,
    "start_time": "2022-02-03T20:44:08.777Z"
   },
   {
    "duration": 34,
    "start_time": "2022-02-03T20:44:08.811Z"
   },
   {
    "duration": 19,
    "start_time": "2022-02-03T20:44:08.847Z"
   },
   {
    "duration": 18,
    "start_time": "2022-02-03T20:44:08.868Z"
   },
   {
    "duration": 8,
    "start_time": "2022-02-03T20:44:08.888Z"
   },
   {
    "duration": 18,
    "start_time": "2022-02-03T20:44:08.898Z"
   },
   {
    "duration": 30,
    "start_time": "2022-02-03T20:44:08.918Z"
   },
   {
    "duration": 4426,
    "start_time": "2022-02-03T20:44:08.949Z"
   },
   {
    "duration": 41,
    "start_time": "2022-02-03T20:44:13.376Z"
   },
   {
    "duration": 29,
    "start_time": "2022-02-03T20:44:13.419Z"
   },
   {
    "duration": 822,
    "start_time": "2022-02-03T20:44:13.450Z"
   },
   {
    "duration": 54,
    "start_time": "2022-02-03T20:44:14.276Z"
   },
   {
    "duration": 6,
    "start_time": "2022-02-03T20:44:14.332Z"
   },
   {
    "duration": 44,
    "start_time": "2022-02-03T20:44:14.340Z"
   },
   {
    "duration": 19,
    "start_time": "2022-02-03T20:44:14.386Z"
   },
   {
    "duration": 755,
    "start_time": "2022-02-03T20:44:14.407Z"
   },
   {
    "duration": 43,
    "start_time": "2022-02-03T20:44:15.164Z"
   },
   {
    "duration": 684,
    "start_time": "2022-02-03T20:44:15.208Z"
   },
   {
    "duration": 139,
    "start_time": "2022-02-03T20:44:15.899Z"
   },
   {
    "duration": 293,
    "start_time": "2022-02-03T20:44:16.040Z"
   },
   {
    "duration": 12,
    "start_time": "2022-02-03T20:44:16.335Z"
   },
   {
    "duration": 315,
    "start_time": "2022-02-03T20:44:16.348Z"
   },
   {
    "duration": 6,
    "start_time": "2022-02-03T20:44:16.665Z"
   },
   {
    "duration": 39,
    "start_time": "2022-02-03T20:44:16.672Z"
   },
   {
    "duration": 12,
    "start_time": "2022-02-03T20:44:16.713Z"
   },
   {
    "duration": 23,
    "start_time": "2022-02-03T20:44:16.728Z"
   },
   {
    "duration": 5,
    "start_time": "2022-02-03T20:44:16.753Z"
   },
   {
    "duration": 15,
    "start_time": "2022-02-03T20:44:16.760Z"
   },
   {
    "duration": 5,
    "start_time": "2022-02-03T20:44:16.799Z"
   },
   {
    "duration": 7,
    "start_time": "2022-02-03T20:44:16.806Z"
   },
   {
    "duration": 17,
    "start_time": "2022-02-03T20:44:16.815Z"
   },
   {
    "duration": 26,
    "start_time": "2022-02-03T20:44:16.834Z"
   },
   {
    "duration": 9,
    "start_time": "2022-02-03T20:44:16.862Z"
   },
   {
    "duration": 26,
    "start_time": "2022-02-03T20:44:16.873Z"
   },
   {
    "duration": 4,
    "start_time": "2022-02-03T20:44:16.901Z"
   },
   {
    "duration": 23,
    "start_time": "2022-02-03T20:44:16.907Z"
   },
   {
    "duration": 5,
    "start_time": "2022-02-03T20:44:16.933Z"
   },
   {
    "duration": 24,
    "start_time": "2022-02-03T20:44:16.940Z"
   },
   {
    "duration": 44,
    "start_time": "2022-02-03T20:44:16.966Z"
   },
   {
    "duration": 24,
    "start_time": "2022-02-03T20:44:17.012Z"
   },
   {
    "duration": 322,
    "start_time": "2022-02-03T20:44:17.038Z"
   },
   {
    "duration": -950,
    "start_time": "2022-02-03T20:44:18.312Z"
   },
   {
    "duration": -957,
    "start_time": "2022-02-03T20:44:18.320Z"
   },
   {
    "duration": -964,
    "start_time": "2022-02-03T20:44:18.328Z"
   },
   {
    "duration": -970,
    "start_time": "2022-02-03T20:44:18.335Z"
   },
   {
    "duration": -976,
    "start_time": "2022-02-03T20:44:18.342Z"
   },
   {
    "duration": -982,
    "start_time": "2022-02-03T20:44:18.349Z"
   },
   {
    "duration": 5459,
    "start_time": "2022-02-03T20:44:59.911Z"
   },
   {
    "duration": 15,
    "start_time": "2022-02-03T20:45:06.172Z"
   },
   {
    "duration": 5387,
    "start_time": "2022-02-03T20:45:10.447Z"
   },
   {
    "duration": 5350,
    "start_time": "2022-02-03T20:45:28.706Z"
   },
   {
    "duration": 5330,
    "start_time": "2022-02-03T20:45:38.662Z"
   },
   {
    "duration": 15,
    "start_time": "2022-02-03T20:45:58.848Z"
   },
   {
    "duration": 6,
    "start_time": "2022-02-03T20:45:59.146Z"
   },
   {
    "duration": 224,
    "start_time": "2022-02-03T20:47:00.026Z"
   },
   {
    "duration": 8,
    "start_time": "2022-02-03T20:47:04.721Z"
   },
   {
    "duration": 7,
    "start_time": "2022-02-03T20:47:07.198Z"
   },
   {
    "duration": 10,
    "start_time": "2022-02-03T20:48:30.529Z"
   },
   {
    "duration": 5245,
    "start_time": "2022-02-03T20:49:36.368Z"
   },
   {
    "duration": 5330,
    "start_time": "2022-02-03T20:49:51.613Z"
   },
   {
    "duration": 5,
    "start_time": "2022-02-03T20:50:24.367Z"
   },
   {
    "duration": 6,
    "start_time": "2022-02-03T20:50:55.166Z"
   },
   {
    "duration": 6,
    "start_time": "2022-02-03T20:51:03.530Z"
   },
   {
    "duration": 6,
    "start_time": "2022-02-03T20:51:24.761Z"
   },
   {
    "duration": 6,
    "start_time": "2022-02-03T20:51:54.254Z"
   },
   {
    "duration": 5,
    "start_time": "2022-02-03T20:58:28.523Z"
   },
   {
    "duration": 15,
    "start_time": "2022-02-03T20:58:28.961Z"
   },
   {
    "duration": 4,
    "start_time": "2022-02-03T20:58:29.374Z"
   },
   {
    "duration": 21,
    "start_time": "2022-02-03T20:58:29.882Z"
   },
   {
    "duration": 15,
    "start_time": "2022-02-03T20:58:30.309Z"
   },
   {
    "duration": 7,
    "start_time": "2022-02-03T20:58:30.722Z"
   },
   {
    "duration": 6,
    "start_time": "2022-02-03T20:58:31.125Z"
   },
   {
    "duration": 7,
    "start_time": "2022-02-03T20:58:31.494Z"
   },
   {
    "duration": 7,
    "start_time": "2022-02-03T20:58:31.959Z"
   },
   {
    "duration": 7,
    "start_time": "2022-02-03T20:58:32.322Z"
   },
   {
    "duration": 83,
    "start_time": "2022-02-03T21:02:02.933Z"
   },
   {
    "duration": 3,
    "start_time": "2022-02-03T21:06:52.431Z"
   },
   {
    "duration": 12,
    "start_time": "2022-02-03T21:16:06.193Z"
   },
   {
    "duration": 20,
    "start_time": "2022-02-03T21:21:37.043Z"
   },
   {
    "duration": 21,
    "start_time": "2022-02-03T21:25:18.294Z"
   },
   {
    "duration": 5,
    "start_time": "2022-02-03T21:25:18.554Z"
   },
   {
    "duration": 16,
    "start_time": "2022-02-03T21:25:19.752Z"
   },
   {
    "duration": 6,
    "start_time": "2022-02-03T21:25:20.006Z"
   },
   {
    "duration": 23,
    "start_time": "2022-02-03T21:25:21.121Z"
   },
   {
    "duration": 16,
    "start_time": "2022-02-03T21:25:23.147Z"
   },
   {
    "duration": 7,
    "start_time": "2022-02-03T21:25:23.428Z"
   },
   {
    "duration": 6,
    "start_time": "2022-02-03T21:25:23.775Z"
   },
   {
    "duration": 8,
    "start_time": "2022-02-03T21:25:26.339Z"
   },
   {
    "duration": 6,
    "start_time": "2022-02-03T21:25:26.588Z"
   },
   {
    "duration": 6,
    "start_time": "2022-02-03T21:25:27.064Z"
   },
   {
    "duration": 10,
    "start_time": "2022-02-03T21:26:41.648Z"
   },
   {
    "duration": 219,
    "start_time": "2022-02-03T21:27:12.198Z"
   },
   {
    "duration": 81,
    "start_time": "2022-02-03T21:27:19.083Z"
   },
   {
    "duration": 24,
    "start_time": "2022-02-03T21:27:36.973Z"
   },
   {
    "duration": 1246,
    "start_time": "2022-02-03T21:27:46.272Z"
   },
   {
    "duration": 54,
    "start_time": "2022-02-03T21:27:47.520Z"
   },
   {
    "duration": 16,
    "start_time": "2022-02-03T21:27:47.578Z"
   },
   {
    "duration": 25,
    "start_time": "2022-02-03T21:27:47.596Z"
   },
   {
    "duration": 5,
    "start_time": "2022-02-03T21:27:47.622Z"
   },
   {
    "duration": 9,
    "start_time": "2022-02-03T21:27:47.629Z"
   },
   {
    "duration": 6,
    "start_time": "2022-02-03T21:27:47.642Z"
   },
   {
    "duration": 10,
    "start_time": "2022-02-03T21:27:47.650Z"
   },
   {
    "duration": 41,
    "start_time": "2022-02-03T21:27:47.663Z"
   },
   {
    "duration": 11,
    "start_time": "2022-02-03T21:27:47.707Z"
   },
   {
    "duration": 15,
    "start_time": "2022-02-03T21:27:47.720Z"
   },
   {
    "duration": 14,
    "start_time": "2022-02-03T21:27:47.737Z"
   },
   {
    "duration": 8,
    "start_time": "2022-02-03T21:27:47.753Z"
   },
   {
    "duration": 8,
    "start_time": "2022-02-03T21:27:47.763Z"
   },
   {
    "duration": 40,
    "start_time": "2022-02-03T21:27:47.773Z"
   },
   {
    "duration": 9,
    "start_time": "2022-02-03T21:27:47.815Z"
   },
   {
    "duration": 10,
    "start_time": "2022-02-03T21:27:47.825Z"
   },
   {
    "duration": 6,
    "start_time": "2022-02-03T21:27:47.837Z"
   },
   {
    "duration": 4359,
    "start_time": "2022-02-03T21:27:47.845Z"
   },
   {
    "duration": 40,
    "start_time": "2022-02-03T21:27:52.206Z"
   },
   {
    "duration": 28,
    "start_time": "2022-02-03T21:27:52.248Z"
   },
   {
    "duration": 856,
    "start_time": "2022-02-03T21:27:52.298Z"
   },
   {
    "duration": 57,
    "start_time": "2022-02-03T21:27:53.157Z"
   },
   {
    "duration": 6,
    "start_time": "2022-02-03T21:27:53.216Z"
   },
   {
    "duration": 34,
    "start_time": "2022-02-03T21:27:53.224Z"
   },
   {
    "duration": 8,
    "start_time": "2022-02-03T21:27:53.260Z"
   },
   {
    "duration": 818,
    "start_time": "2022-02-03T21:27:53.270Z"
   },
   {
    "duration": 49,
    "start_time": "2022-02-03T21:27:54.090Z"
   },
   {
    "duration": 708,
    "start_time": "2022-02-03T21:27:54.142Z"
   },
   {
    "duration": 148,
    "start_time": "2022-02-03T21:27:54.852Z"
   },
   {
    "duration": 327,
    "start_time": "2022-02-03T21:27:55.003Z"
   },
   {
    "duration": 12,
    "start_time": "2022-02-03T21:27:55.332Z"
   },
   {
    "duration": 318,
    "start_time": "2022-02-03T21:27:55.346Z"
   },
   {
    "duration": 6,
    "start_time": "2022-02-03T21:27:55.665Z"
   },
   {
    "duration": 40,
    "start_time": "2022-02-03T21:27:55.674Z"
   },
   {
    "duration": 9,
    "start_time": "2022-02-03T21:27:55.716Z"
   },
   {
    "duration": 23,
    "start_time": "2022-02-03T21:27:55.727Z"
   },
   {
    "duration": 7,
    "start_time": "2022-02-03T21:27:55.751Z"
   },
   {
    "duration": 42,
    "start_time": "2022-02-03T21:27:55.759Z"
   },
   {
    "duration": 8,
    "start_time": "2022-02-03T21:27:55.804Z"
   },
   {
    "duration": 8,
    "start_time": "2022-02-03T21:27:55.814Z"
   },
   {
    "duration": 10,
    "start_time": "2022-02-03T21:27:55.823Z"
   },
   {
    "duration": 7,
    "start_time": "2022-02-03T21:27:55.835Z"
   },
   {
    "duration": 9,
    "start_time": "2022-02-03T21:27:55.844Z"
   },
   {
    "duration": 61,
    "start_time": "2022-02-03T21:27:55.855Z"
   },
   {
    "duration": 5,
    "start_time": "2022-02-03T21:27:55.918Z"
   },
   {
    "duration": 17,
    "start_time": "2022-02-03T21:27:55.924Z"
   },
   {
    "duration": 4,
    "start_time": "2022-02-03T21:27:55.943Z"
   },
   {
    "duration": 26,
    "start_time": "2022-02-03T21:27:55.949Z"
   },
   {
    "duration": 41,
    "start_time": "2022-02-03T21:27:55.976Z"
   },
   {
    "duration": 9,
    "start_time": "2022-02-03T21:27:56.019Z"
   },
   {
    "duration": 13,
    "start_time": "2022-02-03T21:27:56.029Z"
   },
   {
    "duration": 11,
    "start_time": "2022-02-03T21:27:56.043Z"
   },
   {
    "duration": 7,
    "start_time": "2022-02-03T21:27:56.056Z"
   },
   {
    "duration": 6,
    "start_time": "2022-02-03T21:27:56.065Z"
   },
   {
    "duration": 8,
    "start_time": "2022-02-03T21:27:56.102Z"
   },
   {
    "duration": 20,
    "start_time": "2022-02-03T21:28:16.061Z"
   },
   {
    "duration": 4,
    "start_time": "2022-02-03T21:28:16.183Z"
   },
   {
    "duration": 16,
    "start_time": "2022-02-03T21:28:16.463Z"
   },
   {
    "duration": 5,
    "start_time": "2022-02-03T21:28:16.750Z"
   },
   {
    "duration": 25,
    "start_time": "2022-02-03T21:28:17.012Z"
   },
   {
    "duration": 17,
    "start_time": "2022-02-03T21:28:17.282Z"
   },
   {
    "duration": 9,
    "start_time": "2022-02-03T21:28:17.565Z"
   },
   {
    "duration": 6,
    "start_time": "2022-02-03T21:28:17.832Z"
   },
   {
    "duration": 6,
    "start_time": "2022-02-03T21:28:18.136Z"
   },
   {
    "duration": 7,
    "start_time": "2022-02-03T21:28:18.530Z"
   },
   {
    "duration": 6,
    "start_time": "2022-02-03T21:28:18.860Z"
   },
   {
    "duration": 7,
    "start_time": "2022-02-03T21:28:19.191Z"
   },
   {
    "duration": 5,
    "start_time": "2022-02-03T21:28:37.023Z"
   },
   {
    "duration": 5,
    "start_time": "2022-02-03T21:29:13.315Z"
   },
   {
    "duration": 6,
    "start_time": "2022-02-03T21:31:56.523Z"
   },
   {
    "duration": 6,
    "start_time": "2022-02-03T21:32:01.933Z"
   },
   {
    "duration": 6,
    "start_time": "2022-02-03T21:32:25.326Z"
   },
   {
    "duration": 6,
    "start_time": "2022-02-03T21:32:43.537Z"
   },
   {
    "duration": 1290,
    "start_time": "2022-02-03T21:34:18.672Z"
   },
   {
    "duration": 69,
    "start_time": "2022-02-03T21:34:19.967Z"
   },
   {
    "duration": 16,
    "start_time": "2022-02-03T21:34:20.039Z"
   },
   {
    "duration": 20,
    "start_time": "2022-02-03T21:34:20.057Z"
   },
   {
    "duration": 7,
    "start_time": "2022-02-03T21:34:20.079Z"
   },
   {
    "duration": 14,
    "start_time": "2022-02-03T21:34:20.088Z"
   },
   {
    "duration": 31,
    "start_time": "2022-02-03T21:34:20.103Z"
   },
   {
    "duration": 17,
    "start_time": "2022-02-03T21:34:20.137Z"
   },
   {
    "duration": 10,
    "start_time": "2022-02-03T21:34:20.157Z"
   },
   {
    "duration": 8,
    "start_time": "2022-02-03T21:34:20.169Z"
   },
   {
    "duration": 17,
    "start_time": "2022-02-03T21:34:20.179Z"
   },
   {
    "duration": 37,
    "start_time": "2022-02-03T21:34:20.198Z"
   },
   {
    "duration": 5,
    "start_time": "2022-02-03T21:34:20.238Z"
   },
   {
    "duration": 10,
    "start_time": "2022-02-03T21:34:20.245Z"
   },
   {
    "duration": 9,
    "start_time": "2022-02-03T21:34:20.257Z"
   },
   {
    "duration": 7,
    "start_time": "2022-02-03T21:34:20.268Z"
   },
   {
    "duration": 10,
    "start_time": "2022-02-03T21:34:20.277Z"
   },
   {
    "duration": 30,
    "start_time": "2022-02-03T21:34:20.288Z"
   },
   {
    "duration": 4530,
    "start_time": "2022-02-03T21:34:20.321Z"
   },
   {
    "duration": 36,
    "start_time": "2022-02-03T21:34:24.852Z"
   },
   {
    "duration": 36,
    "start_time": "2022-02-03T21:34:24.898Z"
   },
   {
    "duration": 886,
    "start_time": "2022-02-03T21:34:24.936Z"
   },
   {
    "duration": 43,
    "start_time": "2022-02-03T21:34:25.824Z"
   },
   {
    "duration": 5,
    "start_time": "2022-02-03T21:34:25.869Z"
   },
   {
    "duration": 63,
    "start_time": "2022-02-03T21:34:25.876Z"
   },
   {
    "duration": 8,
    "start_time": "2022-02-03T21:34:25.943Z"
   },
   {
    "duration": 851,
    "start_time": "2022-02-03T21:34:25.953Z"
   },
   {
    "duration": 49,
    "start_time": "2022-02-03T21:34:26.811Z"
   },
   {
    "duration": 743,
    "start_time": "2022-02-03T21:34:26.862Z"
   },
   {
    "duration": 156,
    "start_time": "2022-02-03T21:34:27.607Z"
   },
   {
    "duration": 307,
    "start_time": "2022-02-03T21:34:27.765Z"
   },
   {
    "duration": 13,
    "start_time": "2022-02-03T21:34:28.073Z"
   },
   {
    "duration": 374,
    "start_time": "2022-02-03T21:34:28.088Z"
   },
   {
    "duration": 5,
    "start_time": "2022-02-03T21:34:28.464Z"
   },
   {
    "duration": 40,
    "start_time": "2022-02-03T21:34:28.470Z"
   },
   {
    "duration": 15,
    "start_time": "2022-02-03T21:34:28.513Z"
   },
   {
    "duration": 29,
    "start_time": "2022-02-03T21:34:28.531Z"
   },
   {
    "duration": 5,
    "start_time": "2022-02-03T21:34:28.562Z"
   },
   {
    "duration": 35,
    "start_time": "2022-02-03T21:34:28.568Z"
   },
   {
    "duration": 15,
    "start_time": "2022-02-03T21:34:28.605Z"
   },
   {
    "duration": 7,
    "start_time": "2022-02-03T21:34:28.622Z"
   },
   {
    "duration": 11,
    "start_time": "2022-02-03T21:34:28.631Z"
   },
   {
    "duration": 8,
    "start_time": "2022-02-03T21:34:28.644Z"
   },
   {
    "duration": 11,
    "start_time": "2022-02-03T21:34:28.654Z"
   },
   {
    "duration": 54,
    "start_time": "2022-02-03T21:34:28.667Z"
   },
   {
    "duration": 7,
    "start_time": "2022-02-03T21:34:28.724Z"
   },
   {
    "duration": 20,
    "start_time": "2022-02-03T21:34:28.732Z"
   },
   {
    "duration": 5,
    "start_time": "2022-02-03T21:34:28.754Z"
   },
   {
    "duration": 60,
    "start_time": "2022-02-03T21:34:28.760Z"
   },
   {
    "duration": 21,
    "start_time": "2022-02-03T21:34:28.822Z"
   },
   {
    "duration": 15,
    "start_time": "2022-02-03T21:34:28.846Z"
   },
   {
    "duration": 12,
    "start_time": "2022-02-03T21:34:28.863Z"
   },
   {
    "duration": 15,
    "start_time": "2022-02-03T21:34:28.877Z"
   },
   {
    "duration": 31,
    "start_time": "2022-02-03T21:34:28.894Z"
   },
   {
    "duration": 7,
    "start_time": "2022-02-03T21:34:28.927Z"
   },
   {
    "duration": 8,
    "start_time": "2022-02-03T21:34:28.936Z"
   },
   {
    "duration": 1226,
    "start_time": "2022-02-03T21:34:45.253Z"
   },
   {
    "duration": 54,
    "start_time": "2022-02-03T21:34:46.482Z"
   },
   {
    "duration": 17,
    "start_time": "2022-02-03T21:34:46.539Z"
   },
   {
    "duration": 21,
    "start_time": "2022-02-03T21:34:46.558Z"
   },
   {
    "duration": 3,
    "start_time": "2022-02-03T21:34:46.581Z"
   },
   {
    "duration": 17,
    "start_time": "2022-02-03T21:34:46.586Z"
   },
   {
    "duration": 18,
    "start_time": "2022-02-03T21:34:46.606Z"
   },
   {
    "duration": 10,
    "start_time": "2022-02-03T21:34:46.627Z"
   },
   {
    "duration": 9,
    "start_time": "2022-02-03T21:34:46.639Z"
   },
   {
    "duration": 7,
    "start_time": "2022-02-03T21:34:46.650Z"
   },
   {
    "duration": 14,
    "start_time": "2022-02-03T21:34:46.659Z"
   },
   {
    "duration": 32,
    "start_time": "2022-02-03T21:34:46.675Z"
   },
   {
    "duration": 6,
    "start_time": "2022-02-03T21:34:46.709Z"
   },
   {
    "duration": 10,
    "start_time": "2022-02-03T21:34:46.717Z"
   },
   {
    "duration": 5,
    "start_time": "2022-02-03T21:34:46.729Z"
   },
   {
    "duration": 7,
    "start_time": "2022-02-03T21:34:46.736Z"
   },
   {
    "duration": 7,
    "start_time": "2022-02-03T21:34:46.744Z"
   },
   {
    "duration": 9,
    "start_time": "2022-02-03T21:34:46.753Z"
   },
   {
    "duration": 4354,
    "start_time": "2022-02-03T21:34:46.764Z"
   },
   {
    "duration": 35,
    "start_time": "2022-02-03T21:34:51.120Z"
   },
   {
    "duration": 46,
    "start_time": "2022-02-03T21:34:51.156Z"
   },
   {
    "duration": 816,
    "start_time": "2022-02-03T21:34:51.205Z"
   },
   {
    "duration": 42,
    "start_time": "2022-02-03T21:34:52.025Z"
   },
   {
    "duration": 7,
    "start_time": "2022-02-03T21:34:52.069Z"
   },
   {
    "duration": 58,
    "start_time": "2022-02-03T21:34:52.077Z"
   },
   {
    "duration": 8,
    "start_time": "2022-02-03T21:34:52.137Z"
   },
   {
    "duration": 831,
    "start_time": "2022-02-03T21:34:52.148Z"
   },
   {
    "duration": 48,
    "start_time": "2022-02-03T21:34:52.982Z"
   },
   {
    "duration": 707,
    "start_time": "2022-02-03T21:34:53.032Z"
   },
   {
    "duration": 166,
    "start_time": "2022-02-03T21:34:53.741Z"
   },
   {
    "duration": 325,
    "start_time": "2022-02-03T21:34:53.909Z"
   },
   {
    "duration": 13,
    "start_time": "2022-02-03T21:34:54.236Z"
   },
   {
    "duration": 315,
    "start_time": "2022-02-03T21:34:54.250Z"
   },
   {
    "duration": 6,
    "start_time": "2022-02-03T21:34:54.567Z"
   },
   {
    "duration": 37,
    "start_time": "2022-02-03T21:34:54.575Z"
   },
   {
    "duration": 10,
    "start_time": "2022-02-03T21:34:54.614Z"
   },
   {
    "duration": 33,
    "start_time": "2022-02-03T21:34:54.625Z"
   },
   {
    "duration": 11,
    "start_time": "2022-02-03T21:34:54.660Z"
   },
   {
    "duration": 32,
    "start_time": "2022-02-03T21:34:54.672Z"
   },
   {
    "duration": 6,
    "start_time": "2022-02-03T21:34:54.706Z"
   },
   {
    "duration": 9,
    "start_time": "2022-02-03T21:34:54.714Z"
   },
   {
    "duration": 9,
    "start_time": "2022-02-03T21:34:54.725Z"
   },
   {
    "duration": 8,
    "start_time": "2022-02-03T21:34:54.736Z"
   },
   {
    "duration": 8,
    "start_time": "2022-02-03T21:34:54.746Z"
   },
   {
    "duration": 20,
    "start_time": "2022-02-03T21:34:54.755Z"
   },
   {
    "duration": 24,
    "start_time": "2022-02-03T21:34:54.777Z"
   },
   {
    "duration": 31,
    "start_time": "2022-02-03T21:34:54.803Z"
   },
   {
    "duration": 4,
    "start_time": "2022-02-03T21:34:54.836Z"
   },
   {
    "duration": 23,
    "start_time": "2022-02-03T21:34:54.841Z"
   },
   {
    "duration": 36,
    "start_time": "2022-02-03T21:34:54.866Z"
   },
   {
    "duration": 11,
    "start_time": "2022-02-03T21:34:54.904Z"
   },
   {
    "duration": 9,
    "start_time": "2022-02-03T21:34:54.917Z"
   },
   {
    "duration": 8,
    "start_time": "2022-02-03T21:34:54.928Z"
   },
   {
    "duration": 8,
    "start_time": "2022-02-03T21:34:54.937Z"
   },
   {
    "duration": 7,
    "start_time": "2022-02-03T21:34:54.947Z"
   },
   {
    "duration": 11,
    "start_time": "2022-02-03T21:34:54.956Z"
   },
   {
    "duration": 454,
    "start_time": "2022-02-17T21:47:28.122Z"
   },
   {
    "duration": 337,
    "start_time": "2022-02-17T21:47:46.569Z"
   },
   {
    "duration": 1821,
    "start_time": "2022-02-17T21:47:52.304Z"
   },
   {
    "duration": 39,
    "start_time": "2022-02-17T21:48:08.550Z"
   },
   {
    "duration": 29,
    "start_time": "2022-02-17T21:48:10.287Z"
   },
   {
    "duration": 29,
    "start_time": "2022-02-17T21:48:11.156Z"
   },
   {
    "duration": 6,
    "start_time": "2022-02-17T21:48:11.975Z"
   },
   {
    "duration": 4,
    "start_time": "2022-02-17T21:48:13.016Z"
   },
   {
    "duration": 13,
    "start_time": "2022-02-17T21:49:32.543Z"
   },
   {
    "duration": 15,
    "start_time": "2022-02-17T21:49:38.594Z"
   },
   {
    "duration": 22,
    "start_time": "2022-02-17T21:50:12.626Z"
   },
   {
    "duration": 15,
    "start_time": "2022-02-17T21:51:17.917Z"
   },
   {
    "duration": 12,
    "start_time": "2022-02-17T21:51:18.197Z"
   },
   {
    "duration": 10,
    "start_time": "2022-02-17T21:51:51.170Z"
   },
   {
    "duration": 8,
    "start_time": "2022-02-17T21:52:04.690Z"
   },
   {
    "duration": 6,
    "start_time": "2022-02-17T21:52:07.304Z"
   },
   {
    "duration": 8,
    "start_time": "2022-02-17T21:52:08.709Z"
   },
   {
    "duration": 4,
    "start_time": "2022-02-17T21:52:10.893Z"
   },
   {
    "duration": 8,
    "start_time": "2022-02-17T21:53:00.887Z"
   },
   {
    "duration": 8,
    "start_time": "2022-02-17T21:53:02.496Z"
   },
   {
    "duration": 27,
    "start_time": "2022-02-17T21:53:16.132Z"
   },
   {
    "duration": 5,
    "start_time": "2022-02-17T21:53:49.339Z"
   },
   {
    "duration": 8,
    "start_time": "2022-02-17T21:53:49.590Z"
   },
   {
    "duration": 6,
    "start_time": "2022-02-17T21:53:50.337Z"
   },
   {
    "duration": 24,
    "start_time": "2022-02-17T21:53:51.809Z"
   },
   {
    "duration": 4,
    "start_time": "2022-02-17T21:54:01.236Z"
   },
   {
    "duration": 8337,
    "start_time": "2022-02-17T21:54:07.558Z"
   },
   {
    "duration": 8603,
    "start_time": "2022-02-17T21:54:58.131Z"
   },
   {
    "duration": 49,
    "start_time": "2022-02-17T21:55:06.687Z"
   },
   {
    "duration": 7,
    "start_time": "2022-02-17T21:55:10.603Z"
   },
   {
    "duration": 5,
    "start_time": "2022-02-17T21:55:10.915Z"
   },
   {
    "duration": 7,
    "start_time": "2022-02-17T21:55:11.334Z"
   },
   {
    "duration": 9,
    "start_time": "2022-02-17T21:55:11.762Z"
   },
   {
    "duration": 26,
    "start_time": "2022-02-17T21:55:12.100Z"
   },
   {
    "duration": 8191,
    "start_time": "2022-02-17T21:55:12.946Z"
   },
   {
    "duration": 649,
    "start_time": "2022-02-17T21:55:28.476Z"
   },
   {
    "duration": 638,
    "start_time": "2022-02-17T21:56:18.583Z"
   },
   {
    "duration": 9,
    "start_time": "2022-02-17T21:56:19.224Z"
   },
   {
    "duration": 339,
    "start_time": "2022-02-17T21:56:19.236Z"
   },
   {
    "duration": 618,
    "start_time": "2022-02-17T21:56:54.530Z"
   },
   {
    "duration": 646,
    "start_time": "2022-02-17T21:57:01.709Z"
   },
   {
    "duration": 334,
    "start_time": "2022-02-17T21:57:07.819Z"
   },
   {
    "duration": 405,
    "start_time": "2022-02-17T21:58:38.007Z"
   },
   {
    "duration": 336,
    "start_time": "2022-02-17T21:58:42.396Z"
   },
   {
    "duration": 892,
    "start_time": "2022-02-17T21:59:29.740Z"
   },
   {
    "duration": 921,
    "start_time": "2022-02-17T22:00:06.557Z"
   },
   {
    "duration": 329,
    "start_time": "2022-02-17T22:00:09.906Z"
   },
   {
    "duration": 325,
    "start_time": "2022-02-17T22:00:16.115Z"
   },
   {
    "duration": 835,
    "start_time": "2022-02-17T22:00:19.895Z"
   },
   {
    "duration": 906,
    "start_time": "2022-02-17T22:01:20.839Z"
   },
   {
    "duration": 116,
    "start_time": "2022-02-17T22:02:26.220Z"
   },
   {
    "duration": 1144,
    "start_time": "2022-02-17T22:02:29.311Z"
   },
   {
    "duration": 1169,
    "start_time": "2022-02-17T22:03:46.021Z"
   },
   {
    "duration": 1184,
    "start_time": "2022-02-17T22:04:18.889Z"
   },
   {
    "duration": 1187,
    "start_time": "2022-02-17T22:04:37.814Z"
   },
   {
    "duration": 252,
    "start_time": "2022-02-17T22:04:49.678Z"
   },
   {
    "duration": 1512,
    "start_time": "2022-02-17T22:06:42.716Z"
   },
   {
    "duration": 866,
    "start_time": "2022-02-17T22:07:01.048Z"
   },
   {
    "duration": 9,
    "start_time": "2022-02-17T22:09:15.978Z"
   },
   {
    "duration": 382,
    "start_time": "2022-02-17T22:09:16.682Z"
   },
   {
    "duration": 871,
    "start_time": "2022-02-17T22:09:42.416Z"
   },
   {
    "duration": 621,
    "start_time": "2022-02-17T22:09:51.503Z"
   },
   {
    "duration": 737,
    "start_time": "2022-02-17T22:09:57.224Z"
   },
   {
    "duration": 732,
    "start_time": "2022-02-17T22:10:34.560Z"
   },
   {
    "duration": 739,
    "start_time": "2022-02-17T22:10:42.443Z"
   },
   {
    "duration": 1290,
    "start_time": "2022-02-17T22:10:46.171Z"
   },
   {
    "duration": 985,
    "start_time": "2022-02-17T22:10:49.964Z"
   },
   {
    "duration": 7,
    "start_time": "2022-02-17T22:15:57.348Z"
   },
   {
    "duration": 981,
    "start_time": "2022-02-17T22:15:58.043Z"
   },
   {
    "duration": 8083,
    "start_time": "2022-02-17T22:16:13.384Z"
   },
   {
    "duration": 5,
    "start_time": "2022-02-17T22:17:16.590Z"
   },
   {
    "duration": 7,
    "start_time": "2022-02-17T22:17:16.969Z"
   },
   {
    "duration": 1390,
    "start_time": "2022-02-17T22:17:17.735Z"
   },
   {
    "duration": 1055,
    "start_time": "2022-02-17T22:18:00.817Z"
   },
   {
    "duration": 1011,
    "start_time": "2022-02-17T22:18:16.263Z"
   },
   {
    "duration": 1039,
    "start_time": "2022-02-17T22:24:00.711Z"
   },
   {
    "duration": 1014,
    "start_time": "2022-02-17T22:24:06.340Z"
   },
   {
    "duration": 1159,
    "start_time": "2022-02-17T22:24:26.373Z"
   },
   {
    "duration": 1101,
    "start_time": "2022-02-17T22:24:39.049Z"
   },
   {
    "duration": 1112,
    "start_time": "2022-02-17T22:24:44.086Z"
   },
   {
    "duration": 649,
    "start_time": "2022-02-17T22:24:59.488Z"
   },
   {
    "duration": 833,
    "start_time": "2022-02-17T22:25:50.675Z"
   },
   {
    "duration": 839,
    "start_time": "2022-02-17T22:26:19.274Z"
   },
   {
    "duration": 820,
    "start_time": "2022-02-17T22:26:37.191Z"
   },
   {
    "duration": 198,
    "start_time": "2022-02-17T22:27:09.396Z"
   },
   {
    "duration": 822,
    "start_time": "2022-02-17T22:27:21.094Z"
   },
   {
    "duration": 679,
    "start_time": "2022-02-17T22:27:27.625Z"
   },
   {
    "duration": 741,
    "start_time": "2022-02-17T22:27:49.557Z"
   },
   {
    "duration": 714,
    "start_time": "2022-02-17T22:27:57.371Z"
   },
   {
    "duration": 1125,
    "start_time": "2022-02-17T22:30:48.278Z"
   },
   {
    "duration": 730,
    "start_time": "2022-02-17T22:32:15.479Z"
   },
   {
    "duration": 112,
    "start_time": "2022-02-17T22:33:59.782Z"
   },
   {
    "duration": 694,
    "start_time": "2022-02-17T22:34:04.344Z"
   },
   {
    "duration": 12,
    "start_time": "2022-02-17T22:35:03.675Z"
   },
   {
    "duration": 434,
    "start_time": "2022-02-17T22:35:20.231Z"
   },
   {
    "duration": 426,
    "start_time": "2022-02-17T22:35:25.675Z"
   },
   {
    "duration": 700,
    "start_time": "2022-02-17T22:35:36.865Z"
   },
   {
    "duration": 851,
    "start_time": "2022-02-17T22:36:11.873Z"
   },
   {
    "duration": 785,
    "start_time": "2022-02-17T22:36:23.046Z"
   },
   {
    "duration": 745,
    "start_time": "2022-02-17T22:40:23.590Z"
   },
   {
    "duration": 229,
    "start_time": "2022-02-17T22:40:59.846Z"
   },
   {
    "duration": 405,
    "start_time": "2022-02-17T22:41:00.269Z"
   },
   {
    "duration": 715,
    "start_time": "2022-02-17T22:41:14.113Z"
   },
   {
    "duration": 735,
    "start_time": "2022-02-17T22:41:24.418Z"
   },
   {
    "duration": 730,
    "start_time": "2022-02-17T22:42:19.711Z"
   },
   {
    "duration": 679,
    "start_time": "2022-02-17T22:42:37.492Z"
   },
   {
    "duration": 191,
    "start_time": "2022-02-17T22:43:02.816Z"
   },
   {
    "duration": 730,
    "start_time": "2022-02-17T22:43:10.411Z"
   },
   {
    "duration": 18,
    "start_time": "2022-02-17T22:43:16.881Z"
   },
   {
    "duration": 439,
    "start_time": "2022-02-17T22:43:20.853Z"
   },
   {
    "duration": 740,
    "start_time": "2022-02-17T22:43:57.368Z"
   },
   {
    "duration": 4,
    "start_time": "2022-02-17T22:44:35.525Z"
   },
   {
    "duration": 5,
    "start_time": "2022-02-17T22:44:43.000Z"
   },
   {
    "duration": 5,
    "start_time": "2022-02-17T22:45:05.503Z"
   },
   {
    "duration": 8,
    "start_time": "2022-02-17T22:45:08.998Z"
   },
   {
    "duration": 10,
    "start_time": "2022-02-17T22:45:34.089Z"
   },
   {
    "duration": 6,
    "start_time": "2022-02-17T22:47:50.006Z"
   },
   {
    "duration": 13,
    "start_time": "2022-02-17T22:47:51.096Z"
   },
   {
    "duration": 6,
    "start_time": "2022-02-17T22:47:51.341Z"
   },
   {
    "duration": 6,
    "start_time": "2022-02-17T22:47:51.589Z"
   },
   {
    "duration": 7,
    "start_time": "2022-02-17T22:47:51.836Z"
   },
   {
    "duration": 7,
    "start_time": "2022-02-17T22:47:52.096Z"
   },
   {
    "duration": 28,
    "start_time": "2022-02-17T22:47:52.360Z"
   },
   {
    "duration": 619,
    "start_time": "2022-02-17T22:47:52.637Z"
   },
   {
    "duration": 11,
    "start_time": "2022-02-17T22:47:53.261Z"
   },
   {
    "duration": 856,
    "start_time": "2022-02-17T22:47:53.275Z"
   },
   {
    "duration": 9,
    "start_time": "2022-02-17T22:47:54.500Z"
   },
   {
    "duration": 855,
    "start_time": "2022-02-17T22:47:54.754Z"
   },
   {
    "duration": 7,
    "start_time": "2022-02-17T22:47:57.258Z"
   },
   {
    "duration": 17,
    "start_time": "2022-02-17T22:47:57.268Z"
   },
   {
    "duration": 696,
    "start_time": "2022-02-17T22:47:57.288Z"
   },
   {
    "duration": 13,
    "start_time": "2022-02-17T22:47:58.936Z"
   },
   {
    "duration": 750,
    "start_time": "2022-02-17T22:47:59.195Z"
   },
   {
    "duration": 210,
    "start_time": "2022-02-17T22:48:02.358Z"
   },
   {
    "duration": 712,
    "start_time": "2022-02-17T22:48:02.707Z"
   },
   {
    "duration": 18,
    "start_time": "2022-02-17T22:48:03.422Z"
   },
   {
    "duration": 743,
    "start_time": "2022-02-17T22:48:04.366Z"
   },
   {
    "duration": 6,
    "start_time": "2022-02-17T22:48:05.113Z"
   },
   {
    "duration": 7,
    "start_time": "2022-02-17T22:48:05.575Z"
   },
   {
    "duration": 404,
    "start_time": "2022-02-17T22:48:26.692Z"
   },
   {
    "duration": 77,
    "start_time": "2022-02-18T19:11:14.124Z"
   },
   {
    "duration": 1130,
    "start_time": "2022-02-18T19:13:34.584Z"
   },
   {
    "duration": 37,
    "start_time": "2022-02-18T19:13:35.716Z"
   },
   {
    "duration": 18,
    "start_time": "2022-02-18T19:13:35.755Z"
   },
   {
    "duration": 17,
    "start_time": "2022-02-18T19:13:35.775Z"
   },
   {
    "duration": 5,
    "start_time": "2022-02-18T19:13:35.793Z"
   },
   {
    "duration": 4,
    "start_time": "2022-02-18T19:13:35.870Z"
   },
   {
    "duration": 6,
    "start_time": "2022-02-18T19:13:36.094Z"
   },
   {
    "duration": 9,
    "start_time": "2022-02-18T19:14:31.241Z"
   },
   {
    "duration": 6444,
    "start_time": "2022-02-18T19:14:31.504Z"
   },
   {
    "duration": -249,
    "start_time": "2022-02-18T19:14:38.199Z"
   },
   {
    "duration": -257,
    "start_time": "2022-02-18T19:14:38.208Z"
   },
   {
    "duration": -260,
    "start_time": "2022-02-18T19:14:38.211Z"
   },
   {
    "duration": -263,
    "start_time": "2022-02-18T19:14:38.215Z"
   },
   {
    "duration": -266,
    "start_time": "2022-02-18T19:14:38.219Z"
   },
   {
    "duration": 261,
    "start_time": "2022-02-18T19:14:38.174Z"
   },
   {
    "duration": 4,
    "start_time": "2022-02-18T19:14:38.485Z"
   },
   {
    "duration": 7,
    "start_time": "2022-02-18T19:14:39.275Z"
   },
   {
    "duration": 5678,
    "start_time": "2022-02-18T19:15:45.487Z"
   },
   {
    "duration": -251,
    "start_time": "2022-02-18T19:15:51.418Z"
   },
   {
    "duration": -253,
    "start_time": "2022-02-18T19:15:51.422Z"
   },
   {
    "duration": 14,
    "start_time": "2022-02-18T19:16:14.652Z"
   },
   {
    "duration": 217,
    "start_time": "2022-02-18T19:16:16.703Z"
   },
   {
    "duration": 8,
    "start_time": "2022-02-18T19:16:36.737Z"
   },
   {
    "duration": 8,
    "start_time": "2022-02-18T19:16:38.760Z"
   },
   {
    "duration": 12,
    "start_time": "2022-02-18T19:16:40.723Z"
   },
   {
    "duration": 11,
    "start_time": "2022-02-18T19:16:42.051Z"
   },
   {
    "duration": 12,
    "start_time": "2022-02-18T19:16:45.202Z"
   },
   {
    "duration": 5,
    "start_time": "2022-02-18T19:16:45.449Z"
   },
   {
    "duration": 210,
    "start_time": "2022-02-18T19:16:45.714Z"
   },
   {
    "duration": 4,
    "start_time": "2022-02-18T19:16:45.983Z"
   },
   {
    "duration": 6,
    "start_time": "2022-02-18T19:16:46.300Z"
   },
   {
    "duration": 11,
    "start_time": "2022-02-18T19:17:32.896Z"
   },
   {
    "duration": 28,
    "start_time": "2022-02-18T19:17:35.229Z"
   },
   {
    "duration": 12,
    "start_time": "2022-02-18T19:17:35.967Z"
   },
   {
    "duration": 5,
    "start_time": "2022-02-18T19:17:36.678Z"
   },
   {
    "duration": 10,
    "start_time": "2022-02-18T19:17:37.130Z"
   },
   {
    "duration": 5,
    "start_time": "2022-02-18T19:17:37.766Z"
   },
   {
    "duration": 4,
    "start_time": "2022-02-18T19:17:38.179Z"
   },
   {
    "duration": 5,
    "start_time": "2022-02-18T19:17:39.044Z"
   },
   {
    "duration": 4,
    "start_time": "2022-02-18T19:17:39.361Z"
   },
   {
    "duration": 20,
    "start_time": "2022-02-18T19:17:39.613Z"
   },
   {
    "duration": 5611,
    "start_time": "2022-02-18T19:17:40.201Z"
   },
   {
    "duration": -317,
    "start_time": "2022-02-18T19:17:46.131Z"
   },
   {
    "duration": -318,
    "start_time": "2022-02-18T19:17:46.134Z"
   },
   {
    "duration": 305,
    "start_time": "2022-02-18T19:17:49.810Z"
   },
   {
    "duration": 669,
    "start_time": "2022-02-18T19:17:50.426Z"
   },
   {
    "duration": 371,
    "start_time": "2022-02-18T19:18:56.902Z"
   },
   {
    "duration": 8,
    "start_time": "2022-02-18T19:18:59.919Z"
   },
   {
    "duration": 852,
    "start_time": "2022-02-18T19:19:00.519Z"
   },
   {
    "duration": 7,
    "start_time": "2022-02-18T19:19:07.062Z"
   },
   {
    "duration": 542,
    "start_time": "2022-02-18T19:19:09.069Z"
   },
   {
    "duration": 4,
    "start_time": "2022-02-18T19:19:13.023Z"
   },
   {
    "duration": 5,
    "start_time": "2022-02-18T19:19:13.619Z"
   },
   {
    "duration": 464,
    "start_time": "2022-02-18T19:19:14.492Z"
   },
   {
    "duration": 11,
    "start_time": "2022-02-18T19:19:41.611Z"
   },
   {
    "duration": 586,
    "start_time": "2022-02-18T19:19:42.371Z"
   },
   {
    "duration": 429,
    "start_time": "2022-02-18T19:21:49.002Z"
   },
   {
    "duration": 284,
    "start_time": "2022-02-18T19:21:49.625Z"
   },
   {
    "duration": 127,
    "start_time": "2022-02-18T19:22:01.248Z"
   },
   {
    "duration": 522,
    "start_time": "2022-02-18T19:22:36.660Z"
   },
   {
    "duration": 12,
    "start_time": "2022-02-18T19:22:39.532Z"
   },
   {
    "duration": 571,
    "start_time": "2022-02-18T19:22:48.283Z"
   },
   {
    "duration": 551,
    "start_time": "2022-02-18T19:23:12.697Z"
   },
   {
    "duration": 5,
    "start_time": "2022-02-18T19:23:13.250Z"
   },
   {
    "duration": 6,
    "start_time": "2022-02-18T19:23:13.706Z"
   },
   {
    "duration": 556,
    "start_time": "2022-02-18T19:24:06.916Z"
   },
   {
    "duration": 4,
    "start_time": "2022-02-18T19:24:07.474Z"
   },
   {
    "duration": 7,
    "start_time": "2022-02-18T19:24:08.275Z"
   },
   {
    "duration": 230,
    "start_time": "2022-02-18T19:24:09.947Z"
   },
   {
    "duration": 219,
    "start_time": "2022-02-18T19:24:10.610Z"
   },
   {
    "duration": 541,
    "start_time": "2022-02-18T19:25:06.329Z"
   },
   {
    "duration": 8,
    "start_time": "2022-02-18T19:28:13.793Z"
   },
   {
    "duration": 515,
    "start_time": "2022-02-18T19:28:34.369Z"
   },
   {
    "duration": 535,
    "start_time": "2022-02-18T19:29:15.529Z"
   },
   {
    "duration": 13,
    "start_time": "2022-02-18T19:32:55.149Z"
   },
   {
    "duration": 4,
    "start_time": "2022-02-18T19:33:28.221Z"
   },
   {
    "duration": 5,
    "start_time": "2022-02-18T19:33:31.021Z"
   },
   {
    "duration": 3,
    "start_time": "2022-02-18T19:34:01.346Z"
   },
   {
    "duration": 59,
    "start_time": "2022-02-18T19:34:04.540Z"
   },
   {
    "duration": 26,
    "start_time": "2022-02-18T19:34:20.891Z"
   },
   {
    "duration": 71,
    "start_time": "2022-02-18T19:34:43.410Z"
   },
   {
    "duration": 3,
    "start_time": "2022-02-18T19:34:50.629Z"
   },
   {
    "duration": 28,
    "start_time": "2022-02-18T19:34:55.339Z"
   },
   {
    "duration": 31,
    "start_time": "2022-02-18T19:35:09.906Z"
   },
   {
    "duration": 124,
    "start_time": "2022-02-18T19:35:46.590Z"
   },
   {
    "duration": 8,
    "start_time": "2022-02-18T19:36:17.316Z"
   },
   {
    "duration": 228,
    "start_time": "2022-02-18T19:39:00.560Z"
   },
   {
    "duration": 3,
    "start_time": "2022-02-18T19:39:48.198Z"
   },
   {
    "duration": 3,
    "start_time": "2022-02-18T19:39:56.522Z"
   },
   {
    "duration": 1086,
    "start_time": "2022-02-18T19:40:02.936Z"
   },
   {
    "duration": 40,
    "start_time": "2022-02-18T19:40:04.025Z"
   },
   {
    "duration": 19,
    "start_time": "2022-02-18T19:40:04.067Z"
   },
   {
    "duration": 22,
    "start_time": "2022-02-18T19:40:04.089Z"
   },
   {
    "duration": 4,
    "start_time": "2022-02-18T19:40:04.114Z"
   },
   {
    "duration": 8,
    "start_time": "2022-02-18T19:40:04.120Z"
   },
   {
    "duration": 11,
    "start_time": "2022-02-18T19:40:04.130Z"
   },
   {
    "duration": 6,
    "start_time": "2022-02-18T19:40:04.145Z"
   },
   {
    "duration": 18,
    "start_time": "2022-02-18T19:40:04.154Z"
   },
   {
    "duration": 8,
    "start_time": "2022-02-18T19:40:04.174Z"
   },
   {
    "duration": 12,
    "start_time": "2022-02-18T19:40:04.208Z"
   },
   {
    "duration": 14,
    "start_time": "2022-02-18T19:40:04.222Z"
   },
   {
    "duration": 20,
    "start_time": "2022-02-18T19:40:04.238Z"
   },
   {
    "duration": 17,
    "start_time": "2022-02-18T19:40:04.260Z"
   },
   {
    "duration": 5,
    "start_time": "2022-02-18T19:40:04.280Z"
   },
   {
    "duration": 31,
    "start_time": "2022-02-18T19:40:04.286Z"
   },
   {
    "duration": 7,
    "start_time": "2022-02-18T19:40:04.320Z"
   },
   {
    "duration": 16,
    "start_time": "2022-02-18T19:40:04.329Z"
   },
   {
    "duration": 10,
    "start_time": "2022-02-18T19:40:04.347Z"
   },
   {
    "duration": 32,
    "start_time": "2022-02-18T19:40:04.359Z"
   },
   {
    "duration": 427,
    "start_time": "2022-02-18T19:40:04.393Z"
   },
   {
    "duration": 9,
    "start_time": "2022-02-18T19:40:04.822Z"
   },
   {
    "duration": 603,
    "start_time": "2022-02-18T19:40:04.836Z"
   },
   {
    "duration": 421,
    "start_time": "2022-02-18T19:40:05.441Z"
   },
   {
    "duration": 8,
    "start_time": "2022-02-18T19:40:05.864Z"
   },
   {
    "duration": 556,
    "start_time": "2022-02-18T19:40:05.873Z"
   },
   {
    "duration": 5,
    "start_time": "2022-02-18T19:40:06.431Z"
   },
   {
    "duration": 20,
    "start_time": "2022-02-18T19:40:06.438Z"
   },
   {
    "duration": 479,
    "start_time": "2022-02-18T19:40:06.460Z"
   },
   {
    "duration": 10,
    "start_time": "2022-02-18T19:40:06.942Z"
   },
   {
    "duration": 535,
    "start_time": "2022-02-18T19:40:06.954Z"
   },
   {
    "duration": 142,
    "start_time": "2022-02-18T19:40:07.491Z"
   },
   {
    "duration": 495,
    "start_time": "2022-02-18T19:40:07.635Z"
   },
   {
    "duration": 13,
    "start_time": "2022-02-18T19:40:08.132Z"
   },
   {
    "duration": 516,
    "start_time": "2022-02-18T19:40:08.147Z"
   },
   {
    "duration": 4,
    "start_time": "2022-02-18T19:40:08.665Z"
   },
   {
    "duration": 13,
    "start_time": "2022-02-18T19:40:08.671Z"
   },
   {
    "duration": 25,
    "start_time": "2022-02-18T19:40:08.687Z"
   },
   {
    "duration": 2,
    "start_time": "2022-02-18T19:40:08.715Z"
   },
   {
    "duration": 41,
    "start_time": "2022-02-18T19:40:08.719Z"
   },
   {
    "duration": 7,
    "start_time": "2022-02-18T19:40:08.762Z"
   },
   {
    "duration": 56,
    "start_time": "2022-02-18T19:40:08.771Z"
   },
   {
    "duration": 130,
    "start_time": "2022-02-18T19:40:08.829Z"
   },
   {
    "duration": 6,
    "start_time": "2022-02-18T19:40:08.962Z"
   },
   {
    "duration": 19,
    "start_time": "2022-02-18T19:40:08.970Z"
   },
   {
    "duration": 306,
    "start_time": "2022-02-18T19:40:08.991Z"
   },
   {
    "duration": -219,
    "start_time": "2022-02-18T19:40:09.518Z"
   },
   {
    "duration": -223,
    "start_time": "2022-02-18T19:40:09.523Z"
   },
   {
    "duration": -224,
    "start_time": "2022-02-18T19:40:09.526Z"
   },
   {
    "duration": -227,
    "start_time": "2022-02-18T19:40:09.530Z"
   },
   {
    "duration": -229,
    "start_time": "2022-02-18T19:40:09.533Z"
   },
   {
    "duration": -232,
    "start_time": "2022-02-18T19:40:09.537Z"
   },
   {
    "duration": -233,
    "start_time": "2022-02-18T19:40:09.540Z"
   },
   {
    "duration": -235,
    "start_time": "2022-02-18T19:40:09.543Z"
   },
   {
    "duration": -238,
    "start_time": "2022-02-18T19:40:09.547Z"
   },
   {
    "duration": -240,
    "start_time": "2022-02-18T19:40:09.550Z"
   },
   {
    "duration": -243,
    "start_time": "2022-02-18T19:40:09.554Z"
   },
   {
    "duration": -244,
    "start_time": "2022-02-18T19:40:09.557Z"
   },
   {
    "duration": -246,
    "start_time": "2022-02-18T19:40:09.560Z"
   },
   {
    "duration": -248,
    "start_time": "2022-02-18T19:40:09.563Z"
   },
   {
    "duration": 8,
    "start_time": "2022-02-18T19:42:38.251Z"
   },
   {
    "duration": 19,
    "start_time": "2022-02-18T19:42:38.553Z"
   },
   {
    "duration": 3,
    "start_time": "2022-02-18T19:43:09.506Z"
   },
   {
    "duration": 10,
    "start_time": "2022-02-18T20:20:55.742Z"
   },
   {
    "duration": 294,
    "start_time": "2022-02-18T20:20:57.010Z"
   },
   {
    "duration": 9,
    "start_time": "2022-02-18T20:21:12.849Z"
   },
   {
    "duration": 9,
    "start_time": "2022-02-18T20:21:32.963Z"
   },
   {
    "duration": 5,
    "start_time": "2022-02-18T20:21:38.125Z"
   },
   {
    "duration": 248,
    "start_time": "2022-02-18T20:24:24.573Z"
   },
   {
    "duration": 5,
    "start_time": "2022-02-18T20:24:29.884Z"
   },
   {
    "duration": 9,
    "start_time": "2022-02-18T20:24:35.884Z"
   },
   {
    "duration": 7,
    "start_time": "2022-02-18T20:25:27.761Z"
   },
   {
    "duration": 72,
    "start_time": "2022-02-18T20:25:51.728Z"
   },
   {
    "duration": 8,
    "start_time": "2022-02-18T20:28:07.634Z"
   },
   {
    "duration": 10,
    "start_time": "2022-02-18T20:29:18.582Z"
   },
   {
    "duration": 9,
    "start_time": "2022-02-18T20:30:13.648Z"
   },
   {
    "duration": 11,
    "start_time": "2022-02-18T20:30:26.848Z"
   },
   {
    "duration": 8,
    "start_time": "2022-02-18T20:30:48.624Z"
   },
   {
    "duration": 12,
    "start_time": "2022-02-18T20:30:54.815Z"
   },
   {
    "duration": 103,
    "start_time": "2022-02-18T20:30:56.630Z"
   },
   {
    "duration": 11,
    "start_time": "2022-02-18T20:31:55.319Z"
   },
   {
    "duration": 10,
    "start_time": "2022-02-18T20:32:28.214Z"
   },
   {
    "duration": 89,
    "start_time": "2022-02-18T20:34:11.960Z"
   },
   {
    "duration": 1195,
    "start_time": "2022-02-18T20:36:08.482Z"
   },
   {
    "duration": 32,
    "start_time": "2022-02-18T20:36:09.679Z"
   },
   {
    "duration": 31,
    "start_time": "2022-02-18T20:36:09.713Z"
   },
   {
    "duration": 20,
    "start_time": "2022-02-18T20:36:09.746Z"
   },
   {
    "duration": 14,
    "start_time": "2022-02-18T20:36:09.768Z"
   },
   {
    "duration": 15,
    "start_time": "2022-02-18T20:36:09.784Z"
   },
   {
    "duration": 20,
    "start_time": "2022-02-18T20:36:09.801Z"
   },
   {
    "duration": 11,
    "start_time": "2022-02-18T20:36:09.824Z"
   },
   {
    "duration": 31,
    "start_time": "2022-02-18T20:36:09.838Z"
   },
   {
    "duration": 18,
    "start_time": "2022-02-18T20:36:09.871Z"
   },
   {
    "duration": 21,
    "start_time": "2022-02-18T20:36:09.892Z"
   },
   {
    "duration": 27,
    "start_time": "2022-02-18T20:36:09.916Z"
   },
   {
    "duration": 26,
    "start_time": "2022-02-18T20:36:09.945Z"
   },
   {
    "duration": 16,
    "start_time": "2022-02-18T20:36:09.973Z"
   },
   {
    "duration": 19,
    "start_time": "2022-02-18T20:36:09.991Z"
   },
   {
    "duration": 24,
    "start_time": "2022-02-18T20:36:10.012Z"
   },
   {
    "duration": 23,
    "start_time": "2022-02-18T20:36:10.038Z"
   },
   {
    "duration": 25,
    "start_time": "2022-02-18T20:36:10.063Z"
   },
   {
    "duration": 14,
    "start_time": "2022-02-18T20:36:10.090Z"
   },
   {
    "duration": 38,
    "start_time": "2022-02-18T20:36:10.106Z"
   },
   {
    "duration": 436,
    "start_time": "2022-02-18T20:36:10.146Z"
   },
   {
    "duration": 8,
    "start_time": "2022-02-18T20:36:10.584Z"
   },
   {
    "duration": 612,
    "start_time": "2022-02-18T20:36:10.596Z"
   },
   {
    "duration": 430,
    "start_time": "2022-02-18T20:36:11.211Z"
   },
   {
    "duration": 7,
    "start_time": "2022-02-18T20:36:11.643Z"
   },
   {
    "duration": 508,
    "start_time": "2022-02-18T20:36:11.652Z"
   },
   {
    "duration": 5,
    "start_time": "2022-02-18T20:36:12.162Z"
   },
   {
    "duration": 12,
    "start_time": "2022-02-18T20:36:12.168Z"
   },
   {
    "duration": 491,
    "start_time": "2022-02-18T20:36:12.182Z"
   },
   {
    "duration": 9,
    "start_time": "2022-02-18T20:36:12.675Z"
   },
   {
    "duration": 552,
    "start_time": "2022-02-18T20:36:12.686Z"
   },
   {
    "duration": 140,
    "start_time": "2022-02-18T20:36:13.240Z"
   },
   {
    "duration": 533,
    "start_time": "2022-02-18T20:36:13.382Z"
   },
   {
    "duration": 13,
    "start_time": "2022-02-18T20:36:13.917Z"
   },
   {
    "duration": 534,
    "start_time": "2022-02-18T20:36:13.932Z"
   },
   {
    "duration": 4,
    "start_time": "2022-02-18T20:36:14.468Z"
   },
   {
    "duration": 12,
    "start_time": "2022-02-18T20:36:14.473Z"
   },
   {
    "duration": 30,
    "start_time": "2022-02-18T20:36:14.487Z"
   },
   {
    "duration": 10,
    "start_time": "2022-02-18T20:36:14.520Z"
   },
   {
    "duration": 28,
    "start_time": "2022-02-18T20:36:14.532Z"
   },
   {
    "duration": 4,
    "start_time": "2022-02-18T20:36:14.562Z"
   },
   {
    "duration": 53,
    "start_time": "2022-02-18T20:36:14.568Z"
   },
   {
    "duration": 143,
    "start_time": "2022-02-18T20:36:14.623Z"
   },
   {
    "duration": 6,
    "start_time": "2022-02-18T20:36:14.768Z"
   },
   {
    "duration": 10,
    "start_time": "2022-02-18T20:36:14.776Z"
   },
   {
    "duration": 27,
    "start_time": "2022-02-18T20:36:14.788Z"
   },
   {
    "duration": 9,
    "start_time": "2022-02-18T20:36:14.817Z"
   },
   {
    "duration": 9,
    "start_time": "2022-02-18T20:36:14.828Z"
   },
   {
    "duration": 11,
    "start_time": "2022-02-18T20:36:14.839Z"
   },
   {
    "duration": 13,
    "start_time": "2022-02-18T20:36:14.852Z"
   },
   {
    "duration": 11,
    "start_time": "2022-02-18T20:36:14.867Z"
   },
   {
    "duration": 10,
    "start_time": "2022-02-18T20:36:14.907Z"
   },
   {
    "duration": 10,
    "start_time": "2022-02-18T20:43:36.405Z"
   },
   {
    "duration": 5,
    "start_time": "2022-02-18T20:48:18.597Z"
   },
   {
    "duration": 4,
    "start_time": "2022-02-18T20:48:22.013Z"
   },
   {
    "duration": 515,
    "start_time": "2022-02-18T20:48:24.300Z"
   },
   {
    "duration": 5,
    "start_time": "2022-02-18T20:48:37.506Z"
   },
   {
    "duration": 33,
    "start_time": "2022-02-18T20:51:25.168Z"
   },
   {
    "duration": 12,
    "start_time": "2022-02-18T20:51:26.137Z"
   },
   {
    "duration": 5,
    "start_time": "2022-02-18T20:51:26.435Z"
   },
   {
    "duration": 11,
    "start_time": "2022-02-18T20:51:27.054Z"
   },
   {
    "duration": 4,
    "start_time": "2022-02-18T20:51:27.346Z"
   },
   {
    "duration": 5,
    "start_time": "2022-02-18T20:51:27.617Z"
   },
   {
    "duration": 5,
    "start_time": "2022-02-18T20:51:27.857Z"
   },
   {
    "duration": 22,
    "start_time": "2022-02-18T20:51:28.118Z"
   },
   {
    "duration": 393,
    "start_time": "2022-02-18T20:51:29.537Z"
   },
   {
    "duration": 8,
    "start_time": "2022-02-18T20:51:29.934Z"
   },
   {
    "duration": 556,
    "start_time": "2022-02-18T20:51:30.229Z"
   },
   {
    "duration": 495,
    "start_time": "2022-02-18T20:51:32.124Z"
   },
   {
    "duration": 3,
    "start_time": "2022-02-18T20:52:45.610Z"
   },
   {
    "duration": 1163,
    "start_time": "2022-02-18T20:54:18.650Z"
   },
   {
    "duration": 35,
    "start_time": "2022-02-18T20:54:19.816Z"
   },
   {
    "duration": 17,
    "start_time": "2022-02-18T20:54:19.853Z"
   },
   {
    "duration": 4,
    "start_time": "2022-02-18T20:54:19.873Z"
   },
   {
    "duration": 6,
    "start_time": "2022-02-18T20:54:19.879Z"
   },
   {
    "duration": 40,
    "start_time": "2022-02-18T20:54:19.887Z"
   },
   {
    "duration": 14,
    "start_time": "2022-02-18T20:54:19.929Z"
   },
   {
    "duration": 17,
    "start_time": "2022-02-18T20:54:19.947Z"
   },
   {
    "duration": 18,
    "start_time": "2022-02-18T20:54:19.967Z"
   },
   {
    "duration": 19,
    "start_time": "2022-02-18T20:54:19.988Z"
   },
   {
    "duration": 18,
    "start_time": "2022-02-18T20:54:20.009Z"
   },
   {
    "duration": 14,
    "start_time": "2022-02-18T20:54:20.029Z"
   },
   {
    "duration": 23,
    "start_time": "2022-02-18T20:54:20.045Z"
   },
   {
    "duration": 10,
    "start_time": "2022-02-18T20:54:20.071Z"
   },
   {
    "duration": 12,
    "start_time": "2022-02-18T20:54:20.083Z"
   },
   {
    "duration": 14,
    "start_time": "2022-02-18T20:54:20.097Z"
   },
   {
    "duration": 44,
    "start_time": "2022-02-18T20:54:20.114Z"
   },
   {
    "duration": 424,
    "start_time": "2022-02-18T20:54:20.160Z"
   },
   {
    "duration": 8,
    "start_time": "2022-02-18T20:54:20.586Z"
   },
   {
    "duration": 678,
    "start_time": "2022-02-18T20:54:20.596Z"
   },
   {
    "duration": 450,
    "start_time": "2022-02-18T20:54:21.276Z"
   },
   {
    "duration": 7,
    "start_time": "2022-02-18T20:54:21.728Z"
   },
   {
    "duration": 497,
    "start_time": "2022-02-18T20:54:21.741Z"
   },
   {
    "duration": 5,
    "start_time": "2022-02-18T20:54:22.241Z"
   },
   {
    "duration": 10,
    "start_time": "2022-02-18T20:54:22.248Z"
   },
   {
    "duration": 480,
    "start_time": "2022-02-18T20:54:22.260Z"
   },
   {
    "duration": 10,
    "start_time": "2022-02-18T20:54:22.742Z"
   },
   {
    "duration": 559,
    "start_time": "2022-02-18T20:54:22.754Z"
   },
   {
    "duration": 169,
    "start_time": "2022-02-18T20:54:23.315Z"
   },
   {
    "duration": 524,
    "start_time": "2022-02-18T20:54:23.486Z"
   },
   {
    "duration": 13,
    "start_time": "2022-02-18T20:54:24.012Z"
   },
   {
    "duration": 546,
    "start_time": "2022-02-18T20:54:24.028Z"
   },
   {
    "duration": 5,
    "start_time": "2022-02-18T20:54:24.576Z"
   },
   {
    "duration": 26,
    "start_time": "2022-02-18T20:54:24.583Z"
   },
   {
    "duration": 14,
    "start_time": "2022-02-18T20:54:24.611Z"
   },
   {
    "duration": 17,
    "start_time": "2022-02-18T20:54:24.627Z"
   },
   {
    "duration": 31,
    "start_time": "2022-02-18T20:54:24.646Z"
   },
   {
    "duration": 3,
    "start_time": "2022-02-18T20:54:24.679Z"
   },
   {
    "duration": 44,
    "start_time": "2022-02-18T20:54:24.684Z"
   },
   {
    "duration": 182,
    "start_time": "2022-02-18T20:54:24.730Z"
   },
   {
    "duration": 7,
    "start_time": "2022-02-18T20:54:24.915Z"
   },
   {
    "duration": 13,
    "start_time": "2022-02-18T20:54:24.924Z"
   },
   {
    "duration": 16,
    "start_time": "2022-02-18T20:54:24.939Z"
   },
   {
    "duration": 13,
    "start_time": "2022-02-18T20:54:24.957Z"
   },
   {
    "duration": 9,
    "start_time": "2022-02-18T20:54:24.971Z"
   },
   {
    "duration": 30,
    "start_time": "2022-02-18T20:54:24.981Z"
   },
   {
    "duration": 7,
    "start_time": "2022-02-18T20:54:25.014Z"
   },
   {
    "duration": 11,
    "start_time": "2022-02-18T20:54:25.023Z"
   },
   {
    "duration": 22,
    "start_time": "2022-02-18T20:54:25.035Z"
   },
   {
    "duration": 13,
    "start_time": "2022-02-18T21:12:52.329Z"
   },
   {
    "duration": 13,
    "start_time": "2022-02-18T21:19:42.662Z"
   },
   {
    "duration": 20,
    "start_time": "2022-02-18T21:19:52.847Z"
   },
   {
    "duration": 7,
    "start_time": "2022-02-18T21:20:03.040Z"
   },
   {
    "duration": 310,
    "start_time": "2022-02-18T21:20:13.148Z"
   },
   {
    "duration": 248,
    "start_time": "2022-02-18T21:20:20.353Z"
   },
   {
    "duration": 8,
    "start_time": "2022-02-18T21:20:23.927Z"
   },
   {
    "duration": 990,
    "start_time": "2022-02-18T21:21:00.500Z"
   },
   {
    "duration": 9,
    "start_time": "2022-02-18T21:21:08.701Z"
   },
   {
    "duration": 8,
    "start_time": "2022-02-18T21:21:48.218Z"
   },
   {
    "duration": 10,
    "start_time": "2022-02-18T21:21:57.317Z"
   },
   {
    "duration": 7,
    "start_time": "2022-02-18T21:22:07.763Z"
   },
   {
    "duration": 12,
    "start_time": "2022-02-18T21:22:39.990Z"
   },
   {
    "duration": 227,
    "start_time": "2022-02-18T21:22:48.198Z"
   },
   {
    "duration": 15,
    "start_time": "2022-02-18T21:22:56.739Z"
   },
   {
    "duration": 277,
    "start_time": "2022-02-18T21:23:09.217Z"
   },
   {
    "duration": 14,
    "start_time": "2022-02-18T21:23:10.647Z"
   },
   {
    "duration": 217,
    "start_time": "2022-02-18T21:24:12.244Z"
   },
   {
    "duration": 6,
    "start_time": "2022-02-18T21:24:24.280Z"
   },
   {
    "duration": 6,
    "start_time": "2022-02-18T21:24:34.020Z"
   },
   {
    "duration": 5,
    "start_time": "2022-02-18T21:24:36.710Z"
   },
   {
    "duration": 19,
    "start_time": "2022-02-18T21:24:37.972Z"
   },
   {
    "duration": 386,
    "start_time": "2022-02-18T21:24:38.667Z"
   },
   {
    "duration": 9,
    "start_time": "2022-02-18T21:25:30.337Z"
   },
   {
    "duration": 1090,
    "start_time": "2022-02-18T21:25:39.530Z"
   },
   {
    "duration": 38,
    "start_time": "2022-02-18T21:25:40.622Z"
   },
   {
    "duration": 19,
    "start_time": "2022-02-18T21:25:40.662Z"
   },
   {
    "duration": 5,
    "start_time": "2022-02-18T21:25:40.683Z"
   },
   {
    "duration": 5,
    "start_time": "2022-02-18T21:25:40.689Z"
   },
   {
    "duration": 16,
    "start_time": "2022-02-18T21:25:40.696Z"
   },
   {
    "duration": 8,
    "start_time": "2022-02-18T21:25:40.715Z"
   },
   {
    "duration": 11,
    "start_time": "2022-02-18T21:25:40.726Z"
   },
   {
    "duration": 17,
    "start_time": "2022-02-18T21:25:40.740Z"
   },
   {
    "duration": 19,
    "start_time": "2022-02-18T21:25:40.759Z"
   },
   {
    "duration": 34,
    "start_time": "2022-02-18T21:25:40.780Z"
   },
   {
    "duration": 13,
    "start_time": "2022-02-18T21:25:40.816Z"
   },
   {
    "duration": 19,
    "start_time": "2022-02-18T21:25:40.831Z"
   },
   {
    "duration": 8,
    "start_time": "2022-02-18T21:25:40.852Z"
   },
   {
    "duration": 52,
    "start_time": "2022-02-18T21:25:40.863Z"
   },
   {
    "duration": 12,
    "start_time": "2022-02-18T21:25:40.917Z"
   },
   {
    "duration": 14,
    "start_time": "2022-02-18T21:25:40.931Z"
   },
   {
    "duration": 18,
    "start_time": "2022-02-18T21:25:40.947Z"
   },
   {
    "duration": 6,
    "start_time": "2022-02-18T21:25:40.967Z"
   },
   {
    "duration": 9,
    "start_time": "2022-02-18T21:25:40.975Z"
   },
   {
    "duration": 36,
    "start_time": "2022-02-18T21:25:40.986Z"
   },
   {
    "duration": 414,
    "start_time": "2022-02-18T21:25:41.025Z"
   },
   {
    "duration": 8,
    "start_time": "2022-02-18T21:25:41.443Z"
   },
   {
    "duration": 610,
    "start_time": "2022-02-18T21:25:41.454Z"
   },
   {
    "duration": 432,
    "start_time": "2022-02-18T21:25:42.066Z"
   },
   {
    "duration": 12,
    "start_time": "2022-02-18T21:25:42.500Z"
   },
   {
    "duration": 544,
    "start_time": "2022-02-18T21:25:42.515Z"
   },
   {
    "duration": 4,
    "start_time": "2022-02-18T21:25:43.061Z"
   },
   {
    "duration": 12,
    "start_time": "2022-02-18T21:25:43.067Z"
   },
   {
    "duration": 474,
    "start_time": "2022-02-18T21:25:43.081Z"
   },
   {
    "duration": 8,
    "start_time": "2022-02-18T21:25:43.557Z"
   },
   {
    "duration": 580,
    "start_time": "2022-02-18T21:25:43.568Z"
   },
   {
    "duration": 128,
    "start_time": "2022-02-18T21:25:44.150Z"
   },
   {
    "duration": 527,
    "start_time": "2022-02-18T21:25:44.280Z"
   },
   {
    "duration": 12,
    "start_time": "2022-02-18T21:25:44.809Z"
   },
   {
    "duration": 562,
    "start_time": "2022-02-18T21:25:44.822Z"
   },
   {
    "duration": 5,
    "start_time": "2022-02-18T21:25:45.386Z"
   },
   {
    "duration": 17,
    "start_time": "2022-02-18T21:25:45.393Z"
   },
   {
    "duration": 16,
    "start_time": "2022-02-18T21:25:45.413Z"
   },
   {
    "duration": 9,
    "start_time": "2022-02-18T21:25:45.431Z"
   },
   {
    "duration": 39,
    "start_time": "2022-02-18T21:25:45.442Z"
   },
   {
    "duration": 3,
    "start_time": "2022-02-18T21:25:45.483Z"
   },
   {
    "duration": 36,
    "start_time": "2022-02-18T21:25:45.508Z"
   },
   {
    "duration": 153,
    "start_time": "2022-02-18T21:25:45.546Z"
   },
   {
    "duration": 7,
    "start_time": "2022-02-18T21:25:45.707Z"
   },
   {
    "duration": 14,
    "start_time": "2022-02-18T21:25:45.716Z"
   },
   {
    "duration": 13,
    "start_time": "2022-02-18T21:25:45.732Z"
   },
   {
    "duration": 10,
    "start_time": "2022-02-18T21:25:45.748Z"
   },
   {
    "duration": 10,
    "start_time": "2022-02-18T21:25:45.760Z"
   },
   {
    "duration": 41,
    "start_time": "2022-02-18T21:25:45.772Z"
   },
   {
    "duration": 9,
    "start_time": "2022-02-18T21:25:45.816Z"
   },
   {
    "duration": 12,
    "start_time": "2022-02-18T21:25:45.827Z"
   },
   {
    "duration": 12,
    "start_time": "2022-02-18T21:25:45.841Z"
   },
   {
    "duration": 1143,
    "start_time": "2022-02-18T21:26:19.296Z"
   },
   {
    "duration": 34,
    "start_time": "2022-02-18T21:26:20.441Z"
   },
   {
    "duration": 18,
    "start_time": "2022-02-18T21:26:20.477Z"
   },
   {
    "duration": 6,
    "start_time": "2022-02-18T21:26:20.498Z"
   },
   {
    "duration": 7,
    "start_time": "2022-02-18T21:26:20.507Z"
   },
   {
    "duration": 14,
    "start_time": "2022-02-18T21:26:20.516Z"
   },
   {
    "duration": 10,
    "start_time": "2022-02-18T21:26:20.532Z"
   },
   {
    "duration": 18,
    "start_time": "2022-02-18T21:26:20.544Z"
   },
   {
    "duration": 18,
    "start_time": "2022-02-18T21:26:20.565Z"
   },
   {
    "duration": 28,
    "start_time": "2022-02-18T21:26:20.585Z"
   },
   {
    "duration": 13,
    "start_time": "2022-02-18T21:26:20.615Z"
   },
   {
    "duration": 23,
    "start_time": "2022-02-18T21:26:20.629Z"
   },
   {
    "duration": 23,
    "start_time": "2022-02-18T21:26:20.654Z"
   },
   {
    "duration": 28,
    "start_time": "2022-02-18T21:26:20.679Z"
   },
   {
    "duration": 15,
    "start_time": "2022-02-18T21:26:20.710Z"
   },
   {
    "duration": 12,
    "start_time": "2022-02-18T21:26:20.727Z"
   },
   {
    "duration": 11,
    "start_time": "2022-02-18T21:26:20.741Z"
   },
   {
    "duration": 17,
    "start_time": "2022-02-18T21:26:20.755Z"
   },
   {
    "duration": 11,
    "start_time": "2022-02-18T21:26:20.773Z"
   },
   {
    "duration": 25,
    "start_time": "2022-02-18T21:26:20.786Z"
   },
   {
    "duration": 37,
    "start_time": "2022-02-18T21:26:20.814Z"
   },
   {
    "duration": 424,
    "start_time": "2022-02-18T21:26:20.854Z"
   },
   {
    "duration": 8,
    "start_time": "2022-02-18T21:26:21.282Z"
   },
   {
    "duration": 629,
    "start_time": "2022-02-18T21:26:21.292Z"
   },
   {
    "duration": 429,
    "start_time": "2022-02-18T21:26:21.924Z"
   },
   {
    "duration": 7,
    "start_time": "2022-02-18T21:26:22.355Z"
   },
   {
    "duration": 561,
    "start_time": "2022-02-18T21:26:22.364Z"
   },
   {
    "duration": 4,
    "start_time": "2022-02-18T21:26:22.927Z"
   },
   {
    "duration": 11,
    "start_time": "2022-02-18T21:26:22.933Z"
   },
   {
    "duration": 593,
    "start_time": "2022-02-18T21:26:22.946Z"
   },
   {
    "duration": 9,
    "start_time": "2022-02-18T21:26:23.541Z"
   },
   {
    "duration": 549,
    "start_time": "2022-02-18T21:26:23.552Z"
   },
   {
    "duration": 151,
    "start_time": "2022-02-18T21:26:24.104Z"
   },
   {
    "duration": 494,
    "start_time": "2022-02-18T21:26:24.258Z"
   },
   {
    "duration": 13,
    "start_time": "2022-02-18T21:26:24.754Z"
   },
   {
    "duration": 604,
    "start_time": "2022-02-18T21:26:24.769Z"
   },
   {
    "duration": 4,
    "start_time": "2022-02-18T21:26:25.374Z"
   },
   {
    "duration": 8,
    "start_time": "2022-02-18T21:26:25.380Z"
   },
   {
    "duration": 27,
    "start_time": "2022-02-18T21:26:25.390Z"
   },
   {
    "duration": 6,
    "start_time": "2022-02-18T21:26:25.419Z"
   },
   {
    "duration": 26,
    "start_time": "2022-02-18T21:26:25.427Z"
   },
   {
    "duration": 3,
    "start_time": "2022-02-18T21:26:25.455Z"
   },
   {
    "duration": 53,
    "start_time": "2022-02-18T21:26:25.460Z"
   },
   {
    "duration": 148,
    "start_time": "2022-02-18T21:26:25.515Z"
   },
   {
    "duration": 8,
    "start_time": "2022-02-18T21:26:25.665Z"
   },
   {
    "duration": 33,
    "start_time": "2022-02-18T21:26:25.675Z"
   },
   {
    "duration": 12,
    "start_time": "2022-02-18T21:26:25.710Z"
   },
   {
    "duration": 12,
    "start_time": "2022-02-18T21:26:25.724Z"
   },
   {
    "duration": 8,
    "start_time": "2022-02-18T21:26:25.738Z"
   },
   {
    "duration": 15,
    "start_time": "2022-02-18T21:26:25.748Z"
   },
   {
    "duration": 9,
    "start_time": "2022-02-18T21:26:25.765Z"
   },
   {
    "duration": 36,
    "start_time": "2022-02-18T21:26:25.776Z"
   },
   {
    "duration": 10,
    "start_time": "2022-02-18T21:26:25.814Z"
   },
   {
    "duration": 21,
    "start_time": "2022-02-18T21:27:23.841Z"
   },
   {
    "duration": 302,
    "start_time": "2022-02-18T21:28:06.468Z"
   },
   {
    "duration": 21,
    "start_time": "2022-02-18T21:28:53.742Z"
   },
   {
    "duration": 19,
    "start_time": "2022-02-18T21:29:21.937Z"
   },
   {
    "duration": 8,
    "start_time": "2022-02-18T21:30:21.657Z"
   },
   {
    "duration": 10,
    "start_time": "2022-02-18T21:31:30.228Z"
   },
   {
    "duration": 1192,
    "start_time": "2022-02-18T21:31:56.022Z"
   },
   {
    "duration": 32,
    "start_time": "2022-02-18T21:31:57.216Z"
   },
   {
    "duration": 17,
    "start_time": "2022-02-18T21:31:57.250Z"
   },
   {
    "duration": 5,
    "start_time": "2022-02-18T21:31:57.269Z"
   },
   {
    "duration": 11,
    "start_time": "2022-02-18T21:31:57.276Z"
   },
   {
    "duration": 17,
    "start_time": "2022-02-18T21:31:57.289Z"
   },
   {
    "duration": 8,
    "start_time": "2022-02-18T21:31:57.308Z"
   },
   {
    "duration": 13,
    "start_time": "2022-02-18T21:31:57.319Z"
   },
   {
    "duration": 13,
    "start_time": "2022-02-18T21:31:57.334Z"
   },
   {
    "duration": 19,
    "start_time": "2022-02-18T21:31:57.349Z"
   },
   {
    "duration": 37,
    "start_time": "2022-02-18T21:31:57.370Z"
   },
   {
    "duration": 14,
    "start_time": "2022-02-18T21:31:57.409Z"
   },
   {
    "duration": 22,
    "start_time": "2022-02-18T21:31:57.425Z"
   },
   {
    "duration": 9,
    "start_time": "2022-02-18T21:31:57.449Z"
   },
   {
    "duration": 28,
    "start_time": "2022-02-18T21:31:57.460Z"
   },
   {
    "duration": 28,
    "start_time": "2022-02-18T21:31:57.489Z"
   },
   {
    "duration": 9,
    "start_time": "2022-02-18T21:31:57.519Z"
   },
   {
    "duration": 18,
    "start_time": "2022-02-18T21:31:57.530Z"
   },
   {
    "duration": 9,
    "start_time": "2022-02-18T21:31:57.550Z"
   },
   {
    "duration": 10,
    "start_time": "2022-02-18T21:31:57.561Z"
   },
   {
    "duration": 36,
    "start_time": "2022-02-18T21:31:57.573Z"
   },
   {
    "duration": 418,
    "start_time": "2022-02-18T21:31:57.611Z"
   },
   {
    "duration": 9,
    "start_time": "2022-02-18T21:31:58.033Z"
   },
   {
    "duration": 605,
    "start_time": "2022-02-18T21:31:58.045Z"
   },
   {
    "duration": 424,
    "start_time": "2022-02-18T21:31:58.652Z"
   },
   {
    "duration": 8,
    "start_time": "2022-02-18T21:31:59.078Z"
   },
   {
    "duration": 536,
    "start_time": "2022-02-18T21:31:59.088Z"
   },
   {
    "duration": 4,
    "start_time": "2022-02-18T21:31:59.626Z"
   },
   {
    "duration": 8,
    "start_time": "2022-02-18T21:31:59.632Z"
   },
   {
    "duration": 512,
    "start_time": "2022-02-18T21:31:59.643Z"
   },
   {
    "duration": 10,
    "start_time": "2022-02-18T21:32:00.158Z"
   },
   {
    "duration": 579,
    "start_time": "2022-02-18T21:32:00.171Z"
   },
   {
    "duration": 118,
    "start_time": "2022-02-18T21:32:00.753Z"
   },
   {
    "duration": 545,
    "start_time": "2022-02-18T21:32:00.873Z"
   },
   {
    "duration": 15,
    "start_time": "2022-02-18T21:32:01.420Z"
   },
   {
    "duration": 537,
    "start_time": "2022-02-18T21:32:01.436Z"
   },
   {
    "duration": 4,
    "start_time": "2022-02-18T21:32:01.975Z"
   },
   {
    "duration": 28,
    "start_time": "2022-02-18T21:32:01.982Z"
   },
   {
    "duration": 30,
    "start_time": "2022-02-18T21:32:02.012Z"
   },
   {
    "duration": 11,
    "start_time": "2022-02-18T21:32:02.044Z"
   },
   {
    "duration": 51,
    "start_time": "2022-02-18T21:32:02.057Z"
   },
   {
    "duration": 26,
    "start_time": "2022-02-18T21:32:02.110Z"
   },
   {
    "duration": 62,
    "start_time": "2022-02-18T21:32:02.138Z"
   },
   {
    "duration": 130,
    "start_time": "2022-02-18T21:32:02.202Z"
   },
   {
    "duration": 7,
    "start_time": "2022-02-18T21:32:02.334Z"
   },
   {
    "duration": 19,
    "start_time": "2022-02-18T21:32:02.343Z"
   },
   {
    "duration": 37,
    "start_time": "2022-02-18T21:32:02.364Z"
   },
   {
    "duration": 19,
    "start_time": "2022-02-18T21:32:02.403Z"
   },
   {
    "duration": 20,
    "start_time": "2022-02-18T21:32:02.424Z"
   },
   {
    "duration": 17,
    "start_time": "2022-02-18T21:32:02.447Z"
   },
   {
    "duration": 16,
    "start_time": "2022-02-18T21:32:02.466Z"
   },
   {
    "duration": 13,
    "start_time": "2022-02-18T21:32:02.484Z"
   },
   {
    "duration": 14,
    "start_time": "2022-02-18T21:32:02.499Z"
   },
   {
    "duration": 4,
    "start_time": "2022-02-18T21:34:17.372Z"
   },
   {
    "duration": 563,
    "start_time": "2022-02-18T21:34:25.494Z"
   },
   {
    "duration": 419,
    "start_time": "2022-02-18T21:34:36.533Z"
   },
   {
    "duration": 593,
    "start_time": "2022-02-18T21:35:11.185Z"
   },
   {
    "duration": 456,
    "start_time": "2022-02-18T21:36:00.511Z"
   },
   {
    "duration": 439,
    "start_time": "2022-02-18T21:36:11.446Z"
   },
   {
    "duration": 5841,
    "start_time": "2022-02-18T21:36:22.021Z"
   },
   {
    "duration": 8482,
    "start_time": "2022-02-18T21:36:30.596Z"
   },
   {
    "duration": 8,
    "start_time": "2022-02-18T21:36:39.232Z"
   },
   {
    "duration": 527,
    "start_time": "2022-02-18T21:36:39.468Z"
   },
   {
    "duration": 530,
    "start_time": "2022-02-18T21:37:04.780Z"
   },
   {
    "duration": 524,
    "start_time": "2022-02-18T21:37:15.666Z"
   },
   {
    "duration": 525,
    "start_time": "2022-02-18T21:37:32.356Z"
   },
   {
    "duration": 5,
    "start_time": "2022-02-18T21:37:34.105Z"
   },
   {
    "duration": 7,
    "start_time": "2022-02-18T21:37:38.084Z"
   },
   {
    "duration": 6,
    "start_time": "2022-02-18T21:37:54.915Z"
   },
   {
    "duration": 14,
    "start_time": "2022-02-18T21:38:47.007Z"
   },
   {
    "duration": 3,
    "start_time": "2022-02-18T21:38:51.319Z"
   },
   {
    "duration": 28,
    "start_time": "2022-02-18T21:38:55.984Z"
   },
   {
    "duration": 83,
    "start_time": "2022-02-18T21:39:54.612Z"
   },
   {
    "duration": 77,
    "start_time": "2022-02-18T21:40:08.113Z"
   },
   {
    "duration": 72,
    "start_time": "2022-02-18T21:40:13.542Z"
   },
   {
    "duration": 34,
    "start_time": "2022-02-18T21:40:17.764Z"
   },
   {
    "duration": 34,
    "start_time": "2022-02-18T21:40:19.294Z"
   },
   {
    "duration": 136,
    "start_time": "2022-02-18T21:40:21.536Z"
   },
   {
    "duration": 8,
    "start_time": "2022-02-18T21:40:21.807Z"
   },
   {
    "duration": 9,
    "start_time": "2022-02-18T21:44:11.715Z"
   },
   {
    "duration": 11,
    "start_time": "2022-02-18T21:44:31.530Z"
   },
   {
    "duration": 10,
    "start_time": "2022-02-18T21:44:44.882Z"
   },
   {
    "duration": 5,
    "start_time": "2022-02-18T21:44:45.694Z"
   },
   {
    "duration": 8,
    "start_time": "2022-02-18T21:44:46.087Z"
   },
   {
    "duration": 8,
    "start_time": "2022-02-18T21:44:47.348Z"
   },
   {
    "duration": 8,
    "start_time": "2022-02-18T21:45:35.847Z"
   },
   {
    "duration": 6,
    "start_time": "2022-02-18T21:46:00.862Z"
   },
   {
    "duration": 10,
    "start_time": "2022-02-18T21:46:17.319Z"
   },
   {
    "duration": 1150,
    "start_time": "2022-02-18T21:47:26.083Z"
   },
   {
    "duration": 33,
    "start_time": "2022-02-18T21:47:27.235Z"
   },
   {
    "duration": 19,
    "start_time": "2022-02-18T21:47:27.274Z"
   },
   {
    "duration": 43,
    "start_time": "2022-02-18T21:47:27.295Z"
   },
   {
    "duration": 6,
    "start_time": "2022-02-18T21:47:27.341Z"
   },
   {
    "duration": 23,
    "start_time": "2022-02-18T21:47:27.349Z"
   },
   {
    "duration": 9,
    "start_time": "2022-02-18T21:47:27.375Z"
   },
   {
    "duration": 25,
    "start_time": "2022-02-18T21:47:27.387Z"
   },
   {
    "duration": 17,
    "start_time": "2022-02-18T21:47:27.414Z"
   },
   {
    "duration": 20,
    "start_time": "2022-02-18T21:47:27.433Z"
   },
   {
    "duration": 20,
    "start_time": "2022-02-18T21:47:27.455Z"
   },
   {
    "duration": 17,
    "start_time": "2022-02-18T21:47:27.478Z"
   },
   {
    "duration": 29,
    "start_time": "2022-02-18T21:47:27.497Z"
   },
   {
    "duration": 9,
    "start_time": "2022-02-18T21:47:27.528Z"
   },
   {
    "duration": 14,
    "start_time": "2022-02-18T21:47:27.540Z"
   },
   {
    "duration": 14,
    "start_time": "2022-02-18T21:47:27.556Z"
   },
   {
    "duration": 5,
    "start_time": "2022-02-18T21:47:27.608Z"
   },
   {
    "duration": 13,
    "start_time": "2022-02-18T21:47:27.615Z"
   },
   {
    "duration": 9,
    "start_time": "2022-02-18T21:47:27.631Z"
   },
   {
    "duration": 16,
    "start_time": "2022-02-18T21:47:27.642Z"
   },
   {
    "duration": 25,
    "start_time": "2022-02-18T21:47:27.660Z"
   },
   {
    "duration": 416,
    "start_time": "2022-02-18T21:47:27.707Z"
   },
   {
    "duration": 8,
    "start_time": "2022-02-18T21:47:28.126Z"
   },
   {
    "duration": 590,
    "start_time": "2022-02-18T21:47:28.136Z"
   },
   {
    "duration": 450,
    "start_time": "2022-02-18T21:47:28.728Z"
   },
   {
    "duration": 7,
    "start_time": "2022-02-18T21:47:29.180Z"
   },
   {
    "duration": 548,
    "start_time": "2022-02-18T21:47:29.189Z"
   },
   {
    "duration": 4,
    "start_time": "2022-02-18T21:47:29.739Z"
   },
   {
    "duration": 15,
    "start_time": "2022-02-18T21:47:29.745Z"
   },
   {
    "duration": 493,
    "start_time": "2022-02-18T21:47:29.762Z"
   },
   {
    "duration": 9,
    "start_time": "2022-02-18T21:47:30.256Z"
   },
   {
    "duration": 600,
    "start_time": "2022-02-18T21:47:30.267Z"
   },
   {
    "duration": 126,
    "start_time": "2022-02-18T21:47:30.869Z"
   },
   {
    "duration": 559,
    "start_time": "2022-02-18T21:47:30.996Z"
   },
   {
    "duration": 16,
    "start_time": "2022-02-18T21:47:31.557Z"
   },
   {
    "duration": 611,
    "start_time": "2022-02-18T21:47:31.575Z"
   },
   {
    "duration": 4,
    "start_time": "2022-02-18T21:47:32.188Z"
   },
   {
    "duration": 25,
    "start_time": "2022-02-18T21:47:32.194Z"
   },
   {
    "duration": 26,
    "start_time": "2022-02-18T21:47:32.222Z"
   },
   {
    "duration": 35,
    "start_time": "2022-02-18T21:47:32.250Z"
   },
   {
    "duration": 46,
    "start_time": "2022-02-18T21:47:32.287Z"
   },
   {
    "duration": 30,
    "start_time": "2022-02-18T21:47:32.335Z"
   },
   {
    "duration": 144,
    "start_time": "2022-02-18T21:47:32.367Z"
   },
   {
    "duration": 9,
    "start_time": "2022-02-18T21:47:32.513Z"
   },
   {
    "duration": 28,
    "start_time": "2022-02-18T21:47:32.524Z"
   },
   {
    "duration": 44,
    "start_time": "2022-02-18T21:47:32.554Z"
   },
   {
    "duration": 34,
    "start_time": "2022-02-18T21:47:32.600Z"
   },
   {
    "duration": 38,
    "start_time": "2022-02-18T21:47:32.636Z"
   },
   {
    "duration": 28,
    "start_time": "2022-02-18T21:47:32.676Z"
   },
   {
    "duration": 21,
    "start_time": "2022-02-18T21:47:32.706Z"
   },
   {
    "duration": 33,
    "start_time": "2022-02-18T21:47:32.729Z"
   },
   {
    "duration": 22,
    "start_time": "2022-02-18T21:47:32.764Z"
   },
   {
    "duration": 16,
    "start_time": "2022-02-18T21:50:24.834Z"
   },
   {
    "duration": 22,
    "start_time": "2022-02-18T21:50:25.080Z"
   },
   {
    "duration": 10,
    "start_time": "2022-02-18T21:50:25.663Z"
   },
   {
    "duration": 15,
    "start_time": "2022-02-18T21:50:26.150Z"
   },
   {
    "duration": 33,
    "start_time": "2022-02-18T21:50:31.791Z"
   },
   {
    "duration": 1287,
    "start_time": "2022-02-18T21:50:37.428Z"
   },
   {
    "duration": 32,
    "start_time": "2022-02-18T21:50:38.718Z"
   },
   {
    "duration": 19,
    "start_time": "2022-02-18T21:50:38.753Z"
   },
   {
    "duration": 4,
    "start_time": "2022-02-18T21:50:38.774Z"
   },
   {
    "duration": 369,
    "start_time": "2022-02-18T21:50:38.780Z"
   },
   {
    "duration": -219,
    "start_time": "2022-02-18T21:50:39.371Z"
   },
   {
    "duration": -221,
    "start_time": "2022-02-18T21:50:39.374Z"
   },
   {
    "duration": -223,
    "start_time": "2022-02-18T21:50:39.378Z"
   },
   {
    "duration": -257,
    "start_time": "2022-02-18T21:50:39.413Z"
   },
   {
    "duration": -260,
    "start_time": "2022-02-18T21:50:39.417Z"
   },
   {
    "duration": -261,
    "start_time": "2022-02-18T21:50:39.419Z"
   },
   {
    "duration": -264,
    "start_time": "2022-02-18T21:50:39.423Z"
   },
   {
    "duration": -266,
    "start_time": "2022-02-18T21:50:39.426Z"
   },
   {
    "duration": -268,
    "start_time": "2022-02-18T21:50:39.429Z"
   },
   {
    "duration": -271,
    "start_time": "2022-02-18T21:50:39.432Z"
   },
   {
    "duration": -273,
    "start_time": "2022-02-18T21:50:39.435Z"
   },
   {
    "duration": -275,
    "start_time": "2022-02-18T21:50:39.438Z"
   },
   {
    "duration": -277,
    "start_time": "2022-02-18T21:50:39.441Z"
   },
   {
    "duration": -279,
    "start_time": "2022-02-18T21:50:39.444Z"
   },
   {
    "duration": -282,
    "start_time": "2022-02-18T21:50:39.448Z"
   },
   {
    "duration": -329,
    "start_time": "2022-02-18T21:50:39.496Z"
   },
   {
    "duration": -356,
    "start_time": "2022-02-18T21:50:39.524Z"
   },
   {
    "duration": -358,
    "start_time": "2022-02-18T21:50:39.527Z"
   },
   {
    "duration": -360,
    "start_time": "2022-02-18T21:50:39.530Z"
   },
   {
    "duration": -363,
    "start_time": "2022-02-18T21:50:39.534Z"
   },
   {
    "duration": -365,
    "start_time": "2022-02-18T21:50:39.537Z"
   },
   {
    "duration": -367,
    "start_time": "2022-02-18T21:50:39.540Z"
   },
   {
    "duration": -368,
    "start_time": "2022-02-18T21:50:39.543Z"
   },
   {
    "duration": -369,
    "start_time": "2022-02-18T21:50:39.546Z"
   },
   {
    "duration": -371,
    "start_time": "2022-02-18T21:50:39.549Z"
   },
   {
    "duration": -373,
    "start_time": "2022-02-18T21:50:39.552Z"
   },
   {
    "duration": -421,
    "start_time": "2022-02-18T21:50:39.601Z"
   },
   {
    "duration": -423,
    "start_time": "2022-02-18T21:50:39.604Z"
   },
   {
    "duration": -426,
    "start_time": "2022-02-18T21:50:39.608Z"
   },
   {
    "duration": -427,
    "start_time": "2022-02-18T21:50:39.610Z"
   },
   {
    "duration": -430,
    "start_time": "2022-02-18T21:50:39.614Z"
   },
   {
    "duration": -444,
    "start_time": "2022-02-18T21:50:39.630Z"
   },
   {
    "duration": -445,
    "start_time": "2022-02-18T21:50:39.633Z"
   },
   {
    "duration": -446,
    "start_time": "2022-02-18T21:50:39.636Z"
   },
   {
    "duration": -454,
    "start_time": "2022-02-18T21:50:39.645Z"
   },
   {
    "duration": -456,
    "start_time": "2022-02-18T21:50:39.648Z"
   },
   {
    "duration": -459,
    "start_time": "2022-02-18T21:50:39.652Z"
   },
   {
    "duration": -449,
    "start_time": "2022-02-18T21:50:39.656Z"
   },
   {
    "duration": -474,
    "start_time": "2022-02-18T21:50:39.683Z"
   },
   {
    "duration": -476,
    "start_time": "2022-02-18T21:50:39.686Z"
   },
   {
    "duration": -478,
    "start_time": "2022-02-18T21:50:39.690Z"
   },
   {
    "duration": -481,
    "start_time": "2022-02-18T21:50:39.695Z"
   },
   {
    "duration": -483,
    "start_time": "2022-02-18T21:50:39.699Z"
   },
   {
    "duration": -485,
    "start_time": "2022-02-18T21:50:39.702Z"
   },
   {
    "duration": -488,
    "start_time": "2022-02-18T21:50:39.706Z"
   },
   {
    "duration": 1187,
    "start_time": "2022-02-18T21:51:18.723Z"
   },
   {
    "duration": 34,
    "start_time": "2022-02-18T21:51:19.912Z"
   },
   {
    "duration": 18,
    "start_time": "2022-02-18T21:51:19.948Z"
   },
   {
    "duration": 313,
    "start_time": "2022-02-18T21:51:19.968Z"
   },
   {
    "duration": -220,
    "start_time": "2022-02-18T21:51:20.505Z"
   },
   {
    "duration": -221,
    "start_time": "2022-02-18T21:51:20.508Z"
   },
   {
    "duration": -223,
    "start_time": "2022-02-18T21:51:20.511Z"
   },
   {
    "duration": -248,
    "start_time": "2022-02-18T21:51:20.537Z"
   },
   {
    "duration": -255,
    "start_time": "2022-02-18T21:51:20.545Z"
   },
   {
    "duration": -257,
    "start_time": "2022-02-18T21:51:20.548Z"
   },
   {
    "duration": -260,
    "start_time": "2022-02-18T21:51:20.552Z"
   },
   {
    "duration": -263,
    "start_time": "2022-02-18T21:51:20.556Z"
   },
   {
    "duration": -265,
    "start_time": "2022-02-18T21:51:20.559Z"
   },
   {
    "duration": -267,
    "start_time": "2022-02-18T21:51:20.562Z"
   },
   {
    "duration": -271,
    "start_time": "2022-02-18T21:51:20.566Z"
   },
   {
    "duration": -273,
    "start_time": "2022-02-18T21:51:20.569Z"
   },
   {
    "duration": -274,
    "start_time": "2022-02-18T21:51:20.572Z"
   },
   {
    "duration": -277,
    "start_time": "2022-02-18T21:51:20.576Z"
   },
   {
    "duration": -291,
    "start_time": "2022-02-18T21:51:20.591Z"
   },
   {
    "duration": -298,
    "start_time": "2022-02-18T21:51:20.598Z"
   },
   {
    "duration": -300,
    "start_time": "2022-02-18T21:51:20.601Z"
   },
   {
    "duration": -303,
    "start_time": "2022-02-18T21:51:20.605Z"
   },
   {
    "duration": -305,
    "start_time": "2022-02-18T21:51:20.608Z"
   },
   {
    "duration": -323,
    "start_time": "2022-02-18T21:51:20.627Z"
   },
   {
    "duration": -324,
    "start_time": "2022-02-18T21:51:20.630Z"
   },
   {
    "duration": -325,
    "start_time": "2022-02-18T21:51:20.633Z"
   },
   {
    "duration": -328,
    "start_time": "2022-02-18T21:51:20.637Z"
   },
   {
    "duration": -330,
    "start_time": "2022-02-18T21:51:20.640Z"
   },
   {
    "duration": -333,
    "start_time": "2022-02-18T21:51:20.644Z"
   },
   {
    "duration": -335,
    "start_time": "2022-02-18T21:51:20.647Z"
   },
   {
    "duration": -380,
    "start_time": "2022-02-18T21:51:20.693Z"
   },
   {
    "duration": -395,
    "start_time": "2022-02-18T21:51:20.709Z"
   },
   {
    "duration": -396,
    "start_time": "2022-02-18T21:51:20.712Z"
   },
   {
    "duration": -482,
    "start_time": "2022-02-18T21:51:20.799Z"
   },
   {
    "duration": -486,
    "start_time": "2022-02-18T21:51:20.804Z"
   },
   {
    "duration": -490,
    "start_time": "2022-02-18T21:51:20.809Z"
   },
   {
    "duration": -493,
    "start_time": "2022-02-18T21:51:20.813Z"
   },
   {
    "duration": -495,
    "start_time": "2022-02-18T21:51:20.816Z"
   },
   {
    "duration": -498,
    "start_time": "2022-02-18T21:51:20.820Z"
   },
   {
    "duration": -500,
    "start_time": "2022-02-18T21:51:20.823Z"
   },
   {
    "duration": -502,
    "start_time": "2022-02-18T21:51:20.826Z"
   },
   {
    "duration": -505,
    "start_time": "2022-02-18T21:51:20.830Z"
   },
   {
    "duration": -508,
    "start_time": "2022-02-18T21:51:20.834Z"
   },
   {
    "duration": -524,
    "start_time": "2022-02-18T21:51:20.851Z"
   },
   {
    "duration": -526,
    "start_time": "2022-02-18T21:51:20.854Z"
   },
   {
    "duration": -556,
    "start_time": "2022-02-18T21:51:20.886Z"
   },
   {
    "duration": -558,
    "start_time": "2022-02-18T21:51:20.889Z"
   },
   {
    "duration": -564,
    "start_time": "2022-02-18T21:51:20.896Z"
   },
   {
    "duration": -576,
    "start_time": "2022-02-18T21:51:20.909Z"
   },
   {
    "duration": -582,
    "start_time": "2022-02-18T21:51:20.916Z"
   },
   {
    "duration": 1140,
    "start_time": "2022-02-18T21:55:12.974Z"
   },
   {
    "duration": 33,
    "start_time": "2022-02-18T21:55:14.116Z"
   },
   {
    "duration": 20,
    "start_time": "2022-02-18T21:55:14.151Z"
   },
   {
    "duration": 6,
    "start_time": "2022-02-18T21:55:14.173Z"
   },
   {
    "duration": 30,
    "start_time": "2022-02-18T21:55:14.181Z"
   },
   {
    "duration": 20,
    "start_time": "2022-02-18T21:55:14.213Z"
   },
   {
    "duration": 9,
    "start_time": "2022-02-18T21:55:14.235Z"
   },
   {
    "duration": 15,
    "start_time": "2022-02-18T21:55:14.248Z"
   },
   {
    "duration": 3,
    "start_time": "2022-02-18T21:55:14.265Z"
   },
   {
    "duration": 46,
    "start_time": "2022-02-18T21:55:14.270Z"
   },
   {
    "duration": 9,
    "start_time": "2022-02-18T21:55:14.318Z"
   },
   {
    "duration": 13,
    "start_time": "2022-02-18T21:55:14.330Z"
   },
   {
    "duration": 11,
    "start_time": "2022-02-18T21:55:14.345Z"
   },
   {
    "duration": 16,
    "start_time": "2022-02-18T21:55:14.358Z"
   },
   {
    "duration": 34,
    "start_time": "2022-02-18T21:55:14.376Z"
   },
   {
    "duration": 14,
    "start_time": "2022-02-18T21:55:14.412Z"
   },
   {
    "duration": 9,
    "start_time": "2022-02-18T21:55:14.428Z"
   },
   {
    "duration": 11,
    "start_time": "2022-02-18T21:55:14.439Z"
   },
   {
    "duration": 24,
    "start_time": "2022-02-18T21:55:14.452Z"
   },
   {
    "duration": 6123,
    "start_time": "2022-02-18T21:55:14.478Z"
   },
   {
    "duration": -378,
    "start_time": "2022-02-18T21:55:20.982Z"
   },
   {
    "duration": -393,
    "start_time": "2022-02-18T21:55:20.999Z"
   },
   {
    "duration": -403,
    "start_time": "2022-02-18T21:55:21.010Z"
   },
   {
    "duration": -412,
    "start_time": "2022-02-18T21:55:21.020Z"
   },
   {
    "duration": -416,
    "start_time": "2022-02-18T21:55:21.025Z"
   },
   {
    "duration": -420,
    "start_time": "2022-02-18T21:55:21.030Z"
   },
   {
    "duration": -423,
    "start_time": "2022-02-18T21:55:21.034Z"
   },
   {
    "duration": -430,
    "start_time": "2022-02-18T21:55:21.042Z"
   },
   {
    "duration": -435,
    "start_time": "2022-02-18T21:55:21.048Z"
   },
   {
    "duration": -441,
    "start_time": "2022-02-18T21:55:21.055Z"
   },
   {
    "duration": -446,
    "start_time": "2022-02-18T21:55:21.061Z"
   },
   {
    "duration": -452,
    "start_time": "2022-02-18T21:55:21.068Z"
   },
   {
    "duration": -457,
    "start_time": "2022-02-18T21:55:21.074Z"
   },
   {
    "duration": -461,
    "start_time": "2022-02-18T21:55:21.079Z"
   },
   {
    "duration": -467,
    "start_time": "2022-02-18T21:55:21.086Z"
   },
   {
    "duration": -475,
    "start_time": "2022-02-18T21:55:21.095Z"
   },
   {
    "duration": -497,
    "start_time": "2022-02-18T21:55:21.118Z"
   },
   {
    "duration": -503,
    "start_time": "2022-02-18T21:55:21.125Z"
   },
   {
    "duration": -506,
    "start_time": "2022-02-18T21:55:21.130Z"
   },
   {
    "duration": -514,
    "start_time": "2022-02-18T21:55:21.139Z"
   },
   {
    "duration": -521,
    "start_time": "2022-02-18T21:55:21.147Z"
   },
   {
    "duration": -530,
    "start_time": "2022-02-18T21:55:21.157Z"
   },
   {
    "duration": -536,
    "start_time": "2022-02-18T21:55:21.164Z"
   },
   {
    "duration": -547,
    "start_time": "2022-02-18T21:55:21.176Z"
   },
   {
    "duration": -560,
    "start_time": "2022-02-18T21:55:21.190Z"
   },
   {
    "duration": -569,
    "start_time": "2022-02-18T21:55:21.200Z"
   },
   {
    "duration": -575,
    "start_time": "2022-02-18T21:55:21.207Z"
   },
   {
    "duration": -580,
    "start_time": "2022-02-18T21:55:21.213Z"
   },
   {
    "duration": -596,
    "start_time": "2022-02-18T21:55:21.232Z"
   },
   {
    "duration": -601,
    "start_time": "2022-02-18T21:55:21.238Z"
   },
   {
    "duration": 12,
    "start_time": "2022-02-18T21:56:48.377Z"
   },
   {
    "duration": 5,
    "start_time": "2022-02-18T21:56:48.626Z"
   },
   {
    "duration": 19,
    "start_time": "2022-02-18T21:56:48.864Z"
   },
   {
    "duration": 5740,
    "start_time": "2022-02-18T21:56:49.104Z"
   },
   {
    "duration": 36,
    "start_time": "2022-02-18T21:57:56.143Z"
   },
   {
    "duration": 1146,
    "start_time": "2022-02-18T21:58:22.181Z"
   },
   {
    "duration": 37,
    "start_time": "2022-02-18T21:58:23.329Z"
   },
   {
    "duration": 18,
    "start_time": "2022-02-18T21:58:23.368Z"
   },
   {
    "duration": 7,
    "start_time": "2022-02-18T21:58:23.388Z"
   },
   {
    "duration": 46,
    "start_time": "2022-02-18T21:58:23.397Z"
   },
   {
    "duration": 32,
    "start_time": "2022-02-18T21:58:23.445Z"
   },
   {
    "duration": 13,
    "start_time": "2022-02-18T21:58:23.479Z"
   },
   {
    "duration": 19,
    "start_time": "2022-02-18T21:58:23.495Z"
   },
   {
    "duration": 9,
    "start_time": "2022-02-18T21:58:23.517Z"
   },
   {
    "duration": 26,
    "start_time": "2022-02-18T21:58:23.528Z"
   },
   {
    "duration": 22,
    "start_time": "2022-02-18T21:58:23.556Z"
   },
   {
    "duration": 35,
    "start_time": "2022-02-18T21:58:23.580Z"
   },
   {
    "duration": 31,
    "start_time": "2022-02-18T21:58:23.616Z"
   },
   {
    "duration": 25,
    "start_time": "2022-02-18T21:58:23.649Z"
   },
   {
    "duration": 14,
    "start_time": "2022-02-18T21:58:23.677Z"
   },
   {
    "duration": 29,
    "start_time": "2022-02-18T21:58:23.693Z"
   },
   {
    "duration": 27,
    "start_time": "2022-02-18T21:58:23.724Z"
   },
   {
    "duration": 19,
    "start_time": "2022-02-18T21:58:23.753Z"
   },
   {
    "duration": 39,
    "start_time": "2022-02-18T21:58:23.774Z"
   },
   {
    "duration": 432,
    "start_time": "2022-02-18T21:58:23.815Z"
   },
   {
    "duration": 9,
    "start_time": "2022-02-18T21:58:24.248Z"
   },
   {
    "duration": 609,
    "start_time": "2022-02-18T21:58:24.259Z"
   },
   {
    "duration": 455,
    "start_time": "2022-02-18T21:58:24.872Z"
   },
   {
    "duration": 7,
    "start_time": "2022-02-18T21:58:25.329Z"
   },
   {
    "duration": 535,
    "start_time": "2022-02-18T21:58:25.338Z"
   },
   {
    "duration": 4,
    "start_time": "2022-02-18T21:58:25.874Z"
   },
   {
    "duration": 9,
    "start_time": "2022-02-18T21:58:25.880Z"
   },
   {
    "duration": 592,
    "start_time": "2022-02-18T21:58:25.891Z"
   },
   {
    "duration": 11,
    "start_time": "2022-02-18T21:58:26.485Z"
   },
   {
    "duration": 572,
    "start_time": "2022-02-18T21:58:26.508Z"
   },
   {
    "duration": 157,
    "start_time": "2022-02-18T21:58:27.082Z"
   },
   {
    "duration": 515,
    "start_time": "2022-02-18T21:58:27.240Z"
   },
   {
    "duration": 13,
    "start_time": "2022-02-18T21:58:27.757Z"
   },
   {
    "duration": 595,
    "start_time": "2022-02-18T21:58:27.773Z"
   },
   {
    "duration": 3,
    "start_time": "2022-02-18T21:58:28.370Z"
   },
   {
    "duration": 8,
    "start_time": "2022-02-18T21:58:28.375Z"
   },
   {
    "duration": 31,
    "start_time": "2022-02-18T21:58:28.385Z"
   },
   {
    "duration": 3,
    "start_time": "2022-02-18T21:58:28.418Z"
   },
   {
    "duration": 28,
    "start_time": "2022-02-18T21:58:28.423Z"
   },
   {
    "duration": 56,
    "start_time": "2022-02-18T21:58:28.453Z"
   },
   {
    "duration": 149,
    "start_time": "2022-02-18T21:58:28.511Z"
   },
   {
    "duration": 8,
    "start_time": "2022-02-18T21:58:28.662Z"
   },
   {
    "duration": 15,
    "start_time": "2022-02-18T21:58:28.672Z"
   },
   {
    "duration": 26,
    "start_time": "2022-02-18T21:58:28.689Z"
   },
   {
    "duration": 9,
    "start_time": "2022-02-18T21:58:28.718Z"
   },
   {
    "duration": 7,
    "start_time": "2022-02-18T21:58:28.730Z"
   },
   {
    "duration": 14,
    "start_time": "2022-02-18T21:58:28.739Z"
   },
   {
    "duration": 14,
    "start_time": "2022-02-18T21:58:28.755Z"
   },
   {
    "duration": 37,
    "start_time": "2022-02-18T21:58:28.772Z"
   },
   {
    "duration": 11,
    "start_time": "2022-02-18T21:58:28.812Z"
   },
   {
    "duration": 1102,
    "start_time": "2022-02-18T22:01:29.119Z"
   },
   {
    "duration": 39,
    "start_time": "2022-02-18T22:01:30.223Z"
   },
   {
    "duration": 17,
    "start_time": "2022-02-18T22:01:30.265Z"
   },
   {
    "duration": 4,
    "start_time": "2022-02-18T22:01:30.285Z"
   },
   {
    "duration": 24,
    "start_time": "2022-02-18T22:01:30.291Z"
   },
   {
    "duration": 33,
    "start_time": "2022-02-18T22:01:30.316Z"
   },
   {
    "duration": 15,
    "start_time": "2022-02-18T22:01:30.351Z"
   },
   {
    "duration": 21,
    "start_time": "2022-02-18T22:01:30.369Z"
   },
   {
    "duration": 3,
    "start_time": "2022-02-18T22:01:30.392Z"
   },
   {
    "duration": 19,
    "start_time": "2022-02-18T22:01:30.397Z"
   },
   {
    "duration": 8,
    "start_time": "2022-02-18T22:01:30.418Z"
   },
   {
    "duration": 18,
    "start_time": "2022-02-18T22:01:30.428Z"
   },
   {
    "duration": 14,
    "start_time": "2022-02-18T22:01:30.447Z"
   },
   {
    "duration": 13,
    "start_time": "2022-02-18T22:01:30.464Z"
   },
   {
    "duration": 30,
    "start_time": "2022-02-18T22:01:30.479Z"
   },
   {
    "duration": 20,
    "start_time": "2022-02-18T22:01:30.511Z"
   },
   {
    "duration": 30,
    "start_time": "2022-02-18T22:01:30.533Z"
   },
   {
    "duration": 80,
    "start_time": "2022-02-18T22:01:30.565Z"
   },
   {
    "duration": 53,
    "start_time": "2022-02-18T22:01:30.647Z"
   },
   {
    "duration": 516,
    "start_time": "2022-02-18T22:01:30.701Z"
   },
   {
    "duration": 8,
    "start_time": "2022-02-18T22:01:31.219Z"
   },
   {
    "duration": 595,
    "start_time": "2022-02-18T22:01:31.230Z"
   },
   {
    "duration": 455,
    "start_time": "2022-02-18T22:01:31.829Z"
   },
   {
    "duration": 6,
    "start_time": "2022-02-18T22:01:32.287Z"
   },
   {
    "duration": 522,
    "start_time": "2022-02-18T22:01:32.307Z"
   },
   {
    "duration": 5,
    "start_time": "2022-02-18T22:01:32.832Z"
   },
   {
    "duration": 10,
    "start_time": "2022-02-18T22:01:32.839Z"
   },
   {
    "duration": 464,
    "start_time": "2022-02-18T22:01:32.851Z"
   },
   {
    "duration": 11,
    "start_time": "2022-02-18T22:01:33.318Z"
   },
   {
    "duration": 525,
    "start_time": "2022-02-18T22:01:33.331Z"
   },
   {
    "duration": 150,
    "start_time": "2022-02-18T22:01:33.859Z"
   },
   {
    "duration": 513,
    "start_time": "2022-02-18T22:01:34.011Z"
   },
   {
    "duration": 13,
    "start_time": "2022-02-18T22:01:34.526Z"
   },
   {
    "duration": 531,
    "start_time": "2022-02-18T22:01:34.541Z"
   },
   {
    "duration": 4,
    "start_time": "2022-02-18T22:01:35.075Z"
   },
   {
    "duration": 80,
    "start_time": "2022-02-18T22:01:35.081Z"
   },
   {
    "duration": 12,
    "start_time": "2022-02-18T22:01:35.163Z"
   },
   {
    "duration": 13,
    "start_time": "2022-02-18T22:01:35.177Z"
   },
   {
    "duration": 31,
    "start_time": "2022-02-18T22:01:35.192Z"
   },
   {
    "duration": 31,
    "start_time": "2022-02-18T22:01:35.225Z"
   },
   {
    "duration": 152,
    "start_time": "2022-02-18T22:01:35.257Z"
   },
   {
    "duration": 7,
    "start_time": "2022-02-18T22:01:35.411Z"
   },
   {
    "duration": 19,
    "start_time": "2022-02-18T22:01:35.420Z"
   },
   {
    "duration": 12,
    "start_time": "2022-02-18T22:01:35.441Z"
   },
   {
    "duration": 9,
    "start_time": "2022-02-18T22:01:35.455Z"
   },
   {
    "duration": 8,
    "start_time": "2022-02-18T22:01:35.466Z"
   },
   {
    "duration": 36,
    "start_time": "2022-02-18T22:01:35.476Z"
   },
   {
    "duration": 6,
    "start_time": "2022-02-18T22:01:35.514Z"
   },
   {
    "duration": 10,
    "start_time": "2022-02-18T22:01:35.522Z"
   },
   {
    "duration": 11,
    "start_time": "2022-02-18T22:01:35.534Z"
   },
   {
    "duration": 4,
    "start_time": "2022-02-18T22:03:32.136Z"
   },
   {
    "duration": 576,
    "start_time": "2022-02-18T22:03:42.987Z"
   },
   {
    "duration": 555,
    "start_time": "2022-02-18T22:03:55.164Z"
   },
   {
    "duration": 517,
    "start_time": "2022-02-18T22:04:01.610Z"
   },
   {
    "duration": 1100,
    "start_time": "2022-02-18T22:04:17.526Z"
   },
   {
    "duration": 38,
    "start_time": "2022-02-18T22:04:18.628Z"
   },
   {
    "duration": 19,
    "start_time": "2022-02-18T22:04:18.668Z"
   },
   {
    "duration": 5,
    "start_time": "2022-02-18T22:04:18.690Z"
   },
   {
    "duration": 19,
    "start_time": "2022-02-18T22:04:18.697Z"
   },
   {
    "duration": 22,
    "start_time": "2022-02-18T22:04:18.718Z"
   },
   {
    "duration": 9,
    "start_time": "2022-02-18T22:04:18.741Z"
   },
   {
    "duration": 14,
    "start_time": "2022-02-18T22:04:18.753Z"
   },
   {
    "duration": 2,
    "start_time": "2022-02-18T22:04:18.770Z"
   },
   {
    "duration": 13,
    "start_time": "2022-02-18T22:04:18.807Z"
   },
   {
    "duration": 9,
    "start_time": "2022-02-18T22:04:18.822Z"
   },
   {
    "duration": 13,
    "start_time": "2022-02-18T22:04:18.833Z"
   },
   {
    "duration": 16,
    "start_time": "2022-02-18T22:04:18.848Z"
   },
   {
    "duration": 44,
    "start_time": "2022-02-18T22:04:18.866Z"
   },
   {
    "duration": 4,
    "start_time": "2022-02-18T22:04:18.912Z"
   },
   {
    "duration": 16,
    "start_time": "2022-02-18T22:04:18.918Z"
   },
   {
    "duration": 9,
    "start_time": "2022-02-18T22:04:18.936Z"
   },
   {
    "duration": 26,
    "start_time": "2022-02-18T22:04:18.946Z"
   },
   {
    "duration": 434,
    "start_time": "2022-02-18T22:04:18.973Z"
   },
   {
    "duration": 7,
    "start_time": "2022-02-18T22:04:19.409Z"
   },
   {
    "duration": 582,
    "start_time": "2022-02-18T22:04:19.418Z"
   },
   {
    "duration": 471,
    "start_time": "2022-02-18T22:04:20.002Z"
   },
   {
    "duration": 7,
    "start_time": "2022-02-18T22:04:20.477Z"
   },
   {
    "duration": 572,
    "start_time": "2022-02-18T22:04:20.487Z"
   },
   {
    "duration": 4,
    "start_time": "2022-02-18T22:04:21.061Z"
   },
   {
    "duration": 16,
    "start_time": "2022-02-18T22:04:21.067Z"
   },
   {
    "duration": 495,
    "start_time": "2022-02-18T22:04:21.086Z"
   },
   {
    "duration": 9,
    "start_time": "2022-02-18T22:04:21.583Z"
   },
   {
    "duration": 583,
    "start_time": "2022-02-18T22:04:21.594Z"
   },
   {
    "duration": 118,
    "start_time": "2022-02-18T22:04:22.179Z"
   },
   {
    "duration": 540,
    "start_time": "2022-02-18T22:04:22.299Z"
   },
   {
    "duration": 12,
    "start_time": "2022-02-18T22:04:22.841Z"
   },
   {
    "duration": 543,
    "start_time": "2022-02-18T22:04:22.855Z"
   },
   {
    "duration": 4,
    "start_time": "2022-02-18T22:04:23.408Z"
   },
   {
    "duration": 23,
    "start_time": "2022-02-18T22:04:23.414Z"
   },
   {
    "duration": 34,
    "start_time": "2022-02-18T22:04:23.439Z"
   },
   {
    "duration": 23,
    "start_time": "2022-02-18T22:04:23.475Z"
   },
   {
    "duration": 34,
    "start_time": "2022-02-18T22:04:23.501Z"
   },
   {
    "duration": 34,
    "start_time": "2022-02-18T22:04:23.537Z"
   },
   {
    "duration": 149,
    "start_time": "2022-02-18T22:04:23.573Z"
   },
   {
    "duration": 7,
    "start_time": "2022-02-18T22:04:23.724Z"
   },
   {
    "duration": 40,
    "start_time": "2022-02-18T22:04:23.733Z"
   },
   {
    "duration": 32,
    "start_time": "2022-02-18T22:04:23.775Z"
   },
   {
    "duration": 27,
    "start_time": "2022-02-18T22:04:23.809Z"
   },
   {
    "duration": 17,
    "start_time": "2022-02-18T22:04:23.839Z"
   },
   {
    "duration": 27,
    "start_time": "2022-02-18T22:04:23.859Z"
   },
   {
    "duration": 30,
    "start_time": "2022-02-18T22:04:23.888Z"
   },
   {
    "duration": 25,
    "start_time": "2022-02-18T22:04:23.921Z"
   },
   {
    "duration": 18,
    "start_time": "2022-02-18T22:04:23.948Z"
   },
   {
    "duration": 17,
    "start_time": "2022-02-18T22:06:06.895Z"
   },
   {
    "duration": 5824,
    "start_time": "2022-02-18T22:07:12.180Z"
   },
   {
    "duration": 6416,
    "start_time": "2022-02-18T22:07:30.362Z"
   },
   {
    "duration": 5750,
    "start_time": "2022-02-18T22:07:38.941Z"
   },
   {
    "duration": 9,
    "start_time": "2022-02-18T22:08:39.363Z"
   },
   {
    "duration": 8,
    "start_time": "2022-02-18T22:08:45.878Z"
   },
   {
    "duration": 80,
    "start_time": "2022-02-18T22:09:26.219Z"
   },
   {
    "duration": 238,
    "start_time": "2022-02-18T22:10:06.918Z"
   },
   {
    "duration": 6,
    "start_time": "2022-02-18T22:10:10.779Z"
   },
   {
    "duration": 9,
    "start_time": "2022-02-18T22:10:23.400Z"
   },
   {
    "duration": 237,
    "start_time": "2022-02-18T22:10:38.010Z"
   },
   {
    "duration": 9,
    "start_time": "2022-02-18T22:10:55.351Z"
   },
   {
    "duration": 13,
    "start_time": "2022-02-18T22:11:08.476Z"
   },
   {
    "duration": 10,
    "start_time": "2022-02-18T22:11:15.014Z"
   },
   {
    "duration": 9,
    "start_time": "2022-02-18T22:11:23.688Z"
   },
   {
    "duration": 16,
    "start_time": "2022-02-18T22:11:27.394Z"
   },
   {
    "duration": 13,
    "start_time": "2022-02-18T22:11:48.236Z"
   },
   {
    "duration": 365,
    "start_time": "2022-02-18T22:12:10.923Z"
   },
   {
    "duration": 20,
    "start_time": "2022-02-18T22:12:24.612Z"
   },
   {
    "duration": 12,
    "start_time": "2022-02-18T22:13:40.670Z"
   },
   {
    "duration": 13,
    "start_time": "2022-02-18T22:13:51.005Z"
   },
   {
    "duration": 12,
    "start_time": "2022-02-18T22:13:58.780Z"
   },
   {
    "duration": 12,
    "start_time": "2022-02-18T22:14:21.462Z"
   },
   {
    "duration": 2,
    "start_time": "2022-02-18T22:14:36.171Z"
   },
   {
    "duration": 3,
    "start_time": "2022-02-18T22:14:39.962Z"
   },
   {
    "duration": 1242,
    "start_time": "2022-02-18T22:14:50.373Z"
   },
   {
    "duration": 38,
    "start_time": "2022-02-18T22:14:51.617Z"
   },
   {
    "duration": 28,
    "start_time": "2022-02-18T22:14:51.658Z"
   },
   {
    "duration": 17,
    "start_time": "2022-02-18T22:14:51.688Z"
   },
   {
    "duration": 15,
    "start_time": "2022-02-18T22:14:51.707Z"
   },
   {
    "duration": 25,
    "start_time": "2022-02-18T22:14:51.724Z"
   },
   {
    "duration": 20,
    "start_time": "2022-02-18T22:14:51.751Z"
   },
   {
    "duration": 9,
    "start_time": "2022-02-18T22:14:51.774Z"
   },
   {
    "duration": 34,
    "start_time": "2022-02-18T22:14:51.785Z"
   },
   {
    "duration": 3,
    "start_time": "2022-02-18T22:14:51.821Z"
   },
   {
    "duration": 10,
    "start_time": "2022-02-18T22:14:51.825Z"
   },
   {
    "duration": 12,
    "start_time": "2022-02-18T22:14:51.837Z"
   },
   {
    "duration": 21,
    "start_time": "2022-02-18T22:14:51.851Z"
   },
   {
    "duration": 15,
    "start_time": "2022-02-18T22:14:51.874Z"
   },
   {
    "duration": 19,
    "start_time": "2022-02-18T22:14:51.891Z"
   },
   {
    "duration": 17,
    "start_time": "2022-02-18T22:14:51.911Z"
   },
   {
    "duration": 18,
    "start_time": "2022-02-18T22:14:51.930Z"
   },
   {
    "duration": 10,
    "start_time": "2022-02-18T22:14:51.950Z"
   },
   {
    "duration": 21,
    "start_time": "2022-02-18T22:14:51.962Z"
   },
   {
    "duration": 12,
    "start_time": "2022-02-18T22:14:51.985Z"
   },
   {
    "duration": 26,
    "start_time": "2022-02-18T22:14:51.999Z"
   },
   {
    "duration": 412,
    "start_time": "2022-02-18T22:14:52.027Z"
   },
   {
    "duration": 9,
    "start_time": "2022-02-18T22:14:52.443Z"
   },
   {
    "duration": 586,
    "start_time": "2022-02-18T22:14:52.454Z"
   },
   {
    "duration": 555,
    "start_time": "2022-02-18T22:14:53.043Z"
   },
   {
    "duration": 9,
    "start_time": "2022-02-18T22:14:53.601Z"
   },
   {
    "duration": 534,
    "start_time": "2022-02-18T22:14:53.612Z"
   },
   {
    "duration": 4,
    "start_time": "2022-02-18T22:14:54.148Z"
   },
   {
    "duration": 12,
    "start_time": "2022-02-18T22:14:54.154Z"
   },
   {
    "duration": 483,
    "start_time": "2022-02-18T22:14:54.167Z"
   },
   {
    "duration": 9,
    "start_time": "2022-02-18T22:14:54.652Z"
   },
   {
    "duration": 578,
    "start_time": "2022-02-18T22:14:54.663Z"
   },
   {
    "duration": 128,
    "start_time": "2022-02-18T22:14:55.244Z"
   },
   {
    "duration": 535,
    "start_time": "2022-02-18T22:14:55.374Z"
   },
   {
    "duration": 12,
    "start_time": "2022-02-18T22:14:55.912Z"
   },
   {
    "duration": 559,
    "start_time": "2022-02-18T22:14:55.927Z"
   },
   {
    "duration": 4,
    "start_time": "2022-02-18T22:14:56.489Z"
   },
   {
    "duration": 17,
    "start_time": "2022-02-18T22:14:56.495Z"
   },
   {
    "duration": 40,
    "start_time": "2022-02-18T22:14:56.515Z"
   },
   {
    "duration": 8,
    "start_time": "2022-02-18T22:14:56.557Z"
   },
   {
    "duration": 35,
    "start_time": "2022-02-18T22:14:56.567Z"
   },
   {
    "duration": 32,
    "start_time": "2022-02-18T22:14:56.604Z"
   },
   {
    "duration": 141,
    "start_time": "2022-02-18T22:14:56.638Z"
   },
   {
    "duration": 6,
    "start_time": "2022-02-18T22:14:56.782Z"
   },
   {
    "duration": 22,
    "start_time": "2022-02-18T22:14:56.790Z"
   },
   {
    "duration": 12,
    "start_time": "2022-02-18T22:14:56.814Z"
   },
   {
    "duration": 9,
    "start_time": "2022-02-18T22:14:56.829Z"
   },
   {
    "duration": 15,
    "start_time": "2022-02-18T22:14:56.840Z"
   },
   {
    "duration": 12,
    "start_time": "2022-02-18T22:14:56.857Z"
   },
   {
    "duration": 16,
    "start_time": "2022-02-18T22:14:56.871Z"
   },
   {
    "duration": 26,
    "start_time": "2022-02-18T22:14:56.889Z"
   },
   {
    "duration": 12,
    "start_time": "2022-02-18T22:14:56.917Z"
   },
   {
    "duration": 1430,
    "start_time": "2022-02-19T10:18:27.770Z"
   },
   {
    "duration": 48,
    "start_time": "2022-02-19T10:18:29.204Z"
   },
   {
    "duration": 15,
    "start_time": "2022-02-19T10:18:29.255Z"
   },
   {
    "duration": 25,
    "start_time": "2022-02-19T10:18:29.273Z"
   },
   {
    "duration": 18,
    "start_time": "2022-02-19T10:18:29.300Z"
   },
   {
    "duration": 26,
    "start_time": "2022-02-19T10:18:29.321Z"
   },
   {
    "duration": 34,
    "start_time": "2022-02-19T10:18:29.349Z"
   },
   {
    "duration": 13,
    "start_time": "2022-02-19T10:18:29.388Z"
   },
   {
    "duration": 25,
    "start_time": "2022-02-19T10:18:29.404Z"
   },
   {
    "duration": 3,
    "start_time": "2022-02-19T10:18:29.431Z"
   },
   {
    "duration": 8,
    "start_time": "2022-02-19T10:18:29.436Z"
   },
   {
    "duration": 6,
    "start_time": "2022-02-19T10:18:29.447Z"
   },
   {
    "duration": 46,
    "start_time": "2022-02-19T10:18:29.456Z"
   },
   {
    "duration": 11,
    "start_time": "2022-02-19T10:18:29.505Z"
   },
   {
    "duration": 25,
    "start_time": "2022-02-19T10:18:29.519Z"
   },
   {
    "duration": 20,
    "start_time": "2022-02-19T10:18:29.547Z"
   },
   {
    "duration": 17,
    "start_time": "2022-02-19T10:18:29.594Z"
   },
   {
    "duration": 10,
    "start_time": "2022-02-19T10:18:29.614Z"
   },
   {
    "duration": 28,
    "start_time": "2022-02-19T10:18:29.626Z"
   },
   {
    "duration": 8,
    "start_time": "2022-02-19T10:18:29.657Z"
   },
   {
    "duration": 44,
    "start_time": "2022-02-19T10:18:29.667Z"
   },
   {
    "duration": 630,
    "start_time": "2022-02-19T10:18:29.713Z"
   },
   {
    "duration": 11,
    "start_time": "2022-02-19T10:18:30.348Z"
   },
   {
    "duration": 867,
    "start_time": "2022-02-19T10:18:30.362Z"
   },
   {
    "duration": 677,
    "start_time": "2022-02-19T10:18:31.232Z"
   },
   {
    "duration": 10,
    "start_time": "2022-02-19T10:18:31.912Z"
   },
   {
    "duration": 721,
    "start_time": "2022-02-19T10:18:31.924Z"
   },
   {
    "duration": 5,
    "start_time": "2022-02-19T10:18:32.648Z"
   },
   {
    "duration": 10,
    "start_time": "2022-02-19T10:18:32.655Z"
   },
   {
    "duration": 712,
    "start_time": "2022-02-19T10:18:32.667Z"
   },
   {
    "duration": 24,
    "start_time": "2022-02-19T10:18:33.381Z"
   },
   {
    "duration": 746,
    "start_time": "2022-02-19T10:18:33.407Z"
   },
   {
    "duration": 224,
    "start_time": "2022-02-19T10:18:34.155Z"
   },
   {
    "duration": 711,
    "start_time": "2022-02-19T10:18:34.382Z"
   },
   {
    "duration": 16,
    "start_time": "2022-02-19T10:18:35.096Z"
   },
   {
    "duration": 757,
    "start_time": "2022-02-19T10:18:35.115Z"
   },
   {
    "duration": 5,
    "start_time": "2022-02-19T10:18:35.874Z"
   },
   {
    "duration": 7,
    "start_time": "2022-02-19T10:18:35.893Z"
   },
   {
    "duration": 20,
    "start_time": "2022-02-19T10:18:35.902Z"
   },
   {
    "duration": 10,
    "start_time": "2022-02-19T10:18:35.925Z"
   },
   {
    "duration": 72,
    "start_time": "2022-02-19T10:18:35.937Z"
   },
   {
    "duration": 45,
    "start_time": "2022-02-19T10:18:36.012Z"
   },
   {
    "duration": 250,
    "start_time": "2022-02-19T10:18:36.060Z"
   },
   {
    "duration": 9,
    "start_time": "2022-02-19T10:18:36.312Z"
   },
   {
    "duration": 19,
    "start_time": "2022-02-19T10:18:36.324Z"
   },
   {
    "duration": 15,
    "start_time": "2022-02-19T10:18:36.346Z"
   },
   {
    "duration": 38,
    "start_time": "2022-02-19T10:18:36.365Z"
   },
   {
    "duration": 10,
    "start_time": "2022-02-19T10:18:36.406Z"
   },
   {
    "duration": 12,
    "start_time": "2022-02-19T10:18:36.418Z"
   },
   {
    "duration": 11,
    "start_time": "2022-02-19T10:18:36.432Z"
   },
   {
    "duration": 55,
    "start_time": "2022-02-19T10:18:36.445Z"
   },
   {
    "duration": 14,
    "start_time": "2022-02-19T10:18:36.502Z"
   },
   {
    "duration": 1344,
    "start_time": "2022-02-19T10:22:42.033Z"
   },
   {
    "duration": 47,
    "start_time": "2022-02-19T10:22:43.380Z"
   },
   {
    "duration": 17,
    "start_time": "2022-02-19T10:22:43.430Z"
   },
   {
    "duration": 10,
    "start_time": "2022-02-19T10:22:43.450Z"
   },
   {
    "duration": 7,
    "start_time": "2022-02-19T10:22:43.462Z"
   },
   {
    "duration": 28,
    "start_time": "2022-02-19T10:22:43.471Z"
   },
   {
    "duration": 30,
    "start_time": "2022-02-19T10:22:43.501Z"
   },
   {
    "duration": 11,
    "start_time": "2022-02-19T10:22:43.534Z"
   },
   {
    "duration": 62,
    "start_time": "2022-02-19T10:22:43.547Z"
   },
   {
    "duration": 3,
    "start_time": "2022-02-19T10:22:43.611Z"
   },
   {
    "duration": 10,
    "start_time": "2022-02-19T10:22:43.616Z"
   },
   {
    "duration": 8,
    "start_time": "2022-02-19T10:22:43.629Z"
   },
   {
    "duration": 13,
    "start_time": "2022-02-19T10:22:43.640Z"
   },
   {
    "duration": 41,
    "start_time": "2022-02-19T10:22:43.656Z"
   },
   {
    "duration": 19,
    "start_time": "2022-02-19T10:22:43.699Z"
   },
   {
    "duration": 19,
    "start_time": "2022-02-19T10:22:43.720Z"
   },
   {
    "duration": 15,
    "start_time": "2022-02-19T10:22:43.741Z"
   },
   {
    "duration": 4,
    "start_time": "2022-02-19T10:22:43.793Z"
   },
   {
    "duration": 15,
    "start_time": "2022-02-19T10:22:43.800Z"
   },
   {
    "duration": 12,
    "start_time": "2022-02-19T10:22:43.818Z"
   },
   {
    "duration": 33,
    "start_time": "2022-02-19T10:22:43.833Z"
   },
   {
    "duration": 771,
    "start_time": "2022-02-19T10:22:43.893Z"
   },
   {
    "duration": 22,
    "start_time": "2022-02-19T10:22:44.672Z"
   },
   {
    "duration": 904,
    "start_time": "2022-02-19T10:22:44.697Z"
   },
   {
    "duration": 699,
    "start_time": "2022-02-19T10:22:45.603Z"
   },
   {
    "duration": 10,
    "start_time": "2022-02-19T10:22:46.305Z"
   },
   {
    "duration": 745,
    "start_time": "2022-02-19T10:22:46.318Z"
   },
   {
    "duration": 6,
    "start_time": "2022-02-19T10:22:47.066Z"
   },
   {
    "duration": 21,
    "start_time": "2022-02-19T10:22:47.074Z"
   },
   {
    "duration": 715,
    "start_time": "2022-02-19T10:22:47.099Z"
   },
   {
    "duration": 12,
    "start_time": "2022-02-19T10:22:47.816Z"
   },
   {
    "duration": 827,
    "start_time": "2022-02-19T10:22:47.831Z"
   },
   {
    "duration": 209,
    "start_time": "2022-02-19T10:22:48.661Z"
   },
   {
    "duration": 754,
    "start_time": "2022-02-19T10:22:48.873Z"
   },
   {
    "duration": 23,
    "start_time": "2022-02-19T10:22:49.630Z"
   },
   {
    "duration": 790,
    "start_time": "2022-02-19T10:22:49.656Z"
   },
   {
    "duration": 4,
    "start_time": "2022-02-19T10:22:50.449Z"
   },
   {
    "duration": 15,
    "start_time": "2022-02-19T10:22:50.456Z"
   },
   {
    "duration": 20,
    "start_time": "2022-02-19T10:22:50.495Z"
   },
   {
    "duration": 10,
    "start_time": "2022-02-19T10:22:50.518Z"
   },
   {
    "duration": 72,
    "start_time": "2022-02-19T10:22:50.531Z"
   },
   {
    "duration": 48,
    "start_time": "2022-02-19T10:22:50.605Z"
   },
   {
    "duration": 254,
    "start_time": "2022-02-19T10:22:50.656Z"
   },
   {
    "duration": 10,
    "start_time": "2022-02-19T10:22:50.913Z"
   },
   {
    "duration": 12,
    "start_time": "2022-02-19T10:22:50.925Z"
   },
   {
    "duration": 20,
    "start_time": "2022-02-19T10:22:50.940Z"
   },
   {
    "duration": 13,
    "start_time": "2022-02-19T10:22:50.995Z"
   },
   {
    "duration": 38,
    "start_time": "2022-02-19T10:22:51.011Z"
   },
   {
    "duration": 26,
    "start_time": "2022-02-19T10:22:51.051Z"
   },
   {
    "duration": 12,
    "start_time": "2022-02-19T10:22:51.080Z"
   },
   {
    "duration": 15,
    "start_time": "2022-02-19T10:22:51.095Z"
   },
   {
    "duration": 26,
    "start_time": "2022-02-19T10:22:51.113Z"
   },
   {
    "duration": 3,
    "start_time": "2022-02-19T15:11:13.616Z"
   },
   {
    "duration": 284,
    "start_time": "2022-02-19T15:23:48.811Z"
   },
   {
    "duration": 1280,
    "start_time": "2022-02-19T15:24:21.652Z"
   },
   {
    "duration": 77,
    "start_time": "2022-02-19T15:24:22.934Z"
   },
   {
    "duration": 14,
    "start_time": "2022-02-19T15:24:23.014Z"
   },
   {
    "duration": 8,
    "start_time": "2022-02-19T15:24:23.030Z"
   },
   {
    "duration": 5,
    "start_time": "2022-02-19T15:24:23.040Z"
   },
   {
    "duration": 19,
    "start_time": "2022-02-19T15:24:23.046Z"
   },
   {
    "duration": 22,
    "start_time": "2022-02-19T15:24:23.067Z"
   },
   {
    "duration": 8,
    "start_time": "2022-02-19T15:24:23.091Z"
   },
   {
    "duration": 15,
    "start_time": "2022-02-19T15:24:23.133Z"
   },
   {
    "duration": 2,
    "start_time": "2022-02-19T15:24:23.150Z"
   },
   {
    "duration": 7,
    "start_time": "2022-02-19T15:24:23.154Z"
   },
   {
    "duration": 3,
    "start_time": "2022-02-19T15:24:23.163Z"
   },
   {
    "duration": 12,
    "start_time": "2022-02-19T15:24:23.168Z"
   },
   {
    "duration": 8,
    "start_time": "2022-02-19T15:24:23.182Z"
   },
   {
    "duration": 46,
    "start_time": "2022-02-19T15:24:23.192Z"
   },
   {
    "duration": 13,
    "start_time": "2022-02-19T15:24:23.240Z"
   },
   {
    "duration": 13,
    "start_time": "2022-02-19T15:24:23.255Z"
   },
   {
    "duration": 4,
    "start_time": "2022-02-19T15:24:23.270Z"
   },
   {
    "duration": 8,
    "start_time": "2022-02-19T15:24:23.276Z"
   },
   {
    "duration": 339,
    "start_time": "2022-02-19T15:24:23.286Z"
   },
   {
    "duration": -1839,
    "start_time": "2022-02-19T15:24:25.468Z"
   },
   {
    "duration": -1841,
    "start_time": "2022-02-19T15:24:25.471Z"
   },
   {
    "duration": -1852,
    "start_time": "2022-02-19T15:24:25.483Z"
   },
   {
    "duration": -1855,
    "start_time": "2022-02-19T15:24:25.487Z"
   },
   {
    "duration": -1859,
    "start_time": "2022-02-19T15:24:25.492Z"
   },
   {
    "duration": -1870,
    "start_time": "2022-02-19T15:24:25.503Z"
   },
   {
    "duration": -1874,
    "start_time": "2022-02-19T15:24:25.508Z"
   },
   {
    "duration": -1885,
    "start_time": "2022-02-19T15:24:25.520Z"
   },
   {
    "duration": -1889,
    "start_time": "2022-02-19T15:24:25.525Z"
   },
   {
    "duration": -1900,
    "start_time": "2022-02-19T15:24:25.537Z"
   },
   {
    "duration": -1904,
    "start_time": "2022-02-19T15:24:25.542Z"
   },
   {
    "duration": -1913,
    "start_time": "2022-02-19T15:24:25.553Z"
   },
   {
    "duration": -1916,
    "start_time": "2022-02-19T15:24:25.557Z"
   },
   {
    "duration": -1926,
    "start_time": "2022-02-19T15:24:25.568Z"
   },
   {
    "duration": -1930,
    "start_time": "2022-02-19T15:24:25.573Z"
   },
   {
    "duration": -1941,
    "start_time": "2022-02-19T15:24:25.585Z"
   },
   {
    "duration": -1945,
    "start_time": "2022-02-19T15:24:25.590Z"
   },
   {
    "duration": -1955,
    "start_time": "2022-02-19T15:24:25.601Z"
   },
   {
    "duration": -1958,
    "start_time": "2022-02-19T15:24:25.606Z"
   },
   {
    "duration": -1968,
    "start_time": "2022-02-19T15:24:25.617Z"
   },
   {
    "duration": -1971,
    "start_time": "2022-02-19T15:24:25.621Z"
   },
   {
    "duration": -1975,
    "start_time": "2022-02-19T15:24:25.626Z"
   },
   {
    "duration": -1985,
    "start_time": "2022-02-19T15:24:25.636Z"
   },
   {
    "duration": -1988,
    "start_time": "2022-02-19T15:24:25.641Z"
   },
   {
    "duration": -1995,
    "start_time": "2022-02-19T15:24:25.649Z"
   },
   {
    "duration": -1998,
    "start_time": "2022-02-19T15:24:25.653Z"
   },
   {
    "duration": -2002,
    "start_time": "2022-02-19T15:24:25.658Z"
   },
   {
    "duration": -2013,
    "start_time": "2022-02-19T15:24:25.670Z"
   },
   {
    "duration": -2017,
    "start_time": "2022-02-19T15:24:25.675Z"
   },
   {
    "duration": -2026,
    "start_time": "2022-02-19T15:24:25.685Z"
   },
   {
    "duration": -2030,
    "start_time": "2022-02-19T15:24:25.690Z"
   },
   {
    "duration": -2039,
    "start_time": "2022-02-19T15:24:25.700Z"
   },
   {
    "duration": -2042,
    "start_time": "2022-02-19T15:24:25.704Z"
   },
   {
    "duration": -2046,
    "start_time": "2022-02-19T15:24:25.709Z"
   },
   {
    "duration": 5,
    "start_time": "2022-02-19T15:24:51.331Z"
   },
   {
    "duration": 6,
    "start_time": "2022-02-19T15:25:02.455Z"
   },
   {
    "duration": 287,
    "start_time": "2022-02-19T15:28:05.782Z"
   },
   {
    "duration": 5,
    "start_time": "2022-02-19T15:28:07.433Z"
   },
   {
    "duration": 83,
    "start_time": "2022-02-19T15:28:07.833Z"
   },
   {
    "duration": 264,
    "start_time": "2022-02-19T15:28:17.662Z"
   },
   {
    "duration": 257,
    "start_time": "2022-02-19T15:28:46.429Z"
   },
   {
    "duration": 264,
    "start_time": "2022-02-19T15:29:33.007Z"
   },
   {
    "duration": 6,
    "start_time": "2022-02-19T15:29:37.957Z"
   },
   {
    "duration": 253,
    "start_time": "2022-02-19T15:29:39.040Z"
   },
   {
    "duration": 241,
    "start_time": "2022-02-19T15:30:22.243Z"
   },
   {
    "duration": 6,
    "start_time": "2022-02-19T15:30:26.036Z"
   },
   {
    "duration": 6,
    "start_time": "2022-02-19T15:30:30.630Z"
   },
   {
    "duration": 260,
    "start_time": "2022-02-19T15:30:31.814Z"
   },
   {
    "duration": 6,
    "start_time": "2022-02-19T15:34:06.229Z"
   },
   {
    "duration": 9,
    "start_time": "2022-02-19T15:35:00.307Z"
   },
   {
    "duration": 1123,
    "start_time": "2022-02-19T15:35:10.506Z"
   },
   {
    "duration": 797,
    "start_time": "2022-02-19T15:35:44.611Z"
   },
   {
    "duration": 1138,
    "start_time": "2022-02-19T15:35:50.867Z"
   },
   {
    "duration": 668,
    "start_time": "2022-02-19T15:35:57.806Z"
   },
   {
    "duration": 1652,
    "start_time": "2022-02-19T15:36:15.364Z"
   },
   {
    "duration": 252,
    "start_time": "2022-02-19T15:36:20.947Z"
   },
   {
    "duration": 699,
    "start_time": "2022-02-19T15:36:28.923Z"
   },
   {
    "duration": 288,
    "start_time": "2022-02-19T15:37:17.859Z"
   },
   {
    "duration": 258,
    "start_time": "2022-02-19T15:37:38.844Z"
   },
   {
    "duration": 264,
    "start_time": "2022-02-19T15:37:44.723Z"
   },
   {
    "duration": 5,
    "start_time": "2022-02-19T15:37:58.142Z"
   },
   {
    "duration": 5,
    "start_time": "2022-02-19T15:38:10.883Z"
   },
   {
    "duration": 269,
    "start_time": "2022-02-19T15:38:31.739Z"
   },
   {
    "duration": 310,
    "start_time": "2022-02-19T15:39:45.656Z"
   },
   {
    "duration": 862,
    "start_time": "2022-02-19T15:42:27.026Z"
   },
   {
    "duration": 7,
    "start_time": "2022-02-19T15:42:32.941Z"
   },
   {
    "duration": 833,
    "start_time": "2022-02-19T15:42:49.135Z"
   },
   {
    "duration": 6,
    "start_time": "2022-02-19T15:42:50.580Z"
   },
   {
    "duration": 943,
    "start_time": "2022-02-19T15:42:57.365Z"
   },
   {
    "duration": 130,
    "start_time": "2022-02-19T15:43:53.093Z"
   },
   {
    "duration": 684,
    "start_time": "2022-02-19T15:43:56.838Z"
   },
   {
    "duration": 8,
    "start_time": "2022-02-19T15:43:59.728Z"
   },
   {
    "duration": 1065,
    "start_time": "2022-02-19T15:44:10.921Z"
   },
   {
    "duration": 94,
    "start_time": "2022-02-19T15:44:11.988Z"
   },
   {
    "duration": 10,
    "start_time": "2022-02-19T15:44:12.084Z"
   },
   {
    "duration": 7,
    "start_time": "2022-02-19T15:44:12.096Z"
   },
   {
    "duration": 5,
    "start_time": "2022-02-19T15:44:12.104Z"
   },
   {
    "duration": 14,
    "start_time": "2022-02-19T15:44:12.111Z"
   },
   {
    "duration": 17,
    "start_time": "2022-02-19T15:44:12.126Z"
   },
   {
    "duration": 6,
    "start_time": "2022-02-19T15:44:12.145Z"
   },
   {
    "duration": 16,
    "start_time": "2022-02-19T15:44:12.153Z"
   },
   {
    "duration": 2,
    "start_time": "2022-02-19T15:44:12.170Z"
   },
   {
    "duration": 6,
    "start_time": "2022-02-19T15:44:12.173Z"
   },
   {
    "duration": 15,
    "start_time": "2022-02-19T15:44:12.181Z"
   },
   {
    "duration": 15,
    "start_time": "2022-02-19T15:44:12.197Z"
   },
   {
    "duration": 20,
    "start_time": "2022-02-19T15:44:12.213Z"
   },
   {
    "duration": 12,
    "start_time": "2022-02-19T15:44:12.234Z"
   },
   {
    "duration": 13,
    "start_time": "2022-02-19T15:44:12.248Z"
   },
   {
    "duration": 12,
    "start_time": "2022-02-19T15:44:12.263Z"
   },
   {
    "duration": 9,
    "start_time": "2022-02-19T15:44:12.276Z"
   },
   {
    "duration": 15,
    "start_time": "2022-02-19T15:44:12.286Z"
   },
   {
    "duration": 680,
    "start_time": "2022-02-19T15:44:12.302Z"
   },
   {
    "duration": 7,
    "start_time": "2022-02-19T15:44:12.984Z"
   },
   {
    "duration": 319,
    "start_time": "2022-02-19T15:44:12.993Z"
   },
   {
    "duration": -1579,
    "start_time": "2022-02-19T15:44:14.894Z"
   },
   {
    "duration": -1603,
    "start_time": "2022-02-19T15:44:14.920Z"
   },
   {
    "duration": -1607,
    "start_time": "2022-02-19T15:44:14.925Z"
   },
   {
    "duration": -1609,
    "start_time": "2022-02-19T15:44:14.928Z"
   },
   {
    "duration": -1612,
    "start_time": "2022-02-19T15:44:14.932Z"
   },
   {
    "duration": -1614,
    "start_time": "2022-02-19T15:44:14.936Z"
   },
   {
    "duration": -1616,
    "start_time": "2022-02-19T15:44:14.939Z"
   },
   {
    "duration": -1619,
    "start_time": "2022-02-19T15:44:14.943Z"
   },
   {
    "duration": -1621,
    "start_time": "2022-02-19T15:44:14.946Z"
   },
   {
    "duration": -1623,
    "start_time": "2022-02-19T15:44:14.949Z"
   },
   {
    "duration": -1626,
    "start_time": "2022-02-19T15:44:14.953Z"
   },
   {
    "duration": -1628,
    "start_time": "2022-02-19T15:44:14.956Z"
   },
   {
    "duration": -1631,
    "start_time": "2022-02-19T15:44:14.960Z"
   },
   {
    "duration": -1634,
    "start_time": "2022-02-19T15:44:14.964Z"
   },
   {
    "duration": -1635,
    "start_time": "2022-02-19T15:44:14.967Z"
   },
   {
    "duration": -1638,
    "start_time": "2022-02-19T15:44:14.971Z"
   },
   {
    "duration": -1649,
    "start_time": "2022-02-19T15:44:14.982Z"
   },
   {
    "duration": -1652,
    "start_time": "2022-02-19T15:44:14.986Z"
   },
   {
    "duration": -1654,
    "start_time": "2022-02-19T15:44:14.989Z"
   },
   {
    "duration": -1658,
    "start_time": "2022-02-19T15:44:14.993Z"
   },
   {
    "duration": -1661,
    "start_time": "2022-02-19T15:44:14.997Z"
   },
   {
    "duration": -1665,
    "start_time": "2022-02-19T15:44:15.002Z"
   },
   {
    "duration": -1668,
    "start_time": "2022-02-19T15:44:15.006Z"
   },
   {
    "duration": -1671,
    "start_time": "2022-02-19T15:44:15.009Z"
   },
   {
    "duration": -1674,
    "start_time": "2022-02-19T15:44:15.013Z"
   },
   {
    "duration": -1676,
    "start_time": "2022-02-19T15:44:15.016Z"
   },
   {
    "duration": -1679,
    "start_time": "2022-02-19T15:44:15.020Z"
   },
   {
    "duration": -1682,
    "start_time": "2022-02-19T15:44:15.023Z"
   },
   {
    "duration": -1685,
    "start_time": "2022-02-19T15:44:15.027Z"
   },
   {
    "duration": -1687,
    "start_time": "2022-02-19T15:44:15.030Z"
   },
   {
    "duration": -1691,
    "start_time": "2022-02-19T15:44:15.034Z"
   },
   {
    "duration": -1693,
    "start_time": "2022-02-19T15:44:15.037Z"
   },
   {
    "duration": -1696,
    "start_time": "2022-02-19T15:44:15.041Z"
   },
   {
    "duration": -1699,
    "start_time": "2022-02-19T15:44:15.044Z"
   },
   {
    "duration": 666,
    "start_time": "2022-02-19T16:07:32.949Z"
   },
   {
    "duration": 3,
    "start_time": "2022-02-19T16:07:33.882Z"
   },
   {
    "duration": 3,
    "start_time": "2022-02-19T16:07:39.815Z"
   },
   {
    "duration": 857,
    "start_time": "2022-02-19T16:07:50.910Z"
   },
   {
    "duration": 1048,
    "start_time": "2022-02-19T16:07:53.965Z"
   },
   {
    "duration": 9,
    "start_time": "2022-02-19T16:07:55.015Z"
   },
   {
    "duration": 1221,
    "start_time": "2022-02-19T16:08:03.751Z"
   },
   {
    "duration": 76,
    "start_time": "2022-02-19T16:08:04.975Z"
   },
   {
    "duration": 11,
    "start_time": "2022-02-19T16:08:05.053Z"
   },
   {
    "duration": 8,
    "start_time": "2022-02-19T16:08:05.067Z"
   },
   {
    "duration": 7,
    "start_time": "2022-02-19T16:08:05.077Z"
   },
   {
    "duration": 27,
    "start_time": "2022-02-19T16:08:05.086Z"
   },
   {
    "duration": 28,
    "start_time": "2022-02-19T16:08:05.115Z"
   },
   {
    "duration": 9,
    "start_time": "2022-02-19T16:08:05.146Z"
   },
   {
    "duration": 30,
    "start_time": "2022-02-19T16:08:05.157Z"
   },
   {
    "duration": 6,
    "start_time": "2022-02-19T16:08:05.189Z"
   },
   {
    "duration": 17,
    "start_time": "2022-02-19T16:08:05.196Z"
   },
   {
    "duration": 9,
    "start_time": "2022-02-19T16:08:05.215Z"
   },
   {
    "duration": 21,
    "start_time": "2022-02-19T16:08:05.226Z"
   },
   {
    "duration": 15,
    "start_time": "2022-02-19T16:08:05.249Z"
   },
   {
    "duration": 23,
    "start_time": "2022-02-19T16:08:05.266Z"
   },
   {
    "duration": 24,
    "start_time": "2022-02-19T16:08:05.291Z"
   },
   {
    "duration": 14,
    "start_time": "2022-02-19T16:08:05.316Z"
   },
   {
    "duration": 18,
    "start_time": "2022-02-19T16:08:05.332Z"
   },
   {
    "duration": 23,
    "start_time": "2022-02-19T16:08:05.352Z"
   },
   {
    "duration": 818,
    "start_time": "2022-02-19T16:08:05.376Z"
   },
   {
    "duration": 7,
    "start_time": "2022-02-19T16:08:06.196Z"
   },
   {
    "duration": 338,
    "start_time": "2022-02-19T16:08:06.205Z"
   },
   {
    "duration": -1610,
    "start_time": "2022-02-19T16:08:08.156Z"
   },
   {
    "duration": -1613,
    "start_time": "2022-02-19T16:08:08.160Z"
   },
   {
    "duration": -1623,
    "start_time": "2022-02-19T16:08:08.171Z"
   },
   {
    "duration": -1626,
    "start_time": "2022-02-19T16:08:08.175Z"
   },
   {
    "duration": -1629,
    "start_time": "2022-02-19T16:08:08.179Z"
   },
   {
    "duration": -1642,
    "start_time": "2022-02-19T16:08:08.193Z"
   },
   {
    "duration": -1652,
    "start_time": "2022-02-19T16:08:08.204Z"
   },
   {
    "duration": -1657,
    "start_time": "2022-02-19T16:08:08.209Z"
   },
   {
    "duration": -1660,
    "start_time": "2022-02-19T16:08:08.213Z"
   },
   {
    "duration": -1674,
    "start_time": "2022-02-19T16:08:08.228Z"
   },
   {
    "duration": -1685,
    "start_time": "2022-02-19T16:08:08.240Z"
   },
   {
    "duration": -1689,
    "start_time": "2022-02-19T16:08:08.245Z"
   },
   {
    "duration": -1698,
    "start_time": "2022-02-19T16:08:08.256Z"
   },
   {
    "duration": -1701,
    "start_time": "2022-02-19T16:08:08.260Z"
   },
   {
    "duration": -1709,
    "start_time": "2022-02-19T16:08:08.269Z"
   },
   {
    "duration": -1712,
    "start_time": "2022-02-19T16:08:08.273Z"
   },
   {
    "duration": -1715,
    "start_time": "2022-02-19T16:08:08.276Z"
   },
   {
    "duration": -1724,
    "start_time": "2022-02-19T16:08:08.286Z"
   },
   {
    "duration": -1726,
    "start_time": "2022-02-19T16:08:08.290Z"
   },
   {
    "duration": -1731,
    "start_time": "2022-02-19T16:08:08.295Z"
   },
   {
    "duration": -1743,
    "start_time": "2022-02-19T16:08:08.308Z"
   },
   {
    "duration": -1747,
    "start_time": "2022-02-19T16:08:08.313Z"
   },
   {
    "duration": -1757,
    "start_time": "2022-02-19T16:08:08.324Z"
   },
   {
    "duration": -1760,
    "start_time": "2022-02-19T16:08:08.328Z"
   },
   {
    "duration": -1768,
    "start_time": "2022-02-19T16:08:08.338Z"
   },
   {
    "duration": -1772,
    "start_time": "2022-02-19T16:08:08.343Z"
   },
   {
    "duration": -1783,
    "start_time": "2022-02-19T16:08:08.355Z"
   },
   {
    "duration": -1787,
    "start_time": "2022-02-19T16:08:08.360Z"
   },
   {
    "duration": -1797,
    "start_time": "2022-02-19T16:08:08.371Z"
   },
   {
    "duration": -1800,
    "start_time": "2022-02-19T16:08:08.375Z"
   },
   {
    "duration": -1803,
    "start_time": "2022-02-19T16:08:08.379Z"
   },
   {
    "duration": -1812,
    "start_time": "2022-02-19T16:08:08.390Z"
   },
   {
    "duration": -1815,
    "start_time": "2022-02-19T16:08:08.394Z"
   },
   {
    "duration": -1825,
    "start_time": "2022-02-19T16:08:08.405Z"
   },
   {
    "duration": 975,
    "start_time": "2022-02-19T16:08:21.709Z"
   },
   {
    "duration": 18,
    "start_time": "2022-02-19T16:08:22.687Z"
   },
   {
    "duration": 711,
    "start_time": "2022-02-19T16:08:51.884Z"
   },
   {
    "duration": 41,
    "start_time": "2022-02-19T16:08:52.597Z"
   },
   {
    "duration": 267,
    "start_time": "2022-02-19T16:09:16.662Z"
   },
   {
    "duration": 14,
    "start_time": "2022-02-19T16:12:02.361Z"
   },
   {
    "duration": 16,
    "start_time": "2022-02-19T16:12:11.429Z"
   },
   {
    "duration": 10,
    "start_time": "2022-02-19T16:12:15.123Z"
   },
   {
    "duration": 20,
    "start_time": "2022-02-19T16:12:39.495Z"
   },
   {
    "duration": 159,
    "start_time": "2022-02-19T16:13:44.377Z"
   },
   {
    "duration": 6,
    "start_time": "2022-02-19T16:13:47.116Z"
   },
   {
    "duration": 420,
    "start_time": "2022-02-19T16:15:01.644Z"
   },
   {
    "duration": 156,
    "start_time": "2022-02-19T16:15:22.482Z"
   },
   {
    "duration": 9,
    "start_time": "2022-02-19T16:15:26.358Z"
   },
   {
    "duration": 4,
    "start_time": "2022-02-19T16:15:32.274Z"
   },
   {
    "duration": 10,
    "start_time": "2022-02-19T16:15:38.464Z"
   },
   {
    "duration": 6,
    "start_time": "2022-02-19T16:15:44.529Z"
   },
   {
    "duration": -1611,
    "start_time": "2022-02-19T16:16:00.749Z"
   },
   {
    "duration": 1049,
    "start_time": "2022-02-19T16:16:02.640Z"
   },
   {
    "duration": 131,
    "start_time": "2022-02-19T16:16:03.691Z"
   },
   {
    "duration": 13,
    "start_time": "2022-02-19T16:16:03.824Z"
   },
   {
    "duration": 8,
    "start_time": "2022-02-19T16:16:03.839Z"
   },
   {
    "duration": 5,
    "start_time": "2022-02-19T16:16:03.849Z"
   },
   {
    "duration": 12,
    "start_time": "2022-02-19T16:16:03.855Z"
   },
   {
    "duration": 15,
    "start_time": "2022-02-19T16:16:03.869Z"
   },
   {
    "duration": 8,
    "start_time": "2022-02-19T16:16:03.886Z"
   },
   {
    "duration": 44,
    "start_time": "2022-02-19T16:16:03.896Z"
   },
   {
    "duration": 2,
    "start_time": "2022-02-19T16:16:03.942Z"
   },
   {
    "duration": 4,
    "start_time": "2022-02-19T16:16:03.945Z"
   },
   {
    "duration": 7,
    "start_time": "2022-02-19T16:16:03.951Z"
   },
   {
    "duration": 15,
    "start_time": "2022-02-19T16:16:03.959Z"
   },
   {
    "duration": 10,
    "start_time": "2022-02-19T16:16:03.975Z"
   },
   {
    "duration": 16,
    "start_time": "2022-02-19T16:16:03.986Z"
   },
   {
    "duration": 10,
    "start_time": "2022-02-19T16:16:04.003Z"
   },
   {
    "duration": 24,
    "start_time": "2022-02-19T16:16:04.015Z"
   },
   {
    "duration": 5,
    "start_time": "2022-02-19T16:16:04.041Z"
   },
   {
    "duration": 11,
    "start_time": "2022-02-19T16:16:04.048Z"
   },
   {
    "duration": 174,
    "start_time": "2022-02-19T16:16:04.060Z"
   },
   {
    "duration": 9,
    "start_time": "2022-02-19T16:16:04.236Z"
   },
   {
    "duration": 10,
    "start_time": "2022-02-19T16:16:04.246Z"
   },
   {
    "duration": 4,
    "start_time": "2022-02-19T16:16:04.259Z"
   },
   {
    "duration": 15,
    "start_time": "2022-02-19T16:16:04.265Z"
   },
   {
    "duration": 360,
    "start_time": "2022-02-19T16:16:04.282Z"
   },
   {
    "duration": 7,
    "start_time": "2022-02-19T16:16:04.644Z"
   },
   {
    "duration": 480,
    "start_time": "2022-02-19T16:16:04.652Z"
   },
   {
    "duration": 370,
    "start_time": "2022-02-19T16:16:05.134Z"
   },
   {
    "duration": 5,
    "start_time": "2022-02-19T16:16:05.506Z"
   },
   {
    "duration": 483,
    "start_time": "2022-02-19T16:16:05.513Z"
   },
   {
    "duration": 5,
    "start_time": "2022-02-19T16:16:05.998Z"
   },
   {
    "duration": 11,
    "start_time": "2022-02-19T16:16:06.005Z"
   },
   {
    "duration": 393,
    "start_time": "2022-02-19T16:16:06.017Z"
   },
   {
    "duration": 8,
    "start_time": "2022-02-19T16:16:06.411Z"
   },
   {
    "duration": 483,
    "start_time": "2022-02-19T16:16:06.420Z"
   },
   {
    "duration": 103,
    "start_time": "2022-02-19T16:16:06.905Z"
   },
   {
    "duration": 469,
    "start_time": "2022-02-19T16:16:07.010Z"
   },
   {
    "duration": 11,
    "start_time": "2022-02-19T16:16:07.481Z"
   },
   {
    "duration": 532,
    "start_time": "2022-02-19T16:16:07.493Z"
   },
   {
    "duration": 6,
    "start_time": "2022-02-19T16:16:08.027Z"
   },
   {
    "duration": 6,
    "start_time": "2022-02-19T16:16:08.034Z"
   },
   {
    "duration": 10,
    "start_time": "2022-02-19T16:16:08.042Z"
   },
   {
    "duration": 7,
    "start_time": "2022-02-19T16:16:08.054Z"
   },
   {
    "duration": 22,
    "start_time": "2022-02-19T16:16:08.062Z"
   },
   {
    "duration": 55,
    "start_time": "2022-02-19T16:16:08.086Z"
   },
   {
    "duration": 130,
    "start_time": "2022-02-19T16:16:08.142Z"
   },
   {
    "duration": 6,
    "start_time": "2022-02-19T16:16:08.273Z"
   },
   {
    "duration": 7,
    "start_time": "2022-02-19T16:16:08.280Z"
   },
   {
    "duration": 9,
    "start_time": "2022-02-19T16:16:08.289Z"
   },
   {
    "duration": 33,
    "start_time": "2022-02-19T16:16:08.299Z"
   },
   {
    "duration": 6,
    "start_time": "2022-02-19T16:16:08.334Z"
   },
   {
    "duration": 7,
    "start_time": "2022-02-19T16:16:08.341Z"
   },
   {
    "duration": 5,
    "start_time": "2022-02-19T16:16:08.350Z"
   },
   {
    "duration": 8,
    "start_time": "2022-02-19T16:16:08.357Z"
   },
   {
    "duration": 15,
    "start_time": "2022-02-19T16:16:08.366Z"
   },
   {
    "duration": 340,
    "start_time": "2022-02-19T16:17:15.748Z"
   },
   {
    "duration": 263,
    "start_time": "2022-02-19T16:17:21.948Z"
   },
   {
    "duration": 4751,
    "start_time": "2022-02-19T16:18:04.966Z"
   },
   {
    "duration": 9,
    "start_time": "2022-02-19T16:18:14.754Z"
   },
   {
    "duration": 6304,
    "start_time": "2022-02-19T16:18:51.366Z"
   },
   {
    "duration": 4,
    "start_time": "2022-02-19T16:19:34.235Z"
   },
   {
    "duration": 18,
    "start_time": "2022-02-19T16:20:04.150Z"
   },
   {
    "duration": 7,
    "start_time": "2022-02-19T16:20:11.964Z"
   },
   {
    "duration": 6,
    "start_time": "2022-02-19T16:20:21.421Z"
   },
   {
    "duration": -1736,
    "start_time": "2022-02-19T16:20:35.823Z"
   },
   {
    "duration": 6,
    "start_time": "2022-02-19T16:20:52.997Z"
   },
   {
    "duration": 262,
    "start_time": "2022-02-19T16:23:02.516Z"
   },
   {
    "duration": 271,
    "start_time": "2022-02-19T16:23:25.337Z"
   },
   {
    "duration": 13,
    "start_time": "2022-02-19T16:23:32.374Z"
   },
   {
    "duration": 78,
    "start_time": "2022-02-19T16:24:00.850Z"
   },
   {
    "duration": 11,
    "start_time": "2022-02-19T16:24:01.091Z"
   },
   {
    "duration": 83,
    "start_time": "2022-02-19T16:24:31.147Z"
   },
   {
    "duration": 81,
    "start_time": "2022-02-19T16:26:43.146Z"
   },
   {
    "duration": 93,
    "start_time": "2022-02-19T16:30:59.281Z"
   },
   {
    "duration": 84,
    "start_time": "2022-02-19T16:31:26.846Z"
   },
   {
    "duration": 1344,
    "start_time": "2022-02-19T16:31:58.169Z"
   },
   {
    "duration": 163,
    "start_time": "2022-02-19T16:31:59.515Z"
   },
   {
    "duration": 11,
    "start_time": "2022-02-19T16:31:59.680Z"
   },
   {
    "duration": 7,
    "start_time": "2022-02-19T16:31:59.694Z"
   },
   {
    "duration": 5,
    "start_time": "2022-02-19T16:31:59.703Z"
   },
   {
    "duration": 16,
    "start_time": "2022-02-19T16:31:59.710Z"
   },
   {
    "duration": 18,
    "start_time": "2022-02-19T16:31:59.728Z"
   },
   {
    "duration": 7,
    "start_time": "2022-02-19T16:31:59.749Z"
   },
   {
    "duration": 16,
    "start_time": "2022-02-19T16:31:59.758Z"
   },
   {
    "duration": 3,
    "start_time": "2022-02-19T16:31:59.776Z"
   },
   {
    "duration": 7,
    "start_time": "2022-02-19T16:31:59.780Z"
   },
   {
    "duration": 8,
    "start_time": "2022-02-19T16:31:59.788Z"
   },
   {
    "duration": 17,
    "start_time": "2022-02-19T16:31:59.797Z"
   },
   {
    "duration": 19,
    "start_time": "2022-02-19T16:31:59.816Z"
   },
   {
    "duration": 13,
    "start_time": "2022-02-19T16:31:59.836Z"
   },
   {
    "duration": 15,
    "start_time": "2022-02-19T16:31:59.850Z"
   },
   {
    "duration": 13,
    "start_time": "2022-02-19T16:31:59.866Z"
   },
   {
    "duration": 7,
    "start_time": "2022-02-19T16:31:59.881Z"
   },
   {
    "duration": 14,
    "start_time": "2022-02-19T16:31:59.890Z"
   },
   {
    "duration": 194,
    "start_time": "2022-02-19T16:31:59.906Z"
   },
   {
    "duration": 15,
    "start_time": "2022-02-19T16:32:00.102Z"
   },
   {
    "duration": 17,
    "start_time": "2022-02-19T16:32:00.119Z"
   },
   {
    "duration": 5,
    "start_time": "2022-02-19T16:32:00.139Z"
   },
   {
    "duration": 22,
    "start_time": "2022-02-19T16:32:00.146Z"
   },
   {
    "duration": 344,
    "start_time": "2022-02-19T16:32:00.170Z"
   },
   {
    "duration": 6,
    "start_time": "2022-02-19T16:32:00.516Z"
   },
   {
    "duration": 541,
    "start_time": "2022-02-19T16:32:00.531Z"
   },
   {
    "duration": 383,
    "start_time": "2022-02-19T16:32:01.073Z"
   },
   {
    "duration": 17,
    "start_time": "2022-02-19T16:32:01.457Z"
   },
   {
    "duration": 447,
    "start_time": "2022-02-19T16:32:01.475Z"
   },
   {
    "duration": 4,
    "start_time": "2022-02-19T16:32:01.931Z"
   },
   {
    "duration": 9,
    "start_time": "2022-02-19T16:32:01.936Z"
   },
   {
    "duration": 401,
    "start_time": "2022-02-19T16:32:01.947Z"
   },
   {
    "duration": 7,
    "start_time": "2022-02-19T16:32:02.350Z"
   },
   {
    "duration": 473,
    "start_time": "2022-02-19T16:32:02.359Z"
   },
   {
    "duration": 114,
    "start_time": "2022-02-19T16:32:02.833Z"
   },
   {
    "duration": 432,
    "start_time": "2022-02-19T16:32:02.948Z"
   },
   {
    "duration": 10,
    "start_time": "2022-02-19T16:32:03.382Z"
   },
   {
    "duration": 505,
    "start_time": "2022-02-19T16:32:03.393Z"
   },
   {
    "duration": 3,
    "start_time": "2022-02-19T16:32:03.899Z"
   },
   {
    "duration": 6,
    "start_time": "2022-02-19T16:32:03.904Z"
   },
   {
    "duration": 27,
    "start_time": "2022-02-19T16:32:03.911Z"
   },
   {
    "duration": 3,
    "start_time": "2022-02-19T16:32:03.939Z"
   },
   {
    "duration": 20,
    "start_time": "2022-02-19T16:32:03.943Z"
   },
   {
    "duration": 24,
    "start_time": "2022-02-19T16:32:03.965Z"
   },
   {
    "duration": 113,
    "start_time": "2022-02-19T16:32:03.991Z"
   },
   {
    "duration": 5,
    "start_time": "2022-02-19T16:32:04.106Z"
   },
   {
    "duration": 18,
    "start_time": "2022-02-19T16:32:04.113Z"
   },
   {
    "duration": 9,
    "start_time": "2022-02-19T16:32:04.133Z"
   },
   {
    "duration": 7,
    "start_time": "2022-02-19T16:32:04.144Z"
   },
   {
    "duration": 5,
    "start_time": "2022-02-19T16:32:04.153Z"
   },
   {
    "duration": 8,
    "start_time": "2022-02-19T16:32:04.159Z"
   },
   {
    "duration": 7,
    "start_time": "2022-02-19T16:32:04.168Z"
   },
   {
    "duration": 9,
    "start_time": "2022-02-19T16:32:04.176Z"
   },
   {
    "duration": 48,
    "start_time": "2022-02-19T16:32:04.187Z"
   },
   {
    "duration": 163,
    "start_time": "2022-02-19T16:33:39.305Z"
   },
   {
    "duration": 15,
    "start_time": "2022-02-19T16:33:39.559Z"
   },
   {
    "duration": 9,
    "start_time": "2022-02-19T16:33:40.673Z"
   },
   {
    "duration": 1114,
    "start_time": "2022-02-20T07:24:15.506Z"
   },
   {
    "duration": 35,
    "start_time": "2022-02-20T07:24:16.622Z"
   },
   {
    "duration": 12,
    "start_time": "2022-02-20T07:24:16.659Z"
   },
   {
    "duration": 8,
    "start_time": "2022-02-20T07:24:16.673Z"
   },
   {
    "duration": 12,
    "start_time": "2022-02-20T07:24:16.683Z"
   },
   {
    "duration": 15,
    "start_time": "2022-02-20T07:24:16.697Z"
   },
   {
    "duration": 20,
    "start_time": "2022-02-20T07:24:16.714Z"
   },
   {
    "duration": 9,
    "start_time": "2022-02-20T07:24:16.737Z"
   },
   {
    "duration": 16,
    "start_time": "2022-02-20T07:24:16.748Z"
   },
   {
    "duration": 2,
    "start_time": "2022-02-20T07:24:16.765Z"
   },
   {
    "duration": 15,
    "start_time": "2022-02-20T07:24:16.769Z"
   },
   {
    "duration": 9,
    "start_time": "2022-02-20T07:24:16.785Z"
   },
   {
    "duration": 33,
    "start_time": "2022-02-20T07:24:16.795Z"
   },
   {
    "duration": 7,
    "start_time": "2022-02-20T07:24:16.830Z"
   },
   {
    "duration": 16,
    "start_time": "2022-02-20T07:24:16.839Z"
   },
   {
    "duration": 11,
    "start_time": "2022-02-20T07:24:16.857Z"
   },
   {
    "duration": 14,
    "start_time": "2022-02-20T07:24:16.870Z"
   },
   {
    "duration": 6,
    "start_time": "2022-02-20T07:24:16.885Z"
   },
   {
    "duration": 7,
    "start_time": "2022-02-20T07:24:16.919Z"
   },
   {
    "duration": 190,
    "start_time": "2022-02-20T07:24:16.928Z"
   },
   {
    "duration": 15,
    "start_time": "2022-02-20T07:24:17.120Z"
   },
   {
    "duration": 14,
    "start_time": "2022-02-20T07:24:17.137Z"
   },
   {
    "duration": 5,
    "start_time": "2022-02-20T07:24:17.155Z"
   },
   {
    "duration": 19,
    "start_time": "2022-02-20T07:24:17.162Z"
   },
   {
    "duration": 413,
    "start_time": "2022-02-20T07:24:17.183Z"
   },
   {
    "duration": 7,
    "start_time": "2022-02-20T07:24:17.598Z"
   },
   {
    "duration": 752,
    "start_time": "2022-02-20T07:24:17.606Z"
   },
   {
    "duration": 445,
    "start_time": "2022-02-20T07:24:18.361Z"
   },
   {
    "duration": 12,
    "start_time": "2022-02-20T07:24:18.808Z"
   },
   {
    "duration": 537,
    "start_time": "2022-02-20T07:24:18.822Z"
   },
   {
    "duration": 4,
    "start_time": "2022-02-20T07:24:19.361Z"
   },
   {
    "duration": 11,
    "start_time": "2022-02-20T07:24:19.367Z"
   },
   {
    "duration": 692,
    "start_time": "2022-02-20T07:24:19.380Z"
   },
   {
    "duration": 8,
    "start_time": "2022-02-20T07:24:20.074Z"
   },
   {
    "duration": 564,
    "start_time": "2022-02-20T07:24:20.085Z"
   },
   {
    "duration": 123,
    "start_time": "2022-02-20T07:24:20.651Z"
   },
   {
    "duration": 502,
    "start_time": "2022-02-20T07:24:20.776Z"
   },
   {
    "duration": 13,
    "start_time": "2022-02-20T07:24:21.280Z"
   },
   {
    "duration": 564,
    "start_time": "2022-02-20T07:24:21.295Z"
   },
   {
    "duration": 5,
    "start_time": "2022-02-20T07:24:21.861Z"
   },
   {
    "duration": 28,
    "start_time": "2022-02-20T07:24:21.868Z"
   },
   {
    "duration": 31,
    "start_time": "2022-02-20T07:24:21.898Z"
   },
   {
    "duration": 12,
    "start_time": "2022-02-20T07:24:21.931Z"
   },
   {
    "duration": 37,
    "start_time": "2022-02-20T07:24:21.945Z"
   },
   {
    "duration": 38,
    "start_time": "2022-02-20T07:24:21.984Z"
   },
   {
    "duration": 129,
    "start_time": "2022-02-20T07:24:22.024Z"
   },
   {
    "duration": 6,
    "start_time": "2022-02-20T07:24:22.155Z"
   },
   {
    "duration": 9,
    "start_time": "2022-02-20T07:24:22.163Z"
   },
   {
    "duration": 16,
    "start_time": "2022-02-20T07:24:22.174Z"
   },
   {
    "duration": 33,
    "start_time": "2022-02-20T07:24:22.192Z"
   },
   {
    "duration": 18,
    "start_time": "2022-02-20T07:24:22.227Z"
   },
   {
    "duration": 18,
    "start_time": "2022-02-20T07:24:22.247Z"
   },
   {
    "duration": 16,
    "start_time": "2022-02-20T07:24:22.266Z"
   },
   {
    "duration": 29,
    "start_time": "2022-02-20T07:24:22.284Z"
   },
   {
    "duration": 26,
    "start_time": "2022-02-20T07:24:22.314Z"
   },
   {
    "duration": 5,
    "start_time": "2022-02-20T07:25:04.835Z"
   },
   {
    "duration": 4,
    "start_time": "2022-02-20T07:25:09.770Z"
   },
   {
    "duration": 14,
    "start_time": "2022-02-20T07:25:30.066Z"
   },
   {
    "duration": 339,
    "start_time": "2022-02-20T07:26:33.641Z"
   },
   {
    "duration": 9,
    "start_time": "2022-02-20T07:27:02.645Z"
   },
   {
    "duration": 14,
    "start_time": "2022-02-20T07:27:03.653Z"
   },
   {
    "duration": 5,
    "start_time": "2022-02-20T07:27:08.246Z"
   },
   {
    "duration": 4,
    "start_time": "2022-02-20T07:27:15.514Z"
   },
   {
    "duration": 178,
    "start_time": "2022-02-20T07:28:06.193Z"
   },
   {
    "duration": 8,
    "start_time": "2022-02-20T07:28:11.385Z"
   },
   {
    "duration": 12,
    "start_time": "2022-02-20T07:28:56.042Z"
   },
   {
    "duration": 15,
    "start_time": "2022-02-20T07:29:09.143Z"
   }
  ],
  "kernelspec": {
   "display_name": "Python 3 (ipykernel)",
   "language": "python",
   "name": "python3"
  },
  "language_info": {
   "codemirror_mode": {
    "name": "ipython",
    "version": 3
   },
   "file_extension": ".py",
   "mimetype": "text/x-python",
   "name": "python",
   "nbconvert_exporter": "python",
   "pygments_lexer": "ipython3",
   "version": "3.9.5"
  },
  "toc": {
   "base_numbering": 1,
   "nav_menu": {},
   "number_sections": true,
   "sideBar": true,
   "skip_h1_title": true,
   "title_cell": "Table of Contents",
   "title_sidebar": "Contents",
   "toc_cell": false,
   "toc_position": {},
   "toc_section_display": true,
   "toc_window_display": false
  }
 },
 "nbformat": 4,
 "nbformat_minor": 2
}
